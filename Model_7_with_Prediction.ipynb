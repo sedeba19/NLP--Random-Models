{
 "cells": [
  {
   "cell_type": "code",
   "execution_count": 1,
   "outputs": [
    {
     "data": {
      "text/plain": "'2.13.0'"
     },
     "execution_count": 1,
     "metadata": {},
     "output_type": "execute_result"
    }
   ],
   "source": [
    "import os\n",
    "import tensorflow as tf\n",
    "import pandas as pd\n",
    "import collections\n",
    "\n",
    "tf.__version__"
   ],
   "metadata": {
    "collapsed": false,
    "ExecuteTime": {
     "end_time": "2023-07-30T15:47:32.314767200Z",
     "start_time": "2023-07-30T15:47:30.524647200Z"
    }
   },
   "id": "d895e3f341f9cd2c"
  },
  {
   "cell_type": "code",
   "execution_count": 2,
   "outputs": [],
   "source": [
    "train_dir = r'https://raw.githubusercontent.com/sedeba19/NLP--Random-Models/main/train.csv'\n",
    "test_dir = r'https://raw.githubusercontent.com/sedeba19/NLP--Random-Models/main/test.csv'"
   ],
   "metadata": {
    "collapsed": false,
    "ExecuteTime": {
     "end_time": "2023-07-30T15:47:32.316678800Z",
     "start_time": "2023-07-30T15:47:32.313415800Z"
    }
   },
   "id": "f9e05dc9db4f2150"
  },
  {
   "cell_type": "code",
   "execution_count": 3,
   "outputs": [
    {
     "data": {
      "text/plain": "'https://raw.githubusercontent.com/sedeba19/NLP--Random-Models/main/train.csv'"
     },
     "execution_count": 3,
     "metadata": {},
     "output_type": "execute_result"
    }
   ],
   "source": [
    "train_dir"
   ],
   "metadata": {
    "collapsed": false,
    "ExecuteTime": {
     "end_time": "2023-07-30T15:47:32.323190200Z",
     "start_time": "2023-07-30T15:47:32.316678800Z"
    }
   },
   "id": "e237aa9b92bb079a"
  },
  {
   "cell_type": "code",
   "execution_count": 4,
   "outputs": [
    {
     "data": {
      "text/plain": "   id keyword location                                               text  \\\n0   1     NaN      NaN  Our Deeds are the Reason of this #earthquake M...   \n1   4     NaN      NaN             Forest fire near La Ronge Sask. Canada   \n2   5     NaN      NaN  All residents asked to 'shelter in place' are ...   \n3   6     NaN      NaN  13,000 people receive #wildfires evacuation or...   \n4   7     NaN      NaN  Just got sent this photo from Ruby #Alaska as ...   \n\n   target  \n0       1  \n1       1  \n2       1  \n3       1  \n4       1  ",
      "text/html": "<div>\n<style scoped>\n    .dataframe tbody tr th:only-of-type {\n        vertical-align: middle;\n    }\n\n    .dataframe tbody tr th {\n        vertical-align: top;\n    }\n\n    .dataframe thead th {\n        text-align: right;\n    }\n</style>\n<table border=\"1\" class=\"dataframe\">\n  <thead>\n    <tr style=\"text-align: right;\">\n      <th></th>\n      <th>id</th>\n      <th>keyword</th>\n      <th>location</th>\n      <th>text</th>\n      <th>target</th>\n    </tr>\n  </thead>\n  <tbody>\n    <tr>\n      <th>0</th>\n      <td>1</td>\n      <td>NaN</td>\n      <td>NaN</td>\n      <td>Our Deeds are the Reason of this #earthquake M...</td>\n      <td>1</td>\n    </tr>\n    <tr>\n      <th>1</th>\n      <td>4</td>\n      <td>NaN</td>\n      <td>NaN</td>\n      <td>Forest fire near La Ronge Sask. Canada</td>\n      <td>1</td>\n    </tr>\n    <tr>\n      <th>2</th>\n      <td>5</td>\n      <td>NaN</td>\n      <td>NaN</td>\n      <td>All residents asked to 'shelter in place' are ...</td>\n      <td>1</td>\n    </tr>\n    <tr>\n      <th>3</th>\n      <td>6</td>\n      <td>NaN</td>\n      <td>NaN</td>\n      <td>13,000 people receive #wildfires evacuation or...</td>\n      <td>1</td>\n    </tr>\n    <tr>\n      <th>4</th>\n      <td>7</td>\n      <td>NaN</td>\n      <td>NaN</td>\n      <td>Just got sent this photo from Ruby #Alaska as ...</td>\n      <td>1</td>\n    </tr>\n  </tbody>\n</table>\n</div>"
     },
     "execution_count": 4,
     "metadata": {},
     "output_type": "execute_result"
    }
   ],
   "source": [
    "# Make a train_df\n",
    "train_df = pd.read_csv(train_dir)\n",
    "test_df = pd.read_csv(test_dir)\n",
    "train_df.head()"
   ],
   "metadata": {
    "collapsed": false,
    "ExecuteTime": {
     "end_time": "2023-07-30T15:47:33.113198400Z",
     "start_time": "2023-07-30T15:47:32.320190400Z"
    }
   },
   "id": "c858f9a76b34b934"
  },
  {
   "cell_type": "code",
   "execution_count": 5,
   "outputs": [
    {
     "data": {
      "text/plain": "         id               keyword                  location  \\\n3228   4632  emergency%20services   Sydney, New South Wales   \n3706   5271                  fear                       NaN   \n6957   9982               tsunami         Land Of The Kings   \n2887   4149                 drown                       NaN   \n7464  10680                wounds  cody, austin follows ?*?   \n\n                                                   text  target  \n3228  Goulburn man Henry Van Bilsen missing: Emergen...       1  \n3706  The things we fear most in organizations--fluc...       0  \n6957                            @tsunami_esh ?? hey Esh       0  \n2887  @POTUS you until you drown by water entering t...       0  \n7464  Crawling in my skin\\nThese wounds they will no...       1  ",
      "text/html": "<div>\n<style scoped>\n    .dataframe tbody tr th:only-of-type {\n        vertical-align: middle;\n    }\n\n    .dataframe tbody tr th {\n        vertical-align: top;\n    }\n\n    .dataframe thead th {\n        text-align: right;\n    }\n</style>\n<table border=\"1\" class=\"dataframe\">\n  <thead>\n    <tr style=\"text-align: right;\">\n      <th></th>\n      <th>id</th>\n      <th>keyword</th>\n      <th>location</th>\n      <th>text</th>\n      <th>target</th>\n    </tr>\n  </thead>\n  <tbody>\n    <tr>\n      <th>3228</th>\n      <td>4632</td>\n      <td>emergency%20services</td>\n      <td>Sydney, New South Wales</td>\n      <td>Goulburn man Henry Van Bilsen missing: Emergen...</td>\n      <td>1</td>\n    </tr>\n    <tr>\n      <th>3706</th>\n      <td>5271</td>\n      <td>fear</td>\n      <td>NaN</td>\n      <td>The things we fear most in organizations--fluc...</td>\n      <td>0</td>\n    </tr>\n    <tr>\n      <th>6957</th>\n      <td>9982</td>\n      <td>tsunami</td>\n      <td>Land Of The Kings</td>\n      <td>@tsunami_esh ?? hey Esh</td>\n      <td>0</td>\n    </tr>\n    <tr>\n      <th>2887</th>\n      <td>4149</td>\n      <td>drown</td>\n      <td>NaN</td>\n      <td>@POTUS you until you drown by water entering t...</td>\n      <td>0</td>\n    </tr>\n    <tr>\n      <th>7464</th>\n      <td>10680</td>\n      <td>wounds</td>\n      <td>cody, austin follows ?*?</td>\n      <td>Crawling in my skin\\nThese wounds they will no...</td>\n      <td>1</td>\n    </tr>\n  </tbody>\n</table>\n</div>"
     },
     "execution_count": 5,
     "metadata": {},
     "output_type": "execute_result"
    }
   ],
   "source": [
    "# Shuffle training dataframe\n",
    "train_df_shuffled = train_df.sample(frac = 1, random_state = 1)\n",
    "train_df_shuffled.head()"
   ],
   "metadata": {
    "collapsed": false,
    "ExecuteTime": {
     "end_time": "2023-07-30T15:47:33.121540800Z",
     "start_time": "2023-07-30T15:47:33.113198400Z"
    }
   },
   "id": "ffa95adda1afec99"
  },
  {
   "cell_type": "code",
   "execution_count": 6,
   "outputs": [
    {
     "data": {
      "text/plain": "(7613, 5)"
     },
     "execution_count": 6,
     "metadata": {},
     "output_type": "execute_result"
    }
   ],
   "source": [
    "train_df_shuffled.shape"
   ],
   "metadata": {
    "collapsed": false,
    "ExecuteTime": {
     "end_time": "2023-07-30T15:47:33.121540800Z",
     "start_time": "2023-07-30T15:47:33.116204300Z"
    }
   },
   "id": "66e71f2c2322a35c"
  },
  {
   "cell_type": "code",
   "execution_count": 7,
   "outputs": [
    {
     "data": {
      "text/plain": "target\n0    4342\n1    3271\nName: count, dtype: int64"
     },
     "execution_count": 7,
     "metadata": {},
     "output_type": "execute_result"
    }
   ],
   "source": [
    "# How many examples of each class?\n",
    "train_df['target'].value_counts()"
   ],
   "metadata": {
    "collapsed": false,
    "ExecuteTime": {
     "end_time": "2023-07-30T15:47:33.125354700Z",
     "start_time": "2023-07-30T15:47:33.122541500Z"
    }
   },
   "id": "e8f13f3fbc904937"
  },
  {
   "cell_type": "code",
   "execution_count": 8,
   "outputs": [
    {
     "data": {
      "text/plain": "(7613, 3263)"
     },
     "execution_count": 8,
     "metadata": {},
     "output_type": "execute_result"
    }
   ],
   "source": [
    "# How many total samples?\n",
    "len(train_df), len(test_df)"
   ],
   "metadata": {
    "collapsed": false,
    "ExecuteTime": {
     "end_time": "2023-07-30T15:47:33.133272300Z",
     "start_time": "2023-07-30T15:47:33.126354900Z"
    }
   },
   "id": "6a3f06f716aed950"
  },
  {
   "cell_type": "code",
   "execution_count": 9,
   "outputs": [
    {
     "name": "stdout",
     "output_type": "stream",
     "text": [
      "Target:1 (real disaster)\n",
      "Text: \n",
      "9:35 pm. Thunderstorm. No rain. 90 degrees. This weather weird.\n",
      "-----\n",
      "\n",
      "Target:0 (not a real disaster)\n",
      "Text: \n",
      "Nuclear reactor railguns would be a great way to deliver t1000s.\n",
      "-----\n",
      "\n",
      "Target:1 (real disaster)\n",
      "Text: \n",
      "Two giant cranes holding a bridge collapse into nearby homes http://t.co/STfMbbZFB5\n",
      "-----\n",
      "\n",
      "Target:0 (not a real disaster)\n",
      "Text: \n",
      "#DU19 who gon get in this rap battle with me\n",
      "-----\n",
      "\n",
      "Target:0 (not a real disaster)\n",
      "Text: \n",
      "@FaZe_Rain all hail the Cloud\n",
      "-----\n"
     ]
    }
   ],
   "source": [
    "# Visualize some random training examples\n",
    "import random\n",
    "random_index = random.randint(0, len(train_df)-5)\n",
    "for row in train_df_shuffled[[\"text\", \"target\"]][random_index: random_index +5].itertuples():\n",
    "    _, text, target = row\n",
    "    if target > 0:\n",
    "        print(f\"Target:{target}\", \"(real disaster)\")\n",
    "    else:\n",
    "        print(f\"Target:{target}\", \"(not a real disaster)\")\n",
    "    \n",
    "    print(f\"Text: \\n{text}\")\n",
    "    print(\"-----\\n\")"
   ],
   "metadata": {
    "collapsed": false,
    "ExecuteTime": {
     "end_time": "2023-07-30T15:47:33.134780600Z",
     "start_time": "2023-07-30T15:47:33.131383300Z"
    }
   },
   "id": "99ad01fd617f2fad"
  },
  {
   "cell_type": "markdown",
   "source": [
    "### Split data into training and validation sets"
   ],
   "metadata": {
    "collapsed": false,
    "ExecuteTime": {
     "end_time": "2023-07-30T14:53:04.638447500Z",
     "start_time": "2023-07-30T14:53:04.372889200Z"
    }
   },
   "id": "cc004f467eb6820b"
  },
  {
   "cell_type": "code",
   "execution_count": 10,
   "outputs": [],
   "source": [
    "from sklearn.model_selection import train_test_split\n",
    "\n",
    "train_sentences, val_sentences, train_labels, val_labels = train_test_split(train_df['text'],\n",
    "                                                                            train_df['target'],\n",
    "                                                                            test_size = 0.1,\n",
    "                                                                            random_state = 42)"
   ],
   "metadata": {
    "collapsed": false,
    "ExecuteTime": {
     "end_time": "2023-07-30T15:47:33.414672100Z",
     "start_time": "2023-07-30T15:47:33.135781200Z"
    }
   },
   "id": "e9962e431d6f4625"
  },
  {
   "cell_type": "code",
   "execution_count": 11,
   "outputs": [
    {
     "data": {
      "text/plain": "(7613,)"
     },
     "execution_count": 11,
     "metadata": {},
     "output_type": "execute_result"
    }
   ],
   "source": [
    "train_df['text'].shape"
   ],
   "metadata": {
    "collapsed": false,
    "ExecuteTime": {
     "end_time": "2023-07-30T15:47:33.422855500Z",
     "start_time": "2023-07-30T15:47:33.415672600Z"
    }
   },
   "id": "2044aeeaed5209d8"
  },
  {
   "cell_type": "code",
   "execution_count": 12,
   "outputs": [
    {
     "data": {
      "text/plain": "0       Our Deeds are the Reason of this #earthquake M...\n1                  Forest fire near La Ronge Sask. Canada\n2       All residents asked to 'shelter in place' are ...\n3       13,000 people receive #wildfires evacuation or...\n4       Just got sent this photo from Ruby #Alaska as ...\n                              ...                        \n7608    Two giant cranes holding a bridge collapse int...\n7609    @aria_ahrary @TheTawniest The out of control w...\n7610    M1.94 [01:04 UTC]?5km S of Volcano Hawaii. htt...\n7611    Police investigating after an e-bike collided ...\n7612    The Latest: More Homes Razed by Northern Calif...\nName: text, Length: 7613, dtype: object"
     },
     "execution_count": 12,
     "metadata": {},
     "output_type": "execute_result"
    }
   ],
   "source": [
    "train_df[\"text\"]"
   ],
   "metadata": {
    "collapsed": false,
    "ExecuteTime": {
     "end_time": "2023-07-30T15:47:33.424860400Z",
     "start_time": "2023-07-30T15:47:33.419842700Z"
    }
   },
   "id": "aecfc9a6831f9cee"
  },
  {
   "cell_type": "code",
   "execution_count": 13,
   "outputs": [
    {
     "data": {
      "text/plain": "array(['Our Deeds are the Reason of this #earthquake May ALLAH Forgive us all',\n       'Forest fire near La Ronge Sask. Canada',\n       \"All residents asked to 'shelter in place' are being notified by officers. No other evacuation or shelter in place orders are expected\",\n       ...,\n       'M1.94 [01:04 UTC]?5km S of Volcano Hawaii. http://t.co/zDtoyd8EbJ',\n       'Police investigating after an e-bike collided with a car in Little Portugal. E-bike rider suffered serious non-life threatening injuries.',\n       'The Latest: More Homes Razed by Northern California Wildfire - ABC News http://t.co/YmY4rSkQ3d'],\n      dtype=object)"
     },
     "execution_count": 13,
     "metadata": {},
     "output_type": "execute_result"
    }
   ],
   "source": [
    "train_df['text'].to_numpy()"
   ],
   "metadata": {
    "collapsed": false,
    "ExecuteTime": {
     "end_time": "2023-07-30T15:47:33.434474900Z",
     "start_time": "2023-07-30T15:47:33.424860400Z"
    }
   },
   "id": "4cdc72f6e817f834"
  },
  {
   "cell_type": "code",
   "execution_count": 14,
   "outputs": [
    {
     "data": {
      "text/plain": "array(['Our Deeds are the Reason of this #earthquake May ALLAH Forgive us all',\n       'Forest fire near La Ronge Sask. Canada',\n       \"All residents asked to 'shelter in place' are being notified by officers. No other evacuation or shelter in place orders are expected\",\n       ...,\n       'M1.94 [01:04 UTC]?5km S of Volcano Hawaii. http://t.co/zDtoyd8EbJ',\n       'Police investigating after an e-bike collided with a car in Little Portugal. E-bike rider suffered serious non-life threatening injuries.',\n       'The Latest: More Homes Razed by Northern California Wildfire - ABC News http://t.co/YmY4rSkQ3d'],\n      dtype=object)"
     },
     "execution_count": 14,
     "metadata": {},
     "output_type": "execute_result"
    }
   ],
   "source": [
    "train_df['text'].to_numpy()"
   ],
   "metadata": {
    "collapsed": false,
    "ExecuteTime": {
     "end_time": "2023-07-30T15:47:33.434474900Z",
     "start_time": "2023-07-30T15:47:33.430582100Z"
    }
   },
   "id": "ec43b6635db1dc03"
  },
  {
   "cell_type": "code",
   "execution_count": 15,
   "outputs": [
    {
     "data": {
      "text/plain": "(6851, 762, 6851, 762)"
     },
     "execution_count": 15,
     "metadata": {},
     "output_type": "execute_result"
    }
   ],
   "source": [
    "len(train_sentences), len(val_sentences), len(train_labels), len(val_labels)"
   ],
   "metadata": {
    "collapsed": false,
    "ExecuteTime": {
     "end_time": "2023-07-30T15:47:33.435986100Z",
     "start_time": "2023-07-30T15:47:33.434093300Z"
    }
   },
   "id": "c4b936bb4e61352a"
  },
  {
   "cell_type": "markdown",
   "source": [
    "### Converting text into numbers: Text Vectorization also known as Tokenization"
   ],
   "metadata": {
    "collapsed": false,
    "ExecuteTime": {
     "end_time": "2023-07-30T14:53:04.671406900Z",
     "start_time": "2023-07-30T14:53:04.663597700Z"
    }
   },
   "id": "5777dedf87f2662b"
  },
  {
   "cell_type": "code",
   "execution_count": 16,
   "outputs": [
    {
     "data": {
      "text/plain": "101905"
     },
     "execution_count": 16,
     "metadata": {},
     "output_type": "execute_result"
    }
   ],
   "source": [
    "# Get the total words\n",
    "total_words = 0\n",
    "for i in train_sentences:\n",
    "    total_words += len(i.split())\n",
    "\n",
    "total_words"
   ],
   "metadata": {
    "collapsed": false,
    "ExecuteTime": {
     "end_time": "2023-07-30T15:47:33.495492Z",
     "start_time": "2023-07-30T15:47:33.441501200Z"
    }
   },
   "id": "618457c173977155"
  },
  {
   "cell_type": "code",
   "execution_count": 17,
   "outputs": [
    {
     "data": {
      "text/plain": "(6851,)"
     },
     "execution_count": 17,
     "metadata": {},
     "output_type": "execute_result"
    }
   ],
   "source": [
    "train_sentences.shape"
   ],
   "metadata": {
    "collapsed": false,
    "ExecuteTime": {
     "end_time": "2023-07-30T15:47:33.496493100Z",
     "start_time": "2023-07-30T15:47:33.445334700Z"
    }
   },
   "id": "829d84b65c26bb92"
  },
  {
   "cell_type": "code",
   "execution_count": 18,
   "outputs": [
    {
     "data": {
      "text/plain": "15"
     },
     "execution_count": 18,
     "metadata": {},
     "output_type": "execute_result"
    }
   ],
   "source": [
    "# Get the average words per sentence or line\n",
    "avg_words_per_sentence = round(total_words/len(train_sentences))\n",
    "avg_words_per_sentence"
   ],
   "metadata": {
    "collapsed": false,
    "ExecuteTime": {
     "end_time": "2023-07-30T15:47:33.496493100Z",
     "start_time": "2023-07-30T15:47:33.448235900Z"
    }
   },
   "id": "a7a8bed44aec85d5"
  },
  {
   "cell_type": "code",
   "execution_count": 19,
   "outputs": [],
   "source": [
    "# Normally, total number of words is equal or less than the max vocabulary length\n",
    "max_vocab_length = 10000\n",
    "\n",
    "# max length of a statement is equal or more than the average word per sentence or line\n",
    "max_length = 15"
   ],
   "metadata": {
    "collapsed": false,
    "ExecuteTime": {
     "end_time": "2023-07-30T15:47:33.496493100Z",
     "start_time": "2023-07-30T15:47:33.452215600Z"
    }
   },
   "id": "92ebee1bf68d8486"
  },
  {
   "cell_type": "code",
   "execution_count": 20,
   "outputs": [],
   "source": [
    "import tensorflow as tf\n",
    "from tensorflow.keras.layers.experimental.preprocessing import TextVectorization\n",
    "\n",
    "text_vectorizer = TextVectorization(max_tokens = max_vocab_length,\n",
    "                                    output_mode = \"int\",\n",
    "                                    output_sequence_length = max_length)\n",
    "\n",
    "# Fit the text vectorizer to the training set\n",
    "text_vectorizer.adapt(train_sentences)"
   ],
   "metadata": {
    "collapsed": false,
    "ExecuteTime": {
     "end_time": "2023-07-30T15:47:33.719016800Z",
     "start_time": "2023-07-30T15:47:33.455725100Z"
    }
   },
   "id": "8805b068faa29b89"
  },
  {
   "cell_type": "code",
   "execution_count": 21,
   "outputs": [
    {
     "name": "stdout",
     "output_type": "stream",
     "text": [
      "There's a flood in my street! Sentence length is 29.\n"
     ]
    },
    {
     "data": {
      "text/plain": "<tf.Tensor: shape=(1, 15), dtype=int64, numpy=\narray([[282,   3, 206,   4,  13, 674,   0,   0,   0,   0,   0,   0,   0,\n          0,   0]], dtype=int64)>"
     },
     "execution_count": 21,
     "metadata": {},
     "output_type": "execute_result"
    }
   ],
   "source": [
    "# Create a sample sentence and tokenize it\n",
    "samp_sentence = \"There's a flood in my street!\"\n",
    "print(samp_sentence, f\"Sentence length is {len(samp_sentence)}.\")\n",
    "text_vectorizer([samp_sentence])\n",
    "#len(tf.squeeze(text_vectorizer([samp_sentence])))"
   ],
   "metadata": {
    "collapsed": false,
    "ExecuteTime": {
     "end_time": "2023-07-30T15:47:33.746648300Z",
     "start_time": "2023-07-30T15:47:33.719016800Z"
    }
   },
   "id": "111d45283fbfd4ae"
  },
  {
   "cell_type": "code",
   "execution_count": 22,
   "outputs": [
    {
     "name": "stdout",
     "output_type": "stream",
     "text": [
      "Original text: \n",
      "\n",
      " Photo: This is why I am scared to leave my car under trees in a storm #jamaicaplain #boston #hailstorm... http://t.co/1FHRrhciMH \n",
      "\n",
      "Vectorized text:\n"
     ]
    },
    {
     "data": {
      "text/plain": "<tf.Tensor: shape=(1, 15), dtype=int64, numpy=\narray([[ 324,   19,    9,   92,    8,  171,  928,    5,  627,   13,  120,\n         217, 1459,    4,    3]], dtype=int64)>"
     },
     "execution_count": 22,
     "metadata": {},
     "output_type": "execute_result"
    }
   ],
   "source": [
    "# Choose random sentence from the training dataset and tokenize it\n",
    "rand_train_sentence = random.choice(train_sentences)\n",
    "print(f\"Original text: \\n\\n {rand_train_sentence} \\n\\nVectorized text:\")\n",
    "text_vectorizer([rand_train_sentence])"
   ],
   "metadata": {
    "collapsed": false,
    "ExecuteTime": {
     "end_time": "2023-07-30T15:47:33.749163200Z",
     "start_time": "2023-07-30T15:47:33.741431400Z"
    }
   },
   "id": "4f30ca7e95b2b5e5"
  },
  {
   "cell_type": "code",
   "execution_count": 23,
   "outputs": [
    {
     "data": {
      "text/plain": "['',\n '[UNK]',\n 'the',\n 'a',\n 'in',\n 'to',\n 'of',\n 'and',\n 'i',\n 'is',\n 'for',\n 'on',\n 'you',\n 'my',\n 'with',\n 'it',\n 'that',\n 'at',\n 'by',\n 'this',\n 'from',\n 'are',\n 'be',\n 'was',\n 'have',\n 'like',\n 'as',\n 'me',\n 'but',\n 'up',\n 'just',\n 'so',\n 'im',\n 'not',\n 'amp',\n 'your',\n 'out',\n 'all',\n 'after',\n 'its',\n 'has',\n 'no',\n 'will',\n 'an',\n 'fire',\n 'when',\n 'if',\n 'we',\n 'get',\n 'now',\n 'more',\n 'via',\n 'new',\n 'about',\n 'what',\n 'people',\n 'or',\n 'news',\n 'he',\n 'they',\n 'over',\n 'one',\n 'been',\n 'how',\n 'dont',\n 'who',\n 'video',\n 'into',\n 'were',\n 'do',\n 'us',\n 'can',\n 'emergency',\n '2',\n 'disaster',\n 'there',\n 'her',\n 'some',\n 'than',\n 'still',\n 'would',\n 'his',\n 'police',\n 'crash',\n 'burning',\n 'suicide',\n 'body',\n 'california',\n 'back',\n 'time',\n 'buildings',\n 'had',\n 'why',\n 'off',\n 'them',\n 'got',\n 'man',\n 'see',\n 'storm',\n 'know',\n 'going',\n 'cant',\n 'world',\n 'first',\n 'day',\n 'rt',\n 'nuclear',\n 'love',\n 'youtube',\n 'our',\n 'attack',\n 'go',\n 'fires',\n 'two',\n 'their',\n 'bomb',\n 'killed',\n '3',\n 'train',\n 'dead',\n 'car',\n 'war',\n 'life',\n 'may',\n 'watch',\n 'full',\n 'only',\n 'here',\n 'hiroshima',\n 'down',\n 'today',\n 'u',\n 'accident',\n 'think',\n 'many',\n 'good',\n 'way',\n 'families',\n 'too',\n 'then',\n 'say',\n 'being',\n 'last',\n 'could',\n 'years',\n 'want',\n 'did',\n 'home',\n 'best',\n 'should',\n 'need',\n 'mass',\n 'even',\n 'work',\n 'make',\n 'help',\n 'bombing',\n 'wildfire',\n 'please',\n 'look',\n 'lol',\n 'because',\n 'another',\n 'take',\n 'him',\n 'collapse',\n 'year',\n 'water',\n 'those',\n 'really',\n 'army',\n 'am',\n 'school',\n 'mh370',\n 'death',\n 'right',\n 'pm',\n 'black',\n 'much',\n 'forest',\n 'fatal',\n '5',\n 'youre',\n 'she',\n 'northern',\n '4',\n 'live',\n 'city',\n 'bomber',\n 'wreck',\n 'hot',\n 'great',\n 'every',\n '2015',\n 'old',\n 'let',\n 'legionnaires',\n 'fear',\n 'obama',\n 'latest',\n 'homes',\n 'flames',\n 'come',\n '1',\n 'never',\n 'getting',\n 'flood',\n '\\x89Û',\n 'where',\n 'said',\n 'japan',\n 'shit',\n 'floods',\n 'during',\n 'atomic',\n 'god',\n 'damage',\n 'under',\n 'near',\n 'feel',\n 'ever',\n 'earthquake',\n 'ass',\n 'which',\n 'since',\n 'read',\n 'oil',\n 'night',\n 'most',\n 'military',\n 'injured',\n 'hope',\n 'everyone',\n 'coming',\n 'any',\n 'without',\n 'while',\n 'well',\n 'thats',\n 'stop',\n 'next',\n 'hit',\n 'weather',\n 'these',\n 'state',\n 'little',\n 'flooding',\n 'evacuation',\n 'before',\n 'truck',\n 'severe',\n 's',\n 'content',\n 'always',\n 'until',\n 'top',\n 'through',\n 'smoke',\n 'plan',\n 'found',\n 'confirmed',\n 'cause',\n 'movie',\n 'fucking',\n 'face',\n 'debris',\n 'bloody',\n 'bad',\n 'weapon',\n 'warning',\n 'times',\n 'thunderstorm',\n 'set',\n 'says',\n 'natural',\n 'malaysia',\n 'liked',\n 'ive',\n 'gonna',\n 'free',\n 'fall',\n 'thunder',\n 'theres',\n 'sinking',\n 'saudi',\n 'refugees',\n 'made',\n 'loud',\n 'looks',\n 'injuries',\n 'house',\n 'hes',\n 'heat',\n 'cross',\n 'also',\n 'air',\n 'w',\n 'screaming',\n 'rain',\n 'murder',\n 'head',\n 'failure',\n 'explode',\n 'check',\n 'wreckage',\n 'wind',\n 'wild',\n 'trapped',\n 'survive',\n 'spill',\n 'reddit',\n 'panic',\n 'missing',\n 'lightning',\n 'family',\n 'change',\n 'whole',\n 'weapons',\n 'terrorist',\n 'service',\n 'run',\n 'rescuers',\n 'report',\n 'released',\n 'photo',\n 'outbreak',\n 'ill',\n 'food',\n 'evacuate',\n 'end',\n 'destroyed',\n 'deaths',\n 'boy',\n 'again',\n '70',\n 'terrorism',\n 'sinkhole',\n 'services',\n 'save',\n 'road',\n 'rescue',\n 'migrants',\n 'keep',\n 'high',\n 'harm',\n 'danger',\n 'county',\n 'collided',\n 'blood',\n 'big',\n 'bags',\n 'twister',\n 'trauma',\n 'tonight',\n 'summer',\n 'ruin',\n 'mosque',\n 'lives',\n 'least',\n 'hail',\n 'girl',\n 'fuck',\n 'fatalities',\n 'does',\n 'derailment',\n 'curfew',\n 'collapsed',\n 'charged',\n 'call',\n 'burned',\n 'breaking',\n 'boat',\n 'bag',\n 'attacked',\n 'ambulance',\n 'wrecked',\n 'wounded',\n 'white',\n 'week',\n 'update',\n 'things',\n 'structural',\n 'stock',\n 'someone',\n 'show',\n 'rioting',\n 'real',\n 'phone',\n 'mudslide',\n 'landslide',\n 'investigators',\n 'explosion',\n 'engulfed',\n 'displaced',\n 'devastation',\n 'destroy',\n 'deluge',\n 'crashed',\n 'catastrophe',\n 'bus',\n 'battle',\n 'away',\n 'area',\n 'apocalypse',\n 'whirlwind',\n 'survivors',\n 'survived',\n 'sunk',\n 'saw',\n 'sandstorm',\n 'post',\n 'other',\n 'massacre',\n 'island',\n 'injury',\n 'id',\n 'hundreds',\n 'hostages',\n 'horrible',\n 'hazardous',\n 'hazard',\n 'game',\n 'exploded',\n 'drought',\n 'bridge',\n 'bang',\n '40',\n 'windstorm',\n 'went',\n 'wave',\n 'soon',\n 'rescued',\n 'quarantined',\n 'national',\n 'market',\n 'kills',\n 'hurricane',\n 'heard',\n 'drowning',\n 'drown',\n 'detonate',\n 'destruction',\n 'derail',\n 'cliff',\n 'bombed',\n 'blown',\n 'around',\n 'airplane',\n '6',\n '\\x89ÛÒ',\n 'wounds',\n 'woman',\n 'trouble',\n 'traumatised',\n 'tragedy',\n 'thing',\n 'story',\n 'screams',\n 'put',\n 'past',\n 'ok',\n 'iran',\n 'inundated',\n 'group',\n 'flattened',\n 'fedex',\n 'caused',\n 'came',\n 'better',\n 'august',\n 'armageddon',\n 'anniversary',\n '15',\n 'women',\n 'wanna',\n 'violent',\n 'typhoon',\n 'tsunami',\n 'thank',\n 'security',\n 'razed',\n 'possible',\n 'meltdown',\n 'lot',\n 'isis',\n 'hostage',\n 'famine',\n 'electrocuted',\n 'ebay',\n 'dust',\n 'crush',\n 'collide',\n 'chemical',\n 'blew',\n 'bleeding',\n 'bioterror',\n 'against',\n 'zone',\n 'whats',\n 'use',\n 'twitter',\n 'tomorrow',\n 'sure',\n 'something',\n 'send',\n 'quarantine',\n 'plane',\n 'pkk',\n 'part',\n 'panicking',\n 'pandemonium',\n 'oh',\n 'must',\n 'longer',\n 'long',\n 'left',\n 'hijacker',\n 'heart',\n 'government',\n 'goes',\n 'due',\n 'didnt',\n 'detonated',\n 'desolation',\n 'collision',\n 'catastrophic',\n 'casualties',\n 'calgary',\n 'building',\n 'beautiful',\n 'bagging',\n 'affected',\n 'yet',\n 'volcano',\n 'very',\n 'thanks',\n 'st',\n 'screamed',\n 'river',\n 'riot',\n 'reunion',\n 'responders',\n 'red',\n 'obliteration',\n 'obliterated',\n 'nothing',\n 'music',\n 'minute',\n 'lava',\n 'land',\n 'hijacking',\n 'fatality',\n 'fan',\n 'drowned',\n 'detonation',\n 'demolish',\n 'cool',\n 'blast',\n 'believe',\n 'baby',\n 'used',\n 'ur',\n 'three',\n 'thought',\n 'sound',\n 'song',\n 'site',\n 'sirens',\n 'shoulder',\n 'seismic',\n 'same',\n 'prebreak',\n 'power',\n 'officials',\n 'obliterate',\n 'few',\n 'eyewitness',\n 'died',\n 'demolished',\n 'care',\n 'arson',\n 'airport',\n '9',\n 'turkey',\n 'traffic',\n 'such',\n 'stay',\n 'start',\n 'snowstorm',\n 'shooting',\n 'rubble',\n 'remember',\n 'rainstorm',\n 'murderer',\n 'media',\n 'making',\n 'kids',\n 'issues',\n 'israeli',\n 'india',\n 'having',\n 'far',\n 'evacuated',\n 'electrocute',\n 'doing',\n 'doesnt',\n 'derailed',\n 'demolition',\n 'crushed',\n 'brown',\n 'blazing',\n 'annihilated',\n '8',\n '7',\n '16yr',\n 'yes',\n 'wake',\n 'suspect',\n 'south',\n 'shot',\n 'reactor',\n 'policy',\n 'nowplaying',\n 'nearby',\n 'line',\n 'light',\n 'lets',\n 'leave',\n 'inside',\n 'horror',\n 'hijack',\n 'hell',\n 'health',\n 'gets',\n 'casualty',\n 'bc',\n 'already',\n 'actually',\n 'words',\n 'upheaval',\n 'trying',\n 'tornado',\n 'tell',\n 'sue',\n 'stretcher',\n 'second',\n 're\\x89Û',\n 'plans',\n 'pic',\n 'mp',\n 'men',\n 'maybe',\n 'low',\n 'lab',\n 'islam',\n 'hours',\n 'history',\n 'half',\n 'guys',\n 'fun',\n 'fight',\n 'done',\n 'deluged',\n 'declares',\n 'days',\n 'bodies',\n 'bestnaijamade',\n 'anything',\n 'almost',\n '20',\n '\\x89ÛÓ',\n 'wont',\n 'swallowed',\n 'support',\n 'street',\n 'searching',\n 'reuters',\n 'play',\n 'place',\n 'photos',\n 'person',\n 'peace',\n 'online',\n 'north',\n 'literally',\n 'hey',\n 'helicopter',\n 'find',\n 'cyclone',\n 'crews',\n 'business',\n 'bush',\n 'both',\n 'bioterrorism',\n 'bar',\n 'avalanche',\n 'aircraft',\n 'abc',\n '50',\n 'yeah',\n 'west',\n 'wait',\n 'typhoondevastated',\n 'theyre',\n 'siren',\n 'saipan',\n 'pick',\n 'name',\n 'money',\n 'la',\n 'kill',\n 'job',\n 'hellfire',\n 'hear',\n 'happy',\n 'eyes',\n 'die',\n 'data',\n 'conclusively',\n 'children',\n 'blight',\n 'blaze',\n 'ago',\n 'waves',\n 'trench',\n 'texas',\n 'team',\n 'space',\n 'projected',\n 'probably',\n 'picking',\n 'own',\n 'order',\n 'myself',\n 'memories',\n 'major',\n 'm',\n 'lost',\n 'jobs',\n 'hollywood',\n 'feared',\n 'effect',\n 'deal',\n 'd',\n 'center',\n 'case',\n 'book',\n 'bigger',\n 'anyone',\n 'american',\n 'ablaze',\n '12',\n '10',\n 'yourself',\n 'watching',\n 'tv',\n 'transport',\n 'town',\n 'spot',\n 'soudelor',\n 'ship',\n 'seen',\n 'saved',\n 'pretty',\n 'outside',\n 'officer',\n 'mom',\n 'miners',\n 'meek',\n 'leather',\n 'houses',\n 'hat',\n 'hard',\n 'flag',\n 'everything',\n 'daily',\n 'child',\n 'chance',\n 'called',\n 'banned',\n 'ball',\n 'annihilation',\n 'amid',\n '30',\n 'wow',\n 'trains',\n 'though',\n 'star',\n 'signs',\n 'side',\n 'shes',\n 'self',\n 'rise',\n 'refugio',\n 'rd',\n 'poor',\n 'once',\n 'okay',\n 'n',\n 'move',\n 'might',\n 'manslaughter',\n 'makes',\n 'hailstorm',\n 'gbbo',\n 'friends',\n 'flash',\n 'fast',\n 'emmerdale',\n 'east',\n 'desolate',\n 'damn',\n 'crisis',\n 'crazy',\n 'course',\n 'couple',\n 'country',\n 'costlier',\n 'centre',\n 'caught',\n 'cake',\n 'blizzard',\n 'become',\n 'angry',\n 'alone',\n 'youth',\n 'wrong',\n 'win',\n 'vs',\n 'virgin',\n 'truth',\n 'temple',\n 'sorry',\n 'reports',\n 'reason',\n 'playing',\n 'pain',\n 'omg',\n 'official',\n 'myanmar',\n 'mayhem',\n 'looking',\n 'listen',\n 'level',\n 'ladies',\n 'knock',\n 'isnt',\n 'ignition',\n 'huge',\n 'heavy',\n 'hate',\n 'guy',\n 'gun',\n 'global',\n 'finally',\n 'feeling',\n 'eye',\n 'downtown',\n 'control',\n 'computers',\n 'closed',\n 'class',\n 'beach',\n 'bbc',\n 'b',\n 'appears',\n 'across',\n '60',\n '13',\n '11yearold',\n 'yours',\n 'womens',\n 'wanted',\n 'view',\n 'usa',\n 'united',\n 'try',\n 'totally',\n 'toddler',\n 'till',\n 'thousands',\n 'takes',\n 'taken',\n 't',\n 'stand',\n 'russian',\n 'running',\n 'reddits',\n 'quiz',\n 'pay',\n 'pakistan',\n 'others',\n 'mop',\n 'marks',\n 'mad',\n 'link',\n 'libya',\n 'issued',\n 'instead',\n 'happened',\n 'gt',\n 'giant',\n 'gems',\n 'gave',\n 'front',\n 'follow',\n 'film',\n 'experts',\n 'else',\n 'drive',\n 'devastated',\n 'declaration',\n 'coaches',\n 'cnn',\n 'christian',\n 'anthrax',\n 'aftershock',\n '11',\n 'worst',\n 'working',\n 'village',\n 'vehicle',\n 'unconfirmed',\n 'thursday',\n 'talk',\n 'subreddits',\n 'sounds',\n 'shows',\n 'scared',\n 'ready',\n 'potus',\n 'park',\n 'niggas',\n 'neighbours',\n 'nagasaki',\n 'mount',\n 'miss',\n 'mishaps',\n 'lord',\n 'led',\n 'learn',\n 'large',\n 'landing',\n 'israel',\n 'haha',\n 'gop',\n 'germs',\n 'galactic',\n 'fukushima',\n 'following',\n 'favorite',\n 'escape',\n 'entire',\n 'ebola',\n 'driving',\n 'download',\n 'climate',\n 'chinas',\n 'china',\n 'cars',\n 'behind',\n 'aug',\n 'arsonist',\n 'aint',\n 'added',\n 'action',\n '25',\n '100',\n '05',\n 'wonder',\n 'tweet',\n 'turn',\n 'trust',\n 'tree',\n 'told',\n 'sign',\n 'safety',\n 'russia',\n 'rules',\n 'rock',\n 'reported',\n 'radio',\n 'r',\n 'pray',\n 'pradesh',\n 'ppl',\n 'point',\n 'patience',\n 'party',\n 'parole',\n 'pamela',\n 'pakistani',\n 'outrage',\n 'offensive',\n 'nws',\n 'needs',\n 'nearly',\n 'muslims',\n 'morning',\n 'moment',\n ...]"
     },
     "execution_count": 23,
     "metadata": {},
     "output_type": "execute_result"
    }
   ],
   "source": [
    "# Get unique words in the vocabulary\n",
    "words_in_vocab = text_vectorizer.get_vocabulary()\n",
    "words_in_vocab"
   ],
   "metadata": {
    "collapsed": false,
    "ExecuteTime": {
     "end_time": "2023-07-30T15:47:33.807227700Z",
     "start_time": "2023-07-30T15:47:33.749163200Z"
    }
   },
   "id": "a9796849d92692a"
  },
  {
   "cell_type": "code",
   "execution_count": 24,
   "outputs": [
    {
     "data": {
      "text/plain": "10000"
     },
     "execution_count": 24,
     "metadata": {},
     "output_type": "execute_result"
    }
   ],
   "source": [
    "len(words_in_vocab)"
   ],
   "metadata": {
    "collapsed": false,
    "ExecuteTime": {
     "end_time": "2023-07-30T15:47:33.807227700Z",
     "start_time": "2023-07-30T15:47:33.765876900Z"
    }
   },
   "id": "1fc1d49d18c2f968"
  },
  {
   "cell_type": "code",
   "execution_count": 25,
   "outputs": [
    {
     "data": {
      "text/plain": "['', '[UNK]', 'the', 'a', 'in']"
     },
     "execution_count": 25,
     "metadata": {},
     "output_type": "execute_result"
    }
   ],
   "source": [
    "# Top 5 words in words_in_vocab\n",
    "words_in_vocab[:5]"
   ],
   "metadata": {
    "collapsed": false,
    "ExecuteTime": {
     "end_time": "2023-07-30T15:47:33.807227700Z",
     "start_time": "2023-07-30T15:47:33.770336400Z"
    }
   },
   "id": "60913b2c06167547"
  },
  {
   "cell_type": "code",
   "execution_count": 26,
   "outputs": [
    {
     "data": {
      "text/plain": "['pakthey', 'pakistan\\x89Ûªs', 'pakistans', 'pajamas', 'paints']"
     },
     "execution_count": 26,
     "metadata": {},
     "output_type": "execute_result"
    }
   ],
   "source": [
    "# Least 5 words in words_in_vocab\n",
    "words_in_vocab[-5:]"
   ],
   "metadata": {
    "collapsed": false,
    "ExecuteTime": {
     "end_time": "2023-07-30T15:47:33.807227700Z",
     "start_time": "2023-07-30T15:47:33.773292500Z"
    }
   },
   "id": "4b66d97a81a1ab9b"
  },
  {
   "cell_type": "markdown",
   "source": [
    "### Embedding layer\n",
    "\n",
    "To make our embedding, we are going to use TensorFlow’s embedding layer: https://www.tensorflow.org/api/docs/python/tf/keras/layers/\n",
    "\n",
    "The parameters are below mostly used.\n",
    "* input_dim = size of the vocabulary\n",
    "* output_dim = size of the output embedding vector.  For example, a value of 100 would mean each token gets represented by a vector 100 long\n",
    "* input_length = length of the sequences being passed to the embedding layer"
   ],
   "metadata": {
    "collapsed": false,
    "ExecuteTime": {
     "end_time": "2023-07-30T14:53:04.983475Z",
     "start_time": "2023-07-30T14:53:04.975963300Z"
    }
   },
   "id": "4d47ece46e5b3070"
  },
  {
   "cell_type": "code",
   "execution_count": 27,
   "outputs": [],
   "source": [
    "from tensorflow.keras import layers\n",
    "\n",
    "embedding = layers.Embedding(input_dim = max_vocab_length,\n",
    "                             output_dim = 64,\n",
    "                             embeddings_initializer = \"uniform\",\n",
    "                             input_length = max_length)"
   ],
   "metadata": {
    "collapsed": false,
    "ExecuteTime": {
     "end_time": "2023-07-30T15:47:33.807227700Z",
     "start_time": "2023-07-30T15:47:33.777492100Z"
    }
   },
   "id": "55b4d3e382cb85d7"
  },
  {
   "cell_type": "code",
   "execution_count": 28,
   "outputs": [
    {
     "name": "stdout",
     "output_type": "stream",
     "text": [
      "Original text: I hear lightening and see thunder\n",
      "\n",
      "Vectorized text: [[   8  713 2896    7   97  281    0    0    0    0    0    0    0    0\n",
      "     0]]\n",
      "\n",
      "Vectorized text shape: (1, 15)\n",
      "Embbedded text: [[[ 8.43892246e-03  4.05540131e-02  4.78781499e-02 -3.48935835e-02\n",
      "   -1.13931410e-02 -3.97671685e-02 -4.23344970e-02  3.55238840e-03\n",
      "    4.30025198e-02 -1.53910033e-02 -2.02457663e-02  9.00458544e-04\n",
      "    2.39405781e-03 -3.01613342e-02  4.50175740e-02  4.12785448e-02\n",
      "   -2.32357029e-02  3.40218432e-02 -2.11642385e-02 -2.94206142e-02\n",
      "    3.90954129e-02  1.15398392e-02  4.35509793e-02  7.71626085e-03\n",
      "    2.88778655e-02 -4.97988835e-02  1.46778263e-02  2.13260539e-02\n",
      "   -3.61503288e-03  3.46430279e-02  3.69495414e-02 -4.70405705e-02\n",
      "    2.50837319e-02 -1.31821744e-02 -1.02390870e-02 -4.27094363e-02\n",
      "    4.51118872e-03  3.24554481e-02 -2.86594033e-02  4.87722047e-02\n",
      "    1.97707899e-02 -7.69860670e-03 -1.96440145e-03 -4.90410440e-02\n",
      "    1.85487531e-02 -1.88062545e-02 -5.49405813e-03 -2.31429338e-02\n",
      "    3.84782664e-02  4.35382761e-02 -2.77798530e-02  1.01328604e-02\n",
      "   -8.39608908e-03  8.50624964e-03  3.17334868e-02  4.52943482e-02\n",
      "    3.96379717e-02  2.14096420e-02 -3.80423777e-02 -3.18283960e-03\n",
      "    8.21043178e-03  3.55900191e-02  2.29596533e-02 -1.79129243e-02]\n",
      "  [ 3.32445763e-02 -2.37781294e-02  1.60935409e-02 -3.93781774e-02\n",
      "    1.15959719e-03  8.42267275e-03  2.16452144e-02 -3.71439457e-02\n",
      "   -4.19586785e-02 -2.68369447e-02  2.07334198e-02  1.84816755e-02\n",
      "    1.25560425e-02  3.95916812e-02  1.10578537e-03 -2.84981728e-02\n",
      "    1.29904263e-02  1.32210553e-05  4.88442443e-02  4.02538292e-02\n",
      "   -2.56572608e-02 -1.34647489e-02  3.88096608e-02 -1.33784413e-02\n",
      "   -2.74793059e-03  4.31640409e-02  9.23342630e-03 -4.92392890e-02\n",
      "    7.61755556e-03  1.32869966e-02 -1.42840631e-02  1.07948668e-02\n",
      "    3.58081125e-02  1.16757303e-03  1.81244649e-02 -1.06391795e-02\n",
      "    2.47754492e-02 -1.35915056e-02 -5.19032404e-03 -1.47399306e-02\n",
      "    4.05582525e-02 -4.85745817e-03 -2.85530090e-02 -1.72092430e-02\n",
      "    2.50584371e-02  1.86574198e-02  1.81551240e-02  4.33478095e-02\n",
      "   -2.59751678e-02  2.86231674e-02 -5.01919538e-04  3.46588008e-02\n",
      "    3.84328701e-02 -2.79305223e-02 -1.06038675e-02 -2.73042321e-02\n",
      "    9.19598341e-03  4.22034971e-02  8.96279886e-03 -4.31334749e-02\n",
      "   -2.67481096e-02 -4.76733446e-02 -2.06976291e-02  3.21412422e-02]\n",
      "  [-6.16420060e-04  4.61347960e-02 -4.61109392e-02 -4.79065292e-02\n",
      "    3.48438509e-02 -4.34920080e-02 -2.05751508e-03 -1.94610599e-02\n",
      "   -6.47987053e-03  5.48052788e-03  1.37963630e-02  1.59616806e-02\n",
      "    3.79278995e-02  4.48490269e-02 -7.33188540e-03 -3.90907899e-02\n",
      "    3.17096598e-02 -1.00501068e-02 -3.72246392e-02 -1.94084886e-02\n",
      "   -3.84147093e-03  8.37147236e-04  3.41971852e-02  1.69090368e-02\n",
      "    9.80981439e-03 -1.54742710e-02  2.17311122e-02  4.08525392e-03\n",
      "    1.17009282e-02 -3.25284153e-03  5.30792400e-03  3.18970568e-02\n",
      "   -1.03174672e-02  1.19868517e-02 -1.51000395e-02  2.56891958e-02\n",
      "   -4.69931960e-02 -1.57619007e-02  1.75368525e-02 -2.75387298e-02\n",
      "    4.71239351e-02  3.18676867e-02  4.16874401e-02 -4.44078334e-02\n",
      "   -3.92038599e-02  2.88549401e-02  8.30914825e-03  4.03686054e-02\n",
      "   -1.03065595e-02 -4.39810157e-02  1.19215734e-02  1.25534795e-02\n",
      "    4.99736406e-02  1.18668079e-02  2.20429935e-02 -3.53413112e-02\n",
      "   -4.24793251e-02  3.11475135e-02 -2.89951097e-02 -2.71156784e-02\n",
      "   -4.68624830e-02 -9.40076262e-03  2.87940539e-02 -4.59312275e-03]\n",
      "  [ 1.75494291e-02  2.88174488e-02  2.67762579e-02 -9.41971689e-03\n",
      "   -4.86815572e-02 -6.05574995e-03 -2.29479428e-02 -3.09580695e-02\n",
      "   -4.45142053e-02 -1.36930346e-02  1.52354874e-02 -3.77869830e-02\n",
      "   -1.31851546e-02  4.11231183e-02  3.94504331e-02 -3.59849110e-02\n",
      "   -4.12320718e-02  4.81383242e-02  3.82879116e-02  2.94490345e-02\n",
      "   -8.86996835e-03  1.78847462e-03  2.54096650e-02 -2.70566586e-02\n",
      "   -1.27795450e-02 -4.92573269e-02  5.96686453e-03  2.68736966e-02\n",
      "   -1.41987950e-03  1.99826024e-02 -1.54344440e-02  3.45706828e-02\n",
      "    4.28105928e-02 -6.36141375e-03 -2.55396497e-02 -1.83255598e-03\n",
      "    1.64268501e-02 -2.57117394e-02  1.48920752e-02  3.63649167e-02\n",
      "   -3.83043289e-02 -4.06730287e-02 -2.86926273e-02 -1.26456395e-02\n",
      "    1.34487413e-02  3.38966586e-02 -3.99880782e-02  2.91021354e-02\n",
      "   -4.68797088e-02  1.06139295e-02 -1.79481730e-02  3.39645147e-03\n",
      "   -1.10096447e-02  1.52925141e-02  6.39341772e-04  6.85075670e-03\n",
      "   -4.67635281e-02 -1.24139674e-02 -2.46595740e-02 -4.20993455e-02\n",
      "    1.63440742e-02 -9.96768475e-03  4.99700643e-02  2.57434361e-02]\n",
      "  [-4.30803783e-02  3.88838984e-02 -4.59854268e-02 -4.04079333e-02\n",
      "    2.59730257e-02  1.55360959e-02 -1.95049122e-03 -2.78662797e-02\n",
      "   -4.26416509e-02  9.10705328e-03 -4.78047729e-02  2.56533735e-02\n",
      "    3.12508009e-02  4.15897854e-02 -1.91270839e-02  1.90770291e-02\n",
      "   -5.64921647e-04  4.03602831e-02  1.82214640e-02 -2.36288067e-02\n",
      "   -3.14033851e-02  3.33739556e-02 -3.09125315e-02 -1.00395791e-02\n",
      "   -9.31901857e-03 -2.61593107e-02 -2.50676759e-02  8.21182877e-03\n",
      "    4.80505563e-02  1.38638876e-02  3.52819301e-02 -2.76343897e-03\n",
      "   -4.27338965e-02  6.40883297e-03  2.49634646e-02  4.17202450e-02\n",
      "    3.01432945e-02  7.33517110e-04  3.41534279e-02 -1.14959106e-02\n",
      "   -4.84802127e-02  3.95985954e-02 -4.87284064e-02 -4.23488393e-02\n",
      "    2.70481221e-02 -2.38715541e-02  3.28931250e-02  2.99492516e-02\n",
      "    4.75780256e-02 -3.34472284e-02  4.69886549e-02 -2.19028722e-02\n",
      "    4.40455563e-02 -1.01792216e-02 -3.61130722e-02 -3.58282812e-02\n",
      "   -2.54362226e-02  2.17984989e-03  4.74158265e-02 -2.86966562e-02\n",
      "    4.38279025e-02 -4.86400500e-02  3.55879776e-02  1.59299858e-02]\n",
      "  [-5.30029461e-03 -1.35300979e-02  4.96153496e-02  2.25091837e-02\n",
      "   -1.33386366e-02 -4.64668274e-02 -1.31138451e-02 -3.29263434e-02\n",
      "   -1.69688463e-02  5.23394346e-03  2.84719728e-02  3.03275846e-02\n",
      "    3.01021822e-02  9.02795792e-03  1.89029612e-02 -9.41897556e-03\n",
      "   -7.48465210e-03 -1.59108415e-02 -3.14619094e-02 -1.56087503e-02\n",
      "    1.58189647e-02  3.23554128e-03 -2.72858739e-02 -4.73476052e-02\n",
      "    4.24183905e-04 -3.34517360e-02 -3.78745794e-02 -3.57411020e-02\n",
      "   -1.00833550e-02 -1.77767761e-02  1.10574812e-03  5.28312847e-03\n",
      "   -4.86110710e-02  4.85685132e-02  3.80078442e-02  3.34700197e-03\n",
      "   -3.09393648e-02  1.86558403e-02  9.99816507e-03  2.04888023e-02\n",
      "    3.13744806e-02  4.28280570e-02 -1.20976083e-02 -2.15283521e-02\n",
      "    3.40016149e-02  2.57503726e-02  1.03590861e-02  4.44926880e-02\n",
      "   -2.56024133e-02  1.23166926e-02  1.08937994e-02  4.25727479e-02\n",
      "    5.93749434e-03  4.06572558e-02 -3.86349782e-02 -2.17276458e-02\n",
      "   -2.90419906e-03 -2.79685743e-02 -4.06446569e-02  1.89241879e-02\n",
      "   -2.73808371e-02  2.67882086e-02  3.23802941e-02 -4.78041172e-03]\n",
      "  [-1.63427480e-02  1.70880668e-02  6.81295246e-03  8.63590091e-03\n",
      "   -3.86248119e-02 -8.27540085e-03  3.14838178e-02  3.07358801e-04\n",
      "    1.07288584e-02 -3.30190063e-02  1.38479136e-02 -1.43793970e-03\n",
      "    9.35193151e-03 -1.97937489e-02 -1.97448581e-03  4.92911674e-02\n",
      "    1.16095915e-02  3.55801024e-02 -3.66461053e-02 -1.68807730e-02\n",
      "    1.17010362e-02  3.27577107e-02  4.15509380e-02  2.13112868e-02\n",
      "    1.11123212e-02 -1.22872703e-02 -3.01327351e-02  2.42201202e-02\n",
      "    2.95880325e-02 -7.64733553e-03  3.75194475e-03 -2.24908590e-02\n",
      "   -4.93287444e-02 -1.30587593e-02 -1.75254941e-02 -2.18541380e-02\n",
      "   -1.73724294e-02  2.85460837e-02  8.19228590e-04  2.44340636e-02\n",
      "   -3.56770866e-02 -2.54338868e-02  1.48928203e-02 -3.09656858e-02\n",
      "   -4.25138138e-02 -1.75653584e-02  3.17751281e-02 -4.54243682e-02\n",
      "    1.31336339e-02  2.99838819e-02  4.38800789e-02 -4.54565771e-02\n",
      "   -2.33364347e-02 -2.17376947e-02 -2.89997701e-02 -2.46595498e-02\n",
      "   -3.48014012e-02 -1.09094605e-02  4.22943570e-02  4.26769964e-02\n",
      "   -3.37886214e-02 -2.85649542e-02  3.97511460e-02  1.43190138e-02]\n",
      "  [-1.63427480e-02  1.70880668e-02  6.81295246e-03  8.63590091e-03\n",
      "   -3.86248119e-02 -8.27540085e-03  3.14838178e-02  3.07358801e-04\n",
      "    1.07288584e-02 -3.30190063e-02  1.38479136e-02 -1.43793970e-03\n",
      "    9.35193151e-03 -1.97937489e-02 -1.97448581e-03  4.92911674e-02\n",
      "    1.16095915e-02  3.55801024e-02 -3.66461053e-02 -1.68807730e-02\n",
      "    1.17010362e-02  3.27577107e-02  4.15509380e-02  2.13112868e-02\n",
      "    1.11123212e-02 -1.22872703e-02 -3.01327351e-02  2.42201202e-02\n",
      "    2.95880325e-02 -7.64733553e-03  3.75194475e-03 -2.24908590e-02\n",
      "   -4.93287444e-02 -1.30587593e-02 -1.75254941e-02 -2.18541380e-02\n",
      "   -1.73724294e-02  2.85460837e-02  8.19228590e-04  2.44340636e-02\n",
      "   -3.56770866e-02 -2.54338868e-02  1.48928203e-02 -3.09656858e-02\n",
      "   -4.25138138e-02 -1.75653584e-02  3.17751281e-02 -4.54243682e-02\n",
      "    1.31336339e-02  2.99838819e-02  4.38800789e-02 -4.54565771e-02\n",
      "   -2.33364347e-02 -2.17376947e-02 -2.89997701e-02 -2.46595498e-02\n",
      "   -3.48014012e-02 -1.09094605e-02  4.22943570e-02  4.26769964e-02\n",
      "   -3.37886214e-02 -2.85649542e-02  3.97511460e-02  1.43190138e-02]\n",
      "  [-1.63427480e-02  1.70880668e-02  6.81295246e-03  8.63590091e-03\n",
      "   -3.86248119e-02 -8.27540085e-03  3.14838178e-02  3.07358801e-04\n",
      "    1.07288584e-02 -3.30190063e-02  1.38479136e-02 -1.43793970e-03\n",
      "    9.35193151e-03 -1.97937489e-02 -1.97448581e-03  4.92911674e-02\n",
      "    1.16095915e-02  3.55801024e-02 -3.66461053e-02 -1.68807730e-02\n",
      "    1.17010362e-02  3.27577107e-02  4.15509380e-02  2.13112868e-02\n",
      "    1.11123212e-02 -1.22872703e-02 -3.01327351e-02  2.42201202e-02\n",
      "    2.95880325e-02 -7.64733553e-03  3.75194475e-03 -2.24908590e-02\n",
      "   -4.93287444e-02 -1.30587593e-02 -1.75254941e-02 -2.18541380e-02\n",
      "   -1.73724294e-02  2.85460837e-02  8.19228590e-04  2.44340636e-02\n",
      "   -3.56770866e-02 -2.54338868e-02  1.48928203e-02 -3.09656858e-02\n",
      "   -4.25138138e-02 -1.75653584e-02  3.17751281e-02 -4.54243682e-02\n",
      "    1.31336339e-02  2.99838819e-02  4.38800789e-02 -4.54565771e-02\n",
      "   -2.33364347e-02 -2.17376947e-02 -2.89997701e-02 -2.46595498e-02\n",
      "   -3.48014012e-02 -1.09094605e-02  4.22943570e-02  4.26769964e-02\n",
      "   -3.37886214e-02 -2.85649542e-02  3.97511460e-02  1.43190138e-02]\n",
      "  [-1.63427480e-02  1.70880668e-02  6.81295246e-03  8.63590091e-03\n",
      "   -3.86248119e-02 -8.27540085e-03  3.14838178e-02  3.07358801e-04\n",
      "    1.07288584e-02 -3.30190063e-02  1.38479136e-02 -1.43793970e-03\n",
      "    9.35193151e-03 -1.97937489e-02 -1.97448581e-03  4.92911674e-02\n",
      "    1.16095915e-02  3.55801024e-02 -3.66461053e-02 -1.68807730e-02\n",
      "    1.17010362e-02  3.27577107e-02  4.15509380e-02  2.13112868e-02\n",
      "    1.11123212e-02 -1.22872703e-02 -3.01327351e-02  2.42201202e-02\n",
      "    2.95880325e-02 -7.64733553e-03  3.75194475e-03 -2.24908590e-02\n",
      "   -4.93287444e-02 -1.30587593e-02 -1.75254941e-02 -2.18541380e-02\n",
      "   -1.73724294e-02  2.85460837e-02  8.19228590e-04  2.44340636e-02\n",
      "   -3.56770866e-02 -2.54338868e-02  1.48928203e-02 -3.09656858e-02\n",
      "   -4.25138138e-02 -1.75653584e-02  3.17751281e-02 -4.54243682e-02\n",
      "    1.31336339e-02  2.99838819e-02  4.38800789e-02 -4.54565771e-02\n",
      "   -2.33364347e-02 -2.17376947e-02 -2.89997701e-02 -2.46595498e-02\n",
      "   -3.48014012e-02 -1.09094605e-02  4.22943570e-02  4.26769964e-02\n",
      "   -3.37886214e-02 -2.85649542e-02  3.97511460e-02  1.43190138e-02]\n",
      "  [-1.63427480e-02  1.70880668e-02  6.81295246e-03  8.63590091e-03\n",
      "   -3.86248119e-02 -8.27540085e-03  3.14838178e-02  3.07358801e-04\n",
      "    1.07288584e-02 -3.30190063e-02  1.38479136e-02 -1.43793970e-03\n",
      "    9.35193151e-03 -1.97937489e-02 -1.97448581e-03  4.92911674e-02\n",
      "    1.16095915e-02  3.55801024e-02 -3.66461053e-02 -1.68807730e-02\n",
      "    1.17010362e-02  3.27577107e-02  4.15509380e-02  2.13112868e-02\n",
      "    1.11123212e-02 -1.22872703e-02 -3.01327351e-02  2.42201202e-02\n",
      "    2.95880325e-02 -7.64733553e-03  3.75194475e-03 -2.24908590e-02\n",
      "   -4.93287444e-02 -1.30587593e-02 -1.75254941e-02 -2.18541380e-02\n",
      "   -1.73724294e-02  2.85460837e-02  8.19228590e-04  2.44340636e-02\n",
      "   -3.56770866e-02 -2.54338868e-02  1.48928203e-02 -3.09656858e-02\n",
      "   -4.25138138e-02 -1.75653584e-02  3.17751281e-02 -4.54243682e-02\n",
      "    1.31336339e-02  2.99838819e-02  4.38800789e-02 -4.54565771e-02\n",
      "   -2.33364347e-02 -2.17376947e-02 -2.89997701e-02 -2.46595498e-02\n",
      "   -3.48014012e-02 -1.09094605e-02  4.22943570e-02  4.26769964e-02\n",
      "   -3.37886214e-02 -2.85649542e-02  3.97511460e-02  1.43190138e-02]\n",
      "  [-1.63427480e-02  1.70880668e-02  6.81295246e-03  8.63590091e-03\n",
      "   -3.86248119e-02 -8.27540085e-03  3.14838178e-02  3.07358801e-04\n",
      "    1.07288584e-02 -3.30190063e-02  1.38479136e-02 -1.43793970e-03\n",
      "    9.35193151e-03 -1.97937489e-02 -1.97448581e-03  4.92911674e-02\n",
      "    1.16095915e-02  3.55801024e-02 -3.66461053e-02 -1.68807730e-02\n",
      "    1.17010362e-02  3.27577107e-02  4.15509380e-02  2.13112868e-02\n",
      "    1.11123212e-02 -1.22872703e-02 -3.01327351e-02  2.42201202e-02\n",
      "    2.95880325e-02 -7.64733553e-03  3.75194475e-03 -2.24908590e-02\n",
      "   -4.93287444e-02 -1.30587593e-02 -1.75254941e-02 -2.18541380e-02\n",
      "   -1.73724294e-02  2.85460837e-02  8.19228590e-04  2.44340636e-02\n",
      "   -3.56770866e-02 -2.54338868e-02  1.48928203e-02 -3.09656858e-02\n",
      "   -4.25138138e-02 -1.75653584e-02  3.17751281e-02 -4.54243682e-02\n",
      "    1.31336339e-02  2.99838819e-02  4.38800789e-02 -4.54565771e-02\n",
      "   -2.33364347e-02 -2.17376947e-02 -2.89997701e-02 -2.46595498e-02\n",
      "   -3.48014012e-02 -1.09094605e-02  4.22943570e-02  4.26769964e-02\n",
      "   -3.37886214e-02 -2.85649542e-02  3.97511460e-02  1.43190138e-02]\n",
      "  [-1.63427480e-02  1.70880668e-02  6.81295246e-03  8.63590091e-03\n",
      "   -3.86248119e-02 -8.27540085e-03  3.14838178e-02  3.07358801e-04\n",
      "    1.07288584e-02 -3.30190063e-02  1.38479136e-02 -1.43793970e-03\n",
      "    9.35193151e-03 -1.97937489e-02 -1.97448581e-03  4.92911674e-02\n",
      "    1.16095915e-02  3.55801024e-02 -3.66461053e-02 -1.68807730e-02\n",
      "    1.17010362e-02  3.27577107e-02  4.15509380e-02  2.13112868e-02\n",
      "    1.11123212e-02 -1.22872703e-02 -3.01327351e-02  2.42201202e-02\n",
      "    2.95880325e-02 -7.64733553e-03  3.75194475e-03 -2.24908590e-02\n",
      "   -4.93287444e-02 -1.30587593e-02 -1.75254941e-02 -2.18541380e-02\n",
      "   -1.73724294e-02  2.85460837e-02  8.19228590e-04  2.44340636e-02\n",
      "   -3.56770866e-02 -2.54338868e-02  1.48928203e-02 -3.09656858e-02\n",
      "   -4.25138138e-02 -1.75653584e-02  3.17751281e-02 -4.54243682e-02\n",
      "    1.31336339e-02  2.99838819e-02  4.38800789e-02 -4.54565771e-02\n",
      "   -2.33364347e-02 -2.17376947e-02 -2.89997701e-02 -2.46595498e-02\n",
      "   -3.48014012e-02 -1.09094605e-02  4.22943570e-02  4.26769964e-02\n",
      "   -3.37886214e-02 -2.85649542e-02  3.97511460e-02  1.43190138e-02]\n",
      "  [-1.63427480e-02  1.70880668e-02  6.81295246e-03  8.63590091e-03\n",
      "   -3.86248119e-02 -8.27540085e-03  3.14838178e-02  3.07358801e-04\n",
      "    1.07288584e-02 -3.30190063e-02  1.38479136e-02 -1.43793970e-03\n",
      "    9.35193151e-03 -1.97937489e-02 -1.97448581e-03  4.92911674e-02\n",
      "    1.16095915e-02  3.55801024e-02 -3.66461053e-02 -1.68807730e-02\n",
      "    1.17010362e-02  3.27577107e-02  4.15509380e-02  2.13112868e-02\n",
      "    1.11123212e-02 -1.22872703e-02 -3.01327351e-02  2.42201202e-02\n",
      "    2.95880325e-02 -7.64733553e-03  3.75194475e-03 -2.24908590e-02\n",
      "   -4.93287444e-02 -1.30587593e-02 -1.75254941e-02 -2.18541380e-02\n",
      "   -1.73724294e-02  2.85460837e-02  8.19228590e-04  2.44340636e-02\n",
      "   -3.56770866e-02 -2.54338868e-02  1.48928203e-02 -3.09656858e-02\n",
      "   -4.25138138e-02 -1.75653584e-02  3.17751281e-02 -4.54243682e-02\n",
      "    1.31336339e-02  2.99838819e-02  4.38800789e-02 -4.54565771e-02\n",
      "   -2.33364347e-02 -2.17376947e-02 -2.89997701e-02 -2.46595498e-02\n",
      "   -3.48014012e-02 -1.09094605e-02  4.22943570e-02  4.26769964e-02\n",
      "   -3.37886214e-02 -2.85649542e-02  3.97511460e-02  1.43190138e-02]\n",
      "  [-1.63427480e-02  1.70880668e-02  6.81295246e-03  8.63590091e-03\n",
      "   -3.86248119e-02 -8.27540085e-03  3.14838178e-02  3.07358801e-04\n",
      "    1.07288584e-02 -3.30190063e-02  1.38479136e-02 -1.43793970e-03\n",
      "    9.35193151e-03 -1.97937489e-02 -1.97448581e-03  4.92911674e-02\n",
      "    1.16095915e-02  3.55801024e-02 -3.66461053e-02 -1.68807730e-02\n",
      "    1.17010362e-02  3.27577107e-02  4.15509380e-02  2.13112868e-02\n",
      "    1.11123212e-02 -1.22872703e-02 -3.01327351e-02  2.42201202e-02\n",
      "    2.95880325e-02 -7.64733553e-03  3.75194475e-03 -2.24908590e-02\n",
      "   -4.93287444e-02 -1.30587593e-02 -1.75254941e-02 -2.18541380e-02\n",
      "   -1.73724294e-02  2.85460837e-02  8.19228590e-04  2.44340636e-02\n",
      "   -3.56770866e-02 -2.54338868e-02  1.48928203e-02 -3.09656858e-02\n",
      "   -4.25138138e-02 -1.75653584e-02  3.17751281e-02 -4.54243682e-02\n",
      "    1.31336339e-02  2.99838819e-02  4.38800789e-02 -4.54565771e-02\n",
      "   -2.33364347e-02 -2.17376947e-02 -2.89997701e-02 -2.46595498e-02\n",
      "   -3.48014012e-02 -1.09094605e-02  4.22943570e-02  4.26769964e-02\n",
      "   -3.37886214e-02 -2.85649542e-02  3.97511460e-02  1.43190138e-02]]]\n",
      "Embedded text shape: (1, 15, 64)\n"
     ]
    }
   ],
   "source": [
    "# Get a random sentence from the training set and return Original text, Vectorized text, Embedded text\n",
    "rand_sentence = random.choice(train_sentences)\n",
    "print(f\"Original text: {rand_sentence}\\n\")\n",
    "print(f\"Vectorized text: {text_vectorizer([rand_sentence])}\\n\")\n",
    "print(f\"Vectorized text shape: {text_vectorizer([rand_sentence]).shape}\")\n",
    "print(f\"Embbedded text: {embedding(text_vectorizer([rand_sentence]))}\")\n",
    "print(f\"Embedded text shape: {embedding(text_vectorizer([rand_sentence])).shape}\")"
   ],
   "metadata": {
    "collapsed": false,
    "ExecuteTime": {
     "end_time": "2023-07-30T15:47:33.810657300Z",
     "start_time": "2023-07-30T15:47:33.780615100Z"
    }
   },
   "id": "2d8028a4f822acb"
  },
  {
   "cell_type": "markdown",
   "source": [
    "## Model_7: TensorFlow Hub Pretrained Feature Extractor (10% of Data)"
   ],
   "metadata": {
    "collapsed": false,
    "ExecuteTime": {
     "end_time": "2023-07-30T14:53:05.010116600Z",
     "start_time": "2023-07-30T14:53:05.005733400Z"
    }
   },
   "id": "1acc1fffc619d4fe"
  },
  {
   "cell_type": "code",
   "execution_count": 29,
   "outputs": [],
   "source": [
    "# Create subsets of 10% of the training and label data\n",
    "train_10_percent = train_df[['text', \"target\"]].sample(frac= 0.1, random_state=42)\n",
    "train_sentences_train_10_percent = train_10_percent[\"text\"].to_list()\n",
    "train_labels_train_10_percent = train_10_percent[\"target\"].to_list()"
   ],
   "metadata": {
    "collapsed": false,
    "ExecuteTime": {
     "end_time": "2023-07-30T15:47:33.824239400Z",
     "start_time": "2023-07-30T15:47:33.809249500Z"
    }
   },
   "id": "a0d126e66f87e173"
  },
  {
   "cell_type": "code",
   "execution_count": 30,
   "outputs": [
    {
     "data": {
      "text/plain": "(761, 761)"
     },
     "execution_count": 30,
     "metadata": {},
     "output_type": "execute_result"
    }
   ],
   "source": [
    "len(train_sentences_train_10_percent), len(train_labels_train_10_percent)"
   ],
   "metadata": {
    "collapsed": false,
    "ExecuteTime": {
     "end_time": "2023-07-30T15:47:33.824239400Z",
     "start_time": "2023-07-30T15:47:33.812661700Z"
    }
   },
   "id": "4a84871bbfe323f7"
  },
  {
   "cell_type": "code",
   "execution_count": 31,
   "outputs": [
    {
     "data": {
      "text/plain": "target\n0    425\n1    336\nName: count, dtype: int64"
     },
     "execution_count": 31,
     "metadata": {},
     "output_type": "execute_result"
    }
   ],
   "source": [
    "# Check the number of targets in our subset of data\n",
    "train_10_percent['target'].value_counts()"
   ],
   "metadata": {
    "collapsed": false,
    "ExecuteTime": {
     "end_time": "2023-07-30T15:47:33.824239400Z",
     "start_time": "2023-07-30T15:47:33.816985400Z"
    }
   },
   "id": "c00e69e55fdf8d30"
  },
  {
   "cell_type": "code",
   "execution_count": 32,
   "outputs": [
    {
     "data": {
      "text/plain": "target\n0    4342\n1    3271\nName: count, dtype: int64"
     },
     "execution_count": 32,
     "metadata": {},
     "output_type": "execute_result"
    }
   ],
   "source": [
    "train_df['target'].value_counts()"
   ],
   "metadata": {
    "collapsed": false,
    "ExecuteTime": {
     "end_time": "2023-07-30T15:47:33.825239500Z",
     "start_time": "2023-07-30T15:47:33.820500300Z"
    }
   },
   "id": "fe1100471c4bbb6d"
  },
  {
   "cell_type": "code",
   "execution_count": 33,
   "outputs": [],
   "source": [
    "# Create a Keras Layer using the USE pretrained layer from tensorflow hub\n",
    "import tensorflow_hub as hub\n",
    "sentence_encoder_layer = hub.KerasLayer(\"https://tfhub.dev/google/universal-sentence-encoder/4\",\n",
    "                                        input_shape= [], # empty because it is variable input length (any length)\n",
    "                                        dtype = tf.string,\n",
    "                                        trainable= False,\n",
    "                                        name = \"USE\")"
   ],
   "metadata": {
    "collapsed": false,
    "ExecuteTime": {
     "end_time": "2023-07-30T15:47:37.799882300Z",
     "start_time": "2023-07-30T15:47:33.825239500Z"
    }
   },
   "id": "b8c9fdeae09a704f"
  },
  {
   "cell_type": "code",
   "execution_count": 34,
   "outputs": [
    {
     "name": "stdout",
     "output_type": "stream",
     "text": [
      "Model: \"model_7_USE_10_percent\"\n",
      "_________________________________________________________________\n",
      " Layer (type)                Output Shape              Param #   \n",
      "=================================================================\n",
      " USE (KerasLayer)            (None, 512)               256797824 \n",
      "                                                                 \n",
      " dense (Dense)               (None, 64)                32832     \n",
      "                                                                 \n",
      " dense_1 (Dense)             (None, 1)                 65        \n",
      "                                                                 \n",
      "=================================================================\n",
      "Total params: 256830721 (979.73 MB)\n",
      "Trainable params: 32897 (128.50 KB)\n",
      "Non-trainable params: 256797824 (979.61 MB)\n",
      "_________________________________________________________________\n"
     ]
    }
   ],
   "source": [
    "# Create model using the Sequential API\n",
    "model_7 = tf.keras.Sequential([\n",
    "    sentence_encoder_layer,\n",
    "    layers.Dense(64, activation = \"relu\"),\n",
    "    layers.Dense(1, activation = \"sigmoid\")\n",
    "], name = \"model_7_USE_10_percent\")\n",
    "\n",
    "# Compile\n",
    "model_7.compile(loss = 'binary_crossentropy',\n",
    "                optimizer= tf.keras.optimizers.Adam(),\n",
    "                metrics = ['accuracy'])\n",
    "\n",
    "model_7.summary()\n"
   ],
   "metadata": {
    "collapsed": false,
    "ExecuteTime": {
     "end_time": "2023-07-30T15:47:37.883571700Z",
     "start_time": "2023-07-30T15:47:37.415228900Z"
    }
   },
   "id": "8e034faf54ebe5f5"
  },
  {
   "cell_type": "code",
   "execution_count": 35,
   "outputs": [
    {
     "name": "stdout",
     "output_type": "stream",
     "text": [
      "Epoch 1/5\n",
      "24/24 [==============================] - 2s 23ms/step - loss: 0.6660 - accuracy: 0.7122 - val_loss: 0.6240 - val_accuracy: 0.7979\n",
      "Epoch 2/5\n",
      "24/24 [==============================] - 0s 10ms/step - loss: 0.5899 - accuracy: 0.8081 - val_loss: 0.5416 - val_accuracy: 0.8163\n",
      "Epoch 3/5\n",
      "24/24 [==============================] - 0s 9ms/step - loss: 0.5101 - accuracy: 0.8147 - val_loss: 0.4708 - val_accuracy: 0.8189\n",
      "Epoch 4/5\n",
      "24/24 [==============================] - 0s 9ms/step - loss: 0.4506 - accuracy: 0.8134 - val_loss: 0.4226 - val_accuracy: 0.8228\n",
      "Epoch 5/5\n",
      "24/24 [==============================] - 0s 9ms/step - loss: 0.4124 - accuracy: 0.8252 - val_loss: 0.3894 - val_accuracy: 0.8320\n"
     ]
    }
   ],
   "source": [
    "model_7_history = model_7.fit(train_sentences_train_10_percent,\n",
    "                              train_labels_train_10_percent,\n",
    "                              epochs = 5,\n",
    "                              validation_data=(val_sentences, val_labels))"
   ],
   "metadata": {
    "collapsed": false,
    "ExecuteTime": {
     "end_time": "2023-07-30T15:47:41.019496600Z",
     "start_time": "2023-07-30T15:47:37.786978100Z"
    }
   },
   "id": "3fad33b12b947b65"
  },
  {
   "cell_type": "code",
   "execution_count": 36,
   "outputs": [
    {
     "name": "stdout",
     "output_type": "stream",
     "text": [
      "24/24 [==============================] - 0s 4ms/step\n"
     ]
    }
   ],
   "source": [
    "# Make predictions with the model trained on 10% of the data\n",
    "model_7_pred_probs = model_7.predict(val_sentences)\n",
    "model_7_preds = tf.squeeze(tf.round(model_7_pred_probs))"
   ],
   "metadata": {
    "collapsed": false,
    "ExecuteTime": {
     "end_time": "2023-07-30T15:47:41.368573Z",
     "start_time": "2023-07-30T15:47:40.992954300Z"
    }
   },
   "id": "3751feb38705b01e"
  },
  {
   "cell_type": "code",
   "execution_count": 37,
   "outputs": [],
   "source": [
    "from sklearn.metrics import accuracy_score, precision_recall_fscore_support\n",
    "\n",
    "model_7_accuracy_score = accuracy_score(val_labels, model_7_preds)\n",
    "model_7_precision, model_7_recall, model_7_f1score, _, =precision_recall_fscore_support(val_labels, model_7_preds, average = \"weighted\")"
   ],
   "metadata": {
    "collapsed": false,
    "ExecuteTime": {
     "end_time": "2023-07-30T15:47:41.378980100Z",
     "start_time": "2023-07-30T15:47:41.364572300Z"
    }
   },
   "id": "bb72cbd0e53eeb99"
  },
  {
   "cell_type": "code",
   "execution_count": 38,
   "outputs": [
    {
     "data": {
      "text/plain": "{'model_7_accuracy_score': 0.8320209973753281,\n 'model_7_precision': 0.831722772777453,\n 'model_7_recall': {0.8320209973753281},\n 'model_7_f1score': {0.8317266299542656}}"
     },
     "execution_count": 38,
     "metadata": {},
     "output_type": "execute_result"
    }
   ],
   "source": [
    "dict_result = {\"model_7_accuracy_score\": model_7_accuracy_score,\n",
    "               \"model_7_precision\": model_7_precision,\n",
    "               \"model_7_recall\": {model_7_recall},\n",
    "               \"model_7_f1score\": {model_7_f1score}}\n",
    "dict_result"
   ],
   "metadata": {
    "collapsed": false,
    "ExecuteTime": {
     "end_time": "2023-07-30T15:47:41.379985500Z",
     "start_time": "2023-07-30T15:47:41.370940300Z"
    }
   },
   "id": "acfa3bb352a28ad4"
  },
  {
   "cell_type": "markdown",
   "source": [
    "## Challenge: Predicting on Tweets from the wild"
   ],
   "metadata": {
    "collapsed": false
   },
   "id": "f032b59ea091104f"
  },
  {
   "cell_type": "code",
   "execution_count": 41,
   "outputs": [
    {
     "name": "stdout",
     "output_type": "stream",
     "text": [
      "1/1 [==============================] - 0s 26ms/step\n",
      "Pred: 0,\n",
      "Prob: 0.12592485547065735\n",
      "Text:\n",
      "I am a very handsome and intelligent guy\n",
      "\n",
      "----\n"
     ]
    }
   ],
   "source": [
    "sample_tweet = ['I am a very handsome and intelligent guy']\n",
    "\n",
    "for samp_tweet in sample_tweet:\n",
    "    pred_prob = tf.squeeze(model_7.predict([samp_tweet]))\n",
    "    pred = tf.round(pred_prob)\n",
    "    print(f\"Pred: {int(pred)},\\nProb: {pred_prob}\")\n",
    "    print(f\"Text:\\n{samp_tweet}\\n\")\n",
    "    print(\"----\\n\")"
   ],
   "metadata": {
    "collapsed": false,
    "ExecuteTime": {
     "end_time": "2023-07-30T15:49:52.098076300Z",
     "start_time": "2023-07-30T15:49:52.032391600Z"
    }
   },
   "id": "d3e8d4f32c0dd501"
  },
  {
   "cell_type": "markdown",
   "source": [
    "Note: The tweet is not a Disaster."
   ],
   "metadata": {
    "collapsed": false
   },
   "id": "ae4f26f486670c7c"
  },
  {
   "cell_type": "markdown",
   "source": [],
   "metadata": {
    "collapsed": false
   },
   "id": "dee18e40aa208834"
  }
 ],
 "metadata": {
  "kernelspec": {
   "display_name": "Python 3",
   "language": "python",
   "name": "python3"
  },
  "language_info": {
   "codemirror_mode": {
    "name": "ipython",
    "version": 2
   },
   "file_extension": ".py",
   "mimetype": "text/x-python",
   "name": "python",
   "nbconvert_exporter": "python",
   "pygments_lexer": "ipython2",
   "version": "2.7.6"
  }
 },
 "nbformat": 4,
 "nbformat_minor": 5
}
