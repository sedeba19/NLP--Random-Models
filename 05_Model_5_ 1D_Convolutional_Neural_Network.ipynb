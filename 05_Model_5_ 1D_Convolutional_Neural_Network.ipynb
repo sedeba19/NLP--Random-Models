{
 "cells": [
  {
   "cell_type": "code",
   "execution_count": 1,
   "outputs": [
    {
     "data": {
      "text/plain": "'2.13.0'"
     },
     "execution_count": 1,
     "metadata": {},
     "output_type": "execute_result"
    }
   ],
   "source": [
    "import os\n",
    "import tensorflow as tf\n",
    "import pandas as pd\n",
    "\n",
    "tf.__version__\n"
   ],
   "metadata": {
    "collapsed": false,
    "ExecuteTime": {
     "end_time": "2023-07-30T15:11:23.589310100Z",
     "start_time": "2023-07-30T15:11:21.395523500Z"
    }
   },
   "id": "d895e3f341f9cd2c"
  },
  {
   "cell_type": "code",
   "execution_count": 2,
   "outputs": [],
   "source": [
    "train_dir = r'https://raw.githubusercontent.com/sedeba19/NLP--Random-Models/main/train.csv'\n",
    "test_dir = r'https://raw.githubusercontent.com/sedeba19/NLP--Random-Models/main/test.csv'"
   ],
   "metadata": {
    "collapsed": false,
    "ExecuteTime": {
     "end_time": "2023-07-30T15:11:23.603033500Z",
     "start_time": "2023-07-30T15:11:23.591312300Z"
    }
   },
   "id": "f9e05dc9db4f2150"
  },
  {
   "cell_type": "code",
   "execution_count": 3,
   "outputs": [
    {
     "data": {
      "text/plain": "'https://raw.githubusercontent.com/sedeba19/NLP--Random-Models/main/train.csv'"
     },
     "execution_count": 3,
     "metadata": {},
     "output_type": "execute_result"
    }
   ],
   "source": [
    "train_dir"
   ],
   "metadata": {
    "collapsed": false,
    "ExecuteTime": {
     "end_time": "2023-07-30T15:11:23.603033500Z",
     "start_time": "2023-07-30T15:11:23.594838700Z"
    }
   },
   "id": "e237aa9b92bb079a"
  },
  {
   "cell_type": "code",
   "execution_count": 4,
   "outputs": [
    {
     "data": {
      "text/plain": "   id keyword location                                               text  \\\n0   1     NaN      NaN  Our Deeds are the Reason of this #earthquake M...   \n1   4     NaN      NaN             Forest fire near La Ronge Sask. Canada   \n2   5     NaN      NaN  All residents asked to 'shelter in place' are ...   \n3   6     NaN      NaN  13,000 people receive #wildfires evacuation or...   \n4   7     NaN      NaN  Just got sent this photo from Ruby #Alaska as ...   \n\n   target  \n0       1  \n1       1  \n2       1  \n3       1  \n4       1  ",
      "text/html": "<div>\n<style scoped>\n    .dataframe tbody tr th:only-of-type {\n        vertical-align: middle;\n    }\n\n    .dataframe tbody tr th {\n        vertical-align: top;\n    }\n\n    .dataframe thead th {\n        text-align: right;\n    }\n</style>\n<table border=\"1\" class=\"dataframe\">\n  <thead>\n    <tr style=\"text-align: right;\">\n      <th></th>\n      <th>id</th>\n      <th>keyword</th>\n      <th>location</th>\n      <th>text</th>\n      <th>target</th>\n    </tr>\n  </thead>\n  <tbody>\n    <tr>\n      <th>0</th>\n      <td>1</td>\n      <td>NaN</td>\n      <td>NaN</td>\n      <td>Our Deeds are the Reason of this #earthquake M...</td>\n      <td>1</td>\n    </tr>\n    <tr>\n      <th>1</th>\n      <td>4</td>\n      <td>NaN</td>\n      <td>NaN</td>\n      <td>Forest fire near La Ronge Sask. Canada</td>\n      <td>1</td>\n    </tr>\n    <tr>\n      <th>2</th>\n      <td>5</td>\n      <td>NaN</td>\n      <td>NaN</td>\n      <td>All residents asked to 'shelter in place' are ...</td>\n      <td>1</td>\n    </tr>\n    <tr>\n      <th>3</th>\n      <td>6</td>\n      <td>NaN</td>\n      <td>NaN</td>\n      <td>13,000 people receive #wildfires evacuation or...</td>\n      <td>1</td>\n    </tr>\n    <tr>\n      <th>4</th>\n      <td>7</td>\n      <td>NaN</td>\n      <td>NaN</td>\n      <td>Just got sent this photo from Ruby #Alaska as ...</td>\n      <td>1</td>\n    </tr>\n  </tbody>\n</table>\n</div>"
     },
     "execution_count": 4,
     "metadata": {},
     "output_type": "execute_result"
    }
   ],
   "source": [
    "# Make a train_df\n",
    "train_df = pd.read_csv(train_dir)\n",
    "test_df = pd.read_csv(test_dir)\n",
    "train_df.head()"
   ],
   "metadata": {
    "collapsed": false,
    "ExecuteTime": {
     "end_time": "2023-07-30T15:11:23.756887300Z",
     "start_time": "2023-07-30T15:11:23.599033100Z"
    }
   },
   "id": "c858f9a76b34b934"
  },
  {
   "cell_type": "code",
   "execution_count": 5,
   "outputs": [
    {
     "data": {
      "text/plain": "         id               keyword                  location  \\\n3228   4632  emergency%20services   Sydney, New South Wales   \n3706   5271                  fear                       NaN   \n6957   9982               tsunami         Land Of The Kings   \n2887   4149                 drown                       NaN   \n7464  10680                wounds  cody, austin follows ?*?   \n\n                                                   text  target  \n3228  Goulburn man Henry Van Bilsen missing: Emergen...       1  \n3706  The things we fear most in organizations--fluc...       0  \n6957                            @tsunami_esh ?? hey Esh       0  \n2887  @POTUS you until you drown by water entering t...       0  \n7464  Crawling in my skin\\nThese wounds they will no...       1  ",
      "text/html": "<div>\n<style scoped>\n    .dataframe tbody tr th:only-of-type {\n        vertical-align: middle;\n    }\n\n    .dataframe tbody tr th {\n        vertical-align: top;\n    }\n\n    .dataframe thead th {\n        text-align: right;\n    }\n</style>\n<table border=\"1\" class=\"dataframe\">\n  <thead>\n    <tr style=\"text-align: right;\">\n      <th></th>\n      <th>id</th>\n      <th>keyword</th>\n      <th>location</th>\n      <th>text</th>\n      <th>target</th>\n    </tr>\n  </thead>\n  <tbody>\n    <tr>\n      <th>3228</th>\n      <td>4632</td>\n      <td>emergency%20services</td>\n      <td>Sydney, New South Wales</td>\n      <td>Goulburn man Henry Van Bilsen missing: Emergen...</td>\n      <td>1</td>\n    </tr>\n    <tr>\n      <th>3706</th>\n      <td>5271</td>\n      <td>fear</td>\n      <td>NaN</td>\n      <td>The things we fear most in organizations--fluc...</td>\n      <td>0</td>\n    </tr>\n    <tr>\n      <th>6957</th>\n      <td>9982</td>\n      <td>tsunami</td>\n      <td>Land Of The Kings</td>\n      <td>@tsunami_esh ?? hey Esh</td>\n      <td>0</td>\n    </tr>\n    <tr>\n      <th>2887</th>\n      <td>4149</td>\n      <td>drown</td>\n      <td>NaN</td>\n      <td>@POTUS you until you drown by water entering t...</td>\n      <td>0</td>\n    </tr>\n    <tr>\n      <th>7464</th>\n      <td>10680</td>\n      <td>wounds</td>\n      <td>cody, austin follows ?*?</td>\n      <td>Crawling in my skin\\nThese wounds they will no...</td>\n      <td>1</td>\n    </tr>\n  </tbody>\n</table>\n</div>"
     },
     "execution_count": 5,
     "metadata": {},
     "output_type": "execute_result"
    }
   ],
   "source": [
    "# Shuffle training dataframe\n",
    "train_df_shuffled = train_df.sample(frac = 1, random_state = 1)\n",
    "train_df_shuffled.head()"
   ],
   "metadata": {
    "collapsed": false,
    "ExecuteTime": {
     "end_time": "2023-07-30T15:11:23.786123900Z",
     "start_time": "2023-07-30T15:11:23.753891900Z"
    }
   },
   "id": "ffa95adda1afec99"
  },
  {
   "cell_type": "code",
   "execution_count": 6,
   "outputs": [
    {
     "data": {
      "text/plain": "(7613, 5)"
     },
     "execution_count": 6,
     "metadata": {},
     "output_type": "execute_result"
    }
   ],
   "source": [
    "train_df_shuffled.shape"
   ],
   "metadata": {
    "collapsed": false,
    "ExecuteTime": {
     "end_time": "2023-07-30T15:11:23.786123900Z",
     "start_time": "2023-07-30T15:11:23.762994700Z"
    }
   },
   "id": "66e71f2c2322a35c"
  },
  {
   "cell_type": "code",
   "execution_count": 7,
   "outputs": [
    {
     "data": {
      "text/plain": "target\n0    4342\n1    3271\nName: count, dtype: int64"
     },
     "execution_count": 7,
     "metadata": {},
     "output_type": "execute_result"
    }
   ],
   "source": [
    "# How many examples of each class?\n",
    "train_df['target'].value_counts()"
   ],
   "metadata": {
    "collapsed": false,
    "ExecuteTime": {
     "end_time": "2023-07-30T15:11:23.787123800Z",
     "start_time": "2023-07-30T15:11:23.770285600Z"
    }
   },
   "id": "e8f13f3fbc904937"
  },
  {
   "cell_type": "code",
   "execution_count": 8,
   "outputs": [
    {
     "data": {
      "text/plain": "(7613, 3263)"
     },
     "execution_count": 8,
     "metadata": {},
     "output_type": "execute_result"
    }
   ],
   "source": [
    "# How many total samples?\n",
    "len(train_df), len(test_df)"
   ],
   "metadata": {
    "collapsed": false,
    "ExecuteTime": {
     "end_time": "2023-07-30T15:11:23.787123800Z",
     "start_time": "2023-07-30T15:11:23.775454800Z"
    }
   },
   "id": "6a3f06f716aed950"
  },
  {
   "cell_type": "code",
   "execution_count": 9,
   "outputs": [
    {
     "name": "stdout",
     "output_type": "stream",
     "text": [
      "Target:0 (not a real disaster)\n",
      "Text: \n",
      "the apocalypse is upon us\n",
      "-----\n",
      "\n",
      "Target:0 (not a real disaster)\n",
      "Text: \n",
      "when you are quarantined to a little corner bc you are too sick to be in the office but work is piling up and they need you kinda day\n",
      "-----\n",
      "\n",
      "Target:0 (not a real disaster)\n",
      "Text: \n",
      "just got engulfed in a car-induced tidal wave on my run... I thought this only happened in the movies ????\n",
      "-----\n",
      "\n",
      "Target:0 (not a real disaster)\n",
      "Text: \n",
      "Blending the old with the new in #Vanuatu to prepare for future emergencies: \n",
      "http://t.co/aFMKcFn1TL http://t.co/8QqzYZIAqf\n",
      "-----\n",
      "\n",
      "Target:1 (real disaster)\n",
      "Text: \n",
      "#INCIDENT\n",
      "Crash in Pascoe Vale South outbound on Tullamarine Fwy (CityLink) near Moreland Rd. Vehicles off in emergency lane. No delays.\n",
      "-----\n"
     ]
    }
   ],
   "source": [
    "# Visualize some random training examples\n",
    "import random\n",
    "random_index = random.randint(0, len(train_df)-5)\n",
    "for row in train_df_shuffled[[\"text\", \"target\"]][random_index: random_index +5].itertuples():\n",
    "    _, text, target = row\n",
    "    if target > 0:\n",
    "        print(f\"Target:{target}\", \"(real disaster)\")\n",
    "    else:\n",
    "        print(f\"Target:{target}\", \"(not a real disaster)\")\n",
    "    \n",
    "    print(f\"Text: \\n{text}\")\n",
    "    print(\"-----\\n\")"
   ],
   "metadata": {
    "collapsed": false,
    "ExecuteTime": {
     "end_time": "2023-07-30T15:11:23.831264800Z",
     "start_time": "2023-07-30T15:11:23.781533800Z"
    }
   },
   "id": "99ad01fd617f2fad"
  },
  {
   "cell_type": "markdown",
   "source": [
    "### Split data into training and validation sets"
   ],
   "metadata": {
    "collapsed": false,
    "ExecuteTime": {
     "end_time": "2023-07-30T14:51:36.806941100Z",
     "start_time": "2023-07-30T14:51:36.543251100Z"
    }
   },
   "id": "cc004f467eb6820b"
  },
  {
   "cell_type": "code",
   "execution_count": 10,
   "outputs": [],
   "source": [
    "from sklearn.model_selection import train_test_split\n",
    "\n",
    "train_sentences, val_sentences, train_labels, val_labels = train_test_split(train_df['text'],\n",
    "                                                                            train_df['target'],\n",
    "                                                                            test_size = 0.1,\n",
    "                                                                            random_state = 42)"
   ],
   "metadata": {
    "collapsed": false,
    "ExecuteTime": {
     "end_time": "2023-07-30T15:11:24.155015400Z",
     "start_time": "2023-07-30T15:11:23.790263800Z"
    }
   },
   "id": "e9962e431d6f4625"
  },
  {
   "cell_type": "code",
   "execution_count": 11,
   "outputs": [
    {
     "data": {
      "text/plain": "(7613,)"
     },
     "execution_count": 11,
     "metadata": {},
     "output_type": "execute_result"
    }
   ],
   "source": [
    "train_df['text'].shape"
   ],
   "metadata": {
    "collapsed": false,
    "ExecuteTime": {
     "end_time": "2023-07-30T15:11:24.168934100Z",
     "start_time": "2023-07-30T15:11:24.155015400Z"
    }
   },
   "id": "2044aeeaed5209d8"
  },
  {
   "cell_type": "code",
   "execution_count": 12,
   "outputs": [
    {
     "data": {
      "text/plain": "0       Our Deeds are the Reason of this #earthquake M...\n1                  Forest fire near La Ronge Sask. Canada\n2       All residents asked to 'shelter in place' are ...\n3       13,000 people receive #wildfires evacuation or...\n4       Just got sent this photo from Ruby #Alaska as ...\n                              ...                        \n7608    Two giant cranes holding a bridge collapse int...\n7609    @aria_ahrary @TheTawniest The out of control w...\n7610    M1.94 [01:04 UTC]?5km S of Volcano Hawaii. htt...\n7611    Police investigating after an e-bike collided ...\n7612    The Latest: More Homes Razed by Northern Calif...\nName: text, Length: 7613, dtype: object"
     },
     "execution_count": 12,
     "metadata": {},
     "output_type": "execute_result"
    }
   ],
   "source": [
    "train_df[\"text\"]"
   ],
   "metadata": {
    "collapsed": false,
    "ExecuteTime": {
     "end_time": "2023-07-30T15:11:24.168934100Z",
     "start_time": "2023-07-30T15:11:24.160290900Z"
    }
   },
   "id": "aecfc9a6831f9cee"
  },
  {
   "cell_type": "code",
   "execution_count": 13,
   "outputs": [
    {
     "data": {
      "text/plain": "array(['Our Deeds are the Reason of this #earthquake May ALLAH Forgive us all',\n       'Forest fire near La Ronge Sask. Canada',\n       \"All residents asked to 'shelter in place' are being notified by officers. No other evacuation or shelter in place orders are expected\",\n       ...,\n       'M1.94 [01:04 UTC]?5km S of Volcano Hawaii. http://t.co/zDtoyd8EbJ',\n       'Police investigating after an e-bike collided with a car in Little Portugal. E-bike rider suffered serious non-life threatening injuries.',\n       'The Latest: More Homes Razed by Northern California Wildfire - ABC News http://t.co/YmY4rSkQ3d'],\n      dtype=object)"
     },
     "execution_count": 13,
     "metadata": {},
     "output_type": "execute_result"
    }
   ],
   "source": [
    "train_df['text'].to_numpy()"
   ],
   "metadata": {
    "collapsed": false,
    "ExecuteTime": {
     "end_time": "2023-07-30T15:11:24.173442500Z",
     "start_time": "2023-07-30T15:11:24.166859500Z"
    }
   },
   "id": "4cdc72f6e817f834"
  },
  {
   "cell_type": "code",
   "execution_count": 14,
   "outputs": [
    {
     "data": {
      "text/plain": "array(['Our Deeds are the Reason of this #earthquake May ALLAH Forgive us all',\n       'Forest fire near La Ronge Sask. Canada',\n       \"All residents asked to 'shelter in place' are being notified by officers. No other evacuation or shelter in place orders are expected\",\n       ...,\n       'M1.94 [01:04 UTC]?5km S of Volcano Hawaii. http://t.co/zDtoyd8EbJ',\n       'Police investigating after an e-bike collided with a car in Little Portugal. E-bike rider suffered serious non-life threatening injuries.',\n       'The Latest: More Homes Razed by Northern California Wildfire - ABC News http://t.co/YmY4rSkQ3d'],\n      dtype=object)"
     },
     "execution_count": 14,
     "metadata": {},
     "output_type": "execute_result"
    }
   ],
   "source": [
    "train_df['text'].to_numpy()"
   ],
   "metadata": {
    "collapsed": false,
    "ExecuteTime": {
     "end_time": "2023-07-30T15:11:24.178777700Z",
     "start_time": "2023-07-30T15:11:24.175261700Z"
    }
   },
   "id": "ec43b6635db1dc03"
  },
  {
   "cell_type": "code",
   "execution_count": 15,
   "outputs": [
    {
     "data": {
      "text/plain": "(6851, 762, 6851, 762)"
     },
     "execution_count": 15,
     "metadata": {},
     "output_type": "execute_result"
    }
   ],
   "source": [
    "len(train_sentences), len(val_sentences), len(train_labels), len(val_labels)"
   ],
   "metadata": {
    "collapsed": false,
    "ExecuteTime": {
     "end_time": "2023-07-30T15:11:24.193317300Z",
     "start_time": "2023-07-30T15:11:24.177775100Z"
    }
   },
   "id": "c4b936bb4e61352a"
  },
  {
   "cell_type": "markdown",
   "source": [
    "### Converting text into numbers: Text Vectorization also known as Tokenization"
   ],
   "metadata": {
    "collapsed": false,
    "ExecuteTime": {
     "end_time": "2023-07-30T14:51:36.884692100Z",
     "start_time": "2023-07-30T14:51:36.830714500Z"
    }
   },
   "id": "5777dedf87f2662b"
  },
  {
   "cell_type": "code",
   "execution_count": 16,
   "outputs": [
    {
     "data": {
      "text/plain": "101905"
     },
     "execution_count": 16,
     "metadata": {},
     "output_type": "execute_result"
    }
   ],
   "source": [
    "# Get the total words\n",
    "total_words = 0\n",
    "for i in train_sentences:\n",
    "    total_words += len(i.split())\n",
    "\n",
    "total_words"
   ],
   "metadata": {
    "collapsed": false,
    "ExecuteTime": {
     "end_time": "2023-07-30T15:11:24.211164Z",
     "start_time": "2023-07-30T15:11:24.183785600Z"
    }
   },
   "id": "618457c173977155"
  },
  {
   "cell_type": "code",
   "execution_count": 17,
   "outputs": [
    {
     "data": {
      "text/plain": "(6851,)"
     },
     "execution_count": 17,
     "metadata": {},
     "output_type": "execute_result"
    }
   ],
   "source": [
    "train_sentences.shape"
   ],
   "metadata": {
    "collapsed": false,
    "ExecuteTime": {
     "end_time": "2023-07-30T15:11:24.215164600Z",
     "start_time": "2023-07-30T15:11:24.193317300Z"
    }
   },
   "id": "829d84b65c26bb92"
  },
  {
   "cell_type": "code",
   "execution_count": 18,
   "outputs": [
    {
     "data": {
      "text/plain": "15"
     },
     "execution_count": 18,
     "metadata": {},
     "output_type": "execute_result"
    }
   ],
   "source": [
    "# Get the average words per sentence or line\n",
    "avg_words_per_sentence = round(total_words/len(train_sentences))\n",
    "avg_words_per_sentence"
   ],
   "metadata": {
    "collapsed": false,
    "ExecuteTime": {
     "end_time": "2023-07-30T15:11:24.215164600Z",
     "start_time": "2023-07-30T15:11:24.200192700Z"
    }
   },
   "id": "a7a8bed44aec85d5"
  },
  {
   "cell_type": "code",
   "execution_count": 19,
   "outputs": [],
   "source": [
    "# Normally, total number of words is equal or less than the max vocabulary length\n",
    "max_vocab_length = 10000\n",
    "\n",
    "# max length of a statement is equal or more than the average word per sentence or line\n",
    "max_length = 15"
   ],
   "metadata": {
    "collapsed": false,
    "ExecuteTime": {
     "end_time": "2023-07-30T15:11:24.215164600Z",
     "start_time": "2023-07-30T15:11:24.203883200Z"
    }
   },
   "id": "92ebee1bf68d8486"
  },
  {
   "cell_type": "code",
   "execution_count": 20,
   "outputs": [],
   "source": [
    "import tensorflow as tf\n",
    "from tensorflow.keras.layers.experimental.preprocessing import TextVectorization\n",
    "\n",
    "text_vectorizer = TextVectorization(max_tokens = max_vocab_length,\n",
    "                                    output_mode = \"int\",\n",
    "                                    output_sequence_length = max_length)\n",
    "\n",
    "# Fit the text vectorizer to the training set\n",
    "text_vectorizer.adapt(train_sentences)"
   ],
   "metadata": {
    "collapsed": false,
    "ExecuteTime": {
     "end_time": "2023-07-30T15:11:24.607970400Z",
     "start_time": "2023-07-30T15:11:24.208163300Z"
    }
   },
   "id": "8805b068faa29b89"
  },
  {
   "cell_type": "code",
   "execution_count": 21,
   "outputs": [
    {
     "name": "stdout",
     "output_type": "stream",
     "text": [
      "There's a flood in my street! Sentence length is 29.\n"
     ]
    },
    {
     "data": {
      "text/plain": "<tf.Tensor: shape=(1, 15), dtype=int64, numpy=\narray([[282,   3, 206,   4,  13, 674,   0,   0,   0,   0,   0,   0,   0,\n          0,   0]], dtype=int64)>"
     },
     "execution_count": 21,
     "metadata": {},
     "output_type": "execute_result"
    }
   ],
   "source": [
    "# Create a sample sentence and tokenize it\n",
    "samp_sentence = \"There's a flood in my street!\"\n",
    "print(samp_sentence, f\"Sentence length is {len(samp_sentence)}.\")\n",
    "text_vectorizer([samp_sentence])\n",
    "#len(tf.squeeze(text_vectorizer([samp_sentence])))"
   ],
   "metadata": {
    "collapsed": false,
    "ExecuteTime": {
     "end_time": "2023-07-30T15:11:24.611970900Z",
     "start_time": "2023-07-30T15:11:24.579350600Z"
    }
   },
   "id": "111d45283fbfd4ae"
  },
  {
   "cell_type": "code",
   "execution_count": 22,
   "outputs": [
    {
     "name": "stdout",
     "output_type": "stream",
     "text": [
      "Original text: \n",
      "\n",
      " Imagine having KP AND Root.... We'd demolish everyone \n",
      "\n",
      "Vectorized text:\n"
     ]
    },
    {
     "data": {
      "text/plain": "<tf.Tensor: shape=(1, 15), dtype=int64, numpy=\narray([[1517,  600,    1,    7, 1781, 1737,  555,  232,    0,    0,    0,\n           0,    0,    0,    0]], dtype=int64)>"
     },
     "execution_count": 22,
     "metadata": {},
     "output_type": "execute_result"
    }
   ],
   "source": [
    "# Choose random sentence from the training dataset and tokenize it\n",
    "rand_train_sentence = random.choice(train_sentences)\n",
    "print(f\"Original text: \\n\\n {rand_train_sentence} \\n\\nVectorized text:\")\n",
    "text_vectorizer([rand_train_sentence])"
   ],
   "metadata": {
    "collapsed": false,
    "ExecuteTime": {
     "end_time": "2023-07-30T15:11:24.636213400Z",
     "start_time": "2023-07-30T15:11:24.608969800Z"
    }
   },
   "id": "4f30ca7e95b2b5e5"
  },
  {
   "cell_type": "code",
   "execution_count": 23,
   "outputs": [
    {
     "data": {
      "text/plain": "['',\n '[UNK]',\n 'the',\n 'a',\n 'in',\n 'to',\n 'of',\n 'and',\n 'i',\n 'is',\n 'for',\n 'on',\n 'you',\n 'my',\n 'with',\n 'it',\n 'that',\n 'at',\n 'by',\n 'this',\n 'from',\n 'are',\n 'be',\n 'was',\n 'have',\n 'like',\n 'as',\n 'me',\n 'but',\n 'up',\n 'just',\n 'so',\n 'im',\n 'not',\n 'amp',\n 'your',\n 'out',\n 'all',\n 'after',\n 'its',\n 'has',\n 'no',\n 'will',\n 'an',\n 'fire',\n 'when',\n 'if',\n 'we',\n 'get',\n 'now',\n 'more',\n 'via',\n 'new',\n 'about',\n 'what',\n 'people',\n 'or',\n 'news',\n 'he',\n 'they',\n 'over',\n 'one',\n 'been',\n 'how',\n 'dont',\n 'who',\n 'video',\n 'into',\n 'were',\n 'do',\n 'us',\n 'can',\n 'emergency',\n '2',\n 'disaster',\n 'there',\n 'her',\n 'some',\n 'than',\n 'still',\n 'would',\n 'his',\n 'police',\n 'crash',\n 'burning',\n 'suicide',\n 'body',\n 'california',\n 'back',\n 'time',\n 'buildings',\n 'had',\n 'why',\n 'off',\n 'them',\n 'got',\n 'man',\n 'see',\n 'storm',\n 'know',\n 'going',\n 'cant',\n 'world',\n 'first',\n 'day',\n 'rt',\n 'nuclear',\n 'love',\n 'youtube',\n 'our',\n 'attack',\n 'go',\n 'fires',\n 'two',\n 'their',\n 'bomb',\n 'killed',\n '3',\n 'train',\n 'dead',\n 'car',\n 'war',\n 'life',\n 'may',\n 'watch',\n 'full',\n 'only',\n 'here',\n 'hiroshima',\n 'down',\n 'today',\n 'u',\n 'accident',\n 'think',\n 'many',\n 'good',\n 'way',\n 'families',\n 'too',\n 'then',\n 'say',\n 'being',\n 'last',\n 'could',\n 'years',\n 'want',\n 'did',\n 'home',\n 'best',\n 'should',\n 'need',\n 'mass',\n 'even',\n 'work',\n 'make',\n 'help',\n 'bombing',\n 'wildfire',\n 'please',\n 'look',\n 'lol',\n 'because',\n 'another',\n 'take',\n 'him',\n 'collapse',\n 'year',\n 'water',\n 'those',\n 'really',\n 'army',\n 'am',\n 'school',\n 'mh370',\n 'death',\n 'right',\n 'pm',\n 'black',\n 'much',\n 'forest',\n 'fatal',\n '5',\n 'youre',\n 'she',\n 'northern',\n '4',\n 'live',\n 'city',\n 'bomber',\n 'wreck',\n 'hot',\n 'great',\n 'every',\n '2015',\n 'old',\n 'let',\n 'legionnaires',\n 'fear',\n 'obama',\n 'latest',\n 'homes',\n 'flames',\n 'come',\n '1',\n 'never',\n 'getting',\n 'flood',\n '\\x89Û',\n 'where',\n 'said',\n 'japan',\n 'shit',\n 'floods',\n 'during',\n 'atomic',\n 'god',\n 'damage',\n 'under',\n 'near',\n 'feel',\n 'ever',\n 'earthquake',\n 'ass',\n 'which',\n 'since',\n 'read',\n 'oil',\n 'night',\n 'most',\n 'military',\n 'injured',\n 'hope',\n 'everyone',\n 'coming',\n 'any',\n 'without',\n 'while',\n 'well',\n 'thats',\n 'stop',\n 'next',\n 'hit',\n 'weather',\n 'these',\n 'state',\n 'little',\n 'flooding',\n 'evacuation',\n 'before',\n 'truck',\n 'severe',\n 's',\n 'content',\n 'always',\n 'until',\n 'top',\n 'through',\n 'smoke',\n 'plan',\n 'found',\n 'confirmed',\n 'cause',\n 'movie',\n 'fucking',\n 'face',\n 'debris',\n 'bloody',\n 'bad',\n 'weapon',\n 'warning',\n 'times',\n 'thunderstorm',\n 'set',\n 'says',\n 'natural',\n 'malaysia',\n 'liked',\n 'ive',\n 'gonna',\n 'free',\n 'fall',\n 'thunder',\n 'theres',\n 'sinking',\n 'saudi',\n 'refugees',\n 'made',\n 'loud',\n 'looks',\n 'injuries',\n 'house',\n 'hes',\n 'heat',\n 'cross',\n 'also',\n 'air',\n 'w',\n 'screaming',\n 'rain',\n 'murder',\n 'head',\n 'failure',\n 'explode',\n 'check',\n 'wreckage',\n 'wind',\n 'wild',\n 'trapped',\n 'survive',\n 'spill',\n 'reddit',\n 'panic',\n 'missing',\n 'lightning',\n 'family',\n 'change',\n 'whole',\n 'weapons',\n 'terrorist',\n 'service',\n 'run',\n 'rescuers',\n 'report',\n 'released',\n 'photo',\n 'outbreak',\n 'ill',\n 'food',\n 'evacuate',\n 'end',\n 'destroyed',\n 'deaths',\n 'boy',\n 'again',\n '70',\n 'terrorism',\n 'sinkhole',\n 'services',\n 'save',\n 'road',\n 'rescue',\n 'migrants',\n 'keep',\n 'high',\n 'harm',\n 'danger',\n 'county',\n 'collided',\n 'blood',\n 'big',\n 'bags',\n 'twister',\n 'trauma',\n 'tonight',\n 'summer',\n 'ruin',\n 'mosque',\n 'lives',\n 'least',\n 'hail',\n 'girl',\n 'fuck',\n 'fatalities',\n 'does',\n 'derailment',\n 'curfew',\n 'collapsed',\n 'charged',\n 'call',\n 'burned',\n 'breaking',\n 'boat',\n 'bag',\n 'attacked',\n 'ambulance',\n 'wrecked',\n 'wounded',\n 'white',\n 'week',\n 'update',\n 'things',\n 'structural',\n 'stock',\n 'someone',\n 'show',\n 'rioting',\n 'real',\n 'phone',\n 'mudslide',\n 'landslide',\n 'investigators',\n 'explosion',\n 'engulfed',\n 'displaced',\n 'devastation',\n 'destroy',\n 'deluge',\n 'crashed',\n 'catastrophe',\n 'bus',\n 'battle',\n 'away',\n 'area',\n 'apocalypse',\n 'whirlwind',\n 'survivors',\n 'survived',\n 'sunk',\n 'saw',\n 'sandstorm',\n 'post',\n 'other',\n 'massacre',\n 'island',\n 'injury',\n 'id',\n 'hundreds',\n 'hostages',\n 'horrible',\n 'hazardous',\n 'hazard',\n 'game',\n 'exploded',\n 'drought',\n 'bridge',\n 'bang',\n '40',\n 'windstorm',\n 'went',\n 'wave',\n 'soon',\n 'rescued',\n 'quarantined',\n 'national',\n 'market',\n 'kills',\n 'hurricane',\n 'heard',\n 'drowning',\n 'drown',\n 'detonate',\n 'destruction',\n 'derail',\n 'cliff',\n 'bombed',\n 'blown',\n 'around',\n 'airplane',\n '6',\n '\\x89ÛÒ',\n 'wounds',\n 'woman',\n 'trouble',\n 'traumatised',\n 'tragedy',\n 'thing',\n 'story',\n 'screams',\n 'put',\n 'past',\n 'ok',\n 'iran',\n 'inundated',\n 'group',\n 'flattened',\n 'fedex',\n 'caused',\n 'came',\n 'better',\n 'august',\n 'armageddon',\n 'anniversary',\n '15',\n 'women',\n 'wanna',\n 'violent',\n 'typhoon',\n 'tsunami',\n 'thank',\n 'security',\n 'razed',\n 'possible',\n 'meltdown',\n 'lot',\n 'isis',\n 'hostage',\n 'famine',\n 'electrocuted',\n 'ebay',\n 'dust',\n 'crush',\n 'collide',\n 'chemical',\n 'blew',\n 'bleeding',\n 'bioterror',\n 'against',\n 'zone',\n 'whats',\n 'use',\n 'twitter',\n 'tomorrow',\n 'sure',\n 'something',\n 'send',\n 'quarantine',\n 'plane',\n 'pkk',\n 'part',\n 'panicking',\n 'pandemonium',\n 'oh',\n 'must',\n 'longer',\n 'long',\n 'left',\n 'hijacker',\n 'heart',\n 'government',\n 'goes',\n 'due',\n 'didnt',\n 'detonated',\n 'desolation',\n 'collision',\n 'catastrophic',\n 'casualties',\n 'calgary',\n 'building',\n 'beautiful',\n 'bagging',\n 'affected',\n 'yet',\n 'volcano',\n 'very',\n 'thanks',\n 'st',\n 'screamed',\n 'river',\n 'riot',\n 'reunion',\n 'responders',\n 'red',\n 'obliteration',\n 'obliterated',\n 'nothing',\n 'music',\n 'minute',\n 'lava',\n 'land',\n 'hijacking',\n 'fatality',\n 'fan',\n 'drowned',\n 'detonation',\n 'demolish',\n 'cool',\n 'blast',\n 'believe',\n 'baby',\n 'used',\n 'ur',\n 'three',\n 'thought',\n 'sound',\n 'song',\n 'site',\n 'sirens',\n 'shoulder',\n 'seismic',\n 'same',\n 'prebreak',\n 'power',\n 'officials',\n 'obliterate',\n 'few',\n 'eyewitness',\n 'died',\n 'demolished',\n 'care',\n 'arson',\n 'airport',\n '9',\n 'turkey',\n 'traffic',\n 'such',\n 'stay',\n 'start',\n 'snowstorm',\n 'shooting',\n 'rubble',\n 'remember',\n 'rainstorm',\n 'murderer',\n 'media',\n 'making',\n 'kids',\n 'issues',\n 'israeli',\n 'india',\n 'having',\n 'far',\n 'evacuated',\n 'electrocute',\n 'doing',\n 'doesnt',\n 'derailed',\n 'demolition',\n 'crushed',\n 'brown',\n 'blazing',\n 'annihilated',\n '8',\n '7',\n '16yr',\n 'yes',\n 'wake',\n 'suspect',\n 'south',\n 'shot',\n 'reactor',\n 'policy',\n 'nowplaying',\n 'nearby',\n 'line',\n 'light',\n 'lets',\n 'leave',\n 'inside',\n 'horror',\n 'hijack',\n 'hell',\n 'health',\n 'gets',\n 'casualty',\n 'bc',\n 'already',\n 'actually',\n 'words',\n 'upheaval',\n 'trying',\n 'tornado',\n 'tell',\n 'sue',\n 'stretcher',\n 'second',\n 're\\x89Û',\n 'plans',\n 'pic',\n 'mp',\n 'men',\n 'maybe',\n 'low',\n 'lab',\n 'islam',\n 'hours',\n 'history',\n 'half',\n 'guys',\n 'fun',\n 'fight',\n 'done',\n 'deluged',\n 'declares',\n 'days',\n 'bodies',\n 'bestnaijamade',\n 'anything',\n 'almost',\n '20',\n '\\x89ÛÓ',\n 'wont',\n 'swallowed',\n 'support',\n 'street',\n 'searching',\n 'reuters',\n 'play',\n 'place',\n 'photos',\n 'person',\n 'peace',\n 'online',\n 'north',\n 'literally',\n 'hey',\n 'helicopter',\n 'find',\n 'cyclone',\n 'crews',\n 'business',\n 'bush',\n 'both',\n 'bioterrorism',\n 'bar',\n 'avalanche',\n 'aircraft',\n 'abc',\n '50',\n 'yeah',\n 'west',\n 'wait',\n 'typhoondevastated',\n 'theyre',\n 'siren',\n 'saipan',\n 'pick',\n 'name',\n 'money',\n 'la',\n 'kill',\n 'job',\n 'hellfire',\n 'hear',\n 'happy',\n 'eyes',\n 'die',\n 'data',\n 'conclusively',\n 'children',\n 'blight',\n 'blaze',\n 'ago',\n 'waves',\n 'trench',\n 'texas',\n 'team',\n 'space',\n 'projected',\n 'probably',\n 'picking',\n 'own',\n 'order',\n 'myself',\n 'memories',\n 'major',\n 'm',\n 'lost',\n 'jobs',\n 'hollywood',\n 'feared',\n 'effect',\n 'deal',\n 'd',\n 'center',\n 'case',\n 'book',\n 'bigger',\n 'anyone',\n 'american',\n 'ablaze',\n '12',\n '10',\n 'yourself',\n 'watching',\n 'tv',\n 'transport',\n 'town',\n 'spot',\n 'soudelor',\n 'ship',\n 'seen',\n 'saved',\n 'pretty',\n 'outside',\n 'officer',\n 'mom',\n 'miners',\n 'meek',\n 'leather',\n 'houses',\n 'hat',\n 'hard',\n 'flag',\n 'everything',\n 'daily',\n 'child',\n 'chance',\n 'called',\n 'banned',\n 'ball',\n 'annihilation',\n 'amid',\n '30',\n 'wow',\n 'trains',\n 'though',\n 'star',\n 'signs',\n 'side',\n 'shes',\n 'self',\n 'rise',\n 'refugio',\n 'rd',\n 'poor',\n 'once',\n 'okay',\n 'n',\n 'move',\n 'might',\n 'manslaughter',\n 'makes',\n 'hailstorm',\n 'gbbo',\n 'friends',\n 'flash',\n 'fast',\n 'emmerdale',\n 'east',\n 'desolate',\n 'damn',\n 'crisis',\n 'crazy',\n 'course',\n 'couple',\n 'country',\n 'costlier',\n 'centre',\n 'caught',\n 'cake',\n 'blizzard',\n 'become',\n 'angry',\n 'alone',\n 'youth',\n 'wrong',\n 'win',\n 'vs',\n 'virgin',\n 'truth',\n 'temple',\n 'sorry',\n 'reports',\n 'reason',\n 'playing',\n 'pain',\n 'omg',\n 'official',\n 'myanmar',\n 'mayhem',\n 'looking',\n 'listen',\n 'level',\n 'ladies',\n 'knock',\n 'isnt',\n 'ignition',\n 'huge',\n 'heavy',\n 'hate',\n 'guy',\n 'gun',\n 'global',\n 'finally',\n 'feeling',\n 'eye',\n 'downtown',\n 'control',\n 'computers',\n 'closed',\n 'class',\n 'beach',\n 'bbc',\n 'b',\n 'appears',\n 'across',\n '60',\n '13',\n '11yearold',\n 'yours',\n 'womens',\n 'wanted',\n 'view',\n 'usa',\n 'united',\n 'try',\n 'totally',\n 'toddler',\n 'till',\n 'thousands',\n 'takes',\n 'taken',\n 't',\n 'stand',\n 'russian',\n 'running',\n 'reddits',\n 'quiz',\n 'pay',\n 'pakistan',\n 'others',\n 'mop',\n 'marks',\n 'mad',\n 'link',\n 'libya',\n 'issued',\n 'instead',\n 'happened',\n 'gt',\n 'giant',\n 'gems',\n 'gave',\n 'front',\n 'follow',\n 'film',\n 'experts',\n 'else',\n 'drive',\n 'devastated',\n 'declaration',\n 'coaches',\n 'cnn',\n 'christian',\n 'anthrax',\n 'aftershock',\n '11',\n 'worst',\n 'working',\n 'village',\n 'vehicle',\n 'unconfirmed',\n 'thursday',\n 'talk',\n 'subreddits',\n 'sounds',\n 'shows',\n 'scared',\n 'ready',\n 'potus',\n 'park',\n 'niggas',\n 'neighbours',\n 'nagasaki',\n 'mount',\n 'miss',\n 'mishaps',\n 'lord',\n 'led',\n 'learn',\n 'large',\n 'landing',\n 'israel',\n 'haha',\n 'gop',\n 'germs',\n 'galactic',\n 'fukushima',\n 'following',\n 'favorite',\n 'escape',\n 'entire',\n 'ebola',\n 'driving',\n 'download',\n 'climate',\n 'chinas',\n 'china',\n 'cars',\n 'behind',\n 'aug',\n 'arsonist',\n 'aint',\n 'added',\n 'action',\n '25',\n '100',\n '05',\n 'wonder',\n 'tweet',\n 'turn',\n 'trust',\n 'tree',\n 'told',\n 'sign',\n 'safety',\n 'russia',\n 'rules',\n 'rock',\n 'reported',\n 'radio',\n 'r',\n 'pray',\n 'pradesh',\n 'ppl',\n 'point',\n 'patience',\n 'party',\n 'parole',\n 'pamela',\n 'pakistani',\n 'outrage',\n 'offensive',\n 'nws',\n 'needs',\n 'nearly',\n 'muslims',\n 'morning',\n 'moment',\n ...]"
     },
     "execution_count": 23,
     "metadata": {},
     "output_type": "execute_result"
    }
   ],
   "source": [
    "# Get unique words in the vocabulary\n",
    "words_in_vocab = text_vectorizer.get_vocabulary()\n",
    "words_in_vocab"
   ],
   "metadata": {
    "collapsed": false,
    "ExecuteTime": {
     "end_time": "2023-07-30T15:11:24.683100700Z",
     "start_time": "2023-07-30T15:11:24.619210700Z"
    }
   },
   "id": "a9796849d92692a"
  },
  {
   "cell_type": "code",
   "execution_count": 24,
   "outputs": [
    {
     "data": {
      "text/plain": "10000"
     },
     "execution_count": 24,
     "metadata": {},
     "output_type": "execute_result"
    }
   ],
   "source": [
    "len(words_in_vocab)"
   ],
   "metadata": {
    "collapsed": false,
    "ExecuteTime": {
     "end_time": "2023-07-30T15:11:24.684099500Z",
     "start_time": "2023-07-30T15:11:24.642354200Z"
    }
   },
   "id": "1fc1d49d18c2f968"
  },
  {
   "cell_type": "code",
   "execution_count": 25,
   "outputs": [
    {
     "data": {
      "text/plain": "['', '[UNK]', 'the', 'a', 'in']"
     },
     "execution_count": 25,
     "metadata": {},
     "output_type": "execute_result"
    }
   ],
   "source": [
    "# Top 5 words in words_in_vocab\n",
    "words_in_vocab[:5]"
   ],
   "metadata": {
    "collapsed": false,
    "ExecuteTime": {
     "end_time": "2023-07-30T15:11:24.684099500Z",
     "start_time": "2023-07-30T15:11:24.648048300Z"
    }
   },
   "id": "60913b2c06167547"
  },
  {
   "cell_type": "code",
   "execution_count": 26,
   "outputs": [
    {
     "data": {
      "text/plain": "['pakthey', 'pakistan\\x89Ûªs', 'pakistans', 'pajamas', 'paints']"
     },
     "execution_count": 26,
     "metadata": {},
     "output_type": "execute_result"
    }
   ],
   "source": [
    "# Least 5 words in words_in_vocab\n",
    "words_in_vocab[-5:]"
   ],
   "metadata": {
    "collapsed": false,
    "ExecuteTime": {
     "end_time": "2023-07-30T15:11:24.685100900Z",
     "start_time": "2023-07-30T15:11:24.651559800Z"
    }
   },
   "id": "4b66d97a81a1ab9b"
  },
  {
   "cell_type": "markdown",
   "source": [
    "### Embedding layer\n",
    "\n",
    "To make our embedding, we are going to use TensorFlow’s embedding layer: https://www.tensorflow.org/api/docs/python/tf/keras/layers/\n",
    "\n",
    "The parameters are below mostly used.\n",
    "* input_dim = size of the vocabulary\n",
    "* output_dim = size of the output embedding vector.  For example, a value of 100 would mean each token gets represented by a vector 100 long\n",
    "* input_length = length of the sequences being passed to the embedding layer"
   ],
   "metadata": {
    "collapsed": false,
    "ExecuteTime": {
     "end_time": "2023-07-30T14:51:37.200235Z",
     "start_time": "2023-07-30T14:51:37.160420900Z"
    }
   },
   "id": "4d47ece46e5b3070"
  },
  {
   "cell_type": "code",
   "execution_count": 27,
   "outputs": [],
   "source": [
    "from tensorflow.keras import layers\n",
    "\n",
    "embedding = layers.Embedding(input_dim = max_vocab_length,\n",
    "                             output_dim = 64,\n",
    "                             embeddings_initializer = \"uniform\",\n",
    "                             input_length = max_length)"
   ],
   "metadata": {
    "collapsed": false,
    "ExecuteTime": {
     "end_time": "2023-07-30T15:11:24.685100900Z",
     "start_time": "2023-07-30T15:11:24.659578100Z"
    }
   },
   "id": "55b4d3e382cb85d7"
  },
  {
   "cell_type": "code",
   "execution_count": 28,
   "outputs": [
    {
     "name": "stdout",
     "output_type": "stream",
     "text": [
      "Original text: NIggas playing in the thunderstorm.. 'HOPE THE LORR BLESS EM' ????\n",
      "\n",
      "Vectorized text: [[ 932  835    4    2  271  231    2    1 3136 1541    0    0    0    0\n",
      "     0]]\n",
      "\n",
      "Vectorized text shape: (1, 15)\n",
      "Embbedded text: [[[ 0.03715602 -0.01391459  0.00262779 -0.03253813 -0.00725516\n",
      "    0.02615971 -0.00059183  0.02832368 -0.02631495 -0.01592213\n",
      "   -0.01477943  0.01858527 -0.04148604  0.01720833  0.0366033\n",
      "   -0.02136395 -0.00228933  0.03821284  0.01881696 -0.02864776\n",
      "    0.02872472 -0.02762547 -0.02562329  0.00920466  0.01802287\n",
      "    0.02461502  0.01969132 -0.01835825  0.0096256  -0.01680189\n",
      "    0.04937119  0.04793358 -0.03697328 -0.02554168  0.01966188\n",
      "    0.04080832  0.02857634  0.04008815 -0.04582175 -0.0339517\n",
      "    0.00289442  0.02339485 -0.02397826 -0.04779546 -0.0125935\n",
      "   -0.02686766 -0.02086059  0.04140523  0.0151012   0.00170797\n",
      "   -0.00478504 -0.00523517  0.00386979 -0.01616132 -0.04171702\n",
      "    0.04613988 -0.04455959  0.02978333  0.03409667  0.04894798\n",
      "   -0.03306695  0.04604831  0.01704153 -0.01855337]\n",
      "  [ 0.02807089 -0.04722665 -0.0033661  -0.04381044  0.04079678\n",
      "   -0.01284069 -0.01952524  0.00278853  0.00395987 -0.00279335\n",
      "   -0.00761743 -0.04729657  0.02601577 -0.04271734  0.01239655\n",
      "    0.04012159 -0.01856984  0.03544628 -0.01730678  0.048161\n",
      "   -0.00096909 -0.00643995  0.0256178  -0.01681807  0.00021918\n",
      "    0.0488271  -0.01167159  0.01189678  0.03036344 -0.02052763\n",
      "    0.00028474 -0.00657576  0.01115754  0.00942009  0.03718618\n",
      "    0.02668688 -0.00217285  0.03423319  0.00328439  0.00895734\n",
      "   -0.01887667 -0.0036657  -0.01421881 -0.01618578  0.03149405\n",
      "    0.02686261 -0.02461755  0.0191572  -0.03832773 -0.01657995\n",
      "    0.02230798 -0.04443463  0.00276721 -0.0204193  -0.00790753\n",
      "   -0.02804548  0.02036685  0.01659627  0.02783947  0.02310922\n",
      "   -0.02476074 -0.03552481  0.00961137  0.00688268]\n",
      "  [ 0.03185782 -0.0074754   0.00458896 -0.01531985  0.03289788\n",
      "   -0.03601706 -0.03966931  0.03279449 -0.04128953  0.04988997\n",
      "   -0.01438832  0.03663392  0.02660257 -0.00106317  0.00517427\n",
      "    0.01989403  0.00116979  0.0483862   0.0404456  -0.00703881\n",
      "   -0.04921098  0.046189    0.00052558 -0.02115498  0.01039581\n",
      "   -0.01605195  0.04449303  0.03072891 -0.00122566 -0.04313159\n",
      "   -0.04819475  0.01624272 -0.03906991 -0.02567359  0.02457796\n",
      "    0.01991272 -0.02855457 -0.01777285  0.00835987 -0.02267891\n",
      "   -0.01055456  0.00203071  0.03397318  0.03842596 -0.04238784\n",
      "    0.00018436  0.01329149  0.021433   -0.0404407  -0.02072396\n",
      "    0.02286405  0.02072735  0.02720537 -0.01433562 -0.03743698\n",
      "   -0.02692825  0.03308019  0.02293159  0.0085145   0.01009408\n",
      "   -0.03596083 -0.02181058  0.0457312  -0.01337721]\n",
      "  [ 0.04536012 -0.02805868 -0.04739921  0.03117223 -0.03130312\n",
      "    0.01887771 -0.02157847 -0.00428569  0.04049832 -0.04425825\n",
      "    0.0048467  -0.00415421 -0.01965638  0.04135751 -0.04262571\n",
      "   -0.04409283  0.03034901 -0.00292376 -0.03873372 -0.03881542\n",
      "    0.0040207   0.03386221  0.02406199 -0.01957164 -0.0409766\n",
      "   -0.02103219  0.0235253   0.00189729  0.04361666  0.02803964\n",
      "    0.04262091  0.02361906 -0.02804427 -0.01765523 -0.00542059\n",
      "   -0.00063015 -0.03201073  0.0354131  -0.02455741 -0.00168378\n",
      "   -0.01789252 -0.04534642 -0.04075571  0.0066269   0.04444504\n",
      "    0.00575041 -0.03353709  0.03490163  0.02568466 -0.02629442\n",
      "    0.04530409  0.04717005 -0.03108366 -0.04207999  0.01989634\n",
      "    0.04138118  0.01586879 -0.01475884  0.02819229  0.00280945\n",
      "   -0.00775672 -0.04114815  0.02164609 -0.04850214]\n",
      "  [ 0.04487959 -0.02349497  0.04855737  0.04565166 -0.0413368\n",
      "    0.00904166 -0.01307001  0.02336636  0.02754639  0.01808545\n",
      "   -0.00294852  0.00047842 -0.02499523 -0.03429842 -0.02354469\n",
      "    0.02422059 -0.03344451  0.04540397  0.00355335  0.02538805\n",
      "   -0.03303732  0.00479193 -0.04120859 -0.03952312  0.02578029\n",
      "   -0.01296371 -0.03554444  0.013227   -0.00698734 -0.02663146\n",
      "    0.0245492   0.01549086 -0.04251086 -0.03818891 -0.00982221\n",
      "    0.0223952  -0.04819912  0.0098768  -0.00723711  0.00528388\n",
      "    0.03604612  0.04984614  0.04478491  0.01027207 -0.0384502\n",
      "   -0.00756508 -0.04766153  0.02674012 -0.0081691   0.01548351\n",
      "   -0.03379625  0.03886351 -0.03459293 -0.04657645  0.04932595\n",
      "   -0.04146569 -0.01981448 -0.02547076  0.03719315 -0.03865689\n",
      "    0.04850544 -0.01219855  0.01922199 -0.03330602]\n",
      "  [ 0.01882391 -0.02912365 -0.00500773  0.00656771  0.02480037\n",
      "    0.03351114 -0.03899094  0.00758348  0.00668632 -0.01060756\n",
      "   -0.02446338  0.02057333 -0.034545    0.02315438 -0.01354612\n",
      "    0.01223097  0.0389335  -0.04944425 -0.03038683 -0.01862561\n",
      "   -0.02662513  0.04799796  0.02094022 -0.04980719 -0.03367903\n",
      "   -0.01337308 -0.02953595  0.04179689 -0.03218918 -0.01639284\n",
      "   -0.04373344  0.01429237 -0.02154626 -0.04217557  0.00207198\n",
      "   -0.03674102 -0.04535801  0.0155226   0.01056781  0.02983346\n",
      "    0.04750141 -0.01725115 -0.04536586 -0.01484799 -0.00126892\n",
      "   -0.01553639 -0.02784084 -0.00893855 -0.01684866 -0.03486208\n",
      "   -0.00379014 -0.02998205  0.00289346 -0.01533062  0.03805197\n",
      "    0.02667284  0.0227862  -0.03834618 -0.04009372  0.00947695\n",
      "   -0.01080589  0.03666772  0.03720378 -0.01433208]\n",
      "  [ 0.04536012 -0.02805868 -0.04739921  0.03117223 -0.03130312\n",
      "    0.01887771 -0.02157847 -0.00428569  0.04049832 -0.04425825\n",
      "    0.0048467  -0.00415421 -0.01965638  0.04135751 -0.04262571\n",
      "   -0.04409283  0.03034901 -0.00292376 -0.03873372 -0.03881542\n",
      "    0.0040207   0.03386221  0.02406199 -0.01957164 -0.0409766\n",
      "   -0.02103219  0.0235253   0.00189729  0.04361666  0.02803964\n",
      "    0.04262091  0.02361906 -0.02804427 -0.01765523 -0.00542059\n",
      "   -0.00063015 -0.03201073  0.0354131  -0.02455741 -0.00168378\n",
      "   -0.01789252 -0.04534642 -0.04075571  0.0066269   0.04444504\n",
      "    0.00575041 -0.03353709  0.03490163  0.02568466 -0.02629442\n",
      "    0.04530409  0.04717005 -0.03108366 -0.04207999  0.01989634\n",
      "    0.04138118  0.01586879 -0.01475884  0.02819229  0.00280945\n",
      "   -0.00775672 -0.04114815  0.02164609 -0.04850214]\n",
      "  [-0.01796766  0.00774737 -0.04508542  0.01859784  0.00462673\n",
      "    0.01004925  0.04812903  0.04949101  0.03149613  0.03984847\n",
      "    0.00461415  0.03000977 -0.00861973  0.00980327  0.04068053\n",
      "    0.04399306  0.01642399 -0.04015642  0.03029722 -0.00088914\n",
      "    0.01020619  0.02724464 -0.04659494  0.04381533  0.02733893\n",
      "   -0.0057525   0.02117263 -0.03765291  0.01496391  0.02194687\n",
      "   -0.03993326  0.04436704 -0.00028045 -0.03674622 -0.02868499\n",
      "   -0.03717417 -0.04570217  0.02663415 -0.00137222 -0.0112313\n",
      "    0.01789152  0.00210203 -0.03862081  0.02634342 -0.03523598\n",
      "    0.02690797 -0.04491576 -0.02500501 -0.0368983  -0.01196704\n",
      "    0.0439538  -0.04675655 -0.03563749  0.00911516 -0.02615175\n",
      "    0.0475898  -0.04045178 -0.00379801 -0.00644351  0.02205224\n",
      "    0.01340607  0.0094557  -0.00344785  0.04382711]\n",
      "  [-0.02093607  0.04649014  0.04267453  0.00956349  0.00584581\n",
      "   -0.01663477  0.02459956  0.01349867  0.00363203  0.01214967\n",
      "    0.01811993 -0.0489272  -0.03131596  0.03462191  0.03074947\n",
      "   -0.02727492 -0.03739135 -0.02335972 -0.03280962  0.02455363\n",
      "    0.02254888 -0.02774619  0.04498843 -0.02568233 -0.01470941\n",
      "   -0.03282072 -0.00018765  0.03160334 -0.03899937 -0.01334912\n",
      "    0.03815963 -0.00497484  0.04192353  0.04842993  0.0267687\n",
      "    0.0207593  -0.03783163 -0.01307695 -0.02695248 -0.01625385\n",
      "   -0.00822722 -0.02039587  0.01199958 -0.04849067 -0.02256691\n",
      "    0.03855893  0.00555985 -0.01751398  0.04090034 -0.00189922\n",
      "   -0.00810837  0.03138271  0.02935318 -0.01190339  0.02178088\n",
      "    0.04863899  0.02085084 -0.02215581  0.02241949 -0.00525909\n",
      "    0.00498592 -0.01704854  0.04527492  0.03662169]\n",
      "  [ 0.01759106  0.01350001 -0.01048728 -0.02240435  0.04948287\n",
      "    0.00920367 -0.04736196 -0.00394695 -0.04094388 -0.03076335\n",
      "   -0.03716376 -0.03290744 -0.00777704  0.00017662  0.01750701\n",
      "    0.03146361 -0.04225421  0.01213331 -0.02992812 -0.04044515\n",
      "   -0.01903334 -0.04591386  0.02953267  0.01788738 -0.01182979\n",
      "    0.0081113   0.04811558 -0.01806062 -0.03818578 -0.00985957\n",
      "    0.03585556  0.02459138  0.02075091  0.01111013 -0.0352728\n",
      "    0.02271259  0.03978856  0.00074686 -0.03827782 -0.02107307\n",
      "    0.02366116  0.01087172 -0.0195061   0.04753688  0.0162475\n",
      "   -0.02434952  0.01692232  0.03045518 -0.01797028 -0.01962575\n",
      "    0.01923085  0.01243099 -0.04820281  0.00888912 -0.04037808\n",
      "    0.01252415  0.02182685 -0.02203691 -0.00967851 -0.00778352\n",
      "   -0.0168504   0.04828526 -0.04895793  0.03179089]\n",
      "  [-0.03090627 -0.03847414  0.04768673 -0.04915023  0.04389682\n",
      "    0.01815141  0.01001693  0.0482475  -0.04978172 -0.0092451\n",
      "    0.00619853  0.02611054  0.04771768 -0.04679528 -0.0368154\n",
      "    0.02863275  0.04677105 -0.01262314  0.02042877  0.04714426\n",
      "    0.02080951 -0.02956973 -0.00386295 -0.04478421  0.01933486\n",
      "    0.04390737  0.0161903  -0.01544996 -0.00023172  0.02959779\n",
      "    0.00505594  0.0068043  -0.03514531  0.00489833  0.03198106\n",
      "    0.04211194  0.01440437 -0.03397156 -0.01693678 -0.04856378\n",
      "    0.03867659 -0.03802798  0.00763072  0.03488327  0.02984161\n",
      "    0.01059235  0.04606756 -0.04062302 -0.03908385  0.04859838\n",
      "    0.01109427  0.01327187  0.0270181  -0.04301999 -0.04877448\n",
      "    0.04483639 -0.04966753 -0.00646598  0.03140867  0.02906522\n",
      "    0.04822375  0.04685089 -0.01799452 -0.00752588]\n",
      "  [-0.03090627 -0.03847414  0.04768673 -0.04915023  0.04389682\n",
      "    0.01815141  0.01001693  0.0482475  -0.04978172 -0.0092451\n",
      "    0.00619853  0.02611054  0.04771768 -0.04679528 -0.0368154\n",
      "    0.02863275  0.04677105 -0.01262314  0.02042877  0.04714426\n",
      "    0.02080951 -0.02956973 -0.00386295 -0.04478421  0.01933486\n",
      "    0.04390737  0.0161903  -0.01544996 -0.00023172  0.02959779\n",
      "    0.00505594  0.0068043  -0.03514531  0.00489833  0.03198106\n",
      "    0.04211194  0.01440437 -0.03397156 -0.01693678 -0.04856378\n",
      "    0.03867659 -0.03802798  0.00763072  0.03488327  0.02984161\n",
      "    0.01059235  0.04606756 -0.04062302 -0.03908385  0.04859838\n",
      "    0.01109427  0.01327187  0.0270181  -0.04301999 -0.04877448\n",
      "    0.04483639 -0.04966753 -0.00646598  0.03140867  0.02906522\n",
      "    0.04822375  0.04685089 -0.01799452 -0.00752588]\n",
      "  [-0.03090627 -0.03847414  0.04768673 -0.04915023  0.04389682\n",
      "    0.01815141  0.01001693  0.0482475  -0.04978172 -0.0092451\n",
      "    0.00619853  0.02611054  0.04771768 -0.04679528 -0.0368154\n",
      "    0.02863275  0.04677105 -0.01262314  0.02042877  0.04714426\n",
      "    0.02080951 -0.02956973 -0.00386295 -0.04478421  0.01933486\n",
      "    0.04390737  0.0161903  -0.01544996 -0.00023172  0.02959779\n",
      "    0.00505594  0.0068043  -0.03514531  0.00489833  0.03198106\n",
      "    0.04211194  0.01440437 -0.03397156 -0.01693678 -0.04856378\n",
      "    0.03867659 -0.03802798  0.00763072  0.03488327  0.02984161\n",
      "    0.01059235  0.04606756 -0.04062302 -0.03908385  0.04859838\n",
      "    0.01109427  0.01327187  0.0270181  -0.04301999 -0.04877448\n",
      "    0.04483639 -0.04966753 -0.00646598  0.03140867  0.02906522\n",
      "    0.04822375  0.04685089 -0.01799452 -0.00752588]\n",
      "  [-0.03090627 -0.03847414  0.04768673 -0.04915023  0.04389682\n",
      "    0.01815141  0.01001693  0.0482475  -0.04978172 -0.0092451\n",
      "    0.00619853  0.02611054  0.04771768 -0.04679528 -0.0368154\n",
      "    0.02863275  0.04677105 -0.01262314  0.02042877  0.04714426\n",
      "    0.02080951 -0.02956973 -0.00386295 -0.04478421  0.01933486\n",
      "    0.04390737  0.0161903  -0.01544996 -0.00023172  0.02959779\n",
      "    0.00505594  0.0068043  -0.03514531  0.00489833  0.03198106\n",
      "    0.04211194  0.01440437 -0.03397156 -0.01693678 -0.04856378\n",
      "    0.03867659 -0.03802798  0.00763072  0.03488327  0.02984161\n",
      "    0.01059235  0.04606756 -0.04062302 -0.03908385  0.04859838\n",
      "    0.01109427  0.01327187  0.0270181  -0.04301999 -0.04877448\n",
      "    0.04483639 -0.04966753 -0.00646598  0.03140867  0.02906522\n",
      "    0.04822375  0.04685089 -0.01799452 -0.00752588]\n",
      "  [-0.03090627 -0.03847414  0.04768673 -0.04915023  0.04389682\n",
      "    0.01815141  0.01001693  0.0482475  -0.04978172 -0.0092451\n",
      "    0.00619853  0.02611054  0.04771768 -0.04679528 -0.0368154\n",
      "    0.02863275  0.04677105 -0.01262314  0.02042877  0.04714426\n",
      "    0.02080951 -0.02956973 -0.00386295 -0.04478421  0.01933486\n",
      "    0.04390737  0.0161903  -0.01544996 -0.00023172  0.02959779\n",
      "    0.00505594  0.0068043  -0.03514531  0.00489833  0.03198106\n",
      "    0.04211194  0.01440437 -0.03397156 -0.01693678 -0.04856378\n",
      "    0.03867659 -0.03802798  0.00763072  0.03488327  0.02984161\n",
      "    0.01059235  0.04606756 -0.04062302 -0.03908385  0.04859838\n",
      "    0.01109427  0.01327187  0.0270181  -0.04301999 -0.04877448\n",
      "    0.04483639 -0.04966753 -0.00646598  0.03140867  0.02906522\n",
      "    0.04822375  0.04685089 -0.01799452 -0.00752588]]]\n",
      "Embedded text shape: (1, 15, 64)\n"
     ]
    }
   ],
   "source": [
    "# Get a random sentence from the training set and return Original text, Vectorized text, Embedded text\n",
    "rand_sentence = random.choice(train_sentences)\n",
    "print(f\"Original text: {rand_sentence}\\n\")\n",
    "print(f\"Vectorized text: {text_vectorizer([rand_sentence])}\\n\")\n",
    "print(f\"Vectorized text shape: {text_vectorizer([rand_sentence]).shape}\")\n",
    "print(f\"Embbedded text: {embedding(text_vectorizer([rand_sentence]))}\")\n",
    "print(f\"Embedded text shape: {embedding(text_vectorizer([rand_sentence])).shape}\")"
   ],
   "metadata": {
    "collapsed": false,
    "ExecuteTime": {
     "end_time": "2023-07-30T15:11:24.733888800Z",
     "start_time": "2023-07-30T15:11:24.662585900Z"
    }
   },
   "id": "2d8028a4f822acb"
  },
  {
   "cell_type": "markdown",
   "source": [
    "### Model_5: 1D Convolutional Neural Network (CNN)"
   ],
   "metadata": {
    "collapsed": false,
    "ExecuteTime": {
     "end_time": "2023-07-30T14:51:37.260899900Z",
     "start_time": "2023-07-30T14:51:37.191234700Z"
    }
   },
   "id": "1acc1fffc619d4fe"
  },
  {
   "cell_type": "code",
   "execution_count": 29,
   "outputs": [],
   "source": [
    "from tensorflow.keras import layers\n",
    "embedding_test = embedding(text_vectorizer(['I am so Great!']))\n",
    "\n",
    "conv1d_test = layers.Conv1D(filters = 32,\n",
    "                            kernel_size = 5,\n",
    "                            activation = 'relu',\n",
    "                            padding = 'valid')\n",
    "conv1d_test_output = conv1d_test(embedding_test)\n",
    "max_pool = layers.GlobalMaxPool1D()\n",
    "max_pool_output = max_pool(conv1d_test_output)\n"
   ],
   "metadata": {
    "collapsed": false,
    "ExecuteTime": {
     "end_time": "2023-07-30T15:11:24.755696900Z",
     "start_time": "2023-07-30T15:11:24.700885Z"
    }
   },
   "id": "30b2cd86d3e8af78"
  },
  {
   "cell_type": "code",
   "execution_count": 30,
   "outputs": [
    {
     "data": {
      "text/plain": "<tf.Tensor: shape=(1, 15, 64), dtype=float32, numpy=\narray([[[-0.00268518,  0.02268008, -0.0496713 ,  0.00834999,\n         -0.02435932,  0.02672419,  0.01920767,  0.01650462,\n         -0.02841545,  0.04041788, -0.04961556, -0.00934131,\n          0.00496136,  0.02447564,  0.04833757,  0.01167144,\n          0.0241538 , -0.03152539,  0.0314315 , -0.03974949,\n         -0.04450278, -0.02382764,  0.0055222 , -0.01151853,\n         -0.0019835 , -0.04602888,  0.02249122, -0.00401648,\n          0.04373914, -0.02565097, -0.04918226, -0.02428148,\n          0.0440097 ,  0.03891383,  0.04004968,  0.00604117,\n          0.04384411, -0.02575432, -0.01031885,  0.04045366,\n         -0.03829787, -0.03943487,  0.03510375,  0.04199103,\n          0.00372725, -0.03331731, -0.02826047, -0.00210855,\n         -0.00484917,  0.00788695, -0.04127032, -0.04441254,\n         -0.0333239 , -0.04144374, -0.04123   , -0.03882002,\n         -0.02491078,  0.0161869 , -0.04569001, -0.00759248,\n          0.01054465,  0.01115149, -0.04454546, -0.01432265],\n        [-0.04697486,  0.04702068,  0.0304887 , -0.00684595,\n          0.02153674, -0.03304098, -0.03582146, -0.04318657,\n          0.04610768,  0.01386822,  0.04217954,  0.03795531,\n         -0.03240172, -0.00029044,  0.01100466, -0.01905651,\n         -0.028048  ,  0.01688609, -0.01978818, -0.03669226,\n          0.03293966, -0.03229483, -0.015206  , -0.02871306,\n         -0.03682961,  0.04958909, -0.04957772,  0.00686789,\n          0.00203713, -0.02555547, -0.04449388, -0.0288861 ,\n         -0.04231782,  0.01448256,  0.018054  , -0.00560059,\n         -0.01341618,  0.04659292,  0.00726527, -0.00801948,\n          0.00400739,  0.04447186, -0.04265393, -0.00297617,\n         -0.01703073, -0.01248183, -0.005039  ,  0.02281914,\n         -0.0494266 ,  0.0262127 ,  0.01544136, -0.0171219 ,\n         -0.02640051,  0.02706959, -0.04615178, -0.01559056,\n         -0.04789803,  0.00759947,  0.04827787, -0.01478427,\n          0.01557786, -0.00656671, -0.02715788, -0.02245083],\n        [ 0.03259628,  0.01428496,  0.03598573,  0.00348508,\n          0.02221263, -0.00390079,  0.044487  ,  0.0131895 ,\n         -0.02407863, -0.00040785,  0.04651407,  0.03166677,\n          0.02409783,  0.04408163, -0.01987171,  0.0365738 ,\n         -0.00843479, -0.02665029,  0.02720034,  0.04354707,\n          0.01435124, -0.01142181, -0.01485317, -0.0232523 ,\n          0.02776266,  0.00619986,  0.00032119,  0.01682225,\n          0.03883315,  0.02901702, -0.02667793,  0.00641724,\n         -0.01027341, -0.00528883,  0.03366922,  0.01897143,\n          0.03418649,  0.04222988, -0.04449251, -0.04662973,\n          0.0149204 ,  0.02650285,  0.03478441, -0.02315036,\n          0.04967942, -0.02498288,  0.03171701, -0.00330875,\n          0.00315012,  0.00393889, -0.02204083, -0.01140839,\n          0.02101343,  0.01407311,  0.00509603, -0.02253298,\n          0.00757867, -0.04917696,  0.02372441,  0.01371057,\n          0.01329167,  0.01937724,  0.01275314,  0.04752341],\n        [ 0.01554419, -0.01605641,  0.02995824, -0.04678233,\n         -0.03023371,  0.0176226 , -0.01145035,  0.01496949,\n          0.03349975,  0.03182505, -0.04412143,  0.02852163,\n         -0.02136405,  0.0477904 ,  0.0426896 ,  0.04833536,\n          0.03822337,  0.02018921,  0.04539489,  0.00531449,\n          0.0020907 , -0.0341261 , -0.04374267, -0.00818579,\n         -0.03096901,  0.02233105,  0.04838567, -0.01109469,\n         -0.04655513, -0.02821022,  0.04981259, -0.02887698,\n          0.00854087,  0.03166435, -0.04811404, -0.0151517 ,\n         -0.01702781, -0.01496428, -0.02793005,  0.03340198,\n          0.0061422 ,  0.02570902, -0.04925684, -0.01845795,\n          0.02380968,  0.01293138, -0.02466235, -0.03498209,\n          0.01792454,  0.04536892,  0.01424092,  0.01345671,\n          0.0234908 ,  0.04145327,  0.04072196, -0.00278581,\n         -0.0264902 ,  0.00556452,  0.0097499 , -0.03692081,\n          0.00087633, -0.00527906, -0.04774598, -0.01492948],\n        [-0.03090627, -0.03847414,  0.04768673, -0.04915023,\n          0.04389682,  0.01815141,  0.01001693,  0.0482475 ,\n         -0.04978172, -0.0092451 ,  0.00619853,  0.02611054,\n          0.04771768, -0.04679528, -0.0368154 ,  0.02863275,\n          0.04677105, -0.01262314,  0.02042877,  0.04714426,\n          0.02080951, -0.02956973, -0.00386295, -0.04478421,\n          0.01933486,  0.04390737,  0.0161903 , -0.01544996,\n         -0.00023172,  0.02959779,  0.00505594,  0.0068043 ,\n         -0.03514531,  0.00489833,  0.03198106,  0.04211194,\n          0.01440437, -0.03397156, -0.01693678, -0.04856378,\n          0.03867659, -0.03802798,  0.00763072,  0.03488327,\n          0.02984161,  0.01059235,  0.04606756, -0.04062302,\n         -0.03908385,  0.04859838,  0.01109427,  0.01327187,\n          0.0270181 , -0.04301999, -0.04877448,  0.04483639,\n         -0.04966753, -0.00646598,  0.03140867,  0.02906522,\n          0.04822375,  0.04685089, -0.01799452, -0.00752588],\n        [-0.03090627, -0.03847414,  0.04768673, -0.04915023,\n          0.04389682,  0.01815141,  0.01001693,  0.0482475 ,\n         -0.04978172, -0.0092451 ,  0.00619853,  0.02611054,\n          0.04771768, -0.04679528, -0.0368154 ,  0.02863275,\n          0.04677105, -0.01262314,  0.02042877,  0.04714426,\n          0.02080951, -0.02956973, -0.00386295, -0.04478421,\n          0.01933486,  0.04390737,  0.0161903 , -0.01544996,\n         -0.00023172,  0.02959779,  0.00505594,  0.0068043 ,\n         -0.03514531,  0.00489833,  0.03198106,  0.04211194,\n          0.01440437, -0.03397156, -0.01693678, -0.04856378,\n          0.03867659, -0.03802798,  0.00763072,  0.03488327,\n          0.02984161,  0.01059235,  0.04606756, -0.04062302,\n         -0.03908385,  0.04859838,  0.01109427,  0.01327187,\n          0.0270181 , -0.04301999, -0.04877448,  0.04483639,\n         -0.04966753, -0.00646598,  0.03140867,  0.02906522,\n          0.04822375,  0.04685089, -0.01799452, -0.00752588],\n        [-0.03090627, -0.03847414,  0.04768673, -0.04915023,\n          0.04389682,  0.01815141,  0.01001693,  0.0482475 ,\n         -0.04978172, -0.0092451 ,  0.00619853,  0.02611054,\n          0.04771768, -0.04679528, -0.0368154 ,  0.02863275,\n          0.04677105, -0.01262314,  0.02042877,  0.04714426,\n          0.02080951, -0.02956973, -0.00386295, -0.04478421,\n          0.01933486,  0.04390737,  0.0161903 , -0.01544996,\n         -0.00023172,  0.02959779,  0.00505594,  0.0068043 ,\n         -0.03514531,  0.00489833,  0.03198106,  0.04211194,\n          0.01440437, -0.03397156, -0.01693678, -0.04856378,\n          0.03867659, -0.03802798,  0.00763072,  0.03488327,\n          0.02984161,  0.01059235,  0.04606756, -0.04062302,\n         -0.03908385,  0.04859838,  0.01109427,  0.01327187,\n          0.0270181 , -0.04301999, -0.04877448,  0.04483639,\n         -0.04966753, -0.00646598,  0.03140867,  0.02906522,\n          0.04822375,  0.04685089, -0.01799452, -0.00752588],\n        [-0.03090627, -0.03847414,  0.04768673, -0.04915023,\n          0.04389682,  0.01815141,  0.01001693,  0.0482475 ,\n         -0.04978172, -0.0092451 ,  0.00619853,  0.02611054,\n          0.04771768, -0.04679528, -0.0368154 ,  0.02863275,\n          0.04677105, -0.01262314,  0.02042877,  0.04714426,\n          0.02080951, -0.02956973, -0.00386295, -0.04478421,\n          0.01933486,  0.04390737,  0.0161903 , -0.01544996,\n         -0.00023172,  0.02959779,  0.00505594,  0.0068043 ,\n         -0.03514531,  0.00489833,  0.03198106,  0.04211194,\n          0.01440437, -0.03397156, -0.01693678, -0.04856378,\n          0.03867659, -0.03802798,  0.00763072,  0.03488327,\n          0.02984161,  0.01059235,  0.04606756, -0.04062302,\n         -0.03908385,  0.04859838,  0.01109427,  0.01327187,\n          0.0270181 , -0.04301999, -0.04877448,  0.04483639,\n         -0.04966753, -0.00646598,  0.03140867,  0.02906522,\n          0.04822375,  0.04685089, -0.01799452, -0.00752588],\n        [-0.03090627, -0.03847414,  0.04768673, -0.04915023,\n          0.04389682,  0.01815141,  0.01001693,  0.0482475 ,\n         -0.04978172, -0.0092451 ,  0.00619853,  0.02611054,\n          0.04771768, -0.04679528, -0.0368154 ,  0.02863275,\n          0.04677105, -0.01262314,  0.02042877,  0.04714426,\n          0.02080951, -0.02956973, -0.00386295, -0.04478421,\n          0.01933486,  0.04390737,  0.0161903 , -0.01544996,\n         -0.00023172,  0.02959779,  0.00505594,  0.0068043 ,\n         -0.03514531,  0.00489833,  0.03198106,  0.04211194,\n          0.01440437, -0.03397156, -0.01693678, -0.04856378,\n          0.03867659, -0.03802798,  0.00763072,  0.03488327,\n          0.02984161,  0.01059235,  0.04606756, -0.04062302,\n         -0.03908385,  0.04859838,  0.01109427,  0.01327187,\n          0.0270181 , -0.04301999, -0.04877448,  0.04483639,\n         -0.04966753, -0.00646598,  0.03140867,  0.02906522,\n          0.04822375,  0.04685089, -0.01799452, -0.00752588],\n        [-0.03090627, -0.03847414,  0.04768673, -0.04915023,\n          0.04389682,  0.01815141,  0.01001693,  0.0482475 ,\n         -0.04978172, -0.0092451 ,  0.00619853,  0.02611054,\n          0.04771768, -0.04679528, -0.0368154 ,  0.02863275,\n          0.04677105, -0.01262314,  0.02042877,  0.04714426,\n          0.02080951, -0.02956973, -0.00386295, -0.04478421,\n          0.01933486,  0.04390737,  0.0161903 , -0.01544996,\n         -0.00023172,  0.02959779,  0.00505594,  0.0068043 ,\n         -0.03514531,  0.00489833,  0.03198106,  0.04211194,\n          0.01440437, -0.03397156, -0.01693678, -0.04856378,\n          0.03867659, -0.03802798,  0.00763072,  0.03488327,\n          0.02984161,  0.01059235,  0.04606756, -0.04062302,\n         -0.03908385,  0.04859838,  0.01109427,  0.01327187,\n          0.0270181 , -0.04301999, -0.04877448,  0.04483639,\n         -0.04966753, -0.00646598,  0.03140867,  0.02906522,\n          0.04822375,  0.04685089, -0.01799452, -0.00752588],\n        [-0.03090627, -0.03847414,  0.04768673, -0.04915023,\n          0.04389682,  0.01815141,  0.01001693,  0.0482475 ,\n         -0.04978172, -0.0092451 ,  0.00619853,  0.02611054,\n          0.04771768, -0.04679528, -0.0368154 ,  0.02863275,\n          0.04677105, -0.01262314,  0.02042877,  0.04714426,\n          0.02080951, -0.02956973, -0.00386295, -0.04478421,\n          0.01933486,  0.04390737,  0.0161903 , -0.01544996,\n         -0.00023172,  0.02959779,  0.00505594,  0.0068043 ,\n         -0.03514531,  0.00489833,  0.03198106,  0.04211194,\n          0.01440437, -0.03397156, -0.01693678, -0.04856378,\n          0.03867659, -0.03802798,  0.00763072,  0.03488327,\n          0.02984161,  0.01059235,  0.04606756, -0.04062302,\n         -0.03908385,  0.04859838,  0.01109427,  0.01327187,\n          0.0270181 , -0.04301999, -0.04877448,  0.04483639,\n         -0.04966753, -0.00646598,  0.03140867,  0.02906522,\n          0.04822375,  0.04685089, -0.01799452, -0.00752588],\n        [-0.03090627, -0.03847414,  0.04768673, -0.04915023,\n          0.04389682,  0.01815141,  0.01001693,  0.0482475 ,\n         -0.04978172, -0.0092451 ,  0.00619853,  0.02611054,\n          0.04771768, -0.04679528, -0.0368154 ,  0.02863275,\n          0.04677105, -0.01262314,  0.02042877,  0.04714426,\n          0.02080951, -0.02956973, -0.00386295, -0.04478421,\n          0.01933486,  0.04390737,  0.0161903 , -0.01544996,\n         -0.00023172,  0.02959779,  0.00505594,  0.0068043 ,\n         -0.03514531,  0.00489833,  0.03198106,  0.04211194,\n          0.01440437, -0.03397156, -0.01693678, -0.04856378,\n          0.03867659, -0.03802798,  0.00763072,  0.03488327,\n          0.02984161,  0.01059235,  0.04606756, -0.04062302,\n         -0.03908385,  0.04859838,  0.01109427,  0.01327187,\n          0.0270181 , -0.04301999, -0.04877448,  0.04483639,\n         -0.04966753, -0.00646598,  0.03140867,  0.02906522,\n          0.04822375,  0.04685089, -0.01799452, -0.00752588],\n        [-0.03090627, -0.03847414,  0.04768673, -0.04915023,\n          0.04389682,  0.01815141,  0.01001693,  0.0482475 ,\n         -0.04978172, -0.0092451 ,  0.00619853,  0.02611054,\n          0.04771768, -0.04679528, -0.0368154 ,  0.02863275,\n          0.04677105, -0.01262314,  0.02042877,  0.04714426,\n          0.02080951, -0.02956973, -0.00386295, -0.04478421,\n          0.01933486,  0.04390737,  0.0161903 , -0.01544996,\n         -0.00023172,  0.02959779,  0.00505594,  0.0068043 ,\n         -0.03514531,  0.00489833,  0.03198106,  0.04211194,\n          0.01440437, -0.03397156, -0.01693678, -0.04856378,\n          0.03867659, -0.03802798,  0.00763072,  0.03488327,\n          0.02984161,  0.01059235,  0.04606756, -0.04062302,\n         -0.03908385,  0.04859838,  0.01109427,  0.01327187,\n          0.0270181 , -0.04301999, -0.04877448,  0.04483639,\n         -0.04966753, -0.00646598,  0.03140867,  0.02906522,\n          0.04822375,  0.04685089, -0.01799452, -0.00752588],\n        [-0.03090627, -0.03847414,  0.04768673, -0.04915023,\n          0.04389682,  0.01815141,  0.01001693,  0.0482475 ,\n         -0.04978172, -0.0092451 ,  0.00619853,  0.02611054,\n          0.04771768, -0.04679528, -0.0368154 ,  0.02863275,\n          0.04677105, -0.01262314,  0.02042877,  0.04714426,\n          0.02080951, -0.02956973, -0.00386295, -0.04478421,\n          0.01933486,  0.04390737,  0.0161903 , -0.01544996,\n         -0.00023172,  0.02959779,  0.00505594,  0.0068043 ,\n         -0.03514531,  0.00489833,  0.03198106,  0.04211194,\n          0.01440437, -0.03397156, -0.01693678, -0.04856378,\n          0.03867659, -0.03802798,  0.00763072,  0.03488327,\n          0.02984161,  0.01059235,  0.04606756, -0.04062302,\n         -0.03908385,  0.04859838,  0.01109427,  0.01327187,\n          0.0270181 , -0.04301999, -0.04877448,  0.04483639,\n         -0.04966753, -0.00646598,  0.03140867,  0.02906522,\n          0.04822375,  0.04685089, -0.01799452, -0.00752588],\n        [-0.03090627, -0.03847414,  0.04768673, -0.04915023,\n          0.04389682,  0.01815141,  0.01001693,  0.0482475 ,\n         -0.04978172, -0.0092451 ,  0.00619853,  0.02611054,\n          0.04771768, -0.04679528, -0.0368154 ,  0.02863275,\n          0.04677105, -0.01262314,  0.02042877,  0.04714426,\n          0.02080951, -0.02956973, -0.00386295, -0.04478421,\n          0.01933486,  0.04390737,  0.0161903 , -0.01544996,\n         -0.00023172,  0.02959779,  0.00505594,  0.0068043 ,\n         -0.03514531,  0.00489833,  0.03198106,  0.04211194,\n          0.01440437, -0.03397156, -0.01693678, -0.04856378,\n          0.03867659, -0.03802798,  0.00763072,  0.03488327,\n          0.02984161,  0.01059235,  0.04606756, -0.04062302,\n         -0.03908385,  0.04859838,  0.01109427,  0.01327187,\n          0.0270181 , -0.04301999, -0.04877448,  0.04483639,\n         -0.04966753, -0.00646598,  0.03140867,  0.02906522,\n          0.04822375,  0.04685089, -0.01799452, -0.00752588]]],\n      dtype=float32)>"
     },
     "execution_count": 30,
     "metadata": {},
     "output_type": "execute_result"
    }
   ],
   "source": [
    "embedding_test"
   ],
   "metadata": {
    "collapsed": false,
    "ExecuteTime": {
     "end_time": "2023-07-30T15:11:24.759207700Z",
     "start_time": "2023-07-30T15:11:24.737155500Z"
    }
   },
   "id": "92c9d5cc0c309583"
  },
  {
   "cell_type": "code",
   "execution_count": 31,
   "outputs": [
    {
     "data": {
      "text/plain": "<tf.Tensor: shape=(1, 11, 32), dtype=float32, numpy=\narray([[[9.38210934e-02, 2.12198868e-02, 5.92120271e-03, 0.00000000e+00,\n         6.63743243e-02, 3.78171429e-02, 6.37993515e-02, 0.00000000e+00,\n         6.79340661e-02, 0.00000000e+00, 3.83020118e-02, 3.61671224e-02,\n         1.53474584e-02, 0.00000000e+00, 0.00000000e+00, 1.76949371e-02,\n         6.63331822e-02, 7.87780434e-03, 0.00000000e+00, 0.00000000e+00,\n         5.22941910e-03, 0.00000000e+00, 1.75168198e-02, 2.57000197e-02,\n         2.59694811e-02, 1.48759428e-02, 8.45104363e-03, 5.76069541e-02,\n         0.00000000e+00, 0.00000000e+00, 0.00000000e+00, 0.00000000e+00],\n        [0.00000000e+00, 0.00000000e+00, 4.03656811e-02, 3.11961807e-02,\n         5.64724803e-02, 8.07816684e-02, 4.17626649e-03, 0.00000000e+00,\n         0.00000000e+00, 6.52557760e-02, 1.38374213e-02, 2.00060960e-02,\n         0.00000000e+00, 8.49308074e-03, 0.00000000e+00, 0.00000000e+00,\n         2.72892006e-02, 0.00000000e+00, 0.00000000e+00, 0.00000000e+00,\n         0.00000000e+00, 0.00000000e+00, 0.00000000e+00, 7.01854080e-02,\n         9.83099919e-03, 0.00000000e+00, 1.15126185e-02, 8.04077089e-03,\n         0.00000000e+00, 1.58009734e-02, 0.00000000e+00, 0.00000000e+00],\n        [0.00000000e+00, 3.59550267e-02, 0.00000000e+00, 0.00000000e+00,\n         6.06929362e-02, 6.39796257e-02, 3.00384816e-02, 1.16207488e-02,\n         0.00000000e+00, 1.91348977e-02, 8.35962128e-03, 5.86718209e-02,\n         5.37376851e-03, 5.01918271e-02, 0.00000000e+00, 0.00000000e+00,\n         2.49127559e-02, 0.00000000e+00, 0.00000000e+00, 0.00000000e+00,\n         7.58406706e-03, 0.00000000e+00, 0.00000000e+00, 9.02754962e-02,\n         3.85041796e-02, 0.00000000e+00, 5.25189713e-02, 7.73842707e-02,\n         0.00000000e+00, 0.00000000e+00, 0.00000000e+00, 2.71398779e-02],\n        [1.74047034e-02, 0.00000000e+00, 0.00000000e+00, 0.00000000e+00,\n         7.18473941e-02, 3.82623151e-02, 5.94960451e-02, 2.18921322e-02,\n         0.00000000e+00, 6.52285889e-02, 8.44156090e-03, 3.58162373e-02,\n         1.16356499e-02, 2.53947303e-02, 3.97055224e-03, 0.00000000e+00,\n         3.13248578e-03, 0.00000000e+00, 0.00000000e+00, 0.00000000e+00,\n         1.21263359e-02, 0.00000000e+00, 0.00000000e+00, 7.17633516e-02,\n         6.75758496e-02, 0.00000000e+00, 3.13389413e-02, 3.48609202e-02,\n         5.48051856e-03, 3.55422534e-02, 0.00000000e+00, 0.00000000e+00],\n        [2.69586630e-02, 0.00000000e+00, 0.00000000e+00, 0.00000000e+00,\n         6.68515712e-02, 1.27121303e-02, 3.54260206e-02, 3.29717584e-02,\n         0.00000000e+00, 5.01817241e-02, 0.00000000e+00, 5.41597344e-02,\n         2.17607617e-03, 1.85603276e-05, 0.00000000e+00, 0.00000000e+00,\n         0.00000000e+00, 0.00000000e+00, 0.00000000e+00, 0.00000000e+00,\n         1.47226714e-02, 0.00000000e+00, 1.31579041e-02, 7.08068162e-02,\n         2.04304419e-02, 0.00000000e+00, 6.19939603e-02, 1.37169501e-02,\n         1.77373681e-02, 2.82044010e-03, 0.00000000e+00, 0.00000000e+00],\n        [2.69586630e-02, 0.00000000e+00, 0.00000000e+00, 0.00000000e+00,\n         6.68515712e-02, 1.27121303e-02, 3.54260206e-02, 3.29717584e-02,\n         0.00000000e+00, 5.01817241e-02, 0.00000000e+00, 5.41597344e-02,\n         2.17607617e-03, 1.85603276e-05, 0.00000000e+00, 0.00000000e+00,\n         0.00000000e+00, 0.00000000e+00, 0.00000000e+00, 0.00000000e+00,\n         1.47226714e-02, 0.00000000e+00, 1.31579041e-02, 7.08068162e-02,\n         2.04304419e-02, 0.00000000e+00, 6.19939603e-02, 1.37169501e-02,\n         1.77373681e-02, 2.82044010e-03, 0.00000000e+00, 0.00000000e+00],\n        [2.69586630e-02, 0.00000000e+00, 0.00000000e+00, 0.00000000e+00,\n         6.68515712e-02, 1.27121303e-02, 3.54260206e-02, 3.29717584e-02,\n         0.00000000e+00, 5.01817241e-02, 0.00000000e+00, 5.41597344e-02,\n         2.17607617e-03, 1.85603276e-05, 0.00000000e+00, 0.00000000e+00,\n         0.00000000e+00, 0.00000000e+00, 0.00000000e+00, 0.00000000e+00,\n         1.47226714e-02, 0.00000000e+00, 1.31579041e-02, 7.08068162e-02,\n         2.04304419e-02, 0.00000000e+00, 6.19939603e-02, 1.37169501e-02,\n         1.77373681e-02, 2.82044010e-03, 0.00000000e+00, 0.00000000e+00],\n        [2.69586630e-02, 0.00000000e+00, 0.00000000e+00, 0.00000000e+00,\n         6.68515712e-02, 1.27121303e-02, 3.54260206e-02, 3.29717584e-02,\n         0.00000000e+00, 5.01817241e-02, 0.00000000e+00, 5.41597344e-02,\n         2.17607617e-03, 1.85603276e-05, 0.00000000e+00, 0.00000000e+00,\n         0.00000000e+00, 0.00000000e+00, 0.00000000e+00, 0.00000000e+00,\n         1.47226714e-02, 0.00000000e+00, 1.31579041e-02, 7.08068162e-02,\n         2.04304419e-02, 0.00000000e+00, 6.19939603e-02, 1.37169501e-02,\n         1.77373681e-02, 2.82044010e-03, 0.00000000e+00, 0.00000000e+00],\n        [2.69586630e-02, 0.00000000e+00, 0.00000000e+00, 0.00000000e+00,\n         6.68515712e-02, 1.27121303e-02, 3.54260206e-02, 3.29717584e-02,\n         0.00000000e+00, 5.01817241e-02, 0.00000000e+00, 5.41597344e-02,\n         2.17607617e-03, 1.85603276e-05, 0.00000000e+00, 0.00000000e+00,\n         0.00000000e+00, 0.00000000e+00, 0.00000000e+00, 0.00000000e+00,\n         1.47226714e-02, 0.00000000e+00, 1.31579041e-02, 7.08068162e-02,\n         2.04304419e-02, 0.00000000e+00, 6.19939603e-02, 1.37169501e-02,\n         1.77373681e-02, 2.82044010e-03, 0.00000000e+00, 0.00000000e+00],\n        [2.69586630e-02, 0.00000000e+00, 0.00000000e+00, 0.00000000e+00,\n         6.68515712e-02, 1.27121303e-02, 3.54260206e-02, 3.29717584e-02,\n         0.00000000e+00, 5.01817241e-02, 0.00000000e+00, 5.41597344e-02,\n         2.17607617e-03, 1.85603276e-05, 0.00000000e+00, 0.00000000e+00,\n         0.00000000e+00, 0.00000000e+00, 0.00000000e+00, 0.00000000e+00,\n         1.47226714e-02, 0.00000000e+00, 1.31579041e-02, 7.08068162e-02,\n         2.04304419e-02, 0.00000000e+00, 6.19939603e-02, 1.37169501e-02,\n         1.77373681e-02, 2.82044010e-03, 0.00000000e+00, 0.00000000e+00],\n        [2.69586630e-02, 0.00000000e+00, 0.00000000e+00, 0.00000000e+00,\n         6.68515712e-02, 1.27121303e-02, 3.54260206e-02, 3.29717584e-02,\n         0.00000000e+00, 5.01817241e-02, 0.00000000e+00, 5.41597344e-02,\n         2.17607617e-03, 1.85603276e-05, 0.00000000e+00, 0.00000000e+00,\n         0.00000000e+00, 0.00000000e+00, 0.00000000e+00, 0.00000000e+00,\n         1.47226714e-02, 0.00000000e+00, 1.31579041e-02, 7.08068162e-02,\n         2.04304419e-02, 0.00000000e+00, 6.19939603e-02, 1.37169501e-02,\n         1.77373681e-02, 2.82044010e-03, 0.00000000e+00, 0.00000000e+00]]],\n      dtype=float32)>"
     },
     "execution_count": 31,
     "metadata": {},
     "output_type": "execute_result"
    }
   ],
   "source": [
    "conv1d_test_output"
   ],
   "metadata": {
    "collapsed": false,
    "ExecuteTime": {
     "end_time": "2023-07-30T15:11:24.760210600Z",
     "start_time": "2023-07-30T15:11:24.745313300Z"
    }
   },
   "id": "d90cfdc81e176df9"
  },
  {
   "cell_type": "code",
   "execution_count": 32,
   "outputs": [
    {
     "data": {
      "text/plain": "<tf.Tensor: shape=(1, 32), dtype=float32, numpy=\narray([[0.09382109, 0.03595503, 0.04036568, 0.03119618, 0.07184739,\n        0.08078167, 0.06379935, 0.03297176, 0.06793407, 0.06525578,\n        0.03830201, 0.05867182, 0.01534746, 0.05019183, 0.00397055,\n        0.01769494, 0.06633318, 0.0078778 , 0.        , 0.        ,\n        0.01472267, 0.        , 0.01751682, 0.0902755 , 0.06757585,\n        0.01487594, 0.06199396, 0.07738427, 0.01773737, 0.03554225,\n        0.        , 0.02713988]], dtype=float32)>"
     },
     "execution_count": 32,
     "metadata": {},
     "output_type": "execute_result"
    }
   ],
   "source": [
    "max_pool_output"
   ],
   "metadata": {
    "collapsed": false,
    "ExecuteTime": {
     "end_time": "2023-07-30T15:11:24.762829600Z",
     "start_time": "2023-07-30T15:11:24.752299900Z"
    }
   },
   "id": "8346aa6c1a02565f"
  },
  {
   "cell_type": "code",
   "execution_count": 33,
   "outputs": [
    {
     "data": {
      "text/plain": "(TensorShape([1, 15, 64]), TensorShape([1, 11, 32]), TensorShape([1, 32]))"
     },
     "execution_count": 33,
     "metadata": {},
     "output_type": "execute_result"
    }
   ],
   "source": [
    "embedding_test.shape, conv1d_test_output.shape, max_pool_output.shape"
   ],
   "metadata": {
    "collapsed": false,
    "ExecuteTime": {
     "end_time": "2023-07-30T15:11:24.816340100Z",
     "start_time": "2023-07-30T15:11:24.760210600Z"
    }
   },
   "id": "1faaf8300ba9282a"
  },
  {
   "cell_type": "code",
   "execution_count": 34,
   "outputs": [],
   "source": [
    "from tensorflow.keras import layers\n",
    "\n",
    "inputs = layers.Input(shape = (1,), dtype = tf.string)\n",
    "x = text_vectorizer(inputs)\n",
    "x = embedding(x)\n",
    "x = layers.Conv1D(filters = 64,\n",
    "                  kernel_size = 5,\n",
    "                  strides = 1,\n",
    "                  activation = 'relu',\n",
    "                  padding = 'valid')(x)\n",
    "x = layers.GlobalMaxPool1D()(x)\n",
    "outputs = layers.Dense(1, activation = 'sigmoid')(x)\n",
    "model_5 = tf.keras.Model(inputs, outputs, name = 'model_5_conv1d')\n",
    "\n",
    "# Compile the model\n",
    "model_5.compile(loss = 'binary_crossentropy',\n",
    "                optimizer=tf.keras.optimizers.Adam(),\n",
    "                metrics=['accuracy'])"
   ],
   "metadata": {
    "collapsed": false,
    "ExecuteTime": {
     "end_time": "2023-07-30T15:11:24.834258800Z",
     "start_time": "2023-07-30T15:11:24.765824700Z"
    }
   },
   "id": "1d1c580884ee79f7"
  },
  {
   "cell_type": "code",
   "execution_count": 35,
   "outputs": [
    {
     "name": "stdout",
     "output_type": "stream",
     "text": [
      "Epoch 1/5\n",
      "215/215 [==============================] - 2s 6ms/step - loss: 0.5687 - accuracy: 0.7125 - val_loss: 0.4801 - val_accuracy: 0.7848\n",
      "Epoch 2/5\n",
      "215/215 [==============================] - 1s 6ms/step - loss: 0.3474 - accuracy: 0.8565 - val_loss: 0.4936 - val_accuracy: 0.7927\n",
      "Epoch 3/5\n",
      "215/215 [==============================] - 1s 6ms/step - loss: 0.2211 - accuracy: 0.9213 - val_loss: 0.5744 - val_accuracy: 0.7808\n",
      "Epoch 4/5\n",
      "215/215 [==============================] - 1s 5ms/step - loss: 0.1455 - accuracy: 0.9511 - val_loss: 0.6683 - val_accuracy: 0.7690\n",
      "Epoch 5/5\n",
      "215/215 [==============================] - 1s 4ms/step - loss: 0.1019 - accuracy: 0.9661 - val_loss: 0.7396 - val_accuracy: 0.7585\n"
     ]
    }
   ],
   "source": [
    "# Fit the model\n",
    "model_5_history = model_5.fit(train_sentences,\n",
    "                              train_labels,\n",
    "                              epochs = 5,\n",
    "                              validation_data=(val_sentences, val_labels))"
   ],
   "metadata": {
    "collapsed": false,
    "ExecuteTime": {
     "end_time": "2023-07-30T15:11:31.447770600Z",
     "start_time": "2023-07-30T15:11:24.833258700Z"
    }
   },
   "id": "e49169fd511c0ce0"
  },
  {
   "cell_type": "code",
   "execution_count": 36,
   "outputs": [
    {
     "data": {
      "text/plain": "<Figure size 640x480 with 1 Axes>",
      "image/png": "[encoded data removed]"
     },
     "metadata": {},
     "output_type": "display_data"
    },
    {
     "data": {
      "text/plain": "<Figure size 640x480 with 1 Axes>",
      "image/png": "[encoded data removed]"
     },
     "metadata": {},
     "output_type": "display_data"
    }
   ],
   "source": [
    "import matplotlib.pyplot as plt\n",
    "\n",
    "plt.plot(model_5_history.history['accuracy'])\n",
    "plt.plot(model_5_history.history['val_accuracy'])\n",
    "plt.title('Model accuracy')\n",
    "plt.ylabel('Accuracy')\n",
    "plt.xlabel('Epoch')\n",
    "plt.legend(['Train', 'Test'], loc='upper left')\n",
    "plt.show()\n",
    "\n",
    "# Plot training & validation loss values\n",
    "plt.plot(model_5_history.history['loss'])\n",
    "plt.plot(model_5_history.history['val_loss'])\n",
    "plt.title('Model loss')\n",
    "plt.ylabel('Loss')\n",
    "plt.xlabel('Epoch')\n",
    "plt.legend(['Train', 'Test'], loc='upper left')\n",
    "plt.show()"
   ],
   "metadata": {
    "collapsed": false,
    "ExecuteTime": {
     "end_time": "2023-07-30T15:11:31.988716300Z",
     "start_time": "2023-07-30T15:11:31.449772200Z"
    }
   },
   "id": "886e2ebf5b7e05f5"
  },
  {
   "cell_type": "code",
   "execution_count": 37,
   "outputs": [
    {
     "name": "stdout",
     "output_type": "stream",
     "text": [
      "24/24 [==============================] - 0s 930us/step\n"
     ]
    },
    {
     "data": {
      "text/plain": "array([[5.99577511e-03],\n       [1.32547617e-01],\n       [3.06891706e-02],\n       [2.48900484e-02],\n       [8.58242437e-02],\n       [9.96638685e-02],\n       [7.05910427e-03],\n       [2.84496341e-02],\n       [1.51338913e-02],\n       [9.98698890e-01],\n       [9.63123798e-01],\n       [2.40630329e-01],\n       [2.16832682e-02],\n       [6.35025203e-02],\n       [8.47367495e-02],\n       [1.61247730e-01],\n       [9.92033064e-01],\n       [8.91631655e-03],\n       [9.99983549e-01],\n       [1.19911483e-03],\n       [1.25021547e-01],\n       [3.21683526e-01],\n       [5.77213317e-02],\n       [4.60722685e-01],\n       [6.12263680e-01],\n       [5.44637349e-03],\n       [9.99233723e-01],\n       [9.21885669e-01],\n       [9.99967039e-01],\n       [7.05166894e-04],\n       [1.90229882e-02],\n       [9.83633101e-04],\n       [8.90172362e-01],\n       [7.66827226e-01],\n       [5.50078452e-01],\n       [8.70775700e-01],\n       [1.09851450e-01],\n       [1.67611819e-02],\n       [4.94794222e-04],\n       [6.54350817e-02],\n       [4.02110675e-03],\n       [9.99858856e-01],\n       [7.86908865e-02],\n       [9.99031782e-01],\n       [3.83125916e-02],\n       [5.93378507e-02],\n       [9.95976925e-01],\n       [2.55529404e-01],\n       [6.49043083e-01],\n       [9.38138366e-01],\n       [3.31559479e-02],\n       [9.99999821e-01],\n       [9.07632709e-03],\n       [1.59815252e-01],\n       [4.86981928e-01],\n       [2.56238431e-01],\n       [7.46107221e-01],\n       [6.74388418e-03],\n       [3.61636877e-02],\n       [3.04071866e-02],\n       [2.77376175e-01],\n       [1.94253072e-01],\n       [9.99927938e-01],\n       [2.27155283e-01],\n       [6.92961225e-03],\n       [1.21365055e-01],\n       [9.99896705e-01],\n       [8.29068571e-02],\n       [7.55288289e-04],\n       [5.74851548e-03],\n       [1.93625607e-03],\n       [3.48446965e-01],\n       [6.87148236e-03],\n       [5.98794024e-04],\n       [6.89494759e-02],\n       [2.04406664e-01],\n       [2.36254428e-02],\n       [4.80117589e-01],\n       [4.59059840e-03],\n       [9.97154593e-01],\n       [5.65826036e-02],\n       [1.57542154e-01],\n       [2.74337023e-01],\n       [9.99946713e-01],\n       [7.64380116e-03],\n       [1.39601290e-01],\n       [9.96688783e-01],\n       [7.44082853e-02],\n       [9.87875700e-01],\n       [2.17373013e-01],\n       [1.00885175e-01],\n       [7.30717003e-01],\n       [2.58395433e-01],\n       [7.12600956e-03],\n       [5.87871134e-01],\n       [6.82730004e-02],\n       [3.79006990e-04],\n       [2.15578824e-03],\n       [7.62402475e-01],\n       [1.63858396e-03],\n       [7.56960988e-01],\n       [1.13494545e-01],\n       [2.98470054e-02],\n       [2.70603765e-02],\n       [6.59690518e-03],\n       [1.47151321e-01],\n       [6.67736292e-01],\n       [3.19902040e-02],\n       [9.99978602e-01],\n       [9.48214456e-02],\n       [9.97834265e-01],\n       [9.99847770e-01],\n       [9.97483253e-01],\n       [7.25163162e-01],\n       [5.81034343e-04],\n       [8.46374691e-01],\n       [5.41001201e-01],\n       [9.03618634e-01],\n       [5.88301659e-01],\n       [1.08792067e-01],\n       [9.83812213e-01],\n       [9.63581860e-01],\n       [4.22816118e-03],\n       [9.99746561e-01],\n       [9.79982376e-01],\n       [1.05327775e-03],\n       [4.83636111e-01],\n       [9.99573290e-01],\n       [9.27958250e-01],\n       [6.21025916e-03],\n       [2.48030368e-02],\n       [3.31385195e-01],\n       [1.68224070e-02],\n       [5.95832288e-01],\n       [5.37746191e-01],\n       [1.88605279e-01],\n       [8.20678115e-01],\n       [1.11044608e-01],\n       [1.51202008e-02],\n       [9.99999821e-01],\n       [5.05138300e-02],\n       [2.10324362e-01],\n       [9.83938098e-01],\n       [8.44095707e-01],\n       [7.44661391e-01],\n       [5.69995865e-03],\n       [9.99972343e-01],\n       [9.54800665e-01],\n       [9.63645875e-01],\n       [6.13952167e-02],\n       [9.99325573e-01],\n       [6.95264945e-03],\n       [9.99948502e-01],\n       [4.29851264e-01],\n       [7.46107221e-01],\n       [3.07252025e-03],\n       [5.22461999e-03],\n       [9.99998927e-01],\n       [8.64340663e-01],\n       [9.06180799e-01],\n       [1.30950734e-01],\n       [2.21610703e-02],\n       [9.99949813e-01],\n       [4.60900903e-01],\n       [3.00801024e-02],\n       [6.09304309e-01],\n       [2.49284998e-01],\n       [7.39526749e-02],\n       [8.65521431e-01],\n       [3.71477730e-03],\n       [9.17269811e-02],\n       [9.72263142e-02],\n       [6.83589816e-01],\n       [2.96011716e-01],\n       [4.89831045e-02],\n       [5.42507798e-04],\n       [1.15588252e-02],\n       [9.99981225e-01],\n       [9.99999583e-01],\n       [1.85020000e-01],\n       [8.27903807e-01],\n       [7.05084875e-02],\n       [8.58333660e-04],\n       [2.35002767e-03],\n       [1.56981304e-01],\n       [3.67726624e-01],\n       [2.68454012e-03],\n       [1.15677423e-03],\n       [5.14301332e-03],\n       [7.78267160e-03],\n       [1.57427769e-02],\n       [3.93360388e-03],\n       [4.12405968e-01],\n       [1.53735755e-02],\n       [1.36201382e-01],\n       [4.23693955e-01],\n       [4.90619987e-02],\n       [9.74759638e-01],\n       [9.96320602e-03],\n       [6.03812933e-02],\n       [5.77942748e-03],\n       [3.41036473e-04],\n       [2.44121570e-02],\n       [3.74919623e-01],\n       [9.75830913e-01],\n       [2.48506460e-02],\n       [3.34630273e-02],\n       [5.93282729e-02],\n       [9.55377162e-01],\n       [1.08694136e-01],\n       [9.55362499e-01],\n       [9.33855295e-01],\n       [9.99948442e-01],\n       [9.99988139e-01],\n       [5.43753445e-01],\n       [7.84649886e-03],\n       [9.50028673e-02],\n       [7.27387965e-01],\n       [9.99948204e-01],\n       [1.34732440e-01],\n       [3.86610191e-04],\n       [5.70367873e-01],\n       [9.99210238e-01],\n       [2.81025112e-01],\n       [9.99969363e-01],\n       [8.40418637e-01],\n       [5.61309606e-02],\n       [2.69300654e-04],\n       [2.12610662e-02],\n       [6.92701221e-01],\n       [4.08230647e-02],\n       [1.46446690e-01],\n       [9.98830557e-01],\n       [9.09371674e-03],\n       [1.01084020e-02],\n       [3.80349904e-02],\n       [4.00390550e-02],\n       [1.90425158e-01],\n       [7.14306056e-01],\n       [8.55969702e-05],\n       [2.32282672e-02],\n       [9.99351919e-01],\n       [5.54419577e-01],\n       [2.88907766e-01],\n       [5.55232204e-02],\n       [4.38070633e-02],\n       [9.40443635e-01],\n       [8.85132372e-01],\n       [3.27190086e-02],\n       [9.77302074e-01],\n       [4.46843691e-02],\n       [9.99985754e-01],\n       [8.46282482e-01],\n       [5.13708889e-01],\n       [5.54025127e-03],\n       [3.04500647e-02],\n       [1.03960955e-03],\n       [9.93886173e-01],\n       [3.07614990e-02],\n       [3.06239158e-01],\n       [2.19966874e-01],\n       [9.99724567e-01],\n       [9.98103976e-01],\n       [1.00167789e-01],\n       [9.99654055e-01],\n       [5.16558029e-02],\n       [7.54068326e-03],\n       [1.36620536e-01],\n       [9.14380729e-01],\n       [2.10504636e-01],\n       [9.21887755e-02],\n       [8.51666272e-01],\n       [1.73820881e-03],\n       [5.73219324e-04],\n       [9.23790812e-01],\n       [1.59297939e-02],\n       [6.61254823e-01],\n       [9.99976039e-01],\n       [2.47984491e-02],\n       [9.99944985e-01],\n       [7.53466308e-01],\n       [9.99927938e-01],\n       [3.06432359e-02],\n       [5.78036867e-02],\n       [9.99654174e-01],\n       [9.97686505e-01],\n       [9.56623137e-01],\n       [1.91082153e-03],\n       [5.13408408e-02],\n       [4.68115397e-02],\n       [9.99941051e-01],\n       [9.58689749e-01],\n       [2.98404880e-03],\n       [8.72136006e-05],\n       [8.66578698e-01],\n       [1.95294991e-01],\n       [9.27838046e-05],\n       [9.99944985e-01],\n       [9.92033064e-01],\n       [1.87590957e-01],\n       [9.95767772e-01],\n       [6.52383640e-02],\n       [9.82320666e-01],\n       [9.84743059e-01],\n       [2.82375868e-02],\n       [8.83918822e-01],\n       [5.96700430e-01],\n       [3.34326131e-03],\n       [2.43639097e-01],\n       [2.91306563e-02],\n       [9.99982834e-01],\n       [8.08128178e-01],\n       [2.47365162e-01],\n       [9.57320273e-01],\n       [8.74794543e-01],\n       [8.65865231e-01],\n       [1.44098522e-02],\n       [1.51591410e-03],\n       [9.94909167e-01],\n       [9.99755621e-01],\n       [1.05014127e-02],\n       [5.11505067e-01],\n       [6.54842079e-01],\n       [1.47031229e-02],\n       [2.56309588e-03],\n       [4.03003782e-01],\n       [3.32756899e-02],\n       [7.77154192e-02],\n       [7.43084788e-01],\n       [9.99996543e-01],\n       [2.16060430e-02],\n       [9.97203410e-01],\n       [9.99984860e-01],\n       [8.10673311e-02],\n       [6.73714697e-01],\n       [9.98668015e-01],\n       [9.99713242e-01],\n       [9.99999881e-01],\n       [8.90708387e-01],\n       [9.07431543e-01],\n       [4.22666334e-02],\n       [8.65710434e-03],\n       [5.22582054e-01],\n       [4.43723766e-05],\n       [5.76092482e-01],\n       [1.39341457e-02],\n       [9.99808371e-01],\n       [9.99868095e-01],\n       [9.99962091e-01],\n       [9.12207644e-03],\n       [3.64522226e-02],\n       [9.52647805e-01],\n       [4.79900511e-03],\n       [1.63371544e-02],\n       [9.70695198e-01],\n       [3.89046106e-03],\n       [9.99999762e-01],\n       [3.27094465e-01],\n       [1.18192397e-02],\n       [8.43164101e-02],\n       [2.59202421e-01],\n       [9.93771911e-01],\n       [7.49214470e-01],\n       [1.49049354e-03],\n       [1.83861300e-01],\n       [7.09610581e-01],\n       [4.34133038e-03],\n       [3.76301408e-02],\n       [3.06683523e-03],\n       [8.10959458e-01],\n       [1.67499706e-02],\n       [9.94638979e-01],\n       [5.17287664e-03],\n       [3.70659772e-03],\n       [5.99936247e-01],\n       [9.30702984e-01],\n       [1.27079978e-03],\n       [5.72342455e-01],\n       [2.30144098e-01],\n       [9.14957345e-01],\n       [9.99641359e-01],\n       [2.59117037e-01],\n       [7.00550854e-01],\n       [3.72889377e-02],\n       [3.04357976e-01],\n       [9.77883399e-01],\n       [1.03777209e-02],\n       [1.86939642e-01],\n       [5.60088316e-03],\n       [2.60486845e-02],\n       [8.87047872e-03],\n       [6.71781301e-02],\n       [1.44263646e-02],\n       [1.62279874e-01],\n       [6.45210370e-02],\n       [9.98413324e-01],\n       [9.58633780e-01],\n       [8.86284769e-01],\n       [9.26492270e-03],\n       [1.82852254e-03],\n       [1.58660091e-03],\n       [6.06833696e-02],\n       [9.21545744e-01],\n       [1.79690332e-03],\n       [1.38045420e-04],\n       [9.99419868e-01],\n       [2.67408520e-01],\n       [9.99847651e-01],\n       [2.43274160e-02],\n       [2.90921152e-01],\n       [9.44298148e-01],\n       [8.35112989e-01],\n       [9.81094316e-04],\n       [8.25862944e-01],\n       [6.57180473e-02],\n       [8.69934186e-02],\n       [9.93759990e-01],\n       [4.70177038e-04],\n       [9.11560595e-01],\n       [1.99448387e-03],\n       [2.36254185e-03],\n       [9.99984801e-01],\n       [1.31605817e-02],\n       [6.91172201e-03],\n       [5.54770947e-01],\n       [8.83879140e-03],\n       [7.55681563e-03],\n       [1.37995975e-03],\n       [9.99297440e-01],\n       [9.99838412e-01],\n       [9.02487524e-03],\n       [5.90508282e-01],\n       [2.19861090e-01],\n       [8.88721494e-04],\n       [9.99360621e-01],\n       [2.08697724e-03],\n       [9.96738911e-01],\n       [6.36961460e-02],\n       [2.04035919e-02],\n       [1.63345761e-03],\n       [9.90735829e-01],\n       [9.22045857e-03],\n       [9.98943865e-01],\n       [7.79864728e-01],\n       [4.40968722e-02],\n       [1.19262207e-02],\n       [2.65150726e-01],\n       [4.89291996e-02],\n       [9.99967933e-01],\n       [2.53655929e-02],\n       [1.89685519e-03],\n       [8.34093243e-03],\n       [9.99187350e-01],\n       [1.14209086e-01],\n       [9.98753250e-01],\n       [4.04868759e-02],\n       [2.58238222e-02],\n       [4.11063641e-01],\n       [7.03269243e-01],\n       [6.28569513e-04],\n       [9.27600920e-01],\n       [9.98045206e-01],\n       [2.91820080e-03],\n       [9.43801105e-01],\n       [9.65171397e-01],\n       [9.99310017e-01],\n       [4.74470900e-03],\n       [2.51294533e-03],\n       [9.24974263e-01],\n       [2.89427247e-02],\n       [9.99193549e-01],\n       [7.41891146e-01],\n       [9.98600125e-01],\n       [2.85576105e-01],\n       [9.99964237e-01],\n       [9.12127018e-01],\n       [1.28538400e-01],\n       [1.38439819e-01],\n       [4.28614765e-02],\n       [6.82498235e-03],\n       [2.92930324e-02],\n       [4.04627979e-01],\n       [2.41047874e-01],\n       [5.64358056e-01],\n       [9.13053215e-01],\n       [2.05412999e-01],\n       [4.73388098e-03],\n       [6.64863549e-03],\n       [1.03331162e-02],\n       [3.84291797e-03],\n       [5.52967656e-03],\n       [5.28713465e-02],\n       [9.94767249e-01],\n       [2.63054699e-01],\n       [9.99988139e-01],\n       [2.31943000e-03],\n       [2.18454048e-01],\n       [1.59893725e-02],\n       [9.65840067e-04],\n       [2.44785100e-04],\n       [9.99736845e-01],\n       [1.93469564e-03],\n       [3.37996311e-03],\n       [5.86817682e-01],\n       [9.99991417e-01],\n       [8.94928933e-04],\n       [3.38608474e-02],\n       [5.96700430e-01],\n       [5.91465365e-03],\n       [4.86249290e-02],\n       [9.99822021e-01],\n       [9.66811001e-01],\n       [1.60058022e-01],\n       [1.42181674e-02],\n       [4.80988473e-02],\n       [3.99284601e-01],\n       [3.03201989e-04],\n       [1.93702290e-03],\n       [5.77773929e-01],\n       [5.88435587e-03],\n       [8.50422263e-01],\n       [9.99998391e-01],\n       [1.83762517e-02],\n       [9.99810457e-01],\n       [9.99970078e-01],\n       [6.73155636e-02],\n       [7.62184262e-02],\n       [8.93397450e-01],\n       [9.83869851e-01],\n       [4.58799094e-01],\n       [1.82903986e-02],\n       [8.37422535e-02],\n       [7.96081219e-03],\n       [6.55695843e-03],\n       [1.40863374e-01],\n       [1.36264473e-01],\n       [9.97067094e-01],\n       [7.54357427e-02],\n       [6.04370758e-02],\n       [8.81833255e-01],\n       [8.23912024e-03],\n       [2.06921156e-02],\n       [1.29540265e-03],\n       [8.90781265e-03],\n       [6.30725250e-02],\n       [9.89785433e-01],\n       [9.99805927e-01],\n       [1.18873514e-01],\n       [9.99986827e-01],\n       [2.18949437e-01],\n       [2.40829755e-02],\n       [9.63774770e-02],\n       [9.99988139e-01],\n       [9.45536137e-01],\n       [9.99294817e-01],\n       [1.38669431e-01],\n       [7.49280334e-01],\n       [6.51524542e-03],\n       [9.45942163e-01],\n       [5.15288174e-01],\n       [4.02249306e-01],\n       [7.35066712e-01],\n       [4.99046184e-02],\n       [3.09823174e-02],\n       [2.71646697e-02],\n       [2.76948512e-01],\n       [6.62651956e-01],\n       [6.35803910e-04],\n       [7.94342905e-02],\n       [9.29474175e-01],\n       [9.58088577e-01],\n       [9.99974608e-01],\n       [8.72629285e-01],\n       [9.92746532e-01],\n       [6.79184496e-01],\n       [3.07212602e-02],\n       [3.88127416e-02],\n       [2.47336671e-01],\n       [8.71787727e-01],\n       [9.99944985e-01],\n       [2.10845321e-01],\n       [8.00080419e-01],\n       [7.13224858e-02],\n       [1.58619601e-02],\n       [1.68498755e-01],\n       [5.29435091e-03],\n       [9.99493420e-01],\n       [2.65436564e-02],\n       [9.99670506e-01],\n       [7.98163295e-01],\n       [9.97260809e-01],\n       [9.99940693e-01],\n       [7.15846987e-03],\n       [4.16774237e-05],\n       [1.81032473e-03],\n       [1.02526747e-01],\n       [1.00315675e-01],\n       [9.18425620e-03],\n       [3.10894251e-01],\n       [2.28612330e-02],\n       [1.65804382e-02],\n       [2.17565462e-01],\n       [7.76124140e-03],\n       [9.99993324e-01],\n       [9.99822021e-01],\n       [9.14823294e-01],\n       [2.66120732e-01],\n       [9.79317248e-01],\n       [1.47859842e-01],\n       [1.00577604e-02],\n       [8.36852193e-01],\n       [3.78093799e-03],\n       [1.22108590e-02],\n       [1.89563707e-01],\n       [9.80856121e-01],\n       [1.95291860e-03],\n       [1.06651291e-01],\n       [1.47283785e-02],\n       [6.83037739e-04],\n       [1.31178871e-02],\n       [2.16655135e-01],\n       [9.99663234e-01],\n       [9.94600356e-01],\n       [5.95635623e-02],\n       [5.16361833e-01],\n       [9.97619569e-01],\n       [2.02477444e-02],\n       [2.00771302e-01],\n       [3.56065743e-02],\n       [4.54828851e-02],\n       [2.22184151e-01],\n       [9.99736011e-01],\n       [9.15734470e-01],\n       [5.18651605e-02],\n       [3.30343954e-02],\n       [9.50806737e-01],\n       [9.80960786e-01],\n       [4.34145005e-03],\n       [9.21238121e-03],\n       [1.28938958e-01],\n       [1.86340266e-03],\n       [9.26331520e-01],\n       [1.63261279e-01],\n       [8.87498736e-01],\n       [5.15238382e-03],\n       [5.04759979e-03],\n       [2.23498940e-01],\n       [9.99988198e-01],\n       [8.89057040e-01],\n       [6.98519424e-02],\n       [2.49212936e-01],\n       [1.14081213e-02],\n       [3.03269535e-01],\n       [9.99263346e-01],\n       [1.11614449e-04],\n       [2.35507987e-03],\n       [9.28200305e-01],\n       [9.24504757e-01],\n       [4.90380917e-03],\n       [9.99994934e-01],\n       [1.15578331e-01],\n       [2.91043863e-04],\n       [2.66126513e-01],\n       [7.99322724e-02],\n       [9.99994099e-01],\n       [1.28206685e-01],\n       [9.65015888e-01],\n       [9.48326409e-01],\n       [9.99999702e-01],\n       [4.79718223e-02],\n       [1.55296430e-01],\n       [5.28072476e-01],\n       [2.63218611e-01],\n       [9.55146849e-01],\n       [4.61842894e-04],\n       [9.39563334e-01],\n       [1.85883115e-03],\n       [4.18298319e-02],\n       [1.35081747e-04],\n       [4.75571444e-03],\n       [5.67055523e-01],\n       [1.16093701e-03],\n       [3.81460875e-01],\n       [7.17820087e-03],\n       [3.32440436e-02],\n       [8.83621648e-02],\n       [9.99989688e-01],\n       [9.82244372e-01],\n       [9.60041881e-01],\n       [9.97617006e-01],\n       [6.70101270e-02],\n       [9.99822021e-01],\n       [7.56257549e-02],\n       [3.09823174e-02],\n       [9.99456704e-01],\n       [9.98331010e-01],\n       [9.99986947e-01],\n       [9.99944985e-01],\n       [6.62794828e-01],\n       [2.85378322e-02],\n       [6.75872564e-01],\n       [2.80707870e-02],\n       [9.99980330e-01],\n       [1.00220437e-03],\n       [2.30372213e-02],\n       [8.15962534e-03],\n       [2.99856579e-03],\n       [6.83783948e-01],\n       [9.99993145e-01],\n       [4.01314646e-02],\n       [2.23430291e-01],\n       [9.94232774e-01],\n       [9.86634076e-01],\n       [9.99722242e-01],\n       [2.00201035e-01],\n       [3.22648091e-04],\n       [9.39105213e-01],\n       [1.01935938e-01],\n       [9.99984384e-01],\n       [9.99587417e-01],\n       [5.59089072e-02],\n       [3.03201989e-04],\n       [6.59904582e-03],\n       [9.84511971e-01],\n       [5.47196120e-02],\n       [4.70748125e-03],\n       [9.64719713e-01],\n       [4.57499102e-02],\n       [6.37535155e-02],\n       [4.95219082e-01],\n       [7.73046553e-01],\n       [5.90303505e-04],\n       [7.80633688e-01],\n       [9.99369681e-01],\n       [6.12310804e-02],\n       [1.85613567e-03],\n       [1.09034898e-02],\n       [1.88153759e-01],\n       [4.05667257e-03],\n       [2.06610002e-03],\n       [6.83044940e-02],\n       [1.33981079e-01],\n       [5.57775557e-01],\n       [6.28071977e-03],\n       [2.41945591e-02],\n       [3.45040038e-02],\n       [9.54104364e-02],\n       [1.37620270e-01],\n       [3.87754738e-01],\n       [2.78343469e-01],\n       [4.81406134e-03],\n       [9.99984205e-01],\n       [1.39474988e-01],\n       [1.84397511e-02],\n       [6.25952065e-01],\n       [9.29493546e-01],\n       [9.99999106e-01],\n       [1.56996748e-03],\n       [1.10945078e-02],\n       [9.32591021e-01],\n       [1.15894079e-01],\n       [1.31660879e-01]], dtype=float32)"
     },
     "execution_count": 37,
     "metadata": {},
     "output_type": "execute_result"
    }
   ],
   "source": [
    "# Make some predictions with our model_5 Conv1D\n",
    "model_5_pred_probs = model_5.predict(val_sentences)\n",
    "model_5_pred_probs"
   ],
   "metadata": {
    "collapsed": false,
    "ExecuteTime": {
     "end_time": "2023-07-30T15:11:32.084407Z",
     "start_time": "2023-07-30T15:11:31.927193900Z"
    }
   },
   "id": "b8bf6a8fb5db4ba4"
  },
  {
   "cell_type": "code",
   "execution_count": 38,
   "outputs": [
    {
     "data": {
      "text/plain": "<tf.Tensor: shape=(5,), dtype=float32, numpy=array([0., 0., 0., 0., 0.], dtype=float32)>"
     },
     "execution_count": 38,
     "metadata": {},
     "output_type": "execute_result"
    }
   ],
   "source": [
    "model_5_preds = tf.squeeze(tf.round(model_5_pred_probs))\n",
    "model_5_preds[:5]"
   ],
   "metadata": {
    "collapsed": false,
    "ExecuteTime": {
     "end_time": "2023-07-30T15:11:32.085405900Z",
     "start_time": "2023-07-30T15:11:32.069318800Z"
    }
   },
   "id": "8c185637499783e8"
  },
  {
   "cell_type": "code",
   "execution_count": 39,
   "outputs": [],
   "source": [
    "# Evaluate the model by comparing the model_5_preds to val_labels\n",
    "from sklearn.metrics import accuracy_score, precision_recall_fscore_support\n",
    "\n",
    "model_5_accuracy_score = accuracy_score(val_labels, model_5_preds)\n",
    "model_5_precision, model_5_recall, model_5_fscore, _ =precision_recall_fscore_support(val_labels,\n",
    "                                                                                      model_5_preds, average=\"weighted\")"
   ],
   "metadata": {
    "collapsed": false,
    "ExecuteTime": {
     "end_time": "2023-07-30T15:11:32.085405900Z",
     "start_time": "2023-07-30T15:11:32.075803900Z"
    }
   },
   "id": "5ffc7a4966daeab"
  },
  {
   "cell_type": "code",
   "execution_count": 40,
   "outputs": [
    {
     "data": {
      "text/plain": "{'model_5_accuracy_score': 0.7585301837270341,\n 'model_5_precision': 0.758243822059271,\n 'model_5_recall': {0.7585301837270341},\n 'model_5_f1score': {0.7564486801890344}}"
     },
     "execution_count": 40,
     "metadata": {},
     "output_type": "execute_result"
    }
   ],
   "source": [
    "dict_result = {\"model_5_accuracy_score\": model_5_accuracy_score,\n",
    "               \"model_5_precision\": model_5_precision,\n",
    "               \"model_5_recall\": {model_5_recall},\n",
    "               \"model_5_f1score\": {model_5_fscore}}\n",
    "dict_result"
   ],
   "metadata": {
    "collapsed": false,
    "ExecuteTime": {
     "end_time": "2023-07-30T15:11:32.086405400Z",
     "start_time": "2023-07-30T15:11:32.080897400Z"
    }
   },
   "id": "7ca17bdd9b5564c1"
  }
 ],
 "metadata": {
  "kernelspec": {
   "display_name": "Python 3",
   "language": "python",
   "name": "python3"
  },
  "language_info": {
   "codemirror_mode": {
    "name": "ipython",
    "version": 2
   },
   "file_extension": ".py",
   "mimetype": "text/x-python",
   "name": "python",
   "nbconvert_exporter": "python",
   "pygments_lexer": "ipython2",
   "version": "2.7.6"
  }
 },
 "nbformat": 4,
 "nbformat_minor": 5
}
