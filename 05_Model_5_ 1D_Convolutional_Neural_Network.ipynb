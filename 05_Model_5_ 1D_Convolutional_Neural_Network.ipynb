{
 "cells": [
  {
   "cell_type": "code",
   "execution_count": 1,
   "outputs": [
    {
     "data": {
      "text/plain": "'2.13.0'"
     },
     "execution_count": 1,
     "metadata": {},
     "output_type": "execute_result"
    }
   ],
   "source": [
    "import os\n",
    "import tensorflow as tf\n",
    "import pandas as pd\n",
    "\n",
    "tf.__version__\n"
   ],
   "metadata": {
    "collapsed": false,
    "ExecuteTime": {
     "end_time": "2023-07-30T14:51:36.397865700Z",
     "start_time": "2023-07-30T14:51:34.876403600Z"
    }
   },
   "id": "d895e3f341f9cd2c"
  },
  {
   "cell_type": "code",
   "execution_count": 2,
   "outputs": [],
   "source": [
    "main_dir = r\"F:\\linux_ubuntu_codes\\codes\\nlp_lecture\""
   ],
   "metadata": {
    "collapsed": false,
    "ExecuteTime": {
     "end_time": "2023-07-30T14:51:36.403839Z",
     "start_time": "2023-07-30T14:51:36.398867200Z"
    }
   },
   "id": "258babd61b92d2d5"
  },
  {
   "cell_type": "code",
   "execution_count": 3,
   "outputs": [
    {
     "data": {
      "text/plain": "'https://raw.githubusercontent.com/sedeba19/NLP--Random-Models/main/train.csv'"
     },
     "execution_count": 3,
     "metadata": {},
     "output_type": "execute_result"
    }
   ],
   "source": [
    "train_dir = os.path.join(main_dir + r\"\\train.csv\")\n",
    "test_dir = os.path.join(main_dir + r\"\\test.csv\")"
   ],
   "metadata": {
    "collapsed": false,
    "ExecuteTime": {
     "end_time": "2023-07-30T14:51:36.404844100Z",
     "start_time": "2023-07-30T14:51:36.403186700Z"
    }
   },
   "id": "f9e05dc9db4f2150"
  },
  {
   "cell_type": "code",
   "execution_count": 4,
   "outputs": [
    {
     "data": {
      "text/plain": "   id keyword location                                               text  \\\n0   1     NaN      NaN  Our Deeds are the Reason of this #earthquake M...   \n1   4     NaN      NaN             Forest fire near La Ronge Sask. Canada   \n2   5     NaN      NaN  All residents asked to 'shelter in place' are ...   \n3   6     NaN      NaN  13,000 people receive #wildfires evacuation or...   \n4   7     NaN      NaN  Just got sent this photo from Ruby #Alaska as ...   \n\n   target  \n0       1  \n1       1  \n2       1  \n3       1  \n4       1  ",
      "text/html": "<div>\n<style scoped>\n    .dataframe tbody tr th:only-of-type {\n        vertical-align: middle;\n    }\n\n    .dataframe tbody tr th {\n        vertical-align: top;\n    }\n\n    .dataframe thead th {\n        text-align: right;\n    }\n</style>\n<table border=\"1\" class=\"dataframe\">\n  <thead>\n    <tr style=\"text-align: right;\">\n      <th></th>\n      <th>id</th>\n      <th>keyword</th>\n      <th>location</th>\n      <th>text</th>\n      <th>target</th>\n    </tr>\n  </thead>\n  <tbody>\n    <tr>\n      <th>0</th>\n      <td>1</td>\n      <td>NaN</td>\n      <td>NaN</td>\n      <td>Our Deeds are the Reason of this #earthquake M...</td>\n      <td>1</td>\n    </tr>\n    <tr>\n      <th>1</th>\n      <td>4</td>\n      <td>NaN</td>\n      <td>NaN</td>\n      <td>Forest fire near La Ronge Sask. Canada</td>\n      <td>1</td>\n    </tr>\n    <tr>\n      <th>2</th>\n      <td>5</td>\n      <td>NaN</td>\n      <td>NaN</td>\n      <td>All residents asked to 'shelter in place' are ...</td>\n      <td>1</td>\n    </tr>\n    <tr>\n      <th>3</th>\n      <td>6</td>\n      <td>NaN</td>\n      <td>NaN</td>\n      <td>13,000 people receive #wildfires evacuation or...</td>\n      <td>1</td>\n    </tr>\n    <tr>\n      <th>4</th>\n      <td>7</td>\n      <td>NaN</td>\n      <td>NaN</td>\n      <td>Just got sent this photo from Ruby #Alaska as ...</td>\n      <td>1</td>\n    </tr>\n  </tbody>\n</table>\n</div>"
     },
     "execution_count": 4,
     "metadata": {},
     "output_type": "execute_result"
    }
   ],
   "source": [
    "train_dir"
   ],
   "metadata": {
    "collapsed": false,
    "ExecuteTime": {
     "end_time": "2023-07-30T14:51:36.519876200Z",
     "start_time": "2023-07-30T14:51:36.405843200Z"
    }
   },
   "id": "e237aa9b92bb079a"
  },
  {
   "cell_type": "code",
   "execution_count": 5,
   "outputs": [
    {
     "data": {
      "text/plain": "         id               keyword                  location  \\\n3228   4632  emergency%20services   Sydney, New South Wales   \n3706   5271                  fear                       NaN   \n6957   9982               tsunami         Land Of The Kings   \n2887   4149                 drown                       NaN   \n7464  10680                wounds  cody, austin follows ?*?   \n\n                                                   text  target  \n3228  Goulburn man Henry Van Bilsen missing: Emergen...       1  \n3706  The things we fear most in organizations--fluc...       0  \n6957                            @tsunami_esh ?? hey Esh       0  \n2887  @POTUS you until you drown by water entering t...       0  \n7464  Crawling in my skin\\nThese wounds they will no...       1  ",
      "text/html": "<div>\n<style scoped>\n    .dataframe tbody tr th:only-of-type {\n        vertical-align: middle;\n    }\n\n    .dataframe tbody tr th {\n        vertical-align: top;\n    }\n\n    .dataframe thead th {\n        text-align: right;\n    }\n</style>\n<table border=\"1\" class=\"dataframe\">\n  <thead>\n    <tr style=\"text-align: right;\">\n      <th></th>\n      <th>id</th>\n      <th>keyword</th>\n      <th>location</th>\n      <th>text</th>\n      <th>target</th>\n    </tr>\n  </thead>\n  <tbody>\n    <tr>\n      <th>3228</th>\n      <td>4632</td>\n      <td>emergency%20services</td>\n      <td>Sydney, New South Wales</td>\n      <td>Goulburn man Henry Van Bilsen missing: Emergen...</td>\n      <td>1</td>\n    </tr>\n    <tr>\n      <th>3706</th>\n      <td>5271</td>\n      <td>fear</td>\n      <td>NaN</td>\n      <td>The things we fear most in organizations--fluc...</td>\n      <td>0</td>\n    </tr>\n    <tr>\n      <th>6957</th>\n      <td>9982</td>\n      <td>tsunami</td>\n      <td>Land Of The Kings</td>\n      <td>@tsunami_esh ?? hey Esh</td>\n      <td>0</td>\n    </tr>\n    <tr>\n      <th>2887</th>\n      <td>4149</td>\n      <td>drown</td>\n      <td>NaN</td>\n      <td>@POTUS you until you drown by water entering t...</td>\n      <td>0</td>\n    </tr>\n    <tr>\n      <th>7464</th>\n      <td>10680</td>\n      <td>wounds</td>\n      <td>cody, austin follows ?*?</td>\n      <td>Crawling in my skin\\nThese wounds they will no...</td>\n      <td>1</td>\n    </tr>\n  </tbody>\n</table>\n</div>"
     },
     "execution_count": 5,
     "metadata": {},
     "output_type": "execute_result"
    }
   ],
   "source": [
    "# Make a train_df\n",
    "train_df = pd.read_csv(train_dir)\n",
    "test_df = pd.read_csv(test_dir)\n",
    "train_df.head()"
   ],
   "metadata": {
    "collapsed": false,
    "ExecuteTime": {
     "end_time": "2023-07-30T14:51:36.526439200Z",
     "start_time": "2023-07-30T14:51:36.520876200Z"
    }
   },
   "id": "c858f9a76b34b934"
  },
  {
   "cell_type": "code",
   "execution_count": 6,
   "outputs": [
    {
     "data": {
      "text/plain": "(7613, 5)"
     },
     "execution_count": 6,
     "metadata": {},
     "output_type": "execute_result"
    }
   ],
   "source": [
    "# Shuffle training dataframe\n",
    "train_df_shuffled = train_df.sample(frac = 1, random_state = 1)\n",
    "train_df_shuffled.head()"
   ],
   "metadata": {
    "collapsed": false,
    "ExecuteTime": {
     "end_time": "2023-07-30T14:51:36.529773100Z",
     "start_time": "2023-07-30T14:51:36.527438300Z"
    }
   },
   "id": "ffa95adda1afec99"
  },
  {
   "cell_type": "code",
   "execution_count": 7,
   "outputs": [
    {
     "data": {
      "text/plain": "target\n0    4342\n1    3271\nName: count, dtype: int64"
     },
     "execution_count": 7,
     "metadata": {},
     "output_type": "execute_result"
    }
   ],
   "source": [
    "train_df_shuffled.shape"
   ],
   "metadata": {
    "collapsed": false,
    "ExecuteTime": {
     "end_time": "2023-07-30T14:51:36.536282Z",
     "start_time": "2023-07-30T14:51:36.529773100Z"
    }
   },
   "id": "66e71f2c2322a35c"
  },
  {
   "cell_type": "code",
   "execution_count": 8,
   "outputs": [
    {
     "data": {
      "text/plain": "(7613, 3263)"
     },
     "execution_count": 8,
     "metadata": {},
     "output_type": "execute_result"
    }
   ],
   "source": [
    "# How many examples of each class?\n",
    "train_df['target'].value_counts()"
   ],
   "metadata": {
    "collapsed": false,
    "ExecuteTime": {
     "end_time": "2023-07-30T14:51:36.538286800Z",
     "start_time": "2023-07-30T14:51:36.535747700Z"
    }
   },
   "id": "e8f13f3fbc904937"
  },
  {
   "cell_type": "code",
   "execution_count": 9,
   "outputs": [
    {
     "name": "stdout",
     "output_type": "stream",
     "text": [
      "Target:0 (not a real disaster)\n",
      "Text: \n",
      "Yup. Still hasn't sunk in. ?? https://t.co/Ii2SpVP89b\n",
      "-----\n",
      "\n",
      "Target:0 (not a real disaster)\n",
      "Text: \n",
      "@Hail_Zel man you kno I'm there !\n",
      "-----\n",
      "\n",
      "Target:0 (not a real disaster)\n",
      "Text: \n",
      "@Chrisman528 fatality ...\n",
      "-----\n",
      "\n",
      "Target:0 (not a real disaster)\n",
      "Text: \n",
      "@Marvel @DCComics @ImageComics @DarkHorseComics @IDWPublishing And by doing this you're enabling the possible collapse of the industry.\n",
      "-----\n",
      "\n",
      "Target:0 (not a real disaster)\n",
      "Text: \n",
      "If u faved that I hope you fall off a cliff ??\n",
      "-----\n"
     ]
    }
   ],
   "source": [
    "# How many total samples?\n",
    "len(train_df), len(test_df)"
   ],
   "metadata": {
    "collapsed": false,
    "ExecuteTime": {
     "end_time": "2023-07-30T14:51:36.587257900Z",
     "start_time": "2023-07-30T14:51:36.538286800Z"
    }
   },
   "id": "6a3f06f716aed950"
  },
  {
   "cell_type": "code",
   "execution_count": null,
   "outputs": [],
   "source": [
    "# Visualize some random training examples\n",
    "import random\n",
    "random_index = random.randint(0, len(train_df)-5)\n",
    "for row in train_df_shuffled[[\"text\", \"target\"]][random_index: random_index +5].itertuples():\n",
    "    _, text, target = row\n",
    "    if target > 0:\n",
    "        print(f\"Target:{target}\", \"(real disaster)\")\n",
    "    else:\n",
    "        print(f\"Target:{target}\", \"(not a real disaster)\")\n",
    "    \n",
    "    print(f\"Text: \\n{text}\")\n",
    "    print(\"-----\\n\")"
   ],
   "metadata": {
    "collapsed": false
   },
   "id": "99ad01fd617f2fad"
  },
  {
   "cell_type": "markdown",
   "source": [
    "### Split data into training and validation sets"
   ],
   "metadata": {
    "collapsed": false,
    "ExecuteTime": {
     "end_time": "2023-07-30T14:51:36.806941100Z",
     "start_time": "2023-07-30T14:51:36.543251100Z"
    }
   },
   "id": "cc004f467eb6820b"
  },
  {
   "cell_type": "code",
   "execution_count": 11,
   "outputs": [
    {
     "data": {
      "text/plain": "(7613,)"
     },
     "execution_count": 11,
     "metadata": {},
     "output_type": "execute_result"
    }
   ],
   "source": [
    "from sklearn.model_selection import train_test_split\n",
    "\n",
    "train_sentences, val_sentences, train_labels, val_labels = train_test_split(train_df['text'],\n",
    "                                                                            train_df['target'],\n",
    "                                                                            test_size = 0.1,\n",
    "                                                                            random_state = 42)"
   ],
   "metadata": {
    "collapsed": false,
    "ExecuteTime": {
     "end_time": "2023-07-30T14:51:36.817252100Z",
     "start_time": "2023-07-30T14:51:36.807941100Z"
    }
   },
   "id": "e9962e431d6f4625"
  },
  {
   "cell_type": "code",
   "execution_count": 12,
   "outputs": [
    {
     "data": {
      "text/plain": "0       Our Deeds are the Reason of this #earthquake M...\n1                  Forest fire near La Ronge Sask. Canada\n2       All residents asked to 'shelter in place' are ...\n3       13,000 people receive #wildfires evacuation or...\n4       Just got sent this photo from Ruby #Alaska as ...\n                              ...                        \n7608    Two giant cranes holding a bridge collapse int...\n7609    @aria_ahrary @TheTawniest The out of control w...\n7610    M1.94 [01:04 UTC]?5km S of Volcano Hawaii. htt...\n7611    Police investigating after an e-bike collided ...\n7612    The Latest: More Homes Razed by Northern Calif...\nName: text, Length: 7613, dtype: object"
     },
     "execution_count": 12,
     "metadata": {},
     "output_type": "execute_result"
    }
   ],
   "source": [
    "train_df['text'].shape"
   ],
   "metadata": {
    "collapsed": false,
    "ExecuteTime": {
     "end_time": "2023-07-30T14:51:36.819827500Z",
     "start_time": "2023-07-30T14:51:36.811227300Z"
    }
   },
   "id": "2044aeeaed5209d8"
  },
  {
   "cell_type": "code",
   "execution_count": 13,
   "outputs": [
    {
     "data": {
      "text/plain": "array(['Our Deeds are the Reason of this #earthquake May ALLAH Forgive us all',\n       'Forest fire near La Ronge Sask. Canada',\n       \"All residents asked to 'shelter in place' are being notified by officers. No other evacuation or shelter in place orders are expected\",\n       ...,\n       'M1.94 [01:04 UTC]?5km S of Volcano Hawaii. http://t.co/zDtoyd8EbJ',\n       'Police investigating after an e-bike collided with a car in Little Portugal. E-bike rider suffered serious non-life threatening injuries.',\n       'The Latest: More Homes Razed by Northern California Wildfire - ABC News http://t.co/YmY4rSkQ3d'],\n      dtype=object)"
     },
     "execution_count": 13,
     "metadata": {},
     "output_type": "execute_result"
    }
   ],
   "source": [
    "train_df[\"text\"]"
   ],
   "metadata": {
    "collapsed": false,
    "ExecuteTime": {
     "end_time": "2023-07-30T14:51:36.821831900Z",
     "start_time": "2023-07-30T14:51:36.817252100Z"
    }
   },
   "id": "aecfc9a6831f9cee"
  },
  {
   "cell_type": "code",
   "execution_count": 14,
   "outputs": [
    {
     "data": {
      "text/plain": "array(['Our Deeds are the Reason of this #earthquake May ALLAH Forgive us all',\n       'Forest fire near La Ronge Sask. Canada',\n       \"All residents asked to 'shelter in place' are being notified by officers. No other evacuation or shelter in place orders are expected\",\n       ...,\n       'M1.94 [01:04 UTC]?5km S of Volcano Hawaii. http://t.co/zDtoyd8EbJ',\n       'Police investigating after an e-bike collided with a car in Little Portugal. E-bike rider suffered serious non-life threatening injuries.',\n       'The Latest: More Homes Razed by Northern California Wildfire - ABC News http://t.co/YmY4rSkQ3d'],\n      dtype=object)"
     },
     "execution_count": 14,
     "metadata": {},
     "output_type": "execute_result"
    }
   ],
   "source": [
    "train_df['text'].to_numpy()"
   ],
   "metadata": {
    "collapsed": false,
    "ExecuteTime": {
     "end_time": "2023-07-30T14:51:36.830714500Z",
     "start_time": "2023-07-30T14:51:36.822831900Z"
    }
   },
   "id": "4cdc72f6e817f834"
  },
  {
   "cell_type": "code",
   "execution_count": 15,
   "outputs": [
    {
     "data": {
      "text/plain": "(6851, 762, 6851, 762)"
     },
     "execution_count": 15,
     "metadata": {},
     "output_type": "execute_result"
    }
   ],
   "source": [
    "train_df['text'].to_numpy()"
   ],
   "metadata": {
    "collapsed": false,
    "ExecuteTime": {
     "end_time": "2023-07-30T14:51:36.830714500Z",
     "start_time": "2023-07-30T14:51:36.827121200Z"
    }
   },
   "id": "ec43b6635db1dc03"
  },
  {
   "cell_type": "code",
   "execution_count": null,
   "outputs": [],
   "source": [
    "len(train_sentences), len(val_sentences), len(train_labels), len(val_labels)"
   ],
   "metadata": {
    "collapsed": false
   },
   "id": "c4b936bb4e61352a"
  },
  {
   "cell_type": "markdown",
   "source": [
    "### Converting text into numbers: Text Vectorization also known as Tokenization"
   ],
   "metadata": {
    "collapsed": false,
    "ExecuteTime": {
     "end_time": "2023-07-30T14:51:36.884692100Z",
     "start_time": "2023-07-30T14:51:36.830714500Z"
    }
   },
   "id": "5777dedf87f2662b"
  },
  {
   "cell_type": "code",
   "execution_count": 17,
   "outputs": [
    {
     "data": {
      "text/plain": "(6851,)"
     },
     "execution_count": 17,
     "metadata": {},
     "output_type": "execute_result"
    }
   ],
   "source": [
    "# Get the total words\n",
    "total_words = 0\n",
    "for i in train_sentences:\n",
    "    total_words += len(i.split())\n",
    "\n",
    "total_words"
   ],
   "metadata": {
    "collapsed": false,
    "ExecuteTime": {
     "end_time": "2023-07-30T14:51:36.897208200Z",
     "start_time": "2023-07-30T14:51:36.837502100Z"
    }
   },
   "id": "618457c173977155"
  },
  {
   "cell_type": "code",
   "execution_count": 18,
   "outputs": [
    {
     "data": {
      "text/plain": "15"
     },
     "execution_count": 18,
     "metadata": {},
     "output_type": "execute_result"
    }
   ],
   "source": [
    "train_sentences.shape"
   ],
   "metadata": {
    "collapsed": false,
    "ExecuteTime": {
     "end_time": "2023-07-30T14:51:36.898210200Z",
     "start_time": "2023-07-30T14:51:36.842395300Z"
    }
   },
   "id": "829d84b65c26bb92"
  },
  {
   "cell_type": "code",
   "execution_count": 19,
   "outputs": [],
   "source": [
    "# Get the average words per sentence or line\n",
    "avg_words_per_sentence = round(total_words/len(train_sentences))\n",
    "avg_words_per_sentence"
   ],
   "metadata": {
    "collapsed": false,
    "ExecuteTime": {
     "end_time": "2023-07-30T14:51:36.898210200Z",
     "start_time": "2023-07-30T14:51:36.846671600Z"
    }
   },
   "id": "a7a8bed44aec85d5"
  },
  {
   "cell_type": "code",
   "execution_count": 20,
   "outputs": [],
   "source": [
    "# Normally, total number of words is equal or less than the max vocabulary length\n",
    "max_vocab_length = 10000\n",
    "\n",
    "# max length of a statement is equal or more than the average word per sentence or line\n",
    "max_length = 15"
   ],
   "metadata": {
    "collapsed": false,
    "ExecuteTime": {
     "end_time": "2023-07-30T14:51:37.104612400Z",
     "start_time": "2023-07-30T14:51:36.848684300Z"
    }
   },
   "id": "92ebee1bf68d8486"
  },
  {
   "cell_type": "code",
   "execution_count": 21,
   "outputs": [
    {
     "name": "stdout",
     "output_type": "stream",
     "text": [
      "There's a flood in my street! Sentence length is 29.\n"
     ]
    },
    {
     "data": {
      "text/plain": "<tf.Tensor: shape=(1, 15), dtype=int64, numpy=\narray([[282,   3, 206,   4,  13, 674,   0,   0,   0,   0,   0,   0,   0,\n          0,   0]], dtype=int64)>"
     },
     "execution_count": 21,
     "metadata": {},
     "output_type": "execute_result"
    }
   ],
   "source": [
    "import tensorflow as tf\n",
    "from tensorflow.keras.layers.experimental.preprocessing import TextVectorization\n",
    "\n",
    "text_vectorizer = TextVectorization(max_tokens = max_vocab_length,\n",
    "                                    output_mode = \"int\",\n",
    "                                    output_sequence_length = max_length)\n",
    "\n",
    "# Fit the text vectorizer to the training set\n",
    "text_vectorizer.adapt(train_sentences)"
   ],
   "metadata": {
    "collapsed": false,
    "ExecuteTime": {
     "end_time": "2023-07-30T14:51:37.126126600Z",
     "start_time": "2023-07-30T14:51:37.105612800Z"
    }
   },
   "id": "8805b068faa29b89"
  },
  {
   "cell_type": "code",
   "execution_count": 22,
   "outputs": [
    {
     "name": "stdout",
     "output_type": "stream",
     "text": [
      "Original text: \n",
      "\n",
      " Photoshop Tools Crash Course - Complete Photoshop Tool Guide http://t.co/DunMvj7ITl #course http://t.co/RgdrJv63hF \n",
      "\n",
      "Vectorized text:\n"
     ]
    },
    {
     "data": {
      "text/plain": "<tf.Tensor: shape=(1, 15), dtype=int64, numpy=\narray([[2813, 3309,   83,  814, 1313, 2813, 3310, 1193,    1,  814,    1,\n           0,    0,    0,    0]], dtype=int64)>"
     },
     "execution_count": 22,
     "metadata": {},
     "output_type": "execute_result"
    }
   ],
   "source": [
    "# Create a sample sentence and tokenize it\n",
    "samp_sentence = \"There's a flood in my street!\"\n",
    "print(samp_sentence, f\"Sentence length is {len(samp_sentence)}.\")\n",
    "text_vectorizer([samp_sentence])\n",
    "#len(tf.squeeze(text_vectorizer([samp_sentence])))"
   ],
   "metadata": {
    "collapsed": false,
    "ExecuteTime": {
     "end_time": "2023-07-30T14:51:37.137008700Z",
     "start_time": "2023-07-30T14:51:37.127126500Z"
    }
   },
   "id": "111d45283fbfd4ae"
  },
  {
   "cell_type": "code",
   "execution_count": 23,
   "outputs": [
    {
     "data": {
      "text/plain": "['',\n '[UNK]',\n 'the',\n 'a',\n 'in',\n 'to',\n 'of',\n 'and',\n 'i',\n 'is',\n 'for',\n 'on',\n 'you',\n 'my',\n 'with',\n 'it',\n 'that',\n 'at',\n 'by',\n 'this',\n 'from',\n 'are',\n 'be',\n 'was',\n 'have',\n 'like',\n 'as',\n 'me',\n 'but',\n 'up',\n 'just',\n 'so',\n 'im',\n 'not',\n 'amp',\n 'your',\n 'out',\n 'all',\n 'after',\n 'its',\n 'has',\n 'no',\n 'will',\n 'an',\n 'fire',\n 'when',\n 'if',\n 'we',\n 'get',\n 'now',\n 'more',\n 'via',\n 'new',\n 'about',\n 'what',\n 'people',\n 'or',\n 'news',\n 'he',\n 'they',\n 'over',\n 'one',\n 'been',\n 'how',\n 'dont',\n 'who',\n 'video',\n 'into',\n 'were',\n 'do',\n 'us',\n 'can',\n 'emergency',\n '2',\n 'disaster',\n 'there',\n 'her',\n 'some',\n 'than',\n 'still',\n 'would',\n 'his',\n 'police',\n 'crash',\n 'burning',\n 'suicide',\n 'body',\n 'california',\n 'back',\n 'time',\n 'buildings',\n 'had',\n 'why',\n 'off',\n 'them',\n 'got',\n 'man',\n 'see',\n 'storm',\n 'know',\n 'going',\n 'cant',\n 'world',\n 'first',\n 'day',\n 'rt',\n 'nuclear',\n 'love',\n 'youtube',\n 'our',\n 'attack',\n 'go',\n 'fires',\n 'two',\n 'their',\n 'bomb',\n 'killed',\n '3',\n 'train',\n 'dead',\n 'car',\n 'war',\n 'life',\n 'may',\n 'watch',\n 'full',\n 'only',\n 'here',\n 'hiroshima',\n 'down',\n 'today',\n 'u',\n 'accident',\n 'think',\n 'many',\n 'good',\n 'way',\n 'families',\n 'too',\n 'then',\n 'say',\n 'being',\n 'last',\n 'could',\n 'years',\n 'want',\n 'did',\n 'home',\n 'best',\n 'should',\n 'need',\n 'mass',\n 'even',\n 'work',\n 'make',\n 'help',\n 'bombing',\n 'wildfire',\n 'please',\n 'look',\n 'lol',\n 'because',\n 'another',\n 'take',\n 'him',\n 'collapse',\n 'year',\n 'water',\n 'those',\n 'really',\n 'army',\n 'am',\n 'school',\n 'mh370',\n 'death',\n 'right',\n 'pm',\n 'black',\n 'much',\n 'forest',\n 'fatal',\n '5',\n 'youre',\n 'she',\n 'northern',\n '4',\n 'live',\n 'city',\n 'bomber',\n 'wreck',\n 'hot',\n 'great',\n 'every',\n '2015',\n 'old',\n 'let',\n 'legionnaires',\n 'fear',\n 'obama',\n 'latest',\n 'homes',\n 'flames',\n 'come',\n '1',\n 'never',\n 'getting',\n 'flood',\n '\\x89Û',\n 'where',\n 'said',\n 'japan',\n 'shit',\n 'floods',\n 'during',\n 'atomic',\n 'god',\n 'damage',\n 'under',\n 'near',\n 'feel',\n 'ever',\n 'earthquake',\n 'ass',\n 'which',\n 'since',\n 'read',\n 'oil',\n 'night',\n 'most',\n 'military',\n 'injured',\n 'hope',\n 'everyone',\n 'coming',\n 'any',\n 'without',\n 'while',\n 'well',\n 'thats',\n 'stop',\n 'next',\n 'hit',\n 'weather',\n 'these',\n 'state',\n 'little',\n 'flooding',\n 'evacuation',\n 'before',\n 'truck',\n 'severe',\n 's',\n 'content',\n 'always',\n 'until',\n 'top',\n 'through',\n 'smoke',\n 'plan',\n 'found',\n 'confirmed',\n 'cause',\n 'movie',\n 'fucking',\n 'face',\n 'debris',\n 'bloody',\n 'bad',\n 'weapon',\n 'warning',\n 'times',\n 'thunderstorm',\n 'set',\n 'says',\n 'natural',\n 'malaysia',\n 'liked',\n 'ive',\n 'gonna',\n 'free',\n 'fall',\n 'thunder',\n 'theres',\n 'sinking',\n 'saudi',\n 'refugees',\n 'made',\n 'loud',\n 'looks',\n 'injuries',\n 'house',\n 'hes',\n 'heat',\n 'cross',\n 'also',\n 'air',\n 'w',\n 'screaming',\n 'rain',\n 'murder',\n 'head',\n 'failure',\n 'explode',\n 'check',\n 'wreckage',\n 'wind',\n 'wild',\n 'trapped',\n 'survive',\n 'spill',\n 'reddit',\n 'panic',\n 'missing',\n 'lightning',\n 'family',\n 'change',\n 'whole',\n 'weapons',\n 'terrorist',\n 'service',\n 'run',\n 'rescuers',\n 'report',\n 'released',\n 'photo',\n 'outbreak',\n 'ill',\n 'food',\n 'evacuate',\n 'end',\n 'destroyed',\n 'deaths',\n 'boy',\n 'again',\n '70',\n 'terrorism',\n 'sinkhole',\n 'services',\n 'save',\n 'road',\n 'rescue',\n 'migrants',\n 'keep',\n 'high',\n 'harm',\n 'danger',\n 'county',\n 'collided',\n 'blood',\n 'big',\n 'bags',\n 'twister',\n 'trauma',\n 'tonight',\n 'summer',\n 'ruin',\n 'mosque',\n 'lives',\n 'least',\n 'hail',\n 'girl',\n 'fuck',\n 'fatalities',\n 'does',\n 'derailment',\n 'curfew',\n 'collapsed',\n 'charged',\n 'call',\n 'burned',\n 'breaking',\n 'boat',\n 'bag',\n 'attacked',\n 'ambulance',\n 'wrecked',\n 'wounded',\n 'white',\n 'week',\n 'update',\n 'things',\n 'structural',\n 'stock',\n 'someone',\n 'show',\n 'rioting',\n 'real',\n 'phone',\n 'mudslide',\n 'landslide',\n 'investigators',\n 'explosion',\n 'engulfed',\n 'displaced',\n 'devastation',\n 'destroy',\n 'deluge',\n 'crashed',\n 'catastrophe',\n 'bus',\n 'battle',\n 'away',\n 'area',\n 'apocalypse',\n 'whirlwind',\n 'survivors',\n 'survived',\n 'sunk',\n 'saw',\n 'sandstorm',\n 'post',\n 'other',\n 'massacre',\n 'island',\n 'injury',\n 'id',\n 'hundreds',\n 'hostages',\n 'horrible',\n 'hazardous',\n 'hazard',\n 'game',\n 'exploded',\n 'drought',\n 'bridge',\n 'bang',\n '40',\n 'windstorm',\n 'went',\n 'wave',\n 'soon',\n 'rescued',\n 'quarantined',\n 'national',\n 'market',\n 'kills',\n 'hurricane',\n 'heard',\n 'drowning',\n 'drown',\n 'detonate',\n 'destruction',\n 'derail',\n 'cliff',\n 'bombed',\n 'blown',\n 'around',\n 'airplane',\n '6',\n '\\x89ÛÒ',\n 'wounds',\n 'woman',\n 'trouble',\n 'traumatised',\n 'tragedy',\n 'thing',\n 'story',\n 'screams',\n 'put',\n 'past',\n 'ok',\n 'iran',\n 'inundated',\n 'group',\n 'flattened',\n 'fedex',\n 'caused',\n 'came',\n 'better',\n 'august',\n 'armageddon',\n 'anniversary',\n '15',\n 'women',\n 'wanna',\n 'violent',\n 'typhoon',\n 'tsunami',\n 'thank',\n 'security',\n 'razed',\n 'possible',\n 'meltdown',\n 'lot',\n 'isis',\n 'hostage',\n 'famine',\n 'electrocuted',\n 'ebay',\n 'dust',\n 'crush',\n 'collide',\n 'chemical',\n 'blew',\n 'bleeding',\n 'bioterror',\n 'against',\n 'zone',\n 'whats',\n 'use',\n 'twitter',\n 'tomorrow',\n 'sure',\n 'something',\n 'send',\n 'quarantine',\n 'plane',\n 'pkk',\n 'part',\n 'panicking',\n 'pandemonium',\n 'oh',\n 'must',\n 'longer',\n 'long',\n 'left',\n 'hijacker',\n 'heart',\n 'government',\n 'goes',\n 'due',\n 'didnt',\n 'detonated',\n 'desolation',\n 'collision',\n 'catastrophic',\n 'casualties',\n 'calgary',\n 'building',\n 'beautiful',\n 'bagging',\n 'affected',\n 'yet',\n 'volcano',\n 'very',\n 'thanks',\n 'st',\n 'screamed',\n 'river',\n 'riot',\n 'reunion',\n 'responders',\n 'red',\n 'obliteration',\n 'obliterated',\n 'nothing',\n 'music',\n 'minute',\n 'lava',\n 'land',\n 'hijacking',\n 'fatality',\n 'fan',\n 'drowned',\n 'detonation',\n 'demolish',\n 'cool',\n 'blast',\n 'believe',\n 'baby',\n 'used',\n 'ur',\n 'three',\n 'thought',\n 'sound',\n 'song',\n 'site',\n 'sirens',\n 'shoulder',\n 'seismic',\n 'same',\n 'prebreak',\n 'power',\n 'officials',\n 'obliterate',\n 'few',\n 'eyewitness',\n 'died',\n 'demolished',\n 'care',\n 'arson',\n 'airport',\n '9',\n 'turkey',\n 'traffic',\n 'such',\n 'stay',\n 'start',\n 'snowstorm',\n 'shooting',\n 'rubble',\n 'remember',\n 'rainstorm',\n 'murderer',\n 'media',\n 'making',\n 'kids',\n 'issues',\n 'israeli',\n 'india',\n 'having',\n 'far',\n 'evacuated',\n 'electrocute',\n 'doing',\n 'doesnt',\n 'derailed',\n 'demolition',\n 'crushed',\n 'brown',\n 'blazing',\n 'annihilated',\n '8',\n '7',\n '16yr',\n 'yes',\n 'wake',\n 'suspect',\n 'south',\n 'shot',\n 'reactor',\n 'policy',\n 'nowplaying',\n 'nearby',\n 'line',\n 'light',\n 'lets',\n 'leave',\n 'inside',\n 'horror',\n 'hijack',\n 'hell',\n 'health',\n 'gets',\n 'casualty',\n 'bc',\n 'already',\n 'actually',\n 'words',\n 'upheaval',\n 'trying',\n 'tornado',\n 'tell',\n 'sue',\n 'stretcher',\n 'second',\n 're\\x89Û',\n 'plans',\n 'pic',\n 'mp',\n 'men',\n 'maybe',\n 'low',\n 'lab',\n 'islam',\n 'hours',\n 'history',\n 'half',\n 'guys',\n 'fun',\n 'fight',\n 'done',\n 'deluged',\n 'declares',\n 'days',\n 'bodies',\n 'bestnaijamade',\n 'anything',\n 'almost',\n '20',\n '\\x89ÛÓ',\n 'wont',\n 'swallowed',\n 'support',\n 'street',\n 'searching',\n 'reuters',\n 'play',\n 'place',\n 'photos',\n 'person',\n 'peace',\n 'online',\n 'north',\n 'literally',\n 'hey',\n 'helicopter',\n 'find',\n 'cyclone',\n 'crews',\n 'business',\n 'bush',\n 'both',\n 'bioterrorism',\n 'bar',\n 'avalanche',\n 'aircraft',\n 'abc',\n '50',\n 'yeah',\n 'west',\n 'wait',\n 'typhoondevastated',\n 'theyre',\n 'siren',\n 'saipan',\n 'pick',\n 'name',\n 'money',\n 'la',\n 'kill',\n 'job',\n 'hellfire',\n 'hear',\n 'happy',\n 'eyes',\n 'die',\n 'data',\n 'conclusively',\n 'children',\n 'blight',\n 'blaze',\n 'ago',\n 'waves',\n 'trench',\n 'texas',\n 'team',\n 'space',\n 'projected',\n 'probably',\n 'picking',\n 'own',\n 'order',\n 'myself',\n 'memories',\n 'major',\n 'm',\n 'lost',\n 'jobs',\n 'hollywood',\n 'feared',\n 'effect',\n 'deal',\n 'd',\n 'center',\n 'case',\n 'book',\n 'bigger',\n 'anyone',\n 'american',\n 'ablaze',\n '12',\n '10',\n 'yourself',\n 'watching',\n 'tv',\n 'transport',\n 'town',\n 'spot',\n 'soudelor',\n 'ship',\n 'seen',\n 'saved',\n 'pretty',\n 'outside',\n 'officer',\n 'mom',\n 'miners',\n 'meek',\n 'leather',\n 'houses',\n 'hat',\n 'hard',\n 'flag',\n 'everything',\n 'daily',\n 'child',\n 'chance',\n 'called',\n 'banned',\n 'ball',\n 'annihilation',\n 'amid',\n '30',\n 'wow',\n 'trains',\n 'though',\n 'star',\n 'signs',\n 'side',\n 'shes',\n 'self',\n 'rise',\n 'refugio',\n 'rd',\n 'poor',\n 'once',\n 'okay',\n 'n',\n 'move',\n 'might',\n 'manslaughter',\n 'makes',\n 'hailstorm',\n 'gbbo',\n 'friends',\n 'flash',\n 'fast',\n 'emmerdale',\n 'east',\n 'desolate',\n 'damn',\n 'crisis',\n 'crazy',\n 'course',\n 'couple',\n 'country',\n 'costlier',\n 'centre',\n 'caught',\n 'cake',\n 'blizzard',\n 'become',\n 'angry',\n 'alone',\n 'youth',\n 'wrong',\n 'win',\n 'vs',\n 'virgin',\n 'truth',\n 'temple',\n 'sorry',\n 'reports',\n 'reason',\n 'playing',\n 'pain',\n 'omg',\n 'official',\n 'myanmar',\n 'mayhem',\n 'looking',\n 'listen',\n 'level',\n 'ladies',\n 'knock',\n 'isnt',\n 'ignition',\n 'huge',\n 'heavy',\n 'hate',\n 'guy',\n 'gun',\n 'global',\n 'finally',\n 'feeling',\n 'eye',\n 'downtown',\n 'control',\n 'computers',\n 'closed',\n 'class',\n 'beach',\n 'bbc',\n 'b',\n 'appears',\n 'across',\n '60',\n '13',\n '11yearold',\n 'yours',\n 'womens',\n 'wanted',\n 'view',\n 'usa',\n 'united',\n 'try',\n 'totally',\n 'toddler',\n 'till',\n 'thousands',\n 'takes',\n 'taken',\n 't',\n 'stand',\n 'russian',\n 'running',\n 'reddits',\n 'quiz',\n 'pay',\n 'pakistan',\n 'others',\n 'mop',\n 'marks',\n 'mad',\n 'link',\n 'libya',\n 'issued',\n 'instead',\n 'happened',\n 'gt',\n 'giant',\n 'gems',\n 'gave',\n 'front',\n 'follow',\n 'film',\n 'experts',\n 'else',\n 'drive',\n 'devastated',\n 'declaration',\n 'coaches',\n 'cnn',\n 'christian',\n 'anthrax',\n 'aftershock',\n '11',\n 'worst',\n 'working',\n 'village',\n 'vehicle',\n 'unconfirmed',\n 'thursday',\n 'talk',\n 'subreddits',\n 'sounds',\n 'shows',\n 'scared',\n 'ready',\n 'potus',\n 'park',\n 'niggas',\n 'neighbours',\n 'nagasaki',\n 'mount',\n 'miss',\n 'mishaps',\n 'lord',\n 'led',\n 'learn',\n 'large',\n 'landing',\n 'israel',\n 'haha',\n 'gop',\n 'germs',\n 'galactic',\n 'fukushima',\n 'following',\n 'favorite',\n 'escape',\n 'entire',\n 'ebola',\n 'driving',\n 'download',\n 'climate',\n 'chinas',\n 'china',\n 'cars',\n 'behind',\n 'aug',\n 'arsonist',\n 'aint',\n 'added',\n 'action',\n '25',\n '100',\n '05',\n 'wonder',\n 'tweet',\n 'turn',\n 'trust',\n 'tree',\n 'told',\n 'sign',\n 'safety',\n 'russia',\n 'rules',\n 'rock',\n 'reported',\n 'radio',\n 'r',\n 'pray',\n 'pradesh',\n 'ppl',\n 'point',\n 'patience',\n 'party',\n 'parole',\n 'pamela',\n 'pakistani',\n 'outrage',\n 'offensive',\n 'nws',\n 'needs',\n 'nearly',\n 'muslims',\n 'morning',\n 'moment',\n ...]"
     },
     "execution_count": 23,
     "metadata": {},
     "output_type": "execute_result"
    }
   ],
   "source": [
    "# Choose random sentence from the training dataset and tokenize it\n",
    "rand_train_sentence = random.choice(train_sentences)\n",
    "print(f\"Original text: \\n\\n {rand_train_sentence} \\n\\nVectorized text:\")\n",
    "text_vectorizer([rand_train_sentence])"
   ],
   "metadata": {
    "collapsed": false,
    "ExecuteTime": {
     "end_time": "2023-07-30T14:51:37.199235300Z",
     "start_time": "2023-07-30T14:51:37.134008600Z"
    }
   },
   "id": "4f30ca7e95b2b5e5"
  },
  {
   "cell_type": "code",
   "execution_count": 24,
   "outputs": [
    {
     "data": {
      "text/plain": "10000"
     },
     "execution_count": 24,
     "metadata": {},
     "output_type": "execute_result"
    }
   ],
   "source": [
    "# Get unique words in the vocabulary\n",
    "words_in_vocab = text_vectorizer.get_vocabulary()\n",
    "words_in_vocab"
   ],
   "metadata": {
    "collapsed": false,
    "ExecuteTime": {
     "end_time": "2023-07-30T14:51:37.199235300Z",
     "start_time": "2023-07-30T14:51:37.151455700Z"
    }
   },
   "id": "a9796849d92692a"
  },
  {
   "cell_type": "code",
   "execution_count": 25,
   "outputs": [
    {
     "data": {
      "text/plain": "['', '[UNK]', 'the', 'a', 'in']"
     },
     "execution_count": 25,
     "metadata": {},
     "output_type": "execute_result"
    }
   ],
   "source": [
    "len(words_in_vocab)"
   ],
   "metadata": {
    "collapsed": false,
    "ExecuteTime": {
     "end_time": "2023-07-30T14:51:37.200235Z",
     "start_time": "2023-07-30T14:51:37.154127900Z"
    }
   },
   "id": "1fc1d49d18c2f968"
  },
  {
   "cell_type": "code",
   "execution_count": 26,
   "outputs": [
    {
     "data": {
      "text/plain": "['pakthey', 'pakistan\\x89Ûªs', 'pakistans', 'pajamas', 'paints']"
     },
     "execution_count": 26,
     "metadata": {},
     "output_type": "execute_result"
    }
   ],
   "source": [
    "# Top 5 words in words_in_vocab\n",
    "words_in_vocab[:5]"
   ],
   "metadata": {
    "collapsed": false,
    "ExecuteTime": {
     "end_time": "2023-07-30T14:51:37.200235Z",
     "start_time": "2023-07-30T14:51:37.157185700Z"
    }
   },
   "id": "60913b2c06167547"
  },
  {
   "cell_type": "code",
   "execution_count": null,
   "outputs": [],
   "source": [
    "# Least 5 words in words_in_vocab\n",
    "words_in_vocab[-5:]"
   ],
   "metadata": {
    "collapsed": false
   },
   "id": "4b66d97a81a1ab9b"
  },
  {
   "cell_type": "markdown",
   "source": [
    "### Embedding layer\n",
    "\n",
    "To make our embedding, we are going to use TensorFlow’s embedding layer: https://www.tensorflow.org/api/docs/python/tf/keras/layers/\n",
    "\n",
    "The parameters are below mostly used.\n",
    "* input_dim = size of the vocabulary\n",
    "* output_dim = size of the output embedding vector.  For example, a value of 100 would mean each token gets represented by a vector 100 long\n",
    "* input_length = length of the sequences being passed to the embedding layer"
   ],
   "metadata": {
    "collapsed": false,
    "ExecuteTime": {
     "end_time": "2023-07-30T14:51:37.200235Z",
     "start_time": "2023-07-30T14:51:37.160420900Z"
    }
   },
   "id": "4d47ece46e5b3070"
  },
  {
   "cell_type": "code",
   "execution_count": 28,
   "outputs": [
    {
     "name": "stdout",
     "output_type": "stream",
     "text": [
      "Original text: Unexercised honda run-down neighborhood desolate: PSqD\n",
      "\n",
      "Vectorized text: [[7157    1 8901 5017  810 9496    0    0    0    0    0    0    0    0\n",
      "     0]]\n",
      "\n",
      "Vectorized text shape: (1, 15)\n",
      "Embbedded text: [[[ 0.03954208 -0.00906303  0.0358311  -0.03250655 -0.0203532\n",
      "    0.02918584 -0.01683151  0.04723224 -0.01014956  0.02778825\n",
      "   -0.02821407  0.00629053 -0.00205172  0.03607379  0.02951149\n",
      "   -0.03334422  0.04834897  0.01056667 -0.02310643 -0.02656921\n",
      "   -0.03248167  0.01823873 -0.04841439 -0.01162243  0.01940234\n",
      "   -0.00234748 -0.03038628 -0.02699078  0.04427967 -0.04945989\n",
      "   -0.0108095  -0.01006279 -0.00655333 -0.03340288 -0.01785406\n",
      "   -0.03297236  0.04680781  0.01729455 -0.02172616 -0.00215075\n",
      "   -0.0019959  -0.02527705 -0.00857097 -0.03832333  0.00094484\n",
      "   -0.0309817   0.0211432   0.0461706  -0.03237112 -0.03090276\n",
      "   -0.01525937  0.02526779 -0.0459983   0.01675249  0.00051341\n",
      "    0.04981713 -0.00618268 -0.01221802  0.00580322 -0.02632275\n",
      "    0.04599264 -0.03696167  0.03606535 -0.01246357]\n",
      "  [ 0.03693725 -0.01039115 -0.02206554  0.02247148 -0.03370581\n",
      "   -0.03548757  0.00875844  0.02067899  0.04783725 -0.02277067\n",
      "   -0.00835767 -0.03842421  0.00787624 -0.04847215  0.02333747\n",
      "   -0.03932949 -0.02558073  0.0181185  -0.04281661  0.04608222\n",
      "    0.04728072  0.02245656 -0.03232007 -0.02730527  0.00072902\n",
      "    0.04085651 -0.02967019  0.01910014 -0.0489974  -0.00194454\n",
      "   -0.0407073   0.00522853 -0.02457281 -0.02788969 -0.01418524\n",
      "   -0.00504128 -0.01526926 -0.00908842  0.01861632 -0.04128388\n",
      "    0.01373858 -0.02750418  0.01737995 -0.00743385  0.01487198\n",
      "   -0.02482144  0.03047278 -0.01168969  0.02677897  0.04978099\n",
      "   -0.00627475  0.03005273 -0.0177125   0.03921156 -0.01766335\n",
      "    0.00565717  0.02591325  0.03451595  0.02518848  0.00770457\n",
      "   -0.00905843  0.00281279  0.00411449  0.03597562]\n",
      "  [-0.03165847  0.03825407 -0.02314938 -0.03054425  0.00934329\n",
      "   -0.0456391   0.01809121 -0.03223999  0.04432942 -0.01574368\n",
      "    0.03746091 -0.02304809 -0.03183325  0.02394361  0.04662378\n",
      "    0.03567836 -0.03485615 -0.0266018   0.02423133 -0.00286059\n",
      "   -0.04808325  0.04681047 -0.01964538  0.00010233 -0.04743\n",
      "    0.00159241  0.01589635  0.04116093  0.02027002  0.0023892\n",
      "    0.03920171  0.02243061  0.01191258  0.00705639 -0.02221545\n",
      "    0.04743402  0.03714285 -0.01035676 -0.04112332 -0.02937156\n",
      "   -0.01199821  0.01929046 -0.03721019  0.04551829 -0.03700994\n",
      "    0.02930227  0.0195193   0.01351843 -0.04144295 -0.04436142\n",
      "    0.02473393  0.03862715  0.01563251  0.02870864  0.04707526\n",
      "   -0.04694724 -0.03481203  0.04689343  0.02767057  0.00791384\n",
      "    0.01021953  0.01860119  0.00628637  0.02632109]\n",
      "  [-0.02696513  0.02234784  0.01522318 -0.03432862 -0.04165937\n",
      "    0.0249501   0.04097164 -0.02239171  0.04155825  0.00414326\n",
      "    0.03641746  0.0291037  -0.0251405   0.00657557  0.04797694\n",
      "    0.04044237 -0.02044709  0.04692221 -0.03264606 -0.02223696\n",
      "    0.04991447 -0.02552664  0.01415711  0.00758971  0.0002786\n",
      "   -0.04271173 -0.0366287  -0.02825776  0.01220579  0.04238271\n",
      "    0.0373813   0.03115774 -0.02189368  0.0345297   0.02016928\n",
      "   -0.01779998  0.01757446  0.04043776  0.03314615  0.04352431\n",
      "   -0.04996271  0.04511623  0.01141678  0.01504878  0.01119198\n",
      "    0.01048737  0.00169079  0.04992035  0.03582357 -0.00482985\n",
      "    0.00917941  0.0424726  -0.0316864  -0.01947412  0.0320699\n",
      "   -0.01012825  0.00393583  0.04944993  0.04831667  0.01213876\n",
      "   -0.02454615  0.03897576 -0.00477083  0.03704527]\n",
      "  [ 0.00986766  0.04083372 -0.02950851 -0.002577   -0.00866655\n",
      "    0.04720087 -0.04132082  0.02694601  0.02390334 -0.004053\n",
      "   -0.00600583 -0.01993141 -0.01212208  0.01536627  0.0095971\n",
      "    0.02065996 -0.02311679 -0.00061705  0.0233658  -0.01736529\n",
      "   -0.01174827 -0.03694835 -0.03683959 -0.04366985 -0.00352758\n",
      "   -0.00677314 -0.02016767  0.02889225  0.01880831  0.00483407\n",
      "    0.04005544  0.03599733 -0.00660118 -0.00634236  0.04219628\n",
      "   -0.03974272 -0.03530544  0.03964417 -0.01712779 -0.02108352\n",
      "    0.01449436  0.02639589 -0.00388758 -0.04275214  0.01778025\n",
      "    0.01300081 -0.02935001 -0.01504676 -0.03944647 -0.00381322\n",
      "   -0.03995372 -0.04834937 -0.01548668  0.01686995  0.01936377\n",
      "    0.02898667 -0.02059326  0.03018559  0.02942321 -0.01224488\n",
      "   -0.03991268  0.03137424  0.00648656 -0.00527464]\n",
      "  [-0.0208449  -0.01108382 -0.03061324 -0.00686942 -0.04539095\n",
      "   -0.02806921 -0.01460839  0.0187037   0.00116925 -0.03117662\n",
      "   -0.00926799 -0.00799127  0.01392526 -0.01838406 -0.00555154\n",
      "    0.01611913  0.01154736  0.03697132  0.04842201  0.04691492\n",
      "   -0.00170045  0.04987181  0.03798245  0.003626    0.01096283\n",
      "    0.04131173  0.03336928  0.00358142 -0.00730127 -0.03007809\n",
      "   -0.03212808  0.04118054  0.03902045 -0.00757032  0.0268343\n",
      "    0.01909545  0.00533941  0.02691532 -0.01951305  0.02096135\n",
      "    0.04570301  0.03298397 -0.03047793 -0.03960545 -0.02448952\n",
      "    0.00990542 -0.03487401 -0.02791524  0.02585225  0.0176524\n",
      "    0.02734497 -0.03772492 -0.04275029  0.04504645 -0.00068948\n",
      "    0.00101649 -0.00690551 -0.0457379   0.00920321  0.01163896\n",
      "   -0.00431924 -0.01081891  0.02512059  0.04772625]\n",
      "  [ 0.00280237  0.00330665 -0.03968706 -0.02030288  0.03158906\n",
      "   -0.04113475  0.00836922 -0.02584684  0.0112204  -0.01657405\n",
      "   -0.04140092 -0.0295014   0.01317115  0.03853545 -0.03024994\n",
      "   -0.0228079   0.01828508 -0.04055706 -0.02071208 -0.00725969\n",
      "   -0.01939004  0.01595845  0.00676771  0.04359547  0.039974\n",
      "    0.01026903 -0.03977204  0.04961914  0.0090547  -0.0437138\n",
      "   -0.01908611 -0.01757902  0.00215732  0.00071424 -0.00285503\n",
      "    0.00700133 -0.04951545  0.0138173   0.04175006  0.01047605\n",
      "    0.03463919 -0.02230954  0.03372988 -0.04043461 -0.00795406\n",
      "    0.04733758 -0.02244048  0.04485216 -0.04015533 -0.01234398\n",
      "    0.01210482  0.00427362  0.01704514  0.04072546  0.01915186\n",
      "    0.01285548 -0.0478946   0.03838525  0.0384452   0.00161928\n",
      "    0.03780676  0.0012958  -0.0017442  -0.02136269]\n",
      "  [ 0.00280237  0.00330665 -0.03968706 -0.02030288  0.03158906\n",
      "   -0.04113475  0.00836922 -0.02584684  0.0112204  -0.01657405\n",
      "   -0.04140092 -0.0295014   0.01317115  0.03853545 -0.03024994\n",
      "   -0.0228079   0.01828508 -0.04055706 -0.02071208 -0.00725969\n",
      "   -0.01939004  0.01595845  0.00676771  0.04359547  0.039974\n",
      "    0.01026903 -0.03977204  0.04961914  0.0090547  -0.0437138\n",
      "   -0.01908611 -0.01757902  0.00215732  0.00071424 -0.00285503\n",
      "    0.00700133 -0.04951545  0.0138173   0.04175006  0.01047605\n",
      "    0.03463919 -0.02230954  0.03372988 -0.04043461 -0.00795406\n",
      "    0.04733758 -0.02244048  0.04485216 -0.04015533 -0.01234398\n",
      "    0.01210482  0.00427362  0.01704514  0.04072546  0.01915186\n",
      "    0.01285548 -0.0478946   0.03838525  0.0384452   0.00161928\n",
      "    0.03780676  0.0012958  -0.0017442  -0.02136269]\n",
      "  [ 0.00280237  0.00330665 -0.03968706 -0.02030288  0.03158906\n",
      "   -0.04113475  0.00836922 -0.02584684  0.0112204  -0.01657405\n",
      "   -0.04140092 -0.0295014   0.01317115  0.03853545 -0.03024994\n",
      "   -0.0228079   0.01828508 -0.04055706 -0.02071208 -0.00725969\n",
      "   -0.01939004  0.01595845  0.00676771  0.04359547  0.039974\n",
      "    0.01026903 -0.03977204  0.04961914  0.0090547  -0.0437138\n",
      "   -0.01908611 -0.01757902  0.00215732  0.00071424 -0.00285503\n",
      "    0.00700133 -0.04951545  0.0138173   0.04175006  0.01047605\n",
      "    0.03463919 -0.02230954  0.03372988 -0.04043461 -0.00795406\n",
      "    0.04733758 -0.02244048  0.04485216 -0.04015533 -0.01234398\n",
      "    0.01210482  0.00427362  0.01704514  0.04072546  0.01915186\n",
      "    0.01285548 -0.0478946   0.03838525  0.0384452   0.00161928\n",
      "    0.03780676  0.0012958  -0.0017442  -0.02136269]\n",
      "  [ 0.00280237  0.00330665 -0.03968706 -0.02030288  0.03158906\n",
      "   -0.04113475  0.00836922 -0.02584684  0.0112204  -0.01657405\n",
      "   -0.04140092 -0.0295014   0.01317115  0.03853545 -0.03024994\n",
      "   -0.0228079   0.01828508 -0.04055706 -0.02071208 -0.00725969\n",
      "   -0.01939004  0.01595845  0.00676771  0.04359547  0.039974\n",
      "    0.01026903 -0.03977204  0.04961914  0.0090547  -0.0437138\n",
      "   -0.01908611 -0.01757902  0.00215732  0.00071424 -0.00285503\n",
      "    0.00700133 -0.04951545  0.0138173   0.04175006  0.01047605\n",
      "    0.03463919 -0.02230954  0.03372988 -0.04043461 -0.00795406\n",
      "    0.04733758 -0.02244048  0.04485216 -0.04015533 -0.01234398\n",
      "    0.01210482  0.00427362  0.01704514  0.04072546  0.01915186\n",
      "    0.01285548 -0.0478946   0.03838525  0.0384452   0.00161928\n",
      "    0.03780676  0.0012958  -0.0017442  -0.02136269]\n",
      "  [ 0.00280237  0.00330665 -0.03968706 -0.02030288  0.03158906\n",
      "   -0.04113475  0.00836922 -0.02584684  0.0112204  -0.01657405\n",
      "   -0.04140092 -0.0295014   0.01317115  0.03853545 -0.03024994\n",
      "   -0.0228079   0.01828508 -0.04055706 -0.02071208 -0.00725969\n",
      "   -0.01939004  0.01595845  0.00676771  0.04359547  0.039974\n",
      "    0.01026903 -0.03977204  0.04961914  0.0090547  -0.0437138\n",
      "   -0.01908611 -0.01757902  0.00215732  0.00071424 -0.00285503\n",
      "    0.00700133 -0.04951545  0.0138173   0.04175006  0.01047605\n",
      "    0.03463919 -0.02230954  0.03372988 -0.04043461 -0.00795406\n",
      "    0.04733758 -0.02244048  0.04485216 -0.04015533 -0.01234398\n",
      "    0.01210482  0.00427362  0.01704514  0.04072546  0.01915186\n",
      "    0.01285548 -0.0478946   0.03838525  0.0384452   0.00161928\n",
      "    0.03780676  0.0012958  -0.0017442  -0.02136269]\n",
      "  [ 0.00280237  0.00330665 -0.03968706 -0.02030288  0.03158906\n",
      "   -0.04113475  0.00836922 -0.02584684  0.0112204  -0.01657405\n",
      "   -0.04140092 -0.0295014   0.01317115  0.03853545 -0.03024994\n",
      "   -0.0228079   0.01828508 -0.04055706 -0.02071208 -0.00725969\n",
      "   -0.01939004  0.01595845  0.00676771  0.04359547  0.039974\n",
      "    0.01026903 -0.03977204  0.04961914  0.0090547  -0.0437138\n",
      "   -0.01908611 -0.01757902  0.00215732  0.00071424 -0.00285503\n",
      "    0.00700133 -0.04951545  0.0138173   0.04175006  0.01047605\n",
      "    0.03463919 -0.02230954  0.03372988 -0.04043461 -0.00795406\n",
      "    0.04733758 -0.02244048  0.04485216 -0.04015533 -0.01234398\n",
      "    0.01210482  0.00427362  0.01704514  0.04072546  0.01915186\n",
      "    0.01285548 -0.0478946   0.03838525  0.0384452   0.00161928\n",
      "    0.03780676  0.0012958  -0.0017442  -0.02136269]\n",
      "  [ 0.00280237  0.00330665 -0.03968706 -0.02030288  0.03158906\n",
      "   -0.04113475  0.00836922 -0.02584684  0.0112204  -0.01657405\n",
      "   -0.04140092 -0.0295014   0.01317115  0.03853545 -0.03024994\n",
      "   -0.0228079   0.01828508 -0.04055706 -0.02071208 -0.00725969\n",
      "   -0.01939004  0.01595845  0.00676771  0.04359547  0.039974\n",
      "    0.01026903 -0.03977204  0.04961914  0.0090547  -0.0437138\n",
      "   -0.01908611 -0.01757902  0.00215732  0.00071424 -0.00285503\n",
      "    0.00700133 -0.04951545  0.0138173   0.04175006  0.01047605\n",
      "    0.03463919 -0.02230954  0.03372988 -0.04043461 -0.00795406\n",
      "    0.04733758 -0.02244048  0.04485216 -0.04015533 -0.01234398\n",
      "    0.01210482  0.00427362  0.01704514  0.04072546  0.01915186\n",
      "    0.01285548 -0.0478946   0.03838525  0.0384452   0.00161928\n",
      "    0.03780676  0.0012958  -0.0017442  -0.02136269]\n",
      "  [ 0.00280237  0.00330665 -0.03968706 -0.02030288  0.03158906\n",
      "   -0.04113475  0.00836922 -0.02584684  0.0112204  -0.01657405\n",
      "   -0.04140092 -0.0295014   0.01317115  0.03853545 -0.03024994\n",
      "   -0.0228079   0.01828508 -0.04055706 -0.02071208 -0.00725969\n",
      "   -0.01939004  0.01595845  0.00676771  0.04359547  0.039974\n",
      "    0.01026903 -0.03977204  0.04961914  0.0090547  -0.0437138\n",
      "   -0.01908611 -0.01757902  0.00215732  0.00071424 -0.00285503\n",
      "    0.00700133 -0.04951545  0.0138173   0.04175006  0.01047605\n",
      "    0.03463919 -0.02230954  0.03372988 -0.04043461 -0.00795406\n",
      "    0.04733758 -0.02244048  0.04485216 -0.04015533 -0.01234398\n",
      "    0.01210482  0.00427362  0.01704514  0.04072546  0.01915186\n",
      "    0.01285548 -0.0478946   0.03838525  0.0384452   0.00161928\n",
      "    0.03780676  0.0012958  -0.0017442  -0.02136269]\n",
      "  [ 0.00280237  0.00330665 -0.03968706 -0.02030288  0.03158906\n",
      "   -0.04113475  0.00836922 -0.02584684  0.0112204  -0.01657405\n",
      "   -0.04140092 -0.0295014   0.01317115  0.03853545 -0.03024994\n",
      "   -0.0228079   0.01828508 -0.04055706 -0.02071208 -0.00725969\n",
      "   -0.01939004  0.01595845  0.00676771  0.04359547  0.039974\n",
      "    0.01026903 -0.03977204  0.04961914  0.0090547  -0.0437138\n",
      "   -0.01908611 -0.01757902  0.00215732  0.00071424 -0.00285503\n",
      "    0.00700133 -0.04951545  0.0138173   0.04175006  0.01047605\n",
      "    0.03463919 -0.02230954  0.03372988 -0.04043461 -0.00795406\n",
      "    0.04733758 -0.02244048  0.04485216 -0.04015533 -0.01234398\n",
      "    0.01210482  0.00427362  0.01704514  0.04072546  0.01915186\n",
      "    0.01285548 -0.0478946   0.03838525  0.0384452   0.00161928\n",
      "    0.03780676  0.0012958  -0.0017442  -0.02136269]]]\n",
      "Embedded text shape: (1, 15, 64)\n"
     ]
    }
   ],
   "source": [
    "from tensorflow.keras import layers\n",
    "\n",
    "embedding = layers.Embedding(input_dim = max_vocab_length,\n",
    "                             output_dim = 64,\n",
    "                             embeddings_initializer = \"uniform\",\n",
    "                             input_length = max_length)"
   ],
   "metadata": {
    "collapsed": false,
    "ExecuteTime": {
     "end_time": "2023-07-30T14:51:37.201234700Z",
     "start_time": "2023-07-30T14:51:37.164188800Z"
    }
   },
   "id": "55b4d3e382cb85d7"
  },
  {
   "cell_type": "code",
   "execution_count": null,
   "outputs": [],
   "source": [
    "# Get a random sentence from the training set and return Original text, Vectorized text, Embedded text\n",
    "rand_sentence = random.choice(train_sentences)\n",
    "print(f\"Original text: {rand_sentence}\\n\")\n",
    "print(f\"Vectorized text: {text_vectorizer([rand_sentence])}\\n\")\n",
    "print(f\"Vectorized text shape: {text_vectorizer([rand_sentence]).shape}\")\n",
    "print(f\"Embbedded text: {embedding(text_vectorizer([rand_sentence]))}\")\n",
    "print(f\"Embedded text shape: {embedding(text_vectorizer([rand_sentence])).shape}\")"
   ],
   "metadata": {
    "collapsed": false
   },
   "id": "2d8028a4f822acb"
  },
  {
   "cell_type": "markdown",
   "source": [
    "### Model_5: 1D Convolutional Neural Network (CNN)"
   ],
   "metadata": {
    "collapsed": false,
    "ExecuteTime": {
     "end_time": "2023-07-30T14:51:37.260899900Z",
     "start_time": "2023-07-30T14:51:37.191234700Z"
    }
   },
   "id": "1acc1fffc619d4fe"
  },
  {
   "cell_type": "code",
   "execution_count": 30,
   "outputs": [
    {
     "data": {
      "text/plain": "<tf.Tensor: shape=(1, 15, 64), dtype=float32, numpy=\narray([[[ 0.02944398,  0.00489888, -0.00865203,  0.04160129,\n          0.03292748, -0.00302891,  0.01191509,  0.02758639,\n          0.0024    , -0.0390545 , -0.03541434, -0.03853422,\n          0.02460264,  0.02988312, -0.02399306,  0.0448527 ,\n          0.01541921, -0.03120065, -0.03002771,  0.01832977,\n         -0.03769577,  0.02570568,  0.03571823, -0.02889425,\n         -0.03649337,  0.01997291,  0.04681268,  0.01441692,\n          0.02783174,  0.03623151,  0.03497573, -0.01722412,\n         -0.01218855,  0.01378182, -0.0487034 ,  0.03144332,\n         -0.00137857,  0.01347741,  0.03099306, -0.02523078,\n          0.02952844, -0.04367404,  0.02778388,  0.04756759,\n          0.01419206, -0.0133736 , -0.0313712 , -0.0121644 ,\n          0.0149391 ,  0.0337469 , -0.00175282, -0.03318538,\n          0.02038251,  0.00736906,  0.03563021,  0.02409535,\n          0.04250706, -0.00164073, -0.03784493, -0.04228747,\n          0.03235472, -0.02712553,  0.04924414, -0.02679402],\n        [-0.01948274, -0.01572999,  0.00901536, -0.01085267,\n         -0.02900266, -0.01736265,  0.0318878 , -0.01904288,\n         -0.0342323 ,  0.01436551,  0.0308166 ,  0.02073295,\n         -0.01547962, -0.01499446, -0.02152419,  0.00471592,\n          0.02660454, -0.03940451,  0.00670636,  0.02833771,\n          0.03019286,  0.01256916, -0.0106846 ,  0.03893331,\n          0.04771655,  0.0392493 ,  0.0452054 ,  0.03811535,\n          0.04535687, -0.02991575, -0.04646603, -0.02114289,\n          0.01779798, -0.0034999 , -0.03523543,  0.01166658,\n         -0.0278271 ,  0.00083616, -0.01007245, -0.02044636,\n         -0.00723954,  0.04498247,  0.03692407,  0.02751167,\n          0.04280246, -0.03128866,  0.04383   ,  0.04210911,\n         -0.04764051,  0.0288869 , -0.03564606,  0.02928919,\n          0.00970298,  0.02655667,  0.0368927 ,  0.02695023,\n         -0.04833729, -0.04917732,  0.01971555,  0.01641052,\n         -0.0349016 ,  0.03266741,  0.01672119,  0.01201317],\n        [ 0.04074324, -0.03224792,  0.03889099, -0.01521587,\n         -0.03751736,  0.0425551 ,  0.04462146,  0.02772113,\n         -0.01971145, -0.04563373,  0.02682373,  0.02439601,\n         -0.03901796,  0.00565522,  0.02984908,  0.02277223,\n          0.01955876, -0.02202149,  0.03126338,  0.01161078,\n         -0.04077492, -0.04550229,  0.02197233,  0.00554828,\n          0.03283327,  0.00111468, -0.01239573, -0.04820429,\n         -0.02593142, -0.03852576,  0.01614371,  0.04485944,\n         -0.04017071,  0.03176473,  0.04131574,  0.00435045,\n          0.04911139, -0.03495083, -0.01030549, -0.0318913 ,\n          0.04685188, -0.04945422,  0.01539024, -0.02129607,\n          0.03907604,  0.04204253, -0.01096435, -0.01145323,\n          0.00095578,  0.01598361,  0.02104784,  0.02980158,\n         -0.02803739, -0.04455786,  0.04522068, -0.03028748,\n          0.02299786,  0.02240932, -0.02449845,  0.00320774,\n          0.04612819,  0.02669091, -0.04174586,  0.02261634],\n        [ 0.02519084, -0.02572232, -0.03772076,  0.00185136,\n         -0.01071032,  0.03270515,  0.03227129, -0.00488212,\n         -0.01700871, -0.04519378, -0.02871251, -0.02491947,\n         -0.02587513, -0.00970255, -0.02417386,  0.03667387,\n         -0.03585569,  0.01681987,  0.01876174,  0.00435327,\n         -0.0036005 , -0.00307374, -0.00197829,  0.00588945,\n          0.04651196,  0.03340692, -0.00253016,  0.0233405 ,\n          0.01976695, -0.00256033, -0.03012407, -0.0215466 ,\n         -0.04557151, -0.00614297,  0.01531425, -0.02264466,\n          0.01356734, -0.00403079,  0.04018572,  0.01611663,\n          0.01439723, -0.04544533, -0.00052239,  0.01479209,\n          0.00604223, -0.0165906 ,  0.02778858, -0.0323748 ,\n         -0.04935504,  0.03414208, -0.01554004,  0.00980978,\n         -0.03606168,  0.00643178, -0.01101481, -0.02913399,\n         -0.01268948,  0.04282333,  0.03598412,  0.03910245,\n          0.03906239,  0.04384378,  0.04653506, -0.02277497],\n        [ 0.00280237,  0.00330665, -0.03968706, -0.02030288,\n          0.03158906, -0.04113475,  0.00836922, -0.02584684,\n          0.0112204 , -0.01657405, -0.04140092, -0.0295014 ,\n          0.01317115,  0.03853545, -0.03024994, -0.0228079 ,\n          0.01828508, -0.04055706, -0.02071208, -0.00725969,\n         -0.01939004,  0.01595845,  0.00676771,  0.04359547,\n          0.039974  ,  0.01026903, -0.03977204,  0.04961914,\n          0.0090547 , -0.0437138 , -0.01908611, -0.01757902,\n          0.00215732,  0.00071424, -0.00285503,  0.00700133,\n         -0.04951545,  0.0138173 ,  0.04175006,  0.01047605,\n          0.03463919, -0.02230954,  0.03372988, -0.04043461,\n         -0.00795406,  0.04733758, -0.02244048,  0.04485216,\n         -0.04015533, -0.01234398,  0.01210482,  0.00427362,\n          0.01704514,  0.04072546,  0.01915186,  0.01285548,\n         -0.0478946 ,  0.03838525,  0.0384452 ,  0.00161928,\n          0.03780676,  0.0012958 , -0.0017442 , -0.02136269],\n        [ 0.00280237,  0.00330665, -0.03968706, -0.02030288,\n          0.03158906, -0.04113475,  0.00836922, -0.02584684,\n          0.0112204 , -0.01657405, -0.04140092, -0.0295014 ,\n          0.01317115,  0.03853545, -0.03024994, -0.0228079 ,\n          0.01828508, -0.04055706, -0.02071208, -0.00725969,\n         -0.01939004,  0.01595845,  0.00676771,  0.04359547,\n          0.039974  ,  0.01026903, -0.03977204,  0.04961914,\n          0.0090547 , -0.0437138 , -0.01908611, -0.01757902,\n          0.00215732,  0.00071424, -0.00285503,  0.00700133,\n         -0.04951545,  0.0138173 ,  0.04175006,  0.01047605,\n          0.03463919, -0.02230954,  0.03372988, -0.04043461,\n         -0.00795406,  0.04733758, -0.02244048,  0.04485216,\n         -0.04015533, -0.01234398,  0.01210482,  0.00427362,\n          0.01704514,  0.04072546,  0.01915186,  0.01285548,\n         -0.0478946 ,  0.03838525,  0.0384452 ,  0.00161928,\n          0.03780676,  0.0012958 , -0.0017442 , -0.02136269],\n        [ 0.00280237,  0.00330665, -0.03968706, -0.02030288,\n          0.03158906, -0.04113475,  0.00836922, -0.02584684,\n          0.0112204 , -0.01657405, -0.04140092, -0.0295014 ,\n          0.01317115,  0.03853545, -0.03024994, -0.0228079 ,\n          0.01828508, -0.04055706, -0.02071208, -0.00725969,\n         -0.01939004,  0.01595845,  0.00676771,  0.04359547,\n          0.039974  ,  0.01026903, -0.03977204,  0.04961914,\n          0.0090547 , -0.0437138 , -0.01908611, -0.01757902,\n          0.00215732,  0.00071424, -0.00285503,  0.00700133,\n         -0.04951545,  0.0138173 ,  0.04175006,  0.01047605,\n          0.03463919, -0.02230954,  0.03372988, -0.04043461,\n         -0.00795406,  0.04733758, -0.02244048,  0.04485216,\n         -0.04015533, -0.01234398,  0.01210482,  0.00427362,\n          0.01704514,  0.04072546,  0.01915186,  0.01285548,\n         -0.0478946 ,  0.03838525,  0.0384452 ,  0.00161928,\n          0.03780676,  0.0012958 , -0.0017442 , -0.02136269],\n        [ 0.00280237,  0.00330665, -0.03968706, -0.02030288,\n          0.03158906, -0.04113475,  0.00836922, -0.02584684,\n          0.0112204 , -0.01657405, -0.04140092, -0.0295014 ,\n          0.01317115,  0.03853545, -0.03024994, -0.0228079 ,\n          0.01828508, -0.04055706, -0.02071208, -0.00725969,\n         -0.01939004,  0.01595845,  0.00676771,  0.04359547,\n          0.039974  ,  0.01026903, -0.03977204,  0.04961914,\n          0.0090547 , -0.0437138 , -0.01908611, -0.01757902,\n          0.00215732,  0.00071424, -0.00285503,  0.00700133,\n         -0.04951545,  0.0138173 ,  0.04175006,  0.01047605,\n          0.03463919, -0.02230954,  0.03372988, -0.04043461,\n         -0.00795406,  0.04733758, -0.02244048,  0.04485216,\n         -0.04015533, -0.01234398,  0.01210482,  0.00427362,\n          0.01704514,  0.04072546,  0.01915186,  0.01285548,\n         -0.0478946 ,  0.03838525,  0.0384452 ,  0.00161928,\n          0.03780676,  0.0012958 , -0.0017442 , -0.02136269],\n        [ 0.00280237,  0.00330665, -0.03968706, -0.02030288,\n          0.03158906, -0.04113475,  0.00836922, -0.02584684,\n          0.0112204 , -0.01657405, -0.04140092, -0.0295014 ,\n          0.01317115,  0.03853545, -0.03024994, -0.0228079 ,\n          0.01828508, -0.04055706, -0.02071208, -0.00725969,\n         -0.01939004,  0.01595845,  0.00676771,  0.04359547,\n          0.039974  ,  0.01026903, -0.03977204,  0.04961914,\n          0.0090547 , -0.0437138 , -0.01908611, -0.01757902,\n          0.00215732,  0.00071424, -0.00285503,  0.00700133,\n         -0.04951545,  0.0138173 ,  0.04175006,  0.01047605,\n          0.03463919, -0.02230954,  0.03372988, -0.04043461,\n         -0.00795406,  0.04733758, -0.02244048,  0.04485216,\n         -0.04015533, -0.01234398,  0.01210482,  0.00427362,\n          0.01704514,  0.04072546,  0.01915186,  0.01285548,\n         -0.0478946 ,  0.03838525,  0.0384452 ,  0.00161928,\n          0.03780676,  0.0012958 , -0.0017442 , -0.02136269],\n        [ 0.00280237,  0.00330665, -0.03968706, -0.02030288,\n          0.03158906, -0.04113475,  0.00836922, -0.02584684,\n          0.0112204 , -0.01657405, -0.04140092, -0.0295014 ,\n          0.01317115,  0.03853545, -0.03024994, -0.0228079 ,\n          0.01828508, -0.04055706, -0.02071208, -0.00725969,\n         -0.01939004,  0.01595845,  0.00676771,  0.04359547,\n          0.039974  ,  0.01026903, -0.03977204,  0.04961914,\n          0.0090547 , -0.0437138 , -0.01908611, -0.01757902,\n          0.00215732,  0.00071424, -0.00285503,  0.00700133,\n         -0.04951545,  0.0138173 ,  0.04175006,  0.01047605,\n          0.03463919, -0.02230954,  0.03372988, -0.04043461,\n         -0.00795406,  0.04733758, -0.02244048,  0.04485216,\n         -0.04015533, -0.01234398,  0.01210482,  0.00427362,\n          0.01704514,  0.04072546,  0.01915186,  0.01285548,\n         -0.0478946 ,  0.03838525,  0.0384452 ,  0.00161928,\n          0.03780676,  0.0012958 , -0.0017442 , -0.02136269],\n        [ 0.00280237,  0.00330665, -0.03968706, -0.02030288,\n          0.03158906, -0.04113475,  0.00836922, -0.02584684,\n          0.0112204 , -0.01657405, -0.04140092, -0.0295014 ,\n          0.01317115,  0.03853545, -0.03024994, -0.0228079 ,\n          0.01828508, -0.04055706, -0.02071208, -0.00725969,\n         -0.01939004,  0.01595845,  0.00676771,  0.04359547,\n          0.039974  ,  0.01026903, -0.03977204,  0.04961914,\n          0.0090547 , -0.0437138 , -0.01908611, -0.01757902,\n          0.00215732,  0.00071424, -0.00285503,  0.00700133,\n         -0.04951545,  0.0138173 ,  0.04175006,  0.01047605,\n          0.03463919, -0.02230954,  0.03372988, -0.04043461,\n         -0.00795406,  0.04733758, -0.02244048,  0.04485216,\n         -0.04015533, -0.01234398,  0.01210482,  0.00427362,\n          0.01704514,  0.04072546,  0.01915186,  0.01285548,\n         -0.0478946 ,  0.03838525,  0.0384452 ,  0.00161928,\n          0.03780676,  0.0012958 , -0.0017442 , -0.02136269],\n        [ 0.00280237,  0.00330665, -0.03968706, -0.02030288,\n          0.03158906, -0.04113475,  0.00836922, -0.02584684,\n          0.0112204 , -0.01657405, -0.04140092, -0.0295014 ,\n          0.01317115,  0.03853545, -0.03024994, -0.0228079 ,\n          0.01828508, -0.04055706, -0.02071208, -0.00725969,\n         -0.01939004,  0.01595845,  0.00676771,  0.04359547,\n          0.039974  ,  0.01026903, -0.03977204,  0.04961914,\n          0.0090547 , -0.0437138 , -0.01908611, -0.01757902,\n          0.00215732,  0.00071424, -0.00285503,  0.00700133,\n         -0.04951545,  0.0138173 ,  0.04175006,  0.01047605,\n          0.03463919, -0.02230954,  0.03372988, -0.04043461,\n         -0.00795406,  0.04733758, -0.02244048,  0.04485216,\n         -0.04015533, -0.01234398,  0.01210482,  0.00427362,\n          0.01704514,  0.04072546,  0.01915186,  0.01285548,\n         -0.0478946 ,  0.03838525,  0.0384452 ,  0.00161928,\n          0.03780676,  0.0012958 , -0.0017442 , -0.02136269],\n        [ 0.00280237,  0.00330665, -0.03968706, -0.02030288,\n          0.03158906, -0.04113475,  0.00836922, -0.02584684,\n          0.0112204 , -0.01657405, -0.04140092, -0.0295014 ,\n          0.01317115,  0.03853545, -0.03024994, -0.0228079 ,\n          0.01828508, -0.04055706, -0.02071208, -0.00725969,\n         -0.01939004,  0.01595845,  0.00676771,  0.04359547,\n          0.039974  ,  0.01026903, -0.03977204,  0.04961914,\n          0.0090547 , -0.0437138 , -0.01908611, -0.01757902,\n          0.00215732,  0.00071424, -0.00285503,  0.00700133,\n         -0.04951545,  0.0138173 ,  0.04175006,  0.01047605,\n          0.03463919, -0.02230954,  0.03372988, -0.04043461,\n         -0.00795406,  0.04733758, -0.02244048,  0.04485216,\n         -0.04015533, -0.01234398,  0.01210482,  0.00427362,\n          0.01704514,  0.04072546,  0.01915186,  0.01285548,\n         -0.0478946 ,  0.03838525,  0.0384452 ,  0.00161928,\n          0.03780676,  0.0012958 , -0.0017442 , -0.02136269],\n        [ 0.00280237,  0.00330665, -0.03968706, -0.02030288,\n          0.03158906, -0.04113475,  0.00836922, -0.02584684,\n          0.0112204 , -0.01657405, -0.04140092, -0.0295014 ,\n          0.01317115,  0.03853545, -0.03024994, -0.0228079 ,\n          0.01828508, -0.04055706, -0.02071208, -0.00725969,\n         -0.01939004,  0.01595845,  0.00676771,  0.04359547,\n          0.039974  ,  0.01026903, -0.03977204,  0.04961914,\n          0.0090547 , -0.0437138 , -0.01908611, -0.01757902,\n          0.00215732,  0.00071424, -0.00285503,  0.00700133,\n         -0.04951545,  0.0138173 ,  0.04175006,  0.01047605,\n          0.03463919, -0.02230954,  0.03372988, -0.04043461,\n         -0.00795406,  0.04733758, -0.02244048,  0.04485216,\n         -0.04015533, -0.01234398,  0.01210482,  0.00427362,\n          0.01704514,  0.04072546,  0.01915186,  0.01285548,\n         -0.0478946 ,  0.03838525,  0.0384452 ,  0.00161928,\n          0.03780676,  0.0012958 , -0.0017442 , -0.02136269],\n        [ 0.00280237,  0.00330665, -0.03968706, -0.02030288,\n          0.03158906, -0.04113475,  0.00836922, -0.02584684,\n          0.0112204 , -0.01657405, -0.04140092, -0.0295014 ,\n          0.01317115,  0.03853545, -0.03024994, -0.0228079 ,\n          0.01828508, -0.04055706, -0.02071208, -0.00725969,\n         -0.01939004,  0.01595845,  0.00676771,  0.04359547,\n          0.039974  ,  0.01026903, -0.03977204,  0.04961914,\n          0.0090547 , -0.0437138 , -0.01908611, -0.01757902,\n          0.00215732,  0.00071424, -0.00285503,  0.00700133,\n         -0.04951545,  0.0138173 ,  0.04175006,  0.01047605,\n          0.03463919, -0.02230954,  0.03372988, -0.04043461,\n         -0.00795406,  0.04733758, -0.02244048,  0.04485216,\n         -0.04015533, -0.01234398,  0.01210482,  0.00427362,\n          0.01704514,  0.04072546,  0.01915186,  0.01285548,\n         -0.0478946 ,  0.03838525,  0.0384452 ,  0.00161928,\n          0.03780676,  0.0012958 , -0.0017442 , -0.02136269]]],\n      dtype=float32)>"
     },
     "execution_count": 30,
     "metadata": {},
     "output_type": "execute_result"
    }
   ],
   "source": [
    "from tensorflow.keras import layers\n",
    "embedding_test = embedding(text_vectorizer(['I am so Great!']))\n",
    "\n",
    "conv1d_test = layers.Conv1D(filters = 32,\n",
    "                            kernel_size = 5,\n",
    "                            activation = 'relu',\n",
    "                            padding = 'valid')\n",
    "conv1d_test_output = conv1d_test(embedding_test)\n",
    "max_pool = layers.GlobalMaxPool1D()\n",
    "max_pool_output = max_pool(conv1d_test_output)\n"
   ],
   "metadata": {
    "collapsed": false,
    "ExecuteTime": {
     "end_time": "2023-07-30T14:51:37.261899300Z",
     "start_time": "2023-07-30T14:51:37.218702400Z"
    }
   },
   "id": "30b2cd86d3e8af78"
  },
  {
   "cell_type": "code",
   "execution_count": 31,
   "outputs": [
    {
     "data": {
      "text/plain": "<tf.Tensor: shape=(1, 11, 32), dtype=float32, numpy=\narray([[[0.        , 0.0139761 , 0.05262497, 0.        , 0.        ,\n         0.03604408, 0.06941138, 0.        , 0.02259907, 0.        ,\n         0.03161886, 0.        , 0.        , 0.        , 0.        ,\n         0.08338557, 0.        , 0.02944628, 0.        , 0.        ,\n         0.03005233, 0.02937646, 0.        , 0.00795283, 0.01799398,\n         0.        , 0.00745637, 0.01667655, 0.00750625, 0.        ,\n         0.0131709 , 0.03693104],\n        [0.        , 0.02154433, 0.        , 0.03006318, 0.        ,\n         0.01819672, 0.00470722, 0.        , 0.00549361, 0.        ,\n         0.01185598, 0.02954535, 0.01763827, 0.        , 0.        ,\n         0.0641825 , 0.        , 0.01695142, 0.01077332, 0.03234139,\n         0.        , 0.03676404, 0.02329819, 0.        , 0.        ,\n         0.00897252, 0.03186498, 0.04880847, 0.02327843, 0.0531072 ,\n         0.04831859, 0.03898305],\n        [0.00397486, 0.03934273, 0.02202147, 0.00978476, 0.        ,\n         0.00285186, 0.        , 0.00802599, 0.03147453, 0.        ,\n         0.05995692, 0.0383713 , 0.07534431, 0.        , 0.        ,\n         0.05654116, 0.        , 0.02382027, 0.02021868, 0.02954319,\n         0.02272255, 0.06209438, 0.03931392, 0.01706286, 0.        ,\n         0.01912928, 0.00565693, 0.00154936, 0.07978338, 0.03147975,\n         0.0424885 , 0.04028387],\n        [0.        , 0.04146791, 0.        , 0.011993  , 0.        ,\n         0.0246319 , 0.        , 0.        , 0.03526242, 0.        ,\n         0.02434515, 0.01722523, 0.07146389, 0.        , 0.00188396,\n         0.02319162, 0.        , 0.05466391, 0.        , 0.02995457,\n         0.00794323, 0.00705237, 0.0247904 , 0.03056649, 0.0022806 ,\n         0.        , 0.        , 0.01438476, 0.06804689, 0.02563322,\n         0.02927007, 0.03181215],\n        [0.        , 0.0532314 , 0.00725693, 0.        , 0.        ,\n         0.02221097, 0.01451997, 0.        , 0.03133947, 0.        ,\n         0.        , 0.02624222, 0.02933462, 0.        , 0.01399539,\n         0.04356629, 0.        , 0.05432879, 0.00342942, 0.02262148,\n         0.        , 0.        , 0.02500769, 0.03363157, 0.01574401,\n         0.01720341, 0.        , 0.03205385, 0.06654137, 0.        ,\n         0.031691  , 0.03606141],\n        [0.        , 0.0532314 , 0.00725693, 0.        , 0.        ,\n         0.02221097, 0.01451997, 0.        , 0.03133947, 0.        ,\n         0.        , 0.02624222, 0.02933462, 0.        , 0.01399539,\n         0.04356629, 0.        , 0.05432879, 0.00342942, 0.02262148,\n         0.        , 0.        , 0.02500769, 0.03363157, 0.01574401,\n         0.01720341, 0.        , 0.03205385, 0.06654137, 0.        ,\n         0.031691  , 0.03606141],\n        [0.        , 0.0532314 , 0.00725693, 0.        , 0.        ,\n         0.02221097, 0.01451997, 0.        , 0.03133947, 0.        ,\n         0.        , 0.02624222, 0.02933462, 0.        , 0.01399539,\n         0.04356629, 0.        , 0.05432879, 0.00342942, 0.02262148,\n         0.        , 0.        , 0.02500769, 0.03363157, 0.01574401,\n         0.01720341, 0.        , 0.03205385, 0.06654137, 0.        ,\n         0.031691  , 0.03606141],\n        [0.        , 0.0532314 , 0.00725693, 0.        , 0.        ,\n         0.02221097, 0.01451997, 0.        , 0.03133947, 0.        ,\n         0.        , 0.02624222, 0.02933462, 0.        , 0.01399539,\n         0.04356629, 0.        , 0.05432879, 0.00342942, 0.02262148,\n         0.        , 0.        , 0.02500769, 0.03363157, 0.01574401,\n         0.01720341, 0.        , 0.03205385, 0.06654137, 0.        ,\n         0.031691  , 0.03606141],\n        [0.        , 0.0532314 , 0.00725693, 0.        , 0.        ,\n         0.02221097, 0.01451997, 0.        , 0.03133947, 0.        ,\n         0.        , 0.02624222, 0.02933462, 0.        , 0.01399539,\n         0.04356629, 0.        , 0.05432879, 0.00342942, 0.02262148,\n         0.        , 0.        , 0.02500769, 0.03363157, 0.01574401,\n         0.01720341, 0.        , 0.03205385, 0.06654137, 0.        ,\n         0.031691  , 0.03606141],\n        [0.        , 0.0532314 , 0.00725693, 0.        , 0.        ,\n         0.02221097, 0.01451997, 0.        , 0.03133947, 0.        ,\n         0.        , 0.02624222, 0.02933462, 0.        , 0.01399539,\n         0.04356629, 0.        , 0.05432879, 0.00342942, 0.02262148,\n         0.        , 0.        , 0.02500769, 0.03363157, 0.01574401,\n         0.01720341, 0.        , 0.03205385, 0.06654137, 0.        ,\n         0.031691  , 0.03606141],\n        [0.        , 0.0532314 , 0.00725693, 0.        , 0.        ,\n         0.02221097, 0.01451997, 0.        , 0.03133947, 0.        ,\n         0.        , 0.02624222, 0.02933462, 0.        , 0.01399539,\n         0.04356629, 0.        , 0.05432879, 0.00342942, 0.02262148,\n         0.        , 0.        , 0.02500769, 0.03363157, 0.01574401,\n         0.01720341, 0.        , 0.03205385, 0.06654137, 0.        ,\n         0.031691  , 0.03606141]]], dtype=float32)>"
     },
     "execution_count": 31,
     "metadata": {},
     "output_type": "execute_result"
    }
   ],
   "source": [
    "embedding_test"
   ],
   "metadata": {
    "collapsed": false,
    "ExecuteTime": {
     "end_time": "2023-07-30T14:51:37.261899300Z",
     "start_time": "2023-07-30T14:51:37.224888400Z"
    }
   },
   "id": "92c9d5cc0c309583"
  },
  {
   "cell_type": "code",
   "execution_count": 32,
   "outputs": [
    {
     "data": {
      "text/plain": "<tf.Tensor: shape=(1, 32), dtype=float32, numpy=\narray([[0.00397486, 0.0532314 , 0.05262497, 0.03006318, 0.        ,\n        0.03604408, 0.06941138, 0.00802599, 0.03526242, 0.        ,\n        0.05995692, 0.0383713 , 0.07534431, 0.        , 0.01399539,\n        0.08338557, 0.        , 0.05466391, 0.02021868, 0.03234139,\n        0.03005233, 0.06209438, 0.03931392, 0.03363157, 0.01799398,\n        0.01912928, 0.03186498, 0.04880847, 0.07978338, 0.0531072 ,\n        0.04831859, 0.04028387]], dtype=float32)>"
     },
     "execution_count": 32,
     "metadata": {},
     "output_type": "execute_result"
    }
   ],
   "source": [
    "conv1d_test_output"
   ],
   "metadata": {
    "collapsed": false,
    "ExecuteTime": {
     "end_time": "2023-07-30T14:51:37.261899300Z",
     "start_time": "2023-07-30T14:51:37.229378600Z"
    }
   },
   "id": "d90cfdc81e176df9"
  },
  {
   "cell_type": "code",
   "execution_count": 33,
   "outputs": [
    {
     "data": {
      "text/plain": "(TensorShape([1, 15, 64]), TensorShape([1, 11, 32]), TensorShape([1, 32]))"
     },
     "execution_count": 33,
     "metadata": {},
     "output_type": "execute_result"
    }
   ],
   "source": [
    "max_pool_output"
   ],
   "metadata": {
    "collapsed": false,
    "ExecuteTime": {
     "end_time": "2023-07-30T14:51:37.262898900Z",
     "start_time": "2023-07-30T14:51:37.233441500Z"
    }
   },
   "id": "8346aa6c1a02565f"
  },
  {
   "cell_type": "code",
   "execution_count": 34,
   "outputs": [],
   "source": [
    "embedding_test.shape, conv1d_test_output.shape, max_pool_output.shape"
   ],
   "metadata": {
    "collapsed": false,
    "ExecuteTime": {
     "end_time": "2023-07-30T14:51:37.279793900Z",
     "start_time": "2023-07-30T14:51:37.238897Z"
    }
   },
   "id": "1faaf8300ba9282a"
  },
  {
   "cell_type": "code",
   "execution_count": 35,
   "outputs": [
    {
     "name": "stdout",
     "output_type": "stream",
     "text": [
      "Epoch 1/5\n",
      "215/215 [==============================] - 2s 5ms/step - loss: 0.5693 - accuracy: 0.7069 - val_loss: 0.4810 - val_accuracy: 0.7769\n",
      "Epoch 2/5\n",
      "215/215 [==============================] - 1s 4ms/step - loss: 0.3449 - accuracy: 0.8571 - val_loss: 0.5101 - val_accuracy: 0.7703\n",
      "Epoch 3/5\n",
      "215/215 [==============================] - 1s 4ms/step - loss: 0.2225 - accuracy: 0.9190 - val_loss: 0.5971 - val_accuracy: 0.7625\n",
      "Epoch 4/5\n",
      "215/215 [==============================] - 1s 4ms/step - loss: 0.1477 - accuracy: 0.9499 - val_loss: 0.6843 - val_accuracy: 0.7677\n",
      "Epoch 5/5\n",
      "215/215 [==============================] - 1s 4ms/step - loss: 0.1037 - accuracy: 0.9638 - val_loss: 0.7610 - val_accuracy: 0.7638\n"
     ]
    }
   ],
   "source": [
    "from tensorflow.keras import layers\n",
    "\n",
    "inputs = layers.Input(shape = (1,), dtype = tf.string)\n",
    "x = text_vectorizer(inputs)\n",
    "x = embedding(x)\n",
    "x = layers.Conv1D(filters = 64,\n",
    "                  kernel_size = 5,\n",
    "                  strides = 1,\n",
    "                  activation = 'relu',\n",
    "                  padding = 'valid')(x)\n",
    "x = layers.GlobalMaxPool1D()(x)\n",
    "outputs = layers.Dense(1, activation = 'sigmoid')(x)\n",
    "model_5 = tf.keras.Model(inputs, outputs, name = 'model_5_conv1d')\n",
    "\n",
    "# Compile the model\n",
    "model_5.compile(loss = 'binary_crossentropy',\n",
    "                optimizer=tf.keras.optimizers.Adam(),\n",
    "                metrics=['accuracy'])"
   ],
   "metadata": {
    "collapsed": false,
    "ExecuteTime": {
     "end_time": "2023-07-30T14:51:42.342115900Z",
     "start_time": "2023-07-30T14:51:37.279793900Z"
    }
   },
   "id": "1d1c580884ee79f7"
  },
  {
   "cell_type": "code",
   "execution_count": 36,
   "outputs": [
    {
     "data": {
      "text/plain": "<Figure size 640x480 with 1 Axes>",
      "image/png": "[encoded data removed]"
     },
     "metadata": {},
     "output_type": "display_data"
    },
    {
     "data": {
      "text/plain": "<Figure size 640x480 with 1 Axes>",
      "image/png": "[encoded data removed]"
     },
     "metadata": {},
     "output_type": "display_data"
    }
   ],
   "source": [
    "# Fit the model\n",
    "model_5_history = model_5.fit(train_sentences,\n",
    "                              train_labels,\n",
    "                              epochs = 5,\n",
    "                              validation_data=(val_sentences, val_labels))"
   ],
   "metadata": {
    "collapsed": false,
    "ExecuteTime": {
     "end_time": "2023-07-30T14:51:42.759372600Z",
     "start_time": "2023-07-30T14:51:42.340115900Z"
    }
   },
   "id": "e49169fd511c0ce0"
  },
  {
   "cell_type": "code",
   "execution_count": 37,
   "outputs": [
    {
     "name": "stdout",
     "output_type": "stream",
     "text": [
      "24/24 [==============================] - 0s 1ms/step\n"
     ]
    },
    {
     "data": {
      "text/plain": "array([[9.78874136e-03],\n       [9.78205502e-02],\n       [4.50776219e-02],\n       [8.45881924e-03],\n       [2.05036178e-02],\n       [1.28888696e-01],\n       [4.33024578e-03],\n       [1.64016783e-02],\n       [2.35649385e-02],\n       [9.99237001e-01],\n       [8.22593927e-01],\n       [2.37589777e-01],\n       [1.82175394e-02],\n       [5.61767556e-02],\n       [5.27829975e-02],\n       [2.05807194e-01],\n       [9.95584428e-01],\n       [1.38231125e-02],\n       [9.99950707e-01],\n       [7.14173366e-04],\n       [3.72872442e-01],\n       [5.33574998e-01],\n       [2.26361871e-01],\n       [4.23478067e-01],\n       [6.69989347e-01],\n       [5.99735323e-03],\n       [9.99789536e-01],\n       [9.28759277e-01],\n       [9.99878824e-01],\n       [3.71256261e-04],\n       [5.12193404e-02],\n       [9.43278195e-04],\n       [9.43999112e-01],\n       [5.38883150e-01],\n       [8.24777186e-01],\n       [7.13460088e-01],\n       [1.48156762e-01],\n       [1.08816763e-02],\n       [2.09217367e-04],\n       [1.28158823e-01],\n       [3.16369720e-03],\n       [9.99667704e-01],\n       [1.63680896e-01],\n       [9.96847808e-01],\n       [3.16478647e-02],\n       [1.36413336e-01],\n       [9.59933102e-01],\n       [9.18776169e-02],\n       [9.39217150e-01],\n       [9.12118733e-01],\n       [2.29584742e-02],\n       [9.99999881e-01],\n       [5.45601360e-03],\n       [3.64270300e-01],\n       [1.13243453e-01],\n       [3.95530641e-01],\n       [3.52649599e-01],\n       [1.00111747e-02],\n       [2.99382061e-02],\n       [3.04856990e-02],\n       [4.97871995e-01],\n       [9.50488374e-02],\n       [9.99946594e-01],\n       [7.05420226e-02],\n       [8.20268039e-03],\n       [5.71507402e-02],\n       [9.99985099e-01],\n       [3.90450172e-02],\n       [7.02316291e-04],\n       [7.43384520e-03],\n       [2.80178362e-03],\n       [2.73101926e-01],\n       [4.85565001e-03],\n       [1.44332426e-03],\n       [2.47090738e-02],\n       [1.95513219e-01],\n       [2.13630050e-02],\n       [6.99290574e-01],\n       [1.19298848e-03],\n       [9.90124881e-01],\n       [1.30528182e-01],\n       [2.11600617e-01],\n       [8.16726759e-02],\n       [9.99919772e-01],\n       [1.13129374e-02],\n       [3.02040637e-01],\n       [9.99143839e-01],\n       [3.46161313e-02],\n       [9.96501148e-01],\n       [5.18194914e-01],\n       [8.38706419e-02],\n       [8.68705213e-01],\n       [1.12561420e-01],\n       [1.09938728e-02],\n       [8.18198442e-01],\n       [1.27233669e-01],\n       [3.34913057e-04],\n       [1.28048204e-03],\n       [7.26015627e-01],\n       [1.17083732e-03],\n       [8.39156151e-01],\n       [9.60013792e-02],\n       [1.01086505e-01],\n       [1.83309093e-02],\n       [9.81117412e-03],\n       [2.64374949e-02],\n       [4.88086678e-02],\n       [2.25028545e-02],\n       [9.99996006e-01],\n       [3.83298136e-02],\n       [9.98578548e-01],\n       [9.99359250e-01],\n       [9.94866967e-01],\n       [9.60487664e-01],\n       [2.95084482e-03],\n       [9.74591315e-01],\n       [2.82766700e-01],\n       [8.76437187e-01],\n       [8.47247243e-02],\n       [2.58299768e-01],\n       [9.75530148e-01],\n       [8.99393976e-01],\n       [7.50242081e-03],\n       [9.99813855e-01],\n       [9.92259324e-01],\n       [5.62558125e-04],\n       [6.50845766e-02],\n       [9.99868810e-01],\n       [9.55351293e-01],\n       [1.41060899e-03],\n       [2.22706422e-02],\n       [5.52945584e-02],\n       [1.27318148e-02],\n       [3.95234197e-01],\n       [5.07305622e-01],\n       [2.78784961e-01],\n       [9.71753180e-01],\n       [8.67597535e-02],\n       [1.39399786e-02],\n       [9.99999702e-01],\n       [1.34922648e-02],\n       [3.81096184e-01],\n       [8.33377838e-01],\n       [9.15285885e-01],\n       [2.89557040e-01],\n       [1.09237619e-03],\n       [9.99968827e-01],\n       [9.52403605e-01],\n       [9.91949439e-01],\n       [3.00498307e-02],\n       [9.99811709e-01],\n       [2.17203144e-02],\n       [9.99923110e-01],\n       [3.26567888e-01],\n       [3.52649599e-01],\n       [5.51810395e-03],\n       [1.36495540e-02],\n       [9.99999642e-01],\n       [9.87557769e-01],\n       [7.00079262e-01],\n       [5.29370308e-01],\n       [8.27907324e-02],\n       [9.99964237e-01],\n       [4.74289149e-01],\n       [1.54411644e-01],\n       [8.13022971e-01],\n       [6.33400917e-01],\n       [9.03801024e-02],\n       [5.82554936e-01],\n       [6.73399959e-03],\n       [1.01228878e-01],\n       [3.69318537e-02],\n       [5.62667608e-01],\n       [1.09138183e-01],\n       [2.19088588e-02],\n       [4.92199964e-04],\n       [1.62857324e-02],\n       [9.99940336e-01],\n       [9.99999702e-01],\n       [1.56325012e-01],\n       [6.46578252e-01],\n       [1.24919638e-01],\n       [1.66016596e-03],\n       [7.05332670e-04],\n       [2.09402144e-01],\n       [7.86689579e-01],\n       [2.76003615e-03],\n       [9.05125227e-04],\n       [1.21661471e-02],\n       [8.12039059e-03],\n       [9.99320392e-03],\n       [1.42665375e-02],\n       [3.81373167e-01],\n       [1.89030711e-02],\n       [3.50245655e-01],\n       [2.74299026e-01],\n       [2.43735462e-02],\n       [9.36425924e-01],\n       [6.63902145e-03],\n       [4.21269238e-02],\n       [1.21616677e-03],\n       [3.47545225e-04],\n       [3.45321260e-02],\n       [2.09768847e-01],\n       [9.56106007e-01],\n       [1.48829883e-02],\n       [4.58204895e-02],\n       [2.89698057e-02],\n       [8.31563413e-01],\n       [4.10376191e-02],\n       [9.37535524e-01],\n       [8.90009105e-01],\n       [9.99863088e-01],\n       [9.99971330e-01],\n       [4.87787515e-01],\n       [1.08427200e-02],\n       [7.07189202e-01],\n       [4.20287132e-01],\n       [9.99946237e-01],\n       [4.90161300e-01],\n       [3.02285858e-04],\n       [7.42592335e-01],\n       [9.98049974e-01],\n       [5.08329332e-01],\n       [9.99842525e-01],\n       [4.90615368e-01],\n       [1.74882650e-01],\n       [1.76446614e-04],\n       [2.80370819e-03],\n       [7.14558542e-01],\n       [8.57087597e-02],\n       [1.21860065e-01],\n       [9.99607503e-01],\n       [1.94218010e-02],\n       [1.80851552e-03],\n       [2.05262348e-01],\n       [7.81475306e-02],\n       [1.08091019e-01],\n       [7.51372278e-01],\n       [1.71641572e-04],\n       [1.95585787e-02],\n       [9.91941094e-01],\n       [2.74550766e-01],\n       [1.84757844e-01],\n       [2.45751105e-02],\n       [2.27584336e-02],\n       [9.47279632e-01],\n       [8.04417372e-01],\n       [2.46013347e-02],\n       [8.36064100e-01],\n       [1.99650880e-02],\n       [9.99996126e-01],\n       [7.90808499e-01],\n       [6.08533442e-01],\n       [9.43894440e-04],\n       [8.72892700e-03],\n       [6.06680813e-04],\n       [9.86823320e-01],\n       [6.21651532e-03],\n       [1.97858900e-01],\n       [2.21391723e-01],\n       [9.99607384e-01],\n       [9.98400867e-01],\n       [1.12385392e-01],\n       [9.98392582e-01],\n       [7.76956081e-02],\n       [1.61788706e-02],\n       [3.24167043e-01],\n       [6.96232855e-01],\n       [3.66620600e-01],\n       [1.09014541e-01],\n       [9.63800490e-01],\n       [1.70375372e-03],\n       [3.23870918e-04],\n       [9.63339448e-01],\n       [7.03342538e-03],\n       [8.41242075e-01],\n       [9.99126911e-01],\n       [3.63183357e-02],\n       [9.99856055e-01],\n       [3.30795795e-01],\n       [9.99946594e-01],\n       [1.84557930e-01],\n       [2.64908578e-02],\n       [9.99148190e-01],\n       [9.99149442e-01],\n       [8.57851446e-01],\n       [1.43076503e-03],\n       [9.26291198e-02],\n       [8.90840590e-02],\n       [9.99987125e-01],\n       [9.92167354e-01],\n       [3.77117051e-03],\n       [3.31418269e-04],\n       [8.94041181e-01],\n       [1.58487380e-01],\n       [2.02215422e-04],\n       [9.99856055e-01],\n       [9.95584428e-01],\n       [7.64932707e-02],\n       [9.95473623e-01],\n       [7.37275258e-02],\n       [9.75975633e-01],\n       [9.91543710e-01],\n       [2.95665432e-02],\n       [9.55039859e-01],\n       [2.61727154e-01],\n       [3.50454077e-03],\n       [4.28005308e-01],\n       [3.10512539e-02],\n       [9.99951124e-01],\n       [6.76693976e-01],\n       [1.47635534e-01],\n       [6.20178044e-01],\n       [3.70621443e-01],\n       [9.82125282e-01],\n       [3.13675869e-03],\n       [3.95775773e-03],\n       [9.94802713e-01],\n       [9.99863386e-01],\n       [1.87020320e-02],\n       [6.19432926e-01],\n       [7.38683105e-01],\n       [5.08086104e-03],\n       [4.22110036e-03],\n       [8.03758502e-01],\n       [2.75384951e-02],\n       [3.68443131e-02],\n       [4.86013591e-01],\n       [9.99996960e-01],\n       [1.75061878e-02],\n       [9.99093235e-01],\n       [9.99993622e-01],\n       [8.60334858e-02],\n       [8.74586463e-01],\n       [9.97711778e-01],\n       [9.99545574e-01],\n       [9.99999821e-01],\n       [7.98100471e-01],\n       [9.71874714e-01],\n       [3.03761791e-02],\n       [3.70559259e-03],\n       [5.88787317e-01],\n       [6.86688436e-05],\n       [7.85624623e-01],\n       [1.34528195e-02],\n       [9.99983728e-01],\n       [9.99885380e-01],\n       [9.99804318e-01],\n       [4.24086675e-03],\n       [4.32841554e-02],\n       [9.24076974e-01],\n       [2.96309101e-03],\n       [2.05891319e-02],\n       [9.95526016e-01],\n       [7.90899433e-03],\n       [9.99999642e-01],\n       [3.74048978e-01],\n       [1.34775555e-02],\n       [3.38201016e-01],\n       [1.68452546e-01],\n       [9.92678404e-01],\n       [9.45800185e-01],\n       [8.43728136e-04],\n       [5.33631146e-01],\n       [6.71647608e-01],\n       [4.88631427e-03],\n       [5.39651476e-02],\n       [1.53325347e-03],\n       [9.67450738e-01],\n       [1.81168411e-03],\n       [9.67414200e-01],\n       [3.80781572e-03],\n       [1.62327627e-03],\n       [5.40197454e-02],\n       [9.77764726e-01],\n       [2.88345455e-03],\n       [3.19310069e-01],\n       [4.26409721e-01],\n       [7.23386824e-01],\n       [9.99490321e-01],\n       [4.89576727e-01],\n       [7.40045369e-01],\n       [1.96178854e-02],\n       [1.38503358e-01],\n       [9.26331937e-01],\n       [9.60428454e-03],\n       [8.75494033e-02],\n       [7.23379059e-03],\n       [5.51304035e-03],\n       [6.54185843e-03],\n       [5.80581166e-02],\n       [1.09146200e-01],\n       [1.64637029e-01],\n       [9.34886262e-02],\n       [9.98078585e-01],\n       [9.70566690e-01],\n       [9.15675819e-01],\n       [1.98431686e-01],\n       [2.49004504e-03],\n       [1.72080018e-03],\n       [3.23243551e-02],\n       [9.16912675e-01],\n       [1.07967174e-02],\n       [1.97526388e-04],\n       [9.99893308e-01],\n       [1.60092190e-01],\n       [9.99910891e-01],\n       [8.92011896e-02],\n       [4.13745165e-01],\n       [9.35234427e-01],\n       [8.30147386e-01],\n       [3.81865742e-04],\n       [9.68892395e-01],\n       [5.68319410e-02],\n       [1.44150421e-01],\n       [9.95893598e-01],\n       [6.23938162e-04],\n       [9.71203983e-01],\n       [6.65812404e-04],\n       [1.81208609e-03],\n       [9.99956787e-01],\n       [6.18312322e-03],\n       [2.65802117e-03],\n       [2.03140214e-01],\n       [7.59819988e-03],\n       [3.61209176e-03],\n       [5.61639608e-04],\n       [9.99946535e-01],\n       [9.99463081e-01],\n       [1.05733275e-01],\n       [8.03138435e-01],\n       [1.51049048e-01],\n       [1.84722559e-03],\n       [9.99904096e-01],\n       [8.46415292e-04],\n       [9.98812735e-01],\n       [1.27054274e-01],\n       [1.44214854e-02],\n       [1.41291961e-03],\n       [9.95543480e-01],\n       [1.59992874e-02],\n       [9.99420226e-01],\n       [9.61228430e-01],\n       [3.91691029e-02],\n       [7.21338997e-03],\n       [3.29053164e-01],\n       [6.56636134e-02],\n       [9.99880552e-01],\n       [8.65958538e-03],\n       [1.24297664e-03],\n       [6.17063791e-02],\n       [9.92447972e-01],\n       [4.59382206e-01],\n       [9.99464929e-01],\n       [3.27019431e-02],\n       [6.84125125e-02],\n       [6.79292142e-01],\n       [5.76016843e-01],\n       [1.80879710e-04],\n       [9.70656097e-01],\n       [9.99548018e-01],\n       [7.06271501e-03],\n       [9.84442592e-01],\n       [9.02527809e-01],\n       [9.99567270e-01],\n       [1.08086709e-02],\n       [1.96701614e-03],\n       [9.29259539e-01],\n       [1.97447799e-02],\n       [9.99373853e-01],\n       [6.16562009e-01],\n       [9.96127069e-01],\n       [2.38621607e-01],\n       [9.99993920e-01],\n       [9.17820573e-01],\n       [7.79078677e-02],\n       [3.49243820e-01],\n       [2.38566287e-02],\n       [5.09538827e-03],\n       [1.68925524e-02],\n       [7.53634691e-01],\n       [2.48610392e-01],\n       [8.36479425e-01],\n       [7.84989774e-01],\n       [4.90895621e-02],\n       [9.70912259e-03],\n       [8.73194449e-03],\n       [1.99468266e-02],\n       [8.97999201e-03],\n       [4.51538945e-03],\n       [1.23780062e-02],\n       [9.98799860e-01],\n       [1.12742335e-01],\n       [9.99971330e-01],\n       [9.27022775e-04],\n       [2.09461525e-02],\n       [3.34048606e-02],\n       [5.43389877e-04],\n       [2.10970538e-04],\n       [9.99770105e-01],\n       [8.56519502e-04],\n       [1.12453774e-02],\n       [8.93018007e-01],\n       [9.99975264e-01],\n       [6.14994846e-04],\n       [3.27258743e-02],\n       [2.61727154e-01],\n       [7.21032033e-03],\n       [2.61137545e-01],\n       [9.99790430e-01],\n       [9.84393358e-01],\n       [2.41616324e-01],\n       [1.19346976e-02],\n       [3.38912010e-02],\n       [3.90485883e-01],\n       [9.81582707e-05],\n       [1.60253816e-03],\n       [1.18925340e-01],\n       [6.69835322e-03],\n       [8.04007173e-01],\n       [9.99998450e-01],\n       [3.00210956e-02],\n       [9.99666631e-01],\n       [9.99954224e-01],\n       [2.24719327e-02],\n       [3.94078851e-01],\n       [6.83966935e-01],\n       [9.90523219e-01],\n       [6.90267920e-01],\n       [1.89538933e-02],\n       [1.28694266e-01],\n       [8.83342419e-03],\n       [3.97495553e-03],\n       [1.05736881e-01],\n       [3.03826541e-01],\n       [9.99065518e-01],\n       [1.68876186e-01],\n       [5.11839315e-02],\n       [8.71572018e-01],\n       [2.49432912e-03],\n       [9.27483384e-03],\n       [8.16717860e-04],\n       [6.44181296e-03],\n       [2.93197095e-01],\n       [9.99306202e-01],\n       [9.99759436e-01],\n       [2.51459628e-01],\n       [9.99993443e-01],\n       [9.51031372e-02],\n       [1.16406485e-01],\n       [2.77153049e-02],\n       [9.99971330e-01],\n       [8.27772141e-01],\n       [9.99586642e-01],\n       [7.53457308e-01],\n       [6.79118872e-01],\n       [2.26294473e-02],\n       [7.84357309e-01],\n       [3.76234084e-01],\n       [4.27519172e-01],\n       [4.38222557e-01],\n       [3.93473506e-02],\n       [7.01765865e-02],\n       [4.81234677e-02],\n       [9.11299169e-01],\n       [3.77032399e-01],\n       [1.22289127e-03],\n       [1.15890637e-01],\n       [7.92350829e-01],\n       [9.52740788e-01],\n       [9.99965310e-01],\n       [9.29181516e-01],\n       [9.92966056e-01],\n       [7.49319196e-01],\n       [2.89317947e-02],\n       [5.14077321e-02],\n       [1.42365426e-01],\n       [9.46987748e-01],\n       [9.99856055e-01],\n       [1.79240674e-01],\n       [8.63117099e-01],\n       [4.39886749e-01],\n       [6.03212081e-02],\n       [1.64082691e-01],\n       [4.19341167e-03],\n       [9.97186840e-01],\n       [1.82511937e-02],\n       [9.99025464e-01],\n       [8.83226752e-01],\n       [9.94377494e-01],\n       [9.99975204e-01],\n       [8.45107157e-03],\n       [2.02369829e-05],\n       [1.05675077e-03],\n       [8.99305865e-02],\n       [6.80448830e-01],\n       [2.29778644e-02],\n       [1.78785458e-01],\n       [3.05595528e-02],\n       [1.79993492e-02],\n       [1.31555066e-01],\n       [2.20157690e-02],\n       [9.99995351e-01],\n       [9.99790311e-01],\n       [9.76128340e-01],\n       [8.26739907e-01],\n       [9.81976330e-01],\n       [3.07264328e-01],\n       [1.40759619e-02],\n       [9.33970869e-01],\n       [1.25147414e-03],\n       [1.11029390e-02],\n       [5.33663668e-02],\n       [9.90760684e-01],\n       [1.93988637e-03],\n       [4.58363183e-02],\n       [1.08695612e-03],\n       [5.97719278e-04],\n       [5.01619233e-03],\n       [3.03465694e-01],\n       [9.99679744e-01],\n       [9.98517394e-01],\n       [6.45442456e-02],\n       [4.31848168e-01],\n       [9.99486148e-01],\n       [3.09709720e-02],\n       [1.57086998e-01],\n       [2.90006567e-02],\n       [2.52659544e-02],\n       [3.45242441e-01],\n       [9.99860406e-01],\n       [9.84193504e-01],\n       [3.76958370e-01],\n       [4.21035141e-02],\n       [9.65856135e-01],\n       [9.84398365e-01],\n       [5.09540504e-03],\n       [1.21432962e-02],\n       [6.91405162e-02],\n       [1.75837276e-03],\n       [5.23935795e-01],\n       [2.33031645e-01],\n       [8.29949558e-01],\n       [9.59989522e-03],\n       [5.62551012e-03],\n       [2.39061207e-01],\n       [9.99962032e-01],\n       [9.46326911e-01],\n       [1.58872716e-02],\n       [7.45980516e-02],\n       [2.17005815e-02],\n       [6.66128278e-01],\n       [9.98743594e-01],\n       [6.78670694e-05],\n       [3.87197407e-03],\n       [6.04102433e-01],\n       [9.10660148e-01],\n       [9.25336126e-03],\n       [9.99987781e-01],\n       [2.71519125e-02],\n       [1.01541611e-03],\n       [2.01772138e-01],\n       [2.39423975e-01],\n       [9.99980211e-01],\n       [1.74340740e-01],\n       [9.78728056e-01],\n       [8.99430931e-01],\n       [9.99999702e-01],\n       [2.11384326e-01],\n       [5.24611235e-01],\n       [4.31809008e-01],\n       [5.69672920e-02],\n       [9.72217441e-01],\n       [2.30064313e-03],\n       [7.42883801e-01],\n       [5.43174450e-04],\n       [3.57764922e-02],\n       [2.23316049e-04],\n       [1.17061269e-02],\n       [9.10228491e-01],\n       [6.11835450e-04],\n       [5.84806204e-01],\n       [6.66661281e-03],\n       [3.54416743e-02],\n       [2.53761839e-02],\n       [9.99996901e-01],\n       [9.96196508e-01],\n       [8.69857132e-01],\n       [9.99379635e-01],\n       [1.21439055e-01],\n       [9.99790311e-01],\n       [8.30926560e-03],\n       [7.01765865e-02],\n       [9.99002278e-01],\n       [9.99289155e-01],\n       [9.99949217e-01],\n       [9.99856055e-01],\n       [6.57068372e-01],\n       [7.00652897e-02],\n       [9.46065664e-01],\n       [3.01345866e-02],\n       [9.99974787e-01],\n       [3.87875387e-03],\n       [1.84044167e-02],\n       [1.43169425e-02],\n       [2.43551144e-03],\n       [1.60574853e-01],\n       [9.99983966e-01],\n       [1.45391271e-01],\n       [2.79242039e-01],\n       [9.93278444e-01],\n       [9.98873413e-01],\n       [9.99283612e-01],\n       [8.75952020e-02],\n       [1.96213528e-04],\n       [7.41732717e-01],\n       [5.50600141e-02],\n       [9.99966741e-01],\n       [9.98655617e-01],\n       [1.45430833e-01],\n       [9.81582707e-05],\n       [4.08406463e-03],\n       [9.87895310e-01],\n       [1.08023666e-01],\n       [1.53695196e-02],\n       [9.85050380e-01],\n       [7.50703514e-02],\n       [2.18684543e-02],\n       [3.41484100e-01],\n       [8.87260437e-01],\n       [1.05127238e-03],\n       [4.89885926e-01],\n       [9.99563396e-01],\n       [5.70035912e-02],\n       [2.05354136e-03],\n       [1.50024407e-02],\n       [6.99138939e-02],\n       [4.98850271e-03],\n       [8.91832577e-04],\n       [2.98632085e-01],\n       [1.68939784e-01],\n       [3.34072381e-01],\n       [2.48737447e-02],\n       [3.26026939e-02],\n       [2.07747556e-02],\n       [1.36434257e-01],\n       [8.58741164e-01],\n       [2.80616999e-01],\n       [1.06317371e-01],\n       [1.12044616e-02],\n       [9.99993563e-01],\n       [1.01715468e-01],\n       [2.49605011e-02],\n       [4.01201427e-01],\n       [9.83101368e-01],\n       [9.99995410e-01],\n       [2.43520085e-03],\n       [1.64293107e-02],\n       [9.42184567e-01],\n       [4.68103066e-02],\n       [1.26972795e-01]], dtype=float32)"
     },
     "execution_count": 37,
     "metadata": {},
     "output_type": "execute_result"
    }
   ],
   "source": [
    "import matplotlib.pyplot as plt\n",
    "\n",
    "plt.plot(model_5_history.history['accuracy'])\n",
    "plt.plot(model_5_history.history['val_accuracy'])\n",
    "plt.title('Model accuracy')\n",
    "plt.ylabel('Accuracy')\n",
    "plt.xlabel('Epoch')\n",
    "plt.legend(['Train', 'Test'], loc='upper left')\n",
    "plt.show()\n",
    "\n",
    "# Plot training & validation loss values\n",
    "plt.plot(model_5_history.history['loss'])\n",
    "plt.plot(model_5_history.history['val_loss'])\n",
    "plt.title('Model loss')\n",
    "plt.ylabel('Loss')\n",
    "plt.xlabel('Epoch')\n",
    "plt.legend(['Train', 'Test'], loc='upper left')\n",
    "plt.show()"
   ],
   "metadata": {
    "collapsed": false,
    "ExecuteTime": {
     "end_time": "2023-07-30T14:51:42.907514200Z",
     "start_time": "2023-07-30T14:51:42.761373400Z"
    }
   },
   "id": "886e2ebf5b7e05f5"
  },
  {
   "cell_type": "code",
   "execution_count": 38,
   "outputs": [
    {
     "data": {
      "text/plain": "<tf.Tensor: shape=(5,), dtype=float32, numpy=array([0., 0., 0., 0., 0.], dtype=float32)>"
     },
     "execution_count": 38,
     "metadata": {},
     "output_type": "execute_result"
    }
   ],
   "source": [
    "# Make some predictions with our model_5 Conv1D\n",
    "model_5_pred_probs = model_5.predict(val_sentences)\n",
    "model_5_pred_probs"
   ],
   "metadata": {
    "collapsed": false,
    "ExecuteTime": {
     "end_time": "2023-07-30T14:51:42.908513900Z",
     "start_time": "2023-07-30T14:51:42.892119600Z"
    }
   },
   "id": "b8bf6a8fb5db4ba4"
  },
  {
   "cell_type": "code",
   "execution_count": 39,
   "outputs": [],
   "source": [
    "model_5_preds = tf.squeeze(tf.round(model_5_pred_probs))\n",
    "model_5_preds[:5]"
   ],
   "metadata": {
    "collapsed": false,
    "ExecuteTime": {
     "end_time": "2023-07-30T14:51:42.908513900Z",
     "start_time": "2023-07-30T14:51:42.899991900Z"
    }
   },
   "id": "8c185637499783e8"
  },
  {
   "cell_type": "code",
   "execution_count": 40,
   "outputs": [
    {
     "data": {
      "text/plain": "{'model_5_accuracy_score': 0.7637795275590551,\n 'model_5_precision': 0.7642849418077561,\n 'model_5_recall': {0.7637795275590551},\n 'model_5_f1score': {0.7611506908904366}}"
     },
     "execution_count": 40,
     "metadata": {},
     "output_type": "execute_result"
    }
   ],
   "source": [
    "# Evaluate the model by comparing the model_5_preds to val_labels\n",
    "from sklearn.metrics import accuracy_score, precision_recall_fscore_support\n",
    "\n",
    "model_5_accuracy_score = accuracy_score(val_labels, model_5_preds)\n",
    "model_5_precision, model_5_recall, model_5_fscore, _ =precision_recall_fscore_support(val_labels,\n",
    "                                                                                      model_5_preds, average=\"weighted\")"
   ],
   "metadata": {
    "collapsed": false,
    "ExecuteTime": {
     "end_time": "2023-07-30T14:51:42.909512500Z",
     "start_time": "2023-07-30T14:51:42.905085800Z"
    }
   },
   "id": "5ffc7a4966daeab"
  },
  {
   "cell_type": "code",
   "execution_count": null,
   "outputs": [],
   "source": [
    "dict_result = {\"model_5_accuracy_score\": model_5_accuracy_score,\n",
    "               \"model_5_precision\": model_5_precision,\n",
    "               \"model_5_recall\": {model_5_recall},\n",
    "               \"model_5_f1score\": {model_5_fscore}}\n",
    "dict_result"
   ],
   "metadata": {
    "collapsed": false
   },
   "id": "7ca17bdd9b5564c1"
  }
 ],
 "metadata": {
  "kernelspec": {
   "display_name": "Python 3",
   "language": "python",
   "name": "python3"
  },
  "language_info": {
   "codemirror_mode": {
    "name": "ipython",
    "version": 2
   },
   "file_extension": ".py",
   "mimetype": "text/x-python",
   "name": "python",
   "nbconvert_exporter": "python",
   "pygments_lexer": "ipython2",
   "version": "2.7.6"
  }
 },
 "nbformat": 4,
 "nbformat_minor": 5
}
