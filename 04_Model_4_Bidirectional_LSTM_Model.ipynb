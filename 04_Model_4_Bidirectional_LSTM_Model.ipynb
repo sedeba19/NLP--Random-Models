{
 "cells": [
  {
   "cell_type": "code",
   "execution_count": 1,
   "outputs": [
    {
     "data": {
      "text/plain": "'2.13.0'"
     },
     "execution_count": 1,
     "metadata": {},
     "output_type": "execute_result"
    }
   ],
   "source": [
    "import os\n",
    "import tensorflow as tf\n",
    "import pandas as pd\n",
    "\n",
    "tf.__version__\n"
   ],
   "metadata": {
    "collapsed": false,
    "ExecuteTime": {
     "end_time": "2023-07-30T15:11:10.743197900Z",
     "start_time": "2023-07-30T15:11:09.061346800Z"
    }
   },
   "id": "d895e3f341f9cd2c"
  },
  {
   "cell_type": "code",
   "execution_count": 2,
   "outputs": [],
   "source": [
    "train_dir = r'https://raw.githubusercontent.com/sedeba19/NLP--Random-Models/main/train.csv'\n",
    "test_dir = r'https://raw.githubusercontent.com/sedeba19/NLP--Random-Models/main/test.csv'"
   ],
   "metadata": {
    "collapsed": false,
    "ExecuteTime": {
     "end_time": "2023-07-30T15:11:10.744199100Z",
     "start_time": "2023-07-30T15:11:10.734691300Z"
    }
   },
   "id": "f9e05dc9db4f2150"
  },
  {
   "cell_type": "code",
   "execution_count": 3,
   "outputs": [
    {
     "data": {
      "text/plain": "'https://raw.githubusercontent.com/sedeba19/NLP--Random-Models/main/train.csv'"
     },
     "execution_count": 3,
     "metadata": {},
     "output_type": "execute_result"
    }
   ],
   "source": [
    "train_dir"
   ],
   "metadata": {
    "collapsed": false,
    "ExecuteTime": {
     "end_time": "2023-07-30T15:11:10.744199100Z",
     "start_time": "2023-07-30T15:11:10.737475200Z"
    }
   },
   "id": "e237aa9b92bb079a"
  },
  {
   "cell_type": "code",
   "execution_count": 4,
   "outputs": [
    {
     "data": {
      "text/plain": "   id keyword location                                               text  \\\n0   1     NaN      NaN  Our Deeds are the Reason of this #earthquake M...   \n1   4     NaN      NaN             Forest fire near La Ronge Sask. Canada   \n2   5     NaN      NaN  All residents asked to 'shelter in place' are ...   \n3   6     NaN      NaN  13,000 people receive #wildfires evacuation or...   \n4   7     NaN      NaN  Just got sent this photo from Ruby #Alaska as ...   \n\n   target  \n0       1  \n1       1  \n2       1  \n3       1  \n4       1  ",
      "text/html": "<div>\n<style scoped>\n    .dataframe tbody tr th:only-of-type {\n        vertical-align: middle;\n    }\n\n    .dataframe tbody tr th {\n        vertical-align: top;\n    }\n\n    .dataframe thead th {\n        text-align: right;\n    }\n</style>\n<table border=\"1\" class=\"dataframe\">\n  <thead>\n    <tr style=\"text-align: right;\">\n      <th></th>\n      <th>id</th>\n      <th>keyword</th>\n      <th>location</th>\n      <th>text</th>\n      <th>target</th>\n    </tr>\n  </thead>\n  <tbody>\n    <tr>\n      <th>0</th>\n      <td>1</td>\n      <td>NaN</td>\n      <td>NaN</td>\n      <td>Our Deeds are the Reason of this #earthquake M...</td>\n      <td>1</td>\n    </tr>\n    <tr>\n      <th>1</th>\n      <td>4</td>\n      <td>NaN</td>\n      <td>NaN</td>\n      <td>Forest fire near La Ronge Sask. Canada</td>\n      <td>1</td>\n    </tr>\n    <tr>\n      <th>2</th>\n      <td>5</td>\n      <td>NaN</td>\n      <td>NaN</td>\n      <td>All residents asked to 'shelter in place' are ...</td>\n      <td>1</td>\n    </tr>\n    <tr>\n      <th>3</th>\n      <td>6</td>\n      <td>NaN</td>\n      <td>NaN</td>\n      <td>13,000 people receive #wildfires evacuation or...</td>\n      <td>1</td>\n    </tr>\n    <tr>\n      <th>4</th>\n      <td>7</td>\n      <td>NaN</td>\n      <td>NaN</td>\n      <td>Just got sent this photo from Ruby #Alaska as ...</td>\n      <td>1</td>\n    </tr>\n  </tbody>\n</table>\n</div>"
     },
     "execution_count": 4,
     "metadata": {},
     "output_type": "execute_result"
    }
   ],
   "source": [
    "# Make a train_df\n",
    "train_df = pd.read_csv(train_dir)\n",
    "test_df = pd.read_csv(test_dir)\n",
    "train_df.head()"
   ],
   "metadata": {
    "collapsed": false,
    "ExecuteTime": {
     "end_time": "2023-07-30T15:11:10.864688700Z",
     "start_time": "2023-07-30T15:11:10.742197600Z"
    }
   },
   "id": "c858f9a76b34b934"
  },
  {
   "cell_type": "code",
   "execution_count": 5,
   "outputs": [
    {
     "data": {
      "text/plain": "         id               keyword                  location  \\\n3228   4632  emergency%20services   Sydney, New South Wales   \n3706   5271                  fear                       NaN   \n6957   9982               tsunami         Land Of The Kings   \n2887   4149                 drown                       NaN   \n7464  10680                wounds  cody, austin follows ?*?   \n\n                                                   text  target  \n3228  Goulburn man Henry Van Bilsen missing: Emergen...       1  \n3706  The things we fear most in organizations--fluc...       0  \n6957                            @tsunami_esh ?? hey Esh       0  \n2887  @POTUS you until you drown by water entering t...       0  \n7464  Crawling in my skin\\nThese wounds they will no...       1  ",
      "text/html": "<div>\n<style scoped>\n    .dataframe tbody tr th:only-of-type {\n        vertical-align: middle;\n    }\n\n    .dataframe tbody tr th {\n        vertical-align: top;\n    }\n\n    .dataframe thead th {\n        text-align: right;\n    }\n</style>\n<table border=\"1\" class=\"dataframe\">\n  <thead>\n    <tr style=\"text-align: right;\">\n      <th></th>\n      <th>id</th>\n      <th>keyword</th>\n      <th>location</th>\n      <th>text</th>\n      <th>target</th>\n    </tr>\n  </thead>\n  <tbody>\n    <tr>\n      <th>3228</th>\n      <td>4632</td>\n      <td>emergency%20services</td>\n      <td>Sydney, New South Wales</td>\n      <td>Goulburn man Henry Van Bilsen missing: Emergen...</td>\n      <td>1</td>\n    </tr>\n    <tr>\n      <th>3706</th>\n      <td>5271</td>\n      <td>fear</td>\n      <td>NaN</td>\n      <td>The things we fear most in organizations--fluc...</td>\n      <td>0</td>\n    </tr>\n    <tr>\n      <th>6957</th>\n      <td>9982</td>\n      <td>tsunami</td>\n      <td>Land Of The Kings</td>\n      <td>@tsunami_esh ?? hey Esh</td>\n      <td>0</td>\n    </tr>\n    <tr>\n      <th>2887</th>\n      <td>4149</td>\n      <td>drown</td>\n      <td>NaN</td>\n      <td>@POTUS you until you drown by water entering t...</td>\n      <td>0</td>\n    </tr>\n    <tr>\n      <th>7464</th>\n      <td>10680</td>\n      <td>wounds</td>\n      <td>cody, austin follows ?*?</td>\n      <td>Crawling in my skin\\nThese wounds they will no...</td>\n      <td>1</td>\n    </tr>\n  </tbody>\n</table>\n</div>"
     },
     "execution_count": 5,
     "metadata": {},
     "output_type": "execute_result"
    }
   ],
   "source": [
    "# Shuffle training dataframe\n",
    "train_df_shuffled = train_df.sample(frac = 1, random_state = 1)\n",
    "train_df_shuffled.head()"
   ],
   "metadata": {
    "collapsed": false,
    "ExecuteTime": {
     "end_time": "2023-07-30T15:11:10.872943500Z",
     "start_time": "2023-07-30T15:11:10.864688700Z"
    }
   },
   "id": "ffa95adda1afec99"
  },
  {
   "cell_type": "code",
   "execution_count": 6,
   "outputs": [
    {
     "data": {
      "text/plain": "(7613, 5)"
     },
     "execution_count": 6,
     "metadata": {},
     "output_type": "execute_result"
    }
   ],
   "source": [
    "train_df_shuffled.shape"
   ],
   "metadata": {
    "collapsed": false,
    "ExecuteTime": {
     "end_time": "2023-07-30T15:11:10.875947Z",
     "start_time": "2023-07-30T15:11:10.872439900Z"
    }
   },
   "id": "66e71f2c2322a35c"
  },
  {
   "cell_type": "code",
   "execution_count": 7,
   "outputs": [
    {
     "data": {
      "text/plain": "target\n0    4342\n1    3271\nName: count, dtype: int64"
     },
     "execution_count": 7,
     "metadata": {},
     "output_type": "execute_result"
    }
   ],
   "source": [
    "# How many examples of each class?\n",
    "train_df['target'].value_counts()"
   ],
   "metadata": {
    "collapsed": false,
    "ExecuteTime": {
     "end_time": "2023-07-30T15:11:10.879515Z",
     "start_time": "2023-07-30T15:11:10.876947700Z"
    }
   },
   "id": "e8f13f3fbc904937"
  },
  {
   "cell_type": "code",
   "execution_count": 8,
   "outputs": [
    {
     "data": {
      "text/plain": "(7613, 3263)"
     },
     "execution_count": 8,
     "metadata": {},
     "output_type": "execute_result"
    }
   ],
   "source": [
    "# How many total samples?\n",
    "len(train_df), len(test_df)"
   ],
   "metadata": {
    "collapsed": false,
    "ExecuteTime": {
     "end_time": "2023-07-30T15:11:10.889186400Z",
     "start_time": "2023-07-30T15:11:10.879515Z"
    }
   },
   "id": "6a3f06f716aed950"
  },
  {
   "cell_type": "code",
   "execution_count": 9,
   "outputs": [
    {
     "name": "stdout",
     "output_type": "stream",
     "text": [
      "Target:1 (real disaster)\n",
      "Text: \n",
      "Slip Sliding Away - Flash Floods Info for Writers w/Tony Nester @SonoranRattler #writingtips http://t.co/sLTtOrRLHs\n",
      "-----\n",
      "\n",
      "Target:0 (not a real disaster)\n",
      "Text: \n",
      "13 reasons why we love women in the military   - lulgzimbestpicts http://t.co/uZ1yiZ7n6m http://t.co/IjwAr15H16\n",
      "-----\n",
      "\n",
      "Target:0 (not a real disaster)\n",
      "Text: \n",
      "'Trust us to get rescued by the dopey ones!' Val is hilarious shame she's probably going to die #emmerdale\n",
      "-----\n",
      "\n",
      "Target:0 (not a real disaster)\n",
      "Text: \n",
      "One day this heart gone get me zipped up in a body bag.\n",
      "-----\n",
      "\n",
      "Target:0 (not a real disaster)\n",
      "Text: \n",
      "Fire waves and darkness\n",
      "-----\n"
     ]
    }
   ],
   "source": [
    "# Visualize some random training examples\n",
    "import random\n",
    "random_index = random.randint(0, len(train_df)-5)\n",
    "for row in train_df_shuffled[[\"text\", \"target\"]][random_index: random_index +5].itertuples():\n",
    "    _, text, target = row\n",
    "    if target > 0:\n",
    "        print(f\"Target:{target}\", \"(real disaster)\")\n",
    "    else:\n",
    "        print(f\"Target:{target}\", \"(not a real disaster)\")\n",
    "    \n",
    "    print(f\"Text: \\n{text}\")\n",
    "    print(\"-----\\n\")"
   ],
   "metadata": {
    "collapsed": false,
    "ExecuteTime": {
     "end_time": "2023-07-30T15:11:10.900187300Z",
     "start_time": "2023-07-30T15:11:10.885236100Z"
    }
   },
   "id": "99ad01fd617f2fad"
  },
  {
   "cell_type": "markdown",
   "source": [
    "### Split data into training and validation sets"
   ],
   "metadata": {
    "collapsed": false,
    "ExecuteTime": {
     "end_time": "2023-07-30T14:51:01.658720900Z",
     "start_time": "2023-07-30T14:51:01.395949100Z"
    }
   },
   "id": "cc004f467eb6820b"
  },
  {
   "cell_type": "code",
   "execution_count": 10,
   "outputs": [],
   "source": [
    "from sklearn.model_selection import train_test_split\n",
    "\n",
    "train_sentences, val_sentences, train_labels, val_labels = train_test_split(train_df['text'],\n",
    "                                                                            train_df['target'],\n",
    "                                                                            test_size = 0.1,\n",
    "                                                                            random_state = 42)"
   ],
   "metadata": {
    "collapsed": false,
    "ExecuteTime": {
     "end_time": "2023-07-30T15:11:11.165325300Z",
     "start_time": "2023-07-30T15:11:10.889186400Z"
    }
   },
   "id": "e9962e431d6f4625"
  },
  {
   "cell_type": "code",
   "execution_count": 11,
   "outputs": [
    {
     "data": {
      "text/plain": "(7613,)"
     },
     "execution_count": 11,
     "metadata": {},
     "output_type": "execute_result"
    }
   ],
   "source": [
    "train_df['text'].shape"
   ],
   "metadata": {
    "collapsed": false,
    "ExecuteTime": {
     "end_time": "2023-07-30T15:11:11.174696800Z",
     "start_time": "2023-07-30T15:11:11.153496300Z"
    }
   },
   "id": "2044aeeaed5209d8"
  },
  {
   "cell_type": "code",
   "execution_count": 12,
   "outputs": [
    {
     "data": {
      "text/plain": "0       Our Deeds are the Reason of this #earthquake M...\n1                  Forest fire near La Ronge Sask. Canada\n2       All residents asked to 'shelter in place' are ...\n3       13,000 people receive #wildfires evacuation or...\n4       Just got sent this photo from Ruby #Alaska as ...\n                              ...                        \n7608    Two giant cranes holding a bridge collapse int...\n7609    @aria_ahrary @TheTawniest The out of control w...\n7610    M1.94 [01:04 UTC]?5km S of Volcano Hawaii. htt...\n7611    Police investigating after an e-bike collided ...\n7612    The Latest: More Homes Razed by Northern Calif...\nName: text, Length: 7613, dtype: object"
     },
     "execution_count": 12,
     "metadata": {},
     "output_type": "execute_result"
    }
   ],
   "source": [
    "train_df[\"text\"]"
   ],
   "metadata": {
    "collapsed": false,
    "ExecuteTime": {
     "end_time": "2023-07-30T15:11:11.174696800Z",
     "start_time": "2023-07-30T15:11:11.156757900Z"
    }
   },
   "id": "aecfc9a6831f9cee"
  },
  {
   "cell_type": "code",
   "execution_count": 13,
   "outputs": [
    {
     "data": {
      "text/plain": "array(['Our Deeds are the Reason of this #earthquake May ALLAH Forgive us all',\n       'Forest fire near La Ronge Sask. Canada',\n       \"All residents asked to 'shelter in place' are being notified by officers. No other evacuation or shelter in place orders are expected\",\n       ...,\n       'M1.94 [01:04 UTC]?5km S of Volcano Hawaii. http://t.co/zDtoyd8EbJ',\n       'Police investigating after an e-bike collided with a car in Little Portugal. E-bike rider suffered serious non-life threatening injuries.',\n       'The Latest: More Homes Razed by Northern California Wildfire - ABC News http://t.co/YmY4rSkQ3d'],\n      dtype=object)"
     },
     "execution_count": 13,
     "metadata": {},
     "output_type": "execute_result"
    }
   ],
   "source": [
    "train_df['text'].to_numpy()"
   ],
   "metadata": {
    "collapsed": false,
    "ExecuteTime": {
     "end_time": "2023-07-30T15:11:11.174696800Z",
     "start_time": "2023-07-30T15:11:11.160066100Z"
    }
   },
   "id": "4cdc72f6e817f834"
  },
  {
   "cell_type": "code",
   "execution_count": 14,
   "outputs": [
    {
     "data": {
      "text/plain": "array(['Our Deeds are the Reason of this #earthquake May ALLAH Forgive us all',\n       'Forest fire near La Ronge Sask. Canada',\n       \"All residents asked to 'shelter in place' are being notified by officers. No other evacuation or shelter in place orders are expected\",\n       ...,\n       'M1.94 [01:04 UTC]?5km S of Volcano Hawaii. http://t.co/zDtoyd8EbJ',\n       'Police investigating after an e-bike collided with a car in Little Portugal. E-bike rider suffered serious non-life threatening injuries.',\n       'The Latest: More Homes Razed by Northern California Wildfire - ABC News http://t.co/YmY4rSkQ3d'],\n      dtype=object)"
     },
     "execution_count": 14,
     "metadata": {},
     "output_type": "execute_result"
    }
   ],
   "source": [
    "train_df['text'].to_numpy()"
   ],
   "metadata": {
    "collapsed": false,
    "ExecuteTime": {
     "end_time": "2023-07-30T15:11:11.175697100Z",
     "start_time": "2023-07-30T15:11:11.166489Z"
    }
   },
   "id": "ec43b6635db1dc03"
  },
  {
   "cell_type": "code",
   "execution_count": 15,
   "outputs": [
    {
     "data": {
      "text/plain": "(6851, 762, 6851, 762)"
     },
     "execution_count": 15,
     "metadata": {},
     "output_type": "execute_result"
    }
   ],
   "source": [
    "len(train_sentences), len(val_sentences), len(train_labels), len(val_labels)"
   ],
   "metadata": {
    "collapsed": false,
    "ExecuteTime": {
     "end_time": "2023-07-30T15:11:11.175697100Z",
     "start_time": "2023-07-30T15:11:11.168996400Z"
    }
   },
   "id": "c4b936bb4e61352a"
  },
  {
   "cell_type": "markdown",
   "source": [
    "### Converting text into numbers: Text Vectorization also known as Tokenization"
   ],
   "metadata": {
    "collapsed": false,
    "ExecuteTime": {
     "end_time": "2023-07-30T14:51:01.726477500Z",
     "start_time": "2023-07-30T14:51:01.678770800Z"
    }
   },
   "id": "5777dedf87f2662b"
  },
  {
   "cell_type": "code",
   "execution_count": 16,
   "outputs": [
    {
     "data": {
      "text/plain": "101905"
     },
     "execution_count": 16,
     "metadata": {},
     "output_type": "execute_result"
    }
   ],
   "source": [
    "# Get the total words\n",
    "total_words = 0\n",
    "for i in train_sentences:\n",
    "    total_words += len(i.split())\n",
    "\n",
    "total_words"
   ],
   "metadata": {
    "collapsed": false,
    "ExecuteTime": {
     "end_time": "2023-07-30T15:11:11.192043500Z",
     "start_time": "2023-07-30T15:11:11.172696400Z"
    }
   },
   "id": "618457c173977155"
  },
  {
   "cell_type": "code",
   "execution_count": 17,
   "outputs": [
    {
     "data": {
      "text/plain": "(6851,)"
     },
     "execution_count": 17,
     "metadata": {},
     "output_type": "execute_result"
    }
   ],
   "source": [
    "train_sentences.shape"
   ],
   "metadata": {
    "collapsed": false,
    "ExecuteTime": {
     "end_time": "2023-07-30T15:11:11.192043500Z",
     "start_time": "2023-07-30T15:11:11.180558900Z"
    }
   },
   "id": "829d84b65c26bb92"
  },
  {
   "cell_type": "code",
   "execution_count": 18,
   "outputs": [
    {
     "data": {
      "text/plain": "15"
     },
     "execution_count": 18,
     "metadata": {},
     "output_type": "execute_result"
    }
   ],
   "source": [
    "# Get the average words per sentence or line\n",
    "avg_words_per_sentence = round(total_words/len(train_sentences))\n",
    "avg_words_per_sentence"
   ],
   "metadata": {
    "collapsed": false,
    "ExecuteTime": {
     "end_time": "2023-07-30T15:11:11.193043400Z",
     "start_time": "2023-07-30T15:11:11.184000100Z"
    }
   },
   "id": "a7a8bed44aec85d5"
  },
  {
   "cell_type": "code",
   "execution_count": 19,
   "outputs": [],
   "source": [
    "# Normally, total number of words is equal or less than the max vocabulary length\n",
    "max_vocab_length = 10000\n",
    "\n",
    "# max length of a statement is equal or more than the average word per sentence or line\n",
    "max_length = 15"
   ],
   "metadata": {
    "collapsed": false,
    "ExecuteTime": {
     "end_time": "2023-07-30T15:11:11.193043400Z",
     "start_time": "2023-07-30T15:11:11.187535700Z"
    }
   },
   "id": "92ebee1bf68d8486"
  },
  {
   "cell_type": "code",
   "execution_count": 20,
   "outputs": [],
   "source": [
    "import tensorflow as tf\n",
    "from tensorflow.keras.layers.experimental.preprocessing import TextVectorization\n",
    "\n",
    "text_vectorizer = TextVectorization(max_tokens = max_vocab_length,\n",
    "                                    output_mode = \"int\",\n",
    "                                    output_sequence_length = max_length)\n",
    "\n",
    "# Fit the text vectorizer to the training set\n",
    "text_vectorizer.adapt(train_sentences)"
   ],
   "metadata": {
    "collapsed": false,
    "ExecuteTime": {
     "end_time": "2023-07-30T15:11:11.451173600Z",
     "start_time": "2023-07-30T15:11:11.190042600Z"
    }
   },
   "id": "8805b068faa29b89"
  },
  {
   "cell_type": "code",
   "execution_count": 21,
   "outputs": [
    {
     "name": "stdout",
     "output_type": "stream",
     "text": [
      "There's a flood in my street! Sentence length is 29.\n"
     ]
    },
    {
     "data": {
      "text/plain": "<tf.Tensor: shape=(1, 15), dtype=int64, numpy=\narray([[282,   3, 206,   4,  13, 674,   0,   0,   0,   0,   0,   0,   0,\n          0,   0]], dtype=int64)>"
     },
     "execution_count": 21,
     "metadata": {},
     "output_type": "execute_result"
    }
   ],
   "source": [
    "# Create a sample sentence and tokenize it\n",
    "samp_sentence = \"There's a flood in my street!\"\n",
    "print(samp_sentence, f\"Sentence length is {len(samp_sentence)}.\")\n",
    "text_vectorizer([samp_sentence])\n",
    "#len(tf.squeeze(text_vectorizer([samp_sentence])))"
   ],
   "metadata": {
    "collapsed": false,
    "ExecuteTime": {
     "end_time": "2023-07-30T15:11:11.474186200Z",
     "start_time": "2023-07-30T15:11:11.452173800Z"
    }
   },
   "id": "111d45283fbfd4ae"
  },
  {
   "cell_type": "code",
   "execution_count": 22,
   "outputs": [
    {
     "name": "stdout",
     "output_type": "stream",
     "text": [
      "Original text: \n",
      "\n",
      " @dicehateme @PuppyShogun This makes sense. Paper beats rock paper comes from wood so wood should be able to support and obliterate rock. \n",
      "\n",
      "Vectorized text:\n"
     ]
    },
    {
     "data": {
      "text/plain": "<tf.Tensor: shape=(1, 15), dtype=int64, numpy=\narray([[   1, 9461,   19,  802, 1166, 2352, 3149,  979, 2352, 1019,   20,\n        3237,   31, 3237,  149]], dtype=int64)>"
     },
     "execution_count": 22,
     "metadata": {},
     "output_type": "execute_result"
    }
   ],
   "source": [
    "# Choose random sentence from the training dataset and tokenize it\n",
    "rand_train_sentence = random.choice(train_sentences)\n",
    "print(f\"Original text: \\n\\n {rand_train_sentence} \\n\\nVectorized text:\")\n",
    "text_vectorizer([rand_train_sentence])"
   ],
   "metadata": {
    "collapsed": false,
    "ExecuteTime": {
     "end_time": "2023-07-30T15:11:11.490584Z",
     "start_time": "2023-07-30T15:11:11.474186200Z"
    }
   },
   "id": "4f30ca7e95b2b5e5"
  },
  {
   "cell_type": "code",
   "execution_count": 23,
   "outputs": [
    {
     "data": {
      "text/plain": "['',\n '[UNK]',\n 'the',\n 'a',\n 'in',\n 'to',\n 'of',\n 'and',\n 'i',\n 'is',\n 'for',\n 'on',\n 'you',\n 'my',\n 'with',\n 'it',\n 'that',\n 'at',\n 'by',\n 'this',\n 'from',\n 'are',\n 'be',\n 'was',\n 'have',\n 'like',\n 'as',\n 'me',\n 'but',\n 'up',\n 'just',\n 'so',\n 'im',\n 'not',\n 'amp',\n 'your',\n 'out',\n 'all',\n 'after',\n 'its',\n 'has',\n 'no',\n 'will',\n 'an',\n 'fire',\n 'when',\n 'if',\n 'we',\n 'get',\n 'now',\n 'more',\n 'via',\n 'new',\n 'about',\n 'what',\n 'people',\n 'or',\n 'news',\n 'he',\n 'they',\n 'over',\n 'one',\n 'been',\n 'how',\n 'dont',\n 'who',\n 'video',\n 'into',\n 'were',\n 'do',\n 'us',\n 'can',\n 'emergency',\n '2',\n 'disaster',\n 'there',\n 'her',\n 'some',\n 'than',\n 'still',\n 'would',\n 'his',\n 'police',\n 'crash',\n 'burning',\n 'suicide',\n 'body',\n 'california',\n 'back',\n 'time',\n 'buildings',\n 'had',\n 'why',\n 'off',\n 'them',\n 'got',\n 'man',\n 'see',\n 'storm',\n 'know',\n 'going',\n 'cant',\n 'world',\n 'first',\n 'day',\n 'rt',\n 'nuclear',\n 'love',\n 'youtube',\n 'our',\n 'attack',\n 'go',\n 'fires',\n 'two',\n 'their',\n 'bomb',\n 'killed',\n '3',\n 'train',\n 'dead',\n 'car',\n 'war',\n 'life',\n 'may',\n 'watch',\n 'full',\n 'only',\n 'here',\n 'hiroshima',\n 'down',\n 'today',\n 'u',\n 'accident',\n 'think',\n 'many',\n 'good',\n 'way',\n 'families',\n 'too',\n 'then',\n 'say',\n 'being',\n 'last',\n 'could',\n 'years',\n 'want',\n 'did',\n 'home',\n 'best',\n 'should',\n 'need',\n 'mass',\n 'even',\n 'work',\n 'make',\n 'help',\n 'bombing',\n 'wildfire',\n 'please',\n 'look',\n 'lol',\n 'because',\n 'another',\n 'take',\n 'him',\n 'collapse',\n 'year',\n 'water',\n 'those',\n 'really',\n 'army',\n 'am',\n 'school',\n 'mh370',\n 'death',\n 'right',\n 'pm',\n 'black',\n 'much',\n 'forest',\n 'fatal',\n '5',\n 'youre',\n 'she',\n 'northern',\n '4',\n 'live',\n 'city',\n 'bomber',\n 'wreck',\n 'hot',\n 'great',\n 'every',\n '2015',\n 'old',\n 'let',\n 'legionnaires',\n 'fear',\n 'obama',\n 'latest',\n 'homes',\n 'flames',\n 'come',\n '1',\n 'never',\n 'getting',\n 'flood',\n '\\x89Û',\n 'where',\n 'said',\n 'japan',\n 'shit',\n 'floods',\n 'during',\n 'atomic',\n 'god',\n 'damage',\n 'under',\n 'near',\n 'feel',\n 'ever',\n 'earthquake',\n 'ass',\n 'which',\n 'since',\n 'read',\n 'oil',\n 'night',\n 'most',\n 'military',\n 'injured',\n 'hope',\n 'everyone',\n 'coming',\n 'any',\n 'without',\n 'while',\n 'well',\n 'thats',\n 'stop',\n 'next',\n 'hit',\n 'weather',\n 'these',\n 'state',\n 'little',\n 'flooding',\n 'evacuation',\n 'before',\n 'truck',\n 'severe',\n 's',\n 'content',\n 'always',\n 'until',\n 'top',\n 'through',\n 'smoke',\n 'plan',\n 'found',\n 'confirmed',\n 'cause',\n 'movie',\n 'fucking',\n 'face',\n 'debris',\n 'bloody',\n 'bad',\n 'weapon',\n 'warning',\n 'times',\n 'thunderstorm',\n 'set',\n 'says',\n 'natural',\n 'malaysia',\n 'liked',\n 'ive',\n 'gonna',\n 'free',\n 'fall',\n 'thunder',\n 'theres',\n 'sinking',\n 'saudi',\n 'refugees',\n 'made',\n 'loud',\n 'looks',\n 'injuries',\n 'house',\n 'hes',\n 'heat',\n 'cross',\n 'also',\n 'air',\n 'w',\n 'screaming',\n 'rain',\n 'murder',\n 'head',\n 'failure',\n 'explode',\n 'check',\n 'wreckage',\n 'wind',\n 'wild',\n 'trapped',\n 'survive',\n 'spill',\n 'reddit',\n 'panic',\n 'missing',\n 'lightning',\n 'family',\n 'change',\n 'whole',\n 'weapons',\n 'terrorist',\n 'service',\n 'run',\n 'rescuers',\n 'report',\n 'released',\n 'photo',\n 'outbreak',\n 'ill',\n 'food',\n 'evacuate',\n 'end',\n 'destroyed',\n 'deaths',\n 'boy',\n 'again',\n '70',\n 'terrorism',\n 'sinkhole',\n 'services',\n 'save',\n 'road',\n 'rescue',\n 'migrants',\n 'keep',\n 'high',\n 'harm',\n 'danger',\n 'county',\n 'collided',\n 'blood',\n 'big',\n 'bags',\n 'twister',\n 'trauma',\n 'tonight',\n 'summer',\n 'ruin',\n 'mosque',\n 'lives',\n 'least',\n 'hail',\n 'girl',\n 'fuck',\n 'fatalities',\n 'does',\n 'derailment',\n 'curfew',\n 'collapsed',\n 'charged',\n 'call',\n 'burned',\n 'breaking',\n 'boat',\n 'bag',\n 'attacked',\n 'ambulance',\n 'wrecked',\n 'wounded',\n 'white',\n 'week',\n 'update',\n 'things',\n 'structural',\n 'stock',\n 'someone',\n 'show',\n 'rioting',\n 'real',\n 'phone',\n 'mudslide',\n 'landslide',\n 'investigators',\n 'explosion',\n 'engulfed',\n 'displaced',\n 'devastation',\n 'destroy',\n 'deluge',\n 'crashed',\n 'catastrophe',\n 'bus',\n 'battle',\n 'away',\n 'area',\n 'apocalypse',\n 'whirlwind',\n 'survivors',\n 'survived',\n 'sunk',\n 'saw',\n 'sandstorm',\n 'post',\n 'other',\n 'massacre',\n 'island',\n 'injury',\n 'id',\n 'hundreds',\n 'hostages',\n 'horrible',\n 'hazardous',\n 'hazard',\n 'game',\n 'exploded',\n 'drought',\n 'bridge',\n 'bang',\n '40',\n 'windstorm',\n 'went',\n 'wave',\n 'soon',\n 'rescued',\n 'quarantined',\n 'national',\n 'market',\n 'kills',\n 'hurricane',\n 'heard',\n 'drowning',\n 'drown',\n 'detonate',\n 'destruction',\n 'derail',\n 'cliff',\n 'bombed',\n 'blown',\n 'around',\n 'airplane',\n '6',\n '\\x89ÛÒ',\n 'wounds',\n 'woman',\n 'trouble',\n 'traumatised',\n 'tragedy',\n 'thing',\n 'story',\n 'screams',\n 'put',\n 'past',\n 'ok',\n 'iran',\n 'inundated',\n 'group',\n 'flattened',\n 'fedex',\n 'caused',\n 'came',\n 'better',\n 'august',\n 'armageddon',\n 'anniversary',\n '15',\n 'women',\n 'wanna',\n 'violent',\n 'typhoon',\n 'tsunami',\n 'thank',\n 'security',\n 'razed',\n 'possible',\n 'meltdown',\n 'lot',\n 'isis',\n 'hostage',\n 'famine',\n 'electrocuted',\n 'ebay',\n 'dust',\n 'crush',\n 'collide',\n 'chemical',\n 'blew',\n 'bleeding',\n 'bioterror',\n 'against',\n 'zone',\n 'whats',\n 'use',\n 'twitter',\n 'tomorrow',\n 'sure',\n 'something',\n 'send',\n 'quarantine',\n 'plane',\n 'pkk',\n 'part',\n 'panicking',\n 'pandemonium',\n 'oh',\n 'must',\n 'longer',\n 'long',\n 'left',\n 'hijacker',\n 'heart',\n 'government',\n 'goes',\n 'due',\n 'didnt',\n 'detonated',\n 'desolation',\n 'collision',\n 'catastrophic',\n 'casualties',\n 'calgary',\n 'building',\n 'beautiful',\n 'bagging',\n 'affected',\n 'yet',\n 'volcano',\n 'very',\n 'thanks',\n 'st',\n 'screamed',\n 'river',\n 'riot',\n 'reunion',\n 'responders',\n 'red',\n 'obliteration',\n 'obliterated',\n 'nothing',\n 'music',\n 'minute',\n 'lava',\n 'land',\n 'hijacking',\n 'fatality',\n 'fan',\n 'drowned',\n 'detonation',\n 'demolish',\n 'cool',\n 'blast',\n 'believe',\n 'baby',\n 'used',\n 'ur',\n 'three',\n 'thought',\n 'sound',\n 'song',\n 'site',\n 'sirens',\n 'shoulder',\n 'seismic',\n 'same',\n 'prebreak',\n 'power',\n 'officials',\n 'obliterate',\n 'few',\n 'eyewitness',\n 'died',\n 'demolished',\n 'care',\n 'arson',\n 'airport',\n '9',\n 'turkey',\n 'traffic',\n 'such',\n 'stay',\n 'start',\n 'snowstorm',\n 'shooting',\n 'rubble',\n 'remember',\n 'rainstorm',\n 'murderer',\n 'media',\n 'making',\n 'kids',\n 'issues',\n 'israeli',\n 'india',\n 'having',\n 'far',\n 'evacuated',\n 'electrocute',\n 'doing',\n 'doesnt',\n 'derailed',\n 'demolition',\n 'crushed',\n 'brown',\n 'blazing',\n 'annihilated',\n '8',\n '7',\n '16yr',\n 'yes',\n 'wake',\n 'suspect',\n 'south',\n 'shot',\n 'reactor',\n 'policy',\n 'nowplaying',\n 'nearby',\n 'line',\n 'light',\n 'lets',\n 'leave',\n 'inside',\n 'horror',\n 'hijack',\n 'hell',\n 'health',\n 'gets',\n 'casualty',\n 'bc',\n 'already',\n 'actually',\n 'words',\n 'upheaval',\n 'trying',\n 'tornado',\n 'tell',\n 'sue',\n 'stretcher',\n 'second',\n 're\\x89Û',\n 'plans',\n 'pic',\n 'mp',\n 'men',\n 'maybe',\n 'low',\n 'lab',\n 'islam',\n 'hours',\n 'history',\n 'half',\n 'guys',\n 'fun',\n 'fight',\n 'done',\n 'deluged',\n 'declares',\n 'days',\n 'bodies',\n 'bestnaijamade',\n 'anything',\n 'almost',\n '20',\n '\\x89ÛÓ',\n 'wont',\n 'swallowed',\n 'support',\n 'street',\n 'searching',\n 'reuters',\n 'play',\n 'place',\n 'photos',\n 'person',\n 'peace',\n 'online',\n 'north',\n 'literally',\n 'hey',\n 'helicopter',\n 'find',\n 'cyclone',\n 'crews',\n 'business',\n 'bush',\n 'both',\n 'bioterrorism',\n 'bar',\n 'avalanche',\n 'aircraft',\n 'abc',\n '50',\n 'yeah',\n 'west',\n 'wait',\n 'typhoondevastated',\n 'theyre',\n 'siren',\n 'saipan',\n 'pick',\n 'name',\n 'money',\n 'la',\n 'kill',\n 'job',\n 'hellfire',\n 'hear',\n 'happy',\n 'eyes',\n 'die',\n 'data',\n 'conclusively',\n 'children',\n 'blight',\n 'blaze',\n 'ago',\n 'waves',\n 'trench',\n 'texas',\n 'team',\n 'space',\n 'projected',\n 'probably',\n 'picking',\n 'own',\n 'order',\n 'myself',\n 'memories',\n 'major',\n 'm',\n 'lost',\n 'jobs',\n 'hollywood',\n 'feared',\n 'effect',\n 'deal',\n 'd',\n 'center',\n 'case',\n 'book',\n 'bigger',\n 'anyone',\n 'american',\n 'ablaze',\n '12',\n '10',\n 'yourself',\n 'watching',\n 'tv',\n 'transport',\n 'town',\n 'spot',\n 'soudelor',\n 'ship',\n 'seen',\n 'saved',\n 'pretty',\n 'outside',\n 'officer',\n 'mom',\n 'miners',\n 'meek',\n 'leather',\n 'houses',\n 'hat',\n 'hard',\n 'flag',\n 'everything',\n 'daily',\n 'child',\n 'chance',\n 'called',\n 'banned',\n 'ball',\n 'annihilation',\n 'amid',\n '30',\n 'wow',\n 'trains',\n 'though',\n 'star',\n 'signs',\n 'side',\n 'shes',\n 'self',\n 'rise',\n 'refugio',\n 'rd',\n 'poor',\n 'once',\n 'okay',\n 'n',\n 'move',\n 'might',\n 'manslaughter',\n 'makes',\n 'hailstorm',\n 'gbbo',\n 'friends',\n 'flash',\n 'fast',\n 'emmerdale',\n 'east',\n 'desolate',\n 'damn',\n 'crisis',\n 'crazy',\n 'course',\n 'couple',\n 'country',\n 'costlier',\n 'centre',\n 'caught',\n 'cake',\n 'blizzard',\n 'become',\n 'angry',\n 'alone',\n 'youth',\n 'wrong',\n 'win',\n 'vs',\n 'virgin',\n 'truth',\n 'temple',\n 'sorry',\n 'reports',\n 'reason',\n 'playing',\n 'pain',\n 'omg',\n 'official',\n 'myanmar',\n 'mayhem',\n 'looking',\n 'listen',\n 'level',\n 'ladies',\n 'knock',\n 'isnt',\n 'ignition',\n 'huge',\n 'heavy',\n 'hate',\n 'guy',\n 'gun',\n 'global',\n 'finally',\n 'feeling',\n 'eye',\n 'downtown',\n 'control',\n 'computers',\n 'closed',\n 'class',\n 'beach',\n 'bbc',\n 'b',\n 'appears',\n 'across',\n '60',\n '13',\n '11yearold',\n 'yours',\n 'womens',\n 'wanted',\n 'view',\n 'usa',\n 'united',\n 'try',\n 'totally',\n 'toddler',\n 'till',\n 'thousands',\n 'takes',\n 'taken',\n 't',\n 'stand',\n 'russian',\n 'running',\n 'reddits',\n 'quiz',\n 'pay',\n 'pakistan',\n 'others',\n 'mop',\n 'marks',\n 'mad',\n 'link',\n 'libya',\n 'issued',\n 'instead',\n 'happened',\n 'gt',\n 'giant',\n 'gems',\n 'gave',\n 'front',\n 'follow',\n 'film',\n 'experts',\n 'else',\n 'drive',\n 'devastated',\n 'declaration',\n 'coaches',\n 'cnn',\n 'christian',\n 'anthrax',\n 'aftershock',\n '11',\n 'worst',\n 'working',\n 'village',\n 'vehicle',\n 'unconfirmed',\n 'thursday',\n 'talk',\n 'subreddits',\n 'sounds',\n 'shows',\n 'scared',\n 'ready',\n 'potus',\n 'park',\n 'niggas',\n 'neighbours',\n 'nagasaki',\n 'mount',\n 'miss',\n 'mishaps',\n 'lord',\n 'led',\n 'learn',\n 'large',\n 'landing',\n 'israel',\n 'haha',\n 'gop',\n 'germs',\n 'galactic',\n 'fukushima',\n 'following',\n 'favorite',\n 'escape',\n 'entire',\n 'ebola',\n 'driving',\n 'download',\n 'climate',\n 'chinas',\n 'china',\n 'cars',\n 'behind',\n 'aug',\n 'arsonist',\n 'aint',\n 'added',\n 'action',\n '25',\n '100',\n '05',\n 'wonder',\n 'tweet',\n 'turn',\n 'trust',\n 'tree',\n 'told',\n 'sign',\n 'safety',\n 'russia',\n 'rules',\n 'rock',\n 'reported',\n 'radio',\n 'r',\n 'pray',\n 'pradesh',\n 'ppl',\n 'point',\n 'patience',\n 'party',\n 'parole',\n 'pamela',\n 'pakistani',\n 'outrage',\n 'offensive',\n 'nws',\n 'needs',\n 'nearly',\n 'muslims',\n 'morning',\n 'moment',\n ...]"
     },
     "execution_count": 23,
     "metadata": {},
     "output_type": "execute_result"
    }
   ],
   "source": [
    "# Get unique words in the vocabulary\n",
    "words_in_vocab = text_vectorizer.get_vocabulary()\n",
    "words_in_vocab"
   ],
   "metadata": {
    "collapsed": false,
    "ExecuteTime": {
     "end_time": "2023-07-30T15:11:11.503827100Z",
     "start_time": "2023-07-30T15:11:11.481583600Z"
    }
   },
   "id": "a9796849d92692a"
  },
  {
   "cell_type": "code",
   "execution_count": 24,
   "outputs": [
    {
     "data": {
      "text/plain": "10000"
     },
     "execution_count": 24,
     "metadata": {},
     "output_type": "execute_result"
    }
   ],
   "source": [
    "len(words_in_vocab)"
   ],
   "metadata": {
    "collapsed": false,
    "ExecuteTime": {
     "end_time": "2023-07-30T15:11:11.503827100Z",
     "start_time": "2023-07-30T15:11:11.498603Z"
    }
   },
   "id": "1fc1d49d18c2f968"
  },
  {
   "cell_type": "code",
   "execution_count": 25,
   "outputs": [
    {
     "data": {
      "text/plain": "['', '[UNK]', 'the', 'a', 'in']"
     },
     "execution_count": 25,
     "metadata": {},
     "output_type": "execute_result"
    }
   ],
   "source": [
    "# Top 5 words in words_in_vocab\n",
    "words_in_vocab[:5]"
   ],
   "metadata": {
    "collapsed": false,
    "ExecuteTime": {
     "end_time": "2023-07-30T15:11:11.510117700Z",
     "start_time": "2023-07-30T15:11:11.502096500Z"
    }
   },
   "id": "60913b2c06167547"
  },
  {
   "cell_type": "code",
   "execution_count": 26,
   "outputs": [
    {
     "data": {
      "text/plain": "['pakthey', 'pakistan\\x89Ûªs', 'pakistans', 'pajamas', 'paints']"
     },
     "execution_count": 26,
     "metadata": {},
     "output_type": "execute_result"
    }
   ],
   "source": [
    "# Least 5 words in words_in_vocab\n",
    "words_in_vocab[-5:]"
   ],
   "metadata": {
    "collapsed": false,
    "ExecuteTime": {
     "end_time": "2023-07-30T15:11:11.510797200Z",
     "start_time": "2023-07-30T15:11:11.505830800Z"
    }
   },
   "id": "4b66d97a81a1ab9b"
  },
  {
   "cell_type": "markdown",
   "source": [
    "### Embedding layer\n",
    "\n",
    "To make our embedding, we are going to use TensorFlow’s embedding layer: https://www.tensorflow.org/api/docs/python/tf/keras/layers/\n",
    "\n",
    "The parameters are below mostly used.\n",
    "* input_dim = size of the vocabulary\n",
    "* output_dim = size of the output embedding vector.  For example, a value of 100 would mean each token gets represented by a vector 100 long\n",
    "* input_length = length of the sequences being passed to the embedding layer"
   ],
   "metadata": {
    "collapsed": false,
    "ExecuteTime": {
     "end_time": "2023-07-30T14:51:02.021586300Z",
     "start_time": "2023-07-30T14:51:02.009608800Z"
    }
   },
   "id": "4d47ece46e5b3070"
  },
  {
   "cell_type": "code",
   "execution_count": 27,
   "outputs": [],
   "source": [
    "from tensorflow.keras import layers\n",
    "\n",
    "embedding = layers.Embedding(input_dim = max_vocab_length,\n",
    "                             output_dim = 64,\n",
    "                             embeddings_initializer = \"uniform\",\n",
    "                             input_length = max_length)"
   ],
   "metadata": {
    "collapsed": false,
    "ExecuteTime": {
     "end_time": "2023-07-30T15:11:11.513303700Z",
     "start_time": "2023-07-30T15:11:11.511300500Z"
    }
   },
   "id": "55b4d3e382cb85d7"
  },
  {
   "cell_type": "code",
   "execution_count": 28,
   "outputs": [
    {
     "name": "stdout",
     "output_type": "stream",
     "text": [
      "Original text: There is no greater tragedy than becoming comfortable with where you are in life.\n",
      "\n",
      "Vectorized text: [[  75    9   41    1  454   78 4101    1   14  208   12   21    4  122\n",
      "     0]]\n",
      "\n",
      "Vectorized text shape: (1, 15)\n",
      "Embbedded text: [[[ 1.26075782e-02  2.85288356e-02  4.39691804e-02  2.18316168e-03\n",
      "    4.58868407e-02  1.05042085e-02 -1.80365555e-02 -3.05623934e-03\n",
      "   -3.41365710e-02 -2.00509783e-02 -1.34960040e-02  2.74082161e-02\n",
      "    2.83643119e-02  3.57388519e-02 -4.94100899e-03  2.17640139e-02\n",
      "    1.65640227e-02  3.22681330e-02 -4.29302454e-02  2.52962969e-02\n",
      "    2.96481363e-02 -3.22423130e-03 -3.28739658e-02 -1.99830532e-03\n",
      "   -4.73808534e-02 -2.99576763e-02 -2.39703897e-02 -1.91247351e-02\n",
      "   -9.51079279e-03 -1.97924133e-02 -3.11579704e-02 -4.25532945e-02\n",
      "   -6.57411665e-03 -3.39848883e-02 -4.89907637e-02  3.96311283e-03\n",
      "    4.21259142e-02 -7.21549988e-03  7.58897141e-03  4.22671475e-02\n",
      "    1.32018663e-02 -3.43545303e-02  1.08594783e-02  5.91820478e-03\n",
      "   -4.08825502e-02  3.06278504e-02  4.90170456e-02 -4.18367237e-03\n",
      "   -2.59721167e-02  2.74857022e-02  3.14468481e-02  2.55303718e-02\n",
      "    3.02015804e-02  2.36708857e-02 -2.69822609e-02  4.54664342e-02\n",
      "   -1.30443573e-02  6.45598024e-03  3.87236141e-02 -1.37794837e-02\n",
      "    4.22775187e-02  4.13504876e-02 -1.95779093e-02 -1.35652646e-02]\n",
      "  [ 4.03831713e-02 -2.98139341e-02 -2.47565657e-03  1.71785615e-02\n",
      "   -7.99228996e-03  3.15313675e-02 -3.55893373e-02 -2.45403051e-02\n",
      "   -4.46277969e-02  2.77274586e-02 -3.68685015e-02  4.87590693e-02\n",
      "    4.52949889e-02  5.79487160e-03  2.09637918e-02  4.26536240e-02\n",
      "    4.44969051e-02 -2.63097174e-02 -2.98843272e-02  3.12785394e-02\n",
      "   -2.62759458e-02 -1.49215944e-02  1.97543167e-02  2.52645947e-02\n",
      "   -2.38173734e-02  4.73289005e-02  2.75867842e-02 -4.77983840e-02\n",
      "   -3.86618376e-02  4.72339727e-02 -4.54968102e-02 -3.71554978e-02\n",
      "    2.80762203e-02  4.29009087e-02  2.50063092e-03 -2.00373419e-02\n",
      "   -1.42224878e-03 -1.31662712e-02  7.52722099e-03  6.65196031e-03\n",
      "    2.89343260e-02  5.06277010e-03  1.83087327e-02 -3.16111930e-02\n",
      "    3.19591798e-02  1.69070475e-02  4.45096008e-02  1.03039667e-03\n",
      "    4.84923013e-02  4.60962541e-02 -1.37292743e-02 -4.08951417e-02\n",
      "   -9.53875855e-03  2.89374925e-02  2.64613666e-02  4.12764661e-02\n",
      "   -4.89946455e-03  1.86632760e-02  5.64386696e-03 -3.24959308e-02\n",
      "    2.82694809e-02 -3.88110168e-02  3.88165377e-02 -2.22207196e-02]\n",
      "  [ 9.57296044e-03  4.48912866e-02  2.47564167e-03 -4.50271629e-02\n",
      "   -4.56597097e-02 -7.13629648e-03  2.08016075e-02 -4.06721719e-02\n",
      "    2.05391683e-02 -1.27515905e-02 -1.76004991e-02  8.65697861e-04\n",
      "   -6.75319508e-03  2.45492570e-02 -6.06970862e-03  4.35551889e-02\n",
      "    4.05709036e-02  2.96696760e-02  4.06982563e-02  3.92774977e-02\n",
      "   -1.95870642e-02  1.62247680e-02  2.55663879e-02  2.94879824e-03\n",
      "    2.17467062e-02 -5.37834316e-03  2.68508457e-02  5.30557707e-03\n",
      "   -2.51118429e-02  3.64897363e-02 -1.02613345e-02 -3.10172196e-02\n",
      "    1.84339285e-03 -2.43080612e-02 -9.02197510e-03 -4.60184216e-02\n",
      "    3.21541466e-02  6.94543123e-03 -4.54355367e-02 -3.22690494e-02\n",
      "    3.10404226e-03  3.53512652e-02  1.36581101e-02 -3.80217060e-02\n",
      "   -4.52918075e-02  1.66169666e-02 -4.10801396e-02  4.62411307e-02\n",
      "    5.78220934e-03  1.26143545e-03  1.31651014e-03 -2.69599687e-02\n",
      "    3.58958952e-02  3.10560949e-02  2.98615433e-02 -1.72600746e-02\n",
      "    1.79342180e-03  3.36374752e-02 -1.71168558e-02  3.41703556e-02\n",
      "   -3.12931091e-02 -2.53559109e-02 -4.60723527e-02  3.62467878e-02]\n",
      "  [ 2.97619440e-02  3.89969349e-03 -1.57779083e-02  4.58376519e-02\n",
      "   -4.96204868e-02 -1.43836252e-02 -1.31494291e-02  1.09358914e-02\n",
      "    3.58798392e-02 -4.25344706e-03 -4.40284498e-02 -1.72360428e-02\n",
      "   -2.26346850e-02  3.70329954e-02 -2.44819000e-03 -1.86851993e-02\n",
      "   -1.49775147e-02  4.68866900e-03 -1.09987333e-03 -4.47824001e-02\n",
      "   -3.52107063e-02 -1.13184564e-02 -2.22476572e-03 -2.89218910e-02\n",
      "   -3.28754783e-02  6.66726381e-04 -4.91477549e-04  4.74467129e-03\n",
      "    3.44427712e-02  1.77260302e-02 -2.47301590e-02  2.55975462e-02\n",
      "   -1.04797371e-02  4.26299088e-02 -4.78551053e-02  2.17774771e-02\n",
      "   -4.34666649e-02  4.52768691e-02  4.99387719e-02 -3.05186510e-02\n",
      "    2.37115473e-03  4.82845195e-02  1.41945146e-02 -1.58362612e-02\n",
      "   -4.01802436e-02  4.89423387e-02 -2.81804446e-02  2.90023424e-02\n",
      "   -1.12606063e-02 -3.52717265e-02 -3.58747467e-02 -3.17867398e-02\n",
      "    1.91107132e-02 -4.93586063e-03  4.00841236e-03  3.69692333e-02\n",
      "    3.84389050e-02  1.29464529e-02 -3.34314704e-02 -2.81511433e-02\n",
      "   -1.35961883e-02  1.29435323e-02  4.28530090e-02 -3.40310112e-02]\n",
      "  [ 4.07425649e-02  2.06932165e-02  2.25605816e-03  2.96311453e-03\n",
      "    4.65834253e-02  2.09309161e-04  4.22049314e-04  3.70981805e-02\n",
      "   -1.22907050e-02 -4.13981564e-02  3.92729156e-02 -9.33148712e-03\n",
      "   -3.49748358e-02  3.45562771e-03 -1.80723295e-02 -1.13393776e-02\n",
      "    3.19448449e-02  3.67354639e-02 -3.89863476e-02  2.18582265e-02\n",
      "   -4.20751460e-02 -1.37599111e-02 -1.28490813e-02 -5.49299642e-03\n",
      "   -1.53266415e-02  3.59280147e-02  2.75435708e-02  3.98056172e-02\n",
      "    1.44813322e-02 -3.62902991e-02  2.69394256e-02  3.95338573e-02\n",
      "    2.83249132e-02 -3.17743905e-02  1.13997348e-02 -3.36471200e-02\n",
      "    4.66973446e-02  3.18305828e-02  1.79300047e-02  4.89245914e-02\n",
      "    5.27660921e-03  4.83356975e-02  5.64793497e-03  6.48039579e-03\n",
      "   -4.46383953e-02 -1.12027638e-02  4.43647616e-02  4.15816046e-02\n",
      "   -4.20661792e-02 -1.37630329e-02  1.20627284e-02 -5.60331345e-03\n",
      "   -2.61324774e-02 -1.28550455e-03 -3.51508744e-02 -1.93016604e-03\n",
      "    5.36826998e-03  1.87888481e-02  3.31603028e-02 -3.98129225e-02\n",
      "    1.67807601e-02 -2.26170179e-02  4.93301414e-02 -1.98261384e-02]\n",
      "  [ 7.28411600e-03 -1.73524395e-02  4.00843956e-02 -3.05815693e-02\n",
      "   -1.73387676e-03 -1.81852803e-02  6.45685941e-04 -1.75613984e-02\n",
      "    3.33968736e-02  4.61246409e-02  1.37299336e-02  2.01235451e-02\n",
      "   -3.40326577e-02 -9.59845632e-03  9.75711271e-03 -3.06648742e-02\n",
      "   -8.49260017e-03  9.13815573e-03  1.28886960e-02 -4.81764935e-02\n",
      "   -8.21139663e-03  8.44103098e-03 -1.10057592e-02 -4.11717668e-02\n",
      "    4.05113138e-02 -4.45711613e-03  4.38309647e-02 -4.28870432e-02\n",
      "   -3.02647948e-02 -3.41439396e-02 -3.71134765e-02  3.16811912e-02\n",
      "   -4.41389680e-02 -4.22466546e-04  3.66472043e-02  5.19406796e-03\n",
      "   -3.64912152e-02  4.83007319e-02 -2.42339857e-02 -4.90307696e-02\n",
      "    2.16999687e-02 -4.82185595e-02 -4.01867516e-02 -2.86828279e-02\n",
      "   -7.83392042e-03  3.73448469e-02 -4.28570285e-02 -5.88608906e-03\n",
      "    1.25309862e-02  1.61248930e-02  5.22350147e-03 -1.14794821e-03\n",
      "   -2.52077579e-02  3.81511487e-02  1.67108513e-02  2.19552033e-02\n",
      "   -4.46243398e-02  2.79898159e-02 -2.03058477e-02 -7.21427053e-03\n",
      "   -6.22059032e-03  2.02868693e-02 -4.10241000e-02 -9.84809548e-03]\n",
      "  [-4.19224985e-02 -3.19885388e-02  5.64544275e-03  1.58821680e-02\n",
      "    4.95748855e-02 -3.81537192e-02  1.38570406e-02 -2.89114565e-03\n",
      "   -7.91054964e-03 -1.78169012e-02 -3.59460115e-02  3.94078158e-02\n",
      "    3.69254835e-02  2.85833590e-02  8.09710100e-03  2.12971605e-02\n",
      "   -4.61882949e-02  2.98511237e-04  4.15319093e-02 -4.27547842e-03\n",
      "    4.77002896e-02  2.82258913e-03 -4.98933196e-02  4.31450717e-02\n",
      "    1.47008635e-02  4.30007093e-02 -5.46599552e-03 -3.07980534e-02\n",
      "   -2.15550512e-03 -1.98173653e-02 -4.57685068e-03  3.78702991e-02\n",
      "   -1.46659464e-03  1.25120394e-02 -1.67544708e-02 -1.69785731e-02\n",
      "   -2.81527881e-02  3.58429886e-02 -2.86323316e-02  1.71851628e-02\n",
      "    1.77821033e-02  2.63937153e-02  3.66269387e-02  1.12329610e-02\n",
      "   -1.98880788e-02  4.06816714e-02  1.84039026e-03  1.01710185e-02\n",
      "   -3.72984521e-02  3.59574296e-02 -2.18464378e-02  3.21798213e-02\n",
      "   -3.45709436e-02 -2.50451099e-02  4.29904349e-02 -1.93820130e-02\n",
      "    2.62272246e-02 -4.97809313e-02 -3.60736623e-02 -4.72376235e-02\n",
      "    2.90540196e-02  3.50249149e-02  3.36438157e-02 -2.12697741e-02]\n",
      "  [ 2.97619440e-02  3.89969349e-03 -1.57779083e-02  4.58376519e-02\n",
      "   -4.96204868e-02 -1.43836252e-02 -1.31494291e-02  1.09358914e-02\n",
      "    3.58798392e-02 -4.25344706e-03 -4.40284498e-02 -1.72360428e-02\n",
      "   -2.26346850e-02  3.70329954e-02 -2.44819000e-03 -1.86851993e-02\n",
      "   -1.49775147e-02  4.68866900e-03 -1.09987333e-03 -4.47824001e-02\n",
      "   -3.52107063e-02 -1.13184564e-02 -2.22476572e-03 -2.89218910e-02\n",
      "   -3.28754783e-02  6.66726381e-04 -4.91477549e-04  4.74467129e-03\n",
      "    3.44427712e-02  1.77260302e-02 -2.47301590e-02  2.55975462e-02\n",
      "   -1.04797371e-02  4.26299088e-02 -4.78551053e-02  2.17774771e-02\n",
      "   -4.34666649e-02  4.52768691e-02  4.99387719e-02 -3.05186510e-02\n",
      "    2.37115473e-03  4.82845195e-02  1.41945146e-02 -1.58362612e-02\n",
      "   -4.01802436e-02  4.89423387e-02 -2.81804446e-02  2.90023424e-02\n",
      "   -1.12606063e-02 -3.52717265e-02 -3.58747467e-02 -3.17867398e-02\n",
      "    1.91107132e-02 -4.93586063e-03  4.00841236e-03  3.69692333e-02\n",
      "    3.84389050e-02  1.29464529e-02 -3.34314704e-02 -2.81511433e-02\n",
      "   -1.35961883e-02  1.29435323e-02  4.28530090e-02 -3.40310112e-02]\n",
      "  [ 1.61984079e-02  5.22872061e-03  1.36182643e-02 -7.39835203e-04\n",
      "    3.33301462e-02 -4.13049087e-02  8.49594921e-03  2.34940164e-02\n",
      "    1.84439085e-02 -1.72168836e-02  4.19264175e-02  2.83423327e-02\n",
      "   -5.25610521e-03 -4.61722612e-02 -2.79136430e-02  4.35797460e-02\n",
      "    4.87943999e-02 -2.70635486e-02  7.69671053e-03  3.64959277e-02\n",
      "    1.45238079e-02 -3.96666154e-02 -4.23645973e-03  2.56290324e-02\n",
      "   -3.17788348e-02 -3.69445682e-02 -3.02007087e-02 -4.83577959e-02\n",
      "   -9.95821878e-03  4.12410386e-02 -1.79711729e-03  2.25269794e-03\n",
      "   -4.48442698e-02  1.08168237e-02  1.07956640e-02 -1.22068524e-02\n",
      "   -4.17785645e-02  2.90496685e-02  4.64333929e-02  1.41914375e-02\n",
      "    3.37643959e-02  3.75104435e-02 -1.76699385e-02  3.37236002e-03\n",
      "   -1.61415115e-02  1.05482452e-02  1.62348859e-02 -1.77012682e-02\n",
      "    3.36808227e-02  2.63895057e-02  2.23553665e-02  2.44966485e-02\n",
      "   -9.20704752e-03  4.13415916e-02  3.40653770e-02 -7.84531981e-03\n",
      "    7.53785297e-03  4.80623730e-02  4.92602699e-02  3.70172746e-02\n",
      "    1.84016936e-02  1.43867768e-02 -2.63505336e-02  1.88096054e-02]\n",
      "  [ 2.88759582e-02  3.54641341e-02 -3.55449691e-02 -3.70161310e-02\n",
      "    1.87256075e-02 -2.04335898e-04  2.92876698e-02  1.12545267e-02\n",
      "   -4.96642701e-02 -3.70759368e-02  4.84973826e-02  3.18772458e-02\n",
      "    4.03186567e-02  7.22652674e-03  5.65250963e-03 -1.93112250e-02\n",
      "    3.51985358e-02  1.40845291e-02 -3.15943249e-02  1.67603418e-03\n",
      "    3.23245190e-02 -2.25694180e-02 -4.69770208e-02  2.20634826e-02\n",
      "   -3.04090511e-02 -3.39068994e-02 -3.50610018e-02 -2.38878485e-02\n",
      "    1.81237496e-02 -3.79611738e-02  2.28381157e-03 -2.74573918e-02\n",
      "    2.88783573e-02 -2.68174652e-02 -3.75778452e-02  2.62579806e-02\n",
      "    2.93278210e-02  2.39229240e-02 -3.93695235e-02  4.46055196e-02\n",
      "    2.49075927e-02 -2.64524575e-02 -2.42334604e-03 -4.73050475e-02\n",
      "    1.38061382e-02  4.14092652e-02  4.28062938e-02  4.48436663e-03\n",
      "    4.88949083e-02  7.76393339e-03  5.28614596e-03 -1.06722936e-02\n",
      "    2.68077888e-02  4.15751822e-02 -2.54038107e-02 -2.99222395e-03\n",
      "   -3.01988050e-03 -9.52865928e-03 -1.11795552e-02 -3.04577351e-02\n",
      "    9.28848982e-03  4.09926437e-02  3.38065736e-02 -4.07733209e-02]\n",
      "  [ 2.72428729e-02 -2.67979261e-02 -2.71010529e-02  3.52509283e-02\n",
      "   -4.03055660e-02 -4.41833027e-02  4.72975634e-02  3.76255624e-02\n",
      "    6.21763617e-03 -2.27381475e-02 -3.27741988e-02 -1.61750428e-02\n",
      "   -1.68850422e-02 -2.69364566e-04 -2.75354870e-02 -4.77443933e-02\n",
      "   -2.26314310e-02  6.81110471e-03 -3.65091562e-02 -2.00478919e-02\n",
      "   -4.79075313e-02  2.01825537e-02  3.19239981e-02  4.06163596e-02\n",
      "    3.16938423e-02 -3.95709276e-02  6.18483871e-03 -3.10799833e-02\n",
      "   -1.33400336e-02 -4.44957614e-02  5.41809946e-03 -1.32192485e-02\n",
      "    1.14944689e-02 -4.51396815e-02  4.10843156e-02  2.73260139e-02\n",
      "   -1.78375728e-02 -3.03171575e-04  4.16355841e-02 -1.47933140e-02\n",
      "    1.97359361e-02  3.54485400e-02 -4.55955155e-02 -4.40036170e-02\n",
      "   -4.77095358e-02 -2.54141688e-02  2.53112055e-02 -1.17944703e-02\n",
      "   -6.33316115e-03 -8.15121084e-03  4.66827638e-02 -4.06032801e-02\n",
      "    4.92064618e-02 -1.30761042e-02  2.89774798e-02  7.19015673e-03\n",
      "   -2.33838707e-03  1.25818960e-02  2.84060352e-02 -4.22709696e-02\n",
      "   -2.01914068e-02  6.55156374e-03 -2.28355657e-02  4.35616039e-02]\n",
      "  [-1.87396631e-02 -1.71491392e-02 -2.99005862e-02 -4.00867946e-02\n",
      "    4.79708649e-02  2.45956220e-02 -3.05028092e-02  2.48126276e-02\n",
      "   -1.92415360e-02 -6.10096380e-03 -8.25367123e-03  1.88371427e-02\n",
      "    1.65923722e-02  2.15939321e-02  2.67469175e-02 -4.08706069e-02\n",
      "   -4.50839400e-02 -2.98576001e-02 -4.76082452e-02  3.97333764e-02\n",
      "   -8.05164501e-03  3.68770212e-03  2.73071788e-02  3.59290279e-02\n",
      "    4.22969460e-05  3.78009789e-02  4.68184799e-03 -1.54642016e-03\n",
      "    1.18495226e-02  8.15691799e-03 -2.78147589e-02  4.83306162e-02\n",
      "   -4.77115512e-02 -1.22243389e-02  2.60476954e-02 -3.04538850e-02\n",
      "    1.30598880e-02  1.13296509e-02 -1.32815242e-02 -2.67446525e-02\n",
      "    2.72530802e-02  6.22309372e-03  2.65687220e-02 -2.98269149e-02\n",
      "    2.34685838e-04 -6.35850430e-03  1.07557178e-02 -2.71701813e-03\n",
      "   -2.11932510e-03  3.60547379e-03  1.36687048e-02  2.18377262e-03\n",
      "    1.18193738e-02 -2.44549513e-02  2.50063427e-02 -2.34326962e-02\n",
      "    3.69793177e-03  2.31175683e-02 -2.87231207e-02 -1.89764258e-02\n",
      "   -4.65943478e-02  3.82465757e-02 -7.58356974e-03  4.14986350e-02]\n",
      "  [ 2.62665264e-02  4.40849774e-02 -1.14453956e-03  3.57267372e-02\n",
      "    4.51860465e-02  4.37265672e-02  3.69706787e-02 -2.75341868e-02\n",
      "    4.68926318e-02  3.17376517e-02  2.36817859e-02  3.26257832e-02\n",
      "   -1.45246498e-02 -4.03515100e-02 -3.91498581e-02 -3.03703193e-02\n",
      "    4.01262380e-02 -1.10456124e-02  1.00218132e-03 -8.99143144e-03\n",
      "    5.95195219e-03 -5.20764664e-03  3.87305282e-02  4.74543236e-02\n",
      "    3.87356021e-02  6.64136559e-03 -2.86351927e-02  2.84047984e-02\n",
      "   -3.44131477e-02  1.53408907e-02 -4.56416607e-03  4.06354554e-02\n",
      "   -2.99141537e-02 -1.03188679e-03 -4.15679812e-02  1.97924636e-02\n",
      "    3.33441757e-02  1.49889030e-02 -1.88558586e-02  2.56577395e-02\n",
      "    4.47634719e-02  3.11959498e-02 -1.49417408e-02 -4.62621227e-02\n",
      "    1.42670162e-02 -2.42175460e-02  2.39670388e-02 -2.00755354e-02\n",
      "   -2.17702519e-02 -4.31898236e-02  2.23337673e-02 -4.10694592e-02\n",
      "   -4.78609093e-02  4.84174751e-02  1.68390609e-02  3.65981497e-02\n",
      "   -1.46758780e-02  1.59722678e-02  3.69685628e-02 -2.88429502e-02\n",
      "    2.66985036e-02  2.81003751e-02 -2.11725589e-02  2.40714066e-02]\n",
      "  [-3.40128541e-02 -4.93398793e-02 -4.60947752e-02  3.75602581e-02\n",
      "   -1.71023235e-02 -1.64913051e-02  1.28805749e-02 -4.66557033e-02\n",
      "    3.86789776e-02  2.38266326e-02  3.33333276e-02  1.52865797e-03\n",
      "    2.43497603e-02 -3.31543684e-02 -1.76953152e-03 -3.18749696e-02\n",
      "   -4.41187620e-03  4.28755917e-02  2.96408422e-02 -3.60532850e-03\n",
      "   -5.77597693e-03  5.45496866e-03 -3.45429666e-02  2.55836509e-02\n",
      "   -3.10931560e-02 -4.71076146e-02 -1.73512846e-03 -3.91992331e-02\n",
      "   -4.00488973e-02  1.32249109e-02  3.39979194e-02  4.58619744e-03\n",
      "   -3.89932021e-02  3.22069265e-02  1.94441937e-02 -4.87321876e-02\n",
      "   -1.53568983e-02 -2.56914254e-02 -3.94326337e-02  2.15719379e-02\n",
      "    3.08300368e-02  4.05568369e-02  3.73438708e-02 -1.34891868e-02\n",
      "    1.49893500e-02  7.35573843e-03  4.10232805e-02  1.56753324e-02\n",
      "   -3.57285850e-02  3.06370370e-02 -1.52659044e-02  4.92257215e-02\n",
      "    4.95388992e-02  1.29448064e-02  2.57942118e-02 -4.00109217e-03\n",
      "   -1.22575387e-02 -4.41105142e-02  4.30796184e-02 -1.00655183e-02\n",
      "   -1.67164318e-02  4.08717506e-02 -8.93075392e-03  4.87108119e-02]\n",
      "  [ 2.13533677e-02  5.03023714e-03 -9.85477120e-03 -4.13777120e-02\n",
      "   -4.86642011e-02 -2.14900021e-02  4.24070619e-02 -2.03741714e-03\n",
      "    3.66376899e-02  3.86751629e-02 -2.80173775e-02  3.49699520e-02\n",
      "    2.83882506e-02 -3.28562483e-02 -4.71335426e-02 -1.85242407e-02\n",
      "    2.30153464e-02  2.25111879e-02 -1.80116780e-02  2.41703056e-02\n",
      "    8.70018080e-03  1.47003271e-02 -2.72430666e-02  4.30135019e-02\n",
      "    4.54264320e-02 -3.92335057e-02 -1.34389400e-02  3.03314589e-02\n",
      "    2.58048438e-02  2.49295309e-03  4.99069355e-02 -4.05299179e-02\n",
      "   -8.65750387e-03 -1.62030682e-02  4.96268161e-02  9.98727232e-03\n",
      "    4.91911508e-02  4.56396677e-02  3.26511525e-02 -1.18271708e-02\n",
      "    4.15506400e-02  1.53864287e-02  1.33802742e-03  3.97243835e-02\n",
      "    2.89044119e-02 -2.96739228e-02 -3.59379426e-02 -1.82961598e-02\n",
      "   -1.89617164e-02 -3.28476429e-02  3.64468433e-02 -1.34756938e-02\n",
      "    2.74042375e-02 -1.74095742e-02  2.09099539e-02 -5.65279275e-04\n",
      "   -1.73695683e-02 -7.84654543e-03 -2.64009722e-02  3.19385268e-02\n",
      "    3.49393003e-02  2.43424810e-02  4.10468839e-02 -1.05431303e-02]]]\n",
      "Embedded text shape: (1, 15, 64)\n"
     ]
    }
   ],
   "source": [
    "# Get a random sentence from the training set and return Original text, Vectorized text, Embedded text\n",
    "rand_sentence = random.choice(train_sentences)\n",
    "print(f\"Original text: {rand_sentence}\\n\")\n",
    "print(f\"Vectorized text: {text_vectorizer([rand_sentence])}\\n\")\n",
    "print(f\"Vectorized text shape: {text_vectorizer([rand_sentence]).shape}\")\n",
    "print(f\"Embbedded text: {embedding(text_vectorizer([rand_sentence]))}\")\n",
    "print(f\"Embedded text shape: {embedding(text_vectorizer([rand_sentence])).shape}\")"
   ],
   "metadata": {
    "collapsed": false,
    "ExecuteTime": {
     "end_time": "2023-07-30T15:11:11.548619200Z",
     "start_time": "2023-07-30T15:11:11.513303700Z"
    }
   },
   "id": "2d8028a4f822acb"
  },
  {
   "cell_type": "markdown",
   "source": [
    "### Model_4: Bidirectional-LSTM Model (RNN)"
   ],
   "metadata": {
    "collapsed": false,
    "ExecuteTime": {
     "end_time": "2023-07-30T14:51:02.669389500Z",
     "start_time": "2023-07-30T14:51:02.041774900Z"
    }
   },
   "id": "33d485e13722e750"
  },
  {
   "cell_type": "code",
   "execution_count": 29,
   "outputs": [],
   "source": [
    "# Build a Bidirectional RNN using tf\n",
    "from tensorflow.keras import layers\n",
    "inputs = layers.Input(shape= (1,), dtype = tf.string)\n",
    "x = text_vectorizer(inputs)\n",
    "x = embedding(x)\n",
    "x = layers.Bidirectional(layers.LSTM(64, return_sequences = True))(x)\n",
    "x = layers.Bidirectional(layers.GRU(64))(x)\n",
    "outputs = layers.Dense(1, activation = 'sigmoid')(x)\n",
    "model_4 = tf.keras.Model(inputs, outputs, name = \"model_4_bidirectional\")\n",
    "\n",
    "# Compile the model\n",
    "model_4.compile(loss = 'binary_crossentropy',\n",
    "                optimizer=tf.keras.optimizers.Adam(),\n",
    "                metrics = ['accuracy'])"
   ],
   "metadata": {
    "collapsed": false,
    "ExecuteTime": {
     "end_time": "2023-07-30T15:11:12.075076900Z",
     "start_time": "2023-07-30T15:11:11.545609Z"
    }
   },
   "id": "c0b8b724636249a4"
  },
  {
   "cell_type": "code",
   "execution_count": 30,
   "outputs": [
    {
     "name": "stdout",
     "output_type": "stream",
     "text": [
      "Model: \"model_4_bidirectional\"\n",
      "_________________________________________________________________\n",
      " Layer (type)                Output Shape              Param #   \n",
      "=================================================================\n",
      " input_1 (InputLayer)        [(None, 1)]               0         \n",
      "                                                                 \n",
      " text_vectorization (TextVe  (None, 15)                0         \n",
      " ctorization)                                                    \n",
      "                                                                 \n",
      " embedding (Embedding)       (None, 15, 64)            640000    \n",
      "                                                                 \n",
      " bidirectional (Bidirection  (None, 15, 128)           66048     \n",
      " al)                                                             \n",
      "                                                                 \n",
      " bidirectional_1 (Bidirecti  (None, 128)               74496     \n",
      " onal)                                                           \n",
      "                                                                 \n",
      " dense (Dense)               (None, 1)                 129       \n",
      "                                                                 \n",
      "=================================================================\n",
      "Total params: 780673 (2.98 MB)\n",
      "Trainable params: 780673 (2.98 MB)\n",
      "Non-trainable params: 0 (0.00 Byte)\n",
      "_________________________________________________________________\n"
     ]
    }
   ],
   "source": [
    "model_4.summary()"
   ],
   "metadata": {
    "collapsed": false,
    "ExecuteTime": {
     "end_time": "2023-07-30T15:11:12.097218800Z",
     "start_time": "2023-07-30T15:11:12.075076900Z"
    }
   },
   "id": "73ee477f660ec758"
  },
  {
   "cell_type": "code",
   "execution_count": 31,
   "outputs": [
    {
     "name": "stdout",
     "output_type": "stream",
     "text": [
      "Epoch 1/5\n",
      "215/215 [==============================] - 7s 15ms/step - loss: 0.5102 - accuracy: 0.7558 - val_loss: 0.4824 - val_accuracy: 0.7664\n",
      "Epoch 2/5\n",
      "215/215 [==============================] - 2s 10ms/step - loss: 0.3137 - accuracy: 0.8689 - val_loss: 0.5115 - val_accuracy: 0.7822\n",
      "Epoch 3/5\n",
      "215/215 [==============================] - 2s 11ms/step - loss: 0.2079 - accuracy: 0.9209 - val_loss: 0.6000 - val_accuracy: 0.7625\n",
      "Epoch 4/5\n",
      "215/215 [==============================] - 3s 12ms/step - loss: 0.1423 - accuracy: 0.9489 - val_loss: 0.6352 - val_accuracy: 0.7612\n",
      "Epoch 5/5\n",
      "215/215 [==============================] - 3s 14ms/step - loss: 0.1075 - accuracy: 0.9656 - val_loss: 1.0132 - val_accuracy: 0.7598\n"
     ]
    }
   ],
   "source": [
    "# Fit the model\n",
    "model_4_history = model_4.fit(train_sentences,\n",
    "                              train_labels,\n",
    "                              epochs = 5,\n",
    "                              validation_data = (val_sentences, val_labels))"
   ],
   "metadata": {
    "collapsed": false,
    "ExecuteTime": {
     "end_time": "2023-07-30T15:11:29.543402Z",
     "start_time": "2023-07-30T15:11:12.088218100Z"
    }
   },
   "id": "204cbf86de80e548"
  },
  {
   "cell_type": "code",
   "execution_count": 32,
   "outputs": [
    {
     "name": "stdout",
     "output_type": "stream",
     "text": [
      "24/24 [==============================] - 1s 4ms/step\n"
     ]
    },
    {
     "data": {
      "text/plain": "array([[8.37476517e-04],\n       [7.45571917e-03],\n       [1.31698372e-02],\n       [3.82663653e-04],\n       [8.09200943e-01],\n       [8.69984552e-03],\n       [2.58309417e-04],\n       [5.36024235e-02],\n       [1.69344917e-01],\n       [9.97609019e-01],\n       [9.36134875e-01],\n       [7.80503526e-02],\n       [2.32805338e-04],\n       [1.34736355e-02],\n       [1.78580526e-02],\n       [8.58788267e-02],\n       [7.79334068e-01],\n       [3.95308511e-04],\n       [9.99916434e-01],\n       [8.62272049e-04],\n       [2.49181733e-01],\n       [9.98743594e-01],\n       [1.75687715e-01],\n       [9.75726306e-01],\n       [3.30374553e-03],\n       [5.42663224e-02],\n       [9.99594212e-01],\n       [7.69283712e-01],\n       [9.99810159e-01],\n       [3.26174166e-04],\n       [2.79099704e-03],\n       [2.00613591e-04],\n       [7.77914166e-01],\n       [5.05566120e-01],\n       [2.39427574e-02],\n       [2.61462517e-02],\n       [1.10328034e-01],\n       [2.98398472e-02],\n       [4.58436349e-04],\n       [4.39229757e-02],\n       [1.25538651e-03],\n       [9.99832690e-01],\n       [4.87010879e-03],\n       [9.74357426e-01],\n       [1.49467727e-03],\n       [3.55872617e-04],\n       [9.98797178e-01],\n       [1.55281872e-01],\n       [9.92724240e-01],\n       [9.75733936e-01],\n       [2.75566266e-03],\n       [9.99928296e-01],\n       [9.07589030e-03],\n       [5.71294725e-01],\n       [2.38297158e-03],\n       [5.86248876e-04],\n       [6.76534832e-01],\n       [1.60619005e-04],\n       [1.31558385e-02],\n       [9.49655026e-02],\n       [8.83887291e-01],\n       [2.00527292e-02],\n       [9.99846280e-01],\n       [3.50688137e-02],\n       [8.14539788e-04],\n       [3.99596810e-01],\n       [9.99743700e-01],\n       [1.55769847e-02],\n       [2.05060263e-04],\n       [9.45815933e-04],\n       [2.98418425e-04],\n       [1.21769994e-01],\n       [5.40090026e-03],\n       [9.52829068e-05],\n       [2.69428734e-02],\n       [9.42413986e-01],\n       [4.68296406e-04],\n       [9.95152056e-01],\n       [1.61975840e-04],\n       [9.97851849e-01],\n       [1.24057107e-01],\n       [2.34596850e-03],\n       [4.51617837e-01],\n       [9.99744713e-01],\n       [3.63316201e-03],\n       [1.60483681e-02],\n       [9.21167791e-01],\n       [1.24185564e-04],\n       [9.98967230e-01],\n       [4.29551005e-01],\n       [8.16643517e-03],\n       [9.73863304e-01],\n       [2.39158142e-02],\n       [4.87150848e-02],\n       [9.48300600e-01],\n       [4.13538609e-03],\n       [2.80314940e-04],\n       [4.33660025e-04],\n       [7.94750810e-01],\n       [1.17910549e-03],\n       [4.13824767e-01],\n       [4.13396629e-03],\n       [1.50767469e-03],\n       [1.10601436e-03],\n       [7.68375292e-04],\n       [3.07758301e-01],\n       [3.19700385e-03],\n       [3.70778656e-03],\n       [9.99924123e-01],\n       [1.19264396e-02],\n       [9.95899081e-01],\n       [9.99576867e-01],\n       [9.99202192e-01],\n       [4.02084529e-01],\n       [1.21625948e-04],\n       [9.45498645e-01],\n       [8.74918129e-04],\n       [9.50000226e-01],\n       [1.33305043e-01],\n       [4.55050558e-01],\n       [9.96908009e-01],\n       [1.76213741e-01],\n       [8.87172821e-04],\n       [9.99111235e-01],\n       [9.09960449e-01],\n       [3.22797988e-03],\n       [3.29045430e-02],\n       [9.99790370e-01],\n       [6.06910251e-02],\n       [5.07744262e-04],\n       [8.85186018e-04],\n       [4.55735400e-02],\n       [2.76049832e-03],\n       [9.35251042e-02],\n       [9.20033216e-01],\n       [6.79358914e-02],\n       [6.42114162e-01],\n       [8.55678599e-03],\n       [3.62801366e-02],\n       [9.99896348e-01],\n       [1.70735151e-01],\n       [4.79044318e-01],\n       [7.58392870e-01],\n       [5.45009315e-01],\n       [6.04987979e-01],\n       [1.60485666e-04],\n       [9.99793291e-01],\n       [9.17284608e-01],\n       [6.11707335e-03],\n       [5.99748129e-03],\n       [9.99079049e-01],\n       [8.81980057e-04],\n       [9.99671936e-01],\n       [9.92401421e-01],\n       [6.76534832e-01],\n       [1.93072119e-04],\n       [1.66329875e-04],\n       [9.99924421e-01],\n       [9.85426486e-01],\n       [1.51041478e-01],\n       [1.31404502e-02],\n       [3.89531255e-04],\n       [9.99652028e-01],\n       [1.35790966e-02],\n       [3.17227701e-03],\n       [9.98237193e-01],\n       [1.78209111e-01],\n       [6.14395365e-03],\n       [9.69472885e-01],\n       [1.83943950e-04],\n       [4.51218039e-01],\n       [4.99688834e-03],\n       [3.80436480e-01],\n       [9.74605560e-01],\n       [5.75847663e-02],\n       [1.68140687e-04],\n       [4.69339313e-03],\n       [9.99575198e-01],\n       [9.99568760e-01],\n       [9.67058659e-01],\n       [4.47162747e-01],\n       [4.27899562e-04],\n       [6.48976013e-04],\n       [4.13354719e-04],\n       [1.74104385e-02],\n       [7.56603181e-01],\n       [7.13989558e-03],\n       [8.87318689e-04],\n       [2.16015731e-03],\n       [2.33485116e-04],\n       [3.90977919e-04],\n       [2.22317554e-04],\n       [7.45152354e-01],\n       [3.17100319e-03],\n       [8.51556242e-01],\n       [6.36372762e-03],\n       [1.18521554e-03],\n       [9.96078491e-01],\n       [1.68784789e-03],\n       [1.12652823e-01],\n       [8.79651867e-04],\n       [1.28941072e-04],\n       [3.99632473e-03],\n       [9.92796011e-03],\n       [7.87009835e-01],\n       [1.42166775e-03],\n       [1.22365076e-02],\n       [3.49399954e-04],\n       [1.97868109e-01],\n       [2.40089241e-02],\n       [9.99145985e-01],\n       [9.78643894e-01],\n       [9.99617219e-01],\n       [9.99925852e-01],\n       [1.59061176e-03],\n       [6.93656564e-01],\n       [2.46357381e-01],\n       [9.33552206e-01],\n       [9.99750495e-01],\n       [4.49523795e-03],\n       [4.65900725e-04],\n       [8.27401400e-01],\n       [9.99840260e-01],\n       [2.00156532e-02],\n       [9.99860883e-01],\n       [4.15503561e-01],\n       [4.37755823e-01],\n       [5.42266644e-04],\n       [5.39894609e-05],\n       [3.72863352e-01],\n       [5.98372221e-01],\n       [7.65736401e-02],\n       [9.98242378e-01],\n       [7.57023022e-02],\n       [5.96231839e-04],\n       [5.33496263e-03],\n       [6.72720075e-01],\n       [2.83442643e-02],\n       [9.82568443e-01],\n       [1.83502823e-04],\n       [1.75093918e-03],\n       [9.99924004e-01],\n       [6.30824715e-02],\n       [8.08286741e-02],\n       [4.73755449e-01],\n       [4.88384115e-03],\n       [8.75771582e-01],\n       [9.95826840e-01],\n       [1.77512120e-03],\n       [6.89380050e-01],\n       [3.06959031e-03],\n       [9.99879718e-01],\n       [2.25845892e-02],\n       [9.97480631e-01],\n       [3.73572181e-03],\n       [1.99968624e-03],\n       [2.68287607e-04],\n       [9.99304473e-01],\n       [1.34428404e-03],\n       [1.01959128e-02],\n       [4.11037030e-03],\n       [9.99446332e-01],\n       [9.99672890e-01],\n       [1.73771698e-02],\n       [9.99728739e-01],\n       [9.44030821e-01],\n       [1.04540377e-03],\n       [1.33152027e-02],\n       [9.97268617e-01],\n       [9.98502553e-01],\n       [1.93416178e-02],\n       [9.97890949e-01],\n       [2.30726996e-03],\n       [5.40125940e-04],\n       [9.82548296e-01],\n       [9.04931501e-03],\n       [4.80032898e-02],\n       [9.99935746e-01],\n       [9.88197446e-01],\n       [9.99883831e-01],\n       [9.26724911e-01],\n       [9.99846280e-01],\n       [9.87096131e-01],\n       [1.54228648e-03],\n       [9.98996675e-01],\n       [9.97418344e-01],\n       [9.95596945e-01],\n       [5.66494884e-04],\n       [6.62720144e-01],\n       [1.72753874e-02],\n       [9.99700069e-01],\n       [9.98238027e-01],\n       [8.25190684e-04],\n       [1.50267209e-04],\n       [9.99228954e-01],\n       [1.32061154e-01],\n       [1.62759839e-04],\n       [9.99883831e-01],\n       [7.79334068e-01],\n       [7.06823543e-02],\n       [9.64654565e-01],\n       [5.04074842e-02],\n       [9.82975066e-01],\n       [9.99528885e-01],\n       [5.55528095e-03],\n       [9.89290237e-01],\n       [1.31819502e-01],\n       [1.58667535e-04],\n       [3.40517797e-03],\n       [5.81705011e-03],\n       [9.99727130e-01],\n       [5.45636341e-02],\n       [7.62750953e-03],\n       [9.51205015e-01],\n       [4.16530073e-02],\n       [9.87957001e-01],\n       [8.28135177e-04],\n       [5.19314257e-04],\n       [9.99816954e-01],\n       [9.99746561e-01],\n       [8.28330114e-04],\n       [4.07912135e-01],\n       [9.98706460e-01],\n       [7.78355263e-03],\n       [1.15085742e-03],\n       [2.94213504e-01],\n       [5.13855554e-03],\n       [3.45078646e-04],\n       [1.93652641e-02],\n       [9.99893725e-01],\n       [4.38163755e-03],\n       [9.99682963e-01],\n       [9.99931037e-01],\n       [3.30939377e-03],\n       [9.99663293e-01],\n       [9.89767671e-01],\n       [9.90059555e-01],\n       [9.99933720e-01],\n       [9.55936253e-01],\n       [6.37007296e-01],\n       [1.64220959e-03],\n       [3.36520793e-03],\n       [4.69436869e-02],\n       [1.75291207e-04],\n       [1.80490121e-01],\n       [3.12696589e-04],\n       [9.99752223e-01],\n       [9.99642134e-01],\n       [9.99881744e-01],\n       [3.52535117e-03],\n       [6.22274587e-03],\n       [9.99788284e-01],\n       [3.58758814e-04],\n       [5.26692206e-03],\n       [9.99341428e-01],\n       [9.53805447e-03],\n       [9.99913573e-01],\n       [1.22215739e-02],\n       [1.09287117e-04],\n       [2.04497147e-02],\n       [6.07065931e-02],\n       [9.59270597e-01],\n       [9.65775907e-01],\n       [9.19046361e-05],\n       [1.69493571e-01],\n       [2.80821882e-02],\n       [3.67129891e-04],\n       [2.99684256e-01],\n       [4.80935647e-04],\n       [1.04057603e-01],\n       [1.36919774e-03],\n       [7.80360043e-01],\n       [3.66234430e-03],\n       [4.34597552e-01],\n       [1.18601322e-02],\n       [9.99472678e-01],\n       [1.74676359e-04],\n       [2.50135809e-01],\n       [4.25749600e-01],\n       [9.63629335e-02],\n       [9.99879122e-01],\n       [3.09371483e-03],\n       [5.22578061e-02],\n       [3.59281078e-02],\n       [2.39326149e-01],\n       [9.94165540e-01],\n       [7.21178832e-04],\n       [6.25395076e-03],\n       [4.87629994e-04],\n       [6.18916587e-04],\n       [5.82311396e-03],\n       [2.39328966e-02],\n       [2.48462986e-02],\n       [1.25838101e-01],\n       [4.76186052e-02],\n       [9.98973727e-01],\n       [9.99503613e-01],\n       [9.72493529e-01],\n       [2.11097905e-03],\n       [1.51805318e-04],\n       [5.00275521e-04],\n       [4.52713758e-01],\n       [9.89741266e-01],\n       [1.17172638e-03],\n       [1.93879940e-04],\n       [9.60946679e-01],\n       [3.55948687e-01],\n       [9.99900401e-01],\n       [3.56689617e-02],\n       [9.35794652e-01],\n       [9.62134600e-01],\n       [1.08278446e-01],\n       [5.65868468e-05],\n       [4.90117311e-01],\n       [3.21898726e-04],\n       [2.51031690e-03],\n       [9.97294962e-01],\n       [2.15271430e-04],\n       [9.99586701e-01],\n       [2.97905924e-03],\n       [8.27100535e-04],\n       [9.99732316e-01],\n       [9.32133771e-05],\n       [4.02466656e-04],\n       [1.63595825e-02],\n       [9.69133573e-04],\n       [6.08895090e-04],\n       [2.98728119e-04],\n       [9.98557210e-01],\n       [9.97021675e-01],\n       [9.40695987e-04],\n       [2.61536222e-02],\n       [4.35083598e-01],\n       [9.45549982e-05],\n       [9.99724567e-01],\n       [1.71250213e-04],\n       [9.99223411e-01],\n       [5.74822612e-02],\n       [3.37639591e-03],\n       [3.07927694e-04],\n       [9.58517969e-01],\n       [2.42619528e-04],\n       [8.99820566e-01],\n       [9.75078762e-01],\n       [9.35518276e-03],\n       [1.57388009e-03],\n       [4.64697272e-01],\n       [4.46375832e-03],\n       [9.99917567e-01],\n       [3.40382033e-03],\n       [1.07246218e-03],\n       [1.53232971e-02],\n       [9.99626696e-01],\n       [2.92799771e-01],\n       [9.94481802e-01],\n       [7.26122499e-01],\n       [7.96925366e-01],\n       [9.87887144e-01],\n       [9.98503864e-01],\n       [6.49702124e-05],\n       [9.77941453e-01],\n       [9.99855161e-01],\n       [4.34319663e-04],\n       [9.95754063e-01],\n       [9.54146683e-01],\n       [9.99747932e-01],\n       [9.87589061e-02],\n       [1.28051022e-03],\n       [9.96657908e-01],\n       [3.39977909e-03],\n       [9.99711454e-01],\n       [1.06387034e-01],\n       [9.97245193e-01],\n       [1.10637005e-02],\n       [9.99943554e-01],\n       [8.85131359e-01],\n       [2.42108200e-03],\n       [4.79525741e-04],\n       [3.66450317e-04],\n       [5.56073268e-04],\n       [1.72488764e-01],\n       [1.00161657e-02],\n       [2.87301183e-01],\n       [6.45669699e-01],\n       [7.80597866e-01],\n       [7.67207205e-01],\n       [5.93736477e-04],\n       [1.24502531e-03],\n       [4.04119055e-04],\n       [3.88998043e-04],\n       [1.74949222e-04],\n       [5.10955136e-03],\n       [9.94559467e-01],\n       [1.31783420e-02],\n       [9.99925852e-01],\n       [4.89751867e-04],\n       [2.54045483e-02],\n       [2.17535207e-03],\n       [1.86445366e-04],\n       [2.03436866e-04],\n       [9.99873936e-01],\n       [5.69813856e-05],\n       [1.29154384e-01],\n       [8.92819405e-01],\n       [9.99882042e-01],\n       [7.87389290e-05],\n       [3.62297922e-01],\n       [1.31819502e-01],\n       [3.94429342e-04],\n       [8.87832488e-04],\n       [9.99895692e-01],\n       [9.99810338e-01],\n       [2.55729184e-02],\n       [9.91716166e-04],\n       [1.68709771e-03],\n       [3.84700894e-02],\n       [6.88041400e-05],\n       [2.36793479e-04],\n       [1.00545622e-02],\n       [4.43631638e-04],\n       [6.93124235e-01],\n       [9.99922931e-01],\n       [1.56689400e-03],\n       [9.99644876e-01],\n       [9.99818385e-01],\n       [6.32150233e-01],\n       [2.34838505e-03],\n       [7.89804220e-01],\n       [9.99662697e-01],\n       [3.58332582e-02],\n       [2.69664470e-02],\n       [3.30169559e-01],\n       [9.32410767e-04],\n       [1.84577482e-04],\n       [2.43398506e-04],\n       [8.06487560e-01],\n       [9.99863327e-01],\n       [9.52594504e-02],\n       [5.62565960e-03],\n       [8.31385702e-02],\n       [3.00585147e-04],\n       [1.41001539e-03],\n       [5.42771828e-04],\n       [1.37367833e-03],\n       [3.48318256e-02],\n       [9.96926188e-01],\n       [9.99917567e-01],\n       [5.46769006e-03],\n       [9.99857843e-01],\n       [8.58277082e-03],\n       [3.29864328e-03],\n       [6.74823299e-03],\n       [9.99925852e-01],\n       [9.87678230e-01],\n       [9.99253333e-01],\n       [9.15821314e-01],\n       [9.94923174e-01],\n       [3.62678943e-03],\n       [9.99240160e-01],\n       [1.46570115e-03],\n       [9.68864799e-01],\n       [6.65061474e-02],\n       [1.55163910e-02],\n       [3.82465720e-02],\n       [9.71835398e-04],\n       [2.24559218e-01],\n       [3.46918851e-02],\n       [2.92696757e-04],\n       [4.44962941e-02],\n       [7.63274372e-01],\n       [9.98264730e-01],\n       [9.99896944e-01],\n       [8.74532282e-01],\n       [9.99394059e-01],\n       [6.77819133e-01],\n       [3.10080242e-03],\n       [3.22439112e-02],\n       [5.25086513e-03],\n       [7.73222968e-02],\n       [9.99883831e-01],\n       [1.28703499e-02],\n       [9.69418108e-01],\n       [7.27212476e-03],\n       [1.01469783e-02],\n       [1.29740555e-02],\n       [1.78137068e-02],\n       [9.99332845e-01],\n       [3.66589893e-03],\n       [9.99781668e-01],\n       [9.99329150e-01],\n       [9.99566019e-01],\n       [9.99927163e-01],\n       [5.17275941e-04],\n       [2.33779589e-04],\n       [2.01008195e-04],\n       [2.43041478e-03],\n       [4.63895291e-01],\n       [4.74902289e-03],\n       [6.82539307e-03],\n       [3.62038333e-03],\n       [5.32873953e-03],\n       [3.62724415e-03],\n       [2.43367176e-04],\n       [9.99915242e-01],\n       [9.99857426e-01],\n       [3.29472199e-02],\n       [1.10408850e-01],\n       [8.69162977e-01],\n       [4.81403433e-03],\n       [3.08153802e-03],\n       [4.63551551e-01],\n       [2.94962752e-04],\n       [1.55485410e-03],\n       [3.75940129e-02],\n       [9.97775197e-01],\n       [7.60506548e-04],\n       [3.68419103e-03],\n       [2.58128601e-03],\n       [1.89746730e-04],\n       [5.97069487e-02],\n       [2.17791945e-02],\n       [9.99732137e-01],\n       [9.99614656e-01],\n       [4.71442863e-02],\n       [5.46861580e-03],\n       [9.99757409e-01],\n       [2.20538657e-02],\n       [1.66556668e-02],\n       [5.21713775e-03],\n       [4.99221729e-03],\n       [5.14289975e-01],\n       [9.99471843e-01],\n       [9.96323526e-01],\n       [5.58200657e-01],\n       [1.33757945e-03],\n       [9.20574427e-01],\n       [9.99559700e-01],\n       [5.79879736e-04],\n       [2.52962802e-02],\n       [1.24776305e-03],\n       [6.35445816e-04],\n       [9.98289526e-01],\n       [6.85256124e-01],\n       [9.90302801e-01],\n       [1.31869421e-03],\n       [6.32519601e-04],\n       [7.82962501e-01],\n       [9.99709904e-01],\n       [9.98512447e-01],\n       [5.11865616e-02],\n       [4.89832833e-03],\n       [3.42304725e-03],\n       [6.79045636e-03],\n       [9.99165058e-01],\n       [7.06865758e-05],\n       [2.19444570e-04],\n       [9.23807979e-01],\n       [9.91166472e-01],\n       [3.14063189e-04],\n       [9.99653101e-01],\n       [1.96517576e-04],\n       [1.75294204e-04],\n       [9.98704910e-01],\n       [2.75169441e-04],\n       [9.99884188e-01],\n       [1.98430836e-01],\n       [9.99671876e-01],\n       [9.93200123e-01],\n       [9.99933958e-01],\n       [1.64474286e-02],\n       [3.19756299e-01],\n       [2.59243022e-03],\n       [1.12389773e-01],\n       [1.30509129e-02],\n       [9.17664365e-05],\n       [4.65612680e-01],\n       [3.63654643e-03],\n       [9.13133472e-03],\n       [2.31126687e-04],\n       [4.75162611e-04],\n       [1.02956314e-02],\n       [7.15015340e-05],\n       [8.81562293e-01],\n       [7.13803165e-04],\n       [2.60821520e-03],\n       [1.75082944e-02],\n       [9.99933124e-01],\n       [1.10952385e-01],\n       [5.56276143e-01],\n       [9.89487767e-01],\n       [1.49259495e-03],\n       [9.99857426e-01],\n       [5.52905723e-03],\n       [3.82465720e-02],\n       [9.99645233e-01],\n       [9.96612906e-01],\n       [9.99260843e-01],\n       [9.99883831e-01],\n       [7.82846659e-02],\n       [6.34665415e-03],\n       [8.13717723e-01],\n       [9.26377159e-03],\n       [9.99907911e-01],\n       [1.78465887e-03],\n       [4.41684708e-04],\n       [1.45678781e-03],\n       [6.87831140e-04],\n       [6.21513873e-02],\n       [9.99869525e-01],\n       [9.92286950e-02],\n       [9.70736325e-01],\n       [9.75529909e-01],\n       [9.99823451e-01],\n       [9.99639571e-01],\n       [3.15949559e-01],\n       [8.37845262e-04],\n       [8.33612215e-03],\n       [7.13120261e-03],\n       [9.99905229e-01],\n       [9.99220312e-01],\n       [8.56943242e-03],\n       [6.88041400e-05],\n       [1.01799355e-03],\n       [9.92259324e-01],\n       [1.28280418e-02],\n       [8.21429363e-04],\n       [9.97881055e-01],\n       [7.62530714e-02],\n       [7.09372982e-02],\n       [9.15050030e-01],\n       [8.22189689e-01],\n       [1.33677371e-04],\n       [6.45264804e-01],\n       [9.99754667e-01],\n       [5.11544012e-02],\n       [8.85792106e-05],\n       [1.24299084e-03],\n       [6.11774856e-04],\n       [1.00747787e-03],\n       [1.10091723e-03],\n       [2.86983550e-01],\n       [1.66427474e-02],\n       [8.57451320e-01],\n       [1.71684590e-03],\n       [2.13143453e-02],\n       [2.46601887e-02],\n       [1.64286986e-01],\n       [2.56169811e-02],\n       [7.08773911e-01],\n       [3.30317691e-02],\n       [7.96687498e-04],\n       [9.99933660e-01],\n       [1.55868223e-02],\n       [5.66573208e-03],\n       [5.12137651e-01],\n       [9.99621928e-01],\n       [9.99861777e-01],\n       [2.48472556e-04],\n       [2.09649117e-03],\n       [7.47051477e-01],\n       [3.13278940e-03],\n       [4.47288575e-03]], dtype=float32)"
     },
     "execution_count": 32,
     "metadata": {},
     "output_type": "execute_result"
    }
   ],
   "source": [
    "# Make predictions with our bidirectional model\n",
    "model_4_preds_probs = model_4.predict(val_sentences)\n",
    "model_4_preds_probs"
   ],
   "metadata": {
    "collapsed": false,
    "ExecuteTime": {
     "end_time": "2023-07-30T15:11:30.936045500Z",
     "start_time": "2023-07-30T15:11:29.543402Z"
    }
   },
   "id": "6aa14368f4aafc2c"
  },
  {
   "cell_type": "code",
   "execution_count": 34,
   "outputs": [
    {
     "data": {
      "text/plain": "(762, 1)"
     },
     "execution_count": 34,
     "metadata": {},
     "output_type": "execute_result"
    }
   ],
   "source": [
    "model_4_preds_probs.shape"
   ],
   "metadata": {
    "collapsed": false,
    "ExecuteTime": {
     "end_time": "2023-07-30T15:11:39.565666900Z",
     "start_time": "2023-07-30T15:11:39.557939800Z"
    }
   },
   "id": "be7fd41945f488ac"
  },
  {
   "cell_type": "code",
   "execution_count": 36,
   "outputs": [
    {
     "data": {
      "text/plain": "<tf.Tensor: shape=(762,), dtype=float32, numpy=\narray([8.37476517e-04, 7.45571917e-03, 1.31698372e-02, 3.82663653e-04,\n       8.09200943e-01, 8.69984552e-03, 2.58309417e-04, 5.36024235e-02,\n       1.69344917e-01, 9.97609019e-01, 9.36134875e-01, 7.80503526e-02,\n       2.32805338e-04, 1.34736355e-02, 1.78580526e-02, 8.58788267e-02,\n       7.79334068e-01, 3.95308511e-04, 9.99916434e-01, 8.62272049e-04,\n       2.49181733e-01, 9.98743594e-01, 1.75687715e-01, 9.75726306e-01,\n       3.30374553e-03, 5.42663224e-02, 9.99594212e-01, 7.69283712e-01,\n       9.99810159e-01, 3.26174166e-04, 2.79099704e-03, 2.00613591e-04,\n       7.77914166e-01, 5.05566120e-01, 2.39427574e-02, 2.61462517e-02,\n       1.10328034e-01, 2.98398472e-02, 4.58436349e-04, 4.39229757e-02,\n       1.25538651e-03, 9.99832690e-01, 4.87010879e-03, 9.74357426e-01,\n       1.49467727e-03, 3.55872617e-04, 9.98797178e-01, 1.55281872e-01,\n       9.92724240e-01, 9.75733936e-01, 2.75566266e-03, 9.99928296e-01,\n       9.07589030e-03, 5.71294725e-01, 2.38297158e-03, 5.86248876e-04,\n       6.76534832e-01, 1.60619005e-04, 1.31558385e-02, 9.49655026e-02,\n       8.83887291e-01, 2.00527292e-02, 9.99846280e-01, 3.50688137e-02,\n       8.14539788e-04, 3.99596810e-01, 9.99743700e-01, 1.55769847e-02,\n       2.05060263e-04, 9.45815933e-04, 2.98418425e-04, 1.21769994e-01,\n       5.40090026e-03, 9.52829068e-05, 2.69428734e-02, 9.42413986e-01,\n       4.68296406e-04, 9.95152056e-01, 1.61975840e-04, 9.97851849e-01,\n       1.24057107e-01, 2.34596850e-03, 4.51617837e-01, 9.99744713e-01,\n       3.63316201e-03, 1.60483681e-02, 9.21167791e-01, 1.24185564e-04,\n       9.98967230e-01, 4.29551005e-01, 8.16643517e-03, 9.73863304e-01,\n       2.39158142e-02, 4.87150848e-02, 9.48300600e-01, 4.13538609e-03,\n       2.80314940e-04, 4.33660025e-04, 7.94750810e-01, 1.17910549e-03,\n       4.13824767e-01, 4.13396629e-03, 1.50767469e-03, 1.10601436e-03,\n       7.68375292e-04, 3.07758301e-01, 3.19700385e-03, 3.70778656e-03,\n       9.99924123e-01, 1.19264396e-02, 9.95899081e-01, 9.99576867e-01,\n       9.99202192e-01, 4.02084529e-01, 1.21625948e-04, 9.45498645e-01,\n       8.74918129e-04, 9.50000226e-01, 1.33305043e-01, 4.55050558e-01,\n       9.96908009e-01, 1.76213741e-01, 8.87172821e-04, 9.99111235e-01,\n       9.09960449e-01, 3.22797988e-03, 3.29045430e-02, 9.99790370e-01,\n       6.06910251e-02, 5.07744262e-04, 8.85186018e-04, 4.55735400e-02,\n       2.76049832e-03, 9.35251042e-02, 9.20033216e-01, 6.79358914e-02,\n       6.42114162e-01, 8.55678599e-03, 3.62801366e-02, 9.99896348e-01,\n       1.70735151e-01, 4.79044318e-01, 7.58392870e-01, 5.45009315e-01,\n       6.04987979e-01, 1.60485666e-04, 9.99793291e-01, 9.17284608e-01,\n       6.11707335e-03, 5.99748129e-03, 9.99079049e-01, 8.81980057e-04,\n       9.99671936e-01, 9.92401421e-01, 6.76534832e-01, 1.93072119e-04,\n       1.66329875e-04, 9.99924421e-01, 9.85426486e-01, 1.51041478e-01,\n       1.31404502e-02, 3.89531255e-04, 9.99652028e-01, 1.35790966e-02,\n       3.17227701e-03, 9.98237193e-01, 1.78209111e-01, 6.14395365e-03,\n       9.69472885e-01, 1.83943950e-04, 4.51218039e-01, 4.99688834e-03,\n       3.80436480e-01, 9.74605560e-01, 5.75847663e-02, 1.68140687e-04,\n       4.69339313e-03, 9.99575198e-01, 9.99568760e-01, 9.67058659e-01,\n       4.47162747e-01, 4.27899562e-04, 6.48976013e-04, 4.13354719e-04,\n       1.74104385e-02, 7.56603181e-01, 7.13989558e-03, 8.87318689e-04,\n       2.16015731e-03, 2.33485116e-04, 3.90977919e-04, 2.22317554e-04,\n       7.45152354e-01, 3.17100319e-03, 8.51556242e-01, 6.36372762e-03,\n       1.18521554e-03, 9.96078491e-01, 1.68784789e-03, 1.12652823e-01,\n       8.79651867e-04, 1.28941072e-04, 3.99632473e-03, 9.92796011e-03,\n       7.87009835e-01, 1.42166775e-03, 1.22365076e-02, 3.49399954e-04,\n       1.97868109e-01, 2.40089241e-02, 9.99145985e-01, 9.78643894e-01,\n       9.99617219e-01, 9.99925852e-01, 1.59061176e-03, 6.93656564e-01,\n       2.46357381e-01, 9.33552206e-01, 9.99750495e-01, 4.49523795e-03,\n       4.65900725e-04, 8.27401400e-01, 9.99840260e-01, 2.00156532e-02,\n       9.99860883e-01, 4.15503561e-01, 4.37755823e-01, 5.42266644e-04,\n       5.39894609e-05, 3.72863352e-01, 5.98372221e-01, 7.65736401e-02,\n       9.98242378e-01, 7.57023022e-02, 5.96231839e-04, 5.33496263e-03,\n       6.72720075e-01, 2.83442643e-02, 9.82568443e-01, 1.83502823e-04,\n       1.75093918e-03, 9.99924004e-01, 6.30824715e-02, 8.08286741e-02,\n       4.73755449e-01, 4.88384115e-03, 8.75771582e-01, 9.95826840e-01,\n       1.77512120e-03, 6.89380050e-01, 3.06959031e-03, 9.99879718e-01,\n       2.25845892e-02, 9.97480631e-01, 3.73572181e-03, 1.99968624e-03,\n       2.68287607e-04, 9.99304473e-01, 1.34428404e-03, 1.01959128e-02,\n       4.11037030e-03, 9.99446332e-01, 9.99672890e-01, 1.73771698e-02,\n       9.99728739e-01, 9.44030821e-01, 1.04540377e-03, 1.33152027e-02,\n       9.97268617e-01, 9.98502553e-01, 1.93416178e-02, 9.97890949e-01,\n       2.30726996e-03, 5.40125940e-04, 9.82548296e-01, 9.04931501e-03,\n       4.80032898e-02, 9.99935746e-01, 9.88197446e-01, 9.99883831e-01,\n       9.26724911e-01, 9.99846280e-01, 9.87096131e-01, 1.54228648e-03,\n       9.98996675e-01, 9.97418344e-01, 9.95596945e-01, 5.66494884e-04,\n       6.62720144e-01, 1.72753874e-02, 9.99700069e-01, 9.98238027e-01,\n       8.25190684e-04, 1.50267209e-04, 9.99228954e-01, 1.32061154e-01,\n       1.62759839e-04, 9.99883831e-01, 7.79334068e-01, 7.06823543e-02,\n       9.64654565e-01, 5.04074842e-02, 9.82975066e-01, 9.99528885e-01,\n       5.55528095e-03, 9.89290237e-01, 1.31819502e-01, 1.58667535e-04,\n       3.40517797e-03, 5.81705011e-03, 9.99727130e-01, 5.45636341e-02,\n       7.62750953e-03, 9.51205015e-01, 4.16530073e-02, 9.87957001e-01,\n       8.28135177e-04, 5.19314257e-04, 9.99816954e-01, 9.99746561e-01,\n       8.28330114e-04, 4.07912135e-01, 9.98706460e-01, 7.78355263e-03,\n       1.15085742e-03, 2.94213504e-01, 5.13855554e-03, 3.45078646e-04,\n       1.93652641e-02, 9.99893725e-01, 4.38163755e-03, 9.99682963e-01,\n       9.99931037e-01, 3.30939377e-03, 9.99663293e-01, 9.89767671e-01,\n       9.90059555e-01, 9.99933720e-01, 9.55936253e-01, 6.37007296e-01,\n       1.64220959e-03, 3.36520793e-03, 4.69436869e-02, 1.75291207e-04,\n       1.80490121e-01, 3.12696589e-04, 9.99752223e-01, 9.99642134e-01,\n       9.99881744e-01, 3.52535117e-03, 6.22274587e-03, 9.99788284e-01,\n       3.58758814e-04, 5.26692206e-03, 9.99341428e-01, 9.53805447e-03,\n       9.99913573e-01, 1.22215739e-02, 1.09287117e-04, 2.04497147e-02,\n       6.07065931e-02, 9.59270597e-01, 9.65775907e-01, 9.19046361e-05,\n       1.69493571e-01, 2.80821882e-02, 3.67129891e-04, 2.99684256e-01,\n       4.80935647e-04, 1.04057603e-01, 1.36919774e-03, 7.80360043e-01,\n       3.66234430e-03, 4.34597552e-01, 1.18601322e-02, 9.99472678e-01,\n       1.74676359e-04, 2.50135809e-01, 4.25749600e-01, 9.63629335e-02,\n       9.99879122e-01, 3.09371483e-03, 5.22578061e-02, 3.59281078e-02,\n       2.39326149e-01, 9.94165540e-01, 7.21178832e-04, 6.25395076e-03,\n       4.87629994e-04, 6.18916587e-04, 5.82311396e-03, 2.39328966e-02,\n       2.48462986e-02, 1.25838101e-01, 4.76186052e-02, 9.98973727e-01,\n       9.99503613e-01, 9.72493529e-01, 2.11097905e-03, 1.51805318e-04,\n       5.00275521e-04, 4.52713758e-01, 9.89741266e-01, 1.17172638e-03,\n       1.93879940e-04, 9.60946679e-01, 3.55948687e-01, 9.99900401e-01,\n       3.56689617e-02, 9.35794652e-01, 9.62134600e-01, 1.08278446e-01,\n       5.65868468e-05, 4.90117311e-01, 3.21898726e-04, 2.51031690e-03,\n       9.97294962e-01, 2.15271430e-04, 9.99586701e-01, 2.97905924e-03,\n       8.27100535e-04, 9.99732316e-01, 9.32133771e-05, 4.02466656e-04,\n       1.63595825e-02, 9.69133573e-04, 6.08895090e-04, 2.98728119e-04,\n       9.98557210e-01, 9.97021675e-01, 9.40695987e-04, 2.61536222e-02,\n       4.35083598e-01, 9.45549982e-05, 9.99724567e-01, 1.71250213e-04,\n       9.99223411e-01, 5.74822612e-02, 3.37639591e-03, 3.07927694e-04,\n       9.58517969e-01, 2.42619528e-04, 8.99820566e-01, 9.75078762e-01,\n       9.35518276e-03, 1.57388009e-03, 4.64697272e-01, 4.46375832e-03,\n       9.99917567e-01, 3.40382033e-03, 1.07246218e-03, 1.53232971e-02,\n       9.99626696e-01, 2.92799771e-01, 9.94481802e-01, 7.26122499e-01,\n       7.96925366e-01, 9.87887144e-01, 9.98503864e-01, 6.49702124e-05,\n       9.77941453e-01, 9.99855161e-01, 4.34319663e-04, 9.95754063e-01,\n       9.54146683e-01, 9.99747932e-01, 9.87589061e-02, 1.28051022e-03,\n       9.96657908e-01, 3.39977909e-03, 9.99711454e-01, 1.06387034e-01,\n       9.97245193e-01, 1.10637005e-02, 9.99943554e-01, 8.85131359e-01,\n       2.42108200e-03, 4.79525741e-04, 3.66450317e-04, 5.56073268e-04,\n       1.72488764e-01, 1.00161657e-02, 2.87301183e-01, 6.45669699e-01,\n       7.80597866e-01, 7.67207205e-01, 5.93736477e-04, 1.24502531e-03,\n       4.04119055e-04, 3.88998043e-04, 1.74949222e-04, 5.10955136e-03,\n       9.94559467e-01, 1.31783420e-02, 9.99925852e-01, 4.89751867e-04,\n       2.54045483e-02, 2.17535207e-03, 1.86445366e-04, 2.03436866e-04,\n       9.99873936e-01, 5.69813856e-05, 1.29154384e-01, 8.92819405e-01,\n       9.99882042e-01, 7.87389290e-05, 3.62297922e-01, 1.31819502e-01,\n       3.94429342e-04, 8.87832488e-04, 9.99895692e-01, 9.99810338e-01,\n       2.55729184e-02, 9.91716166e-04, 1.68709771e-03, 3.84700894e-02,\n       6.88041400e-05, 2.36793479e-04, 1.00545622e-02, 4.43631638e-04,\n       6.93124235e-01, 9.99922931e-01, 1.56689400e-03, 9.99644876e-01,\n       9.99818385e-01, 6.32150233e-01, 2.34838505e-03, 7.89804220e-01,\n       9.99662697e-01, 3.58332582e-02, 2.69664470e-02, 3.30169559e-01,\n       9.32410767e-04, 1.84577482e-04, 2.43398506e-04, 8.06487560e-01,\n       9.99863327e-01, 9.52594504e-02, 5.62565960e-03, 8.31385702e-02,\n       3.00585147e-04, 1.41001539e-03, 5.42771828e-04, 1.37367833e-03,\n       3.48318256e-02, 9.96926188e-01, 9.99917567e-01, 5.46769006e-03,\n       9.99857843e-01, 8.58277082e-03, 3.29864328e-03, 6.74823299e-03,\n       9.99925852e-01, 9.87678230e-01, 9.99253333e-01, 9.15821314e-01,\n       9.94923174e-01, 3.62678943e-03, 9.99240160e-01, 1.46570115e-03,\n       9.68864799e-01, 6.65061474e-02, 1.55163910e-02, 3.82465720e-02,\n       9.71835398e-04, 2.24559218e-01, 3.46918851e-02, 2.92696757e-04,\n       4.44962941e-02, 7.63274372e-01, 9.98264730e-01, 9.99896944e-01,\n       8.74532282e-01, 9.99394059e-01, 6.77819133e-01, 3.10080242e-03,\n       3.22439112e-02, 5.25086513e-03, 7.73222968e-02, 9.99883831e-01,\n       1.28703499e-02, 9.69418108e-01, 7.27212476e-03, 1.01469783e-02,\n       1.29740555e-02, 1.78137068e-02, 9.99332845e-01, 3.66589893e-03,\n       9.99781668e-01, 9.99329150e-01, 9.99566019e-01, 9.99927163e-01,\n       5.17275941e-04, 2.33779589e-04, 2.01008195e-04, 2.43041478e-03,\n       4.63895291e-01, 4.74902289e-03, 6.82539307e-03, 3.62038333e-03,\n       5.32873953e-03, 3.62724415e-03, 2.43367176e-04, 9.99915242e-01,\n       9.99857426e-01, 3.29472199e-02, 1.10408850e-01, 8.69162977e-01,\n       4.81403433e-03, 3.08153802e-03, 4.63551551e-01, 2.94962752e-04,\n       1.55485410e-03, 3.75940129e-02, 9.97775197e-01, 7.60506548e-04,\n       3.68419103e-03, 2.58128601e-03, 1.89746730e-04, 5.97069487e-02,\n       2.17791945e-02, 9.99732137e-01, 9.99614656e-01, 4.71442863e-02,\n       5.46861580e-03, 9.99757409e-01, 2.20538657e-02, 1.66556668e-02,\n       5.21713775e-03, 4.99221729e-03, 5.14289975e-01, 9.99471843e-01,\n       9.96323526e-01, 5.58200657e-01, 1.33757945e-03, 9.20574427e-01,\n       9.99559700e-01, 5.79879736e-04, 2.52962802e-02, 1.24776305e-03,\n       6.35445816e-04, 9.98289526e-01, 6.85256124e-01, 9.90302801e-01,\n       1.31869421e-03, 6.32519601e-04, 7.82962501e-01, 9.99709904e-01,\n       9.98512447e-01, 5.11865616e-02, 4.89832833e-03, 3.42304725e-03,\n       6.79045636e-03, 9.99165058e-01, 7.06865758e-05, 2.19444570e-04,\n       9.23807979e-01, 9.91166472e-01, 3.14063189e-04, 9.99653101e-01,\n       1.96517576e-04, 1.75294204e-04, 9.98704910e-01, 2.75169441e-04,\n       9.99884188e-01, 1.98430836e-01, 9.99671876e-01, 9.93200123e-01,\n       9.99933958e-01, 1.64474286e-02, 3.19756299e-01, 2.59243022e-03,\n       1.12389773e-01, 1.30509129e-02, 9.17664365e-05, 4.65612680e-01,\n       3.63654643e-03, 9.13133472e-03, 2.31126687e-04, 4.75162611e-04,\n       1.02956314e-02, 7.15015340e-05, 8.81562293e-01, 7.13803165e-04,\n       2.60821520e-03, 1.75082944e-02, 9.99933124e-01, 1.10952385e-01,\n       5.56276143e-01, 9.89487767e-01, 1.49259495e-03, 9.99857426e-01,\n       5.52905723e-03, 3.82465720e-02, 9.99645233e-01, 9.96612906e-01,\n       9.99260843e-01, 9.99883831e-01, 7.82846659e-02, 6.34665415e-03,\n       8.13717723e-01, 9.26377159e-03, 9.99907911e-01, 1.78465887e-03,\n       4.41684708e-04, 1.45678781e-03, 6.87831140e-04, 6.21513873e-02,\n       9.99869525e-01, 9.92286950e-02, 9.70736325e-01, 9.75529909e-01,\n       9.99823451e-01, 9.99639571e-01, 3.15949559e-01, 8.37845262e-04,\n       8.33612215e-03, 7.13120261e-03, 9.99905229e-01, 9.99220312e-01,\n       8.56943242e-03, 6.88041400e-05, 1.01799355e-03, 9.92259324e-01,\n       1.28280418e-02, 8.21429363e-04, 9.97881055e-01, 7.62530714e-02,\n       7.09372982e-02, 9.15050030e-01, 8.22189689e-01, 1.33677371e-04,\n       6.45264804e-01, 9.99754667e-01, 5.11544012e-02, 8.85792106e-05,\n       1.24299084e-03, 6.11774856e-04, 1.00747787e-03, 1.10091723e-03,\n       2.86983550e-01, 1.66427474e-02, 8.57451320e-01, 1.71684590e-03,\n       2.13143453e-02, 2.46601887e-02, 1.64286986e-01, 2.56169811e-02,\n       7.08773911e-01, 3.30317691e-02, 7.96687498e-04, 9.99933660e-01,\n       1.55868223e-02, 5.66573208e-03, 5.12137651e-01, 9.99621928e-01,\n       9.99861777e-01, 2.48472556e-04, 2.09649117e-03, 7.47051477e-01,\n       3.13278940e-03, 4.47288575e-03], dtype=float32)>"
     },
     "execution_count": 36,
     "metadata": {},
     "output_type": "execute_result"
    }
   ],
   "source": [
    "tf.squeeze(model_4_preds_probs)"
   ],
   "metadata": {
    "collapsed": false,
    "ExecuteTime": {
     "end_time": "2023-07-30T15:11:47.235353600Z",
     "start_time": "2023-07-30T15:11:47.228531200Z"
    }
   },
   "id": "e0465910a8c1a4c5"
  },
  {
   "cell_type": "code",
   "execution_count": 37,
   "outputs": [
    {
     "data": {
      "text/plain": "<tf.Tensor: shape=(762,), dtype=float32, numpy=\narray([0., 0., 0., 0., 1., 0., 0., 0., 0., 1., 1., 0., 0., 0., 0., 0., 1.,\n       0., 1., 0., 0., 1., 0., 1., 0., 0., 1., 1., 1., 0., 0., 0., 1., 1.,\n       0., 0., 0., 0., 0., 0., 0., 1., 0., 1., 0., 0., 1., 0., 1., 1., 0.,\n       1., 0., 1., 0., 0., 1., 0., 0., 0., 1., 0., 1., 0., 0., 0., 1., 0.,\n       0., 0., 0., 0., 0., 0., 0., 1., 0., 1., 0., 1., 0., 0., 0., 1., 0.,\n       0., 1., 0., 1., 0., 0., 1., 0., 0., 1., 0., 0., 0., 1., 0., 0., 0.,\n       0., 0., 0., 0., 0., 0., 1., 0., 1., 1., 1., 0., 0., 1., 0., 1., 0.,\n       0., 1., 0., 0., 1., 1., 0., 0., 1., 0., 0., 0., 0., 0., 0., 1., 0.,\n       1., 0., 0., 1., 0., 0., 1., 1., 1., 0., 1., 1., 0., 0., 1., 0., 1.,\n       1., 1., 0., 0., 1., 1., 0., 0., 0., 1., 0., 0., 1., 0., 0., 1., 0.,\n       0., 0., 0., 1., 0., 0., 0., 1., 1., 1., 0., 0., 0., 0., 0., 1., 0.,\n       0., 0., 0., 0., 0., 1., 0., 1., 0., 0., 1., 0., 0., 0., 0., 0., 0.,\n       1., 0., 0., 0., 0., 0., 1., 1., 1., 1., 0., 1., 0., 1., 1., 0., 0.,\n       1., 1., 0., 1., 0., 0., 0., 0., 0., 1., 0., 1., 0., 0., 0., 1., 0.,\n       1., 0., 0., 1., 0., 0., 0., 0., 1., 1., 0., 1., 0., 1., 0., 1., 0.,\n       0., 0., 1., 0., 0., 0., 1., 1., 0., 1., 1., 0., 0., 1., 1., 0., 1.,\n       0., 0., 1., 0., 0., 1., 1., 1., 1., 1., 1., 0., 1., 1., 1., 0., 1.,\n       0., 1., 1., 0., 0., 1., 0., 0., 1., 1., 0., 1., 0., 1., 1., 0., 1.,\n       0., 0., 0., 0., 1., 0., 0., 1., 0., 1., 0., 0., 1., 1., 0., 0., 1.,\n       0., 0., 0., 0., 0., 0., 1., 0., 1., 1., 0., 1., 1., 1., 1., 1., 1.,\n       0., 0., 0., 0., 0., 0., 1., 1., 1., 0., 0., 1., 0., 0., 1., 0., 1.,\n       0., 0., 0., 0., 1., 1., 0., 0., 0., 0., 0., 0., 0., 0., 1., 0., 0.,\n       0., 1., 0., 0., 0., 0., 1., 0., 0., 0., 0., 1., 0., 0., 0., 0., 0.,\n       0., 0., 0., 0., 1., 1., 1., 0., 0., 0., 0., 1., 0., 0., 1., 0., 1.,\n       0., 1., 1., 0., 0., 0., 0., 0., 1., 0., 1., 0., 0., 1., 0., 0., 0.,\n       0., 0., 0., 1., 1., 0., 0., 0., 0., 1., 0., 1., 0., 0., 0., 1., 0.,\n       1., 1., 0., 0., 0., 0., 1., 0., 0., 0., 1., 0., 1., 1., 1., 1., 1.,\n       0., 1., 1., 0., 1., 1., 1., 0., 0., 1., 0., 1., 0., 1., 0., 1., 1.,\n       0., 0., 0., 0., 0., 0., 0., 1., 1., 1., 0., 0., 0., 0., 0., 0., 1.,\n       0., 1., 0., 0., 0., 0., 0., 1., 0., 0., 1., 1., 0., 0., 0., 0., 0.,\n       1., 1., 0., 0., 0., 0., 0., 0., 0., 0., 1., 1., 0., 1., 1., 1., 0.,\n       1., 1., 0., 0., 0., 0., 0., 0., 1., 1., 0., 0., 0., 0., 0., 0., 0.,\n       0., 1., 1., 0., 1., 0., 0., 0., 1., 1., 1., 1., 1., 0., 1., 0., 1.,\n       0., 0., 0., 0., 0., 0., 0., 0., 1., 1., 1., 1., 1., 1., 0., 0., 0.,\n       0., 1., 0., 1., 0., 0., 0., 0., 1., 0., 1., 1., 1., 1., 0., 0., 0.,\n       0., 0., 0., 0., 0., 0., 0., 0., 1., 1., 0., 0., 1., 0., 0., 0., 0.,\n       0., 0., 1., 0., 0., 0., 0., 0., 0., 1., 1., 0., 0., 1., 0., 0., 0.,\n       0., 1., 1., 1., 1., 0., 1., 1., 0., 0., 0., 0., 1., 1., 1., 0., 0.,\n       1., 1., 1., 0., 0., 0., 0., 1., 0., 0., 1., 1., 0., 1., 0., 0., 1.,\n       0., 1., 0., 1., 1., 1., 0., 0., 0., 0., 0., 0., 0., 0., 0., 0., 0.,\n       0., 0., 1., 0., 0., 0., 1., 0., 1., 1., 0., 1., 0., 0., 1., 1., 1.,\n       1., 0., 0., 1., 0., 1., 0., 0., 0., 0., 0., 1., 0., 1., 1., 1., 1.,\n       0., 0., 0., 0., 1., 1., 0., 0., 0., 1., 0., 0., 1., 0., 0., 1., 1.,\n       0., 1., 1., 0., 0., 0., 0., 0., 0., 0., 0., 1., 0., 0., 0., 0., 0.,\n       1., 0., 0., 1., 0., 0., 1., 1., 1., 0., 0., 1., 0., 0.],\n      dtype=float32)>"
     },
     "execution_count": 37,
     "metadata": {},
     "output_type": "execute_result"
    }
   ],
   "source": [
    "model_4_preds = tf.squeeze(tf.round(model_4_preds_probs))\n",
    "model_4_preds"
   ],
   "metadata": {
    "collapsed": false,
    "ExecuteTime": {
     "end_time": "2023-07-30T15:11:50.277820900Z",
     "start_time": "2023-07-30T15:11:50.249489600Z"
    }
   },
   "id": "15190330d6f2c8"
  },
  {
   "cell_type": "code",
   "execution_count": 38,
   "outputs": [
    {
     "data": {
      "text/plain": "(762,)"
     },
     "execution_count": 38,
     "metadata": {},
     "output_type": "execute_result"
    }
   ],
   "source": [
    "val_labels.shape"
   ],
   "metadata": {
    "collapsed": false,
    "ExecuteTime": {
     "end_time": "2023-07-30T15:11:53.016014900Z",
     "start_time": "2023-07-30T15:11:53.012531900Z"
    }
   },
   "id": "84ee3a03bf399c3a"
  },
  {
   "cell_type": "code",
   "execution_count": 39,
   "outputs": [],
   "source": [
    "# Evaluate the model by comparing the model_4_preds to val_labels\n",
    "from sklearn.metrics import accuracy_score, precision_recall_fscore_support\n",
    "\n",
    "model_4_accuracy_score = accuracy_score(val_labels, model_4_preds)\n",
    "model_4_precision, model_4_recall, model_4_fscore, _ =precision_recall_fscore_support(val_labels,\n",
    "                                                                                      model_4_preds, average=\"weighted\")"
   ],
   "metadata": {
    "collapsed": false,
    "ExecuteTime": {
     "end_time": "2023-07-30T15:11:55.031506500Z",
     "start_time": "2023-07-30T15:11:55.025119500Z"
    }
   },
   "id": "8b7dcf10a976cd40"
  },
  {
   "cell_type": "code",
   "execution_count": 40,
   "outputs": [
    {
     "data": {
      "text/plain": "{'model_4_accuracy_score': 0.7598425196850394,\n 'model_4_precision': 0.7615361193455306,\n 'model_4_recall': {0.7598425196850394},\n 'model_4_f1score': {0.7562429605741445}}"
     },
     "execution_count": 40,
     "metadata": {},
     "output_type": "execute_result"
    }
   ],
   "source": [
    "dict_result = {\"model_4_accuracy_score\": model_4_accuracy_score,\n",
    "               \"model_4_precision\": model_4_precision,\n",
    "               \"model_4_recall\": {model_4_recall},\n",
    "               \"model_4_f1score\": {model_4_fscore}}\n",
    "dict_result"
   ],
   "metadata": {
    "collapsed": false,
    "ExecuteTime": {
     "end_time": "2023-07-30T15:12:00.084457200Z",
     "start_time": "2023-07-30T15:12:00.081947800Z"
    }
   },
   "id": "bfd51a63ce5a2dc1"
  }
 ],
 "metadata": {
  "kernelspec": {
   "display_name": "Python 3",
   "language": "python",
   "name": "python3"
  },
  "language_info": {
   "codemirror_mode": {
    "name": "ipython",
    "version": 2
   },
   "file_extension": ".py",
   "mimetype": "text/x-python",
   "name": "python",
   "nbconvert_exporter": "python",
   "pygments_lexer": "ipython2",
   "version": "2.7.6"
  }
 },
 "nbformat": 4,
 "nbformat_minor": 5
}
