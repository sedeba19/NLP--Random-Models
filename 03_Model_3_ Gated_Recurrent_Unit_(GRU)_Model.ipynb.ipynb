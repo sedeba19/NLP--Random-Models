{
 "cells": [
  {
   "cell_type": "code",
   "execution_count": 1,
   "outputs": [
    {
     "data": {
      "text/plain": "'2.13.0'"
     },
     "execution_count": 1,
     "metadata": {},
     "output_type": "execute_result"
    }
   ],
   "source": [
    "import os\n",
    "import tensorflow as tf\n",
    "import pandas as pd\n",
    "\n",
    "tf.__version__\n"
   ],
   "metadata": {
    "collapsed": false,
    "ExecuteTime": {
     "end_time": "2023-07-30T15:10:53.872689200Z",
     "start_time": "2023-07-30T15:10:52.251705800Z"
    }
   },
   "id": "d895e3f341f9cd2c"
  },
  {
   "cell_type": "code",
   "execution_count": 2,
   "outputs": [],
   "source": [
    "train_dir = r'https://raw.githubusercontent.com/sedeba19/NLP--Random-Models/main/train.csv'\n",
    "test_dir = r'https://raw.githubusercontent.com/sedeba19/NLP--Random-Models/main/test.csv'"
   ],
   "metadata": {
    "collapsed": false,
    "ExecuteTime": {
     "end_time": "2023-07-30T15:10:53.872689200Z",
     "start_time": "2023-07-30T15:10:53.860434500Z"
    }
   },
   "id": "f9e05dc9db4f2150"
  },
  {
   "cell_type": "code",
   "execution_count": 3,
   "outputs": [
    {
     "data": {
      "text/plain": "'https://raw.githubusercontent.com/sedeba19/NLP--Random-Models/main/train.csv'"
     },
     "execution_count": 3,
     "metadata": {},
     "output_type": "execute_result"
    }
   ],
   "source": [
    "train_dir"
   ],
   "metadata": {
    "collapsed": false,
    "ExecuteTime": {
     "end_time": "2023-07-30T15:10:53.872689200Z",
     "start_time": "2023-07-30T15:10:53.863914700Z"
    }
   },
   "id": "e237aa9b92bb079a"
  },
  {
   "cell_type": "code",
   "execution_count": 4,
   "outputs": [
    {
     "data": {
      "text/plain": "   id keyword location                                               text  \\\n0   1     NaN      NaN  Our Deeds are the Reason of this #earthquake M...   \n1   4     NaN      NaN             Forest fire near La Ronge Sask. Canada   \n2   5     NaN      NaN  All residents asked to 'shelter in place' are ...   \n3   6     NaN      NaN  13,000 people receive #wildfires evacuation or...   \n4   7     NaN      NaN  Just got sent this photo from Ruby #Alaska as ...   \n\n   target  \n0       1  \n1       1  \n2       1  \n3       1  \n4       1  ",
      "text/html": "<div>\n<style scoped>\n    .dataframe tbody tr th:only-of-type {\n        vertical-align: middle;\n    }\n\n    .dataframe tbody tr th {\n        vertical-align: top;\n    }\n\n    .dataframe thead th {\n        text-align: right;\n    }\n</style>\n<table border=\"1\" class=\"dataframe\">\n  <thead>\n    <tr style=\"text-align: right;\">\n      <th></th>\n      <th>id</th>\n      <th>keyword</th>\n      <th>location</th>\n      <th>text</th>\n      <th>target</th>\n    </tr>\n  </thead>\n  <tbody>\n    <tr>\n      <th>0</th>\n      <td>1</td>\n      <td>NaN</td>\n      <td>NaN</td>\n      <td>Our Deeds are the Reason of this #earthquake M...</td>\n      <td>1</td>\n    </tr>\n    <tr>\n      <th>1</th>\n      <td>4</td>\n      <td>NaN</td>\n      <td>NaN</td>\n      <td>Forest fire near La Ronge Sask. Canada</td>\n      <td>1</td>\n    </tr>\n    <tr>\n      <th>2</th>\n      <td>5</td>\n      <td>NaN</td>\n      <td>NaN</td>\n      <td>All residents asked to 'shelter in place' are ...</td>\n      <td>1</td>\n    </tr>\n    <tr>\n      <th>3</th>\n      <td>6</td>\n      <td>NaN</td>\n      <td>NaN</td>\n      <td>13,000 people receive #wildfires evacuation or...</td>\n      <td>1</td>\n    </tr>\n    <tr>\n      <th>4</th>\n      <td>7</td>\n      <td>NaN</td>\n      <td>NaN</td>\n      <td>Just got sent this photo from Ruby #Alaska as ...</td>\n      <td>1</td>\n    </tr>\n  </tbody>\n</table>\n</div>"
     },
     "execution_count": 4,
     "metadata": {},
     "output_type": "execute_result"
    }
   ],
   "source": [
    "# Make a train_df\n",
    "train_df = pd.read_csv(train_dir)\n",
    "test_df = pd.read_csv(test_dir)\n",
    "train_df.head()"
   ],
   "metadata": {
    "collapsed": false,
    "ExecuteTime": {
     "end_time": "2023-07-30T15:10:53.987293Z",
     "start_time": "2023-07-30T15:10:53.867693700Z"
    }
   },
   "id": "c858f9a76b34b934"
  },
  {
   "cell_type": "code",
   "execution_count": 5,
   "outputs": [
    {
     "data": {
      "text/plain": "         id               keyword                  location  \\\n3228   4632  emergency%20services   Sydney, New South Wales   \n3706   5271                  fear                       NaN   \n6957   9982               tsunami         Land Of The Kings   \n2887   4149                 drown                       NaN   \n7464  10680                wounds  cody, austin follows ?*?   \n\n                                                   text  target  \n3228  Goulburn man Henry Van Bilsen missing: Emergen...       1  \n3706  The things we fear most in organizations--fluc...       0  \n6957                            @tsunami_esh ?? hey Esh       0  \n2887  @POTUS you until you drown by water entering t...       0  \n7464  Crawling in my skin\\nThese wounds they will no...       1  ",
      "text/html": "<div>\n<style scoped>\n    .dataframe tbody tr th:only-of-type {\n        vertical-align: middle;\n    }\n\n    .dataframe tbody tr th {\n        vertical-align: top;\n    }\n\n    .dataframe thead th {\n        text-align: right;\n    }\n</style>\n<table border=\"1\" class=\"dataframe\">\n  <thead>\n    <tr style=\"text-align: right;\">\n      <th></th>\n      <th>id</th>\n      <th>keyword</th>\n      <th>location</th>\n      <th>text</th>\n      <th>target</th>\n    </tr>\n  </thead>\n  <tbody>\n    <tr>\n      <th>3228</th>\n      <td>4632</td>\n      <td>emergency%20services</td>\n      <td>Sydney, New South Wales</td>\n      <td>Goulburn man Henry Van Bilsen missing: Emergen...</td>\n      <td>1</td>\n    </tr>\n    <tr>\n      <th>3706</th>\n      <td>5271</td>\n      <td>fear</td>\n      <td>NaN</td>\n      <td>The things we fear most in organizations--fluc...</td>\n      <td>0</td>\n    </tr>\n    <tr>\n      <th>6957</th>\n      <td>9982</td>\n      <td>tsunami</td>\n      <td>Land Of The Kings</td>\n      <td>@tsunami_esh ?? hey Esh</td>\n      <td>0</td>\n    </tr>\n    <tr>\n      <th>2887</th>\n      <td>4149</td>\n      <td>drown</td>\n      <td>NaN</td>\n      <td>@POTUS you until you drown by water entering t...</td>\n      <td>0</td>\n    </tr>\n    <tr>\n      <th>7464</th>\n      <td>10680</td>\n      <td>wounds</td>\n      <td>cody, austin follows ?*?</td>\n      <td>Crawling in my skin\\nThese wounds they will no...</td>\n      <td>1</td>\n    </tr>\n  </tbody>\n</table>\n</div>"
     },
     "execution_count": 5,
     "metadata": {},
     "output_type": "execute_result"
    }
   ],
   "source": [
    "# Shuffle training dataframe\n",
    "train_df_shuffled = train_df.sample(frac = 1, random_state = 1)\n",
    "train_df_shuffled.head()"
   ],
   "metadata": {
    "collapsed": false,
    "ExecuteTime": {
     "end_time": "2023-07-30T15:10:53.995842600Z",
     "start_time": "2023-07-30T15:10:53.988293400Z"
    }
   },
   "id": "ffa95adda1afec99"
  },
  {
   "cell_type": "code",
   "execution_count": 6,
   "outputs": [
    {
     "data": {
      "text/plain": "(7613, 5)"
     },
     "execution_count": 6,
     "metadata": {},
     "output_type": "execute_result"
    }
   ],
   "source": [
    "train_df_shuffled.shape"
   ],
   "metadata": {
    "collapsed": false,
    "ExecuteTime": {
     "end_time": "2023-07-30T15:10:53.997351500Z",
     "start_time": "2023-07-30T15:10:53.995060200Z"
    }
   },
   "id": "66e71f2c2322a35c"
  },
  {
   "cell_type": "code",
   "execution_count": 7,
   "outputs": [
    {
     "data": {
      "text/plain": "target\n0    4342\n1    3271\nName: count, dtype: int64"
     },
     "execution_count": 7,
     "metadata": {},
     "output_type": "execute_result"
    }
   ],
   "source": [
    "# How many examples of each class?\n",
    "train_df['target'].value_counts()"
   ],
   "metadata": {
    "collapsed": false,
    "ExecuteTime": {
     "end_time": "2023-07-30T15:10:54.006304900Z",
     "start_time": "2023-07-30T15:10:53.997351500Z"
    }
   },
   "id": "e8f13f3fbc904937"
  },
  {
   "cell_type": "code",
   "execution_count": 8,
   "outputs": [
    {
     "data": {
      "text/plain": "(7613, 3263)"
     },
     "execution_count": 8,
     "metadata": {},
     "output_type": "execute_result"
    }
   ],
   "source": [
    "# How many total samples?\n",
    "len(train_df), len(test_df)"
   ],
   "metadata": {
    "collapsed": false,
    "ExecuteTime": {
     "end_time": "2023-07-30T15:10:54.006304900Z",
     "start_time": "2023-07-30T15:10:54.002702900Z"
    }
   },
   "id": "6a3f06f716aed950"
  },
  {
   "cell_type": "code",
   "execution_count": 9,
   "outputs": [
    {
     "name": "stdout",
     "output_type": "stream",
     "text": [
      "Target:0 (not a real disaster)\n",
      "Text: \n",
      "Calgary news weather and traffic for August 5 * ~ 45 http://t.co/zAGBMlSf4H http://t.co/HVYXehXBmq\n",
      "-----\n",
      "\n",
      "Target:0 (not a real disaster)\n",
      "Text: \n",
      "'There is no victory at bargain basement prices.' Dwight David Eisenhower\n",
      "-----\n",
      "\n",
      "Target:0 (not a real disaster)\n",
      "Text: \n",
      "Broadcast journalism: hostages to fortune otherwise quot-television blind else quot-operations since-3g superv...\n",
      "-----\n",
      "\n",
      "Target:1 (real disaster)\n",
      "Text: \n",
      "The ol' meltdown victory for the Mets.\n",
      "-----\n",
      "\n",
      "Target:0 (not a real disaster)\n",
      "Text: \n",
      "Photo: postapocalypticflimflam: Prodding around the rubble. http://t.co/Bgy4i47j70\n",
      "-----\n"
     ]
    }
   ],
   "source": [
    "# Visualize some random training examples\n",
    "import random\n",
    "random_index = random.randint(0, len(train_df)-5)\n",
    "for row in train_df_shuffled[[\"text\", \"target\"]][random_index: random_index +5].itertuples():\n",
    "    _, text, target = row\n",
    "    if target > 0:\n",
    "        print(f\"Target:{target}\", \"(real disaster)\")\n",
    "    else:\n",
    "        print(f\"Target:{target}\", \"(not a real disaster)\")\n",
    "    \n",
    "    print(f\"Text: \\n{text}\")\n",
    "    print(\"-----\\n\")"
   ],
   "metadata": {
    "collapsed": false,
    "ExecuteTime": {
     "end_time": "2023-07-30T15:10:54.017413Z",
     "start_time": "2023-07-30T15:10:54.007309200Z"
    }
   },
   "id": "99ad01fd617f2fad"
  },
  {
   "cell_type": "markdown",
   "source": [
    "### Split data into training and validation sets"
   ],
   "metadata": {
    "collapsed": false,
    "ExecuteTime": {
     "end_time": "2023-07-30T14:50:41.488086300Z",
     "start_time": "2023-07-30T14:50:41.221405500Z"
    }
   },
   "id": "cc004f467eb6820b"
  },
  {
   "cell_type": "code",
   "execution_count": 10,
   "outputs": [],
   "source": [
    "from sklearn.model_selection import train_test_split\n",
    "\n",
    "train_sentences, val_sentences, train_labels, val_labels = train_test_split(train_df['text'],\n",
    "                                                                            train_df['target'],\n",
    "                                                                            test_size = 0.1,\n",
    "                                                                            random_state = 42)"
   ],
   "metadata": {
    "collapsed": false,
    "ExecuteTime": {
     "end_time": "2023-07-30T15:10:54.287939800Z",
     "start_time": "2023-07-30T15:10:54.012413300Z"
    }
   },
   "id": "e9962e431d6f4625"
  },
  {
   "cell_type": "code",
   "execution_count": 11,
   "outputs": [
    {
     "data": {
      "text/plain": "(7613,)"
     },
     "execution_count": 11,
     "metadata": {},
     "output_type": "execute_result"
    }
   ],
   "source": [
    "train_df['text'].shape"
   ],
   "metadata": {
    "collapsed": false,
    "ExecuteTime": {
     "end_time": "2023-07-30T15:10:54.297702Z",
     "start_time": "2023-07-30T15:10:54.288940900Z"
    }
   },
   "id": "2044aeeaed5209d8"
  },
  {
   "cell_type": "code",
   "execution_count": 12,
   "outputs": [
    {
     "data": {
      "text/plain": "0       Our Deeds are the Reason of this #earthquake M...\n1                  Forest fire near La Ronge Sask. Canada\n2       All residents asked to 'shelter in place' are ...\n3       13,000 people receive #wildfires evacuation or...\n4       Just got sent this photo from Ruby #Alaska as ...\n                              ...                        \n7608    Two giant cranes holding a bridge collapse int...\n7609    @aria_ahrary @TheTawniest The out of control w...\n7610    M1.94 [01:04 UTC]?5km S of Volcano Hawaii. htt...\n7611    Police investigating after an e-bike collided ...\n7612    The Latest: More Homes Razed by Northern Calif...\nName: text, Length: 7613, dtype: object"
     },
     "execution_count": 12,
     "metadata": {},
     "output_type": "execute_result"
    }
   ],
   "source": [
    "train_df[\"text\"]"
   ],
   "metadata": {
    "collapsed": false,
    "ExecuteTime": {
     "end_time": "2023-07-30T15:10:54.297702Z",
     "start_time": "2023-07-30T15:10:54.292778400Z"
    }
   },
   "id": "aecfc9a6831f9cee"
  },
  {
   "cell_type": "code",
   "execution_count": 13,
   "outputs": [
    {
     "data": {
      "text/plain": "array(['Our Deeds are the Reason of this #earthquake May ALLAH Forgive us all',\n       'Forest fire near La Ronge Sask. Canada',\n       \"All residents asked to 'shelter in place' are being notified by officers. No other evacuation or shelter in place orders are expected\",\n       ...,\n       'M1.94 [01:04 UTC]?5km S of Volcano Hawaii. http://t.co/zDtoyd8EbJ',\n       'Police investigating after an e-bike collided with a car in Little Portugal. E-bike rider suffered serious non-life threatening injuries.',\n       'The Latest: More Homes Razed by Northern California Wildfire - ABC News http://t.co/YmY4rSkQ3d'],\n      dtype=object)"
     },
     "execution_count": 13,
     "metadata": {},
     "output_type": "execute_result"
    }
   ],
   "source": [
    "train_df['text'].to_numpy()"
   ],
   "metadata": {
    "collapsed": false,
    "ExecuteTime": {
     "end_time": "2023-07-30T15:10:54.302682Z",
     "start_time": "2023-07-30T15:10:54.296702200Z"
    }
   },
   "id": "4cdc72f6e817f834"
  },
  {
   "cell_type": "code",
   "execution_count": 14,
   "outputs": [
    {
     "data": {
      "text/plain": "array(['Our Deeds are the Reason of this #earthquake May ALLAH Forgive us all',\n       'Forest fire near La Ronge Sask. Canada',\n       \"All residents asked to 'shelter in place' are being notified by officers. No other evacuation or shelter in place orders are expected\",\n       ...,\n       'M1.94 [01:04 UTC]?5km S of Volcano Hawaii. http://t.co/zDtoyd8EbJ',\n       'Police investigating after an e-bike collided with a car in Little Portugal. E-bike rider suffered serious non-life threatening injuries.',\n       'The Latest: More Homes Razed by Northern California Wildfire - ABC News http://t.co/YmY4rSkQ3d'],\n      dtype=object)"
     },
     "execution_count": 14,
     "metadata": {},
     "output_type": "execute_result"
    }
   ],
   "source": [
    "train_df['text'].to_numpy()"
   ],
   "metadata": {
    "collapsed": false,
    "ExecuteTime": {
     "end_time": "2023-07-30T15:10:54.310197500Z",
     "start_time": "2023-07-30T15:10:54.303682700Z"
    }
   },
   "id": "ec43b6635db1dc03"
  },
  {
   "cell_type": "code",
   "execution_count": 15,
   "outputs": [
    {
     "data": {
      "text/plain": "(6851, 762, 6851, 762)"
     },
     "execution_count": 15,
     "metadata": {},
     "output_type": "execute_result"
    }
   ],
   "source": [
    "len(train_sentences), len(val_sentences), len(train_labels), len(val_labels)"
   ],
   "metadata": {
    "collapsed": false,
    "ExecuteTime": {
     "end_time": "2023-07-30T15:10:54.311197Z",
     "start_time": "2023-07-30T15:10:54.306538100Z"
    }
   },
   "id": "c4b936bb4e61352a"
  },
  {
   "cell_type": "markdown",
   "source": [
    "### Converting text into numbers: Text Vectorization also known as Tokenization"
   ],
   "metadata": {
    "collapsed": false,
    "ExecuteTime": {
     "end_time": "2023-07-30T14:50:41.515523700Z",
     "start_time": "2023-07-30T14:50:41.507057400Z"
    }
   },
   "id": "5777dedf87f2662b"
  },
  {
   "cell_type": "code",
   "execution_count": 16,
   "outputs": [
    {
     "data": {
      "text/plain": "101905"
     },
     "execution_count": 16,
     "metadata": {},
     "output_type": "execute_result"
    }
   ],
   "source": [
    "# Get the total words\n",
    "total_words = 0\n",
    "for i in train_sentences:\n",
    "    total_words += len(i.split())\n",
    "\n",
    "total_words"
   ],
   "metadata": {
    "collapsed": false,
    "ExecuteTime": {
     "end_time": "2023-07-30T15:10:54.327395100Z",
     "start_time": "2023-07-30T15:10:54.311197Z"
    }
   },
   "id": "618457c173977155"
  },
  {
   "cell_type": "code",
   "execution_count": 17,
   "outputs": [
    {
     "data": {
      "text/plain": "(6851,)"
     },
     "execution_count": 17,
     "metadata": {},
     "output_type": "execute_result"
    }
   ],
   "source": [
    "train_sentences.shape"
   ],
   "metadata": {
    "collapsed": false,
    "ExecuteTime": {
     "end_time": "2023-07-30T15:10:54.327898600Z",
     "start_time": "2023-07-30T15:10:54.319406700Z"
    }
   },
   "id": "829d84b65c26bb92"
  },
  {
   "cell_type": "code",
   "execution_count": 18,
   "outputs": [
    {
     "data": {
      "text/plain": "15"
     },
     "execution_count": 18,
     "metadata": {},
     "output_type": "execute_result"
    }
   ],
   "source": [
    "# Get the average words per sentence or line\n",
    "avg_words_per_sentence = round(total_words/len(train_sentences))\n",
    "avg_words_per_sentence"
   ],
   "metadata": {
    "collapsed": false,
    "ExecuteTime": {
     "end_time": "2023-07-30T15:10:54.327898600Z",
     "start_time": "2023-07-30T15:10:54.322983700Z"
    }
   },
   "id": "a7a8bed44aec85d5"
  },
  {
   "cell_type": "code",
   "execution_count": 19,
   "outputs": [],
   "source": [
    "# Normally, total number of words is equal or less than the max vocabulary length\n",
    "max_vocab_length = 10000\n",
    "\n",
    "# max length of a statement is equal or more than the average word per sentence or line\n",
    "max_length = 15"
   ],
   "metadata": {
    "collapsed": false,
    "ExecuteTime": {
     "end_time": "2023-07-30T15:10:54.331902700Z",
     "start_time": "2023-07-30T15:10:54.326834300Z"
    }
   },
   "id": "92ebee1bf68d8486"
  },
  {
   "cell_type": "code",
   "execution_count": 20,
   "outputs": [],
   "source": [
    "import tensorflow as tf\n",
    "from tensorflow.keras.layers.experimental.preprocessing import TextVectorization\n",
    "\n",
    "text_vectorizer = TextVectorization(max_tokens = max_vocab_length,\n",
    "                                    output_mode = \"int\",\n",
    "                                    output_sequence_length = max_length)\n",
    "\n",
    "# Fit the text vectorizer to the training set\n",
    "text_vectorizer.adapt(train_sentences)"
   ],
   "metadata": {
    "collapsed": false,
    "ExecuteTime": {
     "end_time": "2023-07-30T15:10:54.591092800Z",
     "start_time": "2023-07-30T15:10:54.329902900Z"
    }
   },
   "id": "8805b068faa29b89"
  },
  {
   "cell_type": "code",
   "execution_count": 21,
   "outputs": [
    {
     "name": "stdout",
     "output_type": "stream",
     "text": [
      "There's a flood in my street! Sentence length is 29.\n"
     ]
    },
    {
     "data": {
      "text/plain": "<tf.Tensor: shape=(1, 15), dtype=int64, numpy=\narray([[282,   3, 206,   4,  13, 674,   0,   0,   0,   0,   0,   0,   0,\n          0,   0]], dtype=int64)>"
     },
     "execution_count": 21,
     "metadata": {},
     "output_type": "execute_result"
    }
   ],
   "source": [
    "# Create a sample sentence and tokenize it\n",
    "samp_sentence = \"There's a flood in my street!\"\n",
    "print(samp_sentence, f\"Sentence length is {len(samp_sentence)}.\")\n",
    "text_vectorizer([samp_sentence])\n",
    "#len(tf.squeeze(text_vectorizer([samp_sentence])))"
   ],
   "metadata": {
    "collapsed": false,
    "ExecuteTime": {
     "end_time": "2023-07-30T15:10:54.614379Z",
     "start_time": "2023-07-30T15:10:54.592092300Z"
    }
   },
   "id": "111d45283fbfd4ae"
  },
  {
   "cell_type": "code",
   "execution_count": 22,
   "outputs": [
    {
     "name": "stdout",
     "output_type": "stream",
     "text": [
      "Original text: \n",
      "\n",
      " Families to sue over Legionnaires: More than 40 families affected by the fatal outbreak of Legionnaires' disease in Edinburgh are to ... \n",
      "\n",
      "Vectorized text:\n"
     ]
    },
    {
     "data": {
      "text/plain": "<tf.Tensor: shape=(1, 15), dtype=int64, numpy=\narray([[137,   5, 643,  60, 196,  50,  78, 426, 137, 531,  18,   2, 180,\n        325,   6]], dtype=int64)>"
     },
     "execution_count": 22,
     "metadata": {},
     "output_type": "execute_result"
    }
   ],
   "source": [
    "# Choose random sentence from the training dataset and tokenize it\n",
    "rand_train_sentence = random.choice(train_sentences)\n",
    "print(f\"Original text: \\n\\n {rand_train_sentence} \\n\\nVectorized text:\")\n",
    "text_vectorizer([rand_train_sentence])"
   ],
   "metadata": {
    "collapsed": false,
    "ExecuteTime": {
     "end_time": "2023-07-30T15:10:54.623462200Z",
     "start_time": "2023-07-30T15:10:54.613379Z"
    }
   },
   "id": "4f30ca7e95b2b5e5"
  },
  {
   "cell_type": "code",
   "execution_count": 23,
   "outputs": [
    {
     "data": {
      "text/plain": "['',\n '[UNK]',\n 'the',\n 'a',\n 'in',\n 'to',\n 'of',\n 'and',\n 'i',\n 'is',\n 'for',\n 'on',\n 'you',\n 'my',\n 'with',\n 'it',\n 'that',\n 'at',\n 'by',\n 'this',\n 'from',\n 'are',\n 'be',\n 'was',\n 'have',\n 'like',\n 'as',\n 'me',\n 'but',\n 'up',\n 'just',\n 'so',\n 'im',\n 'not',\n 'amp',\n 'your',\n 'out',\n 'all',\n 'after',\n 'its',\n 'has',\n 'no',\n 'will',\n 'an',\n 'fire',\n 'when',\n 'if',\n 'we',\n 'get',\n 'now',\n 'more',\n 'via',\n 'new',\n 'about',\n 'what',\n 'people',\n 'or',\n 'news',\n 'he',\n 'they',\n 'over',\n 'one',\n 'been',\n 'how',\n 'dont',\n 'who',\n 'video',\n 'into',\n 'were',\n 'do',\n 'us',\n 'can',\n 'emergency',\n '2',\n 'disaster',\n 'there',\n 'her',\n 'some',\n 'than',\n 'still',\n 'would',\n 'his',\n 'police',\n 'crash',\n 'burning',\n 'suicide',\n 'body',\n 'california',\n 'back',\n 'time',\n 'buildings',\n 'had',\n 'why',\n 'off',\n 'them',\n 'got',\n 'man',\n 'see',\n 'storm',\n 'know',\n 'going',\n 'cant',\n 'world',\n 'first',\n 'day',\n 'rt',\n 'nuclear',\n 'love',\n 'youtube',\n 'our',\n 'attack',\n 'go',\n 'fires',\n 'two',\n 'their',\n 'bomb',\n 'killed',\n '3',\n 'train',\n 'dead',\n 'car',\n 'war',\n 'life',\n 'may',\n 'watch',\n 'full',\n 'only',\n 'here',\n 'hiroshima',\n 'down',\n 'today',\n 'u',\n 'accident',\n 'think',\n 'many',\n 'good',\n 'way',\n 'families',\n 'too',\n 'then',\n 'say',\n 'being',\n 'last',\n 'could',\n 'years',\n 'want',\n 'did',\n 'home',\n 'best',\n 'should',\n 'need',\n 'mass',\n 'even',\n 'work',\n 'make',\n 'help',\n 'bombing',\n 'wildfire',\n 'please',\n 'look',\n 'lol',\n 'because',\n 'another',\n 'take',\n 'him',\n 'collapse',\n 'year',\n 'water',\n 'those',\n 'really',\n 'army',\n 'am',\n 'school',\n 'mh370',\n 'death',\n 'right',\n 'pm',\n 'black',\n 'much',\n 'forest',\n 'fatal',\n '5',\n 'youre',\n 'she',\n 'northern',\n '4',\n 'live',\n 'city',\n 'bomber',\n 'wreck',\n 'hot',\n 'great',\n 'every',\n '2015',\n 'old',\n 'let',\n 'legionnaires',\n 'fear',\n 'obama',\n 'latest',\n 'homes',\n 'flames',\n 'come',\n '1',\n 'never',\n 'getting',\n 'flood',\n '\\x89Û',\n 'where',\n 'said',\n 'japan',\n 'shit',\n 'floods',\n 'during',\n 'atomic',\n 'god',\n 'damage',\n 'under',\n 'near',\n 'feel',\n 'ever',\n 'earthquake',\n 'ass',\n 'which',\n 'since',\n 'read',\n 'oil',\n 'night',\n 'most',\n 'military',\n 'injured',\n 'hope',\n 'everyone',\n 'coming',\n 'any',\n 'without',\n 'while',\n 'well',\n 'thats',\n 'stop',\n 'next',\n 'hit',\n 'weather',\n 'these',\n 'state',\n 'little',\n 'flooding',\n 'evacuation',\n 'before',\n 'truck',\n 'severe',\n 's',\n 'content',\n 'always',\n 'until',\n 'top',\n 'through',\n 'smoke',\n 'plan',\n 'found',\n 'confirmed',\n 'cause',\n 'movie',\n 'fucking',\n 'face',\n 'debris',\n 'bloody',\n 'bad',\n 'weapon',\n 'warning',\n 'times',\n 'thunderstorm',\n 'set',\n 'says',\n 'natural',\n 'malaysia',\n 'liked',\n 'ive',\n 'gonna',\n 'free',\n 'fall',\n 'thunder',\n 'theres',\n 'sinking',\n 'saudi',\n 'refugees',\n 'made',\n 'loud',\n 'looks',\n 'injuries',\n 'house',\n 'hes',\n 'heat',\n 'cross',\n 'also',\n 'air',\n 'w',\n 'screaming',\n 'rain',\n 'murder',\n 'head',\n 'failure',\n 'explode',\n 'check',\n 'wreckage',\n 'wind',\n 'wild',\n 'trapped',\n 'survive',\n 'spill',\n 'reddit',\n 'panic',\n 'missing',\n 'lightning',\n 'family',\n 'change',\n 'whole',\n 'weapons',\n 'terrorist',\n 'service',\n 'run',\n 'rescuers',\n 'report',\n 'released',\n 'photo',\n 'outbreak',\n 'ill',\n 'food',\n 'evacuate',\n 'end',\n 'destroyed',\n 'deaths',\n 'boy',\n 'again',\n '70',\n 'terrorism',\n 'sinkhole',\n 'services',\n 'save',\n 'road',\n 'rescue',\n 'migrants',\n 'keep',\n 'high',\n 'harm',\n 'danger',\n 'county',\n 'collided',\n 'blood',\n 'big',\n 'bags',\n 'twister',\n 'trauma',\n 'tonight',\n 'summer',\n 'ruin',\n 'mosque',\n 'lives',\n 'least',\n 'hail',\n 'girl',\n 'fuck',\n 'fatalities',\n 'does',\n 'derailment',\n 'curfew',\n 'collapsed',\n 'charged',\n 'call',\n 'burned',\n 'breaking',\n 'boat',\n 'bag',\n 'attacked',\n 'ambulance',\n 'wrecked',\n 'wounded',\n 'white',\n 'week',\n 'update',\n 'things',\n 'structural',\n 'stock',\n 'someone',\n 'show',\n 'rioting',\n 'real',\n 'phone',\n 'mudslide',\n 'landslide',\n 'investigators',\n 'explosion',\n 'engulfed',\n 'displaced',\n 'devastation',\n 'destroy',\n 'deluge',\n 'crashed',\n 'catastrophe',\n 'bus',\n 'battle',\n 'away',\n 'area',\n 'apocalypse',\n 'whirlwind',\n 'survivors',\n 'survived',\n 'sunk',\n 'saw',\n 'sandstorm',\n 'post',\n 'other',\n 'massacre',\n 'island',\n 'injury',\n 'id',\n 'hundreds',\n 'hostages',\n 'horrible',\n 'hazardous',\n 'hazard',\n 'game',\n 'exploded',\n 'drought',\n 'bridge',\n 'bang',\n '40',\n 'windstorm',\n 'went',\n 'wave',\n 'soon',\n 'rescued',\n 'quarantined',\n 'national',\n 'market',\n 'kills',\n 'hurricane',\n 'heard',\n 'drowning',\n 'drown',\n 'detonate',\n 'destruction',\n 'derail',\n 'cliff',\n 'bombed',\n 'blown',\n 'around',\n 'airplane',\n '6',\n '\\x89ÛÒ',\n 'wounds',\n 'woman',\n 'trouble',\n 'traumatised',\n 'tragedy',\n 'thing',\n 'story',\n 'screams',\n 'put',\n 'past',\n 'ok',\n 'iran',\n 'inundated',\n 'group',\n 'flattened',\n 'fedex',\n 'caused',\n 'came',\n 'better',\n 'august',\n 'armageddon',\n 'anniversary',\n '15',\n 'women',\n 'wanna',\n 'violent',\n 'typhoon',\n 'tsunami',\n 'thank',\n 'security',\n 'razed',\n 'possible',\n 'meltdown',\n 'lot',\n 'isis',\n 'hostage',\n 'famine',\n 'electrocuted',\n 'ebay',\n 'dust',\n 'crush',\n 'collide',\n 'chemical',\n 'blew',\n 'bleeding',\n 'bioterror',\n 'against',\n 'zone',\n 'whats',\n 'use',\n 'twitter',\n 'tomorrow',\n 'sure',\n 'something',\n 'send',\n 'quarantine',\n 'plane',\n 'pkk',\n 'part',\n 'panicking',\n 'pandemonium',\n 'oh',\n 'must',\n 'longer',\n 'long',\n 'left',\n 'hijacker',\n 'heart',\n 'government',\n 'goes',\n 'due',\n 'didnt',\n 'detonated',\n 'desolation',\n 'collision',\n 'catastrophic',\n 'casualties',\n 'calgary',\n 'building',\n 'beautiful',\n 'bagging',\n 'affected',\n 'yet',\n 'volcano',\n 'very',\n 'thanks',\n 'st',\n 'screamed',\n 'river',\n 'riot',\n 'reunion',\n 'responders',\n 'red',\n 'obliteration',\n 'obliterated',\n 'nothing',\n 'music',\n 'minute',\n 'lava',\n 'land',\n 'hijacking',\n 'fatality',\n 'fan',\n 'drowned',\n 'detonation',\n 'demolish',\n 'cool',\n 'blast',\n 'believe',\n 'baby',\n 'used',\n 'ur',\n 'three',\n 'thought',\n 'sound',\n 'song',\n 'site',\n 'sirens',\n 'shoulder',\n 'seismic',\n 'same',\n 'prebreak',\n 'power',\n 'officials',\n 'obliterate',\n 'few',\n 'eyewitness',\n 'died',\n 'demolished',\n 'care',\n 'arson',\n 'airport',\n '9',\n 'turkey',\n 'traffic',\n 'such',\n 'stay',\n 'start',\n 'snowstorm',\n 'shooting',\n 'rubble',\n 'remember',\n 'rainstorm',\n 'murderer',\n 'media',\n 'making',\n 'kids',\n 'issues',\n 'israeli',\n 'india',\n 'having',\n 'far',\n 'evacuated',\n 'electrocute',\n 'doing',\n 'doesnt',\n 'derailed',\n 'demolition',\n 'crushed',\n 'brown',\n 'blazing',\n 'annihilated',\n '8',\n '7',\n '16yr',\n 'yes',\n 'wake',\n 'suspect',\n 'south',\n 'shot',\n 'reactor',\n 'policy',\n 'nowplaying',\n 'nearby',\n 'line',\n 'light',\n 'lets',\n 'leave',\n 'inside',\n 'horror',\n 'hijack',\n 'hell',\n 'health',\n 'gets',\n 'casualty',\n 'bc',\n 'already',\n 'actually',\n 'words',\n 'upheaval',\n 'trying',\n 'tornado',\n 'tell',\n 'sue',\n 'stretcher',\n 'second',\n 're\\x89Û',\n 'plans',\n 'pic',\n 'mp',\n 'men',\n 'maybe',\n 'low',\n 'lab',\n 'islam',\n 'hours',\n 'history',\n 'half',\n 'guys',\n 'fun',\n 'fight',\n 'done',\n 'deluged',\n 'declares',\n 'days',\n 'bodies',\n 'bestnaijamade',\n 'anything',\n 'almost',\n '20',\n '\\x89ÛÓ',\n 'wont',\n 'swallowed',\n 'support',\n 'street',\n 'searching',\n 'reuters',\n 'play',\n 'place',\n 'photos',\n 'person',\n 'peace',\n 'online',\n 'north',\n 'literally',\n 'hey',\n 'helicopter',\n 'find',\n 'cyclone',\n 'crews',\n 'business',\n 'bush',\n 'both',\n 'bioterrorism',\n 'bar',\n 'avalanche',\n 'aircraft',\n 'abc',\n '50',\n 'yeah',\n 'west',\n 'wait',\n 'typhoondevastated',\n 'theyre',\n 'siren',\n 'saipan',\n 'pick',\n 'name',\n 'money',\n 'la',\n 'kill',\n 'job',\n 'hellfire',\n 'hear',\n 'happy',\n 'eyes',\n 'die',\n 'data',\n 'conclusively',\n 'children',\n 'blight',\n 'blaze',\n 'ago',\n 'waves',\n 'trench',\n 'texas',\n 'team',\n 'space',\n 'projected',\n 'probably',\n 'picking',\n 'own',\n 'order',\n 'myself',\n 'memories',\n 'major',\n 'm',\n 'lost',\n 'jobs',\n 'hollywood',\n 'feared',\n 'effect',\n 'deal',\n 'd',\n 'center',\n 'case',\n 'book',\n 'bigger',\n 'anyone',\n 'american',\n 'ablaze',\n '12',\n '10',\n 'yourself',\n 'watching',\n 'tv',\n 'transport',\n 'town',\n 'spot',\n 'soudelor',\n 'ship',\n 'seen',\n 'saved',\n 'pretty',\n 'outside',\n 'officer',\n 'mom',\n 'miners',\n 'meek',\n 'leather',\n 'houses',\n 'hat',\n 'hard',\n 'flag',\n 'everything',\n 'daily',\n 'child',\n 'chance',\n 'called',\n 'banned',\n 'ball',\n 'annihilation',\n 'amid',\n '30',\n 'wow',\n 'trains',\n 'though',\n 'star',\n 'signs',\n 'side',\n 'shes',\n 'self',\n 'rise',\n 'refugio',\n 'rd',\n 'poor',\n 'once',\n 'okay',\n 'n',\n 'move',\n 'might',\n 'manslaughter',\n 'makes',\n 'hailstorm',\n 'gbbo',\n 'friends',\n 'flash',\n 'fast',\n 'emmerdale',\n 'east',\n 'desolate',\n 'damn',\n 'crisis',\n 'crazy',\n 'course',\n 'couple',\n 'country',\n 'costlier',\n 'centre',\n 'caught',\n 'cake',\n 'blizzard',\n 'become',\n 'angry',\n 'alone',\n 'youth',\n 'wrong',\n 'win',\n 'vs',\n 'virgin',\n 'truth',\n 'temple',\n 'sorry',\n 'reports',\n 'reason',\n 'playing',\n 'pain',\n 'omg',\n 'official',\n 'myanmar',\n 'mayhem',\n 'looking',\n 'listen',\n 'level',\n 'ladies',\n 'knock',\n 'isnt',\n 'ignition',\n 'huge',\n 'heavy',\n 'hate',\n 'guy',\n 'gun',\n 'global',\n 'finally',\n 'feeling',\n 'eye',\n 'downtown',\n 'control',\n 'computers',\n 'closed',\n 'class',\n 'beach',\n 'bbc',\n 'b',\n 'appears',\n 'across',\n '60',\n '13',\n '11yearold',\n 'yours',\n 'womens',\n 'wanted',\n 'view',\n 'usa',\n 'united',\n 'try',\n 'totally',\n 'toddler',\n 'till',\n 'thousands',\n 'takes',\n 'taken',\n 't',\n 'stand',\n 'russian',\n 'running',\n 'reddits',\n 'quiz',\n 'pay',\n 'pakistan',\n 'others',\n 'mop',\n 'marks',\n 'mad',\n 'link',\n 'libya',\n 'issued',\n 'instead',\n 'happened',\n 'gt',\n 'giant',\n 'gems',\n 'gave',\n 'front',\n 'follow',\n 'film',\n 'experts',\n 'else',\n 'drive',\n 'devastated',\n 'declaration',\n 'coaches',\n 'cnn',\n 'christian',\n 'anthrax',\n 'aftershock',\n '11',\n 'worst',\n 'working',\n 'village',\n 'vehicle',\n 'unconfirmed',\n 'thursday',\n 'talk',\n 'subreddits',\n 'sounds',\n 'shows',\n 'scared',\n 'ready',\n 'potus',\n 'park',\n 'niggas',\n 'neighbours',\n 'nagasaki',\n 'mount',\n 'miss',\n 'mishaps',\n 'lord',\n 'led',\n 'learn',\n 'large',\n 'landing',\n 'israel',\n 'haha',\n 'gop',\n 'germs',\n 'galactic',\n 'fukushima',\n 'following',\n 'favorite',\n 'escape',\n 'entire',\n 'ebola',\n 'driving',\n 'download',\n 'climate',\n 'chinas',\n 'china',\n 'cars',\n 'behind',\n 'aug',\n 'arsonist',\n 'aint',\n 'added',\n 'action',\n '25',\n '100',\n '05',\n 'wonder',\n 'tweet',\n 'turn',\n 'trust',\n 'tree',\n 'told',\n 'sign',\n 'safety',\n 'russia',\n 'rules',\n 'rock',\n 'reported',\n 'radio',\n 'r',\n 'pray',\n 'pradesh',\n 'ppl',\n 'point',\n 'patience',\n 'party',\n 'parole',\n 'pamela',\n 'pakistani',\n 'outrage',\n 'offensive',\n 'nws',\n 'needs',\n 'nearly',\n 'muslims',\n 'morning',\n 'moment',\n ...]"
     },
     "execution_count": 23,
     "metadata": {},
     "output_type": "execute_result"
    }
   ],
   "source": [
    "# Get unique words in the vocabulary\n",
    "words_in_vocab = text_vectorizer.get_vocabulary()\n",
    "words_in_vocab"
   ],
   "metadata": {
    "collapsed": false,
    "ExecuteTime": {
     "end_time": "2023-07-30T15:10:54.638602900Z",
     "start_time": "2023-07-30T15:10:54.622461400Z"
    }
   },
   "id": "a9796849d92692a"
  },
  {
   "cell_type": "code",
   "execution_count": 24,
   "outputs": [
    {
     "data": {
      "text/plain": "10000"
     },
     "execution_count": 24,
     "metadata": {},
     "output_type": "execute_result"
    }
   ],
   "source": [
    "len(words_in_vocab)"
   ],
   "metadata": {
    "collapsed": false,
    "ExecuteTime": {
     "end_time": "2023-07-30T15:10:54.649200200Z",
     "start_time": "2023-07-30T15:10:54.639602100Z"
    }
   },
   "id": "1fc1d49d18c2f968"
  },
  {
   "cell_type": "code",
   "execution_count": 25,
   "outputs": [
    {
     "data": {
      "text/plain": "['', '[UNK]', 'the', 'a', 'in']"
     },
     "execution_count": 25,
     "metadata": {},
     "output_type": "execute_result"
    }
   ],
   "source": [
    "# Top 5 words in words_in_vocab\n",
    "words_in_vocab[:5]"
   ],
   "metadata": {
    "collapsed": false,
    "ExecuteTime": {
     "end_time": "2023-07-30T15:10:54.650201900Z",
     "start_time": "2023-07-30T15:10:54.641916100Z"
    }
   },
   "id": "60913b2c06167547"
  },
  {
   "cell_type": "code",
   "execution_count": 26,
   "outputs": [
    {
     "data": {
      "text/plain": "['pakthey', 'pakistan\\x89Ûªs', 'pakistans', 'pajamas', 'paints']"
     },
     "execution_count": 26,
     "metadata": {},
     "output_type": "execute_result"
    }
   ],
   "source": [
    "# Least 5 words in words_in_vocab\n",
    "words_in_vocab[-5:]"
   ],
   "metadata": {
    "collapsed": false,
    "ExecuteTime": {
     "end_time": "2023-07-30T15:10:54.671216900Z",
     "start_time": "2023-07-30T15:10:54.646243300Z"
    }
   },
   "id": "4b66d97a81a1ab9b"
  },
  {
   "cell_type": "markdown",
   "source": [
    "### Embedding layer\n",
    "\n",
    "To make our embedding, we are going to use TensorFlow’s embedding layer: https://www.tensorflow.org/api/docs/python/tf/keras/layers/\n",
    "\n",
    "The parameters are below mostly used.\n",
    "* input_dim = size of the vocabulary\n",
    "* output_dim = size of the output embedding vector.  For example, a value of 100 would mean each token gets represented by a vector 100 long\n",
    "* input_length = length of the sequences being passed to the embedding layer"
   ],
   "metadata": {
    "collapsed": false,
    "ExecuteTime": {
     "end_time": "2023-07-30T14:50:41.854222800Z",
     "start_time": "2023-07-30T14:50:41.840709900Z"
    }
   },
   "id": "4d47ece46e5b3070"
  },
  {
   "cell_type": "code",
   "execution_count": 27,
   "outputs": [],
   "source": [
    "from tensorflow.keras import layers\n",
    "\n",
    "embedding = layers.Embedding(input_dim = max_vocab_length,\n",
    "                             output_dim = 64,\n",
    "                             embeddings_initializer = \"uniform\",\n",
    "                             input_length = max_length)"
   ],
   "metadata": {
    "collapsed": false,
    "ExecuteTime": {
     "end_time": "2023-07-30T15:10:54.673216400Z",
     "start_time": "2023-07-30T15:10:54.652201900Z"
    }
   },
   "id": "55b4d3e382cb85d7"
  },
  {
   "cell_type": "code",
   "execution_count": 28,
   "outputs": [
    {
     "name": "stdout",
     "output_type": "stream",
     "text": [
      "Original text: Beat:G3 MOTOR VEHICLE COLLISION HIT AND RUN at RAINIER AV S / S CHARLES ST reported on 8/5/2015 6:08 PM Call# 15000270653\n",
      "\n",
      "Vectorized text: [[   1 2381  921  524  241    7  320   17 4787 2579  251  251 3105  536\n",
      "   980]]\n",
      "\n",
      "Vectorized text shape: (1, 15)\n",
      "Embbedded text: [[[-3.63407135e-02  2.10540779e-02  2.09156312e-02 -2.23741289e-02\n",
      "    1.80211402e-02 -1.65765882e-02  2.63943411e-02  2.43734568e-04\n",
      "   -4.00209427e-02  2.97746770e-02  3.07333581e-02 -1.18108988e-02\n",
      "   -2.77475249e-02  4.79103960e-02  4.69737165e-02 -1.66717172e-02\n",
      "    4.30268906e-02  4.07264270e-02 -4.52147126e-02  4.93646301e-02\n",
      "   -4.91703041e-02 -1.60159692e-02 -8.79808515e-03  2.92730965e-02\n",
      "   -3.66511829e-02 -4.43222038e-02  2.03654803e-02  4.76327874e-02\n",
      "    4.29905988e-02  3.77776735e-02 -4.69477549e-02  2.63527371e-02\n",
      "    2.76186131e-02 -3.38257551e-02 -4.77507375e-02  3.84902023e-02\n",
      "   -4.35551666e-02 -3.05009838e-02 -3.33156139e-02 -1.67606026e-03\n",
      "    2.97838338e-02  3.71469967e-02  3.15144993e-02 -4.04429212e-02\n",
      "    4.83021475e-02  1.27522983e-02  2.21403688e-03  2.65429728e-02\n",
      "    3.47830169e-02 -2.23415140e-02  9.55231115e-03 -2.08199862e-02\n",
      "    1.16980784e-02 -2.27633361e-02  1.42343678e-02  4.28679101e-02\n",
      "    1.53966807e-02  2.55219378e-02 -3.62373590e-02  3.92255671e-02\n",
      "   -3.48837301e-03  2.01377384e-02  3.03027146e-02  4.20983173e-02]\n",
      "  [ 3.65213864e-02  1.41058825e-02 -2.65407208e-02 -1.42750889e-03\n",
      "   -2.02244520e-03 -4.35542315e-04  4.79753055e-02  2.63595097e-02\n",
      "   -2.08862871e-03 -3.85582447e-03  3.58585827e-02  3.63876708e-02\n",
      "    4.32949550e-02  3.72180454e-02  4.70236428e-02  9.74595547e-04\n",
      "   -2.68168095e-02 -4.76549752e-02  5.45687601e-03  2.38816477e-02\n",
      "   -4.97560166e-02  1.03354678e-02 -7.96169043e-03  1.94061510e-02\n",
      "   -4.11369316e-02 -1.03101954e-02  4.38070185e-02  1.93016641e-02\n",
      "    1.05815902e-02  1.10789388e-03 -1.81575790e-02 -4.21070680e-02\n",
      "    9.33725759e-03 -2.16005202e-02 -1.89145338e-02  1.58442892e-02\n",
      "   -1.94051862e-02 -9.63920355e-03 -2.01819539e-02  5.28534502e-03\n",
      "    4.10522148e-03  1.99034475e-02 -3.25270742e-03  3.71228531e-03\n",
      "   -3.78561020e-03  3.28952707e-02  3.75849046e-02 -4.49715368e-02\n",
      "   -1.86333172e-02 -2.67344117e-02  5.78138977e-03 -2.42487080e-02\n",
      "   -1.26121640e-02 -1.76640637e-02 -3.63712199e-02 -4.21001688e-02\n",
      "    3.23654450e-02 -4.08574566e-02 -4.09983508e-02  3.65084410e-03\n",
      "   -4.95924242e-02  2.87973545e-02 -4.77236286e-02 -3.53984237e-02]\n",
      "  [ 4.21359651e-02  1.01508722e-02 -4.92174998e-02 -7.35156611e-03\n",
      "    1.37321688e-02 -1.41655281e-03 -1.04856715e-02 -4.02352586e-02\n",
      "    1.94651149e-02 -2.78133750e-02  2.71986462e-02 -3.87867317e-02\n",
      "    3.19059379e-02 -3.96592841e-02 -6.83317333e-03 -3.83544341e-02\n",
      "    1.68032534e-02  4.15979698e-03  1.83928721e-02  4.74292077e-02\n",
      "    3.69439013e-02 -1.68465599e-02 -4.20929566e-02 -3.15411091e-02\n",
      "   -2.54826546e-02 -2.79953368e-02  2.85421945e-02 -2.90230513e-02\n",
      "    3.99073251e-02 -2.82421000e-02 -3.97899970e-02  3.43097374e-03\n",
      "    3.91274802e-02 -3.51341143e-02 -3.61080058e-02 -4.64504622e-02\n",
      "    1.42391771e-03  2.58704461e-02  3.62186171e-02 -3.90236005e-02\n",
      "    3.08066942e-02 -4.23870571e-02 -4.24312614e-02  2.25759260e-02\n",
      "   -2.31677536e-02  3.87952216e-02 -2.12251190e-02  4.06130068e-02\n",
      "    2.88091786e-02  3.94493453e-02  3.41075920e-02  2.87414305e-02\n",
      "   -3.38406563e-02  4.88180257e-02 -4.55858484e-02 -1.71804205e-02\n",
      "    1.76922791e-02  4.06767838e-02  2.94455923e-02 -1.66589133e-02\n",
      "    4.53562625e-02  2.46922262e-02  4.40031327e-02 -4.70654964e-02]\n",
      "  [ 7.71768391e-05  3.46805938e-02 -4.92590778e-02 -3.33980694e-02\n",
      "   -1.35766156e-02 -2.10299026e-02 -3.59114781e-02  3.83086093e-02\n",
      "   -8.81447643e-03 -3.42085585e-02  3.28424014e-02 -2.50410195e-02\n",
      "   -7.17490911e-06  3.96512412e-02 -1.53794140e-03  1.05436891e-03\n",
      "   -2.91996952e-02  3.85662951e-02 -2.83398982e-02  1.29465573e-02\n",
      "    4.46967036e-03 -3.96710522e-02  5.96320629e-03  1.31441280e-03\n",
      "   -4.73523997e-02 -3.33672985e-02  6.06781244e-03  1.50176398e-02\n",
      "   -4.65726964e-02 -1.06759667e-02  9.14808363e-03  3.60780954e-03\n",
      "   -2.44722124e-02  1.80146843e-03  3.98351215e-02  3.70812751e-02\n",
      "    4.26985286e-02  6.09422848e-03  1.43103674e-03  3.19101252e-02\n",
      "   -5.09268045e-03 -3.54261026e-02 -2.85849571e-02  3.62484530e-03\n",
      "   -9.64981318e-03  4.04963531e-02  3.82912494e-02  4.85937335e-02\n",
      "    7.78768212e-03  1.71450265e-02 -3.39861959e-03 -2.48657465e-02\n",
      "    3.74812149e-02 -7.68106058e-03 -2.15175636e-02  3.78317945e-02\n",
      "   -4.39131632e-02 -3.65816951e-02 -3.11834216e-02  6.98859617e-03\n",
      "    9.06889513e-03  1.57186650e-02 -1.48155913e-02  1.04330480e-04]\n",
      "  [ 4.80595268e-02  3.71662527e-03 -2.86384579e-02  7.42025301e-03\n",
      "    4.36964370e-02 -7.35287741e-03  1.33975483e-02 -4.74959612e-02\n",
      "    4.19439189e-02 -3.21491733e-02  9.08041000e-03  3.42081450e-02\n",
      "   -3.40546742e-02  2.33718045e-02  2.30465084e-03  1.86368860e-02\n",
      "   -3.87639515e-02  2.83240713e-02 -4.35912609e-03 -4.34852727e-02\n",
      "    1.33315660e-02  4.47880365e-02  3.37559842e-02  1.12489089e-02\n",
      "    3.60532515e-02 -6.72907755e-03  3.55397575e-02 -3.58007438e-02\n",
      "   -3.48071083e-02  9.04896110e-03 -3.23586613e-02 -1.84880123e-02\n",
      "   -9.68707725e-03 -1.29580125e-02 -4.48769443e-02 -4.64318991e-02\n",
      "    2.28666142e-03  2.79258974e-02 -2.24591140e-02 -3.26054469e-02\n",
      "   -2.29689237e-02  3.64654176e-02  1.47192813e-02 -3.91809233e-02\n",
      "    4.46544774e-02 -2.23646294e-02 -1.90095790e-02 -1.17341653e-02\n",
      "   -2.84444578e-02 -2.21559051e-02  3.08863036e-02  1.97331794e-02\n",
      "    3.18973698e-02  8.89046118e-03  9.24013555e-04  2.16676332e-02\n",
      "    2.73729451e-02  1.60080530e-02 -3.06991488e-03 -9.02020931e-03\n",
      "   -4.59062122e-02  2.34747417e-02  4.30350788e-02 -3.06385644e-02]\n",
      "  [-2.36021355e-03  3.96770574e-02  2.92447321e-02 -4.76482026e-02\n",
      "   -3.25688869e-02  2.40729116e-02 -3.74815948e-02 -3.79514098e-02\n",
      "    2.75717042e-02  2.76796483e-02  6.96839020e-03 -1.50419697e-02\n",
      "    4.13222350e-02 -4.13900129e-02  4.17610295e-02  4.85595949e-02\n",
      "    1.75913014e-02 -3.09271943e-02  5.52240759e-03 -4.97497432e-02\n",
      "   -2.09206231e-02 -8.31190497e-03 -1.62692666e-02 -2.27389485e-03\n",
      "   -3.61492634e-02 -1.68759935e-02  2.41389759e-02 -6.15786389e-03\n",
      "    1.75772198e-02 -7.89972395e-03  3.96610834e-02 -4.29607630e-02\n",
      "    4.92903702e-02  3.97549383e-02  4.71086614e-02  1.78701319e-02\n",
      "   -3.25918086e-02  4.26439680e-02 -3.02711725e-02  3.73218097e-02\n",
      "    3.21045406e-02  2.45358236e-02  1.60064138e-02  3.64565961e-02\n",
      "   -3.27722430e-02  1.95302032e-02 -2.60743145e-02 -2.14505550e-02\n",
      "   -2.96718609e-02  2.98655517e-02  2.74109729e-02  1.11297518e-03\n",
      "    1.19474754e-02 -3.98587435e-04  3.20042409e-02  4.18882631e-02\n",
      "   -2.76793968e-02 -3.99998650e-02 -3.09658535e-02 -2.96375509e-02\n",
      "   -3.94575000e-02  4.53580357e-02 -1.81170925e-02 -3.93680222e-02]\n",
      "  [-3.64323035e-02 -1.68778300e-02 -1.95840728e-02  2.17022933e-02\n",
      "   -9.86181572e-03  5.95985726e-03 -2.02814229e-02 -8.71479511e-03\n",
      "   -1.49015896e-02  1.31727122e-02 -2.16245782e-02  1.80977248e-02\n",
      "    1.20364316e-02 -9.11227614e-03 -4.95603569e-02  2.74994262e-02\n",
      "    4.25233506e-02 -2.44514700e-02  1.93002075e-03 -1.76752917e-02\n",
      "   -1.59975663e-02  4.38620485e-02 -4.19333801e-02 -3.88209932e-02\n",
      "    1.17576495e-02 -1.45726688e-02 -3.19916010e-03 -1.18254051e-02\n",
      "   -1.50071867e-02 -1.92347895e-02  3.29824127e-02  4.06362750e-02\n",
      "   -3.25397737e-02 -4.61007133e-02 -2.66495235e-02 -2.12227833e-02\n",
      "    4.36994918e-02  4.69649918e-02 -2.67928839e-02 -5.21317124e-05\n",
      "   -2.07543261e-02 -2.83072144e-03  1.91499256e-02  3.00188772e-02\n",
      "   -6.22684881e-03  2.93214954e-02  5.23934513e-03 -4.75443378e-02\n",
      "   -7.56887347e-03 -2.05659755e-02 -3.06037813e-03  1.35360844e-02\n",
      "   -3.92081030e-02  2.07633860e-02  7.39271566e-03 -3.14574726e-02\n",
      "   -1.55721791e-02 -2.40658876e-02  4.12613042e-02  1.82715915e-02\n",
      "   -1.24469399e-02 -3.86577472e-02  1.36716478e-02 -1.57310255e-02]\n",
      "  [ 3.99246328e-02  1.50702931e-02  1.07236877e-02  3.17117460e-02\n",
      "   -5.65545633e-03  3.88027169e-02 -1.26350410e-02 -7.66447932e-03\n",
      "   -4.66841571e-02 -1.56499445e-04  2.07117684e-02  1.88861750e-02\n",
      "   -2.06445530e-03 -3.26540247e-02  1.66631602e-02  6.97259977e-03\n",
      "    3.80216129e-02  3.02982219e-02 -1.98400747e-02 -3.80214341e-02\n",
      "   -2.72267703e-02 -3.42722982e-03 -4.20852080e-02 -2.44251974e-02\n",
      "    9.14143398e-03  3.09060477e-02 -3.35315950e-02 -2.07353719e-02\n",
      "   -3.53520736e-02  3.26241367e-02  4.53315713e-02 -4.51904312e-02\n",
      "    1.22276433e-02  4.93778475e-02  3.32652591e-02  3.70388515e-02\n",
      "   -7.59454817e-03 -4.23294902e-02 -3.13649066e-02 -4.84774597e-02\n",
      "    4.44793962e-02 -1.58405304e-02 -3.62751372e-02  4.26929928e-02\n",
      "    4.70604338e-02  3.11765186e-02  1.38133653e-02 -1.98074225e-02\n",
      "    4.59505580e-02  2.75084414e-02 -2.70601269e-02  4.93480824e-02\n",
      "   -3.31610665e-02 -4.74624746e-02 -3.64903696e-02 -1.39991269e-02\n",
      "   -2.16819886e-02  1.92618035e-02 -2.73813959e-02  8.68371874e-03\n",
      "   -3.29581648e-02 -3.36977467e-02 -3.86221893e-02 -2.08124761e-02]\n",
      "  [-4.69520353e-02 -4.15150411e-02 -3.38214263e-02 -4.25820462e-02\n",
      "   -4.66703549e-02 -2.06339359e-02  3.51069830e-02 -3.89999524e-02\n",
      "   -3.96199338e-02  9.27504152e-03 -4.53449376e-02 -3.91553715e-03\n",
      "    4.18486260e-02  2.59018429e-02  1.61645077e-02  5.93278557e-03\n",
      "    2.95739211e-02 -4.69286442e-02 -3.04216389e-02  8.19212198e-03\n",
      "    1.83796920e-02  4.75048907e-02 -4.13338542e-02 -1.62330754e-02\n",
      "    2.28101127e-02  4.78029251e-05  2.63271667e-02 -1.68384239e-03\n",
      "   -2.02407967e-02  2.71331780e-02 -4.32745367e-03  7.74778426e-04\n",
      "   -1.98211204e-02 -1.06844082e-02 -8.23013857e-03  1.62871927e-03\n",
      "   -2.35702526e-02  1.49804093e-02 -2.91463491e-02  8.20517540e-03\n",
      "    2.97511928e-02  1.30177625e-02  1.30189694e-02  3.03998329e-02\n",
      "    3.92453782e-02 -4.10079472e-02 -2.29333639e-02 -4.88333814e-02\n",
      "    1.21365562e-02  4.32128944e-02 -1.24401823e-02 -1.38354897e-02\n",
      "   -1.18910447e-02  8.68361071e-03 -1.07499585e-02 -1.58574358e-02\n",
      "   -3.02595496e-02 -1.56518817e-02  3.26097049e-02  2.79241093e-02\n",
      "    2.21787803e-02 -1.94800030e-02  1.44046210e-02 -4.77448106e-02]\n",
      "  [-3.32550295e-02  3.26673873e-02  1.78030990e-02 -1.28766671e-02\n",
      "    3.15268375e-02 -1.05829164e-03  3.81717831e-03  8.04961845e-03\n",
      "   -4.82265130e-02 -3.53436545e-03 -4.70610373e-02  5.04339859e-03\n",
      "    4.26375754e-02  4.14577983e-02  4.21288870e-02 -2.20616702e-02\n",
      "    6.33041933e-03 -1.02496259e-02  3.88062708e-02 -4.98956814e-02\n",
      "   -2.49899980e-02 -2.95466539e-02  2.71661170e-02  1.56711414e-03\n",
      "   -5.26782125e-03  7.30234385e-03  2.03883983e-02 -3.64806168e-02\n",
      "    4.80944403e-02 -4.08133976e-02 -2.80510187e-02  2.88871415e-02\n",
      "   -1.70074105e-02  2.67501511e-02 -2.29385253e-02  1.25815310e-02\n",
      "    3.61955203e-02  1.19627602e-02 -4.75704670e-03  3.69209684e-02\n",
      "   -2.84153819e-02 -4.98018041e-02 -3.06095015e-02  3.21404375e-02\n",
      "    4.54514064e-02 -3.50434184e-02 -4.93735932e-02  3.86446826e-02\n",
      "   -8.76282528e-03  2.20455565e-02  3.81571092e-02  3.23735140e-02\n",
      "    4.18042205e-02 -3.34016569e-02  3.10798325e-02 -6.25630468e-03\n",
      "   -3.09462678e-02 -3.70840430e-02  4.33828719e-02 -3.09363492e-02\n",
      "    1.19764693e-02  4.88603003e-02  9.99104232e-04  4.06156890e-02]\n",
      "  [-4.86944988e-03 -4.19664271e-02 -1.01073869e-02 -4.33819406e-02\n",
      "   -4.71175797e-02  2.21547149e-02  4.83590402e-02 -1.92606691e-02\n",
      "    3.08959149e-02  3.29728611e-02  3.72898579e-03 -4.15230393e-02\n",
      "    9.63621214e-03 -4.73855622e-02  4.05671634e-02  1.84642710e-02\n",
      "    7.33705610e-03  3.78799438e-03 -1.37327984e-03  4.86072935e-02\n",
      "   -4.61352952e-02 -1.39998682e-02  2.38463171e-02 -2.77278423e-02\n",
      "    6.67541102e-03 -1.75517425e-02 -2.71261856e-03 -4.42745462e-02\n",
      "   -2.72458792e-03  3.94804366e-02  4.66258861e-02 -3.97052281e-02\n",
      "   -2.91657206e-02 -1.83995850e-02  4.96858247e-02  4.30099256e-02\n",
      "   -2.53334641e-02 -6.02270290e-03 -3.06537505e-02  2.32363977e-02\n",
      "   -3.63841653e-02 -2.65113264e-03 -2.00090539e-02 -2.73082387e-02\n",
      "    1.98285915e-02 -2.98165083e-02 -4.63685170e-02 -1.88824665e-02\n",
      "   -1.77015774e-02 -1.50149576e-02  1.05993263e-02  2.87562720e-02\n",
      "   -3.64015214e-02  4.56247441e-02  4.19179685e-02  3.90249826e-02\n",
      "    4.41713966e-02 -1.79884583e-03  4.63344716e-02  2.46086381e-02\n",
      "    4.19169776e-02  7.24580139e-03 -2.29519606e-02  1.23165250e-02]\n",
      "  [-4.86944988e-03 -4.19664271e-02 -1.01073869e-02 -4.33819406e-02\n",
      "   -4.71175797e-02  2.21547149e-02  4.83590402e-02 -1.92606691e-02\n",
      "    3.08959149e-02  3.29728611e-02  3.72898579e-03 -4.15230393e-02\n",
      "    9.63621214e-03 -4.73855622e-02  4.05671634e-02  1.84642710e-02\n",
      "    7.33705610e-03  3.78799438e-03 -1.37327984e-03  4.86072935e-02\n",
      "   -4.61352952e-02 -1.39998682e-02  2.38463171e-02 -2.77278423e-02\n",
      "    6.67541102e-03 -1.75517425e-02 -2.71261856e-03 -4.42745462e-02\n",
      "   -2.72458792e-03  3.94804366e-02  4.66258861e-02 -3.97052281e-02\n",
      "   -2.91657206e-02 -1.83995850e-02  4.96858247e-02  4.30099256e-02\n",
      "   -2.53334641e-02 -6.02270290e-03 -3.06537505e-02  2.32363977e-02\n",
      "   -3.63841653e-02 -2.65113264e-03 -2.00090539e-02 -2.73082387e-02\n",
      "    1.98285915e-02 -2.98165083e-02 -4.63685170e-02 -1.88824665e-02\n",
      "   -1.77015774e-02 -1.50149576e-02  1.05993263e-02  2.87562720e-02\n",
      "   -3.64015214e-02  4.56247441e-02  4.19179685e-02  3.90249826e-02\n",
      "    4.41713966e-02 -1.79884583e-03  4.63344716e-02  2.46086381e-02\n",
      "    4.19169776e-02  7.24580139e-03 -2.29519606e-02  1.23165250e-02]\n",
      "  [ 3.16230319e-02 -2.93958671e-02 -2.56083012e-02  5.93964010e-03\n",
      "    1.19389519e-02  1.91231705e-02 -2.31416468e-02  7.14635849e-03\n",
      "   -4.12527807e-02 -2.29582321e-02 -2.13995222e-02 -6.71400875e-03\n",
      "    3.24588455e-02 -3.85678411e-02  8.90196487e-03  3.20055149e-02\n",
      "    1.87730789e-03 -1.27224922e-02  3.37315314e-02  1.18043795e-02\n",
      "   -4.68614474e-02  4.92550470e-02 -4.47856449e-02  3.91956419e-03\n",
      "    3.13923471e-02  4.08625938e-02 -1.69387460e-02  2.35889889e-02\n",
      "   -4.14390340e-02  1.21841542e-02  2.58798264e-02 -2.90031563e-02\n",
      "    2.15362050e-02 -2.83537060e-03  2.20408179e-02  4.14510034e-02\n",
      "    2.42538117e-02  3.80472429e-02 -1.37100369e-03  3.01834233e-02\n",
      "   -8.01803917e-03  4.88557927e-02 -1.77274719e-02 -4.86944690e-02\n",
      "    2.17662193e-02  2.74178050e-02 -4.61223386e-02 -3.47063541e-02\n",
      "   -4.61886302e-02  5.27682155e-03 -4.93741743e-02  2.70917751e-02\n",
      "    1.31814815e-02 -1.19315609e-02 -4.37014960e-02 -4.06523719e-02\n",
      "   -4.78968620e-02  4.32841070e-02 -9.68163088e-03  1.54977702e-02\n",
      "   -1.57227516e-02 -1.87738780e-02 -1.39655098e-02  1.29927285e-02]\n",
      "  [-3.72767448e-02 -1.17268562e-02  1.67577751e-02  8.57727602e-03\n",
      "   -8.36029649e-05  3.10216583e-02  4.92459200e-02  3.06442119e-02\n",
      "   -2.83805262e-02 -4.33974974e-02 -3.26578617e-02 -4.63053249e-02\n",
      "   -9.96267796e-03  4.13793363e-02  4.22823466e-02 -2.37439163e-02\n",
      "   -3.34041715e-02 -1.29393488e-03  3.07686590e-02  3.92651074e-02\n",
      "   -3.23015079e-02  2.76535749e-03 -3.82665768e-02 -3.36946622e-02\n",
      "    4.09102701e-02  2.44205035e-02 -2.04870347e-02 -3.62340361e-03\n",
      "    1.87836960e-03 -1.82560571e-02 -3.23738828e-02  3.73188592e-02\n",
      "    4.61080410e-02  2.54394151e-02 -3.08288336e-02  3.42142470e-02\n",
      "    3.79286744e-02 -2.10662931e-03  3.65443155e-03  5.39563969e-03\n",
      "   -4.10730764e-03 -6.41898066e-03  1.94366239e-02 -2.41038091e-02\n",
      "    1.82537325e-02  8.36848095e-03  3.97388078e-02 -3.90058756e-03\n",
      "    5.23221493e-03 -3.53032835e-02 -6.59253448e-03 -2.87097935e-02\n",
      "    1.82410963e-02  1.49588026e-02 -2.49219425e-02  3.83874215e-02\n",
      "    2.57677957e-03  2.71670111e-02 -1.55794024e-02  3.90727185e-02\n",
      "    2.21351869e-02  3.40813398e-03  3.41735743e-02  4.05434482e-02]\n",
      "  [ 3.86434905e-02  3.88407148e-02  4.54292446e-03 -4.77431528e-02\n",
      "   -3.68556604e-02 -1.12828240e-02  2.71731615e-03  6.50355965e-03\n",
      "    1.32755078e-02  3.12592834e-03  2.06017531e-02  4.10503633e-02\n",
      "   -1.54895559e-02 -3.33234072e-02 -1.08717903e-02 -3.56551409e-02\n",
      "    3.55373137e-02 -3.79018672e-02  4.03627492e-02 -1.61974505e-03\n",
      "    2.99205296e-02 -4.56220768e-02 -2.77205594e-02 -4.09551635e-02\n",
      "   -2.26756185e-03 -1.36847384e-02  4.92165349e-02  5.26658446e-03\n",
      "   -1.80575997e-03 -2.49375235e-02 -3.09008118e-02  9.43116099e-03\n",
      "   -3.16924006e-02 -2.82312762e-02  2.15443857e-02  3.20764445e-02\n",
      "    2.44288333e-02 -3.63418683e-02  2.66663171e-02  3.45865749e-02\n",
      "    2.02595256e-02 -3.81159782e-02 -1.10534579e-03  2.13035680e-02\n",
      "    2.83356197e-02 -2.47364044e-02  4.90108766e-02 -4.62566987e-02\n",
      "    1.82062872e-02 -3.11341286e-02 -3.69357578e-02  2.32453607e-02\n",
      "    4.65296581e-03  1.23026222e-03  3.65300067e-02 -7.16878101e-03\n",
      "   -2.50933766e-02  4.37943675e-02  3.47713493e-02  2.11326815e-02\n",
      "    6.63121790e-03 -4.36545536e-03 -4.72749583e-02  2.41755322e-03]]]\n",
      "Embedded text shape: (1, 15, 64)\n"
     ]
    }
   ],
   "source": [
    "# Get a random sentence from the training set and return Original text, Vectorized text, Embedded text\n",
    "rand_sentence = random.choice(train_sentences)\n",
    "print(f\"Original text: {rand_sentence}\\n\")\n",
    "print(f\"Vectorized text: {text_vectorizer([rand_sentence])}\\n\")\n",
    "print(f\"Vectorized text shape: {text_vectorizer([rand_sentence]).shape}\")\n",
    "print(f\"Embbedded text: {embedding(text_vectorizer([rand_sentence]))}\")\n",
    "print(f\"Embedded text shape: {embedding(text_vectorizer([rand_sentence])).shape}\")"
   ],
   "metadata": {
    "collapsed": false,
    "ExecuteTime": {
     "end_time": "2023-07-30T15:10:54.684997900Z",
     "start_time": "2023-07-30T15:10:54.655215200Z"
    }
   },
   "id": "2d8028a4f822acb"
  },
  {
   "cell_type": "markdown",
   "source": [
    "### Model_3: GRU Model\n",
    "\n",
    "Another popular and effective RNN component is the Gated Recurrent Unit (GRU) Model. The GRU cell has an LSTM cell but has less parameters."
   ],
   "metadata": {
    "collapsed": false,
    "ExecuteTime": {
     "end_time": "2023-07-30T14:50:42.160610600Z",
     "start_time": "2023-07-30T14:50:41.878914700Z"
    }
   },
   "id": "9ff8174b6917751e"
  },
  {
   "cell_type": "code",
   "execution_count": 29,
   "outputs": [],
   "source": [
    "# Build a RNN Model using GRU Cell\n",
    "\n",
    "from tensorflow.keras import layers\n",
    "inputs = layers.Input(shape = (1,), dtype = tf.string)\n",
    "x = text_vectorizer(inputs)\n",
    "x = embedding(x)\n",
    "x = layers.GRU(64, return_sequences = True)(x)\n",
    "x = layers.LSTM(32, return_sequences = True)(x)\n",
    "x = layers.Dense(64, activation = 'relu')(x)\n",
    "x = layers.GlobalMaxPool1D()(x)\n",
    "outputs = layers.Dense(1, activation = 'sigmoid')(x)\n",
    "model_3 = tf.keras.Model(inputs, outputs, name = 'model_3_gru')\n",
    "\n",
    "# Compile the model\n",
    "model_3.compile(loss = 'binary_crossentropy',\n",
    "                optimizer = tf.keras.optimizers.Adam(),\n",
    "                metrics = ['accuracy'])"
   ],
   "metadata": {
    "collapsed": false,
    "ExecuteTime": {
     "end_time": "2023-07-30T15:10:54.960138400Z",
     "start_time": "2023-07-30T15:10:54.684997900Z"
    }
   },
   "id": "9cba54b6eaed1676"
  },
  {
   "cell_type": "code",
   "execution_count": 30,
   "outputs": [
    {
     "name": "stdout",
     "output_type": "stream",
     "text": [
      "Model: \"model_3_gru\"\n",
      "_________________________________________________________________\n",
      " Layer (type)                Output Shape              Param #   \n",
      "=================================================================\n",
      " input_1 (InputLayer)        [(None, 1)]               0         \n",
      "                                                                 \n",
      " text_vectorization (TextVe  (None, 15)                0         \n",
      " ctorization)                                                    \n",
      "                                                                 \n",
      " embedding (Embedding)       (None, 15, 64)            640000    \n",
      "                                                                 \n",
      " gru (GRU)                   (None, 15, 64)            24960     \n",
      "                                                                 \n",
      " lstm (LSTM)                 (None, 15, 32)            12416     \n",
      "                                                                 \n",
      " dense (Dense)               (None, 15, 64)            2112      \n",
      "                                                                 \n",
      " global_max_pooling1d (Glob  (None, 64)                0         \n",
      " alMaxPooling1D)                                                 \n",
      "                                                                 \n",
      " dense_1 (Dense)             (None, 1)                 65        \n",
      "                                                                 \n",
      "=================================================================\n",
      "Total params: 679553 (2.59 MB)\n",
      "Trainable params: 679553 (2.59 MB)\n",
      "Non-trainable params: 0 (0.00 Byte)\n",
      "_________________________________________________________________\n"
     ]
    }
   ],
   "source": [
    "model_3.summary()"
   ],
   "metadata": {
    "collapsed": false,
    "ExecuteTime": {
     "end_time": "2023-07-30T15:10:54.981359700Z",
     "start_time": "2023-07-30T15:10:54.963138200Z"
    }
   },
   "id": "35f9cdf9d8ba57ae"
  },
  {
   "cell_type": "code",
   "execution_count": 31,
   "outputs": [
    {
     "name": "stdout",
     "output_type": "stream",
     "text": [
      "Epoch 1/5\n",
      "215/215 [==============================] - 5s 12ms/step - loss: 0.5298 - accuracy: 0.7294 - val_loss: 0.4753 - val_accuracy: 0.7861\n",
      "Epoch 2/5\n",
      "215/215 [==============================] - 2s 9ms/step - loss: 0.3297 - accuracy: 0.8659 - val_loss: 0.5027 - val_accuracy: 0.7612\n",
      "Epoch 3/5\n",
      "215/215 [==============================] - 2s 9ms/step - loss: 0.2304 - accuracy: 0.9137 - val_loss: 0.5385 - val_accuracy: 0.7638\n",
      "Epoch 4/5\n",
      "215/215 [==============================] - 2s 9ms/step - loss: 0.1708 - accuracy: 0.9383 - val_loss: 0.6667 - val_accuracy: 0.7520\n",
      "Epoch 5/5\n",
      "215/215 [==============================] - 2s 8ms/step - loss: 0.1353 - accuracy: 0.9512 - val_loss: 0.8268 - val_accuracy: 0.7520\n"
     ]
    }
   ],
   "source": [
    "# Fit the model\n",
    "model_3_history = model_3.fit(train_sentences,\n",
    "                              train_labels,\n",
    "                              epochs = 5,\n",
    "                              validation_data = (val_sentences, val_labels))\n",
    "\n"
   ],
   "metadata": {
    "collapsed": false,
    "ExecuteTime": {
     "end_time": "2023-07-30T15:11:07.559054400Z",
     "start_time": "2023-07-30T15:10:54.979357800Z"
    }
   },
   "id": "f427da2e047bd515"
  },
  {
   "cell_type": "code",
   "execution_count": 32,
   "outputs": [
    {
     "name": "stdout",
     "output_type": "stream",
     "text": [
      "24/24 [==============================] - 1s 3ms/step\n"
     ]
    },
    {
     "data": {
      "text/plain": "array([[0.00449536],\n       [0.16224536],\n       [0.00897315],\n       [0.01469627],\n       [0.9833816 ]], dtype=float32)"
     },
     "execution_count": 32,
     "metadata": {},
     "output_type": "execute_result"
    }
   ],
   "source": [
    "# Make predictions \n",
    "model_3_pred_probs = model_3.predict(val_sentences)\n",
    "model_3_pred_probs[:5]"
   ],
   "metadata": {
    "collapsed": false,
    "ExecuteTime": {
     "end_time": "2023-07-30T15:11:08.124392500Z",
     "start_time": "2023-07-30T15:11:07.559054400Z"
    }
   },
   "id": "ea9b88ebdb67dc0a"
  },
  {
   "cell_type": "code",
   "execution_count": 33,
   "outputs": [
    {
     "data": {
      "text/plain": "<tf.Tensor: shape=(5,), dtype=float32, numpy=array([0., 0., 0., 0., 1.], dtype=float32)>"
     },
     "execution_count": 33,
     "metadata": {},
     "output_type": "execute_result"
    }
   ],
   "source": [
    "# Convert model_3 pred_prob to labels\n",
    "model_3_preds = tf.squeeze(tf.round(model_3_pred_probs))\n",
    "model_3_preds[:5]"
   ],
   "metadata": {
    "collapsed": false,
    "ExecuteTime": {
     "end_time": "2023-07-30T15:11:08.126901Z",
     "start_time": "2023-07-30T15:11:08.120083900Z"
    }
   },
   "id": "13e4b58e3540412a"
  },
  {
   "cell_type": "code",
   "execution_count": 34,
   "outputs": [],
   "source": [
    "# Evaluate the model by comparing the model_3_preds to val_labels\n",
    "from sklearn.metrics import accuracy_score, precision_recall_fscore_support\n",
    "\n",
    "model_3_accuracy_score = accuracy_score(val_labels, model_3_preds)\n",
    "model_3_precision, model_3_recall, model_3_fscore, _ =precision_recall_fscore_support(val_labels,\n",
    "                                                                                      model_3_preds, average=\"weighted\")"
   ],
   "metadata": {
    "collapsed": false,
    "ExecuteTime": {
     "end_time": "2023-07-30T15:11:08.132987900Z",
     "start_time": "2023-07-30T15:11:08.126901Z"
    }
   },
   "id": "f191df8e68b8c7a1"
  },
  {
   "cell_type": "code",
   "execution_count": 35,
   "outputs": [
    {
     "data": {
      "text/plain": "{'model_3_accuracy_score': 0.7519685039370079,\n 'model_3_precision': 0.7512931005930606,\n 'model_3_recall': {0.7519685039370079},\n 'model_3_f1score': {0.7501882508181344}}"
     },
     "execution_count": 35,
     "metadata": {},
     "output_type": "execute_result"
    }
   ],
   "source": [
    "dict_result = {\"model_3_accuracy_score\": model_3_accuracy_score,\n",
    "               \"model_3_precision\": model_3_precision,\n",
    "               \"model_3_recall\": {model_3_recall},\n",
    "               \"model_3_f1score\": {model_3_fscore}}\n",
    "dict_result"
   ],
   "metadata": {
    "collapsed": false,
    "ExecuteTime": {
     "end_time": "2023-07-30T15:11:08.167200100Z",
     "start_time": "2023-07-30T15:11:08.132987900Z"
    }
   },
   "id": "3e290c224a4d30d7"
  }
 ],
 "metadata": {
  "kernelspec": {
   "display_name": "Python 3",
   "language": "python",
   "name": "python3"
  },
  "language_info": {
   "codemirror_mode": {
    "name": "ipython",
    "version": 2
   },
   "file_extension": ".py",
   "mimetype": "text/x-python",
   "name": "python",
   "nbconvert_exporter": "python",
   "pygments_lexer": "ipython2",
   "version": "2.7.6"
  }
 },
 "nbformat": 4,
 "nbformat_minor": 5
}
