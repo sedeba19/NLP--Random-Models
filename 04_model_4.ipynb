{
 "cells": [
  {
   "cell_type": "code",
   "execution_count": 1,
   "outputs": [
    {
     "data": {
      "text/plain": "'2.13.0'"
     },
     "execution_count": 1,
     "metadata": {},
     "output_type": "execute_result"
    }
   ],
   "source": [
    "import os\n",
    "import tensorflow as tf\n",
    "import pandas as pd\n",
    "\n",
    "tf.__version__\n"
   ],
   "metadata": {
    "collapsed": false,
    "ExecuteTime": {
     "end_time": "2023-07-30T14:51:01.248025300Z",
     "start_time": "2023-07-30T14:50:59.752529400Z"
    }
   },
   "id": "d895e3f341f9cd2c"
  },
  {
   "cell_type": "code",
   "execution_count": 2,
   "outputs": [],
   "source": [
    "main_dir = r\"F:\\linux_ubuntu_codes\\codes\\nlp_lecture\""
   ],
   "metadata": {
    "collapsed": false,
    "ExecuteTime": {
     "end_time": "2023-07-30T14:51:01.248025300Z",
     "start_time": "2023-07-30T14:51:01.244516500Z"
    }
   },
   "id": "258babd61b92d2d5"
  },
  {
   "cell_type": "code",
   "execution_count": 3,
   "outputs": [
    {
     "data": {
      "text/plain": "'https://raw.githubusercontent.com/sedeba19/NLP--Random-Models/main/train.csv'"
     },
     "execution_count": 3,
     "metadata": {},
     "output_type": "execute_result"
    }
   ],
   "source": [
    "train_dir = os.path.join(main_dir + r\"\\train.csv\")\n",
    "test_dir = os.path.join(main_dir + r\"\\test.csv\")"
   ],
   "metadata": {
    "collapsed": false,
    "ExecuteTime": {
     "end_time": "2023-07-30T14:51:01.255976300Z",
     "start_time": "2023-07-30T14:51:01.247025800Z"
    }
   },
   "id": "f9e05dc9db4f2150"
  },
  {
   "cell_type": "code",
   "execution_count": 4,
   "outputs": [
    {
     "data": {
      "text/plain": "   id keyword location                                               text  \\\n0   1     NaN      NaN  Our Deeds are the Reason of this #earthquake M...   \n1   4     NaN      NaN             Forest fire near La Ronge Sask. Canada   \n2   5     NaN      NaN  All residents asked to 'shelter in place' are ...   \n3   6     NaN      NaN  13,000 people receive #wildfires evacuation or...   \n4   7     NaN      NaN  Just got sent this photo from Ruby #Alaska as ...   \n\n   target  \n0       1  \n1       1  \n2       1  \n3       1  \n4       1  ",
      "text/html": "<div>\n<style scoped>\n    .dataframe tbody tr th:only-of-type {\n        vertical-align: middle;\n    }\n\n    .dataframe tbody tr th {\n        vertical-align: top;\n    }\n\n    .dataframe thead th {\n        text-align: right;\n    }\n</style>\n<table border=\"1\" class=\"dataframe\">\n  <thead>\n    <tr style=\"text-align: right;\">\n      <th></th>\n      <th>id</th>\n      <th>keyword</th>\n      <th>location</th>\n      <th>text</th>\n      <th>target</th>\n    </tr>\n  </thead>\n  <tbody>\n    <tr>\n      <th>0</th>\n      <td>1</td>\n      <td>NaN</td>\n      <td>NaN</td>\n      <td>Our Deeds are the Reason of this #earthquake M...</td>\n      <td>1</td>\n    </tr>\n    <tr>\n      <th>1</th>\n      <td>4</td>\n      <td>NaN</td>\n      <td>NaN</td>\n      <td>Forest fire near La Ronge Sask. Canada</td>\n      <td>1</td>\n    </tr>\n    <tr>\n      <th>2</th>\n      <td>5</td>\n      <td>NaN</td>\n      <td>NaN</td>\n      <td>All residents asked to 'shelter in place' are ...</td>\n      <td>1</td>\n    </tr>\n    <tr>\n      <th>3</th>\n      <td>6</td>\n      <td>NaN</td>\n      <td>NaN</td>\n      <td>13,000 people receive #wildfires evacuation or...</td>\n      <td>1</td>\n    </tr>\n    <tr>\n      <th>4</th>\n      <td>7</td>\n      <td>NaN</td>\n      <td>NaN</td>\n      <td>Just got sent this photo from Ruby #Alaska as ...</td>\n      <td>1</td>\n    </tr>\n  </tbody>\n</table>\n</div>"
     },
     "execution_count": 4,
     "metadata": {},
     "output_type": "execute_result"
    }
   ],
   "source": [
    "train_dir"
   ],
   "metadata": {
    "collapsed": false,
    "ExecuteTime": {
     "end_time": "2023-07-30T14:51:01.376425400Z",
     "start_time": "2023-07-30T14:51:01.252971600Z"
    }
   },
   "id": "e237aa9b92bb079a"
  },
  {
   "cell_type": "code",
   "execution_count": 5,
   "outputs": [
    {
     "data": {
      "text/plain": "         id               keyword                  location  \\\n3228   4632  emergency%20services   Sydney, New South Wales   \n3706   5271                  fear                       NaN   \n6957   9982               tsunami         Land Of The Kings   \n2887   4149                 drown                       NaN   \n7464  10680                wounds  cody, austin follows ?*?   \n\n                                                   text  target  \n3228  Goulburn man Henry Van Bilsen missing: Emergen...       1  \n3706  The things we fear most in organizations--fluc...       0  \n6957                            @tsunami_esh ?? hey Esh       0  \n2887  @POTUS you until you drown by water entering t...       0  \n7464  Crawling in my skin\\nThese wounds they will no...       1  ",
      "text/html": "<div>\n<style scoped>\n    .dataframe tbody tr th:only-of-type {\n        vertical-align: middle;\n    }\n\n    .dataframe tbody tr th {\n        vertical-align: top;\n    }\n\n    .dataframe thead th {\n        text-align: right;\n    }\n</style>\n<table border=\"1\" class=\"dataframe\">\n  <thead>\n    <tr style=\"text-align: right;\">\n      <th></th>\n      <th>id</th>\n      <th>keyword</th>\n      <th>location</th>\n      <th>text</th>\n      <th>target</th>\n    </tr>\n  </thead>\n  <tbody>\n    <tr>\n      <th>3228</th>\n      <td>4632</td>\n      <td>emergency%20services</td>\n      <td>Sydney, New South Wales</td>\n      <td>Goulburn man Henry Van Bilsen missing: Emergen...</td>\n      <td>1</td>\n    </tr>\n    <tr>\n      <th>3706</th>\n      <td>5271</td>\n      <td>fear</td>\n      <td>NaN</td>\n      <td>The things we fear most in organizations--fluc...</td>\n      <td>0</td>\n    </tr>\n    <tr>\n      <th>6957</th>\n      <td>9982</td>\n      <td>tsunami</td>\n      <td>Land Of The Kings</td>\n      <td>@tsunami_esh ?? hey Esh</td>\n      <td>0</td>\n    </tr>\n    <tr>\n      <th>2887</th>\n      <td>4149</td>\n      <td>drown</td>\n      <td>NaN</td>\n      <td>@POTUS you until you drown by water entering t...</td>\n      <td>0</td>\n    </tr>\n    <tr>\n      <th>7464</th>\n      <td>10680</td>\n      <td>wounds</td>\n      <td>cody, austin follows ?*?</td>\n      <td>Crawling in my skin\\nThese wounds they will no...</td>\n      <td>1</td>\n    </tr>\n  </tbody>\n</table>\n</div>"
     },
     "execution_count": 5,
     "metadata": {},
     "output_type": "execute_result"
    }
   ],
   "source": [
    "# Make a train_df\n",
    "train_df = pd.read_csv(train_dir)\n",
    "test_df = pd.read_csv(test_dir)\n",
    "train_df.head()"
   ],
   "metadata": {
    "collapsed": false,
    "ExecuteTime": {
     "end_time": "2023-07-30T14:51:01.377934100Z",
     "start_time": "2023-07-30T14:51:01.372035900Z"
    }
   },
   "id": "c858f9a76b34b934"
  },
  {
   "cell_type": "code",
   "execution_count": 6,
   "outputs": [
    {
     "data": {
      "text/plain": "(7613, 5)"
     },
     "execution_count": 6,
     "metadata": {},
     "output_type": "execute_result"
    }
   ],
   "source": [
    "# Shuffle training dataframe\n",
    "train_df_shuffled = train_df.sample(frac = 1, random_state = 1)\n",
    "train_df_shuffled.head()"
   ],
   "metadata": {
    "collapsed": false,
    "ExecuteTime": {
     "end_time": "2023-07-30T14:51:01.385101Z",
     "start_time": "2023-07-30T14:51:01.378934400Z"
    }
   },
   "id": "ffa95adda1afec99"
  },
  {
   "cell_type": "code",
   "execution_count": 7,
   "outputs": [
    {
     "data": {
      "text/plain": "target\n0    4342\n1    3271\nName: count, dtype: int64"
     },
     "execution_count": 7,
     "metadata": {},
     "output_type": "execute_result"
    }
   ],
   "source": [
    "train_df_shuffled.shape"
   ],
   "metadata": {
    "collapsed": false,
    "ExecuteTime": {
     "end_time": "2023-07-30T14:51:01.387105Z",
     "start_time": "2023-07-30T14:51:01.384007200Z"
    }
   },
   "id": "66e71f2c2322a35c"
  },
  {
   "cell_type": "code",
   "execution_count": 8,
   "outputs": [
    {
     "data": {
      "text/plain": "(7613, 3263)"
     },
     "execution_count": 8,
     "metadata": {},
     "output_type": "execute_result"
    }
   ],
   "source": [
    "# How many examples of each class?\n",
    "train_df['target'].value_counts()"
   ],
   "metadata": {
    "collapsed": false,
    "ExecuteTime": {
     "end_time": "2023-07-30T14:51:01.393944800Z",
     "start_time": "2023-07-30T14:51:01.387105Z"
    }
   },
   "id": "e8f13f3fbc904937"
  },
  {
   "cell_type": "code",
   "execution_count": 9,
   "outputs": [
    {
     "name": "stdout",
     "output_type": "stream",
     "text": [
      "Target:1 (real disaster)\n",
      "Text: \n",
      "@NBCNews Yea bombing #pearlharbor not so good of an idea!\n",
      "-----\n",
      "\n",
      "Target:0 (not a real disaster)\n",
      "Text: \n",
      "@kyrikoni @ExpressandStar Who said veg and fruit was good for you. Hope there's been no injuries or fatalities.\n",
      "-----\n",
      "\n",
      "Target:0 (not a real disaster)\n",
      "Text: \n",
      "https://t.co/4i0rKcbK1D\n",
      "SON OF SAVIOR LAVA VIDEO\n",
      "-----\n",
      "\n",
      "Target:0 (not a real disaster)\n",
      "Text: \n",
      "Guns are for protection.. \n",
      "That shit really shouldn't be used unless your life in danger\n",
      "-----\n",
      "\n",
      "Target:1 (real disaster)\n",
      "Text: \n",
      "Young dancer moves about 300 youth in attendance at the GMMBC Youth Explosion this past Saturday. Inspiring! http://t.co/TMmOrvxsWz\n",
      "-----\n"
     ]
    }
   ],
   "source": [
    "# How many total samples?\n",
    "len(train_df), len(test_df)"
   ],
   "metadata": {
    "collapsed": false,
    "ExecuteTime": {
     "end_time": "2023-07-30T14:51:01.395949100Z",
     "start_time": "2023-07-30T14:51:01.391279400Z"
    }
   },
   "id": "6a3f06f716aed950"
  },
  {
   "cell_type": "code",
   "execution_count": null,
   "outputs": [],
   "source": [
    "# Visualize some random training examples\n",
    "import random\n",
    "random_index = random.randint(0, len(train_df)-5)\n",
    "for row in train_df_shuffled[[\"text\", \"target\"]][random_index: random_index +5].itertuples():\n",
    "    _, text, target = row\n",
    "    if target > 0:\n",
    "        print(f\"Target:{target}\", \"(real disaster)\")\n",
    "    else:\n",
    "        print(f\"Target:{target}\", \"(not a real disaster)\")\n",
    "    \n",
    "    print(f\"Text: \\n{text}\")\n",
    "    print(\"-----\\n\")"
   ],
   "metadata": {
    "collapsed": false
   },
   "id": "99ad01fd617f2fad"
  },
  {
   "cell_type": "markdown",
   "source": [
    "### Split data into training and validation sets"
   ],
   "metadata": {
    "collapsed": false,
    "ExecuteTime": {
     "end_time": "2023-07-30T14:51:01.658720900Z",
     "start_time": "2023-07-30T14:51:01.395949100Z"
    }
   },
   "id": "cc004f467eb6820b"
  },
  {
   "cell_type": "code",
   "execution_count": 11,
   "outputs": [
    {
     "data": {
      "text/plain": "(7613,)"
     },
     "execution_count": 11,
     "metadata": {},
     "output_type": "execute_result"
    }
   ],
   "source": [
    "from sklearn.model_selection import train_test_split\n",
    "\n",
    "train_sentences, val_sentences, train_labels, val_labels = train_test_split(train_df['text'],\n",
    "                                                                            train_df['target'],\n",
    "                                                                            test_size = 0.1,\n",
    "                                                                            random_state = 42)"
   ],
   "metadata": {
    "collapsed": false,
    "ExecuteTime": {
     "end_time": "2023-07-30T14:51:01.668979200Z",
     "start_time": "2023-07-30T14:51:01.658720900Z"
    }
   },
   "id": "e9962e431d6f4625"
  },
  {
   "cell_type": "code",
   "execution_count": 12,
   "outputs": [
    {
     "data": {
      "text/plain": "0       Our Deeds are the Reason of this #earthquake M...\n1                  Forest fire near La Ronge Sask. Canada\n2       All residents asked to 'shelter in place' are ...\n3       13,000 people receive #wildfires evacuation or...\n4       Just got sent this photo from Ruby #Alaska as ...\n                              ...                        \n7608    Two giant cranes holding a bridge collapse int...\n7609    @aria_ahrary @TheTawniest The out of control w...\n7610    M1.94 [01:04 UTC]?5km S of Volcano Hawaii. htt...\n7611    Police investigating after an e-bike collided ...\n7612    The Latest: More Homes Razed by Northern Calif...\nName: text, Length: 7613, dtype: object"
     },
     "execution_count": 12,
     "metadata": {},
     "output_type": "execute_result"
    }
   ],
   "source": [
    "train_df['text'].shape"
   ],
   "metadata": {
    "collapsed": false,
    "ExecuteTime": {
     "end_time": "2023-07-30T14:51:01.668979200Z",
     "start_time": "2023-07-30T14:51:01.663326500Z"
    }
   },
   "id": "2044aeeaed5209d8"
  },
  {
   "cell_type": "code",
   "execution_count": 13,
   "outputs": [
    {
     "data": {
      "text/plain": "array(['Our Deeds are the Reason of this #earthquake May ALLAH Forgive us all',\n       'Forest fire near La Ronge Sask. Canada',\n       \"All residents asked to 'shelter in place' are being notified by officers. No other evacuation or shelter in place orders are expected\",\n       ...,\n       'M1.94 [01:04 UTC]?5km S of Volcano Hawaii. http://t.co/zDtoyd8EbJ',\n       'Police investigating after an e-bike collided with a car in Little Portugal. E-bike rider suffered serious non-life threatening injuries.',\n       'The Latest: More Homes Razed by Northern California Wildfire - ABC News http://t.co/YmY4rSkQ3d'],\n      dtype=object)"
     },
     "execution_count": 13,
     "metadata": {},
     "output_type": "execute_result"
    }
   ],
   "source": [
    "train_df[\"text\"]"
   ],
   "metadata": {
    "collapsed": false,
    "ExecuteTime": {
     "end_time": "2023-07-30T14:51:01.670989700Z",
     "start_time": "2023-07-30T14:51:01.667891500Z"
    }
   },
   "id": "aecfc9a6831f9cee"
  },
  {
   "cell_type": "code",
   "execution_count": 14,
   "outputs": [
    {
     "data": {
      "text/plain": "array(['Our Deeds are the Reason of this #earthquake May ALLAH Forgive us all',\n       'Forest fire near La Ronge Sask. Canada',\n       \"All residents asked to 'shelter in place' are being notified by officers. No other evacuation or shelter in place orders are expected\",\n       ...,\n       'M1.94 [01:04 UTC]?5km S of Volcano Hawaii. http://t.co/zDtoyd8EbJ',\n       'Police investigating after an e-bike collided with a car in Little Portugal. E-bike rider suffered serious non-life threatening injuries.',\n       'The Latest: More Homes Razed by Northern California Wildfire - ABC News http://t.co/YmY4rSkQ3d'],\n      dtype=object)"
     },
     "execution_count": 14,
     "metadata": {},
     "output_type": "execute_result"
    }
   ],
   "source": [
    "train_df['text'].to_numpy()"
   ],
   "metadata": {
    "collapsed": false,
    "ExecuteTime": {
     "end_time": "2023-07-30T14:51:01.680769200Z",
     "start_time": "2023-07-30T14:51:01.670989700Z"
    }
   },
   "id": "4cdc72f6e817f834"
  },
  {
   "cell_type": "code",
   "execution_count": 15,
   "outputs": [
    {
     "data": {
      "text/plain": "(6851, 762, 6851, 762)"
     },
     "execution_count": 15,
     "metadata": {},
     "output_type": "execute_result"
    }
   ],
   "source": [
    "train_df['text'].to_numpy()"
   ],
   "metadata": {
    "collapsed": false,
    "ExecuteTime": {
     "end_time": "2023-07-30T14:51:01.680769200Z",
     "start_time": "2023-07-30T14:51:01.675300700Z"
    }
   },
   "id": "ec43b6635db1dc03"
  },
  {
   "cell_type": "code",
   "execution_count": null,
   "outputs": [],
   "source": [
    "len(train_sentences), len(val_sentences), len(train_labels), len(val_labels)"
   ],
   "metadata": {
    "collapsed": false
   },
   "id": "c4b936bb4e61352a"
  },
  {
   "cell_type": "markdown",
   "source": [
    "### Converting text into numbers: Text Vectorization also known as Tokenization"
   ],
   "metadata": {
    "collapsed": false,
    "ExecuteTime": {
     "end_time": "2023-07-30T14:51:01.726477500Z",
     "start_time": "2023-07-30T14:51:01.678770800Z"
    }
   },
   "id": "5777dedf87f2662b"
  },
  {
   "cell_type": "code",
   "execution_count": 17,
   "outputs": [
    {
     "data": {
      "text/plain": "(6851,)"
     },
     "execution_count": 17,
     "metadata": {},
     "output_type": "execute_result"
    }
   ],
   "source": [
    "# Get the total words\n",
    "total_words = 0\n",
    "for i in train_sentences:\n",
    "    total_words += len(i.split())\n",
    "\n",
    "total_words"
   ],
   "metadata": {
    "collapsed": false,
    "ExecuteTime": {
     "end_time": "2023-07-30T14:51:01.726477500Z",
     "start_time": "2023-07-30T14:51:01.686485200Z"
    }
   },
   "id": "618457c173977155"
  },
  {
   "cell_type": "code",
   "execution_count": 18,
   "outputs": [
    {
     "data": {
      "text/plain": "15"
     },
     "execution_count": 18,
     "metadata": {},
     "output_type": "execute_result"
    }
   ],
   "source": [
    "train_sentences.shape"
   ],
   "metadata": {
    "collapsed": false,
    "ExecuteTime": {
     "end_time": "2023-07-30T14:51:01.726477500Z",
     "start_time": "2023-07-30T14:51:01.690849800Z"
    }
   },
   "id": "829d84b65c26bb92"
  },
  {
   "cell_type": "code",
   "execution_count": 19,
   "outputs": [],
   "source": [
    "# Get the average words per sentence or line\n",
    "avg_words_per_sentence = round(total_words/len(train_sentences))\n",
    "avg_words_per_sentence"
   ],
   "metadata": {
    "collapsed": false,
    "ExecuteTime": {
     "end_time": "2023-07-30T14:51:01.726477500Z",
     "start_time": "2023-07-30T14:51:01.695469600Z"
    }
   },
   "id": "a7a8bed44aec85d5"
  },
  {
   "cell_type": "code",
   "execution_count": 20,
   "outputs": [],
   "source": [
    "# Normally, total number of words is equal or less than the max vocabulary length\n",
    "max_vocab_length = 10000\n",
    "\n",
    "# max length of a statement is equal or more than the average word per sentence or line\n",
    "max_length = 15"
   ],
   "metadata": {
    "collapsed": false,
    "ExecuteTime": {
     "end_time": "2023-07-30T14:51:01.954296400Z",
     "start_time": "2023-07-30T14:51:01.698475Z"
    }
   },
   "id": "92ebee1bf68d8486"
  },
  {
   "cell_type": "code",
   "execution_count": 21,
   "outputs": [
    {
     "name": "stdout",
     "output_type": "stream",
     "text": [
      "There's a flood in my street! Sentence length is 29.\n"
     ]
    },
    {
     "data": {
      "text/plain": "<tf.Tensor: shape=(1, 15), dtype=int64, numpy=\narray([[282,   3, 206,   4,  13, 674,   0,   0,   0,   0,   0,   0,   0,\n          0,   0]], dtype=int64)>"
     },
     "execution_count": 21,
     "metadata": {},
     "output_type": "execute_result"
    }
   ],
   "source": [
    "import tensorflow as tf\n",
    "from tensorflow.keras.layers.experimental.preprocessing import TextVectorization\n",
    "\n",
    "text_vectorizer = TextVectorization(max_tokens = max_vocab_length,\n",
    "                                    output_mode = \"int\",\n",
    "                                    output_sequence_length = max_length)\n",
    "\n",
    "# Fit the text vectorizer to the training set\n",
    "text_vectorizer.adapt(train_sentences)"
   ],
   "metadata": {
    "collapsed": false,
    "ExecuteTime": {
     "end_time": "2023-07-30T14:51:01.975261500Z",
     "start_time": "2023-07-30T14:51:01.954296400Z"
    }
   },
   "id": "8805b068faa29b89"
  },
  {
   "cell_type": "code",
   "execution_count": 22,
   "outputs": [
    {
     "name": "stdout",
     "output_type": "stream",
     "text": [
      "Original text: \n",
      "\n",
      " Junko was 13 years old when the atomic bomb exploded over #Hiroshima on August 6 1945. http://t.co/lSpnyCVoLO http://t.co/Nh5pkFBfqm \n",
      "\n",
      "Vectorized text:\n"
     ]
    },
    {
     "data": {
      "text/plain": "<tf.Tensor: shape=(1, 15), dtype=int64, numpy=\narray([[  1,  23, 868, 144, 194,  45,   2, 214, 115, 422,  60, 128,  11,\n        469, 448]], dtype=int64)>"
     },
     "execution_count": 22,
     "metadata": {},
     "output_type": "execute_result"
    }
   ],
   "source": [
    "# Create a sample sentence and tokenize it\n",
    "samp_sentence = \"There's a flood in my street!\"\n",
    "print(samp_sentence, f\"Sentence length is {len(samp_sentence)}.\")\n",
    "text_vectorizer([samp_sentence])\n",
    "#len(tf.squeeze(text_vectorizer([samp_sentence])))"
   ],
   "metadata": {
    "collapsed": false,
    "ExecuteTime": {
     "end_time": "2023-07-30T14:51:02.019586300Z",
     "start_time": "2023-07-30T14:51:01.976256900Z"
    }
   },
   "id": "111d45283fbfd4ae"
  },
  {
   "cell_type": "code",
   "execution_count": 23,
   "outputs": [
    {
     "data": {
      "text/plain": "['',\n '[UNK]',\n 'the',\n 'a',\n 'in',\n 'to',\n 'of',\n 'and',\n 'i',\n 'is',\n 'for',\n 'on',\n 'you',\n 'my',\n 'with',\n 'it',\n 'that',\n 'at',\n 'by',\n 'this',\n 'from',\n 'are',\n 'be',\n 'was',\n 'have',\n 'like',\n 'as',\n 'me',\n 'but',\n 'up',\n 'just',\n 'so',\n 'im',\n 'not',\n 'amp',\n 'your',\n 'out',\n 'all',\n 'after',\n 'its',\n 'has',\n 'no',\n 'will',\n 'an',\n 'fire',\n 'when',\n 'if',\n 'we',\n 'get',\n 'now',\n 'more',\n 'via',\n 'new',\n 'about',\n 'what',\n 'people',\n 'or',\n 'news',\n 'he',\n 'they',\n 'over',\n 'one',\n 'been',\n 'how',\n 'dont',\n 'who',\n 'video',\n 'into',\n 'were',\n 'do',\n 'us',\n 'can',\n 'emergency',\n '2',\n 'disaster',\n 'there',\n 'her',\n 'some',\n 'than',\n 'still',\n 'would',\n 'his',\n 'police',\n 'crash',\n 'burning',\n 'suicide',\n 'body',\n 'california',\n 'back',\n 'time',\n 'buildings',\n 'had',\n 'why',\n 'off',\n 'them',\n 'got',\n 'man',\n 'see',\n 'storm',\n 'know',\n 'going',\n 'cant',\n 'world',\n 'first',\n 'day',\n 'rt',\n 'nuclear',\n 'love',\n 'youtube',\n 'our',\n 'attack',\n 'go',\n 'fires',\n 'two',\n 'their',\n 'bomb',\n 'killed',\n '3',\n 'train',\n 'dead',\n 'car',\n 'war',\n 'life',\n 'may',\n 'watch',\n 'full',\n 'only',\n 'here',\n 'hiroshima',\n 'down',\n 'today',\n 'u',\n 'accident',\n 'think',\n 'many',\n 'good',\n 'way',\n 'families',\n 'too',\n 'then',\n 'say',\n 'being',\n 'last',\n 'could',\n 'years',\n 'want',\n 'did',\n 'home',\n 'best',\n 'should',\n 'need',\n 'mass',\n 'even',\n 'work',\n 'make',\n 'help',\n 'bombing',\n 'wildfire',\n 'please',\n 'look',\n 'lol',\n 'because',\n 'another',\n 'take',\n 'him',\n 'collapse',\n 'year',\n 'water',\n 'those',\n 'really',\n 'army',\n 'am',\n 'school',\n 'mh370',\n 'death',\n 'right',\n 'pm',\n 'black',\n 'much',\n 'forest',\n 'fatal',\n '5',\n 'youre',\n 'she',\n 'northern',\n '4',\n 'live',\n 'city',\n 'bomber',\n 'wreck',\n 'hot',\n 'great',\n 'every',\n '2015',\n 'old',\n 'let',\n 'legionnaires',\n 'fear',\n 'obama',\n 'latest',\n 'homes',\n 'flames',\n 'come',\n '1',\n 'never',\n 'getting',\n 'flood',\n '\\x89Û',\n 'where',\n 'said',\n 'japan',\n 'shit',\n 'floods',\n 'during',\n 'atomic',\n 'god',\n 'damage',\n 'under',\n 'near',\n 'feel',\n 'ever',\n 'earthquake',\n 'ass',\n 'which',\n 'since',\n 'read',\n 'oil',\n 'night',\n 'most',\n 'military',\n 'injured',\n 'hope',\n 'everyone',\n 'coming',\n 'any',\n 'without',\n 'while',\n 'well',\n 'thats',\n 'stop',\n 'next',\n 'hit',\n 'weather',\n 'these',\n 'state',\n 'little',\n 'flooding',\n 'evacuation',\n 'before',\n 'truck',\n 'severe',\n 's',\n 'content',\n 'always',\n 'until',\n 'top',\n 'through',\n 'smoke',\n 'plan',\n 'found',\n 'confirmed',\n 'cause',\n 'movie',\n 'fucking',\n 'face',\n 'debris',\n 'bloody',\n 'bad',\n 'weapon',\n 'warning',\n 'times',\n 'thunderstorm',\n 'set',\n 'says',\n 'natural',\n 'malaysia',\n 'liked',\n 'ive',\n 'gonna',\n 'free',\n 'fall',\n 'thunder',\n 'theres',\n 'sinking',\n 'saudi',\n 'refugees',\n 'made',\n 'loud',\n 'looks',\n 'injuries',\n 'house',\n 'hes',\n 'heat',\n 'cross',\n 'also',\n 'air',\n 'w',\n 'screaming',\n 'rain',\n 'murder',\n 'head',\n 'failure',\n 'explode',\n 'check',\n 'wreckage',\n 'wind',\n 'wild',\n 'trapped',\n 'survive',\n 'spill',\n 'reddit',\n 'panic',\n 'missing',\n 'lightning',\n 'family',\n 'change',\n 'whole',\n 'weapons',\n 'terrorist',\n 'service',\n 'run',\n 'rescuers',\n 'report',\n 'released',\n 'photo',\n 'outbreak',\n 'ill',\n 'food',\n 'evacuate',\n 'end',\n 'destroyed',\n 'deaths',\n 'boy',\n 'again',\n '70',\n 'terrorism',\n 'sinkhole',\n 'services',\n 'save',\n 'road',\n 'rescue',\n 'migrants',\n 'keep',\n 'high',\n 'harm',\n 'danger',\n 'county',\n 'collided',\n 'blood',\n 'big',\n 'bags',\n 'twister',\n 'trauma',\n 'tonight',\n 'summer',\n 'ruin',\n 'mosque',\n 'lives',\n 'least',\n 'hail',\n 'girl',\n 'fuck',\n 'fatalities',\n 'does',\n 'derailment',\n 'curfew',\n 'collapsed',\n 'charged',\n 'call',\n 'burned',\n 'breaking',\n 'boat',\n 'bag',\n 'attacked',\n 'ambulance',\n 'wrecked',\n 'wounded',\n 'white',\n 'week',\n 'update',\n 'things',\n 'structural',\n 'stock',\n 'someone',\n 'show',\n 'rioting',\n 'real',\n 'phone',\n 'mudslide',\n 'landslide',\n 'investigators',\n 'explosion',\n 'engulfed',\n 'displaced',\n 'devastation',\n 'destroy',\n 'deluge',\n 'crashed',\n 'catastrophe',\n 'bus',\n 'battle',\n 'away',\n 'area',\n 'apocalypse',\n 'whirlwind',\n 'survivors',\n 'survived',\n 'sunk',\n 'saw',\n 'sandstorm',\n 'post',\n 'other',\n 'massacre',\n 'island',\n 'injury',\n 'id',\n 'hundreds',\n 'hostages',\n 'horrible',\n 'hazardous',\n 'hazard',\n 'game',\n 'exploded',\n 'drought',\n 'bridge',\n 'bang',\n '40',\n 'windstorm',\n 'went',\n 'wave',\n 'soon',\n 'rescued',\n 'quarantined',\n 'national',\n 'market',\n 'kills',\n 'hurricane',\n 'heard',\n 'drowning',\n 'drown',\n 'detonate',\n 'destruction',\n 'derail',\n 'cliff',\n 'bombed',\n 'blown',\n 'around',\n 'airplane',\n '6',\n '\\x89ÛÒ',\n 'wounds',\n 'woman',\n 'trouble',\n 'traumatised',\n 'tragedy',\n 'thing',\n 'story',\n 'screams',\n 'put',\n 'past',\n 'ok',\n 'iran',\n 'inundated',\n 'group',\n 'flattened',\n 'fedex',\n 'caused',\n 'came',\n 'better',\n 'august',\n 'armageddon',\n 'anniversary',\n '15',\n 'women',\n 'wanna',\n 'violent',\n 'typhoon',\n 'tsunami',\n 'thank',\n 'security',\n 'razed',\n 'possible',\n 'meltdown',\n 'lot',\n 'isis',\n 'hostage',\n 'famine',\n 'electrocuted',\n 'ebay',\n 'dust',\n 'crush',\n 'collide',\n 'chemical',\n 'blew',\n 'bleeding',\n 'bioterror',\n 'against',\n 'zone',\n 'whats',\n 'use',\n 'twitter',\n 'tomorrow',\n 'sure',\n 'something',\n 'send',\n 'quarantine',\n 'plane',\n 'pkk',\n 'part',\n 'panicking',\n 'pandemonium',\n 'oh',\n 'must',\n 'longer',\n 'long',\n 'left',\n 'hijacker',\n 'heart',\n 'government',\n 'goes',\n 'due',\n 'didnt',\n 'detonated',\n 'desolation',\n 'collision',\n 'catastrophic',\n 'casualties',\n 'calgary',\n 'building',\n 'beautiful',\n 'bagging',\n 'affected',\n 'yet',\n 'volcano',\n 'very',\n 'thanks',\n 'st',\n 'screamed',\n 'river',\n 'riot',\n 'reunion',\n 'responders',\n 'red',\n 'obliteration',\n 'obliterated',\n 'nothing',\n 'music',\n 'minute',\n 'lava',\n 'land',\n 'hijacking',\n 'fatality',\n 'fan',\n 'drowned',\n 'detonation',\n 'demolish',\n 'cool',\n 'blast',\n 'believe',\n 'baby',\n 'used',\n 'ur',\n 'three',\n 'thought',\n 'sound',\n 'song',\n 'site',\n 'sirens',\n 'shoulder',\n 'seismic',\n 'same',\n 'prebreak',\n 'power',\n 'officials',\n 'obliterate',\n 'few',\n 'eyewitness',\n 'died',\n 'demolished',\n 'care',\n 'arson',\n 'airport',\n '9',\n 'turkey',\n 'traffic',\n 'such',\n 'stay',\n 'start',\n 'snowstorm',\n 'shooting',\n 'rubble',\n 'remember',\n 'rainstorm',\n 'murderer',\n 'media',\n 'making',\n 'kids',\n 'issues',\n 'israeli',\n 'india',\n 'having',\n 'far',\n 'evacuated',\n 'electrocute',\n 'doing',\n 'doesnt',\n 'derailed',\n 'demolition',\n 'crushed',\n 'brown',\n 'blazing',\n 'annihilated',\n '8',\n '7',\n '16yr',\n 'yes',\n 'wake',\n 'suspect',\n 'south',\n 'shot',\n 'reactor',\n 'policy',\n 'nowplaying',\n 'nearby',\n 'line',\n 'light',\n 'lets',\n 'leave',\n 'inside',\n 'horror',\n 'hijack',\n 'hell',\n 'health',\n 'gets',\n 'casualty',\n 'bc',\n 'already',\n 'actually',\n 'words',\n 'upheaval',\n 'trying',\n 'tornado',\n 'tell',\n 'sue',\n 'stretcher',\n 'second',\n 're\\x89Û',\n 'plans',\n 'pic',\n 'mp',\n 'men',\n 'maybe',\n 'low',\n 'lab',\n 'islam',\n 'hours',\n 'history',\n 'half',\n 'guys',\n 'fun',\n 'fight',\n 'done',\n 'deluged',\n 'declares',\n 'days',\n 'bodies',\n 'bestnaijamade',\n 'anything',\n 'almost',\n '20',\n '\\x89ÛÓ',\n 'wont',\n 'swallowed',\n 'support',\n 'street',\n 'searching',\n 'reuters',\n 'play',\n 'place',\n 'photos',\n 'person',\n 'peace',\n 'online',\n 'north',\n 'literally',\n 'hey',\n 'helicopter',\n 'find',\n 'cyclone',\n 'crews',\n 'business',\n 'bush',\n 'both',\n 'bioterrorism',\n 'bar',\n 'avalanche',\n 'aircraft',\n 'abc',\n '50',\n 'yeah',\n 'west',\n 'wait',\n 'typhoondevastated',\n 'theyre',\n 'siren',\n 'saipan',\n 'pick',\n 'name',\n 'money',\n 'la',\n 'kill',\n 'job',\n 'hellfire',\n 'hear',\n 'happy',\n 'eyes',\n 'die',\n 'data',\n 'conclusively',\n 'children',\n 'blight',\n 'blaze',\n 'ago',\n 'waves',\n 'trench',\n 'texas',\n 'team',\n 'space',\n 'projected',\n 'probably',\n 'picking',\n 'own',\n 'order',\n 'myself',\n 'memories',\n 'major',\n 'm',\n 'lost',\n 'jobs',\n 'hollywood',\n 'feared',\n 'effect',\n 'deal',\n 'd',\n 'center',\n 'case',\n 'book',\n 'bigger',\n 'anyone',\n 'american',\n 'ablaze',\n '12',\n '10',\n 'yourself',\n 'watching',\n 'tv',\n 'transport',\n 'town',\n 'spot',\n 'soudelor',\n 'ship',\n 'seen',\n 'saved',\n 'pretty',\n 'outside',\n 'officer',\n 'mom',\n 'miners',\n 'meek',\n 'leather',\n 'houses',\n 'hat',\n 'hard',\n 'flag',\n 'everything',\n 'daily',\n 'child',\n 'chance',\n 'called',\n 'banned',\n 'ball',\n 'annihilation',\n 'amid',\n '30',\n 'wow',\n 'trains',\n 'though',\n 'star',\n 'signs',\n 'side',\n 'shes',\n 'self',\n 'rise',\n 'refugio',\n 'rd',\n 'poor',\n 'once',\n 'okay',\n 'n',\n 'move',\n 'might',\n 'manslaughter',\n 'makes',\n 'hailstorm',\n 'gbbo',\n 'friends',\n 'flash',\n 'fast',\n 'emmerdale',\n 'east',\n 'desolate',\n 'damn',\n 'crisis',\n 'crazy',\n 'course',\n 'couple',\n 'country',\n 'costlier',\n 'centre',\n 'caught',\n 'cake',\n 'blizzard',\n 'become',\n 'angry',\n 'alone',\n 'youth',\n 'wrong',\n 'win',\n 'vs',\n 'virgin',\n 'truth',\n 'temple',\n 'sorry',\n 'reports',\n 'reason',\n 'playing',\n 'pain',\n 'omg',\n 'official',\n 'myanmar',\n 'mayhem',\n 'looking',\n 'listen',\n 'level',\n 'ladies',\n 'knock',\n 'isnt',\n 'ignition',\n 'huge',\n 'heavy',\n 'hate',\n 'guy',\n 'gun',\n 'global',\n 'finally',\n 'feeling',\n 'eye',\n 'downtown',\n 'control',\n 'computers',\n 'closed',\n 'class',\n 'beach',\n 'bbc',\n 'b',\n 'appears',\n 'across',\n '60',\n '13',\n '11yearold',\n 'yours',\n 'womens',\n 'wanted',\n 'view',\n 'usa',\n 'united',\n 'try',\n 'totally',\n 'toddler',\n 'till',\n 'thousands',\n 'takes',\n 'taken',\n 't',\n 'stand',\n 'russian',\n 'running',\n 'reddits',\n 'quiz',\n 'pay',\n 'pakistan',\n 'others',\n 'mop',\n 'marks',\n 'mad',\n 'link',\n 'libya',\n 'issued',\n 'instead',\n 'happened',\n 'gt',\n 'giant',\n 'gems',\n 'gave',\n 'front',\n 'follow',\n 'film',\n 'experts',\n 'else',\n 'drive',\n 'devastated',\n 'declaration',\n 'coaches',\n 'cnn',\n 'christian',\n 'anthrax',\n 'aftershock',\n '11',\n 'worst',\n 'working',\n 'village',\n 'vehicle',\n 'unconfirmed',\n 'thursday',\n 'talk',\n 'subreddits',\n 'sounds',\n 'shows',\n 'scared',\n 'ready',\n 'potus',\n 'park',\n 'niggas',\n 'neighbours',\n 'nagasaki',\n 'mount',\n 'miss',\n 'mishaps',\n 'lord',\n 'led',\n 'learn',\n 'large',\n 'landing',\n 'israel',\n 'haha',\n 'gop',\n 'germs',\n 'galactic',\n 'fukushima',\n 'following',\n 'favorite',\n 'escape',\n 'entire',\n 'ebola',\n 'driving',\n 'download',\n 'climate',\n 'chinas',\n 'china',\n 'cars',\n 'behind',\n 'aug',\n 'arsonist',\n 'aint',\n 'added',\n 'action',\n '25',\n '100',\n '05',\n 'wonder',\n 'tweet',\n 'turn',\n 'trust',\n 'tree',\n 'told',\n 'sign',\n 'safety',\n 'russia',\n 'rules',\n 'rock',\n 'reported',\n 'radio',\n 'r',\n 'pray',\n 'pradesh',\n 'ppl',\n 'point',\n 'patience',\n 'party',\n 'parole',\n 'pamela',\n 'pakistani',\n 'outrage',\n 'offensive',\n 'nws',\n 'needs',\n 'nearly',\n 'muslims',\n 'morning',\n 'moment',\n ...]"
     },
     "execution_count": 23,
     "metadata": {},
     "output_type": "execute_result"
    }
   ],
   "source": [
    "# Choose random sentence from the training dataset and tokenize it\n",
    "rand_train_sentence = random.choice(train_sentences)\n",
    "print(f\"Original text: \\n\\n {rand_train_sentence} \\n\\nVectorized text:\")\n",
    "text_vectorizer([rand_train_sentence])"
   ],
   "metadata": {
    "collapsed": false,
    "ExecuteTime": {
     "end_time": "2023-07-30T14:51:02.020587Z",
     "start_time": "2023-07-30T14:51:01.983867600Z"
    }
   },
   "id": "4f30ca7e95b2b5e5"
  },
  {
   "cell_type": "code",
   "execution_count": 24,
   "outputs": [
    {
     "data": {
      "text/plain": "10000"
     },
     "execution_count": 24,
     "metadata": {},
     "output_type": "execute_result"
    }
   ],
   "source": [
    "# Get unique words in the vocabulary\n",
    "words_in_vocab = text_vectorizer.get_vocabulary()\n",
    "words_in_vocab"
   ],
   "metadata": {
    "collapsed": false,
    "ExecuteTime": {
     "end_time": "2023-07-30T14:51:02.020587Z",
     "start_time": "2023-07-30T14:51:02.000018Z"
    }
   },
   "id": "a9796849d92692a"
  },
  {
   "cell_type": "code",
   "execution_count": 25,
   "outputs": [
    {
     "data": {
      "text/plain": "['', '[UNK]', 'the', 'a', 'in']"
     },
     "execution_count": 25,
     "metadata": {},
     "output_type": "execute_result"
    }
   ],
   "source": [
    "len(words_in_vocab)"
   ],
   "metadata": {
    "collapsed": false,
    "ExecuteTime": {
     "end_time": "2023-07-30T14:51:02.020587Z",
     "start_time": "2023-07-30T14:51:02.002401900Z"
    }
   },
   "id": "1fc1d49d18c2f968"
  },
  {
   "cell_type": "code",
   "execution_count": 26,
   "outputs": [
    {
     "data": {
      "text/plain": "['pakthey', 'pakistan\\x89Ûªs', 'pakistans', 'pajamas', 'paints']"
     },
     "execution_count": 26,
     "metadata": {},
     "output_type": "execute_result"
    }
   ],
   "source": [
    "# Top 5 words in words_in_vocab\n",
    "words_in_vocab[:5]"
   ],
   "metadata": {
    "collapsed": false,
    "ExecuteTime": {
     "end_time": "2023-07-30T14:51:02.020587Z",
     "start_time": "2023-07-30T14:51:02.005675Z"
    }
   },
   "id": "60913b2c06167547"
  },
  {
   "cell_type": "code",
   "execution_count": null,
   "outputs": [],
   "source": [
    "# Least 5 words in words_in_vocab\n",
    "words_in_vocab[-5:]"
   ],
   "metadata": {
    "collapsed": false
   },
   "id": "4b66d97a81a1ab9b"
  },
  {
   "cell_type": "markdown",
   "source": [
    "### Embedding layer\n",
    "\n",
    "To make our embedding, we are going to use TensorFlow’s embedding layer: https://www.tensorflow.org/api/docs/python/tf/keras/layers/\n",
    "\n",
    "The parameters are below mostly used.\n",
    "* input_dim = size of the vocabulary\n",
    "* output_dim = size of the output embedding vector.  For example, a value of 100 would mean each token gets represented by a vector 100 long\n",
    "* input_length = length of the sequences being passed to the embedding layer"
   ],
   "metadata": {
    "collapsed": false,
    "ExecuteTime": {
     "end_time": "2023-07-30T14:51:02.021586300Z",
     "start_time": "2023-07-30T14:51:02.009608800Z"
    }
   },
   "id": "4d47ece46e5b3070"
  },
  {
   "cell_type": "code",
   "execution_count": 28,
   "outputs": [
    {
     "name": "stdout",
     "output_type": "stream",
     "text": [
      "Original text: Injuries Illnesses and Fatalities Latest Numbers : http://t.co/1uo1aTrbbJ\n",
      "\n",
      "Vectorized text: [[ 289    1    7  362  199 2839    1    0    0    0    0    0    0    0\n",
      "     0]]\n",
      "\n",
      "Vectorized text shape: (1, 15)\n",
      "Embbedded text: [[[-0.02796229  0.00588357  0.02138958 -0.0025916   0.04152458\n",
      "    0.01366184 -0.04125395  0.03566234 -0.02768184 -0.0024143\n",
      "   -0.0013608   0.02672127 -0.0143005  -0.01799623  0.03869674\n",
      "    0.02519162 -0.01105823 -0.04477582 -0.04683232  0.04672701\n",
      "    0.0125914  -0.01097994  0.04220506 -0.01432807 -0.0268524\n",
      "   -0.03385969  0.0295727  -0.02836042 -0.02037652 -0.04936385\n",
      "    0.00719299  0.03403104 -0.0408483   0.04331813 -0.01667015\n",
      "   -0.02885242  0.04565011 -0.03498325  0.03235954  0.01700355\n",
      "   -0.03073397 -0.03283228  0.00083069 -0.01012558 -0.00157117\n",
      "    0.01312574 -0.02744392  0.03897801 -0.01690521 -0.00734366\n",
      "   -0.0432062  -0.01817285  0.03904152 -0.00651119 -0.02562679\n",
      "   -0.04284923 -0.00742116  0.01538116 -0.00549706 -0.03091816\n",
      "    0.00502149 -0.0226189  -0.01402761  0.01176151]\n",
      "  [-0.012818   -0.0078804   0.04193861 -0.04389489  0.03469804\n",
      "    0.0207337  -0.01858855  0.04569583 -0.0174016   0.02936541\n",
      "    0.02057889  0.00462031 -0.00100202  0.00034503  0.01055955\n",
      "   -0.0196402  -0.03834767 -0.03274565 -0.01882948 -0.01115086\n",
      "   -0.00555658  0.00616848  0.04762664 -0.01428083 -0.04532823\n",
      "    0.04833802  0.02451596  0.00493406 -0.04507761  0.02561693\n",
      "   -0.00908284 -0.04267385 -0.03245755  0.00994856  0.02082895\n",
      "    0.01126678  0.04294474  0.03023713 -0.02275915  0.03991148\n",
      "   -0.02123368 -0.01815041  0.01389953 -0.02992177 -0.01482178\n",
      "   -0.01997674 -0.0302007   0.01133997 -0.00524286  0.02125292\n",
      "   -0.02207373  0.02645041 -0.01898928 -0.00962054 -0.03271972\n",
      "    0.01851989 -0.02717968 -0.04680603  0.03010755  0.01557635\n",
      "   -0.04683123  0.03567604  0.02028476 -0.04024038]\n",
      "  [ 0.04583258 -0.00929922  0.0488423   0.00564539  0.0028712\n",
      "    0.02587417 -0.00316328 -0.03097768 -0.02279198  0.02442818\n",
      "    0.01631863 -0.01780748 -0.00473128 -0.02902753  0.01587934\n",
      "   -0.0207212  -0.01178751 -0.04946995 -0.03092914 -0.04790956\n",
      "   -0.03926692  0.00305744  0.04515148 -0.00771632 -0.00036657\n",
      "    0.00223222 -0.03683584  0.00888685  0.01802823 -0.011913\n",
      "   -0.04915967 -0.00823529 -0.03536839  0.03869042 -0.0046398\n",
      "   -0.00187255 -0.04384906 -0.03996638  0.01848476  0.04508613\n",
      "   -0.00669451 -0.03800925  0.0357022  -0.01380116 -0.01546221\n",
      "    0.01213596 -0.0239769  -0.00919168  0.00902196 -0.00603141\n",
      "   -0.03251159  0.00106802 -0.02872187  0.00681235 -0.04680597\n",
      "    0.0102763  -0.01033431 -0.00818204 -0.01940568 -0.01578612\n",
      "   -0.00386186  0.04198361 -0.02431562  0.01185219]\n",
      "  [-0.01986492  0.03876225 -0.00340669 -0.02742138  0.03782655\n",
      "    0.00266933  0.02220507 -0.00854797 -0.0012404  -0.04034095\n",
      "    0.02178781  0.01829887  0.01623603  0.04612916  0.00766283\n",
      "   -0.00606047  0.02845012  0.00609522 -0.04514091  0.04152657\n",
      "   -0.00076896  0.02446743  0.03261885  0.04108598  0.00623786\n",
      "   -0.02374154 -0.0098613  -0.0352942   0.01027125  0.01009553\n",
      "   -0.01907718  0.00022966  0.027231    0.0249261   0.01802558\n",
      "   -0.04529971  0.04551078 -0.03126551  0.01460997  0.00814945\n",
      "   -0.00423882  0.00400634  0.001945   -0.03997823 -0.003618\n",
      "    0.02993895 -0.02633843  0.03785521 -0.01112058 -0.03784758\n",
      "   -0.04533594  0.04199742 -0.02045171  0.01808875  0.011586\n",
      "   -0.04146706 -0.01202506 -0.04286271 -0.01588621  0.01415214\n",
      "    0.04765309 -0.04637265 -0.01452017 -0.00643132]\n",
      "  [-0.04918932 -0.00277068 -0.00348843 -0.01512293 -0.03929723\n",
      "    0.03964354 -0.04584248 -0.04499167 -0.03295635  0.01744627\n",
      "    0.0313854   0.00490956 -0.04445657  0.0407222   0.03444329\n",
      "    0.0063432   0.03300608 -0.04578548 -0.03758413 -0.02309051\n",
      "   -0.03947755  0.00605773  0.0434134   0.00497477 -0.01142931\n",
      "    0.04962374  0.04585021  0.04871562  0.03562656 -0.03213231\n",
      "   -0.03596625 -0.03862053 -0.03645996 -0.04393649 -0.00766698\n",
      "    0.03345514  0.03282282 -0.04574944 -0.04542242 -0.0390523\n",
      "   -0.0004903   0.01945431 -0.03265106 -0.0323941   0.02721875\n",
      "   -0.00247592  0.03526537 -0.0038728   0.03138511 -0.02145873\n",
      "   -0.02978545 -0.03531939 -0.00287992 -0.0459087  -0.00653557\n",
      "    0.00165291  0.04830692 -0.02143015  0.04760334 -0.0094464\n",
      "   -0.01546073 -0.04523733  0.04301086 -0.00346249]\n",
      "  [ 0.00326388 -0.0357389   0.0034057   0.03651289  0.03925458\n",
      "    0.0272775  -0.00376297 -0.04984632  0.01355531  0.01594608\n",
      "    0.01194525 -0.00797901 -0.0354378  -0.00877887  0.00712317\n",
      "    0.02638198 -0.00661002 -0.00665342  0.00660994  0.03502789\n",
      "    0.04374881  0.04747825 -0.00418866 -0.02202673 -0.02232777\n",
      "    0.02824681  0.01529508 -0.04558176 -0.01662515  0.04227377\n",
      "   -0.02726635 -0.02952841 -0.02319926 -0.02464854  0.03295899\n",
      "   -0.02610179 -0.03193908  0.04003117 -0.0486154  -0.03058455\n",
      "    0.04613068 -0.02467427 -0.04540905  0.0104093  -0.03127663\n",
      "    0.02698448 -0.02516824  0.0061034   0.04074535  0.0352821\n",
      "    0.00659784 -0.03723032  0.04229727  0.03713595  0.02064467\n",
      "   -0.00225153  0.0130068  -0.03012682  0.01915804 -0.02185992\n",
      "   -0.01914512 -0.02841815  0.00348374 -0.03468436]\n",
      "  [-0.012818   -0.0078804   0.04193861 -0.04389489  0.03469804\n",
      "    0.0207337  -0.01858855  0.04569583 -0.0174016   0.02936541\n",
      "    0.02057889  0.00462031 -0.00100202  0.00034503  0.01055955\n",
      "   -0.0196402  -0.03834767 -0.03274565 -0.01882948 -0.01115086\n",
      "   -0.00555658  0.00616848  0.04762664 -0.01428083 -0.04532823\n",
      "    0.04833802  0.02451596  0.00493406 -0.04507761  0.02561693\n",
      "   -0.00908284 -0.04267385 -0.03245755  0.00994856  0.02082895\n",
      "    0.01126678  0.04294474  0.03023713 -0.02275915  0.03991148\n",
      "   -0.02123368 -0.01815041  0.01389953 -0.02992177 -0.01482178\n",
      "   -0.01997674 -0.0302007   0.01133997 -0.00524286  0.02125292\n",
      "   -0.02207373  0.02645041 -0.01898928 -0.00962054 -0.03271972\n",
      "    0.01851989 -0.02717968 -0.04680603  0.03010755  0.01557635\n",
      "   -0.04683123  0.03567604  0.02028476 -0.04024038]\n",
      "  [-0.04142667 -0.00652619  0.01696512 -0.01332198 -0.01273743\n",
      "    0.02800382  0.02606703  0.00077753 -0.03753488 -0.02104081\n",
      "   -0.01235312 -0.03367992  0.04162924 -0.00583543  0.03460011\n",
      "   -0.04880533  0.00958948 -0.02542319 -0.00839815 -0.02364333\n",
      "   -0.01076018 -0.01279125  0.00688388 -0.04095878  0.01206248\n",
      "    0.02189605  0.03442409 -0.01771811  0.00230294  0.00253258\n",
      "    0.0052029   0.01945889  0.00639095  0.01887078  0.02496834\n",
      "    0.0496613   0.00223589  0.00619649  0.00640876  0.03032929\n",
      "   -0.0268943  -0.04738433  0.0368715  -0.02828091 -0.03078512\n",
      "    0.04940662 -0.00152588  0.03834516  0.04440652 -0.04815808\n",
      "   -0.03351643 -0.01913629 -0.00686072  0.04699771 -0.02567943\n",
      "    0.00456174  0.01840892 -0.04167964 -0.00888313 -0.03018205\n",
      "    0.04765482  0.00596595  0.01034629 -0.01886017]\n",
      "  [-0.04142667 -0.00652619  0.01696512 -0.01332198 -0.01273743\n",
      "    0.02800382  0.02606703  0.00077753 -0.03753488 -0.02104081\n",
      "   -0.01235312 -0.03367992  0.04162924 -0.00583543  0.03460011\n",
      "   -0.04880533  0.00958948 -0.02542319 -0.00839815 -0.02364333\n",
      "   -0.01076018 -0.01279125  0.00688388 -0.04095878  0.01206248\n",
      "    0.02189605  0.03442409 -0.01771811  0.00230294  0.00253258\n",
      "    0.0052029   0.01945889  0.00639095  0.01887078  0.02496834\n",
      "    0.0496613   0.00223589  0.00619649  0.00640876  0.03032929\n",
      "   -0.0268943  -0.04738433  0.0368715  -0.02828091 -0.03078512\n",
      "    0.04940662 -0.00152588  0.03834516  0.04440652 -0.04815808\n",
      "   -0.03351643 -0.01913629 -0.00686072  0.04699771 -0.02567943\n",
      "    0.00456174  0.01840892 -0.04167964 -0.00888313 -0.03018205\n",
      "    0.04765482  0.00596595  0.01034629 -0.01886017]\n",
      "  [-0.04142667 -0.00652619  0.01696512 -0.01332198 -0.01273743\n",
      "    0.02800382  0.02606703  0.00077753 -0.03753488 -0.02104081\n",
      "   -0.01235312 -0.03367992  0.04162924 -0.00583543  0.03460011\n",
      "   -0.04880533  0.00958948 -0.02542319 -0.00839815 -0.02364333\n",
      "   -0.01076018 -0.01279125  0.00688388 -0.04095878  0.01206248\n",
      "    0.02189605  0.03442409 -0.01771811  0.00230294  0.00253258\n",
      "    0.0052029   0.01945889  0.00639095  0.01887078  0.02496834\n",
      "    0.0496613   0.00223589  0.00619649  0.00640876  0.03032929\n",
      "   -0.0268943  -0.04738433  0.0368715  -0.02828091 -0.03078512\n",
      "    0.04940662 -0.00152588  0.03834516  0.04440652 -0.04815808\n",
      "   -0.03351643 -0.01913629 -0.00686072  0.04699771 -0.02567943\n",
      "    0.00456174  0.01840892 -0.04167964 -0.00888313 -0.03018205\n",
      "    0.04765482  0.00596595  0.01034629 -0.01886017]\n",
      "  [-0.04142667 -0.00652619  0.01696512 -0.01332198 -0.01273743\n",
      "    0.02800382  0.02606703  0.00077753 -0.03753488 -0.02104081\n",
      "   -0.01235312 -0.03367992  0.04162924 -0.00583543  0.03460011\n",
      "   -0.04880533  0.00958948 -0.02542319 -0.00839815 -0.02364333\n",
      "   -0.01076018 -0.01279125  0.00688388 -0.04095878  0.01206248\n",
      "    0.02189605  0.03442409 -0.01771811  0.00230294  0.00253258\n",
      "    0.0052029   0.01945889  0.00639095  0.01887078  0.02496834\n",
      "    0.0496613   0.00223589  0.00619649  0.00640876  0.03032929\n",
      "   -0.0268943  -0.04738433  0.0368715  -0.02828091 -0.03078512\n",
      "    0.04940662 -0.00152588  0.03834516  0.04440652 -0.04815808\n",
      "   -0.03351643 -0.01913629 -0.00686072  0.04699771 -0.02567943\n",
      "    0.00456174  0.01840892 -0.04167964 -0.00888313 -0.03018205\n",
      "    0.04765482  0.00596595  0.01034629 -0.01886017]\n",
      "  [-0.04142667 -0.00652619  0.01696512 -0.01332198 -0.01273743\n",
      "    0.02800382  0.02606703  0.00077753 -0.03753488 -0.02104081\n",
      "   -0.01235312 -0.03367992  0.04162924 -0.00583543  0.03460011\n",
      "   -0.04880533  0.00958948 -0.02542319 -0.00839815 -0.02364333\n",
      "   -0.01076018 -0.01279125  0.00688388 -0.04095878  0.01206248\n",
      "    0.02189605  0.03442409 -0.01771811  0.00230294  0.00253258\n",
      "    0.0052029   0.01945889  0.00639095  0.01887078  0.02496834\n",
      "    0.0496613   0.00223589  0.00619649  0.00640876  0.03032929\n",
      "   -0.0268943  -0.04738433  0.0368715  -0.02828091 -0.03078512\n",
      "    0.04940662 -0.00152588  0.03834516  0.04440652 -0.04815808\n",
      "   -0.03351643 -0.01913629 -0.00686072  0.04699771 -0.02567943\n",
      "    0.00456174  0.01840892 -0.04167964 -0.00888313 -0.03018205\n",
      "    0.04765482  0.00596595  0.01034629 -0.01886017]\n",
      "  [-0.04142667 -0.00652619  0.01696512 -0.01332198 -0.01273743\n",
      "    0.02800382  0.02606703  0.00077753 -0.03753488 -0.02104081\n",
      "   -0.01235312 -0.03367992  0.04162924 -0.00583543  0.03460011\n",
      "   -0.04880533  0.00958948 -0.02542319 -0.00839815 -0.02364333\n",
      "   -0.01076018 -0.01279125  0.00688388 -0.04095878  0.01206248\n",
      "    0.02189605  0.03442409 -0.01771811  0.00230294  0.00253258\n",
      "    0.0052029   0.01945889  0.00639095  0.01887078  0.02496834\n",
      "    0.0496613   0.00223589  0.00619649  0.00640876  0.03032929\n",
      "   -0.0268943  -0.04738433  0.0368715  -0.02828091 -0.03078512\n",
      "    0.04940662 -0.00152588  0.03834516  0.04440652 -0.04815808\n",
      "   -0.03351643 -0.01913629 -0.00686072  0.04699771 -0.02567943\n",
      "    0.00456174  0.01840892 -0.04167964 -0.00888313 -0.03018205\n",
      "    0.04765482  0.00596595  0.01034629 -0.01886017]\n",
      "  [-0.04142667 -0.00652619  0.01696512 -0.01332198 -0.01273743\n",
      "    0.02800382  0.02606703  0.00077753 -0.03753488 -0.02104081\n",
      "   -0.01235312 -0.03367992  0.04162924 -0.00583543  0.03460011\n",
      "   -0.04880533  0.00958948 -0.02542319 -0.00839815 -0.02364333\n",
      "   -0.01076018 -0.01279125  0.00688388 -0.04095878  0.01206248\n",
      "    0.02189605  0.03442409 -0.01771811  0.00230294  0.00253258\n",
      "    0.0052029   0.01945889  0.00639095  0.01887078  0.02496834\n",
      "    0.0496613   0.00223589  0.00619649  0.00640876  0.03032929\n",
      "   -0.0268943  -0.04738433  0.0368715  -0.02828091 -0.03078512\n",
      "    0.04940662 -0.00152588  0.03834516  0.04440652 -0.04815808\n",
      "   -0.03351643 -0.01913629 -0.00686072  0.04699771 -0.02567943\n",
      "    0.00456174  0.01840892 -0.04167964 -0.00888313 -0.03018205\n",
      "    0.04765482  0.00596595  0.01034629 -0.01886017]\n",
      "  [-0.04142667 -0.00652619  0.01696512 -0.01332198 -0.01273743\n",
      "    0.02800382  0.02606703  0.00077753 -0.03753488 -0.02104081\n",
      "   -0.01235312 -0.03367992  0.04162924 -0.00583543  0.03460011\n",
      "   -0.04880533  0.00958948 -0.02542319 -0.00839815 -0.02364333\n",
      "   -0.01076018 -0.01279125  0.00688388 -0.04095878  0.01206248\n",
      "    0.02189605  0.03442409 -0.01771811  0.00230294  0.00253258\n",
      "    0.0052029   0.01945889  0.00639095  0.01887078  0.02496834\n",
      "    0.0496613   0.00223589  0.00619649  0.00640876  0.03032929\n",
      "   -0.0268943  -0.04738433  0.0368715  -0.02828091 -0.03078512\n",
      "    0.04940662 -0.00152588  0.03834516  0.04440652 -0.04815808\n",
      "   -0.03351643 -0.01913629 -0.00686072  0.04699771 -0.02567943\n",
      "    0.00456174  0.01840892 -0.04167964 -0.00888313 -0.03018205\n",
      "    0.04765482  0.00596595  0.01034629 -0.01886017]]]\n",
      "Embedded text shape: (1, 15, 64)\n"
     ]
    }
   ],
   "source": [
    "from tensorflow.keras import layers\n",
    "\n",
    "embedding = layers.Embedding(input_dim = max_vocab_length,\n",
    "                             output_dim = 64,\n",
    "                             embeddings_initializer = \"uniform\",\n",
    "                             input_length = max_length)"
   ],
   "metadata": {
    "collapsed": false,
    "ExecuteTime": {
     "end_time": "2023-07-30T14:51:02.103862300Z",
     "start_time": "2023-07-30T14:51:02.012585300Z"
    }
   },
   "id": "55b4d3e382cb85d7"
  },
  {
   "cell_type": "code",
   "execution_count": null,
   "outputs": [],
   "source": [
    "# Get a random sentence from the training set and return Original text, Vectorized text, Embedded text\n",
    "rand_sentence = random.choice(train_sentences)\n",
    "print(f\"Original text: {rand_sentence}\\n\")\n",
    "print(f\"Vectorized text: {text_vectorizer([rand_sentence])}\\n\")\n",
    "print(f\"Vectorized text shape: {text_vectorizer([rand_sentence]).shape}\")\n",
    "print(f\"Embbedded text: {embedding(text_vectorizer([rand_sentence]))}\")\n",
    "print(f\"Embedded text shape: {embedding(text_vectorizer([rand_sentence])).shape}\")"
   ],
   "metadata": {
    "collapsed": false
   },
   "id": "2d8028a4f822acb"
  },
  {
   "cell_type": "markdown",
   "source": [
    "### Model_4: Bidirectional-LSTM Model (RNN)"
   ],
   "metadata": {
    "collapsed": false,
    "ExecuteTime": {
     "end_time": "2023-07-30T14:51:02.669389500Z",
     "start_time": "2023-07-30T14:51:02.041774900Z"
    }
   },
   "id": "33d485e13722e750"
  },
  {
   "cell_type": "code",
   "execution_count": 30,
   "outputs": [
    {
     "name": "stdout",
     "output_type": "stream",
     "text": [
      "Model: \"model_4_bidirectional\"\n",
      "_________________________________________________________________\n",
      " Layer (type)                Output Shape              Param #   \n",
      "=================================================================\n",
      " input_1 (InputLayer)        [(None, 1)]               0         \n",
      "                                                                 \n",
      " text_vectorization (TextVe  (None, 15)                0         \n",
      " ctorization)                                                    \n",
      "                                                                 \n",
      " embedding (Embedding)       (None, 15, 64)            640000    \n",
      "                                                                 \n",
      " bidirectional (Bidirection  (None, 15, 128)           66048     \n",
      " al)                                                             \n",
      "                                                                 \n",
      " bidirectional_1 (Bidirecti  (None, 128)               74496     \n",
      " onal)                                                           \n",
      "                                                                 \n",
      " dense (Dense)               (None, 1)                 129       \n",
      "                                                                 \n",
      "=================================================================\n",
      "Total params: 780673 (2.98 MB)\n",
      "Trainable params: 780673 (2.98 MB)\n",
      "Non-trainable params: 0 (0.00 Byte)\n",
      "_________________________________________________________________\n"
     ]
    }
   ],
   "source": [
    "# Build a Bidirectional RNN using tf\n",
    "from tensorflow.keras import layers\n",
    "inputs = layers.Input(shape= (1,), dtype = tf.string)\n",
    "x = text_vectorizer(inputs)\n",
    "x = embedding(x)\n",
    "x = layers.Bidirectional(layers.LSTM(64, return_sequences = True))(x)\n",
    "x = layers.Bidirectional(layers.GRU(64))(x)\n",
    "outputs = layers.Dense(1, activation = 'sigmoid')(x)\n",
    "model_4 = tf.keras.Model(inputs, outputs, name = \"model_4_bidirectional\")\n",
    "\n",
    "# Compile the model\n",
    "model_4.compile(loss = 'binary_crossentropy',\n",
    "                optimizer=tf.keras.optimizers.Adam(),\n",
    "                metrics = ['accuracy'])"
   ],
   "metadata": {
    "collapsed": false,
    "ExecuteTime": {
     "end_time": "2023-07-30T14:51:02.670389800Z",
     "start_time": "2023-07-30T14:51:02.601026Z"
    }
   },
   "id": "c0b8b724636249a4"
  },
  {
   "cell_type": "code",
   "execution_count": 31,
   "outputs": [
    {
     "name": "stdout",
     "output_type": "stream",
     "text": [
      "Epoch 1/5\n",
      "215/215 [==============================] - 7s 14ms/step - loss: 0.5085 - accuracy: 0.7546 - val_loss: 0.4735 - val_accuracy: 0.7927\n",
      "Epoch 2/5\n",
      "215/215 [==============================] - 2s 10ms/step - loss: 0.3077 - accuracy: 0.8697 - val_loss: 0.5143 - val_accuracy: 0.7585\n",
      "Epoch 3/5\n",
      "215/215 [==============================] - 2s 11ms/step - loss: 0.2014 - accuracy: 0.9275 - val_loss: 0.5948 - val_accuracy: 0.7717\n",
      "Epoch 4/5\n",
      "215/215 [==============================] - 2s 10ms/step - loss: 0.1327 - accuracy: 0.9539 - val_loss: 0.7216 - val_accuracy: 0.7520\n",
      "Epoch 5/5\n",
      "215/215 [==============================] - 2s 10ms/step - loss: 0.0978 - accuracy: 0.9654 - val_loss: 0.8826 - val_accuracy: 0.7717\n"
     ]
    }
   ],
   "source": [
    "model_4.summary()"
   ],
   "metadata": {
    "collapsed": false,
    "ExecuteTime": {
     "end_time": "2023-07-30T14:51:18.437265800Z",
     "start_time": "2023-07-30T14:51:02.617378600Z"
    }
   },
   "id": "73ee477f660ec758"
  },
  {
   "cell_type": "code",
   "execution_count": 32,
   "outputs": [
    {
     "name": "stdout",
     "output_type": "stream",
     "text": [
      "24/24 [==============================] - 1s 3ms/step\n"
     ]
    },
    {
     "data": {
      "text/plain": "array([[2.90588941e-03],\n       [4.39843908e-02],\n       [2.83487421e-03],\n       [1.15216209e-03],\n       [1.25471652e-01],\n       [4.79591358e-03],\n       [4.84226941e-04],\n       [1.48925129e-02],\n       [1.15532734e-01],\n       [9.92810667e-01],\n       [7.62113154e-01],\n       [3.58268082e-01],\n       [2.44195410e-03],\n       [5.65950535e-02],\n       [3.79291177e-02],\n       [5.49180470e-02],\n       [9.96235788e-01],\n       [6.42531412e-03],\n       [9.99671817e-01],\n       [3.48502677e-03],\n       [1.17237449e-01],\n       [8.05191875e-01],\n       [4.75273430e-02],\n       [9.34544027e-01],\n       [1.18779503e-02],\n       [4.95914035e-02],\n       [9.97384489e-01],\n       [9.49508905e-01],\n       [9.99162853e-01],\n       [5.06573182e-04],\n       [1.55959632e-02],\n       [2.10690987e-03],\n       [7.31477737e-01],\n       [3.32707077e-01],\n       [1.00343581e-02],\n       [2.29298800e-01],\n       [1.72012709e-02],\n       [3.58703807e-02],\n       [2.35470780e-03],\n       [4.87792939e-02],\n       [5.21404808e-03],\n       [9.99161005e-01],\n       [8.50832462e-02],\n       [7.30817974e-01],\n       [4.92533809e-03],\n       [1.35215779e-03],\n       [9.97495055e-01],\n       [6.87565088e-01],\n       [9.71193790e-01],\n       [8.45452607e-01],\n       [2.90486533e-02],\n       [9.99729991e-01],\n       [1.85372902e-03],\n       [5.90965927e-01],\n       [3.39548592e-03],\n       [4.46579931e-03],\n       [8.83537352e-01],\n       [7.12269510e-04],\n       [1.71231218e-02],\n       [4.90419334e-03],\n       [5.19993961e-01],\n       [6.89322874e-02],\n       [9.98544633e-01],\n       [9.57138371e-03],\n       [3.76391714e-03],\n       [5.24755597e-01],\n       [9.98932362e-01],\n       [1.51508436e-01],\n       [1.74760271e-03],\n       [2.13788287e-03],\n       [7.52543507e-04],\n       [3.28444570e-01],\n       [3.04808374e-02],\n       [3.92840884e-04],\n       [3.36280949e-02],\n       [2.51338631e-01],\n       [5.15421899e-03],\n       [9.82033968e-01],\n       [4.32488322e-03],\n       [9.92750108e-01],\n       [3.04048389e-01],\n       [1.03898579e-02],\n       [5.42532384e-01],\n       [9.99228656e-01],\n       [1.84942167e-02],\n       [2.12228194e-01],\n       [9.99411047e-01],\n       [6.73509086e-04],\n       [9.98244822e-01],\n       [4.77998033e-02],\n       [2.33693928e-01],\n       [7.88400412e-01],\n       [2.13712335e-01],\n       [4.03029695e-02],\n       [4.46126014e-01],\n       [7.99453072e-03],\n       [8.28117772e-04],\n       [9.46828921e-04],\n       [8.79054844e-01],\n       [6.36893371e-03],\n       [1.92882046e-01],\n       [2.15789527e-02],\n       [1.58920023e-03],\n       [9.28040873e-03],\n       [2.08271085e-03],\n       [4.04054344e-01],\n       [7.30520906e-03],\n       [1.29630826e-02],\n       [9.99692678e-01],\n       [7.15331659e-02],\n       [9.96120214e-01],\n       [9.98938084e-01],\n       [9.95585680e-01],\n       [1.51253238e-01],\n       [2.82982161e-04],\n       [7.57849157e-01],\n       [5.14096059e-02],\n       [9.66464579e-01],\n       [2.13261619e-01],\n       [1.61931235e-02],\n       [9.91977990e-01],\n       [1.42244294e-01],\n       [2.20444682e-03],\n       [9.92239654e-01],\n       [5.75132072e-01],\n       [1.27008660e-02],\n       [2.62220413e-03],\n       [9.98334229e-01],\n       [4.91739251e-02],\n       [2.11148453e-03],\n       [4.00069403e-03],\n       [1.45652995e-01],\n       [1.48745235e-02],\n       [1.31846806e-02],\n       [4.57554795e-02],\n       [2.76785195e-02],\n       [4.76888239e-01],\n       [7.53986649e-03],\n       [2.40734681e-01],\n       [9.99682248e-01],\n       [1.08846210e-01],\n       [4.75513250e-01],\n       [5.83956242e-01],\n       [2.97364295e-02],\n       [4.15046550e-02],\n       [4.38396295e-04],\n       [9.99224961e-01],\n       [9.63474691e-01],\n       [1.31531134e-01],\n       [8.59639868e-02],\n       [9.99075413e-01],\n       [1.17712356e-02],\n       [9.98729169e-01],\n       [6.90555692e-01],\n       [8.83537352e-01],\n       [6.99118245e-04],\n       [4.62738739e-04],\n       [9.99707341e-01],\n       [9.83647823e-01],\n       [1.71766311e-01],\n       [5.42833610e-03],\n       [7.28013646e-03],\n       [9.98434246e-01],\n       [3.40370014e-02],\n       [1.01689901e-02],\n       [9.88131642e-01],\n       [1.77638158e-02],\n       [1.17457239e-02],\n       [7.41935909e-01],\n       [1.02605950e-03],\n       [7.16970801e-01],\n       [1.07155778e-02],\n       [8.14229716e-03],\n       [7.83513248e-01],\n       [8.32532812e-03],\n       [3.53860727e-04],\n       [6.12476394e-02],\n       [9.98188615e-01],\n       [9.98774409e-01],\n       [9.22555327e-01],\n       [7.82237947e-01],\n       [1.47183621e-02],\n       [5.43152634e-03],\n       [1.18055358e-03],\n       [5.11135235e-02],\n       [7.33231246e-01],\n       [1.32127646e-02],\n       [6.64843712e-03],\n       [1.24171712e-02],\n       [2.11393833e-03],\n       [1.60250324e-03],\n       [1.99132762e-03],\n       [4.84840684e-02],\n       [1.15988431e-02],\n       [9.01051521e-01],\n       [6.68792659e-03],\n       [1.30851483e-02],\n       [9.83217597e-01],\n       [1.67627831e-03],\n       [7.25801066e-02],\n       [5.41613158e-03],\n       [4.50313266e-04],\n       [1.12358956e-02],\n       [2.35913135e-02],\n       [8.06795597e-01],\n       [5.60544664e-03],\n       [1.16010197e-01],\n       [2.56395293e-03],\n       [1.30120605e-01],\n       [1.18953072e-01],\n       [9.96770799e-01],\n       [9.84258831e-01],\n       [9.98864770e-01],\n       [9.99699712e-01],\n       [2.64453366e-02],\n       [3.05084169e-01],\n       [7.22508132e-03],\n       [9.41467702e-01],\n       [9.99508739e-01],\n       [4.01863083e-02],\n       [3.33076273e-03],\n       [2.56914645e-01],\n       [9.98901069e-01],\n       [6.78051859e-02],\n       [9.99541998e-01],\n       [4.03231949e-01],\n       [2.46496752e-01],\n       [1.21236790e-03],\n       [4.17866278e-04],\n       [2.97868222e-01],\n       [4.46246684e-01],\n       [6.48690984e-02],\n       [9.95346546e-01],\n       [9.27508920e-02],\n       [1.23087934e-03],\n       [5.68063883e-03],\n       [9.12882030e-01],\n       [9.03137401e-02],\n       [9.62141871e-01],\n       [4.90674051e-04],\n       [5.27433958e-03],\n       [9.99620676e-01],\n       [1.47919804e-02],\n       [2.44297594e-01],\n       [1.85268726e-02],\n       [1.32054938e-02],\n       [9.49686229e-01],\n       [9.92901266e-01],\n       [9.91603825e-03],\n       [8.68460298e-01],\n       [3.21609639e-02],\n       [9.99603450e-01],\n       [1.68253258e-02],\n       [8.01156819e-01],\n       [3.59001034e-03],\n       [1.69390514e-02],\n       [1.26439182e-03],\n       [9.93113041e-01],\n       [2.46370421e-03],\n       [1.09828869e-02],\n       [1.95318520e-01],\n       [9.96424198e-01],\n       [9.99531269e-01],\n       [4.88021784e-02],\n       [9.98914897e-01],\n       [2.95289636e-01],\n       [3.36227962e-03],\n       [3.86820436e-02],\n       [8.87424171e-01],\n       [9.54823494e-01],\n       [8.92823040e-02],\n       [9.97005284e-01],\n       [5.95090818e-03],\n       [5.89780218e-04],\n       [9.57413912e-01],\n       [3.85109186e-02],\n       [3.04394305e-01],\n       [9.99721289e-01],\n       [8.14369559e-01],\n       [9.99485493e-01],\n       [4.54122722e-01],\n       [9.98544633e-01],\n       [8.80033493e-01],\n       [2.55121221e-03],\n       [9.96740460e-01],\n       [9.78984118e-01],\n       [2.45415658e-01],\n       [2.45855795e-03],\n       [5.13665497e-01],\n       [1.94095206e-02],\n       [9.99227941e-01],\n       [9.92076218e-01],\n       [1.62386743e-03],\n       [2.51039077e-04],\n       [9.95053113e-01],\n       [1.06780842e-01],\n       [4.46295395e-04],\n       [9.99485493e-01],\n       [9.96235788e-01],\n       [3.93261425e-02],\n       [9.98082817e-01],\n       [1.28859177e-01],\n       [9.79904592e-01],\n       [9.98985648e-01],\n       [1.14512490e-03],\n       [6.80432081e-01],\n       [3.05121154e-01],\n       [5.82765904e-04],\n       [2.68003698e-02],\n       [6.95746113e-03],\n       [9.99240100e-01],\n       [1.01846665e-01],\n       [4.83488292e-02],\n       [8.20461869e-01],\n       [3.83035809e-01],\n       [8.57937396e-01],\n       [2.14220537e-03],\n       [1.26119319e-03],\n       [9.98841524e-01],\n       [9.97575283e-01],\n       [1.87676959e-03],\n       [4.35051471e-02],\n       [9.07160342e-01],\n       [3.28446403e-02],\n       [3.51142837e-03],\n       [2.76288837e-02],\n       [1.50553733e-02],\n       [1.72360300e-03],\n       [9.14774612e-02],\n       [9.99586999e-01],\n       [4.53851931e-02],\n       [9.98814881e-01],\n       [9.99648154e-01],\n       [5.48086837e-02],\n       [9.95853126e-01],\n       [9.90799069e-01],\n       [9.90742862e-01],\n       [9.99766648e-01],\n       [8.97688210e-01],\n       [1.39164478e-01],\n       [1.39332348e-02],\n       [1.21819116e-02],\n       [5.29148914e-02],\n       [2.08858121e-03],\n       [1.17573000e-01],\n       [1.29146921e-03],\n       [9.99394476e-01],\n       [9.97356296e-01],\n       [9.99595761e-01],\n       [4.10189247e-03],\n       [3.46362516e-02],\n       [9.98816252e-01],\n       [3.52250785e-03],\n       [6.60177227e-03],\n       [9.82999027e-01],\n       [8.81027505e-02],\n       [9.99677300e-01],\n       [5.58372308e-03],\n       [6.99789263e-04],\n       [5.42486310e-02],\n       [3.03595603e-01],\n       [8.38198066e-01],\n       [4.64417070e-01],\n       [3.37303005e-04],\n       [7.36837238e-02],\n       [1.81152254e-01],\n       [1.66126422e-03],\n       [8.77830982e-02],\n       [2.59699975e-03],\n       [2.40887001e-01],\n       [5.48821734e-03],\n       [8.88040781e-01],\n       [7.08335405e-03],\n       [1.55154066e-02],\n       [6.34140614e-03],\n       [9.96166468e-01],\n       [1.00803946e-03],\n       [6.40540838e-01],\n       [1.05236575e-01],\n       [4.74308431e-01],\n       [9.99543309e-01],\n       [1.98771842e-02],\n       [1.87171608e-01],\n       [3.44894943e-03],\n       [1.39059573e-01],\n       [2.90497988e-01],\n       [3.92504735e-03],\n       [1.91895720e-02],\n       [2.24144594e-03],\n       [1.54423073e-03],\n       [1.72661841e-02],\n       [1.19601125e-02],\n       [2.12287024e-01],\n       [7.75689865e-03],\n       [3.07759851e-01],\n       [9.95600879e-01],\n       [9.99194562e-01],\n       [9.35802698e-01],\n       [1.14512835e-02],\n       [1.11790665e-03],\n       [4.67457809e-03],\n       [7.28454471e-01],\n       [9.72212017e-01],\n       [9.16763861e-03],\n       [2.98600848e-04],\n       [9.70512509e-01],\n       [6.76155627e-01],\n       [9.99383867e-01],\n       [1.25542358e-01],\n       [6.29338980e-01],\n       [9.85503972e-01],\n       [2.91725993e-02],\n       [7.19359145e-04],\n       [5.97066224e-01],\n       [2.92307464e-03],\n       [8.14716518e-03],\n       [9.98794913e-01],\n       [6.18614955e-04],\n       [9.97088671e-01],\n       [2.70968559e-03],\n       [2.21851887e-03],\n       [9.99407053e-01],\n       [6.88580214e-04],\n       [2.86354427e-03],\n       [7.77660962e-03],\n       [2.03061989e-03],\n       [7.54128967e-04],\n       [7.55098357e-04],\n       [9.94825363e-01],\n       [9.92747247e-01],\n       [3.50337173e-03],\n       [6.56398237e-02],\n       [6.43588245e-01],\n       [7.29618419e-04],\n       [9.98485684e-01],\n       [4.83023032e-04],\n       [9.98255372e-01],\n       [5.00891693e-02],\n       [3.81159969e-03],\n       [9.78260185e-04],\n       [9.90749061e-01],\n       [1.32203929e-03],\n       [7.69823790e-01],\n       [5.01748085e-01],\n       [1.92493200e-02],\n       [4.23852308e-03],\n       [1.90788731e-01],\n       [5.07833809e-03],\n       [9.99662220e-01],\n       [1.15087833e-02],\n       [3.44619062e-03],\n       [5.56425638e-02],\n       [9.73499060e-01],\n       [3.22733551e-01],\n       [9.91974115e-01],\n       [3.14849824e-01],\n       [8.57059658e-01],\n       [6.07680976e-01],\n       [9.86875653e-01],\n       [1.56209775e-04],\n       [7.73215175e-01],\n       [9.99521017e-01],\n       [8.88356182e-04],\n       [9.76496756e-01],\n       [6.32852137e-01],\n       [9.88943517e-01],\n       [2.85207760e-02],\n       [3.69327259e-03],\n       [8.33136737e-01],\n       [7.64426030e-03],\n       [9.97681797e-01],\n       [5.35356998e-03],\n       [9.89594162e-01],\n       [3.83306071e-02],\n       [9.99774814e-01],\n       [9.50551271e-01],\n       [2.02520173e-02],\n       [1.07475009e-03],\n       [1.61409297e-03],\n       [4.36160760e-03],\n       [6.22550249e-01],\n       [1.67723931e-02],\n       [3.64667416e-01],\n       [6.11432672e-01],\n       [9.80021834e-01],\n       [2.68015802e-01],\n       [7.74971209e-03],\n       [2.08432926e-03],\n       [4.98835836e-03],\n       [2.38279020e-03],\n       [1.04424811e-03],\n       [7.49359503e-02],\n       [9.77046013e-01],\n       [2.58436799e-01],\n       [9.99699712e-01],\n       [1.18638400e-03],\n       [1.89062327e-01],\n       [1.53559884e-02],\n       [6.05745416e-04],\n       [5.17883920e-04],\n       [9.99488652e-01],\n       [2.72490870e-04],\n       [4.89346823e-03],\n       [2.71891318e-02],\n       [9.99178946e-01],\n       [2.79147323e-04],\n       [1.05879724e-01],\n       [3.05121154e-01],\n       [1.42182747e-03],\n       [4.32502478e-03],\n       [9.99298394e-01],\n       [9.87082779e-01],\n       [1.55887350e-01],\n       [2.96988734e-03],\n       [9.86972917e-03],\n       [4.67749462e-02],\n       [3.83275910e-04],\n       [7.35396985e-04],\n       [1.08225374e-02],\n       [3.85688222e-03],\n       [7.13342845e-01],\n       [9.99578476e-01],\n       [1.49775092e-02],\n       [9.97470677e-01],\n       [9.99257505e-01],\n       [3.10845301e-02],\n       [8.61447398e-03],\n       [6.14320517e-01],\n       [9.98582065e-01],\n       [5.85811101e-02],\n       [2.61718687e-02],\n       [8.32957447e-01],\n       [3.69518902e-03],\n       [1.25023501e-03],\n       [1.92762900e-03],\n       [8.02189469e-01],\n       [9.98160541e-01],\n       [4.85080946e-03],\n       [2.93314625e-02],\n       [5.80387950e-01],\n       [1.73292891e-03],\n       [2.69688177e-03],\n       [1.45779725e-03],\n       [1.11612678e-02],\n       [3.33732039e-01],\n       [9.89699125e-01],\n       [9.99595463e-01],\n       [4.99492809e-02],\n       [9.99611914e-01],\n       [1.68654487e-01],\n       [3.62183303e-02],\n       [3.41273472e-02],\n       [9.99699712e-01],\n       [9.91024554e-01],\n       [9.93313432e-01],\n       [6.69249356e-01],\n       [9.90592420e-01],\n       [9.17018112e-03],\n       [9.96951878e-01],\n       [2.26899586e-03],\n       [7.69156516e-01],\n       [1.97941978e-02],\n       [1.91764738e-02],\n       [2.89257616e-01],\n       [1.64733827e-02],\n       [8.57551396e-02],\n       [2.02187598e-02],\n       [3.11403605e-03],\n       [2.49868497e-01],\n       [5.35959244e-01],\n       [9.44181323e-01],\n       [9.99586403e-01],\n       [1.79113925e-01],\n       [9.97247219e-01],\n       [9.57290679e-02],\n       [1.16632301e-02],\n       [3.06462914e-01],\n       [1.49370991e-02],\n       [6.28092000e-03],\n       [9.99485493e-01],\n       [9.67670009e-02],\n       [9.58241165e-01],\n       [7.71230971e-03],\n       [1.41073521e-02],\n       [8.10341462e-02],\n       [4.06675227e-02],\n       [9.96435881e-01],\n       [6.88520167e-03],\n       [9.98948455e-01],\n       [9.97035384e-01],\n       [9.95406628e-01],\n       [9.99651909e-01],\n       [1.51874812e-03],\n       [7.68439844e-04],\n       [7.87444587e-04],\n       [7.80158024e-03],\n       [7.22896039e-01],\n       [5.30091673e-03],\n       [3.50907594e-02],\n       [9.22883488e-03],\n       [5.59652075e-02],\n       [5.98164229e-03],\n       [8.79364496e-04],\n       [9.99594390e-01],\n       [9.98782098e-01],\n       [2.04873040e-01],\n       [9.51021239e-02],\n       [9.37511086e-01],\n       [4.31370176e-02],\n       [1.75029133e-02],\n       [3.12163770e-01],\n       [9.49891109e-04],\n       [7.41397217e-03],\n       [2.23857805e-01],\n       [9.69751835e-01],\n       [5.56846755e-03],\n       [4.42396570e-03],\n       [5.70138870e-03],\n       [2.82119057e-04],\n       [5.40811121e-01],\n       [2.74786443e-01],\n       [9.98786151e-01],\n       [9.98798013e-01],\n       [6.11560903e-02],\n       [1.32096384e-03],\n       [9.98869658e-01],\n       [6.51813159e-03],\n       [3.63773550e-03],\n       [3.91747802e-03],\n       [1.91467889e-02],\n       [1.82963610e-02],\n       [9.99380171e-01],\n       [9.93315041e-01],\n       [5.84429167e-02],\n       [6.52986392e-03],\n       [7.73496091e-01],\n       [9.96128857e-01],\n       [1.29432790e-03],\n       [4.14309874e-02],\n       [1.32938707e-03],\n       [2.31274497e-03],\n       [9.29287910e-01],\n       [9.05193448e-01],\n       [9.46050584e-01],\n       [5.26783895e-03],\n       [1.82081910e-03],\n       [9.83438313e-01],\n       [9.99027908e-01],\n       [9.92352962e-01],\n       [2.79492289e-01],\n       [1.33118987e-01],\n       [2.76543456e-03],\n       [7.89877027e-02],\n       [9.98009682e-01],\n       [2.08307698e-04],\n       [3.08717135e-03],\n       [5.12926817e-01],\n       [4.99536306e-01],\n       [1.37179764e-03],\n       [9.99073327e-01],\n       [5.45919931e-04],\n       [7.67134887e-04],\n       [8.58031452e-01],\n       [8.76162085e-04],\n       [9.99661088e-01],\n       [3.88007015e-01],\n       [9.97955382e-01],\n       [9.86800075e-01],\n       [9.99773920e-01],\n       [2.12946281e-01],\n       [3.80601455e-03],\n       [2.78254808e-03],\n       [1.47647187e-01],\n       [1.51536111e-02],\n       [4.61640651e-04],\n       [8.78099352e-02],\n       [4.33328561e-03],\n       [6.72911555e-02],\n       [6.05681911e-04],\n       [7.24899699e-04],\n       [1.69406142e-02],\n       [3.86708969e-04],\n       [6.52522519e-02],\n       [3.03018675e-03],\n       [2.98661496e-02],\n       [9.57093760e-02],\n       [9.99737024e-01],\n       [5.65974951e-01],\n       [2.89847225e-01],\n       [6.74879014e-01],\n       [2.46639852e-03],\n       [9.98782098e-01],\n       [8.27722065e-03],\n       [2.89257616e-01],\n       [9.98213232e-01],\n       [9.95185196e-01],\n       [9.98392642e-01],\n       [9.99485493e-01],\n       [1.88840814e-02],\n       [2.19524447e-02],\n       [9.70677197e-01],\n       [4.47152741e-03],\n       [9.99602020e-01],\n       [4.77224588e-03],\n       [1.51906640e-03],\n       [6.62162229e-02],\n       [1.11475028e-03],\n       [1.43357798e-01],\n       [9.99483705e-01],\n       [2.54754089e-02],\n       [6.59846544e-01],\n       [8.17624688e-01],\n       [9.98917818e-01],\n       [9.98619854e-01],\n       [2.26679742e-02],\n       [1.78513129e-03],\n       [3.96890007e-02],\n       [3.38546634e-02],\n       [9.99491096e-01],\n       [9.99159634e-01],\n       [4.72702943e-02],\n       [3.83275910e-04],\n       [3.21688503e-03],\n       [9.94013965e-01],\n       [1.17380228e-02],\n       [7.56595051e-03],\n       [9.94061232e-01],\n       [1.55900255e-01],\n       [4.98002581e-02],\n       [6.69699967e-01],\n       [8.00694287e-01],\n       [7.01827637e-04],\n       [5.18605530e-01],\n       [9.99211907e-01],\n       [2.10380018e-01],\n       [4.64987883e-04],\n       [7.69885606e-04],\n       [4.80332039e-03],\n       [2.89434567e-03],\n       [5.81538165e-03],\n       [4.17652309e-01],\n       [2.12505460e-02],\n       [1.12057075e-01],\n       [6.32755784e-03],\n       [1.64523814e-02],\n       [3.93289104e-02],\n       [1.49577400e-02],\n       [2.74838328e-01],\n       [9.59927142e-01],\n       [7.76102692e-02],\n       [5.00299456e-03],\n       [9.99686897e-01],\n       [7.33246235e-03],\n       [3.30284797e-02],\n       [1.68827996e-01],\n       [9.95787621e-01],\n       [9.99160647e-01],\n       [9.37382982e-04],\n       [9.32502188e-03],\n       [8.46110702e-01],\n       [2.47826613e-02],\n       [3.39281633e-02]], dtype=float32)"
     },
     "execution_count": 32,
     "metadata": {},
     "output_type": "execute_result"
    }
   ],
   "source": [
    "# Fit the model\n",
    "model_4_history = model_4.fit(train_sentences,\n",
    "                              train_labels,\n",
    "                              epochs = 5,\n",
    "                              validation_data = (val_sentences, val_labels))"
   ],
   "metadata": {
    "collapsed": false,
    "ExecuteTime": {
     "end_time": "2023-07-30T14:51:19.337952700Z",
     "start_time": "2023-07-30T14:51:18.396261500Z"
    }
   },
   "id": "204cbf86de80e548"
  },
  {
   "cell_type": "code",
   "execution_count": 33,
   "outputs": [
    {
     "ename": "NameError",
     "evalue": "name 'model_4_pred_probs' is not defined",
     "output_type": "error",
     "traceback": [
      "\u001B[1;31m---------------------------------------------------------------------------\u001B[0m",
      "\u001B[1;31mNameError\u001B[0m                                 Traceback (most recent call last)",
      "Cell \u001B[1;32mIn[33], line 1\u001B[0m\n\u001B[1;32m----> 1\u001B[0m \u001B[43mmodel_4_pred_probs\u001B[49m\u001B[38;5;241m.\u001B[39mshape\n",
      "\u001B[1;31mNameError\u001B[0m: name 'model_4_pred_probs' is not defined"
     ]
    }
   ],
   "source": [
    "# Make predictions with our bidirectional model\n",
    "model_4_preds_probs = model_4.predict(val_sentences)\n",
    "model_4_preds_probs"
   ],
   "metadata": {
    "collapsed": false,
    "ExecuteTime": {
     "end_time": "2023-07-30T14:51:19.912477100Z",
     "start_time": "2023-07-30T14:51:19.331951500Z"
    }
   },
   "id": "6aa14368f4aafc2c"
  },
  {
   "cell_type": "code",
   "execution_count": null,
   "outputs": [],
   "source": [
    "model_4_pred_probs.shape"
   ],
   "metadata": {
    "collapsed": false,
    "ExecuteTime": {
     "end_time": "2023-07-30T14:51:19.913477100Z",
     "start_time": "2023-07-30T14:51:19.913477100Z"
    }
   },
   "id": "be7fd41945f488ac"
  },
  {
   "cell_type": "code",
   "execution_count": null,
   "outputs": [],
   "source": [
    "tf.squeeze(model_4_pred_probs)"
   ],
   "metadata": {
    "collapsed": false,
    "ExecuteTime": {
     "start_time": "2023-07-30T14:51:19.914477Z"
    }
   },
   "id": "e0465910a8c1a4c5"
  },
  {
   "cell_type": "code",
   "execution_count": null,
   "outputs": [],
   "source": [
    "model_4_preds = tf.squeeze(tf.round(model_4_pred_probs))\n",
    "model_4_preds"
   ],
   "metadata": {
    "collapsed": false,
    "ExecuteTime": {
     "start_time": "2023-07-30T14:51:19.916476900Z"
    }
   },
   "id": "15190330d6f2c8"
  },
  {
   "cell_type": "code",
   "execution_count": null,
   "outputs": [],
   "source": [
    "val_labels.shape"
   ],
   "metadata": {
    "collapsed": false,
    "ExecuteTime": {
     "start_time": "2023-07-30T14:51:19.918477200Z"
    }
   },
   "id": "84ee3a03bf399c3a"
  },
  {
   "cell_type": "code",
   "execution_count": null,
   "outputs": [],
   "source": [
    "# Evaluate the model by comparing the model_4_preds to val_labels\n",
    "from sklearn.metrics import accuracy_score, precision_recall_fscore_support\n",
    "\n",
    "model_4_accuracy_score = accuracy_score(val_labels, model_4_preds)\n",
    "model_4_precision, model_4_recall, model_4_fscore, _ =precision_recall_fscore_support(val_labels,\n",
    "                                                                                      model_4_preds, average=\"weighted\")"
   ],
   "metadata": {
    "collapsed": false,
    "ExecuteTime": {
     "start_time": "2023-07-30T14:51:19.920476900Z"
    }
   },
   "id": "8b7dcf10a976cd40"
  },
  {
   "cell_type": "code",
   "execution_count": null,
   "outputs": [],
   "source": [
    "dict_result = {\"model_4_accuracy_score\": model_4_accuracy_score,\n",
    "               \"model_4_precision\": model_4_precision,\n",
    "               \"model_4_recall\": {model_4_recall},\n",
    "               \"model_4_f1score\": {model_4_fscore}}\n",
    "dict_result"
   ],
   "metadata": {
    "collapsed": false
   },
   "id": "bfd51a63ce5a2dc1"
  }
 ],
 "metadata": {
  "kernelspec": {
   "display_name": "Python 3",
   "language": "python",
   "name": "python3"
  },
  "language_info": {
   "codemirror_mode": {
    "name": "ipython",
    "version": 2
   },
   "file_extension": ".py",
   "mimetype": "text/x-python",
   "name": "python",
   "nbconvert_exporter": "python",
   "pygments_lexer": "ipython2",
   "version": "2.7.6"
  }
 },
 "nbformat": 4,
 "nbformat_minor": 5
}
