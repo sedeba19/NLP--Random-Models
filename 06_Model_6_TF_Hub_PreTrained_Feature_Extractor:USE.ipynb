{
 "cells": [
  {
   "cell_type": "code",
   "execution_count": 1,
   "outputs": [
    {
     "data": {
      "text/plain": "'2.13.0'"
     },
     "execution_count": 1,
     "metadata": {},
     "output_type": "execute_result"
    }
   ],
   "source": [
    "import collections\n",
    "import os\n",
    "import tensorflow as tf\n",
    "import pandas as pd\n",
    "\n",
    "tf.__version__\n"
   ],
   "metadata": {
    "collapsed": false,
    "ExecuteTime": {
     "end_time": "2023-07-30T14:52:14.326705200Z",
     "start_time": "2023-07-30T14:52:12.845921Z"
    }
   },
   "id": "d895e3f341f9cd2c"
  },
  {
   "cell_type": "code",
   "execution_count": 2,
   "outputs": [],
   "source": [
    "main_dir = r\"F:\\linux_ubuntu_codes\\codes\\nlp_lecture\""
   ],
   "metadata": {
    "collapsed": false,
    "ExecuteTime": {
     "end_time": "2023-07-30T14:52:14.332206200Z",
     "start_time": "2023-07-30T14:52:14.328129600Z"
    }
   },
   "id": "258babd61b92d2d5"
  },
  {
   "cell_type": "code",
   "execution_count": 3,
   "outputs": [
    {
     "data": {
      "text/plain": "'https://raw.githubusercontent.com/sedeba19/NLP--Random-Models/main/train.csv'"
     },
     "execution_count": 3,
     "metadata": {},
     "output_type": "execute_result"
    }
   ],
   "source": [
    "train_dir = os.path.join(main_dir + r\"\\train.csv\")\n",
    "test_dir = os.path.join(main_dir + r\"\\test.csv\")"
   ],
   "metadata": {
    "collapsed": false,
    "ExecuteTime": {
     "end_time": "2023-07-30T14:52:14.334210800Z",
     "start_time": "2023-07-30T14:52:14.329639100Z"
    }
   },
   "id": "f9e05dc9db4f2150"
  },
  {
   "cell_type": "code",
   "execution_count": 4,
   "outputs": [
    {
     "data": {
      "text/plain": "   id keyword location                                               text  \\\n0   1     NaN      NaN  Our Deeds are the Reason of this #earthquake M...   \n1   4     NaN      NaN             Forest fire near La Ronge Sask. Canada   \n2   5     NaN      NaN  All residents asked to 'shelter in place' are ...   \n3   6     NaN      NaN  13,000 people receive #wildfires evacuation or...   \n4   7     NaN      NaN  Just got sent this photo from Ruby #Alaska as ...   \n\n   target  \n0       1  \n1       1  \n2       1  \n3       1  \n4       1  ",
      "text/html": "<div>\n<style scoped>\n    .dataframe tbody tr th:only-of-type {\n        vertical-align: middle;\n    }\n\n    .dataframe tbody tr th {\n        vertical-align: top;\n    }\n\n    .dataframe thead th {\n        text-align: right;\n    }\n</style>\n<table border=\"1\" class=\"dataframe\">\n  <thead>\n    <tr style=\"text-align: right;\">\n      <th></th>\n      <th>id</th>\n      <th>keyword</th>\n      <th>location</th>\n      <th>text</th>\n      <th>target</th>\n    </tr>\n  </thead>\n  <tbody>\n    <tr>\n      <th>0</th>\n      <td>1</td>\n      <td>NaN</td>\n      <td>NaN</td>\n      <td>Our Deeds are the Reason of this #earthquake M...</td>\n      <td>1</td>\n    </tr>\n    <tr>\n      <th>1</th>\n      <td>4</td>\n      <td>NaN</td>\n      <td>NaN</td>\n      <td>Forest fire near La Ronge Sask. Canada</td>\n      <td>1</td>\n    </tr>\n    <tr>\n      <th>2</th>\n      <td>5</td>\n      <td>NaN</td>\n      <td>NaN</td>\n      <td>All residents asked to 'shelter in place' are ...</td>\n      <td>1</td>\n    </tr>\n    <tr>\n      <th>3</th>\n      <td>6</td>\n      <td>NaN</td>\n      <td>NaN</td>\n      <td>13,000 people receive #wildfires evacuation or...</td>\n      <td>1</td>\n    </tr>\n    <tr>\n      <th>4</th>\n      <td>7</td>\n      <td>NaN</td>\n      <td>NaN</td>\n      <td>Just got sent this photo from Ruby #Alaska as ...</td>\n      <td>1</td>\n    </tr>\n  </tbody>\n</table>\n</div>"
     },
     "execution_count": 4,
     "metadata": {},
     "output_type": "execute_result"
    }
   ],
   "source": [
    "train_dir"
   ],
   "metadata": {
    "collapsed": false,
    "ExecuteTime": {
     "end_time": "2023-07-30T14:52:14.447395900Z",
     "start_time": "2023-07-30T14:52:14.335210600Z"
    }
   },
   "id": "e237aa9b92bb079a"
  },
  {
   "cell_type": "code",
   "execution_count": 5,
   "outputs": [
    {
     "data": {
      "text/plain": "         id               keyword                  location  \\\n3228   4632  emergency%20services   Sydney, New South Wales   \n3706   5271                  fear                       NaN   \n6957   9982               tsunami         Land Of The Kings   \n2887   4149                 drown                       NaN   \n7464  10680                wounds  cody, austin follows ?*?   \n\n                                                   text  target  \n3228  Goulburn man Henry Van Bilsen missing: Emergen...       1  \n3706  The things we fear most in organizations--fluc...       0  \n6957                            @tsunami_esh ?? hey Esh       0  \n2887  @POTUS you until you drown by water entering t...       0  \n7464  Crawling in my skin\\nThese wounds they will no...       1  ",
      "text/html": "<div>\n<style scoped>\n    .dataframe tbody tr th:only-of-type {\n        vertical-align: middle;\n    }\n\n    .dataframe tbody tr th {\n        vertical-align: top;\n    }\n\n    .dataframe thead th {\n        text-align: right;\n    }\n</style>\n<table border=\"1\" class=\"dataframe\">\n  <thead>\n    <tr style=\"text-align: right;\">\n      <th></th>\n      <th>id</th>\n      <th>keyword</th>\n      <th>location</th>\n      <th>text</th>\n      <th>target</th>\n    </tr>\n  </thead>\n  <tbody>\n    <tr>\n      <th>3228</th>\n      <td>4632</td>\n      <td>emergency%20services</td>\n      <td>Sydney, New South Wales</td>\n      <td>Goulburn man Henry Van Bilsen missing: Emergen...</td>\n      <td>1</td>\n    </tr>\n    <tr>\n      <th>3706</th>\n      <td>5271</td>\n      <td>fear</td>\n      <td>NaN</td>\n      <td>The things we fear most in organizations--fluc...</td>\n      <td>0</td>\n    </tr>\n    <tr>\n      <th>6957</th>\n      <td>9982</td>\n      <td>tsunami</td>\n      <td>Land Of The Kings</td>\n      <td>@tsunami_esh ?? hey Esh</td>\n      <td>0</td>\n    </tr>\n    <tr>\n      <th>2887</th>\n      <td>4149</td>\n      <td>drown</td>\n      <td>NaN</td>\n      <td>@POTUS you until you drown by water entering t...</td>\n      <td>0</td>\n    </tr>\n    <tr>\n      <th>7464</th>\n      <td>10680</td>\n      <td>wounds</td>\n      <td>cody, austin follows ?*?</td>\n      <td>Crawling in my skin\\nThese wounds they will no...</td>\n      <td>1</td>\n    </tr>\n  </tbody>\n</table>\n</div>"
     },
     "execution_count": 5,
     "metadata": {},
     "output_type": "execute_result"
    }
   ],
   "source": [
    "# Make a train_df\n",
    "train_df = pd.read_csv(train_dir)\n",
    "test_df = pd.read_csv(test_dir)\n",
    "train_df.head()"
   ],
   "metadata": {
    "collapsed": false,
    "ExecuteTime": {
     "end_time": "2023-07-30T14:52:14.454348700Z",
     "start_time": "2023-07-30T14:52:14.448395900Z"
    }
   },
   "id": "c858f9a76b34b934"
  },
  {
   "cell_type": "code",
   "execution_count": 6,
   "outputs": [
    {
     "data": {
      "text/plain": "(7613, 5)"
     },
     "execution_count": 6,
     "metadata": {},
     "output_type": "execute_result"
    }
   ],
   "source": [
    "# Shuffle training dataframe\n",
    "train_df_shuffled = train_df.sample(frac = 1, random_state = 1)\n",
    "train_df_shuffled.head()"
   ],
   "metadata": {
    "collapsed": false,
    "ExecuteTime": {
     "end_time": "2023-07-30T14:52:14.461527600Z",
     "start_time": "2023-07-30T14:52:14.455348100Z"
    }
   },
   "id": "ffa95adda1afec99"
  },
  {
   "cell_type": "code",
   "execution_count": 7,
   "outputs": [
    {
     "data": {
      "text/plain": "target\n0    4342\n1    3271\nName: count, dtype: int64"
     },
     "execution_count": 7,
     "metadata": {},
     "output_type": "execute_result"
    }
   ],
   "source": [
    "train_df_shuffled.shape"
   ],
   "metadata": {
    "collapsed": false,
    "ExecuteTime": {
     "end_time": "2023-07-30T14:52:14.463825600Z",
     "start_time": "2023-07-30T14:52:14.459528100Z"
    }
   },
   "id": "66e71f2c2322a35c"
  },
  {
   "cell_type": "code",
   "execution_count": 8,
   "outputs": [
    {
     "data": {
      "text/plain": "(7613, 3263)"
     },
     "execution_count": 8,
     "metadata": {},
     "output_type": "execute_result"
    }
   ],
   "source": [
    "# How many examples of each class?\n",
    "train_df['target'].value_counts()"
   ],
   "metadata": {
    "collapsed": false,
    "ExecuteTime": {
     "end_time": "2023-07-30T14:52:14.470992200Z",
     "start_time": "2023-07-30T14:52:14.464825700Z"
    }
   },
   "id": "e8f13f3fbc904937"
  },
  {
   "cell_type": "code",
   "execution_count": 9,
   "outputs": [
    {
     "name": "stdout",
     "output_type": "stream",
     "text": [
      "Target:1 (real disaster)\n",
      "Text: \n",
      "Beat:B2 MOTOR VEHICLE COLLISION at N 35 ST / FREMONT AV N reported on 8/5/2015 6:52 PM Call# 15000270364\n",
      "-----\n",
      "\n",
      "Target:1 (real disaster)\n",
      "Text: \n",
      "Tarp is protecting outfield and cannot be moved. Infield getting deluged.\n",
      "-----\n",
      "\n",
      "Target:0 (not a real disaster)\n",
      "Text: \n",
      "A blizzard would be clutch asf ??\n",
      "-----\n",
      "\n",
      "Target:0 (not a real disaster)\n",
      "Text: \n",
      "When you're 5 hours late for curfew and have to pray your dog doesn't bark when unlocking the door\n",
      "-----\n",
      "\n",
      "Target:0 (not a real disaster)\n",
      "Text: \n",
      "@smoak_queen 'I'm going to be in so much trouble.'\n",
      "-----\n"
     ]
    }
   ],
   "source": [
    "# How many total samples?\n",
    "len(train_df), len(test_df)"
   ],
   "metadata": {
    "collapsed": false,
    "ExecuteTime": {
     "end_time": "2023-07-30T14:52:14.490630500Z",
     "start_time": "2023-07-30T14:52:14.467991900Z"
    }
   },
   "id": "6a3f06f716aed950"
  },
  {
   "cell_type": "code",
   "execution_count": null,
   "outputs": [],
   "source": [
    "# Visualize some random training examples\n",
    "import random\n",
    "random_index = random.randint(0, len(train_df)-5)\n",
    "for row in train_df_shuffled[[\"text\", \"target\"]][random_index: random_index +5].itertuples():\n",
    "    _, text, target = row\n",
    "    if target > 0:\n",
    "        print(f\"Target:{target}\", \"(real disaster)\")\n",
    "    else:\n",
    "        print(f\"Target:{target}\", \"(not a real disaster)\")\n",
    "    \n",
    "    print(f\"Text: \\n{text}\")\n",
    "    print(\"-----\\n\")"
   ],
   "metadata": {
    "collapsed": false
   },
   "id": "99ad01fd617f2fad"
  },
  {
   "cell_type": "markdown",
   "source": [
    "### Split data into training and validation sets"
   ],
   "metadata": {
    "collapsed": false,
    "ExecuteTime": {
     "end_time": "2023-07-30T14:52:14.736643400Z",
     "start_time": "2023-07-30T14:52:14.473630400Z"
    }
   },
   "id": "cc004f467eb6820b"
  },
  {
   "cell_type": "code",
   "execution_count": 11,
   "outputs": [
    {
     "data": {
      "text/plain": "(7613,)"
     },
     "execution_count": 11,
     "metadata": {},
     "output_type": "execute_result"
    }
   ],
   "source": [
    "from sklearn.model_selection import train_test_split\n",
    "\n",
    "train_sentences, val_sentences, train_labels, val_labels = train_test_split(train_df['text'],\n",
    "                                                                            train_df['target'],\n",
    "                                                                            test_size = 0.1,\n",
    "                                                                            random_state = 42)"
   ],
   "metadata": {
    "collapsed": false,
    "ExecuteTime": {
     "end_time": "2023-07-30T14:52:14.743086100Z",
     "start_time": "2023-07-30T14:52:14.737643400Z"
    }
   },
   "id": "e9962e431d6f4625"
  },
  {
   "cell_type": "code",
   "execution_count": 12,
   "outputs": [
    {
     "data": {
      "text/plain": "0       Our Deeds are the Reason of this #earthquake M...\n1                  Forest fire near La Ronge Sask. Canada\n2       All residents asked to 'shelter in place' are ...\n3       13,000 people receive #wildfires evacuation or...\n4       Just got sent this photo from Ruby #Alaska as ...\n                              ...                        \n7608    Two giant cranes holding a bridge collapse int...\n7609    @aria_ahrary @TheTawniest The out of control w...\n7610    M1.94 [01:04 UTC]?5km S of Volcano Hawaii. htt...\n7611    Police investigating after an e-bike collided ...\n7612    The Latest: More Homes Razed by Northern Calif...\nName: text, Length: 7613, dtype: object"
     },
     "execution_count": 12,
     "metadata": {},
     "output_type": "execute_result"
    }
   ],
   "source": [
    "train_df['text'].shape"
   ],
   "metadata": {
    "collapsed": false,
    "ExecuteTime": {
     "end_time": "2023-07-30T14:52:14.750424500Z",
     "start_time": "2023-07-30T14:52:14.742081800Z"
    }
   },
   "id": "2044aeeaed5209d8"
  },
  {
   "cell_type": "code",
   "execution_count": 13,
   "outputs": [
    {
     "data": {
      "text/plain": "array(['Our Deeds are the Reason of this #earthquake May ALLAH Forgive us all',\n       'Forest fire near La Ronge Sask. Canada',\n       \"All residents asked to 'shelter in place' are being notified by officers. No other evacuation or shelter in place orders are expected\",\n       ...,\n       'M1.94 [01:04 UTC]?5km S of Volcano Hawaii. http://t.co/zDtoyd8EbJ',\n       'Police investigating after an e-bike collided with a car in Little Portugal. E-bike rider suffered serious non-life threatening injuries.',\n       'The Latest: More Homes Razed by Northern California Wildfire - ABC News http://t.co/YmY4rSkQ3d'],\n      dtype=object)"
     },
     "execution_count": 13,
     "metadata": {},
     "output_type": "execute_result"
    }
   ],
   "source": [
    "train_df[\"text\"]"
   ],
   "metadata": {
    "collapsed": false,
    "ExecuteTime": {
     "end_time": "2023-07-30T14:52:14.752428500Z",
     "start_time": "2023-07-30T14:52:14.747733600Z"
    }
   },
   "id": "aecfc9a6831f9cee"
  },
  {
   "cell_type": "code",
   "execution_count": 14,
   "outputs": [
    {
     "data": {
      "text/plain": "array(['Our Deeds are the Reason of this #earthquake May ALLAH Forgive us all',\n       'Forest fire near La Ronge Sask. Canada',\n       \"All residents asked to 'shelter in place' are being notified by officers. No other evacuation or shelter in place orders are expected\",\n       ...,\n       'M1.94 [01:04 UTC]?5km S of Volcano Hawaii. http://t.co/zDtoyd8EbJ',\n       'Police investigating after an e-bike collided with a car in Little Portugal. E-bike rider suffered serious non-life threatening injuries.',\n       'The Latest: More Homes Razed by Northern California Wildfire - ABC News http://t.co/YmY4rSkQ3d'],\n      dtype=object)"
     },
     "execution_count": 14,
     "metadata": {},
     "output_type": "execute_result"
    }
   ],
   "source": [
    "train_df['text'].to_numpy()"
   ],
   "metadata": {
    "collapsed": false,
    "ExecuteTime": {
     "end_time": "2023-07-30T14:52:14.759048800Z",
     "start_time": "2023-07-30T14:52:14.753428900Z"
    }
   },
   "id": "4cdc72f6e817f834"
  },
  {
   "cell_type": "code",
   "execution_count": 15,
   "outputs": [
    {
     "data": {
      "text/plain": "(6851, 762, 6851, 762)"
     },
     "execution_count": 15,
     "metadata": {},
     "output_type": "execute_result"
    }
   ],
   "source": [
    "train_df['text'].to_numpy()"
   ],
   "metadata": {
    "collapsed": false,
    "ExecuteTime": {
     "end_time": "2023-07-30T14:52:14.761053200Z",
     "start_time": "2023-07-30T14:52:14.757647400Z"
    }
   },
   "id": "ec43b6635db1dc03"
  },
  {
   "cell_type": "code",
   "execution_count": null,
   "outputs": [],
   "source": [
    "len(train_sentences), len(val_sentences), len(train_labels), len(val_labels)"
   ],
   "metadata": {
    "collapsed": false
   },
   "id": "c4b936bb4e61352a"
  },
  {
   "cell_type": "markdown",
   "source": [
    "### Converting text into numbers: Text Vectorization also known as Tokenization"
   ],
   "metadata": {
    "collapsed": false,
    "ExecuteTime": {
     "end_time": "2023-07-30T14:52:14.767215800Z",
     "start_time": "2023-07-30T14:52:14.765053200Z"
    }
   },
   "id": "5777dedf87f2662b"
  },
  {
   "cell_type": "code",
   "execution_count": 17,
   "outputs": [
    {
     "data": {
      "text/plain": "(6851,)"
     },
     "execution_count": 17,
     "metadata": {},
     "output_type": "execute_result"
    }
   ],
   "source": [
    "# Get the total words\n",
    "total_words = 0\n",
    "for i in train_sentences:\n",
    "    total_words += len(i.split())\n",
    "\n",
    "total_words"
   ],
   "metadata": {
    "collapsed": false,
    "ExecuteTime": {
     "end_time": "2023-07-30T14:52:14.808030700Z",
     "start_time": "2023-07-30T14:52:14.768216100Z"
    }
   },
   "id": "618457c173977155"
  },
  {
   "cell_type": "code",
   "execution_count": 18,
   "outputs": [
    {
     "data": {
      "text/plain": "15"
     },
     "execution_count": 18,
     "metadata": {},
     "output_type": "execute_result"
    }
   ],
   "source": [
    "train_sentences.shape"
   ],
   "metadata": {
    "collapsed": false,
    "ExecuteTime": {
     "end_time": "2023-07-30T14:52:14.808030700Z",
     "start_time": "2023-07-30T14:52:14.771395500Z"
    }
   },
   "id": "829d84b65c26bb92"
  },
  {
   "cell_type": "code",
   "execution_count": 19,
   "outputs": [],
   "source": [
    "# Get the average words per sentence or line\n",
    "avg_words_per_sentence = round(total_words/len(train_sentences))\n",
    "avg_words_per_sentence"
   ],
   "metadata": {
    "collapsed": false,
    "ExecuteTime": {
     "end_time": "2023-07-30T14:52:14.808030700Z",
     "start_time": "2023-07-30T14:52:14.774515400Z"
    }
   },
   "id": "a7a8bed44aec85d5"
  },
  {
   "cell_type": "code",
   "execution_count": 20,
   "outputs": [],
   "source": [
    "# Normally, total number of words is equal or less than the max vocabulary length\n",
    "max_vocab_length = 10000\n",
    "\n",
    "# max length of a statement is equal or more than the average word per sentence or line\n",
    "max_length = 15"
   ],
   "metadata": {
    "collapsed": false,
    "ExecuteTime": {
     "end_time": "2023-07-30T14:52:15.021065300Z",
     "start_time": "2023-07-30T14:52:14.777023900Z"
    }
   },
   "id": "92ebee1bf68d8486"
  },
  {
   "cell_type": "code",
   "execution_count": 21,
   "outputs": [
    {
     "name": "stdout",
     "output_type": "stream",
     "text": [
      "There's a flood in my street! Sentence length is 29.\n"
     ]
    },
    {
     "data": {
      "text/plain": "<tf.Tensor: shape=(1, 15), dtype=int64, numpy=\narray([[282,   3, 206,   4,  13, 674,   0,   0,   0,   0,   0,   0,   0,\n          0,   0]], dtype=int64)>"
     },
     "execution_count": 21,
     "metadata": {},
     "output_type": "execute_result"
    }
   ],
   "source": [
    "import tensorflow as tf\n",
    "from tensorflow.keras.layers.experimental.preprocessing import TextVectorization\n",
    "\n",
    "text_vectorizer = TextVectorization(max_tokens = max_vocab_length,\n",
    "                                    output_mode = \"int\",\n",
    "                                    output_sequence_length = max_length)\n",
    "\n",
    "# Fit the text vectorizer to the training set\n",
    "text_vectorizer.adapt(train_sentences)"
   ],
   "metadata": {
    "collapsed": false,
    "ExecuteTime": {
     "end_time": "2023-07-30T14:52:15.041973400Z",
     "start_time": "2023-07-30T14:52:15.022065500Z"
    }
   },
   "id": "8805b068faa29b89"
  },
  {
   "cell_type": "code",
   "execution_count": 22,
   "outputs": [
    {
     "name": "stdout",
     "output_type": "stream",
     "text": [
      "Original text: \n",
      "\n",
      " like why on earth would you want anybody to be unhappy don't purposely ruin somebody else's happiness \n",
      "\n",
      "Vectorized text:\n"
     ]
    },
    {
     "data": {
      "text/plain": "<tf.Tensor: shape=(1, 15), dtype=int64, numpy=\narray([[  25,   92,   11, 1081,   80,   12,  145, 3171,    5,   22, 7150,\n          64, 9454,  355, 1606]], dtype=int64)>"
     },
     "execution_count": 22,
     "metadata": {},
     "output_type": "execute_result"
    }
   ],
   "source": [
    "# Create a sample sentence and tokenize it\n",
    "samp_sentence = \"There's a flood in my street!\"\n",
    "print(samp_sentence, f\"Sentence length is {len(samp_sentence)}.\")\n",
    "text_vectorizer([samp_sentence])\n",
    "#len(tf.squeeze(text_vectorizer([samp_sentence])))"
   ],
   "metadata": {
    "collapsed": false,
    "ExecuteTime": {
     "end_time": "2023-07-30T14:52:15.049944100Z",
     "start_time": "2023-07-30T14:52:15.042973600Z"
    }
   },
   "id": "111d45283fbfd4ae"
  },
  {
   "cell_type": "code",
   "execution_count": 23,
   "outputs": [
    {
     "data": {
      "text/plain": "['',\n '[UNK]',\n 'the',\n 'a',\n 'in',\n 'to',\n 'of',\n 'and',\n 'i',\n 'is',\n 'for',\n 'on',\n 'you',\n 'my',\n 'with',\n 'it',\n 'that',\n 'at',\n 'by',\n 'this',\n 'from',\n 'are',\n 'be',\n 'was',\n 'have',\n 'like',\n 'as',\n 'me',\n 'but',\n 'up',\n 'just',\n 'so',\n 'im',\n 'not',\n 'amp',\n 'your',\n 'out',\n 'all',\n 'after',\n 'its',\n 'has',\n 'no',\n 'will',\n 'an',\n 'fire',\n 'when',\n 'if',\n 'we',\n 'get',\n 'now',\n 'more',\n 'via',\n 'new',\n 'about',\n 'what',\n 'people',\n 'or',\n 'news',\n 'he',\n 'they',\n 'over',\n 'one',\n 'been',\n 'how',\n 'dont',\n 'who',\n 'video',\n 'into',\n 'were',\n 'do',\n 'us',\n 'can',\n 'emergency',\n '2',\n 'disaster',\n 'there',\n 'her',\n 'some',\n 'than',\n 'still',\n 'would',\n 'his',\n 'police',\n 'crash',\n 'burning',\n 'suicide',\n 'body',\n 'california',\n 'back',\n 'time',\n 'buildings',\n 'had',\n 'why',\n 'off',\n 'them',\n 'got',\n 'man',\n 'see',\n 'storm',\n 'know',\n 'going',\n 'cant',\n 'world',\n 'first',\n 'day',\n 'rt',\n 'nuclear',\n 'love',\n 'youtube',\n 'our',\n 'attack',\n 'go',\n 'fires',\n 'two',\n 'their',\n 'bomb',\n 'killed',\n '3',\n 'train',\n 'dead',\n 'car',\n 'war',\n 'life',\n 'may',\n 'watch',\n 'full',\n 'only',\n 'here',\n 'hiroshima',\n 'down',\n 'today',\n 'u',\n 'accident',\n 'think',\n 'many',\n 'good',\n 'way',\n 'families',\n 'too',\n 'then',\n 'say',\n 'being',\n 'last',\n 'could',\n 'years',\n 'want',\n 'did',\n 'home',\n 'best',\n 'should',\n 'need',\n 'mass',\n 'even',\n 'work',\n 'make',\n 'help',\n 'bombing',\n 'wildfire',\n 'please',\n 'look',\n 'lol',\n 'because',\n 'another',\n 'take',\n 'him',\n 'collapse',\n 'year',\n 'water',\n 'those',\n 'really',\n 'army',\n 'am',\n 'school',\n 'mh370',\n 'death',\n 'right',\n 'pm',\n 'black',\n 'much',\n 'forest',\n 'fatal',\n '5',\n 'youre',\n 'she',\n 'northern',\n '4',\n 'live',\n 'city',\n 'bomber',\n 'wreck',\n 'hot',\n 'great',\n 'every',\n '2015',\n 'old',\n 'let',\n 'legionnaires',\n 'fear',\n 'obama',\n 'latest',\n 'homes',\n 'flames',\n 'come',\n '1',\n 'never',\n 'getting',\n 'flood',\n '\\x89Û',\n 'where',\n 'said',\n 'japan',\n 'shit',\n 'floods',\n 'during',\n 'atomic',\n 'god',\n 'damage',\n 'under',\n 'near',\n 'feel',\n 'ever',\n 'earthquake',\n 'ass',\n 'which',\n 'since',\n 'read',\n 'oil',\n 'night',\n 'most',\n 'military',\n 'injured',\n 'hope',\n 'everyone',\n 'coming',\n 'any',\n 'without',\n 'while',\n 'well',\n 'thats',\n 'stop',\n 'next',\n 'hit',\n 'weather',\n 'these',\n 'state',\n 'little',\n 'flooding',\n 'evacuation',\n 'before',\n 'truck',\n 'severe',\n 's',\n 'content',\n 'always',\n 'until',\n 'top',\n 'through',\n 'smoke',\n 'plan',\n 'found',\n 'confirmed',\n 'cause',\n 'movie',\n 'fucking',\n 'face',\n 'debris',\n 'bloody',\n 'bad',\n 'weapon',\n 'warning',\n 'times',\n 'thunderstorm',\n 'set',\n 'says',\n 'natural',\n 'malaysia',\n 'liked',\n 'ive',\n 'gonna',\n 'free',\n 'fall',\n 'thunder',\n 'theres',\n 'sinking',\n 'saudi',\n 'refugees',\n 'made',\n 'loud',\n 'looks',\n 'injuries',\n 'house',\n 'hes',\n 'heat',\n 'cross',\n 'also',\n 'air',\n 'w',\n 'screaming',\n 'rain',\n 'murder',\n 'head',\n 'failure',\n 'explode',\n 'check',\n 'wreckage',\n 'wind',\n 'wild',\n 'trapped',\n 'survive',\n 'spill',\n 'reddit',\n 'panic',\n 'missing',\n 'lightning',\n 'family',\n 'change',\n 'whole',\n 'weapons',\n 'terrorist',\n 'service',\n 'run',\n 'rescuers',\n 'report',\n 'released',\n 'photo',\n 'outbreak',\n 'ill',\n 'food',\n 'evacuate',\n 'end',\n 'destroyed',\n 'deaths',\n 'boy',\n 'again',\n '70',\n 'terrorism',\n 'sinkhole',\n 'services',\n 'save',\n 'road',\n 'rescue',\n 'migrants',\n 'keep',\n 'high',\n 'harm',\n 'danger',\n 'county',\n 'collided',\n 'blood',\n 'big',\n 'bags',\n 'twister',\n 'trauma',\n 'tonight',\n 'summer',\n 'ruin',\n 'mosque',\n 'lives',\n 'least',\n 'hail',\n 'girl',\n 'fuck',\n 'fatalities',\n 'does',\n 'derailment',\n 'curfew',\n 'collapsed',\n 'charged',\n 'call',\n 'burned',\n 'breaking',\n 'boat',\n 'bag',\n 'attacked',\n 'ambulance',\n 'wrecked',\n 'wounded',\n 'white',\n 'week',\n 'update',\n 'things',\n 'structural',\n 'stock',\n 'someone',\n 'show',\n 'rioting',\n 'real',\n 'phone',\n 'mudslide',\n 'landslide',\n 'investigators',\n 'explosion',\n 'engulfed',\n 'displaced',\n 'devastation',\n 'destroy',\n 'deluge',\n 'crashed',\n 'catastrophe',\n 'bus',\n 'battle',\n 'away',\n 'area',\n 'apocalypse',\n 'whirlwind',\n 'survivors',\n 'survived',\n 'sunk',\n 'saw',\n 'sandstorm',\n 'post',\n 'other',\n 'massacre',\n 'island',\n 'injury',\n 'id',\n 'hundreds',\n 'hostages',\n 'horrible',\n 'hazardous',\n 'hazard',\n 'game',\n 'exploded',\n 'drought',\n 'bridge',\n 'bang',\n '40',\n 'windstorm',\n 'went',\n 'wave',\n 'soon',\n 'rescued',\n 'quarantined',\n 'national',\n 'market',\n 'kills',\n 'hurricane',\n 'heard',\n 'drowning',\n 'drown',\n 'detonate',\n 'destruction',\n 'derail',\n 'cliff',\n 'bombed',\n 'blown',\n 'around',\n 'airplane',\n '6',\n '\\x89ÛÒ',\n 'wounds',\n 'woman',\n 'trouble',\n 'traumatised',\n 'tragedy',\n 'thing',\n 'story',\n 'screams',\n 'put',\n 'past',\n 'ok',\n 'iran',\n 'inundated',\n 'group',\n 'flattened',\n 'fedex',\n 'caused',\n 'came',\n 'better',\n 'august',\n 'armageddon',\n 'anniversary',\n '15',\n 'women',\n 'wanna',\n 'violent',\n 'typhoon',\n 'tsunami',\n 'thank',\n 'security',\n 'razed',\n 'possible',\n 'meltdown',\n 'lot',\n 'isis',\n 'hostage',\n 'famine',\n 'electrocuted',\n 'ebay',\n 'dust',\n 'crush',\n 'collide',\n 'chemical',\n 'blew',\n 'bleeding',\n 'bioterror',\n 'against',\n 'zone',\n 'whats',\n 'use',\n 'twitter',\n 'tomorrow',\n 'sure',\n 'something',\n 'send',\n 'quarantine',\n 'plane',\n 'pkk',\n 'part',\n 'panicking',\n 'pandemonium',\n 'oh',\n 'must',\n 'longer',\n 'long',\n 'left',\n 'hijacker',\n 'heart',\n 'government',\n 'goes',\n 'due',\n 'didnt',\n 'detonated',\n 'desolation',\n 'collision',\n 'catastrophic',\n 'casualties',\n 'calgary',\n 'building',\n 'beautiful',\n 'bagging',\n 'affected',\n 'yet',\n 'volcano',\n 'very',\n 'thanks',\n 'st',\n 'screamed',\n 'river',\n 'riot',\n 'reunion',\n 'responders',\n 'red',\n 'obliteration',\n 'obliterated',\n 'nothing',\n 'music',\n 'minute',\n 'lava',\n 'land',\n 'hijacking',\n 'fatality',\n 'fan',\n 'drowned',\n 'detonation',\n 'demolish',\n 'cool',\n 'blast',\n 'believe',\n 'baby',\n 'used',\n 'ur',\n 'three',\n 'thought',\n 'sound',\n 'song',\n 'site',\n 'sirens',\n 'shoulder',\n 'seismic',\n 'same',\n 'prebreak',\n 'power',\n 'officials',\n 'obliterate',\n 'few',\n 'eyewitness',\n 'died',\n 'demolished',\n 'care',\n 'arson',\n 'airport',\n '9',\n 'turkey',\n 'traffic',\n 'such',\n 'stay',\n 'start',\n 'snowstorm',\n 'shooting',\n 'rubble',\n 'remember',\n 'rainstorm',\n 'murderer',\n 'media',\n 'making',\n 'kids',\n 'issues',\n 'israeli',\n 'india',\n 'having',\n 'far',\n 'evacuated',\n 'electrocute',\n 'doing',\n 'doesnt',\n 'derailed',\n 'demolition',\n 'crushed',\n 'brown',\n 'blazing',\n 'annihilated',\n '8',\n '7',\n '16yr',\n 'yes',\n 'wake',\n 'suspect',\n 'south',\n 'shot',\n 'reactor',\n 'policy',\n 'nowplaying',\n 'nearby',\n 'line',\n 'light',\n 'lets',\n 'leave',\n 'inside',\n 'horror',\n 'hijack',\n 'hell',\n 'health',\n 'gets',\n 'casualty',\n 'bc',\n 'already',\n 'actually',\n 'words',\n 'upheaval',\n 'trying',\n 'tornado',\n 'tell',\n 'sue',\n 'stretcher',\n 'second',\n 're\\x89Û',\n 'plans',\n 'pic',\n 'mp',\n 'men',\n 'maybe',\n 'low',\n 'lab',\n 'islam',\n 'hours',\n 'history',\n 'half',\n 'guys',\n 'fun',\n 'fight',\n 'done',\n 'deluged',\n 'declares',\n 'days',\n 'bodies',\n 'bestnaijamade',\n 'anything',\n 'almost',\n '20',\n '\\x89ÛÓ',\n 'wont',\n 'swallowed',\n 'support',\n 'street',\n 'searching',\n 'reuters',\n 'play',\n 'place',\n 'photos',\n 'person',\n 'peace',\n 'online',\n 'north',\n 'literally',\n 'hey',\n 'helicopter',\n 'find',\n 'cyclone',\n 'crews',\n 'business',\n 'bush',\n 'both',\n 'bioterrorism',\n 'bar',\n 'avalanche',\n 'aircraft',\n 'abc',\n '50',\n 'yeah',\n 'west',\n 'wait',\n 'typhoondevastated',\n 'theyre',\n 'siren',\n 'saipan',\n 'pick',\n 'name',\n 'money',\n 'la',\n 'kill',\n 'job',\n 'hellfire',\n 'hear',\n 'happy',\n 'eyes',\n 'die',\n 'data',\n 'conclusively',\n 'children',\n 'blight',\n 'blaze',\n 'ago',\n 'waves',\n 'trench',\n 'texas',\n 'team',\n 'space',\n 'projected',\n 'probably',\n 'picking',\n 'own',\n 'order',\n 'myself',\n 'memories',\n 'major',\n 'm',\n 'lost',\n 'jobs',\n 'hollywood',\n 'feared',\n 'effect',\n 'deal',\n 'd',\n 'center',\n 'case',\n 'book',\n 'bigger',\n 'anyone',\n 'american',\n 'ablaze',\n '12',\n '10',\n 'yourself',\n 'watching',\n 'tv',\n 'transport',\n 'town',\n 'spot',\n 'soudelor',\n 'ship',\n 'seen',\n 'saved',\n 'pretty',\n 'outside',\n 'officer',\n 'mom',\n 'miners',\n 'meek',\n 'leather',\n 'houses',\n 'hat',\n 'hard',\n 'flag',\n 'everything',\n 'daily',\n 'child',\n 'chance',\n 'called',\n 'banned',\n 'ball',\n 'annihilation',\n 'amid',\n '30',\n 'wow',\n 'trains',\n 'though',\n 'star',\n 'signs',\n 'side',\n 'shes',\n 'self',\n 'rise',\n 'refugio',\n 'rd',\n 'poor',\n 'once',\n 'okay',\n 'n',\n 'move',\n 'might',\n 'manslaughter',\n 'makes',\n 'hailstorm',\n 'gbbo',\n 'friends',\n 'flash',\n 'fast',\n 'emmerdale',\n 'east',\n 'desolate',\n 'damn',\n 'crisis',\n 'crazy',\n 'course',\n 'couple',\n 'country',\n 'costlier',\n 'centre',\n 'caught',\n 'cake',\n 'blizzard',\n 'become',\n 'angry',\n 'alone',\n 'youth',\n 'wrong',\n 'win',\n 'vs',\n 'virgin',\n 'truth',\n 'temple',\n 'sorry',\n 'reports',\n 'reason',\n 'playing',\n 'pain',\n 'omg',\n 'official',\n 'myanmar',\n 'mayhem',\n 'looking',\n 'listen',\n 'level',\n 'ladies',\n 'knock',\n 'isnt',\n 'ignition',\n 'huge',\n 'heavy',\n 'hate',\n 'guy',\n 'gun',\n 'global',\n 'finally',\n 'feeling',\n 'eye',\n 'downtown',\n 'control',\n 'computers',\n 'closed',\n 'class',\n 'beach',\n 'bbc',\n 'b',\n 'appears',\n 'across',\n '60',\n '13',\n '11yearold',\n 'yours',\n 'womens',\n 'wanted',\n 'view',\n 'usa',\n 'united',\n 'try',\n 'totally',\n 'toddler',\n 'till',\n 'thousands',\n 'takes',\n 'taken',\n 't',\n 'stand',\n 'russian',\n 'running',\n 'reddits',\n 'quiz',\n 'pay',\n 'pakistan',\n 'others',\n 'mop',\n 'marks',\n 'mad',\n 'link',\n 'libya',\n 'issued',\n 'instead',\n 'happened',\n 'gt',\n 'giant',\n 'gems',\n 'gave',\n 'front',\n 'follow',\n 'film',\n 'experts',\n 'else',\n 'drive',\n 'devastated',\n 'declaration',\n 'coaches',\n 'cnn',\n 'christian',\n 'anthrax',\n 'aftershock',\n '11',\n 'worst',\n 'working',\n 'village',\n 'vehicle',\n 'unconfirmed',\n 'thursday',\n 'talk',\n 'subreddits',\n 'sounds',\n 'shows',\n 'scared',\n 'ready',\n 'potus',\n 'park',\n 'niggas',\n 'neighbours',\n 'nagasaki',\n 'mount',\n 'miss',\n 'mishaps',\n 'lord',\n 'led',\n 'learn',\n 'large',\n 'landing',\n 'israel',\n 'haha',\n 'gop',\n 'germs',\n 'galactic',\n 'fukushima',\n 'following',\n 'favorite',\n 'escape',\n 'entire',\n 'ebola',\n 'driving',\n 'download',\n 'climate',\n 'chinas',\n 'china',\n 'cars',\n 'behind',\n 'aug',\n 'arsonist',\n 'aint',\n 'added',\n 'action',\n '25',\n '100',\n '05',\n 'wonder',\n 'tweet',\n 'turn',\n 'trust',\n 'tree',\n 'told',\n 'sign',\n 'safety',\n 'russia',\n 'rules',\n 'rock',\n 'reported',\n 'radio',\n 'r',\n 'pray',\n 'pradesh',\n 'ppl',\n 'point',\n 'patience',\n 'party',\n 'parole',\n 'pamela',\n 'pakistani',\n 'outrage',\n 'offensive',\n 'nws',\n 'needs',\n 'nearly',\n 'muslims',\n 'morning',\n 'moment',\n ...]"
     },
     "execution_count": 23,
     "metadata": {},
     "output_type": "execute_result"
    }
   ],
   "source": [
    "# Choose random sentence from the training dataset and tokenize it\n",
    "rand_train_sentence = random.choice(train_sentences)\n",
    "print(f\"Original text: \\n\\n {rand_train_sentence} \\n\\nVectorized text:\")\n",
    "text_vectorizer([rand_train_sentence])"
   ],
   "metadata": {
    "collapsed": false,
    "ExecuteTime": {
     "end_time": "2023-07-30T14:52:15.087918200Z",
     "start_time": "2023-07-30T14:52:15.049944100Z"
    }
   },
   "id": "4f30ca7e95b2b5e5"
  },
  {
   "cell_type": "code",
   "execution_count": 24,
   "outputs": [
    {
     "data": {
      "text/plain": "10000"
     },
     "execution_count": 24,
     "metadata": {},
     "output_type": "execute_result"
    }
   ],
   "source": [
    "# Get unique words in the vocabulary\n",
    "words_in_vocab = text_vectorizer.get_vocabulary()\n",
    "words_in_vocab"
   ],
   "metadata": {
    "collapsed": false,
    "ExecuteTime": {
     "end_time": "2023-07-30T14:52:15.088918200Z",
     "start_time": "2023-07-30T14:52:15.066584200Z"
    }
   },
   "id": "a9796849d92692a"
  },
  {
   "cell_type": "code",
   "execution_count": 25,
   "outputs": [
    {
     "data": {
      "text/plain": "['', '[UNK]', 'the', 'a', 'in']"
     },
     "execution_count": 25,
     "metadata": {},
     "output_type": "execute_result"
    }
   ],
   "source": [
    "len(words_in_vocab)"
   ],
   "metadata": {
    "collapsed": false,
    "ExecuteTime": {
     "end_time": "2023-07-30T14:52:15.088918200Z",
     "start_time": "2023-07-30T14:52:15.069924Z"
    }
   },
   "id": "1fc1d49d18c2f968"
  },
  {
   "cell_type": "code",
   "execution_count": 26,
   "outputs": [
    {
     "data": {
      "text/plain": "['pakthey', 'pakistan\\x89Ûªs', 'pakistans', 'pajamas', 'paints']"
     },
     "execution_count": 26,
     "metadata": {},
     "output_type": "execute_result"
    }
   ],
   "source": [
    "# Top 5 words in words_in_vocab\n",
    "words_in_vocab[:5]"
   ],
   "metadata": {
    "collapsed": false,
    "ExecuteTime": {
     "end_time": "2023-07-30T14:52:15.088918200Z",
     "start_time": "2023-07-30T14:52:15.072855400Z"
    }
   },
   "id": "60913b2c06167547"
  },
  {
   "cell_type": "code",
   "execution_count": null,
   "outputs": [],
   "source": [
    "# Least 5 words in words_in_vocab\n",
    "words_in_vocab[-5:]"
   ],
   "metadata": {
    "collapsed": false
   },
   "id": "4b66d97a81a1ab9b"
  },
  {
   "cell_type": "markdown",
   "source": [
    "### Embedding layer\n",
    "\n",
    "To make our embedding, we are going to use TensorFlow’s embedding layer: https://www.tensorflow.org/api/docs/python/tf/keras/layers/\n",
    "\n",
    "The parameters are below mostly used.\n",
    "* input_dim = size of the vocabulary\n",
    "* output_dim = size of the output embedding vector.  For example, a value of 100 would mean each token gets represented by a vector 100 long\n",
    "* input_length = length of the sequences being passed to the embedding layer"
   ],
   "metadata": {
    "collapsed": false,
    "ExecuteTime": {
     "end_time": "2023-07-30T14:52:15.088918200Z",
     "start_time": "2023-07-30T14:52:15.075138400Z"
    }
   },
   "id": "4d47ece46e5b3070"
  },
  {
   "cell_type": "code",
   "execution_count": 28,
   "outputs": [
    {
     "name": "stdout",
     "output_type": "stream",
     "text": [
      "Original text: Train derailment: In Patna no news of any casualty so far - The Indian Express http://t.co/YH5VETm0YZ http://t.co/17Wgug8z0M\n",
      "\n",
      "Vectorized text: [[ 118  364    4 4920   41   57    6  234  634   31  601    2 1286 1536\n",
      "     1]]\n",
      "\n",
      "Vectorized text shape: (1, 15)\n",
      "Embbedded text: [[[-4.43637632e-02 -1.26107335e-02  2.84378603e-03 -3.35236788e-02\n",
      "   -3.13915834e-02  4.43817414e-02  4.85944487e-02  1.71508528e-02\n",
      "    4.01938818e-02  3.83564867e-02 -1.96816921e-02 -4.18531895e-03\n",
      "   -4.44837324e-02  4.33234312e-02 -2.50958093e-02 -4.40843217e-02\n",
      "   -1.44094713e-02  3.44209112e-02  6.63088635e-03  3.54768522e-02\n",
      "    2.20246427e-02  4.97455485e-02  4.45870794e-02  4.02387418e-02\n",
      "    2.00218596e-02  4.81777675e-02  3.22533138e-02  3.16465534e-02\n",
      "   -2.65120268e-02  3.31873037e-02 -4.69052792e-02 -9.49148089e-03\n",
      "    5.29532507e-03 -7.48661906e-03 -8.39617103e-03 -3.50897908e-02\n",
      "    1.04417205e-02  2.90989988e-02  4.62394953e-03  3.83883826e-02\n",
      "    3.35663557e-03  1.31147243e-02  1.79450177e-02  3.41946743e-02\n",
      "    4.73296903e-02  4.88134287e-02 -1.77079439e-03 -4.51799892e-02\n",
      "    2.71325596e-02 -1.16328709e-02  1.49716176e-02  3.70900966e-02\n",
      "    4.12143134e-02  2.42132060e-02 -7.64592737e-03 -2.03537829e-02\n",
      "   -3.00556310e-02 -1.02316514e-02  1.52646564e-02  9.58760828e-03\n",
      "    4.17114422e-03  1.25562437e-02 -2.69546751e-02 -4.75584045e-02]\n",
      "  [-1.51172057e-02 -2.57855058e-02  2.57675759e-02  3.40347178e-02\n",
      "   -1.43650174e-02  4.25703861e-02 -1.14880912e-02  1.86770596e-02\n",
      "   -1.86787024e-02  2.43257396e-02 -2.49396320e-02  1.13255158e-02\n",
      "   -1.20307580e-02  1.97179578e-02 -3.29550132e-02 -1.63229108e-02\n",
      "   -2.63226274e-02 -7.18317181e-03  3.73258702e-02  1.66463852e-03\n",
      "    3.62122394e-02 -6.24389574e-03 -4.70073484e-02 -2.85707247e-02\n",
      "   -9.64967161e-03 -4.04702500e-03  2.41988562e-02  2.07649730e-02\n",
      "    1.38582624e-02  3.39590348e-02  1.90512799e-02 -2.88832542e-02\n",
      "   -5.70822880e-03 -4.41868082e-02  9.98912007e-03 -1.30883604e-03\n",
      "    3.76233943e-02  3.36125232e-02  1.56043209e-02  8.50725919e-04\n",
      "    1.11800805e-02 -3.13493758e-02  3.20400484e-02 -1.64797306e-02\n",
      "   -4.05603424e-02 -8.30209255e-03  6.49117306e-03 -1.06629357e-02\n",
      "    3.37972976e-02  4.27679084e-02  8.21990892e-03 -1.41485110e-02\n",
      "   -2.79356129e-02 -2.30227355e-02  4.51459400e-02  2.94982530e-02\n",
      "    1.17246285e-02 -6.73868507e-03 -3.88122573e-02 -9.07338783e-03\n",
      "   -3.49130854e-02 -8.28510523e-03 -7.93279335e-03 -3.73930223e-02]\n",
      "  [ 3.56316902e-02  3.13983224e-02  4.82125767e-02 -4.53584567e-02\n",
      "    2.93085091e-02  3.32783535e-03  1.73061751e-02 -8.31744820e-03\n",
      "   -4.98961471e-02  8.96365568e-03 -1.64693221e-02  1.21090412e-02\n",
      "   -1.82453617e-02 -1.14649907e-02 -2.05814838e-02  3.84799577e-02\n",
      "   -4.65212353e-02 -1.04267597e-02 -1.89514086e-03  2.32560560e-03\n",
      "   -1.91460606e-02  1.74759738e-02  1.19566917e-03 -4.75885756e-02\n",
      "    1.11784339e-02 -2.26102825e-02 -9.48999077e-03 -3.14894095e-02\n",
      "   -4.87698242e-03 -9.92394984e-04 -8.04110616e-03 -4.86064665e-02\n",
      "    1.54304020e-02 -1.94646958e-02 -1.52164325e-02  4.67937700e-02\n",
      "    2.12504752e-02  2.40391493e-03  1.14217773e-02 -2.13260539e-02\n",
      "   -1.36019215e-02 -3.92561033e-03  4.15077470e-02 -5.49113750e-03\n",
      "    1.13912001e-02 -2.21498497e-02  1.87316202e-02 -6.74754381e-03\n",
      "   -6.90173358e-04  3.85699421e-03 -2.20622662e-02  3.75042073e-02\n",
      "    4.43489477e-03  3.18300985e-02 -2.68602017e-02 -3.81459109e-02\n",
      "   -4.15837765e-03  2.62536891e-02 -4.57476266e-02  1.82636715e-02\n",
      "   -4.30527329e-02  1.36920922e-02 -2.74386164e-02  2.72511579e-02]\n",
      "  [ 4.35319655e-02  3.53206284e-02 -5.46358898e-03 -4.01806720e-02\n",
      "    4.90032695e-02 -2.47689243e-02 -4.09289449e-03  7.20230490e-03\n",
      "   -3.77751589e-02  3.11334245e-02  4.50398587e-02 -7.16309622e-03\n",
      "   -1.27748027e-02 -4.13492545e-02  1.58923008e-02 -2.82033533e-03\n",
      "   -1.65661685e-02 -2.60733850e-02  4.24842499e-02 -2.67031789e-02\n",
      "    1.06857903e-02 -3.54936942e-02 -3.69145051e-02  4.04596329e-03\n",
      "    4.17629369e-02  3.96548398e-02 -2.16135271e-02 -4.55728173e-02\n",
      "    6.63586706e-03  2.46393345e-02  3.94882597e-02 -2.35482808e-02\n",
      "    2.66068690e-02  4.64027040e-02  2.56986134e-02  1.66524760e-02\n",
      "   -1.22488961e-02 -1.20899305e-02 -1.34298801e-02  4.97256555e-02\n",
      "   -2.57629883e-02 -2.49474123e-03  2.48239152e-02 -2.34965328e-02\n",
      "   -3.95583883e-02  1.76569857e-02  2.51413509e-03  2.39031427e-02\n",
      "    1.46871544e-02 -4.69916835e-02 -2.61494517e-02 -3.66508961e-03\n",
      "    3.88980992e-02 -1.80342905e-02  4.79892008e-02 -4.17241938e-02\n",
      "    4.05025482e-03 -1.81278102e-02 -2.58988626e-02 -4.03814688e-02\n",
      "    3.46725062e-03  9.58798081e-03 -1.08198635e-02  2.48393156e-02]\n",
      "  [-3.02705057e-02 -4.22836058e-02 -4.85516079e-02  4.90132235e-02\n",
      "   -1.17079243e-02  7.76918977e-03  1.53095759e-02  1.80435814e-02\n",
      "    3.37146595e-03 -1.72470883e-03 -2.79655587e-02 -4.25282978e-02\n",
      "   -5.68109751e-03 -1.19306445e-02  2.51526721e-02 -9.63667780e-03\n",
      "    2.10814551e-03 -1.13778114e-02 -2.00789049e-03  3.45262028e-02\n",
      "   -2.21386794e-02 -3.80148515e-02 -4.98231649e-02  4.50054742e-02\n",
      "   -5.72711229e-03  3.43336128e-02 -4.61902134e-02  3.65427472e-02\n",
      "    3.24638598e-02  4.99952547e-02 -1.38671510e-02  2.49998905e-02\n",
      "    1.31151788e-02  2.00642236e-02  2.53469609e-02 -4.84054163e-03\n",
      "   -3.68816964e-02 -1.38905048e-02 -3.14700976e-02  7.21085072e-03\n",
      "   -8.40621069e-03  2.89515741e-02  3.74125503e-02  6.35110214e-03\n",
      "   -4.11757454e-02 -9.84324142e-03 -1.51992813e-02  4.49989699e-02\n",
      "   -1.09020360e-02  4.16065380e-03 -3.89113054e-02 -3.49290594e-02\n",
      "    9.21797752e-03 -4.06231768e-02  2.59494297e-02 -3.65086906e-02\n",
      "    9.58517194e-06  3.96963693e-02 -5.85476309e-03 -2.50510573e-02\n",
      "    1.26718022e-02  1.09113343e-02  8.76226276e-03  4.70764972e-02]\n",
      "  [ 8.01493973e-03 -1.69618130e-02 -2.81884912e-02 -1.10449418e-02\n",
      "   -1.74651965e-02 -1.42677054e-02 -1.51408836e-03 -9.45162773e-03\n",
      "   -4.73588705e-02  3.13528217e-02  2.26652361e-02 -4.84370850e-02\n",
      "   -4.88189831e-02 -1.64672844e-02 -3.92528623e-03 -4.22798060e-02\n",
      "   -2.25653648e-02  4.51557152e-02 -3.59933451e-03  4.91737984e-02\n",
      "   -4.94902395e-02 -2.61450931e-03  1.56420507e-02  3.42168659e-03\n",
      "    1.97033621e-02 -4.99099605e-02  3.37129496e-02  8.65536928e-03\n",
      "    1.03165507e-02 -1.24628171e-02  3.05648781e-02  2.35772990e-02\n",
      "   -6.49607182e-03  3.90385129e-02  1.77246071e-02 -4.68455628e-03\n",
      "   -3.89508978e-02 -4.71727960e-02 -2.59438884e-02 -4.99754213e-02\n",
      "   -3.58273871e-02  2.90752687e-02  1.11092702e-02 -1.46164298e-02\n",
      "   -3.68843228e-03 -7.04717636e-03 -4.27438393e-02 -3.08541059e-02\n",
      "   -2.87694465e-02  1.28120445e-02  4.39271964e-02  3.25902738e-02\n",
      "    4.74559404e-02  4.78034057e-02  2.88645141e-02 -2.89960634e-02\n",
      "    1.05877630e-02 -2.13586092e-02  2.45942213e-02  6.66185468e-03\n",
      "    4.65283059e-02  4.20314185e-02 -4.57873009e-02 -1.93204172e-02]\n",
      "  [ 7.19076395e-03  4.24758531e-02 -3.36181372e-04 -1.02552399e-02\n",
      "   -7.60067627e-03  4.54738252e-02 -1.39328837e-02 -4.06380296e-02\n",
      "   -1.62150636e-02  1.87434219e-02 -2.63343696e-02  4.40431274e-02\n",
      "    4.88320626e-02  2.91281678e-02 -1.91055182e-02  4.43457104e-02\n",
      "   -4.40119766e-02  6.32888079e-03  4.56736125e-02 -3.27790976e-02\n",
      "   -2.61060838e-02 -4.53532860e-03  4.44633849e-02 -3.10682412e-02\n",
      "    2.03962959e-02  2.06517912e-02 -4.47355770e-02  1.63557380e-03\n",
      "    1.47638433e-02 -3.10947187e-02  3.49133052e-02 -1.91345941e-02\n",
      "    2.07154825e-03  4.65294234e-02 -4.44429033e-02  2.60074474e-02\n",
      "    1.72112845e-02 -4.62060571e-02 -3.95663083e-05 -1.12260506e-03\n",
      "   -3.77973318e-02  2.63074301e-02  4.68140505e-02  3.28090675e-02\n",
      "    4.40551750e-02  2.52252333e-02  3.90628241e-02  5.56883961e-03\n",
      "   -4.93947417e-03  4.61365022e-02 -2.15364229e-02  3.63638513e-02\n",
      "    3.99032347e-02  1.02634802e-02 -3.56815346e-02 -4.92463596e-02\n",
      "   -2.01385505e-02  1.38017051e-02 -4.03841026e-02  7.97984749e-03\n",
      "    1.39350034e-02  3.60513963e-02  1.72162913e-02  9.83115286e-03]\n",
      "  [-5.09902090e-03 -3.25585604e-02  3.00372951e-02  4.23335694e-02\n",
      "    2.58126967e-02  2.60499232e-02 -4.39591072e-02 -2.56401543e-02\n",
      "   -1.89254526e-02  3.45331542e-02 -4.04363275e-02  3.52914445e-02\n",
      "   -4.54922095e-02 -9.31203365e-04  3.51087339e-02  3.31040658e-02\n",
      "    4.05780785e-02  1.80893801e-02  2.01465599e-02 -1.97316539e-02\n",
      "   -8.85475799e-03 -2.30001938e-02  1.08915567e-02  2.86687948e-02\n",
      "   -1.98810939e-02 -2.20356714e-02  4.13048901e-02 -4.34532873e-02\n",
      "   -4.04084548e-02  3.49624790e-02  2.07973644e-03  4.82897498e-02\n",
      "   -2.63524409e-02  1.88304447e-02  2.55422257e-02  2.67729871e-02\n",
      "   -1.27326846e-02 -3.01169641e-02 -3.23975831e-02  2.53567360e-02\n",
      "    6.28232956e-05 -4.33449261e-02  1.81039907e-02 -5.27466461e-03\n",
      "    4.77883108e-02 -2.60704402e-02  2.88353004e-02  2.86213048e-02\n",
      "   -3.50709930e-02 -1.96682345e-02  1.60501041e-02 -9.95894521e-03\n",
      "   -2.30098125e-02  2.87751444e-02  4.43227030e-02 -4.88117598e-02\n",
      "    2.44610198e-02  2.55342014e-02 -2.90317778e-02 -4.75674383e-02\n",
      "    6.30851835e-03  4.23385836e-02  2.25899555e-02 -2.51335632e-02]\n",
      "  [ 4.96890657e-02 -4.12145369e-02  2.66378187e-02  3.17370556e-02\n",
      "   -1.55192614e-03 -8.11380148e-03  1.81904919e-02  2.74857394e-02\n",
      "   -3.62202749e-02  7.06088543e-03  2.16888823e-02  8.45003128e-03\n",
      "   -3.24931294e-02  4.93583195e-02  4.88449596e-02  1.98359527e-02\n",
      "    4.96237390e-02 -3.82276773e-02  4.33653630e-02 -2.60948427e-02\n",
      "    2.88857259e-02 -1.62137523e-02  2.44529508e-02  4.63964231e-02\n",
      "   -1.54999718e-02  3.23460363e-02 -8.28118250e-03  3.99568565e-02\n",
      "   -2.79304031e-02 -2.12213043e-02  2.41165198e-02  1.23291016e-02\n",
      "   -4.35679071e-02  6.58727810e-03 -2.37941146e-02 -4.95692343e-03\n",
      "   -4.69491743e-02 -4.58770283e-02 -1.11340508e-02 -1.29181147e-03\n",
      "    7.39710405e-03 -2.93358210e-02  3.34892422e-03  3.18065286e-05\n",
      "    1.39047392e-02 -3.57121341e-02 -3.01769264e-02 -3.04142833e-02\n",
      "   -4.58372720e-02  2.73188092e-02 -8.66644457e-03 -3.04202680e-02\n",
      "    1.98638774e-02  3.88202704e-02 -4.24459092e-02  1.21148005e-02\n",
      "    3.87370586e-04 -1.79216154e-02  2.66806148e-02  4.15391214e-02\n",
      "   -4.44692746e-02  4.43802588e-02  2.65747048e-02  3.89836915e-02]\n",
      "  [ 1.57122500e-02 -1.73187628e-02  1.34833194e-02  2.60005333e-02\n",
      "   -1.69740990e-03 -2.72585284e-02  2.47578956e-02 -2.17607748e-02\n",
      "    1.56106390e-02  3.14754881e-02 -4.47460413e-02  1.23446956e-02\n",
      "    4.29354422e-02  1.92116760e-02 -2.53698118e-02  3.83041389e-02\n",
      "   -9.11921263e-03  3.17080133e-02 -2.51056086e-02  2.66389586e-02\n",
      "   -1.45395026e-02 -2.96682362e-02 -4.77684848e-02  2.45128535e-02\n",
      "   -4.15363796e-02  1.39833353e-02  4.22591306e-02  1.94778331e-02\n",
      "    3.10060419e-02  2.94620655e-02 -2.12793704e-02 -4.34652939e-02\n",
      "   -2.57224794e-02  3.35837863e-02 -3.44597101e-02  1.47407688e-02\n",
      "    3.14001702e-02  2.62917988e-02 -4.98457663e-02  2.92980708e-02\n",
      "   -4.16957140e-02 -1.12399943e-02 -1.22079365e-02 -4.06675935e-02\n",
      "    4.90319729e-03  1.10504739e-02 -3.15645710e-02 -2.25930940e-02\n",
      "   -2.86357477e-03 -2.81157847e-02 -2.80659925e-02 -1.98971275e-02\n",
      "   -4.60918322e-02  4.32621874e-02 -3.70644405e-03  2.29039080e-02\n",
      "   -3.41271050e-02 -2.51291879e-02  5.62678650e-03  3.83294933e-02\n",
      "    4.02562506e-02 -2.33602878e-02 -1.70986764e-02 -1.88566092e-02]\n",
      "  [ 8.11056048e-03 -2.51353979e-02 -1.78446658e-02 -8.37395340e-03\n",
      "    4.78920974e-02 -2.52959374e-02  9.90079716e-03  2.68987529e-02\n",
      "   -4.49732319e-02 -4.49621342e-02 -3.69911417e-02  4.02851962e-02\n",
      "   -2.35521793e-02  2.52516009e-02  4.63193916e-02 -2.56519672e-02\n",
      "   -4.96638194e-02  3.04305553e-03  4.74877469e-02 -5.86240366e-03\n",
      "   -3.54161486e-02 -2.07922608e-03 -1.31683350e-02  1.67049654e-02\n",
      "   -1.47450455e-02  3.21183689e-02 -4.15079482e-02 -4.20802347e-02\n",
      "    2.79406793e-02 -2.45980863e-02  3.54711078e-02 -4.73095886e-02\n",
      "    4.98616807e-02  7.09386915e-03 -2.00069547e-02 -3.08033228e-02\n",
      "    2.95665152e-02 -1.07509717e-02 -1.97035670e-02 -4.16002050e-02\n",
      "    2.88654827e-02  4.74148281e-02 -3.67043018e-02 -1.11865029e-02\n",
      "   -4.60420847e-02  4.71419804e-02 -2.80393250e-02 -4.93742488e-02\n",
      "   -3.62998731e-02  1.13964789e-02 -3.53445895e-02  2.56802179e-02\n",
      "    7.72863626e-03 -1.51629448e-02  3.27925794e-02  4.18845899e-02\n",
      "    3.50893028e-02 -3.36684473e-02  1.45670213e-02 -3.60390171e-02\n",
      "    2.63920911e-02 -1.70812495e-02 -4.14169542e-02  1.46270506e-02]\n",
      "  [ 1.61801092e-02 -2.03528162e-02 -4.77586389e-02  1.82983913e-02\n",
      "    4.78528030e-02 -4.60834503e-02  4.80357297e-02  3.95645760e-02\n",
      "    2.31296755e-02  1.09270439e-02  7.77506828e-03 -3.78065594e-02\n",
      "    3.40833105e-02 -3.17157991e-02  4.65995073e-03  2.49773376e-02\n",
      "   -2.19353195e-02  4.64769639e-02  3.99882235e-02  3.57167460e-02\n",
      "   -3.40904221e-02 -2.75927186e-02 -1.54982097e-02  2.80254818e-02\n",
      "    1.44554488e-02 -4.09597158e-02 -3.22002992e-02 -3.27217467e-02\n",
      "    4.62090410e-02 -4.95881699e-02 -3.66184935e-02  4.41015102e-02\n",
      "   -1.10702999e-02  4.65757884e-02 -1.48756504e-02  1.24959573e-02\n",
      "   -3.30064185e-02 -3.03648412e-04 -4.11712043e-02 -2.08746642e-04\n",
      "    2.47097947e-02  1.60691850e-02 -1.33273229e-02 -2.56173853e-02\n",
      "    1.18569247e-02  4.91549112e-02 -2.65193935e-02 -3.60723846e-02\n",
      "   -3.87507081e-02 -3.34120281e-02  3.63306068e-02  4.01990525e-02\n",
      "   -2.08394285e-02 -4.09967788e-02  1.35421865e-02  3.81347798e-02\n",
      "   -2.27056984e-02 -2.06520911e-02  2.47226618e-02  3.30255143e-02\n",
      "   -4.58390974e-02  7.00231642e-03 -3.93813960e-02  4.43492793e-02]\n",
      "  [ 4.76905741e-02  1.87497847e-02 -1.52464993e-02 -3.94102819e-02\n",
      "   -4.83131297e-02  3.58668305e-02  4.56463806e-02  1.74701475e-02\n",
      "    3.46856005e-02  3.06904800e-02  1.45820640e-02 -3.44434492e-02\n",
      "    3.43384035e-02 -7.35232979e-03 -3.52267846e-02 -2.48463284e-02\n",
      "    9.08517838e-03  1.60559453e-02 -1.05637312e-03 -4.11775820e-02\n",
      "    2.55330093e-02 -2.29845885e-02 -1.70039758e-02 -4.74249125e-02\n",
      "    1.29005946e-02  4.45335545e-02  4.76881601e-02 -3.06668524e-02\n",
      "   -3.94789353e-02  2.54500620e-02  1.34432577e-02  2.48552077e-02\n",
      "   -1.50857568e-02 -4.49286476e-02  2.48694681e-02 -4.37117480e-02\n",
      "    2.00701095e-02  1.68053620e-02 -3.42044979e-02 -4.32905816e-02\n",
      "    2.91002281e-02  2.72637643e-02 -6.42613322e-03 -4.72935699e-02\n",
      "   -1.97861679e-02  2.02461332e-03  8.29911232e-03 -3.82487401e-02\n",
      "   -2.88935434e-02  2.54204310e-02  8.34518671e-03  4.63994481e-02\n",
      "    1.92917697e-02 -1.08254328e-02  4.86994274e-02 -1.93604715e-02\n",
      "    1.72409452e-02 -3.67650613e-02 -2.57289540e-02  2.44154371e-02\n",
      "   -4.42067273e-02  1.00622773e-02  1.03224404e-02  1.33138634e-02]\n",
      "  [ 3.48435715e-03 -4.82155569e-02 -1.32444017e-02 -6.38319179e-03\n",
      "    3.03050317e-02 -2.82249581e-02  1.76709630e-02 -3.21910158e-02\n",
      "   -2.28044875e-02  4.59021963e-02  3.91329415e-02  2.56504864e-03\n",
      "    2.13303082e-02 -1.36484131e-02 -2.15211753e-02 -4.61973809e-02\n",
      "   -1.93917640e-02 -1.54689774e-02 -3.23431864e-02  3.14165615e-02\n",
      "    2.18794495e-03 -3.76064889e-02 -1.83185823e-02  4.94661368e-02\n",
      "   -2.11390983e-02 -2.21616868e-02 -3.88576612e-02  2.45880969e-02\n",
      "    1.70721747e-02 -3.07570230e-02  3.96904610e-02  4.61884402e-02\n",
      "   -1.05677135e-02  4.83785607e-02 -2.87506711e-02  2.15104707e-02\n",
      "   -3.35646048e-02 -4.48460095e-02  3.27808149e-02  3.53396870e-02\n",
      "    3.59989516e-02  3.38141583e-02  3.31648439e-03  1.24538429e-02\n",
      "    1.58884861e-02 -2.64459979e-02  3.04630734e-02 -3.46932560e-03\n",
      "    4.29226197e-02  4.98495214e-02  3.58715318e-02  4.60554473e-02\n",
      "   -4.50942405e-02  3.44214328e-02  4.79745306e-02  4.86225374e-02\n",
      "   -9.14324448e-03 -2.86432263e-02  2.34218724e-02  3.14210542e-02\n",
      "   -2.45566964e-02 -4.58507538e-02 -4.47286479e-02 -4.06642780e-02]\n",
      "  [-3.48337069e-02 -6.21578842e-03 -2.67744791e-02 -4.79292646e-02\n",
      "   -4.73541729e-02  2.28025652e-02 -3.29106823e-02  7.89984316e-03\n",
      "   -3.00606973e-02 -4.43548076e-02  3.27556394e-02  4.06985991e-02\n",
      "    1.22675523e-02  1.05748065e-02 -4.51534167e-02 -4.43350449e-02\n",
      "   -2.76265033e-02  1.60677917e-02  2.78012268e-02  2.72567384e-02\n",
      "    2.92583816e-02  2.68453620e-02  1.27524622e-02 -2.81371474e-02\n",
      "    2.76036002e-02  8.23031738e-03  4.53988798e-02  2.42031924e-02\n",
      "   -4.35185693e-02  4.16935720e-02  2.82159932e-02  4.47381288e-04\n",
      "   -1.66793838e-02 -3.44704613e-02  3.68281491e-02 -2.71520372e-02\n",
      "   -6.99330121e-04 -4.11607139e-02  2.98413746e-02 -4.26400304e-02\n",
      "    1.01793408e-02  3.96570675e-02 -1.84039585e-02 -4.39161062e-03\n",
      "    7.44938850e-03 -4.48983572e-02 -4.39901613e-02 -4.28319946e-02\n",
      "   -4.48993221e-02 -1.13874190e-02 -1.89439654e-02  4.47024442e-02\n",
      "   -1.18240006e-02 -8.06682184e-03 -1.90555211e-02 -4.83019464e-02\n",
      "    3.93669046e-02 -1.03883035e-02  3.27366702e-02 -2.02024821e-02\n",
      "   -2.28565931e-03  1.02292672e-02  3.72346528e-02  1.21172778e-02]]]\n",
      "Embedded text shape: (1, 15, 64)\n"
     ]
    }
   ],
   "source": [
    "from tensorflow.keras import layers\n",
    "\n",
    "embedding = layers.Embedding(input_dim = max_vocab_length,\n",
    "                             output_dim = 64,\n",
    "                             embeddings_initializer = \"uniform\",\n",
    "                             input_length = max_length)"
   ],
   "metadata": {
    "collapsed": false,
    "ExecuteTime": {
     "end_time": "2023-07-30T14:52:15.107113400Z",
     "start_time": "2023-07-30T14:52:15.080408700Z"
    }
   },
   "id": "55b4d3e382cb85d7"
  },
  {
   "cell_type": "code",
   "execution_count": null,
   "outputs": [],
   "source": [
    "# Get a random sentence from the training set and return Original text, Vectorized text, Embedded text\n",
    "rand_sentence = random.choice(train_sentences)\n",
    "print(f\"Original text: {rand_sentence}\\n\")\n",
    "print(f\"Vectorized text: {text_vectorizer([rand_sentence])}\\n\")\n",
    "print(f\"Vectorized text shape: {text_vectorizer([rand_sentence]).shape}\")\n",
    "print(f\"Embbedded text: {embedding(text_vectorizer([rand_sentence]))}\")\n",
    "print(f\"Embedded text shape: {embedding(text_vectorizer([rand_sentence])).shape}\")"
   ],
   "metadata": {
    "collapsed": false
   },
   "id": "2d8028a4f822acb"
  },
  {
   "cell_type": "markdown",
   "source": [
    "### Model_6: TensorFlow Hub Pretrained Feature Extractor: Universal Sentence Encoder\n",
    "\n",
    "https://tfhub.dev/google/universal-sentence-encoder/4\n",
    "See how the USE was created here: https://arvix.org/abs/1803.11175"
   ],
   "metadata": {
    "collapsed": false,
    "ExecuteTime": {
     "end_time": "2023-07-30T14:52:18.714544300Z",
     "start_time": "2023-07-30T14:52:15.108113400Z"
    }
   },
   "id": "1acc1fffc619d4fe"
  },
  {
   "cell_type": "code",
   "execution_count": 30,
   "outputs": [],
   "source": [
    "# Create a Keras Layer using the USE Pretrained Layer from TensorFlow Hub\n",
    "import tensorflow_hub as hub\n",
    "sentence_encoder_layer = hub.KerasLayer(\"https://tfhub.dev/google/universal-sentence-encoder/4\",\n",
    "                                        input_shape = [],\n",
    "                                        dtype = tf.string,\n",
    "                                        trainable = False,\n",
    "                                        name = 'USE')"
   ],
   "metadata": {
    "collapsed": false,
    "ExecuteTime": {
     "end_time": "2023-07-30T14:52:19.093323300Z",
     "start_time": "2023-07-30T14:52:18.716545300Z"
    }
   },
   "id": "d9f96ffbb39f57d0"
  },
  {
   "cell_type": "code",
   "execution_count": 31,
   "outputs": [
    {
     "name": "stdout",
     "output_type": "stream",
     "text": [
      "Model: \"Model_6_USE\"\n",
      "_________________________________________________________________\n",
      " Layer (type)                Output Shape              Param #   \n",
      "=================================================================\n",
      " USE (KerasLayer)            (None, 512)               256797824 \n",
      "                                                                 \n",
      " dense (Dense)               (None, 64)                32832     \n",
      "                                                                 \n",
      " dense_1 (Dense)             (None, 1)                 65        \n",
      "                                                                 \n",
      "=================================================================\n",
      "Total params: 256830721 (979.73 MB)\n",
      "Trainable params: 32897 (128.50 KB)\n",
      "Non-trainable params: 256797824 (979.61 MB)\n",
      "_________________________________________________________________\n"
     ]
    }
   ],
   "source": [
    "# Create model using the Sequential API\n",
    "model_6 = tf.keras.Sequential([\n",
    "    sentence_encoder_layer,\n",
    "    layers.Dense(64, activation = 'relu'),\n",
    "    layers.Dense(1, activation = 'sigmoid')\n",
    "],  name = \"Model_6_USE\")\n",
    "\n",
    "# Compile the model\n",
    "model_6.compile(loss = 'binary_crossentropy',\n",
    "                optimizer= tf.keras.optimizers.Adam(),\n",
    "                metrics = ['accuracy'])"
   ],
   "metadata": {
    "collapsed": false,
    "ExecuteTime": {
     "end_time": "2023-07-30T14:52:19.106224800Z",
     "start_time": "2023-07-30T14:52:19.094322900Z"
    }
   },
   "id": "136ed6188ce4a85d"
  },
  {
   "cell_type": "code",
   "execution_count": 32,
   "outputs": [
    {
     "name": "stdout",
     "output_type": "stream",
     "text": [
      "24/24 [==============================] - 0s 3ms/step\n"
     ]
    },
    {
     "data": {
      "text/plain": "array([[0.50619537],\n       [0.49603048],\n       [0.5036392 ],\n       [0.51526636],\n       [0.5236116 ],\n       [0.5050182 ],\n       [0.495656  ],\n       [0.50734544],\n       [0.5103289 ],\n       [0.47278407],\n       [0.5112029 ],\n       [0.47847378],\n       [0.4973488 ],\n       [0.51539165],\n       [0.48423472],\n       [0.49757752],\n       [0.48505464],\n       [0.5233879 ],\n       [0.4892447 ],\n       [0.48812613],\n       [0.4896002 ],\n       [0.4796798 ],\n       [0.5146651 ],\n       [0.50801414],\n       [0.5103214 ],\n       [0.5094193 ],\n       [0.5277337 ],\n       [0.49066928],\n       [0.4969799 ],\n       [0.523704  ],\n       [0.4987458 ],\n       [0.52059746],\n       [0.5038079 ],\n       [0.5195947 ],\n       [0.50522876],\n       [0.50232804],\n       [0.49221134],\n       [0.4825051 ],\n       [0.5068269 ],\n       [0.50641847],\n       [0.48926136],\n       [0.5140351 ],\n       [0.494423  ],\n       [0.48895985],\n       [0.49635008],\n       [0.5157402 ],\n       [0.49329177],\n       [0.50706154],\n       [0.5147204 ],\n       [0.50783426],\n       [0.514217  ],\n       [0.50646544],\n       [0.5017892 ],\n       [0.50347054],\n       [0.49593318],\n       [0.5103993 ],\n       [0.50662136],\n       [0.5107304 ],\n       [0.48976523],\n       [0.5186919 ],\n       [0.4903363 ],\n       [0.4982978 ],\n       [0.49519145],\n       [0.49412104],\n       [0.48884794],\n       [0.5205477 ],\n       [0.51946086],\n       [0.49778584],\n       [0.49355632],\n       [0.49908072],\n       [0.48634186],\n       [0.5081669 ],\n       [0.52851814],\n       [0.5149462 ],\n       [0.51821095],\n       [0.52362317],\n       [0.49114743],\n       [0.50979424],\n       [0.5245719 ],\n       [0.5013889 ],\n       [0.5028371 ],\n       [0.5115689 ],\n       [0.5095952 ],\n       [0.51776487],\n       [0.4869814 ],\n       [0.5204647 ],\n       [0.5137053 ],\n       [0.51702076],\n       [0.4836302 ],\n       [0.50543225],\n       [0.5091122 ],\n       [0.50026625],\n       [0.49542797],\n       [0.48810443],\n       [0.49038833],\n       [0.5097599 ],\n       [0.52295816],\n       [0.47871262],\n       [0.51485044],\n       [0.49237537],\n       [0.51306486],\n       [0.4942263 ],\n       [0.51264733],\n       [0.50062764],\n       [0.5249917 ],\n       [0.48373386],\n       [0.50731647],\n       [0.49751148],\n       [0.51637626],\n       [0.500976  ],\n       [0.50053483],\n       [0.52935934],\n       [0.50101674],\n       [0.51112324],\n       [0.5135506 ],\n       [0.50756276],\n       [0.51386404],\n       [0.50904804],\n       [0.509206  ],\n       [0.5006773 ],\n       [0.51192796],\n       [0.49790716],\n       [0.49129358],\n       [0.49400684],\n       [0.5073781 ],\n       [0.49064597],\n       [0.51568735],\n       [0.50676036],\n       [0.5067161 ],\n       [0.4883427 ],\n       [0.5170011 ],\n       [0.5180075 ],\n       [0.5060027 ],\n       [0.51122606],\n       [0.5083336 ],\n       [0.4979041 ],\n       [0.52479243],\n       [0.5279733 ],\n       [0.52162075],\n       [0.5182079 ],\n       [0.5104815 ],\n       [0.5140689 ],\n       [0.52240413],\n       [0.5164262 ],\n       [0.4879128 ],\n       [0.49177018],\n       [0.5079014 ],\n       [0.5131797 ],\n       [0.5173447 ],\n       [0.50932205],\n       [0.501493  ],\n       [0.5087027 ],\n       [0.5084483 ],\n       [0.5246732 ],\n       [0.5078193 ],\n       [0.49556896],\n       [0.51010495],\n       [0.49135414],\n       [0.51336193],\n       [0.4925507 ],\n       [0.5103893 ],\n       [0.51198816],\n       [0.5329486 ],\n       [0.5035078 ],\n       [0.502908  ],\n       [0.5191797 ],\n       [0.5079598 ],\n       [0.51570904],\n       [0.50702924],\n       [0.4911193 ],\n       [0.49482664],\n       [0.50431985],\n       [0.50130695],\n       [0.49957377],\n       [0.5073118 ],\n       [0.49297857],\n       [0.4856057 ],\n       [0.5135397 ],\n       [0.5209412 ],\n       [0.5019676 ],\n       [0.50319004],\n       [0.50228894],\n       [0.496241  ],\n       [0.5075667 ],\n       [0.49666795],\n       [0.52287734],\n       [0.49543047],\n       [0.5194043 ],\n       [0.5095527 ],\n       [0.48989022],\n       [0.5196809 ],\n       [0.49428788],\n       [0.5132615 ],\n       [0.4872222 ],\n       [0.5104862 ],\n       [0.5202334 ],\n       [0.5182846 ],\n       [0.51529413],\n       [0.5071187 ],\n       [0.51128155],\n       [0.5177173 ],\n       [0.48960775],\n       [0.5148229 ],\n       [0.49726588],\n       [0.5068095 ],\n       [0.50255567],\n       [0.5093465 ],\n       [0.4936279 ],\n       [0.49257946],\n       [0.49093664],\n       [0.5131405 ],\n       [0.50859755],\n       [0.5082844 ],\n       [0.49193877],\n       [0.5081044 ],\n       [0.5014381 ],\n       [0.51161236],\n       [0.526181  ],\n       [0.48282596],\n       [0.48484883],\n       [0.48635074],\n       [0.5144779 ],\n       [0.50730354],\n       [0.49176535],\n       [0.49310514],\n       [0.49446377],\n       [0.5110183 ],\n       [0.49487722],\n       [0.50411326],\n       [0.4973304 ],\n       [0.51388836],\n       [0.49249262],\n       [0.50426173],\n       [0.5018287 ],\n       [0.49107724],\n       [0.5157181 ],\n       [0.50078535],\n       [0.50491434],\n       [0.50763255],\n       [0.49585137],\n       [0.50322556],\n       [0.5327209 ],\n       [0.4860788 ],\n       [0.5204385 ],\n       [0.5153823 ],\n       [0.49349755],\n       [0.5140187 ],\n       [0.4920101 ],\n       [0.5004346 ],\n       [0.5128446 ],\n       [0.5035385 ],\n       [0.5016063 ],\n       [0.49771363],\n       [0.5076035 ],\n       [0.5168731 ],\n       [0.5021678 ],\n       [0.5119514 ],\n       [0.4927079 ],\n       [0.51000077],\n       [0.50270474],\n       [0.5001496 ],\n       [0.5250531 ],\n       [0.5327983 ],\n       [0.49951622],\n       [0.5020597 ],\n       [0.487708  ],\n       [0.5026144 ],\n       [0.51840174],\n       [0.4819074 ],\n       [0.5022958 ],\n       [0.4962048 ],\n       [0.5163306 ],\n       [0.5026819 ],\n       [0.49949843],\n       [0.49385107],\n       [0.4914104 ],\n       [0.5112518 ],\n       [0.5158804 ],\n       [0.5132952 ],\n       [0.50590426],\n       [0.5092425 ],\n       [0.49860144],\n       [0.50940055],\n       [0.5024481 ],\n       [0.49858844],\n       [0.5194422 ],\n       [0.4964515 ],\n       [0.49761224],\n       [0.5042345 ],\n       [0.4964397 ],\n       [0.48598573],\n       [0.5192658 ],\n       [0.5203729 ],\n       [0.49726766],\n       [0.51772994],\n       [0.51515275],\n       [0.5084151 ],\n       [0.50979143],\n       [0.48505464],\n       [0.49800122],\n       [0.5104811 ],\n       [0.50056165],\n       [0.49152508],\n       [0.5044823 ],\n       [0.5030865 ],\n       [0.5053088 ],\n       [0.49696887],\n       [0.50927603],\n       [0.5183054 ],\n       [0.49387324],\n       [0.48780015],\n       [0.4920552 ],\n       [0.49494836],\n       [0.5021852 ],\n       [0.51679033],\n       [0.51448464],\n       [0.5044355 ],\n       [0.5102548 ],\n       [0.52155036],\n       [0.4974847 ],\n       [0.48337537],\n       [0.5119296 ],\n       [0.5011539 ],\n       [0.49376756],\n       [0.5124929 ],\n       [0.5157862 ],\n       [0.49768972],\n       [0.5092316 ],\n       [0.5043202 ],\n       [0.5044542 ],\n       [0.494765  ],\n       [0.502118  ],\n       [0.5105525 ],\n       [0.5257685 ],\n       [0.4995051 ],\n       [0.51206905],\n       [0.52286905],\n       [0.51018375],\n       [0.49786925],\n       [0.48792303],\n       [0.48774007],\n       [0.48185837],\n       [0.52519107],\n       [0.50099695],\n       [0.49472952],\n       [0.5142454 ],\n       [0.51347506],\n       [0.50355864],\n       [0.49072078],\n       [0.5181654 ],\n       [0.4730633 ],\n       [0.4873502 ],\n       [0.50626856],\n       [0.49426648],\n       [0.48012415],\n       [0.4887616 ],\n       [0.52093685],\n       [0.5107757 ],\n       [0.49787584],\n       [0.5023017 ],\n       [0.49247953],\n       [0.5370372 ],\n       [0.50585645],\n       [0.49952814],\n       [0.49654806],\n       [0.5122845 ],\n       [0.5120606 ],\n       [0.5069005 ],\n       [0.5066425 ],\n       [0.502721  ],\n       [0.5005545 ],\n       [0.49876872],\n       [0.5134002 ],\n       [0.4972878 ],\n       [0.51958966],\n       [0.52937114],\n       [0.5004622 ],\n       [0.50873005],\n       [0.50350016],\n       [0.5071157 ],\n       [0.49360186],\n       [0.5183892 ],\n       [0.4918288 ],\n       [0.530781  ],\n       [0.5053264 ],\n       [0.5073993 ],\n       [0.5079853 ],\n       [0.5172207 ],\n       [0.5134055 ],\n       [0.49345937],\n       [0.48722494],\n       [0.50881857],\n       [0.53196496],\n       [0.5121944 ],\n       [0.48922   ],\n       [0.49983332],\n       [0.5403617 ],\n       [0.4888196 ],\n       [0.5193758 ],\n       [0.49828514],\n       [0.505223  ],\n       [0.5298295 ],\n       [0.51080585],\n       [0.51597553],\n       [0.4899866 ],\n       [0.5043649 ],\n       [0.49348563],\n       [0.51107687],\n       [0.5257148 ],\n       [0.5131021 ],\n       [0.50322163],\n       [0.4904552 ],\n       [0.4880886 ],\n       [0.50745535],\n       [0.49385798],\n       [0.5055705 ],\n       [0.5055703 ],\n       [0.49266687],\n       [0.52100056],\n       [0.48452592],\n       [0.502516  ],\n       [0.51716954],\n       [0.5205891 ],\n       [0.4927375 ],\n       [0.5061877 ],\n       [0.48941442],\n       [0.5079228 ],\n       [0.5009848 ],\n       [0.49667025],\n       [0.50795007],\n       [0.49489745],\n       [0.5097226 ],\n       [0.50272304],\n       [0.5286253 ],\n       [0.5040276 ],\n       [0.49548927],\n       [0.52611613],\n       [0.50216097],\n       [0.50726867],\n       [0.4953444 ],\n       [0.5146795 ],\n       [0.49983042],\n       [0.5122932 ],\n       [0.50859344],\n       [0.49552536],\n       [0.51341325],\n       [0.5091361 ],\n       [0.48580945],\n       [0.49950075],\n       [0.49946848],\n       [0.49840897],\n       [0.520018  ],\n       [0.49651575],\n       [0.51498485],\n       [0.52172583],\n       [0.50104934],\n       [0.5095601 ],\n       [0.4855217 ],\n       [0.50180745],\n       [0.4972117 ],\n       [0.51818824],\n       [0.5120578 ],\n       [0.50594574],\n       [0.5069807 ],\n       [0.5157038 ],\n       [0.521936  ],\n       [0.5016474 ],\n       [0.48962837],\n       [0.49149987],\n       [0.51356065],\n       [0.5286852 ],\n       [0.507151  ],\n       [0.5059024 ],\n       [0.5013015 ],\n       [0.5122561 ],\n       [0.48767433],\n       [0.5219199 ],\n       [0.5044357 ],\n       [0.5068056 ],\n       [0.5015444 ],\n       [0.49441403],\n       [0.51259166],\n       [0.512843  ],\n       [0.5160419 ],\n       [0.5091851 ],\n       [0.49785787],\n       [0.5164684 ],\n       [0.5083864 ],\n       [0.5037956 ],\n       [0.50634706],\n       [0.50817883],\n       [0.5111574 ],\n       [0.49024427],\n       [0.50444955],\n       [0.489681  ],\n       [0.5030761 ],\n       [0.49930537],\n       [0.48605788],\n       [0.4893573 ],\n       [0.5081251 ],\n       [0.5153687 ],\n       [0.5119893 ],\n       [0.48536745],\n       [0.5030662 ],\n       [0.5123415 ],\n       [0.5050391 ],\n       [0.5151612 ],\n       [0.49696887],\n       [0.49678934],\n       [0.51508904],\n       [0.51564527],\n       [0.5048905 ],\n       [0.48635393],\n       [0.49007854],\n       [0.5125609 ],\n       [0.498881  ],\n       [0.5235336 ],\n       [0.5233071 ],\n       [0.5051226 ],\n       [0.5098996 ],\n       [0.5027839 ],\n       [0.5105196 ],\n       [0.51535964],\n       [0.5019799 ],\n       [0.51094884],\n       [0.5163595 ],\n       [0.5143472 ],\n       [0.5225785 ],\n       [0.50638586],\n       [0.5001471 ],\n       [0.5045364 ],\n       [0.5086539 ],\n       [0.48802507],\n       [0.506702  ],\n       [0.5274131 ],\n       [0.5050421 ],\n       [0.5113084 ],\n       [0.50993097],\n       [0.48729384],\n       [0.5207457 ],\n       [0.4987184 ],\n       [0.5135819 ],\n       [0.50850564],\n       [0.49208462],\n       [0.50537837],\n       [0.48685336],\n       [0.5207646 ],\n       [0.50123805],\n       [0.5136793 ],\n       [0.48670703],\n       [0.49516314],\n       [0.512105  ],\n       [0.4924927 ],\n       [0.5010712 ],\n       [0.52193594],\n       [0.5069763 ],\n       [0.4969533 ],\n       [0.51092577],\n       [0.4923631 ],\n       [0.48329648],\n       [0.4899534 ],\n       [0.5052034 ],\n       [0.4991062 ],\n       [0.49979132],\n       [0.49502382],\n       [0.51265836],\n       [0.49839485],\n       [0.50992745],\n       [0.48800287],\n       [0.52060175],\n       [0.51239663],\n       [0.49976334],\n       [0.53599817],\n       [0.5214922 ],\n       [0.5168175 ],\n       [0.49298894],\n       [0.4873795 ],\n       [0.47775283],\n       [0.5231475 ],\n       [0.5063705 ],\n       [0.4945114 ],\n       [0.50041026],\n       [0.50649726],\n       [0.49063838],\n       [0.4932374 ],\n       [0.50661254],\n       [0.49510384],\n       [0.49389777],\n       [0.5142717 ],\n       [0.50147045],\n       [0.5021436 ],\n       [0.5056932 ],\n       [0.5106908 ],\n       [0.49926603],\n       [0.49869895],\n       [0.512007  ],\n       [0.48451513],\n       [0.5029115 ],\n       [0.5142813 ],\n       [0.5021356 ],\n       [0.515212  ],\n       [0.5276077 ],\n       [0.49486187],\n       [0.5022117 ],\n       [0.5205736 ],\n       [0.4921169 ],\n       [0.49898338],\n       [0.5125177 ],\n       [0.51714903],\n       [0.49973804],\n       [0.5191994 ],\n       [0.4998641 ],\n       [0.49996763],\n       [0.49714682],\n       [0.49033445],\n       [0.497132  ],\n       [0.4968025 ],\n       [0.51939374],\n       [0.4893451 ],\n       [0.49302694],\n       [0.5003988 ],\n       [0.51134354],\n       [0.52257884],\n       [0.5105777 ],\n       [0.5022548 ],\n       [0.5005361 ],\n       [0.5177302 ],\n       [0.51077276],\n       [0.50811034],\n       [0.5214051 ],\n       [0.51424485],\n       [0.5195396 ],\n       [0.5100921 ],\n       [0.51471245],\n       [0.5066765 ],\n       [0.50674343],\n       [0.5108626 ],\n       [0.52026886],\n       [0.5081504 ],\n       [0.49301216],\n       [0.5049652 ],\n       [0.51210195],\n       [0.51400304],\n       [0.48728085],\n       [0.49278548],\n       [0.48582214],\n       [0.5250815 ],\n       [0.49608287],\n       [0.5159654 ],\n       [0.49938703],\n       [0.5021008 ],\n       [0.513169  ],\n       [0.497745  ],\n       [0.5051194 ],\n       [0.5111816 ],\n       [0.49034208],\n       [0.5102497 ],\n       [0.5039482 ],\n       [0.49356365],\n       [0.50642323],\n       [0.50007606],\n       [0.48559228],\n       [0.51606137],\n       [0.49414375],\n       [0.49020094],\n       [0.49173048],\n       [0.5103363 ],\n       [0.47681257],\n       [0.5018356 ],\n       [0.49021244],\n       [0.49902463],\n       [0.4919538 ],\n       [0.49103475],\n       [0.4940187 ],\n       [0.508163  ],\n       [0.49863273],\n       [0.5021798 ],\n       [0.49056157],\n       [0.50782835],\n       [0.50070584],\n       [0.49740502],\n       [0.5058262 ],\n       [0.48084626],\n       [0.53171194],\n       [0.5241771 ],\n       [0.5027802 ],\n       [0.5029126 ],\n       [0.51576984],\n       [0.5022446 ],\n       [0.49273318],\n       [0.49258173],\n       [0.52342707],\n       [0.49213782],\n       [0.5011217 ],\n       [0.49346656],\n       [0.51027   ],\n       [0.52801156],\n       [0.51302445],\n       [0.51545435],\n       [0.5006653 ],\n       [0.5245105 ],\n       [0.5045846 ],\n       [0.49478516],\n       [0.49994686],\n       [0.5079778 ],\n       [0.5096245 ],\n       [0.51162475],\n       [0.50352436],\n       [0.52029985],\n       [0.48850217],\n       [0.50234115],\n       [0.49940684],\n       [0.50646544],\n       [0.51148695],\n       [0.5384634 ],\n       [0.514016  ],\n       [0.5054804 ],\n       [0.5079261 ],\n       [0.5009979 ],\n       [0.5122126 ],\n       [0.5063877 ],\n       [0.5180584 ],\n       [0.4920234 ],\n       [0.51203376],\n       [0.5134807 ],\n       [0.49900162],\n       [0.49660236],\n       [0.49914932],\n       [0.5239852 ],\n       [0.49731895],\n       [0.50492424],\n       [0.49873346],\n       [0.5127995 ],\n       [0.50377005],\n       [0.5081568 ],\n       [0.49918804],\n       [0.4979206 ],\n       [0.51453704],\n       [0.49765292],\n       [0.50165063],\n       [0.5031862 ],\n       [0.5124783 ],\n       [0.5055784 ],\n       [0.5101066 ],\n       [0.5141149 ],\n       [0.51003057],\n       [0.49994257],\n       [0.5020552 ],\n       [0.5081377 ],\n       [0.49059266],\n       [0.49453855],\n       [0.51476115],\n       [0.49603352],\n       [0.48880112],\n       [0.5197677 ],\n       [0.5146704 ],\n       [0.5027563 ],\n       [0.51762515],\n       [0.50984573],\n       [0.48901597],\n       [0.50701374],\n       [0.5004247 ]], dtype=float32)"
     },
     "execution_count": 32,
     "metadata": {},
     "output_type": "execute_result"
    }
   ],
   "source": [
    "model_6.summary()"
   ],
   "metadata": {
    "collapsed": false,
    "ExecuteTime": {
     "end_time": "2023-07-30T14:52:19.462848900Z",
     "start_time": "2023-07-30T14:52:19.105224600Z"
    }
   },
   "id": "919b100bc4b680d3"
  },
  {
   "cell_type": "code",
   "execution_count": 33,
   "outputs": [
    {
     "data": {
      "text/plain": "(762,)"
     },
     "execution_count": 33,
     "metadata": {},
     "output_type": "execute_result"
    }
   ],
   "source": [
    "# Make predictions with USE TF Hub Model\n",
    "model_6_pred_probs = model_6.predict(val_sentences)\n",
    "model_6_pred_probs"
   ],
   "metadata": {
    "collapsed": false,
    "ExecuteTime": {
     "end_time": "2023-07-30T14:52:19.465367900Z",
     "start_time": "2023-07-30T14:52:19.462848900Z"
    }
   },
   "id": "4a8a44df422f998d"
  },
  {
   "cell_type": "code",
   "execution_count": 34,
   "outputs": [
    {
     "data": {
      "text/plain": "TensorShape([762])"
     },
     "execution_count": 34,
     "metadata": {},
     "output_type": "execute_result"
    }
   ],
   "source": [
    "val_labels.shape"
   ],
   "metadata": {
    "collapsed": false,
    "ExecuteTime": {
     "end_time": "2023-07-30T14:52:19.471480900Z",
     "start_time": "2023-07-30T14:52:19.466368300Z"
    }
   },
   "id": "7ea54591b2737b70"
  },
  {
   "cell_type": "code",
   "execution_count": 35,
   "outputs": [],
   "source": [
    "model_6_preds = tf.squeeze(tf.round(model_6_pred_probs))\n",
    "model_6_preds.shape"
   ],
   "metadata": {
    "collapsed": false,
    "ExecuteTime": {
     "end_time": "2023-07-30T14:52:19.504082500Z",
     "start_time": "2023-07-30T14:52:19.471480900Z"
    }
   },
   "id": "c834f0d18c4fc324"
  },
  {
   "cell_type": "code",
   "execution_count": 36,
   "outputs": [
    {
     "data": {
      "text/plain": "{'model_6_accuracy_score': 0.5328083989501312,\n 'model_6_precision': 0.5646698661818376,\n 'model_6_recall': {0.5328083989501312},\n 'model_6_f1score': {0.5237200785651015}}"
     },
     "execution_count": 36,
     "metadata": {},
     "output_type": "execute_result"
    }
   ],
   "source": [
    "from sklearn.metrics import accuracy_score, precision_recall_fscore_support\n",
    "\n",
    "model_6_accuracy_score = accuracy_score(val_labels, model_6_preds)\n",
    "model_6_precision, model_6_recall, model_6_f1score, _, =precision_recall_fscore_support(val_labels, model_6_preds, average = \"weighted\")"
   ],
   "metadata": {
    "collapsed": false,
    "ExecuteTime": {
     "end_time": "2023-07-30T14:52:19.512087400Z",
     "start_time": "2023-07-30T14:52:19.478163700Z"
    }
   },
   "id": "a0d126e66f87e173"
  },
  {
   "cell_type": "code",
   "execution_count": null,
   "outputs": [],
   "source": [
    "dict_result = {\"model_6_accuracy_score\": model_6_accuracy_score,\n",
    "               \"model_6_precision\": model_6_precision,\n",
    "               \"model_6_recall\": {model_6_recall},\n",
    "               \"model_6_f1score\": {model_6_f1score}}\n",
    "dict_result"
   ],
   "metadata": {
    "collapsed": false
   },
   "id": "acfa3bb352a28ad4"
  }
 ],
 "metadata": {
  "kernelspec": {
   "display_name": "Python 3",
   "language": "python",
   "name": "python3"
  },
  "language_info": {
   "codemirror_mode": {
    "name": "ipython",
    "version": 2
   },
   "file_extension": ".py",
   "mimetype": "text/x-python",
   "name": "python",
   "nbconvert_exporter": "python",
   "pygments_lexer": "ipython2",
   "version": "2.7.6"
  }
 },
 "nbformat": 4,
 "nbformat_minor": 5
}
