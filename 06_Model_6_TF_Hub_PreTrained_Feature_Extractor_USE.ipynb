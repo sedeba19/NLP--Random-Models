{
 "cells": [
  {
   "cell_type": "code",
   "execution_count": 1,
   "outputs": [
    {
     "data": {
      "text/plain": "'2.13.0'"
     },
     "execution_count": 1,
     "metadata": {},
     "output_type": "execute_result"
    }
   ],
   "source": [
    "import collections\n",
    "import os\n",
    "import tensorflow as tf\n",
    "import pandas as pd\n",
    "\n",
    "tf.__version__\n"
   ],
   "metadata": {
    "collapsed": false,
    "ExecuteTime": {
     "end_time": "2023-07-30T15:12:40.437520Z",
     "start_time": "2023-07-30T15:12:38.772744800Z"
    }
   },
   "id": "d895e3f341f9cd2c"
  },
  {
   "cell_type": "code",
   "execution_count": 2,
   "outputs": [],
   "source": [
    "train_dir = r'https://raw.githubusercontent.com/sedeba19/NLP--Random-Models/main/train.csv'\n",
    "test_dir = r'https://raw.githubusercontent.com/sedeba19/NLP--Random-Models/main/test.csv'"
   ],
   "metadata": {
    "collapsed": false,
    "ExecuteTime": {
     "end_time": "2023-07-30T15:12:40.437520Z",
     "start_time": "2023-07-30T15:12:40.424306600Z"
    }
   },
   "id": "f9e05dc9db4f2150"
  },
  {
   "cell_type": "code",
   "execution_count": 3,
   "outputs": [
    {
     "data": {
      "text/plain": "'https://raw.githubusercontent.com/sedeba19/NLP--Random-Models/main/train.csv'"
     },
     "execution_count": 3,
     "metadata": {},
     "output_type": "execute_result"
    }
   ],
   "source": [
    "train_dir"
   ],
   "metadata": {
    "collapsed": false,
    "ExecuteTime": {
     "end_time": "2023-07-30T15:12:40.438520300Z",
     "start_time": "2023-07-30T15:12:40.429045700Z"
    }
   },
   "id": "e237aa9b92bb079a"
  },
  {
   "cell_type": "code",
   "execution_count": 4,
   "outputs": [
    {
     "data": {
      "text/plain": "   id keyword location                                               text  \\\n0   1     NaN      NaN  Our Deeds are the Reason of this #earthquake M...   \n1   4     NaN      NaN             Forest fire near La Ronge Sask. Canada   \n2   5     NaN      NaN  All residents asked to 'shelter in place' are ...   \n3   6     NaN      NaN  13,000 people receive #wildfires evacuation or...   \n4   7     NaN      NaN  Just got sent this photo from Ruby #Alaska as ...   \n\n   target  \n0       1  \n1       1  \n2       1  \n3       1  \n4       1  ",
      "text/html": "<div>\n<style scoped>\n    .dataframe tbody tr th:only-of-type {\n        vertical-align: middle;\n    }\n\n    .dataframe tbody tr th {\n        vertical-align: top;\n    }\n\n    .dataframe thead th {\n        text-align: right;\n    }\n</style>\n<table border=\"1\" class=\"dataframe\">\n  <thead>\n    <tr style=\"text-align: right;\">\n      <th></th>\n      <th>id</th>\n      <th>keyword</th>\n      <th>location</th>\n      <th>text</th>\n      <th>target</th>\n    </tr>\n  </thead>\n  <tbody>\n    <tr>\n      <th>0</th>\n      <td>1</td>\n      <td>NaN</td>\n      <td>NaN</td>\n      <td>Our Deeds are the Reason of this #earthquake M...</td>\n      <td>1</td>\n    </tr>\n    <tr>\n      <th>1</th>\n      <td>4</td>\n      <td>NaN</td>\n      <td>NaN</td>\n      <td>Forest fire near La Ronge Sask. Canada</td>\n      <td>1</td>\n    </tr>\n    <tr>\n      <th>2</th>\n      <td>5</td>\n      <td>NaN</td>\n      <td>NaN</td>\n      <td>All residents asked to 'shelter in place' are ...</td>\n      <td>1</td>\n    </tr>\n    <tr>\n      <th>3</th>\n      <td>6</td>\n      <td>NaN</td>\n      <td>NaN</td>\n      <td>13,000 people receive #wildfires evacuation or...</td>\n      <td>1</td>\n    </tr>\n    <tr>\n      <th>4</th>\n      <td>7</td>\n      <td>NaN</td>\n      <td>NaN</td>\n      <td>Just got sent this photo from Ruby #Alaska as ...</td>\n      <td>1</td>\n    </tr>\n  </tbody>\n</table>\n</div>"
     },
     "execution_count": 4,
     "metadata": {},
     "output_type": "execute_result"
    }
   ],
   "source": [
    "# Make a train_df\n",
    "train_df = pd.read_csv(train_dir)\n",
    "test_df = pd.read_csv(test_dir)\n",
    "train_df.head()"
   ],
   "metadata": {
    "collapsed": false,
    "ExecuteTime": {
     "end_time": "2023-07-30T15:12:40.550817300Z",
     "start_time": "2023-07-30T15:12:40.432520500Z"
    }
   },
   "id": "c858f9a76b34b934"
  },
  {
   "cell_type": "code",
   "execution_count": 5,
   "outputs": [
    {
     "data": {
      "text/plain": "         id               keyword                  location  \\\n3228   4632  emergency%20services   Sydney, New South Wales   \n3706   5271                  fear                       NaN   \n6957   9982               tsunami         Land Of The Kings   \n2887   4149                 drown                       NaN   \n7464  10680                wounds  cody, austin follows ?*?   \n\n                                                   text  target  \n3228  Goulburn man Henry Van Bilsen missing: Emergen...       1  \n3706  The things we fear most in organizations--fluc...       0  \n6957                            @tsunami_esh ?? hey Esh       0  \n2887  @POTUS you until you drown by water entering t...       0  \n7464  Crawling in my skin\\nThese wounds they will no...       1  ",
      "text/html": "<div>\n<style scoped>\n    .dataframe tbody tr th:only-of-type {\n        vertical-align: middle;\n    }\n\n    .dataframe tbody tr th {\n        vertical-align: top;\n    }\n\n    .dataframe thead th {\n        text-align: right;\n    }\n</style>\n<table border=\"1\" class=\"dataframe\">\n  <thead>\n    <tr style=\"text-align: right;\">\n      <th></th>\n      <th>id</th>\n      <th>keyword</th>\n      <th>location</th>\n      <th>text</th>\n      <th>target</th>\n    </tr>\n  </thead>\n  <tbody>\n    <tr>\n      <th>3228</th>\n      <td>4632</td>\n      <td>emergency%20services</td>\n      <td>Sydney, New South Wales</td>\n      <td>Goulburn man Henry Van Bilsen missing: Emergen...</td>\n      <td>1</td>\n    </tr>\n    <tr>\n      <th>3706</th>\n      <td>5271</td>\n      <td>fear</td>\n      <td>NaN</td>\n      <td>The things we fear most in organizations--fluc...</td>\n      <td>0</td>\n    </tr>\n    <tr>\n      <th>6957</th>\n      <td>9982</td>\n      <td>tsunami</td>\n      <td>Land Of The Kings</td>\n      <td>@tsunami_esh ?? hey Esh</td>\n      <td>0</td>\n    </tr>\n    <tr>\n      <th>2887</th>\n      <td>4149</td>\n      <td>drown</td>\n      <td>NaN</td>\n      <td>@POTUS you until you drown by water entering t...</td>\n      <td>0</td>\n    </tr>\n    <tr>\n      <th>7464</th>\n      <td>10680</td>\n      <td>wounds</td>\n      <td>cody, austin follows ?*?</td>\n      <td>Crawling in my skin\\nThese wounds they will no...</td>\n      <td>1</td>\n    </tr>\n  </tbody>\n</table>\n</div>"
     },
     "execution_count": 5,
     "metadata": {},
     "output_type": "execute_result"
    }
   ],
   "source": [
    "# Shuffle training dataframe\n",
    "train_df_shuffled = train_df.sample(frac = 1, random_state = 1)\n",
    "train_df_shuffled.head()"
   ],
   "metadata": {
    "collapsed": false,
    "ExecuteTime": {
     "end_time": "2023-07-30T15:12:40.552820600Z",
     "start_time": "2023-07-30T15:12:40.550817300Z"
    }
   },
   "id": "ffa95adda1afec99"
  },
  {
   "cell_type": "code",
   "execution_count": 6,
   "outputs": [
    {
     "data": {
      "text/plain": "(7613, 5)"
     },
     "execution_count": 6,
     "metadata": {},
     "output_type": "execute_result"
    }
   ],
   "source": [
    "train_df_shuffled.shape"
   ],
   "metadata": {
    "collapsed": false,
    "ExecuteTime": {
     "end_time": "2023-07-30T15:12:40.559822Z",
     "start_time": "2023-07-30T15:12:40.552820600Z"
    }
   },
   "id": "66e71f2c2322a35c"
  },
  {
   "cell_type": "code",
   "execution_count": 7,
   "outputs": [
    {
     "data": {
      "text/plain": "target\n0    4342\n1    3271\nName: count, dtype: int64"
     },
     "execution_count": 7,
     "metadata": {},
     "output_type": "execute_result"
    }
   ],
   "source": [
    "# How many examples of each class?\n",
    "train_df['target'].value_counts()"
   ],
   "metadata": {
    "collapsed": false,
    "ExecuteTime": {
     "end_time": "2023-07-30T15:12:40.562825800Z",
     "start_time": "2023-07-30T15:12:40.558017200Z"
    }
   },
   "id": "e8f13f3fbc904937"
  },
  {
   "cell_type": "code",
   "execution_count": 8,
   "outputs": [
    {
     "data": {
      "text/plain": "(7613, 3263)"
     },
     "execution_count": 8,
     "metadata": {},
     "output_type": "execute_result"
    }
   ],
   "source": [
    "# How many total samples?\n",
    "len(train_df), len(test_df)"
   ],
   "metadata": {
    "collapsed": false,
    "ExecuteTime": {
     "end_time": "2023-07-30T15:12:40.570060600Z",
     "start_time": "2023-07-30T15:12:40.561825Z"
    }
   },
   "id": "6a3f06f716aed950"
  },
  {
   "cell_type": "code",
   "execution_count": 9,
   "outputs": [
    {
     "name": "stdout",
     "output_type": "stream",
     "text": [
      "Target:1 (real disaster)\n",
      "Text: \n",
      "Large sinkhole swallows entire pond in Lowndes County Georgia: Large sinkholeÛ_ http://t.co/bCLDQmMEHg #Occasion2B\n",
      "-----\n",
      "\n",
      "Target:0 (not a real disaster)\n",
      "Text: \n",
      "Heard theres two more deaths and a murder chrissie kills adam?  val and finn die? #emmerdale\n",
      "-----\n",
      "\n",
      "Target:1 (real disaster)\n",
      "Text: \n",
      "There's a fire in the Catalinas. Looks kinda cool. This picture doesn't do it justice. https://t.co/N0tAwGeZJx\n",
      "-----\n",
      "\n",
      "Target:1 (real disaster)\n",
      "Text: \n",
      "Here I'm the UK there isn't a deluge of Canadian themed tops around...The timing was perfect. I can't quite believe it. Mad.\n",
      "-----\n",
      "\n",
      "Target:1 (real disaster)\n",
      "Text: \n",
      "BMX issues Areal Flood Advisory for Shelby [AL] till Aug 5 9:00 PM CDT http://t.co/62OddEkVLi\n",
      "-----\n"
     ]
    }
   ],
   "source": [
    "# Visualize some random training examples\n",
    "import random\n",
    "random_index = random.randint(0, len(train_df)-5)\n",
    "for row in train_df_shuffled[[\"text\", \"target\"]][random_index: random_index +5].itertuples():\n",
    "    _, text, target = row\n",
    "    if target > 0:\n",
    "        print(f\"Target:{target}\", \"(real disaster)\")\n",
    "    else:\n",
    "        print(f\"Target:{target}\", \"(not a real disaster)\")\n",
    "    \n",
    "    print(f\"Text: \\n{text}\")\n",
    "    print(\"-----\\n\")"
   ],
   "metadata": {
    "collapsed": false,
    "ExecuteTime": {
     "end_time": "2023-07-30T15:12:40.581064500Z",
     "start_time": "2023-07-30T15:12:40.566358700Z"
    }
   },
   "id": "99ad01fd617f2fad"
  },
  {
   "cell_type": "markdown",
   "source": [
    "### Split data into training and validation sets"
   ],
   "metadata": {
    "collapsed": false,
    "ExecuteTime": {
     "end_time": "2023-07-30T14:52:14.736643400Z",
     "start_time": "2023-07-30T14:52:14.473630400Z"
    }
   },
   "id": "cc004f467eb6820b"
  },
  {
   "cell_type": "code",
   "execution_count": 10,
   "outputs": [],
   "source": [
    "from sklearn.model_selection import train_test_split\n",
    "\n",
    "train_sentences, val_sentences, train_labels, val_labels = train_test_split(train_df['text'],\n",
    "                                                                            train_df['target'],\n",
    "                                                                            test_size = 0.1,\n",
    "                                                                            random_state = 42)"
   ],
   "metadata": {
    "collapsed": false,
    "ExecuteTime": {
     "end_time": "2023-07-30T15:12:40.863139900Z",
     "start_time": "2023-07-30T15:12:40.573065700Z"
    }
   },
   "id": "e9962e431d6f4625"
  },
  {
   "cell_type": "code",
   "execution_count": 11,
   "outputs": [
    {
     "data": {
      "text/plain": "(7613,)"
     },
     "execution_count": 11,
     "metadata": {},
     "output_type": "execute_result"
    }
   ],
   "source": [
    "train_df['text'].shape"
   ],
   "metadata": {
    "collapsed": false,
    "ExecuteTime": {
     "end_time": "2023-07-30T15:12:40.872122400Z",
     "start_time": "2023-07-30T15:12:40.865142Z"
    }
   },
   "id": "2044aeeaed5209d8"
  },
  {
   "cell_type": "code",
   "execution_count": 12,
   "outputs": [
    {
     "data": {
      "text/plain": "0       Our Deeds are the Reason of this #earthquake M...\n1                  Forest fire near La Ronge Sask. Canada\n2       All residents asked to 'shelter in place' are ...\n3       13,000 people receive #wildfires evacuation or...\n4       Just got sent this photo from Ruby #Alaska as ...\n                              ...                        \n7608    Two giant cranes holding a bridge collapse int...\n7609    @aria_ahrary @TheTawniest The out of control w...\n7610    M1.94 [01:04 UTC]?5km S of Volcano Hawaii. htt...\n7611    Police investigating after an e-bike collided ...\n7612    The Latest: More Homes Razed by Northern Calif...\nName: text, Length: 7613, dtype: object"
     },
     "execution_count": 12,
     "metadata": {},
     "output_type": "execute_result"
    }
   ],
   "source": [
    "train_df[\"text\"]"
   ],
   "metadata": {
    "collapsed": false,
    "ExecuteTime": {
     "end_time": "2023-07-30T15:12:40.876624700Z",
     "start_time": "2023-07-30T15:12:40.867778300Z"
    }
   },
   "id": "aecfc9a6831f9cee"
  },
  {
   "cell_type": "code",
   "execution_count": 13,
   "outputs": [
    {
     "data": {
      "text/plain": "array(['Our Deeds are the Reason of this #earthquake May ALLAH Forgive us all',\n       'Forest fire near La Ronge Sask. Canada',\n       \"All residents asked to 'shelter in place' are being notified by officers. No other evacuation or shelter in place orders are expected\",\n       ...,\n       'M1.94 [01:04 UTC]?5km S of Volcano Hawaii. http://t.co/zDtoyd8EbJ',\n       'Police investigating after an e-bike collided with a car in Little Portugal. E-bike rider suffered serious non-life threatening injuries.',\n       'The Latest: More Homes Razed by Northern California Wildfire - ABC News http://t.co/YmY4rSkQ3d'],\n      dtype=object)"
     },
     "execution_count": 13,
     "metadata": {},
     "output_type": "execute_result"
    }
   ],
   "source": [
    "train_df['text'].to_numpy()"
   ],
   "metadata": {
    "collapsed": false,
    "ExecuteTime": {
     "end_time": "2023-07-30T15:12:40.878658800Z",
     "start_time": "2023-07-30T15:12:40.872122400Z"
    }
   },
   "id": "4cdc72f6e817f834"
  },
  {
   "cell_type": "code",
   "execution_count": 14,
   "outputs": [
    {
     "data": {
      "text/plain": "array(['Our Deeds are the Reason of this #earthquake May ALLAH Forgive us all',\n       'Forest fire near La Ronge Sask. Canada',\n       \"All residents asked to 'shelter in place' are being notified by officers. No other evacuation or shelter in place orders are expected\",\n       ...,\n       'M1.94 [01:04 UTC]?5km S of Volcano Hawaii. http://t.co/zDtoyd8EbJ',\n       'Police investigating after an e-bike collided with a car in Little Portugal. E-bike rider suffered serious non-life threatening injuries.',\n       'The Latest: More Homes Razed by Northern California Wildfire - ABC News http://t.co/YmY4rSkQ3d'],\n      dtype=object)"
     },
     "execution_count": 14,
     "metadata": {},
     "output_type": "execute_result"
    }
   ],
   "source": [
    "train_df['text'].to_numpy()"
   ],
   "metadata": {
    "collapsed": false,
    "ExecuteTime": {
     "end_time": "2023-07-30T15:12:40.881598200Z",
     "start_time": "2023-07-30T15:12:40.875624500Z"
    }
   },
   "id": "ec43b6635db1dc03"
  },
  {
   "cell_type": "code",
   "execution_count": 15,
   "outputs": [
    {
     "data": {
      "text/plain": "(6851, 762, 6851, 762)"
     },
     "execution_count": 15,
     "metadata": {},
     "output_type": "execute_result"
    }
   ],
   "source": [
    "len(train_sentences), len(val_sentences), len(train_labels), len(val_labels)"
   ],
   "metadata": {
    "collapsed": false,
    "ExecuteTime": {
     "end_time": "2023-07-30T15:12:40.883112300Z",
     "start_time": "2023-07-30T15:12:40.880665700Z"
    }
   },
   "id": "c4b936bb4e61352a"
  },
  {
   "cell_type": "markdown",
   "source": [
    "### Converting text into numbers: Text Vectorization also known as Tokenization"
   ],
   "metadata": {
    "collapsed": false,
    "ExecuteTime": {
     "end_time": "2023-07-30T14:52:14.767215800Z",
     "start_time": "2023-07-30T14:52:14.765053200Z"
    }
   },
   "id": "5777dedf87f2662b"
  },
  {
   "cell_type": "code",
   "execution_count": 16,
   "outputs": [
    {
     "data": {
      "text/plain": "101905"
     },
     "execution_count": 16,
     "metadata": {},
     "output_type": "execute_result"
    }
   ],
   "source": [
    "# Get the total words\n",
    "total_words = 0\n",
    "for i in train_sentences:\n",
    "    total_words += len(i.split())\n",
    "\n",
    "total_words"
   ],
   "metadata": {
    "collapsed": false,
    "ExecuteTime": {
     "end_time": "2023-07-30T15:12:40.895830500Z",
     "start_time": "2023-07-30T15:12:40.889112800Z"
    }
   },
   "id": "618457c173977155"
  },
  {
   "cell_type": "code",
   "execution_count": 17,
   "outputs": [
    {
     "data": {
      "text/plain": "(6851,)"
     },
     "execution_count": 17,
     "metadata": {},
     "output_type": "execute_result"
    }
   ],
   "source": [
    "train_sentences.shape"
   ],
   "metadata": {
    "collapsed": false,
    "ExecuteTime": {
     "end_time": "2023-07-30T15:12:40.896832200Z",
     "start_time": "2023-07-30T15:12:40.892675800Z"
    }
   },
   "id": "829d84b65c26bb92"
  },
  {
   "cell_type": "code",
   "execution_count": 18,
   "outputs": [
    {
     "data": {
      "text/plain": "15"
     },
     "execution_count": 18,
     "metadata": {},
     "output_type": "execute_result"
    }
   ],
   "source": [
    "# Get the average words per sentence or line\n",
    "avg_words_per_sentence = round(total_words/len(train_sentences))\n",
    "avg_words_per_sentence"
   ],
   "metadata": {
    "collapsed": false,
    "ExecuteTime": {
     "end_time": "2023-07-30T15:12:40.925828500Z",
     "start_time": "2023-07-30T15:12:40.896832200Z"
    }
   },
   "id": "a7a8bed44aec85d5"
  },
  {
   "cell_type": "code",
   "execution_count": 19,
   "outputs": [],
   "source": [
    "# Normally, total number of words is equal or less than the max vocabulary length\n",
    "max_vocab_length = 10000\n",
    "\n",
    "# max length of a statement is equal or more than the average word per sentence or line\n",
    "max_length = 15"
   ],
   "metadata": {
    "collapsed": false,
    "ExecuteTime": {
     "end_time": "2023-07-30T15:12:40.926827Z",
     "start_time": "2023-07-30T15:12:40.899805600Z"
    }
   },
   "id": "92ebee1bf68d8486"
  },
  {
   "cell_type": "code",
   "execution_count": 20,
   "outputs": [],
   "source": [
    "import tensorflow as tf\n",
    "from tensorflow.keras.layers.experimental.preprocessing import TextVectorization\n",
    "\n",
    "text_vectorizer = TextVectorization(max_tokens = max_vocab_length,\n",
    "                                    output_mode = \"int\",\n",
    "                                    output_sequence_length = max_length)\n",
    "\n",
    "# Fit the text vectorizer to the training set\n",
    "text_vectorizer.adapt(train_sentences)"
   ],
   "metadata": {
    "collapsed": false,
    "ExecuteTime": {
     "end_time": "2023-07-30T15:12:41.158490900Z",
     "start_time": "2023-07-30T15:12:40.902316500Z"
    }
   },
   "id": "8805b068faa29b89"
  },
  {
   "cell_type": "code",
   "execution_count": 21,
   "outputs": [
    {
     "name": "stdout",
     "output_type": "stream",
     "text": [
      "There's a flood in my street! Sentence length is 29.\n"
     ]
    },
    {
     "data": {
      "text/plain": "<tf.Tensor: shape=(1, 15), dtype=int64, numpy=\narray([[282,   3, 206,   4,  13, 674,   0,   0,   0,   0,   0,   0,   0,\n          0,   0]], dtype=int64)>"
     },
     "execution_count": 21,
     "metadata": {},
     "output_type": "execute_result"
    }
   ],
   "source": [
    "# Create a sample sentence and tokenize it\n",
    "samp_sentence = \"There's a flood in my street!\"\n",
    "print(samp_sentence, f\"Sentence length is {len(samp_sentence)}.\")\n",
    "text_vectorizer([samp_sentence])\n",
    "#len(tf.squeeze(text_vectorizer([samp_sentence])))"
   ],
   "metadata": {
    "collapsed": false,
    "ExecuteTime": {
     "end_time": "2023-07-30T15:12:41.191494700Z",
     "start_time": "2023-07-30T15:12:41.158490900Z"
    }
   },
   "id": "111d45283fbfd4ae"
  },
  {
   "cell_type": "code",
   "execution_count": 22,
   "outputs": [
    {
     "name": "stdout",
     "output_type": "stream",
     "text": [
      "Original text: \n",
      "\n",
      " @minhazmerchant Govt should pass the bills in the Pandemonium. UPA used to do it why cant NDA? \n",
      "\n",
      "Vectorized text:\n"
     ]
    },
    {
     "data": {
      "text/plain": "<tf.Tensor: shape=(1, 15), dtype=int64, numpy=\narray([[5077, 1071,  149, 1374,    2, 6054,    4,    2,  510, 7117,  560,\n           5,   69,   15,   92]], dtype=int64)>"
     },
     "execution_count": 22,
     "metadata": {},
     "output_type": "execute_result"
    }
   ],
   "source": [
    "# Choose random sentence from the training dataset and tokenize it\n",
    "rand_train_sentence = random.choice(train_sentences)\n",
    "print(f\"Original text: \\n\\n {rand_train_sentence} \\n\\nVectorized text:\")\n",
    "text_vectorizer([rand_train_sentence])"
   ],
   "metadata": {
    "collapsed": false,
    "ExecuteTime": {
     "end_time": "2023-07-30T15:12:41.193495900Z",
     "start_time": "2023-07-30T15:12:41.182002700Z"
    }
   },
   "id": "4f30ca7e95b2b5e5"
  },
  {
   "cell_type": "code",
   "execution_count": 23,
   "outputs": [
    {
     "data": {
      "text/plain": "['',\n '[UNK]',\n 'the',\n 'a',\n 'in',\n 'to',\n 'of',\n 'and',\n 'i',\n 'is',\n 'for',\n 'on',\n 'you',\n 'my',\n 'with',\n 'it',\n 'that',\n 'at',\n 'by',\n 'this',\n 'from',\n 'are',\n 'be',\n 'was',\n 'have',\n 'like',\n 'as',\n 'me',\n 'but',\n 'up',\n 'just',\n 'so',\n 'im',\n 'not',\n 'amp',\n 'your',\n 'out',\n 'all',\n 'after',\n 'its',\n 'has',\n 'no',\n 'will',\n 'an',\n 'fire',\n 'when',\n 'if',\n 'we',\n 'get',\n 'now',\n 'more',\n 'via',\n 'new',\n 'about',\n 'what',\n 'people',\n 'or',\n 'news',\n 'he',\n 'they',\n 'over',\n 'one',\n 'been',\n 'how',\n 'dont',\n 'who',\n 'video',\n 'into',\n 'were',\n 'do',\n 'us',\n 'can',\n 'emergency',\n '2',\n 'disaster',\n 'there',\n 'her',\n 'some',\n 'than',\n 'still',\n 'would',\n 'his',\n 'police',\n 'crash',\n 'burning',\n 'suicide',\n 'body',\n 'california',\n 'back',\n 'time',\n 'buildings',\n 'had',\n 'why',\n 'off',\n 'them',\n 'got',\n 'man',\n 'see',\n 'storm',\n 'know',\n 'going',\n 'cant',\n 'world',\n 'first',\n 'day',\n 'rt',\n 'nuclear',\n 'love',\n 'youtube',\n 'our',\n 'attack',\n 'go',\n 'fires',\n 'two',\n 'their',\n 'bomb',\n 'killed',\n '3',\n 'train',\n 'dead',\n 'car',\n 'war',\n 'life',\n 'may',\n 'watch',\n 'full',\n 'only',\n 'here',\n 'hiroshima',\n 'down',\n 'today',\n 'u',\n 'accident',\n 'think',\n 'many',\n 'good',\n 'way',\n 'families',\n 'too',\n 'then',\n 'say',\n 'being',\n 'last',\n 'could',\n 'years',\n 'want',\n 'did',\n 'home',\n 'best',\n 'should',\n 'need',\n 'mass',\n 'even',\n 'work',\n 'make',\n 'help',\n 'bombing',\n 'wildfire',\n 'please',\n 'look',\n 'lol',\n 'because',\n 'another',\n 'take',\n 'him',\n 'collapse',\n 'year',\n 'water',\n 'those',\n 'really',\n 'army',\n 'am',\n 'school',\n 'mh370',\n 'death',\n 'right',\n 'pm',\n 'black',\n 'much',\n 'forest',\n 'fatal',\n '5',\n 'youre',\n 'she',\n 'northern',\n '4',\n 'live',\n 'city',\n 'bomber',\n 'wreck',\n 'hot',\n 'great',\n 'every',\n '2015',\n 'old',\n 'let',\n 'legionnaires',\n 'fear',\n 'obama',\n 'latest',\n 'homes',\n 'flames',\n 'come',\n '1',\n 'never',\n 'getting',\n 'flood',\n '\\x89Û',\n 'where',\n 'said',\n 'japan',\n 'shit',\n 'floods',\n 'during',\n 'atomic',\n 'god',\n 'damage',\n 'under',\n 'near',\n 'feel',\n 'ever',\n 'earthquake',\n 'ass',\n 'which',\n 'since',\n 'read',\n 'oil',\n 'night',\n 'most',\n 'military',\n 'injured',\n 'hope',\n 'everyone',\n 'coming',\n 'any',\n 'without',\n 'while',\n 'well',\n 'thats',\n 'stop',\n 'next',\n 'hit',\n 'weather',\n 'these',\n 'state',\n 'little',\n 'flooding',\n 'evacuation',\n 'before',\n 'truck',\n 'severe',\n 's',\n 'content',\n 'always',\n 'until',\n 'top',\n 'through',\n 'smoke',\n 'plan',\n 'found',\n 'confirmed',\n 'cause',\n 'movie',\n 'fucking',\n 'face',\n 'debris',\n 'bloody',\n 'bad',\n 'weapon',\n 'warning',\n 'times',\n 'thunderstorm',\n 'set',\n 'says',\n 'natural',\n 'malaysia',\n 'liked',\n 'ive',\n 'gonna',\n 'free',\n 'fall',\n 'thunder',\n 'theres',\n 'sinking',\n 'saudi',\n 'refugees',\n 'made',\n 'loud',\n 'looks',\n 'injuries',\n 'house',\n 'hes',\n 'heat',\n 'cross',\n 'also',\n 'air',\n 'w',\n 'screaming',\n 'rain',\n 'murder',\n 'head',\n 'failure',\n 'explode',\n 'check',\n 'wreckage',\n 'wind',\n 'wild',\n 'trapped',\n 'survive',\n 'spill',\n 'reddit',\n 'panic',\n 'missing',\n 'lightning',\n 'family',\n 'change',\n 'whole',\n 'weapons',\n 'terrorist',\n 'service',\n 'run',\n 'rescuers',\n 'report',\n 'released',\n 'photo',\n 'outbreak',\n 'ill',\n 'food',\n 'evacuate',\n 'end',\n 'destroyed',\n 'deaths',\n 'boy',\n 'again',\n '70',\n 'terrorism',\n 'sinkhole',\n 'services',\n 'save',\n 'road',\n 'rescue',\n 'migrants',\n 'keep',\n 'high',\n 'harm',\n 'danger',\n 'county',\n 'collided',\n 'blood',\n 'big',\n 'bags',\n 'twister',\n 'trauma',\n 'tonight',\n 'summer',\n 'ruin',\n 'mosque',\n 'lives',\n 'least',\n 'hail',\n 'girl',\n 'fuck',\n 'fatalities',\n 'does',\n 'derailment',\n 'curfew',\n 'collapsed',\n 'charged',\n 'call',\n 'burned',\n 'breaking',\n 'boat',\n 'bag',\n 'attacked',\n 'ambulance',\n 'wrecked',\n 'wounded',\n 'white',\n 'week',\n 'update',\n 'things',\n 'structural',\n 'stock',\n 'someone',\n 'show',\n 'rioting',\n 'real',\n 'phone',\n 'mudslide',\n 'landslide',\n 'investigators',\n 'explosion',\n 'engulfed',\n 'displaced',\n 'devastation',\n 'destroy',\n 'deluge',\n 'crashed',\n 'catastrophe',\n 'bus',\n 'battle',\n 'away',\n 'area',\n 'apocalypse',\n 'whirlwind',\n 'survivors',\n 'survived',\n 'sunk',\n 'saw',\n 'sandstorm',\n 'post',\n 'other',\n 'massacre',\n 'island',\n 'injury',\n 'id',\n 'hundreds',\n 'hostages',\n 'horrible',\n 'hazardous',\n 'hazard',\n 'game',\n 'exploded',\n 'drought',\n 'bridge',\n 'bang',\n '40',\n 'windstorm',\n 'went',\n 'wave',\n 'soon',\n 'rescued',\n 'quarantined',\n 'national',\n 'market',\n 'kills',\n 'hurricane',\n 'heard',\n 'drowning',\n 'drown',\n 'detonate',\n 'destruction',\n 'derail',\n 'cliff',\n 'bombed',\n 'blown',\n 'around',\n 'airplane',\n '6',\n '\\x89ÛÒ',\n 'wounds',\n 'woman',\n 'trouble',\n 'traumatised',\n 'tragedy',\n 'thing',\n 'story',\n 'screams',\n 'put',\n 'past',\n 'ok',\n 'iran',\n 'inundated',\n 'group',\n 'flattened',\n 'fedex',\n 'caused',\n 'came',\n 'better',\n 'august',\n 'armageddon',\n 'anniversary',\n '15',\n 'women',\n 'wanna',\n 'violent',\n 'typhoon',\n 'tsunami',\n 'thank',\n 'security',\n 'razed',\n 'possible',\n 'meltdown',\n 'lot',\n 'isis',\n 'hostage',\n 'famine',\n 'electrocuted',\n 'ebay',\n 'dust',\n 'crush',\n 'collide',\n 'chemical',\n 'blew',\n 'bleeding',\n 'bioterror',\n 'against',\n 'zone',\n 'whats',\n 'use',\n 'twitter',\n 'tomorrow',\n 'sure',\n 'something',\n 'send',\n 'quarantine',\n 'plane',\n 'pkk',\n 'part',\n 'panicking',\n 'pandemonium',\n 'oh',\n 'must',\n 'longer',\n 'long',\n 'left',\n 'hijacker',\n 'heart',\n 'government',\n 'goes',\n 'due',\n 'didnt',\n 'detonated',\n 'desolation',\n 'collision',\n 'catastrophic',\n 'casualties',\n 'calgary',\n 'building',\n 'beautiful',\n 'bagging',\n 'affected',\n 'yet',\n 'volcano',\n 'very',\n 'thanks',\n 'st',\n 'screamed',\n 'river',\n 'riot',\n 'reunion',\n 'responders',\n 'red',\n 'obliteration',\n 'obliterated',\n 'nothing',\n 'music',\n 'minute',\n 'lava',\n 'land',\n 'hijacking',\n 'fatality',\n 'fan',\n 'drowned',\n 'detonation',\n 'demolish',\n 'cool',\n 'blast',\n 'believe',\n 'baby',\n 'used',\n 'ur',\n 'three',\n 'thought',\n 'sound',\n 'song',\n 'site',\n 'sirens',\n 'shoulder',\n 'seismic',\n 'same',\n 'prebreak',\n 'power',\n 'officials',\n 'obliterate',\n 'few',\n 'eyewitness',\n 'died',\n 'demolished',\n 'care',\n 'arson',\n 'airport',\n '9',\n 'turkey',\n 'traffic',\n 'such',\n 'stay',\n 'start',\n 'snowstorm',\n 'shooting',\n 'rubble',\n 'remember',\n 'rainstorm',\n 'murderer',\n 'media',\n 'making',\n 'kids',\n 'issues',\n 'israeli',\n 'india',\n 'having',\n 'far',\n 'evacuated',\n 'electrocute',\n 'doing',\n 'doesnt',\n 'derailed',\n 'demolition',\n 'crushed',\n 'brown',\n 'blazing',\n 'annihilated',\n '8',\n '7',\n '16yr',\n 'yes',\n 'wake',\n 'suspect',\n 'south',\n 'shot',\n 'reactor',\n 'policy',\n 'nowplaying',\n 'nearby',\n 'line',\n 'light',\n 'lets',\n 'leave',\n 'inside',\n 'horror',\n 'hijack',\n 'hell',\n 'health',\n 'gets',\n 'casualty',\n 'bc',\n 'already',\n 'actually',\n 'words',\n 'upheaval',\n 'trying',\n 'tornado',\n 'tell',\n 'sue',\n 'stretcher',\n 'second',\n 're\\x89Û',\n 'plans',\n 'pic',\n 'mp',\n 'men',\n 'maybe',\n 'low',\n 'lab',\n 'islam',\n 'hours',\n 'history',\n 'half',\n 'guys',\n 'fun',\n 'fight',\n 'done',\n 'deluged',\n 'declares',\n 'days',\n 'bodies',\n 'bestnaijamade',\n 'anything',\n 'almost',\n '20',\n '\\x89ÛÓ',\n 'wont',\n 'swallowed',\n 'support',\n 'street',\n 'searching',\n 'reuters',\n 'play',\n 'place',\n 'photos',\n 'person',\n 'peace',\n 'online',\n 'north',\n 'literally',\n 'hey',\n 'helicopter',\n 'find',\n 'cyclone',\n 'crews',\n 'business',\n 'bush',\n 'both',\n 'bioterrorism',\n 'bar',\n 'avalanche',\n 'aircraft',\n 'abc',\n '50',\n 'yeah',\n 'west',\n 'wait',\n 'typhoondevastated',\n 'theyre',\n 'siren',\n 'saipan',\n 'pick',\n 'name',\n 'money',\n 'la',\n 'kill',\n 'job',\n 'hellfire',\n 'hear',\n 'happy',\n 'eyes',\n 'die',\n 'data',\n 'conclusively',\n 'children',\n 'blight',\n 'blaze',\n 'ago',\n 'waves',\n 'trench',\n 'texas',\n 'team',\n 'space',\n 'projected',\n 'probably',\n 'picking',\n 'own',\n 'order',\n 'myself',\n 'memories',\n 'major',\n 'm',\n 'lost',\n 'jobs',\n 'hollywood',\n 'feared',\n 'effect',\n 'deal',\n 'd',\n 'center',\n 'case',\n 'book',\n 'bigger',\n 'anyone',\n 'american',\n 'ablaze',\n '12',\n '10',\n 'yourself',\n 'watching',\n 'tv',\n 'transport',\n 'town',\n 'spot',\n 'soudelor',\n 'ship',\n 'seen',\n 'saved',\n 'pretty',\n 'outside',\n 'officer',\n 'mom',\n 'miners',\n 'meek',\n 'leather',\n 'houses',\n 'hat',\n 'hard',\n 'flag',\n 'everything',\n 'daily',\n 'child',\n 'chance',\n 'called',\n 'banned',\n 'ball',\n 'annihilation',\n 'amid',\n '30',\n 'wow',\n 'trains',\n 'though',\n 'star',\n 'signs',\n 'side',\n 'shes',\n 'self',\n 'rise',\n 'refugio',\n 'rd',\n 'poor',\n 'once',\n 'okay',\n 'n',\n 'move',\n 'might',\n 'manslaughter',\n 'makes',\n 'hailstorm',\n 'gbbo',\n 'friends',\n 'flash',\n 'fast',\n 'emmerdale',\n 'east',\n 'desolate',\n 'damn',\n 'crisis',\n 'crazy',\n 'course',\n 'couple',\n 'country',\n 'costlier',\n 'centre',\n 'caught',\n 'cake',\n 'blizzard',\n 'become',\n 'angry',\n 'alone',\n 'youth',\n 'wrong',\n 'win',\n 'vs',\n 'virgin',\n 'truth',\n 'temple',\n 'sorry',\n 'reports',\n 'reason',\n 'playing',\n 'pain',\n 'omg',\n 'official',\n 'myanmar',\n 'mayhem',\n 'looking',\n 'listen',\n 'level',\n 'ladies',\n 'knock',\n 'isnt',\n 'ignition',\n 'huge',\n 'heavy',\n 'hate',\n 'guy',\n 'gun',\n 'global',\n 'finally',\n 'feeling',\n 'eye',\n 'downtown',\n 'control',\n 'computers',\n 'closed',\n 'class',\n 'beach',\n 'bbc',\n 'b',\n 'appears',\n 'across',\n '60',\n '13',\n '11yearold',\n 'yours',\n 'womens',\n 'wanted',\n 'view',\n 'usa',\n 'united',\n 'try',\n 'totally',\n 'toddler',\n 'till',\n 'thousands',\n 'takes',\n 'taken',\n 't',\n 'stand',\n 'russian',\n 'running',\n 'reddits',\n 'quiz',\n 'pay',\n 'pakistan',\n 'others',\n 'mop',\n 'marks',\n 'mad',\n 'link',\n 'libya',\n 'issued',\n 'instead',\n 'happened',\n 'gt',\n 'giant',\n 'gems',\n 'gave',\n 'front',\n 'follow',\n 'film',\n 'experts',\n 'else',\n 'drive',\n 'devastated',\n 'declaration',\n 'coaches',\n 'cnn',\n 'christian',\n 'anthrax',\n 'aftershock',\n '11',\n 'worst',\n 'working',\n 'village',\n 'vehicle',\n 'unconfirmed',\n 'thursday',\n 'talk',\n 'subreddits',\n 'sounds',\n 'shows',\n 'scared',\n 'ready',\n 'potus',\n 'park',\n 'niggas',\n 'neighbours',\n 'nagasaki',\n 'mount',\n 'miss',\n 'mishaps',\n 'lord',\n 'led',\n 'learn',\n 'large',\n 'landing',\n 'israel',\n 'haha',\n 'gop',\n 'germs',\n 'galactic',\n 'fukushima',\n 'following',\n 'favorite',\n 'escape',\n 'entire',\n 'ebola',\n 'driving',\n 'download',\n 'climate',\n 'chinas',\n 'china',\n 'cars',\n 'behind',\n 'aug',\n 'arsonist',\n 'aint',\n 'added',\n 'action',\n '25',\n '100',\n '05',\n 'wonder',\n 'tweet',\n 'turn',\n 'trust',\n 'tree',\n 'told',\n 'sign',\n 'safety',\n 'russia',\n 'rules',\n 'rock',\n 'reported',\n 'radio',\n 'r',\n 'pray',\n 'pradesh',\n 'ppl',\n 'point',\n 'patience',\n 'party',\n 'parole',\n 'pamela',\n 'pakistani',\n 'outrage',\n 'offensive',\n 'nws',\n 'needs',\n 'nearly',\n 'muslims',\n 'morning',\n 'moment',\n ...]"
     },
     "execution_count": 23,
     "metadata": {},
     "output_type": "execute_result"
    }
   ],
   "source": [
    "# Get unique words in the vocabulary\n",
    "words_in_vocab = text_vectorizer.get_vocabulary()\n",
    "words_in_vocab"
   ],
   "metadata": {
    "collapsed": false,
    "ExecuteTime": {
     "end_time": "2023-07-30T15:12:41.216377400Z",
     "start_time": "2023-07-30T15:12:41.191494700Z"
    }
   },
   "id": "a9796849d92692a"
  },
  {
   "cell_type": "code",
   "execution_count": 24,
   "outputs": [
    {
     "data": {
      "text/plain": "10000"
     },
     "execution_count": 24,
     "metadata": {},
     "output_type": "execute_result"
    }
   ],
   "source": [
    "len(words_in_vocab)"
   ],
   "metadata": {
    "collapsed": false,
    "ExecuteTime": {
     "end_time": "2023-07-30T15:12:41.217377Z",
     "start_time": "2023-07-30T15:12:41.208007300Z"
    }
   },
   "id": "1fc1d49d18c2f968"
  },
  {
   "cell_type": "code",
   "execution_count": 25,
   "outputs": [
    {
     "data": {
      "text/plain": "['', '[UNK]', 'the', 'a', 'in']"
     },
     "execution_count": 25,
     "metadata": {},
     "output_type": "execute_result"
    }
   ],
   "source": [
    "# Top 5 words in words_in_vocab\n",
    "words_in_vocab[:5]"
   ],
   "metadata": {
    "collapsed": false,
    "ExecuteTime": {
     "end_time": "2023-07-30T15:12:41.217377Z",
     "start_time": "2023-07-30T15:12:41.213030100Z"
    }
   },
   "id": "60913b2c06167547"
  },
  {
   "cell_type": "code",
   "execution_count": 26,
   "outputs": [
    {
     "data": {
      "text/plain": "['pakthey', 'pakistan\\x89Ûªs', 'pakistans', 'pajamas', 'paints']"
     },
     "execution_count": 26,
     "metadata": {},
     "output_type": "execute_result"
    }
   ],
   "source": [
    "# Least 5 words in words_in_vocab\n",
    "words_in_vocab[-5:]"
   ],
   "metadata": {
    "collapsed": false,
    "ExecuteTime": {
     "end_time": "2023-07-30T15:12:41.241453Z",
     "start_time": "2023-07-30T15:12:41.217377Z"
    }
   },
   "id": "4b66d97a81a1ab9b"
  },
  {
   "cell_type": "markdown",
   "source": [
    "### Embedding layer\n",
    "\n",
    "To make our embedding, we are going to use TensorFlow’s embedding layer: https://www.tensorflow.org/api/docs/python/tf/keras/layers/\n",
    "\n",
    "The parameters are below mostly used.\n",
    "* input_dim = size of the vocabulary\n",
    "* output_dim = size of the output embedding vector.  For example, a value of 100 would mean each token gets represented by a vector 100 long\n",
    "* input_length = length of the sequences being passed to the embedding layer"
   ],
   "metadata": {
    "collapsed": false,
    "ExecuteTime": {
     "end_time": "2023-07-30T14:52:15.088918200Z",
     "start_time": "2023-07-30T14:52:15.075138400Z"
    }
   },
   "id": "4d47ece46e5b3070"
  },
  {
   "cell_type": "code",
   "execution_count": 27,
   "outputs": [],
   "source": [
    "from tensorflow.keras import layers\n",
    "\n",
    "embedding = layers.Embedding(input_dim = max_vocab_length,\n",
    "                             output_dim = 64,\n",
    "                             embeddings_initializer = \"uniform\",\n",
    "                             input_length = max_length)"
   ],
   "metadata": {
    "collapsed": false,
    "ExecuteTime": {
     "end_time": "2023-07-30T15:12:41.242451600Z",
     "start_time": "2023-07-30T15:12:41.221335300Z"
    }
   },
   "id": "55b4d3e382cb85d7"
  },
  {
   "cell_type": "code",
   "execution_count": 28,
   "outputs": [
    {
     "name": "stdout",
     "output_type": "stream",
     "text": [
      "Original text: Lets collide untill we fill the space.. ??\n",
      "\n",
      "Vectorized text: [[ 626  491 7119   47 2468    2  727    0    0    0    0    0    0    0\n",
      "     0]]\n",
      "\n",
      "Vectorized text shape: (1, 15)\n",
      "Embbedded text: [[[-0.02228637 -0.00947329 -0.0163114  -0.03736948  0.02488824\n",
      "    0.01472025 -0.00469341 -0.03942858 -0.02593633  0.01290803\n",
      "    0.00384271 -0.04834062 -0.04896084 -0.01508756  0.0196147\n",
      "    0.04230246  0.00835015 -0.04076647  0.02260426  0.00933318\n",
      "    0.01028373  0.04660355  0.00659395 -0.03558195 -0.02024691\n",
      "   -0.02573478  0.036111   -0.0085351   0.00478745 -0.04428923\n",
      "    0.02805993 -0.04240767  0.04449243  0.0447212   0.04168984\n",
      "    0.04138031 -0.03626964 -0.00903473 -0.03090723 -0.00973574\n",
      "    0.01069944  0.00698551 -0.04655854 -0.0372542   0.03168334\n",
      "   -0.00199701  0.03509508 -0.03886942  0.02392096 -0.04088578\n",
      "    0.02755543 -0.0294963  -0.03834801  0.00479911 -0.02095217\n",
      "   -0.03763348 -0.0410137   0.00165931 -0.04156733  0.04389076\n",
      "   -0.04110622 -0.02194468  0.01512226  0.0328048 ]\n",
      "  [-0.01022817 -0.03823709 -0.00051683 -0.01640289  0.01894664\n",
      "    0.00834162 -0.03370185  0.03314263 -0.00443059 -0.03837278\n",
      "    0.03839209 -0.03367183  0.03220285 -0.03758126 -0.00756745\n",
      "    0.03253826 -0.02237403 -0.00663925 -0.00330063 -0.00088724\n",
      "    0.01933983 -0.04848475 -0.03250017  0.02979631 -0.01010738\n",
      "    0.04773331 -0.0009931   0.03693085 -0.02521619 -0.02011813\n",
      "   -0.03288448 -0.04870975  0.00897432  0.04633543 -0.04403258\n",
      "   -0.00885012 -0.01061149 -0.0055448  -0.01913638 -0.02859252\n",
      "   -0.02384726  0.00415415 -0.0165121   0.02632186  0.03146664\n",
      "    0.02443106  0.0488323  -0.00660036  0.02002771  0.03659633\n",
      "   -0.02234436 -0.03267404  0.04771404 -0.03534162  0.03596606\n",
      "   -0.00809169  0.04164666 -0.03989134 -0.03651198  0.03121184\n",
      "    0.00539807 -0.01619671 -0.03811217  0.00823236]\n",
      "  [-0.04372546  0.00520724 -0.00915661 -0.03722178  0.0289186\n",
      "    0.01236546  0.04240583 -0.04493593  0.00995691 -0.02386338\n",
      "   -0.0297929  -0.01231743 -0.02899756 -0.0343814   0.02905137\n",
      "    0.03922575 -0.00530807  0.01456864 -0.01571508  0.00088844\n",
      "    0.02613432 -0.00956831  0.02174347  0.0156892   0.04370641\n",
      "    0.01356165 -0.02066454  0.04690199 -0.01987994 -0.02683616\n",
      "   -0.0276265   0.04591899 -0.04512702  0.0394535  -0.01938769\n",
      "    0.00812235  0.00515478  0.01543417  0.02368942 -0.00165529\n",
      "   -0.03813414 -0.01863978  0.02176068  0.04295733  0.03751699\n",
      "   -0.03190924  0.04466255 -0.00498683  0.04248908 -0.03332242\n",
      "    0.04406722  0.01080091 -0.01380505 -0.0374376   0.01053306\n",
      "    0.02047676  0.01495108  0.04007279  0.01023477  0.03871099\n",
      "    0.01695875  0.02738285  0.03879639  0.0058005 ]\n",
      "  [ 0.02920263  0.04971378  0.03473199  0.0130875  -0.02762201\n",
      "   -0.00494983 -0.01286445  0.03255749 -0.04242616 -0.03392445\n",
      "    0.01647173 -0.01029843  0.04612551 -0.0119109  -0.02869887\n",
      "   -0.00507526  0.04426653 -0.04102083  0.01670699 -0.00093782\n",
      "    0.01655722  0.0428355   0.0443656   0.03511257 -0.01199192\n",
      "    0.02202225 -0.01074113  0.04975997 -0.02432616  0.0424505\n",
      "    0.00860326 -0.00568248  0.04157772  0.00237351  0.00827562\n",
      "    0.03749979  0.01105725  0.02014215  0.04981423  0.01907853\n",
      "    0.01575572  0.0498906   0.01164117  0.01567277 -0.00081347\n",
      "   -0.02083496  0.03211076  0.03068778  0.01046226  0.0258728\n",
      "    0.01534939  0.00060351  0.04724335 -0.00495305  0.03684094\n",
      "    0.04911407  0.02719018 -0.00723755 -0.0192161   0.00622742\n",
      "   -0.03947335 -0.03776094  0.02316425  0.0385041 ]\n",
      "  [ 0.03848753 -0.01933032 -0.02617842 -0.01403878 -0.00027846\n",
      "    0.01015172  0.00352823  0.00269301 -0.00600945 -0.00209219\n",
      "    0.02286177 -0.01543234 -0.02396084 -0.04793487  0.01039635\n",
      "   -0.04262323 -0.04243241  0.04535551  0.00700229  0.00434145\n",
      "   -0.02027775 -0.00674707  0.03060112  0.04746148  0.03280224\n",
      "   -0.03977656 -0.024682    0.01511312  0.02086284  0.03258473\n",
      "   -0.00542134 -0.0125703  -0.00815711  0.0092549  -0.04958295\n",
      "   -0.01965098  0.00496048 -0.02423212  0.0407621   0.04550162\n",
      "   -0.04324225 -0.04557718  0.04721424  0.02624327  0.03878787\n",
      "   -0.02840983 -0.01382707 -0.03928583  0.01297177 -0.04783889\n",
      "    0.01724765  0.01422471  0.00052209 -0.00286238 -0.01334742\n",
      "   -0.04579188  0.01026998  0.04384119 -0.01561994 -0.04149131\n",
      "    0.0341573   0.02488519 -0.03984056  0.00892147]\n",
      "  [-0.02708508  0.04965894  0.04051662  0.02914846  0.04443674\n",
      "    0.02662574  0.01411248  0.02200473 -0.01228289 -0.04829121\n",
      "    0.0048118   0.01876063  0.01630552  0.01097337 -0.01613625\n",
      "   -0.01875566 -0.04343662 -0.03448039 -0.04335756 -0.01364882\n",
      "    0.03383405  0.00779451  0.0163135  -0.0034014   0.00482976\n",
      "    0.03232546 -0.04985049 -0.04154929  0.02140458  0.02805133\n",
      "    0.01476851  0.03151243  0.00293275 -0.02337917 -0.03798509\n",
      "    0.03882735  0.00248072 -0.02972579 -0.01192727 -0.00266548\n",
      "    0.01544065 -0.02798169  0.01902909 -0.02462359 -0.03178244\n",
      "   -0.03986734 -0.0112287   0.02582092 -0.01708878 -0.0127903\n",
      "    0.02969683  0.02319943  0.04189991 -0.02481036 -0.01819395\n",
      "    0.03679596  0.01866559  0.00933083 -0.01212888 -0.01391644\n",
      "   -0.01540346  0.02386696 -0.0251072  -0.00307603]\n",
      "  [-0.00540753 -0.01182829  0.00154807 -0.02132887 -0.01203083\n",
      "   -0.00394533  0.03512548  0.0054456   0.02061111 -0.03468733\n",
      "    0.02720989 -0.04972483 -0.0185229  -0.01773433 -0.035156\n",
      "    0.04156886  0.02509303 -0.01668207  0.03282985  0.0363992\n",
      "    0.03861255  0.01572372  0.03118826  0.0133731   0.0461414\n",
      "    0.0451178   0.02804026 -0.01163647 -0.02861047 -0.01288254\n",
      "    0.04563545  0.00345091 -0.02036186 -0.01945457 -0.04997891\n",
      "    0.04112517  0.02687276  0.02199754  0.00826667  0.01932125\n",
      "    0.00970497  0.00420656  0.00549524  0.00193956 -0.03174825\n",
      "   -0.03553001  0.02612833  0.00548806 -0.04696239 -0.0407997\n",
      "    0.02822531 -0.02086525 -0.01206238 -0.03318733 -0.02239518\n",
      "    0.04499158 -0.02443092 -0.02379743 -0.0189774  -0.03486509\n",
      "   -0.03086122 -0.04171659  0.02771965  0.04050196]\n",
      "  [ 0.02678944 -0.01542832  0.02486474 -0.04417811  0.04080186\n",
      "   -0.02358704  0.01198534 -0.01125752 -0.03957989 -0.02235328\n",
      "    0.00796112 -0.01322802 -0.03660922 -0.04657666  0.04916031\n",
      "   -0.01065811  0.04089289  0.02294424 -0.04618485  0.02122059\n",
      "    0.01390146  0.01298766 -0.00667439  0.02209932  0.0042352\n",
      "    0.01398076  0.02658344  0.04961644 -0.01653987 -0.03817176\n",
      "    0.04418143 -0.02402734 -0.0070788  -0.03430863 -0.0078419\n",
      "    0.01675246  0.01031953 -0.03072915 -0.0193244  -0.04095539\n",
      "    0.00217821 -0.01414555 -0.01487554  0.04034681  0.04178761\n",
      "   -0.01258165  0.01367239  0.00390815 -0.02837065  0.02120653\n",
      "   -0.03871487 -0.00759262 -0.03068845 -0.02641526  0.01742047\n",
      "   -0.04911796 -0.03836137  0.04672093 -0.03579197 -0.0483897\n",
      "    0.01167325  0.04976786 -0.0145595  -0.00456334]\n",
      "  [ 0.02678944 -0.01542832  0.02486474 -0.04417811  0.04080186\n",
      "   -0.02358704  0.01198534 -0.01125752 -0.03957989 -0.02235328\n",
      "    0.00796112 -0.01322802 -0.03660922 -0.04657666  0.04916031\n",
      "   -0.01065811  0.04089289  0.02294424 -0.04618485  0.02122059\n",
      "    0.01390146  0.01298766 -0.00667439  0.02209932  0.0042352\n",
      "    0.01398076  0.02658344  0.04961644 -0.01653987 -0.03817176\n",
      "    0.04418143 -0.02402734 -0.0070788  -0.03430863 -0.0078419\n",
      "    0.01675246  0.01031953 -0.03072915 -0.0193244  -0.04095539\n",
      "    0.00217821 -0.01414555 -0.01487554  0.04034681  0.04178761\n",
      "   -0.01258165  0.01367239  0.00390815 -0.02837065  0.02120653\n",
      "   -0.03871487 -0.00759262 -0.03068845 -0.02641526  0.01742047\n",
      "   -0.04911796 -0.03836137  0.04672093 -0.03579197 -0.0483897\n",
      "    0.01167325  0.04976786 -0.0145595  -0.00456334]\n",
      "  [ 0.02678944 -0.01542832  0.02486474 -0.04417811  0.04080186\n",
      "   -0.02358704  0.01198534 -0.01125752 -0.03957989 -0.02235328\n",
      "    0.00796112 -0.01322802 -0.03660922 -0.04657666  0.04916031\n",
      "   -0.01065811  0.04089289  0.02294424 -0.04618485  0.02122059\n",
      "    0.01390146  0.01298766 -0.00667439  0.02209932  0.0042352\n",
      "    0.01398076  0.02658344  0.04961644 -0.01653987 -0.03817176\n",
      "    0.04418143 -0.02402734 -0.0070788  -0.03430863 -0.0078419\n",
      "    0.01675246  0.01031953 -0.03072915 -0.0193244  -0.04095539\n",
      "    0.00217821 -0.01414555 -0.01487554  0.04034681  0.04178761\n",
      "   -0.01258165  0.01367239  0.00390815 -0.02837065  0.02120653\n",
      "   -0.03871487 -0.00759262 -0.03068845 -0.02641526  0.01742047\n",
      "   -0.04911796 -0.03836137  0.04672093 -0.03579197 -0.0483897\n",
      "    0.01167325  0.04976786 -0.0145595  -0.00456334]\n",
      "  [ 0.02678944 -0.01542832  0.02486474 -0.04417811  0.04080186\n",
      "   -0.02358704  0.01198534 -0.01125752 -0.03957989 -0.02235328\n",
      "    0.00796112 -0.01322802 -0.03660922 -0.04657666  0.04916031\n",
      "   -0.01065811  0.04089289  0.02294424 -0.04618485  0.02122059\n",
      "    0.01390146  0.01298766 -0.00667439  0.02209932  0.0042352\n",
      "    0.01398076  0.02658344  0.04961644 -0.01653987 -0.03817176\n",
      "    0.04418143 -0.02402734 -0.0070788  -0.03430863 -0.0078419\n",
      "    0.01675246  0.01031953 -0.03072915 -0.0193244  -0.04095539\n",
      "    0.00217821 -0.01414555 -0.01487554  0.04034681  0.04178761\n",
      "   -0.01258165  0.01367239  0.00390815 -0.02837065  0.02120653\n",
      "   -0.03871487 -0.00759262 -0.03068845 -0.02641526  0.01742047\n",
      "   -0.04911796 -0.03836137  0.04672093 -0.03579197 -0.0483897\n",
      "    0.01167325  0.04976786 -0.0145595  -0.00456334]\n",
      "  [ 0.02678944 -0.01542832  0.02486474 -0.04417811  0.04080186\n",
      "   -0.02358704  0.01198534 -0.01125752 -0.03957989 -0.02235328\n",
      "    0.00796112 -0.01322802 -0.03660922 -0.04657666  0.04916031\n",
      "   -0.01065811  0.04089289  0.02294424 -0.04618485  0.02122059\n",
      "    0.01390146  0.01298766 -0.00667439  0.02209932  0.0042352\n",
      "    0.01398076  0.02658344  0.04961644 -0.01653987 -0.03817176\n",
      "    0.04418143 -0.02402734 -0.0070788  -0.03430863 -0.0078419\n",
      "    0.01675246  0.01031953 -0.03072915 -0.0193244  -0.04095539\n",
      "    0.00217821 -0.01414555 -0.01487554  0.04034681  0.04178761\n",
      "   -0.01258165  0.01367239  0.00390815 -0.02837065  0.02120653\n",
      "   -0.03871487 -0.00759262 -0.03068845 -0.02641526  0.01742047\n",
      "   -0.04911796 -0.03836137  0.04672093 -0.03579197 -0.0483897\n",
      "    0.01167325  0.04976786 -0.0145595  -0.00456334]\n",
      "  [ 0.02678944 -0.01542832  0.02486474 -0.04417811  0.04080186\n",
      "   -0.02358704  0.01198534 -0.01125752 -0.03957989 -0.02235328\n",
      "    0.00796112 -0.01322802 -0.03660922 -0.04657666  0.04916031\n",
      "   -0.01065811  0.04089289  0.02294424 -0.04618485  0.02122059\n",
      "    0.01390146  0.01298766 -0.00667439  0.02209932  0.0042352\n",
      "    0.01398076  0.02658344  0.04961644 -0.01653987 -0.03817176\n",
      "    0.04418143 -0.02402734 -0.0070788  -0.03430863 -0.0078419\n",
      "    0.01675246  0.01031953 -0.03072915 -0.0193244  -0.04095539\n",
      "    0.00217821 -0.01414555 -0.01487554  0.04034681  0.04178761\n",
      "   -0.01258165  0.01367239  0.00390815 -0.02837065  0.02120653\n",
      "   -0.03871487 -0.00759262 -0.03068845 -0.02641526  0.01742047\n",
      "   -0.04911796 -0.03836137  0.04672093 -0.03579197 -0.0483897\n",
      "    0.01167325  0.04976786 -0.0145595  -0.00456334]\n",
      "  [ 0.02678944 -0.01542832  0.02486474 -0.04417811  0.04080186\n",
      "   -0.02358704  0.01198534 -0.01125752 -0.03957989 -0.02235328\n",
      "    0.00796112 -0.01322802 -0.03660922 -0.04657666  0.04916031\n",
      "   -0.01065811  0.04089289  0.02294424 -0.04618485  0.02122059\n",
      "    0.01390146  0.01298766 -0.00667439  0.02209932  0.0042352\n",
      "    0.01398076  0.02658344  0.04961644 -0.01653987 -0.03817176\n",
      "    0.04418143 -0.02402734 -0.0070788  -0.03430863 -0.0078419\n",
      "    0.01675246  0.01031953 -0.03072915 -0.0193244  -0.04095539\n",
      "    0.00217821 -0.01414555 -0.01487554  0.04034681  0.04178761\n",
      "   -0.01258165  0.01367239  0.00390815 -0.02837065  0.02120653\n",
      "   -0.03871487 -0.00759262 -0.03068845 -0.02641526  0.01742047\n",
      "   -0.04911796 -0.03836137  0.04672093 -0.03579197 -0.0483897\n",
      "    0.01167325  0.04976786 -0.0145595  -0.00456334]\n",
      "  [ 0.02678944 -0.01542832  0.02486474 -0.04417811  0.04080186\n",
      "   -0.02358704  0.01198534 -0.01125752 -0.03957989 -0.02235328\n",
      "    0.00796112 -0.01322802 -0.03660922 -0.04657666  0.04916031\n",
      "   -0.01065811  0.04089289  0.02294424 -0.04618485  0.02122059\n",
      "    0.01390146  0.01298766 -0.00667439  0.02209932  0.0042352\n",
      "    0.01398076  0.02658344  0.04961644 -0.01653987 -0.03817176\n",
      "    0.04418143 -0.02402734 -0.0070788  -0.03430863 -0.0078419\n",
      "    0.01675246  0.01031953 -0.03072915 -0.0193244  -0.04095539\n",
      "    0.00217821 -0.01414555 -0.01487554  0.04034681  0.04178761\n",
      "   -0.01258165  0.01367239  0.00390815 -0.02837065  0.02120653\n",
      "   -0.03871487 -0.00759262 -0.03068845 -0.02641526  0.01742047\n",
      "   -0.04911796 -0.03836137  0.04672093 -0.03579197 -0.0483897\n",
      "    0.01167325  0.04976786 -0.0145595  -0.00456334]]]\n",
      "Embedded text shape: (1, 15, 64)\n"
     ]
    }
   ],
   "source": [
    "# Get a random sentence from the training set and return Original text, Vectorized text, Embedded text\n",
    "rand_sentence = random.choice(train_sentences)\n",
    "print(f\"Original text: {rand_sentence}\\n\")\n",
    "print(f\"Vectorized text: {text_vectorizer([rand_sentence])}\\n\")\n",
    "print(f\"Vectorized text shape: {text_vectorizer([rand_sentence]).shape}\")\n",
    "print(f\"Embbedded text: {embedding(text_vectorizer([rand_sentence]))}\")\n",
    "print(f\"Embedded text shape: {embedding(text_vectorizer([rand_sentence])).shape}\")"
   ],
   "metadata": {
    "collapsed": false,
    "ExecuteTime": {
     "end_time": "2023-07-30T15:12:41.280342200Z",
     "start_time": "2023-07-30T15:12:41.226452600Z"
    }
   },
   "id": "2d8028a4f822acb"
  },
  {
   "cell_type": "markdown",
   "source": [
    "### Model_6: TensorFlow Hub Pretrained Feature Extractor: Universal Sentence Encoder\n",
    "\n",
    "https://tfhub.dev/google/universal-sentence-encoder/4\n",
    "See how the USE was created here: https://arvix.org/abs/1803.11175"
   ],
   "metadata": {
    "collapsed": false,
    "ExecuteTime": {
     "end_time": "2023-07-30T14:52:18.714544300Z",
     "start_time": "2023-07-30T14:52:15.108113400Z"
    }
   },
   "id": "1acc1fffc619d4fe"
  },
  {
   "cell_type": "code",
   "execution_count": 29,
   "outputs": [],
   "source": [
    "# Create a Keras Layer using the USE Pretrained Layer from TensorFlow Hub\n",
    "import tensorflow_hub as hub\n",
    "sentence_encoder_layer = hub.KerasLayer(\"https://tfhub.dev/google/universal-sentence-encoder/4\",\n",
    "                                        input_shape = [],\n",
    "                                        dtype = tf.string,\n",
    "                                        trainable = False,\n",
    "                                        name = 'USE')"
   ],
   "metadata": {
    "collapsed": false,
    "ExecuteTime": {
     "end_time": "2023-07-30T15:12:44.777847400Z",
     "start_time": "2023-07-30T15:12:41.252343500Z"
    }
   },
   "id": "d9f96ffbb39f57d0"
  },
  {
   "cell_type": "code",
   "execution_count": 30,
   "outputs": [],
   "source": [
    "# Create model using the Sequential API\n",
    "model_6 = tf.keras.Sequential([\n",
    "    sentence_encoder_layer,\n",
    "    layers.Dense(64, activation = 'relu'),\n",
    "    layers.Dense(1, activation = 'sigmoid')\n",
    "],  name = \"Model_6_USE\")\n",
    "\n",
    "# Compile the model\n",
    "model_6.compile(loss = 'binary_crossentropy',\n",
    "                optimizer= tf.keras.optimizers.Adam(),\n",
    "                metrics = ['accuracy'])"
   ],
   "metadata": {
    "collapsed": false,
    "ExecuteTime": {
     "end_time": "2023-07-30T15:12:45.118570500Z",
     "start_time": "2023-07-30T15:12:44.781849300Z"
    }
   },
   "id": "136ed6188ce4a85d"
  },
  {
   "cell_type": "code",
   "execution_count": 31,
   "outputs": [
    {
     "name": "stdout",
     "output_type": "stream",
     "text": [
      "Model: \"Model_6_USE\"\n",
      "_________________________________________________________________\n",
      " Layer (type)                Output Shape              Param #   \n",
      "=================================================================\n",
      " USE (KerasLayer)            (None, 512)               256797824 \n",
      "                                                                 \n",
      " dense (Dense)               (None, 64)                32832     \n",
      "                                                                 \n",
      " dense_1 (Dense)             (None, 1)                 65        \n",
      "                                                                 \n",
      "=================================================================\n",
      "Total params: 256830721 (979.73 MB)\n",
      "Trainable params: 32897 (128.50 KB)\n",
      "Non-trainable params: 256797824 (979.61 MB)\n",
      "_________________________________________________________________\n"
     ]
    }
   ],
   "source": [
    "model_6.summary()"
   ],
   "metadata": {
    "collapsed": false,
    "ExecuteTime": {
     "end_time": "2023-07-30T15:12:45.130325500Z",
     "start_time": "2023-07-30T15:12:45.118570500Z"
    }
   },
   "id": "919b100bc4b680d3"
  },
  {
   "cell_type": "code",
   "execution_count": 32,
   "outputs": [
    {
     "name": "stdout",
     "output_type": "stream",
     "text": [
      "24/24 [==============================] - 0s 3ms/step\n"
     ]
    },
    {
     "data": {
      "text/plain": "array([[0.4924408 ],\n       [0.48849168],\n       [0.50193673],\n       [0.52213603],\n       [0.4912856 ],\n       [0.51232547],\n       [0.5129209 ],\n       [0.49586514],\n       [0.49343225],\n       [0.51077175],\n       [0.49312463],\n       [0.4901473 ],\n       [0.4940431 ],\n       [0.5176412 ],\n       [0.5052407 ],\n       [0.50227845],\n       [0.53047943],\n       [0.500984  ],\n       [0.5200668 ],\n       [0.49704862],\n       [0.49331227],\n       [0.5361298 ],\n       [0.47368258],\n       [0.503551  ],\n       [0.4929105 ],\n       [0.4973081 ],\n       [0.5297302 ],\n       [0.50074947],\n       [0.50397336],\n       [0.50943464],\n       [0.49893928],\n       [0.50273246],\n       [0.49815634],\n       [0.527015  ],\n       [0.5055498 ],\n       [0.5033864 ],\n       [0.48147637],\n       [0.4970862 ],\n       [0.49884704],\n       [0.5139729 ],\n       [0.49933702],\n       [0.5059863 ],\n       [0.49705234],\n       [0.49817935],\n       [0.50032777],\n       [0.5048313 ],\n       [0.5057713 ],\n       [0.5090591 ],\n       [0.5019066 ],\n       [0.48779076],\n       [0.49267998],\n       [0.5199159 ],\n       [0.50730544],\n       [0.49957356],\n       [0.5063309 ],\n       [0.49568754],\n       [0.5048007 ],\n       [0.49935278],\n       [0.5073272 ],\n       [0.4974154 ],\n       [0.5059044 ],\n       [0.50248605],\n       [0.50860304],\n       [0.49937502],\n       [0.512195  ],\n       [0.503867  ],\n       [0.5124905 ],\n       [0.52126086],\n       [0.503943  ],\n       [0.482449  ],\n       [0.4932255 ],\n       [0.49728748],\n       [0.50875306],\n       [0.5101433 ],\n       [0.4853591 ],\n       [0.50888634],\n       [0.5183674 ],\n       [0.52260363],\n       [0.51013845],\n       [0.53374815],\n       [0.52097875],\n       [0.5277092 ],\n       [0.49165872],\n       [0.5019281 ],\n       [0.52047205],\n       [0.50315255],\n       [0.50888056],\n       [0.5015822 ],\n       [0.49241918],\n       [0.50583297],\n       [0.505383  ],\n       [0.49343997],\n       [0.503256  ],\n       [0.48735893],\n       [0.48986706],\n       [0.48783153],\n       [0.5038159 ],\n       [0.5019048 ],\n       [0.5057951 ],\n       [0.5220476 ],\n       [0.5088534 ],\n       [0.4924994 ],\n       [0.4905679 ],\n       [0.4995653 ],\n       [0.5135187 ],\n       [0.50984734],\n       [0.49084735],\n       [0.51583874],\n       [0.51442945],\n       [0.50535464],\n       [0.5047389 ],\n       [0.5273679 ],\n       [0.51065177],\n       [0.5205364 ],\n       [0.51709175],\n       [0.49633634],\n       [0.52027655],\n       [0.5111185 ],\n       [0.50644386],\n       [0.50775695],\n       [0.50465894],\n       [0.50357527],\n       [0.49943578],\n       [0.5273867 ],\n       [0.50277257],\n       [0.49103916],\n       [0.49967843],\n       [0.51585525],\n       [0.5157002 ],\n       [0.503278  ],\n       [0.5096848 ],\n       [0.4946371 ],\n       [0.50384533],\n       [0.515116  ],\n       [0.50280464],\n       [0.50009924],\n       [0.5222899 ],\n       [0.5343273 ],\n       [0.4919632 ],\n       [0.50228906],\n       [0.5081604 ],\n       [0.49261376],\n       [0.5014514 ],\n       [0.50571936],\n       [0.5019902 ],\n       [0.4761742 ],\n       [0.5032124 ],\n       [0.489266  ],\n       [0.5121985 ],\n       [0.5021316 ],\n       [0.5068808 ],\n       [0.51099515],\n       [0.50468624],\n       [0.5010912 ],\n       [0.5049949 ],\n       [0.51109886],\n       [0.50409716],\n       [0.5260535 ],\n       [0.5030445 ],\n       [0.5125673 ],\n       [0.51189727],\n       [0.49577835],\n       [0.5138064 ],\n       [0.50318426],\n       [0.5224903 ],\n       [0.5037476 ],\n       [0.5144613 ],\n       [0.517328  ],\n       [0.51074004],\n       [0.50339776],\n       [0.48790115],\n       [0.51221937],\n       [0.5123117 ],\n       [0.49330872],\n       [0.4988508 ],\n       [0.51637256],\n       [0.5025448 ],\n       [0.5141968 ],\n       [0.49954864],\n       [0.49695313],\n       [0.506478  ],\n       [0.52783376],\n       [0.51491404],\n       [0.4997116 ],\n       [0.5096676 ],\n       [0.4810276 ],\n       [0.49934733],\n       [0.47923252],\n       [0.51239985],\n       [0.5108337 ],\n       [0.5029135 ],\n       [0.52221256],\n       [0.5391473 ],\n       [0.52817756],\n       [0.5101136 ],\n       [0.49052817],\n       [0.5082264 ],\n       [0.507288  ],\n       [0.51645017],\n       [0.51332146],\n       [0.51954484],\n       [0.5341091 ],\n       [0.50995594],\n       [0.48141572],\n       [0.51538754],\n       [0.5019901 ],\n       [0.5063394 ],\n       [0.49522755],\n       [0.50388026],\n       [0.50552136],\n       [0.52176195],\n       [0.51371413],\n       [0.5078605 ],\n       [0.51241225],\n       [0.49793836],\n       [0.4927031 ],\n       [0.50488955],\n       [0.5056677 ],\n       [0.5131574 ],\n       [0.5069086 ],\n       [0.5167928 ],\n       [0.5120309 ],\n       [0.51218206],\n       [0.52065814],\n       [0.5038593 ],\n       [0.52002317],\n       [0.4996424 ],\n       [0.49972194],\n       [0.51514304],\n       [0.5000396 ],\n       [0.5142784 ],\n       [0.5154561 ],\n       [0.5019801 ],\n       [0.50067234],\n       [0.4858424 ],\n       [0.5085272 ],\n       [0.52121395],\n       [0.47420692],\n       [0.51380754],\n       [0.5204828 ],\n       [0.51426476],\n       [0.5036313 ],\n       [0.51009977],\n       [0.50237304],\n       [0.52077264],\n       [0.49610305],\n       [0.49637023],\n       [0.51086926],\n       [0.49864736],\n       [0.50518936],\n       [0.5147761 ],\n       [0.5167276 ],\n       [0.5138398 ],\n       [0.47670493],\n       [0.49702063],\n       [0.49750736],\n       [0.506913  ],\n       [0.52477896],\n       [0.519027  ],\n       [0.50981796],\n       [0.5084802 ],\n       [0.5100637 ],\n       [0.5260459 ],\n       [0.499207  ],\n       [0.5045709 ],\n       [0.5114568 ],\n       [0.5023337 ],\n       [0.5229071 ],\n       [0.48928195],\n       [0.50061417],\n       [0.49037465],\n       [0.502296  ],\n       [0.49298948],\n       [0.50083405],\n       [0.48979652],\n       [0.5123422 ],\n       [0.4947143 ],\n       [0.522077  ],\n       [0.51314574],\n       [0.49263725],\n       [0.50551397],\n       [0.50837004],\n       [0.50217426],\n       [0.50276417],\n       [0.5006583 ],\n       [0.51131505],\n       [0.51399887],\n       [0.49964294],\n       [0.513178  ],\n       [0.5189706 ],\n       [0.49309555],\n       [0.5163963 ],\n       [0.48419887],\n       [0.4939488 ],\n       [0.5316017 ],\n       [0.51466316],\n       [0.487582  ],\n       [0.4908879 ],\n       [0.53047943],\n       [0.49112937],\n       [0.51281947],\n       [0.49281454],\n       [0.49290577],\n       [0.4898282 ],\n       [0.52293104],\n       [0.50904787],\n       [0.50590146],\n       [0.4918956 ],\n       [0.49302554],\n       [0.5010135 ],\n       [0.528033  ],\n       [0.4969827 ],\n       [0.50736773],\n       [0.49268514],\n       [0.51340616],\n       [0.49380443],\n       [0.50312465],\n       [0.5040712 ],\n       [0.52235824],\n       [0.5079433 ],\n       [0.48368937],\n       [0.5066614 ],\n       [0.4961954 ],\n       [0.49547502],\n       [0.49543366],\n       [0.49260172],\n       [0.5143266 ],\n       [0.5332591 ],\n       [0.5054302 ],\n       [0.5108792 ],\n       [0.49226084],\n       [0.5059322 ],\n       [0.50429004],\n       [0.50839955],\n       [0.4719505 ],\n       [0.5358072 ],\n       [0.5171167 ],\n       [0.49833494],\n       [0.53533506],\n       [0.5138093 ],\n       [0.51002395],\n       [0.51360714],\n       [0.49379766],\n       [0.5088176 ],\n       [0.48980358],\n       [0.49565125],\n       [0.50387675],\n       [0.49748573],\n       [0.5013368 ],\n       [0.50733143],\n       [0.5108924 ],\n       [0.5078014 ],\n       [0.49875495],\n       [0.52091295],\n       [0.4819041 ],\n       [0.5145045 ],\n       [0.49833632],\n       [0.50917846],\n       [0.5031036 ],\n       [0.53048885],\n       [0.48392808],\n       [0.5288    ],\n       [0.51208216],\n       [0.49366394],\n       [0.5093942 ],\n       [0.5173437 ],\n       [0.5240677 ],\n       [0.52257967],\n       [0.4827213 ],\n       [0.49995568],\n       [0.48467946],\n       [0.51311684],\n       [0.50017405],\n       [0.49106494],\n       [0.48522404],\n       [0.51617825],\n       [0.48007053],\n       [0.5166799 ],\n       [0.5091014 ],\n       [0.50034255],\n       [0.5215003 ],\n       [0.5017435 ],\n       [0.49713165],\n       [0.5123581 ],\n       [0.5113829 ],\n       [0.5014444 ],\n       [0.49436468],\n       [0.5164658 ],\n       [0.49734402],\n       [0.49667773],\n       [0.49537688],\n       [0.48560637],\n       [0.5242626 ],\n       [0.506905  ],\n       [0.49698037],\n       [0.5224611 ],\n       [0.5161117 ],\n       [0.5081143 ],\n       [0.5014738 ],\n       [0.49064386],\n       [0.51587087],\n       [0.5336585 ],\n       [0.5008221 ],\n       [0.50021464],\n       [0.4932865 ],\n       [0.5062351 ],\n       [0.50263834],\n       [0.49921104],\n       [0.5168179 ],\n       [0.5136788 ],\n       [0.50956464],\n       [0.49542466],\n       [0.49775115],\n       [0.50172776],\n       [0.50116843],\n       [0.48957643],\n       [0.51902956],\n       [0.48601002],\n       [0.503792  ],\n       [0.5157541 ],\n       [0.4997531 ],\n       [0.5183938 ],\n       [0.50357103],\n       [0.50054336],\n       [0.4948713 ],\n       [0.51951116],\n       [0.49620694],\n       [0.5063289 ],\n       [0.50608885],\n       [0.5021741 ],\n       [0.50455546],\n       [0.5173416 ],\n       [0.5109938 ],\n       [0.5095114 ],\n       [0.48049566],\n       [0.51040316],\n       [0.5078317 ],\n       [0.5011274 ],\n       [0.5150559 ],\n       [0.49147743],\n       [0.5232671 ],\n       [0.5073975 ],\n       [0.50512904],\n       [0.51242226],\n       [0.496264  ],\n       [0.50998753],\n       [0.49772036],\n       [0.49203053],\n       [0.51721656],\n       [0.50051713],\n       [0.4980906 ],\n       [0.5019041 ],\n       [0.5180733 ],\n       [0.5207449 ],\n       [0.5208461 ],\n       [0.4979061 ],\n       [0.4847896 ],\n       [0.5063412 ],\n       [0.51591426],\n       [0.52229464],\n       [0.49858975],\n       [0.49362546],\n       [0.5195313 ],\n       [0.5079639 ],\n       [0.47639337],\n       [0.5212121 ],\n       [0.5128717 ],\n       [0.4958561 ],\n       [0.49471498],\n       [0.5023885 ],\n       [0.506594  ],\n       [0.5186705 ],\n       [0.508208  ],\n       [0.48080412],\n       [0.50121003],\n       [0.5139708 ],\n       [0.48567504],\n       [0.5062829 ],\n       [0.51127446],\n       [0.48560977],\n       [0.5230215 ],\n       [0.5258443 ],\n       [0.50480384],\n       [0.515418  ],\n       [0.49452022],\n       [0.507448  ],\n       [0.50397235],\n       [0.51113397],\n       [0.49367484],\n       [0.49680853],\n       [0.49305403],\n       [0.51221144],\n       [0.48328862],\n       [0.49421   ],\n       [0.5134815 ],\n       [0.49667296],\n       [0.49238962],\n       [0.50958526],\n       [0.49062544],\n       [0.51403606],\n       [0.5118294 ],\n       [0.49250498],\n       [0.5021406 ],\n       [0.49942526],\n       [0.50127673],\n       [0.49798104],\n       [0.53774416],\n       [0.50590146],\n       [0.53846246],\n       [0.51606786],\n       [0.5121698 ],\n       [0.49481604],\n       [0.50004214],\n       [0.51018304],\n       [0.5134054 ],\n       [0.5053629 ],\n       [0.5055956 ],\n       [0.48470616],\n       [0.49899447],\n       [0.4965246 ],\n       [0.5076041 ],\n       [0.4909988 ],\n       [0.50631803],\n       [0.50690424],\n       [0.501078  ],\n       [0.49517667],\n       [0.5028553 ],\n       [0.50630754],\n       [0.48750743],\n       [0.5056448 ],\n       [0.52407616],\n       [0.49695814],\n       [0.5051181 ],\n       [0.5006395 ],\n       [0.49378887],\n       [0.5048789 ],\n       [0.5148722 ],\n       [0.5053378 ],\n       [0.51338637],\n       [0.50206465],\n       [0.49235177],\n       [0.50532985],\n       [0.52008635],\n       [0.5268092 ],\n       [0.4952971 ],\n       [0.49468023],\n       [0.5073998 ],\n       [0.50486535],\n       [0.5024426 ],\n       [0.51082057],\n       [0.50491685],\n       [0.50206566],\n       [0.513401  ],\n       [0.5086258 ],\n       [0.5236764 ],\n       [0.4884794 ],\n       [0.50582993],\n       [0.5130689 ],\n       [0.50945735],\n       [0.4919175 ],\n       [0.49701762],\n       [0.49404818],\n       [0.51270086],\n       [0.50365484],\n       [0.5040392 ],\n       [0.5157872 ],\n       [0.48677725],\n       [0.50452185],\n       [0.5042428 ],\n       [0.494282  ],\n       [0.49855313],\n       [0.50021094],\n       [0.5011123 ],\n       [0.49923167],\n       [0.5039557 ],\n       [0.4953747 ],\n       [0.515801  ],\n       [0.49949357],\n       [0.49363458],\n       [0.49090153],\n       [0.49227172],\n       [0.51183456],\n       [0.49892694],\n       [0.4984318 ],\n       [0.49992496],\n       [0.5234042 ],\n       [0.47701672],\n       [0.5197767 ],\n       [0.509298  ],\n       [0.49279374],\n       [0.50112915],\n       [0.5158208 ],\n       [0.4937889 ],\n       [0.5080483 ],\n       [0.4965939 ],\n       [0.51224524],\n       [0.48752224],\n       [0.5162082 ],\n       [0.5091325 ],\n       [0.49635565],\n       [0.49633086],\n       [0.5271658 ],\n       [0.5175701 ],\n       [0.50416803],\n       [0.5102592 ],\n       [0.5076094 ],\n       [0.510852  ],\n       [0.5073689 ],\n       [0.48822093],\n       [0.50450695],\n       [0.5216976 ],\n       [0.49583274],\n       [0.4989442 ],\n       [0.50049007],\n       [0.4980593 ],\n       [0.491091  ],\n       [0.50118464],\n       [0.49737298],\n       [0.49953097],\n       [0.47700346],\n       [0.49239498],\n       [0.49755764],\n       [0.4999729 ],\n       [0.5007849 ],\n       [0.5088667 ],\n       [0.50590247],\n       [0.517945  ],\n       [0.50661427],\n       [0.48735872],\n       [0.5149597 ],\n       [0.5053618 ],\n       [0.48698887],\n       [0.5082513 ],\n       [0.5209647 ],\n       [0.49605757],\n       [0.5089987 ],\n       [0.50660825],\n       [0.48965243],\n       [0.5052232 ],\n       [0.5134656 ],\n       [0.49616757],\n       [0.5155757 ],\n       [0.51196545],\n       [0.5148524 ],\n       [0.51070976],\n       [0.47708294],\n       [0.4989139 ],\n       [0.50761586],\n       [0.5102065 ],\n       [0.53112185],\n       [0.5071034 ],\n       [0.49028918],\n       [0.48098752],\n       [0.5287167 ],\n       [0.5230276 ],\n       [0.51476884],\n       [0.5159706 ],\n       [0.49574846],\n       [0.5140008 ],\n       [0.5064128 ],\n       [0.5030013 ],\n       [0.51804304],\n       [0.5063876 ],\n       [0.48744836],\n       [0.5159632 ],\n       [0.49795195],\n       [0.5261428 ],\n       [0.49707025],\n       [0.52646923],\n       [0.50000376],\n       [0.51439536],\n       [0.482707  ],\n       [0.49693272],\n       [0.51258254],\n       [0.50848967],\n       [0.5016752 ],\n       [0.5042233 ],\n       [0.49069947],\n       [0.49877766],\n       [0.5052186 ],\n       [0.48490292],\n       [0.49525148],\n       [0.50064355],\n       [0.4976137 ],\n       [0.4885528 ],\n       [0.51133996],\n       [0.5168402 ],\n       [0.5032818 ],\n       [0.4933337 ],\n       [0.5039665 ],\n       [0.48785236],\n       [0.51123697],\n       [0.49316767],\n       [0.50493634],\n       [0.5136784 ],\n       [0.50235176],\n       [0.49368685],\n       [0.4917203 ],\n       [0.5087786 ],\n       [0.49949968],\n       [0.5054771 ],\n       [0.49922928],\n       [0.50889933],\n       [0.48898077],\n       [0.51624423],\n       [0.48848426],\n       [0.4920907 ],\n       [0.5198032 ],\n       [0.518278  ],\n       [0.49727687],\n       [0.5099047 ],\n       [0.52296907],\n       [0.49773708],\n       [0.518927  ],\n       [0.5013273 ],\n       [0.51216245],\n       [0.5072652 ],\n       [0.48677298],\n       [0.5026584 ],\n       [0.52344704],\n       [0.4935337 ],\n       [0.5005626 ],\n       [0.47535586],\n       [0.5058919 ],\n       [0.49437356],\n       [0.4895441 ],\n       [0.5135288 ],\n       [0.5148493 ],\n       [0.4810985 ],\n       [0.50674146],\n       [0.4912989 ],\n       [0.50576395],\n       [0.5122737 ],\n       [0.5044935 ],\n       [0.5244992 ],\n       [0.51015055],\n       [0.4821497 ],\n       [0.50477636],\n       [0.5114654 ],\n       [0.519687  ],\n       [0.50767606],\n       [0.49613082],\n       [0.5072389 ],\n       [0.5134615 ],\n       [0.49968997],\n       [0.51383215],\n       [0.49566725],\n       [0.50645715],\n       [0.49637988],\n       [0.5419585 ],\n       [0.5136751 ],\n       [0.505535  ],\n       [0.51796067],\n       [0.49190366],\n       [0.5107442 ],\n       [0.5136205 ],\n       [0.49739197],\n       [0.5039166 ],\n       [0.48886898],\n       [0.49593663],\n       [0.50167114],\n       [0.5032578 ]], dtype=float32)"
     },
     "execution_count": 32,
     "metadata": {},
     "output_type": "execute_result"
    }
   ],
   "source": [
    "# Make predictions with USE TF Hub Model\n",
    "model_6_pred_probs = model_6.predict(val_sentences)\n",
    "model_6_pred_probs"
   ],
   "metadata": {
    "collapsed": false,
    "ExecuteTime": {
     "end_time": "2023-07-30T15:12:45.506722700Z",
     "start_time": "2023-07-30T15:12:45.129325600Z"
    }
   },
   "id": "4a8a44df422f998d"
  },
  {
   "cell_type": "code",
   "execution_count": 33,
   "outputs": [
    {
     "data": {
      "text/plain": "(762,)"
     },
     "execution_count": 33,
     "metadata": {},
     "output_type": "execute_result"
    }
   ],
   "source": [
    "val_labels.shape"
   ],
   "metadata": {
    "collapsed": false,
    "ExecuteTime": {
     "end_time": "2023-07-30T15:12:45.513460700Z",
     "start_time": "2023-07-30T15:12:45.506722700Z"
    }
   },
   "id": "7ea54591b2737b70"
  },
  {
   "cell_type": "code",
   "execution_count": 34,
   "outputs": [
    {
     "data": {
      "text/plain": "TensorShape([762])"
     },
     "execution_count": 34,
     "metadata": {},
     "output_type": "execute_result"
    }
   ],
   "source": [
    "model_6_preds = tf.squeeze(tf.round(model_6_pred_probs))\n",
    "model_6_preds.shape"
   ],
   "metadata": {
    "collapsed": false,
    "ExecuteTime": {
     "end_time": "2023-07-30T15:12:45.516469300Z",
     "start_time": "2023-07-30T15:12:45.510126800Z"
    }
   },
   "id": "c834f0d18c4fc324"
  },
  {
   "cell_type": "code",
   "execution_count": 35,
   "outputs": [],
   "source": [
    "from sklearn.metrics import accuracy_score, precision_recall_fscore_support\n",
    "\n",
    "model_6_accuracy_score = accuracy_score(val_labels, model_6_preds)\n",
    "model_6_precision, model_6_recall, model_6_f1score, _, =precision_recall_fscore_support(val_labels, model_6_preds, average = \"weighted\")"
   ],
   "metadata": {
    "collapsed": false,
    "ExecuteTime": {
     "end_time": "2023-07-30T15:12:45.523437800Z",
     "start_time": "2023-07-30T15:12:45.515467500Z"
    }
   },
   "id": "a0d126e66f87e173"
  },
  {
   "cell_type": "code",
   "execution_count": 36,
   "outputs": [
    {
     "data": {
      "text/plain": "{'model_6_accuracy_score': 0.5498687664041995,\n 'model_6_precision': 0.5858114524864652,\n 'model_6_recall': {0.5498687664041995},\n 'model_6_f1score': {0.5401814795219433}}"
     },
     "execution_count": 36,
     "metadata": {},
     "output_type": "execute_result"
    }
   ],
   "source": [
    "dict_result = {\"model_6_accuracy_score\": model_6_accuracy_score,\n",
    "               \"model_6_precision\": model_6_precision,\n",
    "               \"model_6_recall\": {model_6_recall},\n",
    "               \"model_6_f1score\": {model_6_f1score}}\n",
    "dict_result"
   ],
   "metadata": {
    "collapsed": false,
    "ExecuteTime": {
     "end_time": "2023-07-30T15:12:45.523437800Z",
     "start_time": "2023-07-30T15:12:45.520835600Z"
    }
   },
   "id": "acfa3bb352a28ad4"
  }
 ],
 "metadata": {
  "kernelspec": {
   "display_name": "Python 3",
   "language": "python",
   "name": "python3"
  },
  "language_info": {
   "codemirror_mode": {
    "name": "ipython",
    "version": 2
   },
   "file_extension": ".py",
   "mimetype": "text/x-python",
   "name": "python",
   "nbconvert_exporter": "python",
   "pygments_lexer": "ipython2",
   "version": "2.7.6"
  }
 },
 "nbformat": 4,
 "nbformat_minor": 5
}
