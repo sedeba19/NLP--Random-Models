{
 "cells": [
  {
   "cell_type": "code",
   "execution_count": 1,
   "outputs": [
    {
     "data": {
      "text/plain": "'2.13.0'"
     },
     "execution_count": 1,
     "metadata": {},
     "output_type": "execute_result"
    }
   ],
   "source": [
    "import collections\n",
    "import os\n",
    "import tensorflow as tf\n",
    "import pandas as pd\n",
    "\n",
    "tf.__version__\n"
   ],
   "metadata": {
    "collapsed": false,
    "ExecuteTime": {
     "end_time": "2023-07-30T14:53:04.224847100Z",
     "start_time": "2023-07-30T14:53:02.678692600Z"
    }
   },
   "id": "d895e3f341f9cd2c"
  },
  {
   "cell_type": "code",
   "execution_count": 2,
   "outputs": [],
   "source": [
    "main_dir = r\"F:\\linux_ubuntu_codes\\codes\\nlp_lecture\""
   ],
   "metadata": {
    "collapsed": false,
    "ExecuteTime": {
     "end_time": "2023-07-30T14:53:04.224847100Z",
     "start_time": "2023-07-30T14:53:04.218526200Z"
    }
   },
   "id": "258babd61b92d2d5"
  },
  {
   "cell_type": "code",
   "execution_count": 3,
   "outputs": [
    {
     "data": {
      "text/plain": "'https://raw.githubusercontent.com/sedeba19/NLP--Random-Models/main/train.csv'"
     },
     "execution_count": 3,
     "metadata": {},
     "output_type": "execute_result"
    }
   ],
   "source": [
    "train_dir = os.path.join(main_dir + r\"\\train.csv\")\n",
    "test_dir = os.path.join(main_dir + r\"\\test.csv\")"
   ],
   "metadata": {
    "collapsed": false,
    "ExecuteTime": {
     "end_time": "2023-07-30T14:53:04.227852300Z",
     "start_time": "2023-07-30T14:53:04.222094Z"
    }
   },
   "id": "f9e05dc9db4f2150"
  },
  {
   "cell_type": "code",
   "execution_count": 4,
   "outputs": [
    {
     "data": {
      "text/plain": "   id keyword location                                               text  \\\n0   1     NaN      NaN  Our Deeds are the Reason of this #earthquake M...   \n1   4     NaN      NaN             Forest fire near La Ronge Sask. Canada   \n2   5     NaN      NaN  All residents asked to 'shelter in place' are ...   \n3   6     NaN      NaN  13,000 people receive #wildfires evacuation or...   \n4   7     NaN      NaN  Just got sent this photo from Ruby #Alaska as ...   \n\n   target  \n0       1  \n1       1  \n2       1  \n3       1  \n4       1  ",
      "text/html": "<div>\n<style scoped>\n    .dataframe tbody tr th:only-of-type {\n        vertical-align: middle;\n    }\n\n    .dataframe tbody tr th {\n        vertical-align: top;\n    }\n\n    .dataframe thead th {\n        text-align: right;\n    }\n</style>\n<table border=\"1\" class=\"dataframe\">\n  <thead>\n    <tr style=\"text-align: right;\">\n      <th></th>\n      <th>id</th>\n      <th>keyword</th>\n      <th>location</th>\n      <th>text</th>\n      <th>target</th>\n    </tr>\n  </thead>\n  <tbody>\n    <tr>\n      <th>0</th>\n      <td>1</td>\n      <td>NaN</td>\n      <td>NaN</td>\n      <td>Our Deeds are the Reason of this #earthquake M...</td>\n      <td>1</td>\n    </tr>\n    <tr>\n      <th>1</th>\n      <td>4</td>\n      <td>NaN</td>\n      <td>NaN</td>\n      <td>Forest fire near La Ronge Sask. Canada</td>\n      <td>1</td>\n    </tr>\n    <tr>\n      <th>2</th>\n      <td>5</td>\n      <td>NaN</td>\n      <td>NaN</td>\n      <td>All residents asked to 'shelter in place' are ...</td>\n      <td>1</td>\n    </tr>\n    <tr>\n      <th>3</th>\n      <td>6</td>\n      <td>NaN</td>\n      <td>NaN</td>\n      <td>13,000 people receive #wildfires evacuation or...</td>\n      <td>1</td>\n    </tr>\n    <tr>\n      <th>4</th>\n      <td>7</td>\n      <td>NaN</td>\n      <td>NaN</td>\n      <td>Just got sent this photo from Ruby #Alaska as ...</td>\n      <td>1</td>\n    </tr>\n  </tbody>\n</table>\n</div>"
     },
     "execution_count": 4,
     "metadata": {},
     "output_type": "execute_result"
    }
   ],
   "source": [
    "train_dir"
   ],
   "metadata": {
    "collapsed": false,
    "ExecuteTime": {
     "end_time": "2023-07-30T14:53:04.348421300Z",
     "start_time": "2023-07-30T14:53:04.225851500Z"
    }
   },
   "id": "e237aa9b92bb079a"
  },
  {
   "cell_type": "code",
   "execution_count": 5,
   "outputs": [
    {
     "data": {
      "text/plain": "         id               keyword                  location  \\\n3228   4632  emergency%20services   Sydney, New South Wales   \n3706   5271                  fear                       NaN   \n6957   9982               tsunami         Land Of The Kings   \n2887   4149                 drown                       NaN   \n7464  10680                wounds  cody, austin follows ?*?   \n\n                                                   text  target  \n3228  Goulburn man Henry Van Bilsen missing: Emergen...       1  \n3706  The things we fear most in organizations--fluc...       0  \n6957                            @tsunami_esh ?? hey Esh       0  \n2887  @POTUS you until you drown by water entering t...       0  \n7464  Crawling in my skin\\nThese wounds they will no...       1  ",
      "text/html": "<div>\n<style scoped>\n    .dataframe tbody tr th:only-of-type {\n        vertical-align: middle;\n    }\n\n    .dataframe tbody tr th {\n        vertical-align: top;\n    }\n\n    .dataframe thead th {\n        text-align: right;\n    }\n</style>\n<table border=\"1\" class=\"dataframe\">\n  <thead>\n    <tr style=\"text-align: right;\">\n      <th></th>\n      <th>id</th>\n      <th>keyword</th>\n      <th>location</th>\n      <th>text</th>\n      <th>target</th>\n    </tr>\n  </thead>\n  <tbody>\n    <tr>\n      <th>3228</th>\n      <td>4632</td>\n      <td>emergency%20services</td>\n      <td>Sydney, New South Wales</td>\n      <td>Goulburn man Henry Van Bilsen missing: Emergen...</td>\n      <td>1</td>\n    </tr>\n    <tr>\n      <th>3706</th>\n      <td>5271</td>\n      <td>fear</td>\n      <td>NaN</td>\n      <td>The things we fear most in organizations--fluc...</td>\n      <td>0</td>\n    </tr>\n    <tr>\n      <th>6957</th>\n      <td>9982</td>\n      <td>tsunami</td>\n      <td>Land Of The Kings</td>\n      <td>@tsunami_esh ?? hey Esh</td>\n      <td>0</td>\n    </tr>\n    <tr>\n      <th>2887</th>\n      <td>4149</td>\n      <td>drown</td>\n      <td>NaN</td>\n      <td>@POTUS you until you drown by water entering t...</td>\n      <td>0</td>\n    </tr>\n    <tr>\n      <th>7464</th>\n      <td>10680</td>\n      <td>wounds</td>\n      <td>cody, austin follows ?*?</td>\n      <td>Crawling in my skin\\nThese wounds they will no...</td>\n      <td>1</td>\n    </tr>\n  </tbody>\n</table>\n</div>"
     },
     "execution_count": 5,
     "metadata": {},
     "output_type": "execute_result"
    }
   ],
   "source": [
    "# Make a train_df\n",
    "train_df = pd.read_csv(train_dir)\n",
    "test_df = pd.read_csv(test_dir)\n",
    "train_df.head()"
   ],
   "metadata": {
    "collapsed": false,
    "ExecuteTime": {
     "end_time": "2023-07-30T14:53:04.359300400Z",
     "start_time": "2023-07-30T14:53:04.349424300Z"
    }
   },
   "id": "c858f9a76b34b934"
  },
  {
   "cell_type": "code",
   "execution_count": 6,
   "outputs": [
    {
     "data": {
      "text/plain": "(7613, 5)"
     },
     "execution_count": 6,
     "metadata": {},
     "output_type": "execute_result"
    }
   ],
   "source": [
    "# Shuffle training dataframe\n",
    "train_df_shuffled = train_df.sample(frac = 1, random_state = 1)\n",
    "train_df_shuffled.head()"
   ],
   "metadata": {
    "collapsed": false,
    "ExecuteTime": {
     "end_time": "2023-07-30T14:53:04.359300400Z",
     "start_time": "2023-07-30T14:53:04.354710800Z"
    }
   },
   "id": "ffa95adda1afec99"
  },
  {
   "cell_type": "code",
   "execution_count": 7,
   "outputs": [
    {
     "data": {
      "text/plain": "target\n0    4342\n1    3271\nName: count, dtype: int64"
     },
     "execution_count": 7,
     "metadata": {},
     "output_type": "execute_result"
    }
   ],
   "source": [
    "train_df_shuffled.shape"
   ],
   "metadata": {
    "collapsed": false,
    "ExecuteTime": {
     "end_time": "2023-07-30T14:53:04.362393700Z",
     "start_time": "2023-07-30T14:53:04.360301300Z"
    }
   },
   "id": "66e71f2c2322a35c"
  },
  {
   "cell_type": "code",
   "execution_count": 8,
   "outputs": [
    {
     "data": {
      "text/plain": "(7613, 3263)"
     },
     "execution_count": 8,
     "metadata": {},
     "output_type": "execute_result"
    }
   ],
   "source": [
    "# How many examples of each class?\n",
    "train_df['target'].value_counts()"
   ],
   "metadata": {
    "collapsed": false,
    "ExecuteTime": {
     "end_time": "2023-07-30T14:53:04.371889300Z",
     "start_time": "2023-07-30T14:53:04.363393800Z"
    }
   },
   "id": "e8f13f3fbc904937"
  },
  {
   "cell_type": "code",
   "execution_count": 9,
   "outputs": [
    {
     "name": "stdout",
     "output_type": "stream",
     "text": [
      "Target:0 (not a real disaster)\n",
      "Text: \n",
      "@briannafrost Twister with Bill Paxton and Helen Hunt!\n",
      "-----\n",
      "\n",
      "Target:0 (not a real disaster)\n",
      "Text: \n",
      "Pretty teen Hayden Ryan poses and strips out of her purple top http://t.co/qew4c5M1xd View and download video\n",
      "-----\n",
      "\n",
      "Target:0 (not a real disaster)\n",
      "Text: \n",
      "#hot  Funtenna: hijacking computers to send data as sound waves [Black Hat 2015] http://t.co/s4PNIhJQX7 #prebreak #best\n",
      "-----\n",
      "\n",
      "Target:0 (not a real disaster)\n",
      "Text: \n",
      "I get this feeling that society will collapse or implode. So don't be a hero and play your part.\n",
      "-----\n",
      "\n",
      "Target:0 (not a real disaster)\n",
      "Text: \n",
      "We offer #preventative services such as cabling and bracing to stop structural failure of your trees. Call 905-877-8591 to book yours. #CTS\n",
      "-----\n"
     ]
    }
   ],
   "source": [
    "# How many total samples?\n",
    "len(train_df), len(test_df)"
   ],
   "metadata": {
    "collapsed": false,
    "ExecuteTime": {
     "end_time": "2023-07-30T14:53:04.373890500Z",
     "start_time": "2023-07-30T14:53:04.368881500Z"
    }
   },
   "id": "6a3f06f716aed950"
  },
  {
   "cell_type": "code",
   "execution_count": null,
   "outputs": [],
   "source": [
    "# Visualize some random training examples\n",
    "import random\n",
    "random_index = random.randint(0, len(train_df)-5)\n",
    "for row in train_df_shuffled[[\"text\", \"target\"]][random_index: random_index +5].itertuples():\n",
    "    _, text, target = row\n",
    "    if target > 0:\n",
    "        print(f\"Target:{target}\", \"(real disaster)\")\n",
    "    else:\n",
    "        print(f\"Target:{target}\", \"(not a real disaster)\")\n",
    "    \n",
    "    print(f\"Text: \\n{text}\")\n",
    "    print(\"-----\\n\")"
   ],
   "metadata": {
    "collapsed": false
   },
   "id": "99ad01fd617f2fad"
  },
  {
   "cell_type": "markdown",
   "source": [
    "### Split data into training and validation sets"
   ],
   "metadata": {
    "collapsed": false,
    "ExecuteTime": {
     "end_time": "2023-07-30T14:53:04.638447500Z",
     "start_time": "2023-07-30T14:53:04.372889200Z"
    }
   },
   "id": "cc004f467eb6820b"
  },
  {
   "cell_type": "code",
   "execution_count": 11,
   "outputs": [
    {
     "data": {
      "text/plain": "(7613,)"
     },
     "execution_count": 11,
     "metadata": {},
     "output_type": "execute_result"
    }
   ],
   "source": [
    "from sklearn.model_selection import train_test_split\n",
    "\n",
    "train_sentences, val_sentences, train_labels, val_labels = train_test_split(train_df['text'],\n",
    "                                                                            train_df['target'],\n",
    "                                                                            test_size = 0.1,\n",
    "                                                                            random_state = 42)"
   ],
   "metadata": {
    "collapsed": false,
    "ExecuteTime": {
     "end_time": "2023-07-30T14:53:04.647313Z",
     "start_time": "2023-07-30T14:53:04.639447500Z"
    }
   },
   "id": "e9962e431d6f4625"
  },
  {
   "cell_type": "code",
   "execution_count": 12,
   "outputs": [
    {
     "data": {
      "text/plain": "0       Our Deeds are the Reason of this #earthquake M...\n1                  Forest fire near La Ronge Sask. Canada\n2       All residents asked to 'shelter in place' are ...\n3       13,000 people receive #wildfires evacuation or...\n4       Just got sent this photo from Ruby #Alaska as ...\n                              ...                        \n7608    Two giant cranes holding a bridge collapse int...\n7609    @aria_ahrary @TheTawniest The out of control w...\n7610    M1.94 [01:04 UTC]?5km S of Volcano Hawaii. htt...\n7611    Police investigating after an e-bike collided ...\n7612    The Latest: More Homes Razed by Northern Calif...\nName: text, Length: 7613, dtype: object"
     },
     "execution_count": 12,
     "metadata": {},
     "output_type": "execute_result"
    }
   ],
   "source": [
    "train_df['text'].shape"
   ],
   "metadata": {
    "collapsed": false,
    "ExecuteTime": {
     "end_time": "2023-07-30T14:53:04.647313Z",
     "start_time": "2023-07-30T14:53:04.642872900Z"
    }
   },
   "id": "2044aeeaed5209d8"
  },
  {
   "cell_type": "code",
   "execution_count": 13,
   "outputs": [
    {
     "data": {
      "text/plain": "array(['Our Deeds are the Reason of this #earthquake May ALLAH Forgive us all',\n       'Forest fire near La Ronge Sask. Canada',\n       \"All residents asked to 'shelter in place' are being notified by officers. No other evacuation or shelter in place orders are expected\",\n       ...,\n       'M1.94 [01:04 UTC]?5km S of Volcano Hawaii. http://t.co/zDtoyd8EbJ',\n       'Police investigating after an e-bike collided with a car in Little Portugal. E-bike rider suffered serious non-life threatening injuries.',\n       'The Latest: More Homes Razed by Northern California Wildfire - ABC News http://t.co/YmY4rSkQ3d'],\n      dtype=object)"
     },
     "execution_count": 13,
     "metadata": {},
     "output_type": "execute_result"
    }
   ],
   "source": [
    "train_df[\"text\"]"
   ],
   "metadata": {
    "collapsed": false,
    "ExecuteTime": {
     "end_time": "2023-07-30T14:53:04.651334900Z",
     "start_time": "2023-07-30T14:53:04.647313Z"
    }
   },
   "id": "aecfc9a6831f9cee"
  },
  {
   "cell_type": "code",
   "execution_count": 14,
   "outputs": [
    {
     "data": {
      "text/plain": "array(['Our Deeds are the Reason of this #earthquake May ALLAH Forgive us all',\n       'Forest fire near La Ronge Sask. Canada',\n       \"All residents asked to 'shelter in place' are being notified by officers. No other evacuation or shelter in place orders are expected\",\n       ...,\n       'M1.94 [01:04 UTC]?5km S of Volcano Hawaii. http://t.co/zDtoyd8EbJ',\n       'Police investigating after an e-bike collided with a car in Little Portugal. E-bike rider suffered serious non-life threatening injuries.',\n       'The Latest: More Homes Razed by Northern California Wildfire - ABC News http://t.co/YmY4rSkQ3d'],\n      dtype=object)"
     },
     "execution_count": 14,
     "metadata": {},
     "output_type": "execute_result"
    }
   ],
   "source": [
    "train_df['text'].to_numpy()"
   ],
   "metadata": {
    "collapsed": false,
    "ExecuteTime": {
     "end_time": "2023-07-30T14:53:04.660598Z",
     "start_time": "2023-07-30T14:53:04.652336100Z"
    }
   },
   "id": "4cdc72f6e817f834"
  },
  {
   "cell_type": "code",
   "execution_count": 15,
   "outputs": [
    {
     "data": {
      "text/plain": "(6851, 762, 6851, 762)"
     },
     "execution_count": 15,
     "metadata": {},
     "output_type": "execute_result"
    }
   ],
   "source": [
    "train_df['text'].to_numpy()"
   ],
   "metadata": {
    "collapsed": false,
    "ExecuteTime": {
     "end_time": "2023-07-30T14:53:04.660598Z",
     "start_time": "2023-07-30T14:53:04.656043500Z"
    }
   },
   "id": "ec43b6635db1dc03"
  },
  {
   "cell_type": "code",
   "execution_count": null,
   "outputs": [],
   "source": [
    "len(train_sentences), len(val_sentences), len(train_labels), len(val_labels)"
   ],
   "metadata": {
    "collapsed": false
   },
   "id": "c4b936bb4e61352a"
  },
  {
   "cell_type": "markdown",
   "source": [
    "### Converting text into numbers: Text Vectorization also known as Tokenization"
   ],
   "metadata": {
    "collapsed": false,
    "ExecuteTime": {
     "end_time": "2023-07-30T14:53:04.671406900Z",
     "start_time": "2023-07-30T14:53:04.663597700Z"
    }
   },
   "id": "5777dedf87f2662b"
  },
  {
   "cell_type": "code",
   "execution_count": 17,
   "outputs": [
    {
     "data": {
      "text/plain": "(6851,)"
     },
     "execution_count": 17,
     "metadata": {},
     "output_type": "execute_result"
    }
   ],
   "source": [
    "# Get the total words\n",
    "total_words = 0\n",
    "for i in train_sentences:\n",
    "    total_words += len(i.split())\n",
    "\n",
    "total_words"
   ],
   "metadata": {
    "collapsed": false,
    "ExecuteTime": {
     "end_time": "2023-07-30T14:53:04.680020400Z",
     "start_time": "2023-07-30T14:53:04.666706600Z"
    }
   },
   "id": "618457c173977155"
  },
  {
   "cell_type": "code",
   "execution_count": 18,
   "outputs": [
    {
     "data": {
      "text/plain": "15"
     },
     "execution_count": 18,
     "metadata": {},
     "output_type": "execute_result"
    }
   ],
   "source": [
    "train_sentences.shape"
   ],
   "metadata": {
    "collapsed": false,
    "ExecuteTime": {
     "end_time": "2023-07-30T14:53:04.681020900Z",
     "start_time": "2023-07-30T14:53:04.669996900Z"
    }
   },
   "id": "829d84b65c26bb92"
  },
  {
   "cell_type": "code",
   "execution_count": 19,
   "outputs": [],
   "source": [
    "# Get the average words per sentence or line\n",
    "avg_words_per_sentence = round(total_words/len(train_sentences))\n",
    "avg_words_per_sentence"
   ],
   "metadata": {
    "collapsed": false,
    "ExecuteTime": {
     "end_time": "2023-07-30T14:53:04.681020900Z",
     "start_time": "2023-07-30T14:53:04.673512800Z"
    }
   },
   "id": "a7a8bed44aec85d5"
  },
  {
   "cell_type": "code",
   "execution_count": 20,
   "outputs": [],
   "source": [
    "# Normally, total number of words is equal or less than the max vocabulary length\n",
    "max_vocab_length = 10000\n",
    "\n",
    "# max length of a statement is equal or more than the average word per sentence or line\n",
    "max_length = 15"
   ],
   "metadata": {
    "collapsed": false,
    "ExecuteTime": {
     "end_time": "2023-07-30T14:53:04.918177Z",
     "start_time": "2023-07-30T14:53:04.676020500Z"
    }
   },
   "id": "92ebee1bf68d8486"
  },
  {
   "cell_type": "code",
   "execution_count": 21,
   "outputs": [
    {
     "name": "stdout",
     "output_type": "stream",
     "text": [
      "There's a flood in my street! Sentence length is 29.\n"
     ]
    },
    {
     "data": {
      "text/plain": "<tf.Tensor: shape=(1, 15), dtype=int64, numpy=\narray([[282,   3, 206,   4,  13, 674,   0,   0,   0,   0,   0,   0,   0,\n          0,   0]], dtype=int64)>"
     },
     "execution_count": 21,
     "metadata": {},
     "output_type": "execute_result"
    }
   ],
   "source": [
    "import tensorflow as tf\n",
    "from tensorflow.keras.layers.experimental.preprocessing import TextVectorization\n",
    "\n",
    "text_vectorizer = TextVectorization(max_tokens = max_vocab_length,\n",
    "                                    output_mode = \"int\",\n",
    "                                    output_sequence_length = max_length)\n",
    "\n",
    "# Fit the text vectorizer to the training set\n",
    "text_vectorizer.adapt(train_sentences)"
   ],
   "metadata": {
    "collapsed": false,
    "ExecuteTime": {
     "end_time": "2023-07-30T14:53:04.938879600Z",
     "start_time": "2023-07-30T14:53:04.917178400Z"
    }
   },
   "id": "8805b068faa29b89"
  },
  {
   "cell_type": "code",
   "execution_count": 22,
   "outputs": [
    {
     "name": "stdout",
     "output_type": "stream",
     "text": [
      "Original text: \n",
      "\n",
      " Spot Flood Combo 53inch 300W Curved Cree LED Work Light Bar 4X4 Offroad Fog Lamp - Full reÛ_ http://t.co/jCDd6SD6Qn http://t.co/9gUCkjghms \n",
      "\n",
      "Vectorized text:\n"
     ]
    },
    {
     "data": {
      "text/plain": "<tf.Tensor: shape=(1, 15), dtype=int64, numpy=\narray([[ 758,  206, 1548, 2199, 2203, 2139, 1083,  939,  153,  625,  694,\n        1919, 1110, 1847, 1062]], dtype=int64)>"
     },
     "execution_count": 22,
     "metadata": {},
     "output_type": "execute_result"
    }
   ],
   "source": [
    "# Create a sample sentence and tokenize it\n",
    "samp_sentence = \"There's a flood in my street!\"\n",
    "print(samp_sentence, f\"Sentence length is {len(samp_sentence)}.\")\n",
    "text_vectorizer([samp_sentence])\n",
    "#len(tf.squeeze(text_vectorizer([samp_sentence])))"
   ],
   "metadata": {
    "collapsed": false,
    "ExecuteTime": {
     "end_time": "2023-07-30T14:53:04.950309500Z",
     "start_time": "2023-07-30T14:53:04.939881100Z"
    }
   },
   "id": "111d45283fbfd4ae"
  },
  {
   "cell_type": "code",
   "execution_count": 23,
   "outputs": [
    {
     "data": {
      "text/plain": "['',\n '[UNK]',\n 'the',\n 'a',\n 'in',\n 'to',\n 'of',\n 'and',\n 'i',\n 'is',\n 'for',\n 'on',\n 'you',\n 'my',\n 'with',\n 'it',\n 'that',\n 'at',\n 'by',\n 'this',\n 'from',\n 'are',\n 'be',\n 'was',\n 'have',\n 'like',\n 'as',\n 'me',\n 'but',\n 'up',\n 'just',\n 'so',\n 'im',\n 'not',\n 'amp',\n 'your',\n 'out',\n 'all',\n 'after',\n 'its',\n 'has',\n 'no',\n 'will',\n 'an',\n 'fire',\n 'when',\n 'if',\n 'we',\n 'get',\n 'now',\n 'more',\n 'via',\n 'new',\n 'about',\n 'what',\n 'people',\n 'or',\n 'news',\n 'he',\n 'they',\n 'over',\n 'one',\n 'been',\n 'how',\n 'dont',\n 'who',\n 'video',\n 'into',\n 'were',\n 'do',\n 'us',\n 'can',\n 'emergency',\n '2',\n 'disaster',\n 'there',\n 'her',\n 'some',\n 'than',\n 'still',\n 'would',\n 'his',\n 'police',\n 'crash',\n 'burning',\n 'suicide',\n 'body',\n 'california',\n 'back',\n 'time',\n 'buildings',\n 'had',\n 'why',\n 'off',\n 'them',\n 'got',\n 'man',\n 'see',\n 'storm',\n 'know',\n 'going',\n 'cant',\n 'world',\n 'first',\n 'day',\n 'rt',\n 'nuclear',\n 'love',\n 'youtube',\n 'our',\n 'attack',\n 'go',\n 'fires',\n 'two',\n 'their',\n 'bomb',\n 'killed',\n '3',\n 'train',\n 'dead',\n 'car',\n 'war',\n 'life',\n 'may',\n 'watch',\n 'full',\n 'only',\n 'here',\n 'hiroshima',\n 'down',\n 'today',\n 'u',\n 'accident',\n 'think',\n 'many',\n 'good',\n 'way',\n 'families',\n 'too',\n 'then',\n 'say',\n 'being',\n 'last',\n 'could',\n 'years',\n 'want',\n 'did',\n 'home',\n 'best',\n 'should',\n 'need',\n 'mass',\n 'even',\n 'work',\n 'make',\n 'help',\n 'bombing',\n 'wildfire',\n 'please',\n 'look',\n 'lol',\n 'because',\n 'another',\n 'take',\n 'him',\n 'collapse',\n 'year',\n 'water',\n 'those',\n 'really',\n 'army',\n 'am',\n 'school',\n 'mh370',\n 'death',\n 'right',\n 'pm',\n 'black',\n 'much',\n 'forest',\n 'fatal',\n '5',\n 'youre',\n 'she',\n 'northern',\n '4',\n 'live',\n 'city',\n 'bomber',\n 'wreck',\n 'hot',\n 'great',\n 'every',\n '2015',\n 'old',\n 'let',\n 'legionnaires',\n 'fear',\n 'obama',\n 'latest',\n 'homes',\n 'flames',\n 'come',\n '1',\n 'never',\n 'getting',\n 'flood',\n '\\x89Û',\n 'where',\n 'said',\n 'japan',\n 'shit',\n 'floods',\n 'during',\n 'atomic',\n 'god',\n 'damage',\n 'under',\n 'near',\n 'feel',\n 'ever',\n 'earthquake',\n 'ass',\n 'which',\n 'since',\n 'read',\n 'oil',\n 'night',\n 'most',\n 'military',\n 'injured',\n 'hope',\n 'everyone',\n 'coming',\n 'any',\n 'without',\n 'while',\n 'well',\n 'thats',\n 'stop',\n 'next',\n 'hit',\n 'weather',\n 'these',\n 'state',\n 'little',\n 'flooding',\n 'evacuation',\n 'before',\n 'truck',\n 'severe',\n 's',\n 'content',\n 'always',\n 'until',\n 'top',\n 'through',\n 'smoke',\n 'plan',\n 'found',\n 'confirmed',\n 'cause',\n 'movie',\n 'fucking',\n 'face',\n 'debris',\n 'bloody',\n 'bad',\n 'weapon',\n 'warning',\n 'times',\n 'thunderstorm',\n 'set',\n 'says',\n 'natural',\n 'malaysia',\n 'liked',\n 'ive',\n 'gonna',\n 'free',\n 'fall',\n 'thunder',\n 'theres',\n 'sinking',\n 'saudi',\n 'refugees',\n 'made',\n 'loud',\n 'looks',\n 'injuries',\n 'house',\n 'hes',\n 'heat',\n 'cross',\n 'also',\n 'air',\n 'w',\n 'screaming',\n 'rain',\n 'murder',\n 'head',\n 'failure',\n 'explode',\n 'check',\n 'wreckage',\n 'wind',\n 'wild',\n 'trapped',\n 'survive',\n 'spill',\n 'reddit',\n 'panic',\n 'missing',\n 'lightning',\n 'family',\n 'change',\n 'whole',\n 'weapons',\n 'terrorist',\n 'service',\n 'run',\n 'rescuers',\n 'report',\n 'released',\n 'photo',\n 'outbreak',\n 'ill',\n 'food',\n 'evacuate',\n 'end',\n 'destroyed',\n 'deaths',\n 'boy',\n 'again',\n '70',\n 'terrorism',\n 'sinkhole',\n 'services',\n 'save',\n 'road',\n 'rescue',\n 'migrants',\n 'keep',\n 'high',\n 'harm',\n 'danger',\n 'county',\n 'collided',\n 'blood',\n 'big',\n 'bags',\n 'twister',\n 'trauma',\n 'tonight',\n 'summer',\n 'ruin',\n 'mosque',\n 'lives',\n 'least',\n 'hail',\n 'girl',\n 'fuck',\n 'fatalities',\n 'does',\n 'derailment',\n 'curfew',\n 'collapsed',\n 'charged',\n 'call',\n 'burned',\n 'breaking',\n 'boat',\n 'bag',\n 'attacked',\n 'ambulance',\n 'wrecked',\n 'wounded',\n 'white',\n 'week',\n 'update',\n 'things',\n 'structural',\n 'stock',\n 'someone',\n 'show',\n 'rioting',\n 'real',\n 'phone',\n 'mudslide',\n 'landslide',\n 'investigators',\n 'explosion',\n 'engulfed',\n 'displaced',\n 'devastation',\n 'destroy',\n 'deluge',\n 'crashed',\n 'catastrophe',\n 'bus',\n 'battle',\n 'away',\n 'area',\n 'apocalypse',\n 'whirlwind',\n 'survivors',\n 'survived',\n 'sunk',\n 'saw',\n 'sandstorm',\n 'post',\n 'other',\n 'massacre',\n 'island',\n 'injury',\n 'id',\n 'hundreds',\n 'hostages',\n 'horrible',\n 'hazardous',\n 'hazard',\n 'game',\n 'exploded',\n 'drought',\n 'bridge',\n 'bang',\n '40',\n 'windstorm',\n 'went',\n 'wave',\n 'soon',\n 'rescued',\n 'quarantined',\n 'national',\n 'market',\n 'kills',\n 'hurricane',\n 'heard',\n 'drowning',\n 'drown',\n 'detonate',\n 'destruction',\n 'derail',\n 'cliff',\n 'bombed',\n 'blown',\n 'around',\n 'airplane',\n '6',\n '\\x89ÛÒ',\n 'wounds',\n 'woman',\n 'trouble',\n 'traumatised',\n 'tragedy',\n 'thing',\n 'story',\n 'screams',\n 'put',\n 'past',\n 'ok',\n 'iran',\n 'inundated',\n 'group',\n 'flattened',\n 'fedex',\n 'caused',\n 'came',\n 'better',\n 'august',\n 'armageddon',\n 'anniversary',\n '15',\n 'women',\n 'wanna',\n 'violent',\n 'typhoon',\n 'tsunami',\n 'thank',\n 'security',\n 'razed',\n 'possible',\n 'meltdown',\n 'lot',\n 'isis',\n 'hostage',\n 'famine',\n 'electrocuted',\n 'ebay',\n 'dust',\n 'crush',\n 'collide',\n 'chemical',\n 'blew',\n 'bleeding',\n 'bioterror',\n 'against',\n 'zone',\n 'whats',\n 'use',\n 'twitter',\n 'tomorrow',\n 'sure',\n 'something',\n 'send',\n 'quarantine',\n 'plane',\n 'pkk',\n 'part',\n 'panicking',\n 'pandemonium',\n 'oh',\n 'must',\n 'longer',\n 'long',\n 'left',\n 'hijacker',\n 'heart',\n 'government',\n 'goes',\n 'due',\n 'didnt',\n 'detonated',\n 'desolation',\n 'collision',\n 'catastrophic',\n 'casualties',\n 'calgary',\n 'building',\n 'beautiful',\n 'bagging',\n 'affected',\n 'yet',\n 'volcano',\n 'very',\n 'thanks',\n 'st',\n 'screamed',\n 'river',\n 'riot',\n 'reunion',\n 'responders',\n 'red',\n 'obliteration',\n 'obliterated',\n 'nothing',\n 'music',\n 'minute',\n 'lava',\n 'land',\n 'hijacking',\n 'fatality',\n 'fan',\n 'drowned',\n 'detonation',\n 'demolish',\n 'cool',\n 'blast',\n 'believe',\n 'baby',\n 'used',\n 'ur',\n 'three',\n 'thought',\n 'sound',\n 'song',\n 'site',\n 'sirens',\n 'shoulder',\n 'seismic',\n 'same',\n 'prebreak',\n 'power',\n 'officials',\n 'obliterate',\n 'few',\n 'eyewitness',\n 'died',\n 'demolished',\n 'care',\n 'arson',\n 'airport',\n '9',\n 'turkey',\n 'traffic',\n 'such',\n 'stay',\n 'start',\n 'snowstorm',\n 'shooting',\n 'rubble',\n 'remember',\n 'rainstorm',\n 'murderer',\n 'media',\n 'making',\n 'kids',\n 'issues',\n 'israeli',\n 'india',\n 'having',\n 'far',\n 'evacuated',\n 'electrocute',\n 'doing',\n 'doesnt',\n 'derailed',\n 'demolition',\n 'crushed',\n 'brown',\n 'blazing',\n 'annihilated',\n '8',\n '7',\n '16yr',\n 'yes',\n 'wake',\n 'suspect',\n 'south',\n 'shot',\n 'reactor',\n 'policy',\n 'nowplaying',\n 'nearby',\n 'line',\n 'light',\n 'lets',\n 'leave',\n 'inside',\n 'horror',\n 'hijack',\n 'hell',\n 'health',\n 'gets',\n 'casualty',\n 'bc',\n 'already',\n 'actually',\n 'words',\n 'upheaval',\n 'trying',\n 'tornado',\n 'tell',\n 'sue',\n 'stretcher',\n 'second',\n 're\\x89Û',\n 'plans',\n 'pic',\n 'mp',\n 'men',\n 'maybe',\n 'low',\n 'lab',\n 'islam',\n 'hours',\n 'history',\n 'half',\n 'guys',\n 'fun',\n 'fight',\n 'done',\n 'deluged',\n 'declares',\n 'days',\n 'bodies',\n 'bestnaijamade',\n 'anything',\n 'almost',\n '20',\n '\\x89ÛÓ',\n 'wont',\n 'swallowed',\n 'support',\n 'street',\n 'searching',\n 'reuters',\n 'play',\n 'place',\n 'photos',\n 'person',\n 'peace',\n 'online',\n 'north',\n 'literally',\n 'hey',\n 'helicopter',\n 'find',\n 'cyclone',\n 'crews',\n 'business',\n 'bush',\n 'both',\n 'bioterrorism',\n 'bar',\n 'avalanche',\n 'aircraft',\n 'abc',\n '50',\n 'yeah',\n 'west',\n 'wait',\n 'typhoondevastated',\n 'theyre',\n 'siren',\n 'saipan',\n 'pick',\n 'name',\n 'money',\n 'la',\n 'kill',\n 'job',\n 'hellfire',\n 'hear',\n 'happy',\n 'eyes',\n 'die',\n 'data',\n 'conclusively',\n 'children',\n 'blight',\n 'blaze',\n 'ago',\n 'waves',\n 'trench',\n 'texas',\n 'team',\n 'space',\n 'projected',\n 'probably',\n 'picking',\n 'own',\n 'order',\n 'myself',\n 'memories',\n 'major',\n 'm',\n 'lost',\n 'jobs',\n 'hollywood',\n 'feared',\n 'effect',\n 'deal',\n 'd',\n 'center',\n 'case',\n 'book',\n 'bigger',\n 'anyone',\n 'american',\n 'ablaze',\n '12',\n '10',\n 'yourself',\n 'watching',\n 'tv',\n 'transport',\n 'town',\n 'spot',\n 'soudelor',\n 'ship',\n 'seen',\n 'saved',\n 'pretty',\n 'outside',\n 'officer',\n 'mom',\n 'miners',\n 'meek',\n 'leather',\n 'houses',\n 'hat',\n 'hard',\n 'flag',\n 'everything',\n 'daily',\n 'child',\n 'chance',\n 'called',\n 'banned',\n 'ball',\n 'annihilation',\n 'amid',\n '30',\n 'wow',\n 'trains',\n 'though',\n 'star',\n 'signs',\n 'side',\n 'shes',\n 'self',\n 'rise',\n 'refugio',\n 'rd',\n 'poor',\n 'once',\n 'okay',\n 'n',\n 'move',\n 'might',\n 'manslaughter',\n 'makes',\n 'hailstorm',\n 'gbbo',\n 'friends',\n 'flash',\n 'fast',\n 'emmerdale',\n 'east',\n 'desolate',\n 'damn',\n 'crisis',\n 'crazy',\n 'course',\n 'couple',\n 'country',\n 'costlier',\n 'centre',\n 'caught',\n 'cake',\n 'blizzard',\n 'become',\n 'angry',\n 'alone',\n 'youth',\n 'wrong',\n 'win',\n 'vs',\n 'virgin',\n 'truth',\n 'temple',\n 'sorry',\n 'reports',\n 'reason',\n 'playing',\n 'pain',\n 'omg',\n 'official',\n 'myanmar',\n 'mayhem',\n 'looking',\n 'listen',\n 'level',\n 'ladies',\n 'knock',\n 'isnt',\n 'ignition',\n 'huge',\n 'heavy',\n 'hate',\n 'guy',\n 'gun',\n 'global',\n 'finally',\n 'feeling',\n 'eye',\n 'downtown',\n 'control',\n 'computers',\n 'closed',\n 'class',\n 'beach',\n 'bbc',\n 'b',\n 'appears',\n 'across',\n '60',\n '13',\n '11yearold',\n 'yours',\n 'womens',\n 'wanted',\n 'view',\n 'usa',\n 'united',\n 'try',\n 'totally',\n 'toddler',\n 'till',\n 'thousands',\n 'takes',\n 'taken',\n 't',\n 'stand',\n 'russian',\n 'running',\n 'reddits',\n 'quiz',\n 'pay',\n 'pakistan',\n 'others',\n 'mop',\n 'marks',\n 'mad',\n 'link',\n 'libya',\n 'issued',\n 'instead',\n 'happened',\n 'gt',\n 'giant',\n 'gems',\n 'gave',\n 'front',\n 'follow',\n 'film',\n 'experts',\n 'else',\n 'drive',\n 'devastated',\n 'declaration',\n 'coaches',\n 'cnn',\n 'christian',\n 'anthrax',\n 'aftershock',\n '11',\n 'worst',\n 'working',\n 'village',\n 'vehicle',\n 'unconfirmed',\n 'thursday',\n 'talk',\n 'subreddits',\n 'sounds',\n 'shows',\n 'scared',\n 'ready',\n 'potus',\n 'park',\n 'niggas',\n 'neighbours',\n 'nagasaki',\n 'mount',\n 'miss',\n 'mishaps',\n 'lord',\n 'led',\n 'learn',\n 'large',\n 'landing',\n 'israel',\n 'haha',\n 'gop',\n 'germs',\n 'galactic',\n 'fukushima',\n 'following',\n 'favorite',\n 'escape',\n 'entire',\n 'ebola',\n 'driving',\n 'download',\n 'climate',\n 'chinas',\n 'china',\n 'cars',\n 'behind',\n 'aug',\n 'arsonist',\n 'aint',\n 'added',\n 'action',\n '25',\n '100',\n '05',\n 'wonder',\n 'tweet',\n 'turn',\n 'trust',\n 'tree',\n 'told',\n 'sign',\n 'safety',\n 'russia',\n 'rules',\n 'rock',\n 'reported',\n 'radio',\n 'r',\n 'pray',\n 'pradesh',\n 'ppl',\n 'point',\n 'patience',\n 'party',\n 'parole',\n 'pamela',\n 'pakistani',\n 'outrage',\n 'offensive',\n 'nws',\n 'needs',\n 'nearly',\n 'muslims',\n 'morning',\n 'moment',\n ...]"
     },
     "execution_count": 23,
     "metadata": {},
     "output_type": "execute_result"
    }
   ],
   "source": [
    "# Choose random sentence from the training dataset and tokenize it\n",
    "rand_train_sentence = random.choice(train_sentences)\n",
    "print(f\"Original text: \\n\\n {rand_train_sentence} \\n\\nVectorized text:\")\n",
    "text_vectorizer([rand_train_sentence])"
   ],
   "metadata": {
    "collapsed": false,
    "ExecuteTime": {
     "end_time": "2023-07-30T14:53:04.969515Z",
     "start_time": "2023-07-30T14:53:04.946799100Z"
    }
   },
   "id": "4f30ca7e95b2b5e5"
  },
  {
   "cell_type": "code",
   "execution_count": 24,
   "outputs": [
    {
     "data": {
      "text/plain": "10000"
     },
     "execution_count": 24,
     "metadata": {},
     "output_type": "execute_result"
    }
   ],
   "source": [
    "# Get unique words in the vocabulary\n",
    "words_in_vocab = text_vectorizer.get_vocabulary()\n",
    "words_in_vocab"
   ],
   "metadata": {
    "collapsed": false,
    "ExecuteTime": {
     "end_time": "2023-07-30T14:53:04.969515Z",
     "start_time": "2023-07-30T14:53:04.963448400Z"
    }
   },
   "id": "a9796849d92692a"
  },
  {
   "cell_type": "code",
   "execution_count": 25,
   "outputs": [
    {
     "data": {
      "text/plain": "['', '[UNK]', 'the', 'a', 'in']"
     },
     "execution_count": 25,
     "metadata": {},
     "output_type": "execute_result"
    }
   ],
   "source": [
    "len(words_in_vocab)"
   ],
   "metadata": {
    "collapsed": false,
    "ExecuteTime": {
     "end_time": "2023-07-30T14:53:04.970514200Z",
     "start_time": "2023-07-30T14:53:04.966936300Z"
    }
   },
   "id": "1fc1d49d18c2f968"
  },
  {
   "cell_type": "code",
   "execution_count": 26,
   "outputs": [
    {
     "data": {
      "text/plain": "['pakthey', 'pakistan\\x89Ûªs', 'pakistans', 'pajamas', 'paints']"
     },
     "execution_count": 26,
     "metadata": {},
     "output_type": "execute_result"
    }
   ],
   "source": [
    "# Top 5 words in words_in_vocab\n",
    "words_in_vocab[:5]"
   ],
   "metadata": {
    "collapsed": false,
    "ExecuteTime": {
     "end_time": "2023-07-30T14:53:04.973617300Z",
     "start_time": "2023-07-30T14:53:04.969515Z"
    }
   },
   "id": "60913b2c06167547"
  },
  {
   "cell_type": "code",
   "execution_count": null,
   "outputs": [],
   "source": [
    "# Least 5 words in words_in_vocab\n",
    "words_in_vocab[-5:]"
   ],
   "metadata": {
    "collapsed": false
   },
   "id": "4b66d97a81a1ab9b"
  },
  {
   "cell_type": "markdown",
   "source": [
    "### Embedding layer\n",
    "\n",
    "To make our embedding, we are going to use TensorFlow’s embedding layer: https://www.tensorflow.org/api/docs/python/tf/keras/layers/\n",
    "\n",
    "The parameters are below mostly used.\n",
    "* input_dim = size of the vocabulary\n",
    "* output_dim = size of the output embedding vector.  For example, a value of 100 would mean each token gets represented by a vector 100 long\n",
    "* input_length = length of the sequences being passed to the embedding layer"
   ],
   "metadata": {
    "collapsed": false,
    "ExecuteTime": {
     "end_time": "2023-07-30T14:53:04.983475Z",
     "start_time": "2023-07-30T14:53:04.975963300Z"
    }
   },
   "id": "4d47ece46e5b3070"
  },
  {
   "cell_type": "code",
   "execution_count": 28,
   "outputs": [
    {
     "name": "stdout",
     "output_type": "stream",
     "text": [
      "Original text: The Latest: More homes razed by Northern California wildfire - http://t.co/ecXMoiNZgU http://t.co/ntwWDweDNb\n",
      "\n",
      "Vectorized text: [[  2 199  50 200 480  18 184  87 157   1   1   0   0   0   0]]\n",
      "\n",
      "Vectorized text shape: (1, 15)\n",
      "Embbedded text: [[[-0.02597304  0.00594245 -0.0247831  -0.0028858  -0.0467329\n",
      "    0.00426599  0.04692217 -0.03798555  0.02209764 -0.00445684\n",
      "   -0.02018706  0.03898202 -0.00934716  0.01586461  0.04437922\n",
      "   -0.02081614  0.00849216  0.01618148 -0.01961809  0.02844448\n",
      "   -0.029401    0.00175206  0.03839587  0.0047024   0.02103131\n",
      "   -0.00418274  0.04071205  0.00492196  0.02227474  0.01864977\n",
      "   -0.03042555 -0.04731048 -0.02336736 -0.01034587  0.04365828\n",
      "    0.01576695 -0.01080794 -0.02639517  0.02581752 -0.01493729\n",
      "    0.00569297 -0.01363313  0.01970481 -0.01598551 -0.03030607\n",
      "    0.00402067  0.00356252  0.01800628 -0.03250928  0.03349555\n",
      "    0.00037335  0.04589185 -0.04598429  0.00094364 -0.04623948\n",
      "   -0.01347191  0.00787818  0.04431866 -0.0123047  -0.04159796\n",
      "    0.03365116  0.03953976 -0.03681836  0.00408221]\n",
      "  [-0.04974714 -0.04777192  0.01111817  0.02376728 -0.01678648\n",
      "    0.02683361 -0.00952328 -0.03650395 -0.01368944  0.00458061\n",
      "   -0.02091041 -0.03635597 -0.01055658  0.04700977 -0.0110311\n",
      "    0.02462044 -0.02106222 -0.00253755 -0.04215305 -0.0402021\n",
      "   -0.03582408  0.00459329  0.01184179 -0.0431082  -0.03181203\n",
      "   -0.01025995 -0.01985594 -0.0003375   0.02678791  0.0461038\n",
      "   -0.04559673 -0.04200792 -0.0334091   0.02391695 -0.04795647\n",
      "   -0.03947427  0.00033671  0.01830076 -0.00800914  0.00872918\n",
      "   -0.04957832  0.01438839  0.00814086  0.00233067 -0.02020583\n",
      "    0.0254229   0.00711683 -0.01667226 -0.00312387  0.02927339\n",
      "   -0.02957018 -0.0371464  -0.0028883   0.00387462 -0.00110205\n",
      "   -0.00306425 -0.00281107 -0.04935097  0.02175537  0.03099573\n",
      "    0.04138217  0.00602592  0.03780147  0.0281209 ]\n",
      "  [-0.00190256  0.01329926 -0.03021357 -0.03107849 -0.01051972\n",
      "   -0.04579715  0.04563532  0.02439698  0.00748856 -0.04988505\n",
      "   -0.00532199 -0.0055365   0.04129679  0.00963841  0.01397289\n",
      "   -0.0308471   0.00783914  0.02194158 -0.02203983  0.04172296\n",
      "   -0.04264944 -0.04861533  0.03508648 -0.04245287 -0.02899654\n",
      "    0.01133727 -0.02614713  0.04695327 -0.00340842 -0.03802709\n",
      "   -0.00508596 -0.00101074 -0.01310762 -0.03737177 -0.00562315\n",
      "    0.03491522  0.00427045 -0.00802193 -0.0473199   0.04506037\n",
      "   -0.00030924  0.00415631 -0.00084375 -0.02829782  0.03433089\n",
      "   -0.01726706  0.01453295  0.02928874 -0.02434845 -0.0357822\n",
      "    0.0294583   0.03369008 -0.01535203  0.01867929 -0.02268685\n",
      "    0.03466034  0.01614574  0.03060387 -0.02021422  0.0388042\n",
      "    0.0480524  -0.0294848   0.03007827 -0.03004458]\n",
      "  [ 0.0270389  -0.03634594  0.00628983 -0.01226661  0.03740172\n",
      "    0.03812725  0.03612003 -0.00463539  0.04783329 -0.00197607\n",
      "    0.00811644  0.00918049 -0.01385059 -0.00612443  0.00955746\n",
      "   -0.03180395 -0.03905677  0.02919077  0.03286964 -0.01413571\n",
      "   -0.03555948 -0.02177302  0.03299466 -0.04505769 -0.01319767\n",
      "    0.01795459 -0.04426945  0.03394062 -0.0199176  -0.04142448\n",
      "   -0.01040162  0.03074289  0.00545522  0.02123578  0.03746882\n",
      "   -0.03885913 -0.01984174  0.02080362  0.04843641 -0.03515429\n",
      "    0.00203108 -0.00889242  0.04683108 -0.04572752  0.02840989\n",
      "    0.00182223  0.00995573  0.00563794 -0.01124339 -0.00915276\n",
      "   -0.00041531  0.03993079  0.04318747 -0.03680364  0.02969465\n",
      "   -0.00771016  0.00353218 -0.02090814  0.00629827 -0.04089488\n",
      "   -0.02599448  0.00245917  0.03741321 -0.04963396]\n",
      "  [ 0.03953371 -0.02998142  0.01612842 -0.00597889  0.03147039\n",
      "   -0.04374359  0.02014654  0.029413   -0.04715353  0.04972691\n",
      "    0.04051102 -0.04676032 -0.03219974 -0.00647867  0.04272965\n",
      "    0.04594069 -0.0363428  -0.02658655  0.03444686  0.04771521\n",
      "    0.03885095  0.0029459   0.04019182 -0.01780291 -0.01194131\n",
      "    0.04796456 -0.03303369 -0.03014128  0.02998158 -0.00885589\n",
      "   -0.02790715  0.02497284  0.03831825 -0.02326295 -0.02052263\n",
      "   -0.03517945 -0.02623022 -0.02740874 -0.04653704  0.0090173\n",
      "    0.0179044   0.03003699 -0.0364098  -0.02874785  0.02686486\n",
      "    0.04869521  0.04669226 -0.02879758  0.01137798  0.04358229\n",
      "    0.00363314 -0.04678857  0.04647649  0.0117921   0.00941759\n",
      "    0.00616254 -0.01073787  0.00413203  0.02986235  0.02821543\n",
      "    0.03487143  0.02670417  0.02418849  0.04710332]\n",
      "  [-0.03399118 -0.0183847   0.04799794 -0.01220043  0.0417632\n",
      "    0.02671045 -0.04714855  0.0388524  -0.01709931  0.00119752\n",
      "   -0.00148446  0.03816017  0.02839017  0.00075228 -0.03217825\n",
      "   -0.02148997 -0.0391139  -0.01697625  0.00738525  0.02271751\n",
      "    0.04020444 -0.01415275  0.02050858  0.00454701 -0.00622271\n",
      "   -0.02286677  0.00393149  0.04717657  0.00738889 -0.01937603\n",
      "    0.0397503   0.01650233  0.00353788 -0.03921015  0.02818492\n",
      "   -0.00488784  0.04379326  0.01828862  0.02040792 -0.0257421\n",
      "    0.00753967 -0.02397934 -0.00999223  0.01641954  0.00692705\n",
      "    0.0236616   0.00089135  0.03568076  0.0418619   0.02023181\n",
      "   -0.02670822  0.04632975 -0.02687552 -0.01504349 -0.04719475\n",
      "   -0.00132465  0.04556296 -0.00031971  0.0458265  -0.0064243\n",
      "    0.00178029  0.01498694 -0.03359582 -0.01533297]\n",
      "  [ 0.00105405 -0.04840806  0.01371092 -0.00535489  0.00622369\n",
      "    0.0216686   0.03636957  0.01005877 -0.00036982  0.01377689\n",
      "   -0.01845864  0.01993055  0.04893658 -0.02931324 -0.00293\n",
      "   -0.03669    -0.03383102  0.0350082   0.01742699 -0.02818461\n",
      "   -0.00674178  0.03365273  0.02750275  0.03533356  0.04072715\n",
      "    0.01148618 -0.03552686 -0.04301759  0.01763979 -0.01670997\n",
      "   -0.01097686 -0.005507    0.04680139 -0.00508404  0.04785358\n",
      "   -0.04282774  0.03544232  0.04034871 -0.00161108  0.01004476\n",
      "   -0.03559464  0.01936699  0.0027408   0.01541315  0.01150239\n",
      "    0.03491781  0.03934859  0.03338483  0.01552559  0.02044851\n",
      "    0.00622303 -0.00027925 -0.04049671 -0.01263701  0.00186578\n",
      "   -0.00297976 -0.02483823 -0.01381443 -0.01725966 -0.03999634\n",
      "   -0.04076727  0.039749   -0.02166312  0.00658358]\n",
      "  [-0.02714672 -0.00447454  0.03331    -0.01552958  0.00465577\n",
      "   -0.00726015 -0.04460151  0.01110586  0.03266937  0.01895512\n",
      "    0.00863508  0.04954991 -0.0246447   0.02445623  0.00038313\n",
      "   -0.02456415 -0.03878517  0.0010557  -0.03436083  0.02912419\n",
      "   -0.01039815  0.02672147 -0.0419138  -0.00981027 -0.01477657\n",
      "    0.04128126  0.04774464 -0.00102991  0.01177341  0.0462848\n",
      "   -0.00744256  0.02091975  0.01215472 -0.04037639  0.02888281\n",
      "   -0.01227612 -0.02810848  0.02870201 -0.00975747 -0.0108832\n",
      "    0.04470614  0.02847255 -0.02054812 -0.0132545  -0.01648505\n",
      "    0.01405663 -0.01395848 -0.01885254 -0.02190886 -0.02310394\n",
      "    0.04822285  0.02315428  0.02757822  0.02445604 -0.00409336\n",
      "    0.04972413 -0.01641298  0.01374571  0.03026034 -0.03114332\n",
      "   -0.01822606 -0.01611904 -0.02931979 -0.04990251]\n",
      "  [-0.00243695 -0.0423422   0.00847864  0.04495548 -0.0294866\n",
      "   -0.01870229 -0.03480903  0.03483695  0.0441483  -0.01173628\n",
      "    0.01927037  0.02050846 -0.04910026  0.03799553 -0.04123577\n",
      "    0.00696139  0.03332032  0.04625568  0.03268352  0.00110382\n",
      "   -0.03815479  0.0022542   0.00383491 -0.03186684 -0.00241864\n",
      "    0.00621325 -0.0357895   0.01730872 -0.03063573  0.03074146\n",
      "    0.00050789 -0.01391624 -0.04421661  0.01364936  0.03701625\n",
      "    0.00899997 -0.04845647  0.03464414  0.00287918  0.00457985\n",
      "    0.01123505 -0.02982779  0.03002619  0.01948604 -0.03574415\n",
      "    0.02782047  0.02840987 -0.04606627  0.02571677 -0.02580054\n",
      "    0.02686298  0.02852512  0.04251898  0.0390272   0.0234144\n",
      "   -0.01081299 -0.01214436  0.00240852 -0.04774031 -0.00029385\n",
      "    0.01288617 -0.0161127  -0.04488628  0.00841795]\n",
      "  [-0.01414236 -0.04686875 -0.04795582  0.02826964  0.01943162\n",
      "    0.0261067  -0.01577306 -0.01249855 -0.00965029  0.03736505\n",
      "    0.04796915  0.01547239  0.00748023  0.04840812  0.02565923\n",
      "    0.01846912 -0.04082829 -0.00769836  0.03789452  0.00186034\n",
      "    0.0129964   0.02622126 -0.02011784 -0.04633078  0.03481818\n",
      "    0.03547188  0.03291924  0.0253184   0.01914087 -0.0072808\n",
      "   -0.0070442   0.03098215  0.04457576  0.01418071 -0.03363595\n",
      "   -0.00193051  0.00983103  0.03056211 -0.04409152 -0.0271404\n",
      "    0.02075816 -0.01678439 -0.01251856  0.01190602  0.04349786\n",
      "    0.03505886  0.00277078 -0.02147905 -0.02334413 -0.0015375\n",
      "    0.00718243 -0.03800546 -0.0104759   0.00919265 -0.02506821\n",
      "    0.02771037 -0.0291808   0.00773193  0.02587204  0.04475052\n",
      "   -0.0272764   0.01583655 -0.04081364  0.04037603]\n",
      "  [-0.01414236 -0.04686875 -0.04795582  0.02826964  0.01943162\n",
      "    0.0261067  -0.01577306 -0.01249855 -0.00965029  0.03736505\n",
      "    0.04796915  0.01547239  0.00748023  0.04840812  0.02565923\n",
      "    0.01846912 -0.04082829 -0.00769836  0.03789452  0.00186034\n",
      "    0.0129964   0.02622126 -0.02011784 -0.04633078  0.03481818\n",
      "    0.03547188  0.03291924  0.0253184   0.01914087 -0.0072808\n",
      "   -0.0070442   0.03098215  0.04457576  0.01418071 -0.03363595\n",
      "   -0.00193051  0.00983103  0.03056211 -0.04409152 -0.0271404\n",
      "    0.02075816 -0.01678439 -0.01251856  0.01190602  0.04349786\n",
      "    0.03505886  0.00277078 -0.02147905 -0.02334413 -0.0015375\n",
      "    0.00718243 -0.03800546 -0.0104759   0.00919265 -0.02506821\n",
      "    0.02771037 -0.0291808   0.00773193  0.02587204  0.04475052\n",
      "   -0.0272764   0.01583655 -0.04081364  0.04037603]\n",
      "  [-0.03182731  0.04602835 -0.00995437 -0.00567933  0.03613332\n",
      "   -0.0315812  -0.03293411  0.0367924   0.03426022 -0.00981892\n",
      "    0.00382317  0.02122648 -0.03631938 -0.0032341   0.01955161\n",
      "    0.03389383 -0.00150111  0.03993783  0.01861389  0.01163539\n",
      "    0.01426978  0.03831716  0.04483271 -0.04487789  0.00475172\n",
      "    0.03853517 -0.01705911 -0.03777435 -0.00752208  0.03707557\n",
      "   -0.01794262  0.00553217  0.00176554 -0.00424876  0.02053479\n",
      "   -0.0208877   0.03327514  0.03759092  0.00367809  0.02083362\n",
      "    0.0053866   0.00373924  0.0419081   0.01975855 -0.04847617\n",
      "   -0.03124292  0.04891074  0.02633734  0.01194697  0.03320957\n",
      "    0.00173317  0.03932322 -0.01404551  0.01767457 -0.0189513\n",
      "   -0.03681023 -0.00499213 -0.02211232 -0.03881133  0.00060805\n",
      "   -0.0387109  -0.00848658 -0.02452332 -0.04692924]\n",
      "  [-0.03182731  0.04602835 -0.00995437 -0.00567933  0.03613332\n",
      "   -0.0315812  -0.03293411  0.0367924   0.03426022 -0.00981892\n",
      "    0.00382317  0.02122648 -0.03631938 -0.0032341   0.01955161\n",
      "    0.03389383 -0.00150111  0.03993783  0.01861389  0.01163539\n",
      "    0.01426978  0.03831716  0.04483271 -0.04487789  0.00475172\n",
      "    0.03853517 -0.01705911 -0.03777435 -0.00752208  0.03707557\n",
      "   -0.01794262  0.00553217  0.00176554 -0.00424876  0.02053479\n",
      "   -0.0208877   0.03327514  0.03759092  0.00367809  0.02083362\n",
      "    0.0053866   0.00373924  0.0419081   0.01975855 -0.04847617\n",
      "   -0.03124292  0.04891074  0.02633734  0.01194697  0.03320957\n",
      "    0.00173317  0.03932322 -0.01404551  0.01767457 -0.0189513\n",
      "   -0.03681023 -0.00499213 -0.02211232 -0.03881133  0.00060805\n",
      "   -0.0387109  -0.00848658 -0.02452332 -0.04692924]\n",
      "  [-0.03182731  0.04602835 -0.00995437 -0.00567933  0.03613332\n",
      "   -0.0315812  -0.03293411  0.0367924   0.03426022 -0.00981892\n",
      "    0.00382317  0.02122648 -0.03631938 -0.0032341   0.01955161\n",
      "    0.03389383 -0.00150111  0.03993783  0.01861389  0.01163539\n",
      "    0.01426978  0.03831716  0.04483271 -0.04487789  0.00475172\n",
      "    0.03853517 -0.01705911 -0.03777435 -0.00752208  0.03707557\n",
      "   -0.01794262  0.00553217  0.00176554 -0.00424876  0.02053479\n",
      "   -0.0208877   0.03327514  0.03759092  0.00367809  0.02083362\n",
      "    0.0053866   0.00373924  0.0419081   0.01975855 -0.04847617\n",
      "   -0.03124292  0.04891074  0.02633734  0.01194697  0.03320957\n",
      "    0.00173317  0.03932322 -0.01404551  0.01767457 -0.0189513\n",
      "   -0.03681023 -0.00499213 -0.02211232 -0.03881133  0.00060805\n",
      "   -0.0387109  -0.00848658 -0.02452332 -0.04692924]\n",
      "  [-0.03182731  0.04602835 -0.00995437 -0.00567933  0.03613332\n",
      "   -0.0315812  -0.03293411  0.0367924   0.03426022 -0.00981892\n",
      "    0.00382317  0.02122648 -0.03631938 -0.0032341   0.01955161\n",
      "    0.03389383 -0.00150111  0.03993783  0.01861389  0.01163539\n",
      "    0.01426978  0.03831716  0.04483271 -0.04487789  0.00475172\n",
      "    0.03853517 -0.01705911 -0.03777435 -0.00752208  0.03707557\n",
      "   -0.01794262  0.00553217  0.00176554 -0.00424876  0.02053479\n",
      "   -0.0208877   0.03327514  0.03759092  0.00367809  0.02083362\n",
      "    0.0053866   0.00373924  0.0419081   0.01975855 -0.04847617\n",
      "   -0.03124292  0.04891074  0.02633734  0.01194697  0.03320957\n",
      "    0.00173317  0.03932322 -0.01404551  0.01767457 -0.0189513\n",
      "   -0.03681023 -0.00499213 -0.02211232 -0.03881133  0.00060805\n",
      "   -0.0387109  -0.00848658 -0.02452332 -0.04692924]]]\n",
      "Embedded text shape: (1, 15, 64)\n"
     ]
    }
   ],
   "source": [
    "from tensorflow.keras import layers\n",
    "\n",
    "embedding = layers.Embedding(input_dim = max_vocab_length,\n",
    "                             output_dim = 64,\n",
    "                             embeddings_initializer = \"uniform\",\n",
    "                             input_length = max_length)"
   ],
   "metadata": {
    "collapsed": false,
    "ExecuteTime": {
     "end_time": "2023-07-30T14:53:05.008113100Z",
     "start_time": "2023-07-30T14:53:04.978472700Z"
    }
   },
   "id": "55b4d3e382cb85d7"
  },
  {
   "cell_type": "code",
   "execution_count": null,
   "outputs": [],
   "source": [
    "# Get a random sentence from the training set and return Original text, Vectorized text, Embedded text\n",
    "rand_sentence = random.choice(train_sentences)\n",
    "print(f\"Original text: {rand_sentence}\\n\")\n",
    "print(f\"Vectorized text: {text_vectorizer([rand_sentence])}\\n\")\n",
    "print(f\"Vectorized text shape: {text_vectorizer([rand_sentence]).shape}\")\n",
    "print(f\"Embbedded text: {embedding(text_vectorizer([rand_sentence]))}\")\n",
    "print(f\"Embedded text shape: {embedding(text_vectorizer([rand_sentence])).shape}\")"
   ],
   "metadata": {
    "collapsed": false
   },
   "id": "2d8028a4f822acb"
  },
  {
   "cell_type": "markdown",
   "source": [
    "## Model_7: TensorFlow Hub Pretrained Feature Extractor (10% of Data)"
   ],
   "metadata": {
    "collapsed": false,
    "ExecuteTime": {
     "end_time": "2023-07-30T14:53:05.010116600Z",
     "start_time": "2023-07-30T14:53:05.005733400Z"
    }
   },
   "id": "1acc1fffc619d4fe"
  },
  {
   "cell_type": "code",
   "execution_count": 30,
   "outputs": [
    {
     "data": {
      "text/plain": "(761, 761)"
     },
     "execution_count": 30,
     "metadata": {},
     "output_type": "execute_result"
    }
   ],
   "source": [
    "# Create subsets of 10% of the training and label data\n",
    "train_10_percent = train_df[['text', \"target\"]].sample(frac= 0.1, random_state=42)\n",
    "train_sentences_train_10_percent = train_10_percent[\"text\"].to_list()\n",
    "train_labels_train_10_percent = train_10_percent[\"target\"].to_list()"
   ],
   "metadata": {
    "collapsed": false,
    "ExecuteTime": {
     "end_time": "2023-07-30T14:53:05.012428800Z",
     "start_time": "2023-07-30T14:53:05.010116600Z"
    }
   },
   "id": "a0d126e66f87e173"
  },
  {
   "cell_type": "code",
   "execution_count": 31,
   "outputs": [
    {
     "data": {
      "text/plain": "target\n0    425\n1    336\nName: count, dtype: int64"
     },
     "execution_count": 31,
     "metadata": {},
     "output_type": "execute_result"
    }
   ],
   "source": [
    "len(train_sentences_train_10_percent), len(train_labels_train_10_percent)"
   ],
   "metadata": {
    "collapsed": false,
    "ExecuteTime": {
     "end_time": "2023-07-30T14:53:05.025754500Z",
     "start_time": "2023-07-30T14:53:05.013429Z"
    }
   },
   "id": "4a84871bbfe323f7"
  },
  {
   "cell_type": "code",
   "execution_count": 32,
   "outputs": [
    {
     "data": {
      "text/plain": "target\n0    4342\n1    3271\nName: count, dtype: int64"
     },
     "execution_count": 32,
     "metadata": {},
     "output_type": "execute_result"
    }
   ],
   "source": [
    "# Check the number of targets in our subset of data\n",
    "train_10_percent['target'].value_counts()"
   ],
   "metadata": {
    "collapsed": false,
    "ExecuteTime": {
     "end_time": "2023-07-30T14:53:05.025754500Z",
     "start_time": "2023-07-30T14:53:05.017596Z"
    }
   },
   "id": "c00e69e55fdf8d30"
  },
  {
   "cell_type": "code",
   "execution_count": 33,
   "outputs": [],
   "source": [
    "train_df['target'].value_counts()"
   ],
   "metadata": {
    "collapsed": false,
    "ExecuteTime": {
     "end_time": "2023-07-30T14:53:08.603764600Z",
     "start_time": "2023-07-30T14:53:05.021754100Z"
    }
   },
   "id": "fe1100471c4bbb6d"
  },
  {
   "cell_type": "code",
   "execution_count": 34,
   "outputs": [
    {
     "name": "stdout",
     "output_type": "stream",
     "text": [
      "Model: \"model_7_USE_10_percent\"\n",
      "_________________________________________________________________\n",
      " Layer (type)                Output Shape              Param #   \n",
      "=================================================================\n",
      " USE (KerasLayer)            (None, 512)               256797824 \n",
      "                                                                 \n",
      " dense (Dense)               (None, 64)                32832     \n",
      "                                                                 \n",
      " dense_1 (Dense)             (None, 1)                 65        \n",
      "                                                                 \n",
      "=================================================================\n",
      "Total params: 256830721 (979.73 MB)\n",
      "Trainable params: 32897 (128.50 KB)\n",
      "Non-trainable params: 256797824 (979.61 MB)\n",
      "_________________________________________________________________\n"
     ]
    }
   ],
   "source": [
    "# Create a Keras Layer using the USE pretrained layer from tensorflow hub\n",
    "import tensorflow_hub as hub\n",
    "sentence_encoder_layer = hub.KerasLayer(\"https://tfhub.dev/google/universal-sentence-encoder/4\",\n",
    "                                        input_shape= [], # empty because it is variable input length (any length)\n",
    "                                        dtype = tf.string,\n",
    "                                        trainable= False,\n",
    "                                        name = \"USE\")"
   ],
   "metadata": {
    "collapsed": false,
    "ExecuteTime": {
     "end_time": "2023-07-30T14:53:08.961812800Z",
     "start_time": "2023-07-30T14:53:08.596763900Z"
    }
   },
   "id": "b8c9fdeae09a704f"
  },
  {
   "cell_type": "code",
   "execution_count": 35,
   "outputs": [
    {
     "name": "stdout",
     "output_type": "stream",
     "text": [
      "Epoch 1/5\n",
      "24/24 [==============================] - 2s 22ms/step - loss: 0.6757 - accuracy: 0.6636 - val_loss: 0.6391 - val_accuracy: 0.8136\n",
      "Epoch 2/5\n",
      "24/24 [==============================] - 0s 8ms/step - loss: 0.6064 - accuracy: 0.8108 - val_loss: 0.5580 - val_accuracy: 0.8215\n",
      "Epoch 3/5\n",
      "24/24 [==============================] - 0s 8ms/step - loss: 0.5251 - accuracy: 0.8160 - val_loss: 0.4848 - val_accuracy: 0.8228\n",
      "Epoch 4/5\n",
      "24/24 [==============================] - 0s 8ms/step - loss: 0.4643 - accuracy: 0.8081 - val_loss: 0.4311 - val_accuracy: 0.8202\n",
      "Epoch 5/5\n",
      "24/24 [==============================] - 0s 8ms/step - loss: 0.4195 - accuracy: 0.8226 - val_loss: 0.3976 - val_accuracy: 0.8373\n"
     ]
    }
   ],
   "source": [
    "# Create model using the Sequential API\n",
    "model_7 = tf.keras.Sequential([\n",
    "    sentence_encoder_layer,\n",
    "    layers.Dense(64, activation = \"relu\"),\n",
    "    layers.Dense(1, activation = \"sigmoid\")\n",
    "], name = \"model_7_USE_10_percent\")\n",
    "\n",
    "# Compile\n",
    "model_7.compile(loss = 'binary_crossentropy',\n",
    "                optimizer= tf.keras.optimizers.Adam(),\n",
    "                metrics = ['accuracy'])\n",
    "\n",
    "model_7.summary()\n"
   ],
   "metadata": {
    "collapsed": false,
    "ExecuteTime": {
     "end_time": "2023-07-30T14:53:11.839373900Z",
     "start_time": "2023-07-30T14:53:08.961812800Z"
    }
   },
   "id": "8e034faf54ebe5f5"
  },
  {
   "cell_type": "code",
   "execution_count": 36,
   "outputs": [
    {
     "name": "stdout",
     "output_type": "stream",
     "text": [
      "24/24 [==============================] - 0s 4ms/step\n"
     ]
    }
   ],
   "source": [
    "model_7_history = model_7.fit(train_sentences_train_10_percent,\n",
    "                              train_labels_train_10_percent,\n",
    "                              epochs = 5,\n",
    "                              validation_data=(val_sentences, val_labels))"
   ],
   "metadata": {
    "collapsed": false,
    "ExecuteTime": {
     "end_time": "2023-07-30T14:53:12.178550800Z",
     "start_time": "2023-07-30T14:53:11.838374100Z"
    }
   },
   "id": "3fad33b12b947b65"
  },
  {
   "cell_type": "code",
   "execution_count": 37,
   "outputs": [],
   "source": [
    "# Make predictions with the model trained on 10% of the data\n",
    "model_7_pred_probs = model_7.predict(val_sentences)\n",
    "model_7_preds = tf.squeeze(tf.round(model_7_pred_probs))"
   ],
   "metadata": {
    "collapsed": false,
    "ExecuteTime": {
     "end_time": "2023-07-30T14:53:12.188074100Z",
     "start_time": "2023-07-30T14:53:12.180550300Z"
    }
   },
   "id": "3751feb38705b01e"
  },
  {
   "cell_type": "code",
   "execution_count": 38,
   "outputs": [
    {
     "data": {
      "text/plain": "{'model_7_accuracy_score': 0.8372703412073491,\n 'model_7_precision': 0.8370524103039156,\n 'model_7_recall': {0.8372703412073491},\n 'model_7_f1score': {0.8367856456967269}}"
     },
     "execution_count": 38,
     "metadata": {},
     "output_type": "execute_result"
    }
   ],
   "source": [
    "from sklearn.metrics import accuracy_score, precision_recall_fscore_support\n",
    "\n",
    "model_7_accuracy_score = accuracy_score(val_labels, model_7_preds)\n",
    "model_7_precision, model_7_recall, model_7_f1score, _, =precision_recall_fscore_support(val_labels, model_7_preds, average = \"weighted\")"
   ],
   "metadata": {
    "collapsed": false,
    "ExecuteTime": {
     "end_time": "2023-07-30T14:53:12.188074100Z",
     "start_time": "2023-07-30T14:53:12.186364800Z"
    }
   },
   "id": "bb72cbd0e53eeb99"
  },
  {
   "cell_type": "code",
   "execution_count": null,
   "outputs": [],
   "source": [
    "dict_result = {\"model_7_accuracy_score\": model_7_accuracy_score,\n",
    "               \"model_7_precision\": model_7_precision,\n",
    "               \"model_7_recall\": {model_7_recall},\n",
    "               \"model_7_f1score\": {model_7_f1score}}\n",
    "dict_result"
   ],
   "metadata": {
    "collapsed": false
   },
   "id": "acfa3bb352a28ad4"
  }
 ],
 "metadata": {
  "kernelspec": {
   "display_name": "Python 3",
   "language": "python",
   "name": "python3"
  },
  "language_info": {
   "codemirror_mode": {
    "name": "ipython",
    "version": 2
   },
   "file_extension": ".py",
   "mimetype": "text/x-python",
   "name": "python",
   "nbconvert_exporter": "python",
   "pygments_lexer": "ipython2",
   "version": "2.7.6"
  }
 },
 "nbformat": 4,
 "nbformat_minor": 5
}
