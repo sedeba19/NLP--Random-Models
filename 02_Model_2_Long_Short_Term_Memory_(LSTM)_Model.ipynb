{
 "cells": [
  {
   "cell_type": "code",
   "execution_count": 2,
   "outputs": [
    {
     "data": {
      "text/plain": "'2.13.0'"
     },
     "execution_count": 2,
     "metadata": {},
     "output_type": "execute_result"
    }
   ],
   "source": [
    "import os\n",
    "import tensorflow as tf\n",
    "import pandas as pd\n",
    "\n",
    "tf.__version__\n"
   ],
   "metadata": {
    "collapsed": false,
    "ExecuteTime": {
     "end_time": "2023-07-30T15:10:09.093364300Z",
     "start_time": "2023-07-30T15:10:07.500522800Z"
    }
   },
   "id": "d895e3f341f9cd2c"
  },
  {
   "cell_type": "code",
   "execution_count": 3,
   "outputs": [],
   "source": [
    "train_dir = r'https://raw.githubusercontent.com/sedeba19/NLP--Random-Models/main/train.csv'\n",
    "test_dir = r'https://raw.githubusercontent.com/sedeba19/NLP--Random-Models/main/test.csv'"
   ],
   "metadata": {
    "collapsed": false,
    "ExecuteTime": {
     "end_time": "2023-07-30T15:10:09.095368400Z",
     "start_time": "2023-07-30T15:10:09.090936300Z"
    }
   },
   "id": "f9e05dc9db4f2150"
  },
  {
   "cell_type": "code",
   "execution_count": 4,
   "outputs": [
    {
     "data": {
      "text/plain": "'https://raw.githubusercontent.com/sedeba19/NLP--Random-Models/main/train.csv'"
     },
     "execution_count": 4,
     "metadata": {},
     "output_type": "execute_result"
    }
   ],
   "source": [
    "train_dir"
   ],
   "metadata": {
    "collapsed": false,
    "ExecuteTime": {
     "end_time": "2023-07-30T15:10:09.104242100Z",
     "start_time": "2023-07-30T15:10:09.095368400Z"
    }
   },
   "id": "e237aa9b92bb079a"
  },
  {
   "cell_type": "code",
   "execution_count": 5,
   "outputs": [
    {
     "data": {
      "text/plain": "   id keyword location                                               text  \\\n0   1     NaN      NaN  Our Deeds are the Reason of this #earthquake M...   \n1   4     NaN      NaN             Forest fire near La Ronge Sask. Canada   \n2   5     NaN      NaN  All residents asked to 'shelter in place' are ...   \n3   6     NaN      NaN  13,000 people receive #wildfires evacuation or...   \n4   7     NaN      NaN  Just got sent this photo from Ruby #Alaska as ...   \n\n   target  \n0       1  \n1       1  \n2       1  \n3       1  \n4       1  ",
      "text/html": "<div>\n<style scoped>\n    .dataframe tbody tr th:only-of-type {\n        vertical-align: middle;\n    }\n\n    .dataframe tbody tr th {\n        vertical-align: top;\n    }\n\n    .dataframe thead th {\n        text-align: right;\n    }\n</style>\n<table border=\"1\" class=\"dataframe\">\n  <thead>\n    <tr style=\"text-align: right;\">\n      <th></th>\n      <th>id</th>\n      <th>keyword</th>\n      <th>location</th>\n      <th>text</th>\n      <th>target</th>\n    </tr>\n  </thead>\n  <tbody>\n    <tr>\n      <th>0</th>\n      <td>1</td>\n      <td>NaN</td>\n      <td>NaN</td>\n      <td>Our Deeds are the Reason of this #earthquake M...</td>\n      <td>1</td>\n    </tr>\n    <tr>\n      <th>1</th>\n      <td>4</td>\n      <td>NaN</td>\n      <td>NaN</td>\n      <td>Forest fire near La Ronge Sask. Canada</td>\n      <td>1</td>\n    </tr>\n    <tr>\n      <th>2</th>\n      <td>5</td>\n      <td>NaN</td>\n      <td>NaN</td>\n      <td>All residents asked to 'shelter in place' are ...</td>\n      <td>1</td>\n    </tr>\n    <tr>\n      <th>3</th>\n      <td>6</td>\n      <td>NaN</td>\n      <td>NaN</td>\n      <td>13,000 people receive #wildfires evacuation or...</td>\n      <td>1</td>\n    </tr>\n    <tr>\n      <th>4</th>\n      <td>7</td>\n      <td>NaN</td>\n      <td>NaN</td>\n      <td>Just got sent this photo from Ruby #Alaska as ...</td>\n      <td>1</td>\n    </tr>\n  </tbody>\n</table>\n</div>"
     },
     "execution_count": 5,
     "metadata": {},
     "output_type": "execute_result"
    }
   ],
   "source": [
    "# Make a train_df\n",
    "train_df = pd.read_csv(train_dir)\n",
    "test_df = pd.read_csv(test_dir)\n",
    "train_df.head()"
   ],
   "metadata": {
    "collapsed": false,
    "ExecuteTime": {
     "end_time": "2023-07-30T15:10:09.903059300Z",
     "start_time": "2023-07-30T15:10:09.099242Z"
    }
   },
   "id": "c858f9a76b34b934"
  },
  {
   "cell_type": "code",
   "execution_count": 6,
   "outputs": [
    {
     "data": {
      "text/plain": "         id               keyword                  location  \\\n3228   4632  emergency%20services   Sydney, New South Wales   \n3706   5271                  fear                       NaN   \n6957   9982               tsunami         Land Of The Kings   \n2887   4149                 drown                       NaN   \n7464  10680                wounds  cody, austin follows ?*?   \n\n                                                   text  target  \n3228  Goulburn man Henry Van Bilsen missing: Emergen...       1  \n3706  The things we fear most in organizations--fluc...       0  \n6957                            @tsunami_esh ?? hey Esh       0  \n2887  @POTUS you until you drown by water entering t...       0  \n7464  Crawling in my skin\\nThese wounds they will no...       1  ",
      "text/html": "<div>\n<style scoped>\n    .dataframe tbody tr th:only-of-type {\n        vertical-align: middle;\n    }\n\n    .dataframe tbody tr th {\n        vertical-align: top;\n    }\n\n    .dataframe thead th {\n        text-align: right;\n    }\n</style>\n<table border=\"1\" class=\"dataframe\">\n  <thead>\n    <tr style=\"text-align: right;\">\n      <th></th>\n      <th>id</th>\n      <th>keyword</th>\n      <th>location</th>\n      <th>text</th>\n      <th>target</th>\n    </tr>\n  </thead>\n  <tbody>\n    <tr>\n      <th>3228</th>\n      <td>4632</td>\n      <td>emergency%20services</td>\n      <td>Sydney, New South Wales</td>\n      <td>Goulburn man Henry Van Bilsen missing: Emergen...</td>\n      <td>1</td>\n    </tr>\n    <tr>\n      <th>3706</th>\n      <td>5271</td>\n      <td>fear</td>\n      <td>NaN</td>\n      <td>The things we fear most in organizations--fluc...</td>\n      <td>0</td>\n    </tr>\n    <tr>\n      <th>6957</th>\n      <td>9982</td>\n      <td>tsunami</td>\n      <td>Land Of The Kings</td>\n      <td>@tsunami_esh ?? hey Esh</td>\n      <td>0</td>\n    </tr>\n    <tr>\n      <th>2887</th>\n      <td>4149</td>\n      <td>drown</td>\n      <td>NaN</td>\n      <td>@POTUS you until you drown by water entering t...</td>\n      <td>0</td>\n    </tr>\n    <tr>\n      <th>7464</th>\n      <td>10680</td>\n      <td>wounds</td>\n      <td>cody, austin follows ?*?</td>\n      <td>Crawling in my skin\\nThese wounds they will no...</td>\n      <td>1</td>\n    </tr>\n  </tbody>\n</table>\n</div>"
     },
     "execution_count": 6,
     "metadata": {},
     "output_type": "execute_result"
    }
   ],
   "source": [
    "# Shuffle training dataframe\n",
    "train_df_shuffled = train_df.sample(frac = 1, random_state = 1)\n",
    "train_df_shuffled.head()"
   ],
   "metadata": {
    "collapsed": false,
    "ExecuteTime": {
     "end_time": "2023-07-30T15:10:09.910079800Z",
     "start_time": "2023-07-30T15:10:09.905003200Z"
    }
   },
   "id": "ffa95adda1afec99"
  },
  {
   "cell_type": "code",
   "execution_count": 7,
   "outputs": [
    {
     "data": {
      "text/plain": "(7613, 5)"
     },
     "execution_count": 7,
     "metadata": {},
     "output_type": "execute_result"
    }
   ],
   "source": [
    "train_df_shuffled.shape"
   ],
   "metadata": {
    "collapsed": false,
    "ExecuteTime": {
     "end_time": "2023-07-30T15:10:09.912085100Z",
     "start_time": "2023-07-30T15:10:09.908513100Z"
    }
   },
   "id": "66e71f2c2322a35c"
  },
  {
   "cell_type": "code",
   "execution_count": 8,
   "outputs": [
    {
     "data": {
      "text/plain": "target\n0    4342\n1    3271\nName: count, dtype: int64"
     },
     "execution_count": 8,
     "metadata": {},
     "output_type": "execute_result"
    }
   ],
   "source": [
    "# How many examples of each class?\n",
    "train_df['target'].value_counts()"
   ],
   "metadata": {
    "collapsed": false,
    "ExecuteTime": {
     "end_time": "2023-07-30T15:10:09.921739200Z",
     "start_time": "2023-07-30T15:10:09.912085100Z"
    }
   },
   "id": "e8f13f3fbc904937"
  },
  {
   "cell_type": "code",
   "execution_count": 9,
   "outputs": [
    {
     "data": {
      "text/plain": "(7613, 3263)"
     },
     "execution_count": 9,
     "metadata": {},
     "output_type": "execute_result"
    }
   ],
   "source": [
    "# How many total samples?\n",
    "len(train_df), len(test_df)"
   ],
   "metadata": {
    "collapsed": false,
    "ExecuteTime": {
     "end_time": "2023-07-30T15:10:09.922740Z",
     "start_time": "2023-07-30T15:10:09.916272600Z"
    }
   },
   "id": "6a3f06f716aed950"
  },
  {
   "cell_type": "code",
   "execution_count": 10,
   "outputs": [
    {
     "name": "stdout",
     "output_type": "stream",
     "text": [
      "Target:1 (real disaster)\n",
      "Text: \n",
      "Japan Marks 70th Anniversary of Hiroshima Atomic Bombing http://t.co/93vqkdFgnr\n",
      "-----\n",
      "\n",
      "Target:0 (not a real disaster)\n",
      "Text: \n",
      "that new lil b x chance is nothing but flames\n",
      "-----\n",
      "\n",
      "Target:0 (not a real disaster)\n",
      "Text: \n",
      "Can you recommend anyone for this #job? RN Emergency Services Full Time 3p - 3\\:30a Rose de Lima Campus - http://t.co/xQrLEWiA4x #Hiring\n",
      "-----\n",
      "\n",
      "Target:1 (real disaster)\n",
      "Text: \n",
      "Pak Army Helicopter crashed in Mansehra.\n",
      "-----\n",
      "\n",
      "Target:0 (not a real disaster)\n",
      "Text: \n",
      "I liked a @YouTube video http://t.co/M9YdA5k6jf Spyro 3 Texture Hacks - 'Desolate Gardens' [In-game]\n",
      "-----\n"
     ]
    }
   ],
   "source": [
    "# Visualize some random training examples\n",
    "import random\n",
    "random_index = random.randint(0, len(train_df)-5)\n",
    "for row in train_df_shuffled[[\"text\", \"target\"]][random_index: random_index +5].itertuples():\n",
    "    _, text, target = row\n",
    "    if target > 0:\n",
    "        print(f\"Target:{target}\", \"(real disaster)\")\n",
    "    else:\n",
    "        print(f\"Target:{target}\", \"(not a real disaster)\")\n",
    "    \n",
    "    print(f\"Text: \\n{text}\")\n",
    "    print(\"-----\\n\")"
   ],
   "metadata": {
    "collapsed": false,
    "ExecuteTime": {
     "end_time": "2023-07-30T15:10:09.924781600Z",
     "start_time": "2023-07-30T15:10:09.920740200Z"
    }
   },
   "id": "99ad01fd617f2fad"
  },
  {
   "cell_type": "markdown",
   "source": [
    "### Split data into training and validation sets"
   ],
   "metadata": {
    "collapsed": false,
    "ExecuteTime": {
     "end_time": "2023-07-30T14:49:17.326324400Z",
     "start_time": "2023-07-30T14:49:17.047093600Z"
    }
   },
   "id": "cc004f467eb6820b"
  },
  {
   "cell_type": "code",
   "execution_count": 11,
   "outputs": [],
   "source": [
    "from sklearn.model_selection import train_test_split\n",
    "\n",
    "train_sentences, val_sentences, train_labels, val_labels = train_test_split(train_df['text'],\n",
    "                                                                            train_df['target'],\n",
    "                                                                            test_size = 0.1,\n",
    "                                                                            random_state = 42)"
   ],
   "metadata": {
    "collapsed": false,
    "ExecuteTime": {
     "end_time": "2023-07-30T15:10:10.207970300Z",
     "start_time": "2023-07-30T15:10:09.925782200Z"
    }
   },
   "id": "e9962e431d6f4625"
  },
  {
   "cell_type": "code",
   "execution_count": 12,
   "outputs": [
    {
     "data": {
      "text/plain": "(7613,)"
     },
     "execution_count": 12,
     "metadata": {},
     "output_type": "execute_result"
    }
   ],
   "source": [
    "train_df['text'].shape"
   ],
   "metadata": {
    "collapsed": false,
    "ExecuteTime": {
     "end_time": "2023-07-30T15:10:10.219106200Z",
     "start_time": "2023-07-30T15:10:10.209971Z"
    }
   },
   "id": "2044aeeaed5209d8"
  },
  {
   "cell_type": "code",
   "execution_count": 13,
   "outputs": [
    {
     "data": {
      "text/plain": "0       Our Deeds are the Reason of this #earthquake M...\n1                  Forest fire near La Ronge Sask. Canada\n2       All residents asked to 'shelter in place' are ...\n3       13,000 people receive #wildfires evacuation or...\n4       Just got sent this photo from Ruby #Alaska as ...\n                              ...                        \n7608    Two giant cranes holding a bridge collapse int...\n7609    @aria_ahrary @TheTawniest The out of control w...\n7610    M1.94 [01:04 UTC]?5km S of Volcano Hawaii. htt...\n7611    Police investigating after an e-bike collided ...\n7612    The Latest: More Homes Razed by Northern Calif...\nName: text, Length: 7613, dtype: object"
     },
     "execution_count": 13,
     "metadata": {},
     "output_type": "execute_result"
    }
   ],
   "source": [
    "train_df[\"text\"]"
   ],
   "metadata": {
    "collapsed": false,
    "ExecuteTime": {
     "end_time": "2023-07-30T15:10:10.230440400Z",
     "start_time": "2023-07-30T15:10:10.215106600Z"
    }
   },
   "id": "aecfc9a6831f9cee"
  },
  {
   "cell_type": "code",
   "execution_count": 14,
   "outputs": [
    {
     "data": {
      "text/plain": "array(['Our Deeds are the Reason of this #earthquake May ALLAH Forgive us all',\n       'Forest fire near La Ronge Sask. Canada',\n       \"All residents asked to 'shelter in place' are being notified by officers. No other evacuation or shelter in place orders are expected\",\n       ...,\n       'M1.94 [01:04 UTC]?5km S of Volcano Hawaii. http://t.co/zDtoyd8EbJ',\n       'Police investigating after an e-bike collided with a car in Little Portugal. E-bike rider suffered serious non-life threatening injuries.',\n       'The Latest: More Homes Razed by Northern California Wildfire - ABC News http://t.co/YmY4rSkQ3d'],\n      dtype=object)"
     },
     "execution_count": 14,
     "metadata": {},
     "output_type": "execute_result"
    }
   ],
   "source": [
    "train_df['text'].to_numpy()"
   ],
   "metadata": {
    "collapsed": false,
    "ExecuteTime": {
     "end_time": "2023-07-30T15:10:10.231440600Z",
     "start_time": "2023-07-30T15:10:10.223580800Z"
    }
   },
   "id": "4cdc72f6e817f834"
  },
  {
   "cell_type": "code",
   "execution_count": 15,
   "outputs": [
    {
     "data": {
      "text/plain": "array(['Our Deeds are the Reason of this #earthquake May ALLAH Forgive us all',\n       'Forest fire near La Ronge Sask. Canada',\n       \"All residents asked to 'shelter in place' are being notified by officers. No other evacuation or shelter in place orders are expected\",\n       ...,\n       'M1.94 [01:04 UTC]?5km S of Volcano Hawaii. http://t.co/zDtoyd8EbJ',\n       'Police investigating after an e-bike collided with a car in Little Portugal. E-bike rider suffered serious non-life threatening injuries.',\n       'The Latest: More Homes Razed by Northern California Wildfire - ABC News http://t.co/YmY4rSkQ3d'],\n      dtype=object)"
     },
     "execution_count": 15,
     "metadata": {},
     "output_type": "execute_result"
    }
   ],
   "source": [
    "train_df['text'].to_numpy()"
   ],
   "metadata": {
    "collapsed": false,
    "ExecuteTime": {
     "end_time": "2023-07-30T15:10:10.244559100Z",
     "start_time": "2023-07-30T15:10:10.230440400Z"
    }
   },
   "id": "ec43b6635db1dc03"
  },
  {
   "cell_type": "code",
   "execution_count": 16,
   "outputs": [
    {
     "data": {
      "text/plain": "(6851, 762, 6851, 762)"
     },
     "execution_count": 16,
     "metadata": {},
     "output_type": "execute_result"
    }
   ],
   "source": [
    "len(train_sentences), len(val_sentences), len(train_labels), len(val_labels)"
   ],
   "metadata": {
    "collapsed": false,
    "ExecuteTime": {
     "end_time": "2023-07-30T15:10:10.245241100Z",
     "start_time": "2023-07-30T15:10:10.236727800Z"
    }
   },
   "id": "c4b936bb4e61352a"
  },
  {
   "cell_type": "markdown",
   "source": [
    "### Converting text into numbers: Text Vectorization also known as Tokenization"
   ],
   "metadata": {
    "collapsed": false,
    "ExecuteTime": {
     "end_time": "2023-07-30T14:49:17.397358500Z",
     "start_time": "2023-07-30T14:49:17.353646800Z"
    }
   },
   "id": "5777dedf87f2662b"
  },
  {
   "cell_type": "code",
   "execution_count": 17,
   "outputs": [
    {
     "data": {
      "text/plain": "101905"
     },
     "execution_count": 17,
     "metadata": {},
     "output_type": "execute_result"
    }
   ],
   "source": [
    "# Get the total words\n",
    "total_words = 0\n",
    "for i in train_sentences:\n",
    "    total_words += len(i.split())\n",
    "\n",
    "total_words"
   ],
   "metadata": {
    "collapsed": false,
    "ExecuteTime": {
     "end_time": "2023-07-30T15:10:10.303090800Z",
     "start_time": "2023-07-30T15:10:10.239558600Z"
    }
   },
   "id": "618457c173977155"
  },
  {
   "cell_type": "code",
   "execution_count": 18,
   "outputs": [
    {
     "data": {
      "text/plain": "(6851,)"
     },
     "execution_count": 18,
     "metadata": {},
     "output_type": "execute_result"
    }
   ],
   "source": [
    "train_sentences.shape"
   ],
   "metadata": {
    "collapsed": false,
    "ExecuteTime": {
     "end_time": "2023-07-30T15:10:10.303090800Z",
     "start_time": "2023-07-30T15:10:10.247750800Z"
    }
   },
   "id": "829d84b65c26bb92"
  },
  {
   "cell_type": "code",
   "execution_count": 19,
   "outputs": [
    {
     "data": {
      "text/plain": "15"
     },
     "execution_count": 19,
     "metadata": {},
     "output_type": "execute_result"
    }
   ],
   "source": [
    "# Get the average words per sentence or line\n",
    "avg_words_per_sentence = round(total_words/len(train_sentences))\n",
    "avg_words_per_sentence"
   ],
   "metadata": {
    "collapsed": false,
    "ExecuteTime": {
     "end_time": "2023-07-30T15:10:10.304092100Z",
     "start_time": "2023-07-30T15:10:10.250440600Z"
    }
   },
   "id": "a7a8bed44aec85d5"
  },
  {
   "cell_type": "code",
   "execution_count": 20,
   "outputs": [],
   "source": [
    "# Normally, total number of words is equal or less than the max vocabulary length\n",
    "max_vocab_length = 10000\n",
    "\n",
    "# max length of a statement is equal or more than the average word per sentence or line\n",
    "max_length = 15"
   ],
   "metadata": {
    "collapsed": false,
    "ExecuteTime": {
     "end_time": "2023-07-30T15:10:10.304092100Z",
     "start_time": "2023-07-30T15:10:10.255577Z"
    }
   },
   "id": "92ebee1bf68d8486"
  },
  {
   "cell_type": "code",
   "execution_count": 21,
   "outputs": [],
   "source": [
    "import tensorflow as tf\n",
    "from tensorflow.keras.layers.experimental.preprocessing import TextVectorization\n",
    "\n",
    "text_vectorizer = TextVectorization(max_tokens = max_vocab_length,\n",
    "                                    output_mode = \"int\",\n",
    "                                    output_sequence_length = max_length)\n",
    "\n",
    "# Fit the text vectorizer to the training set\n",
    "text_vectorizer.adapt(train_sentences)"
   ],
   "metadata": {
    "collapsed": false,
    "ExecuteTime": {
     "end_time": "2023-07-30T15:10:10.522613200Z",
     "start_time": "2023-07-30T15:10:10.257088200Z"
    }
   },
   "id": "8805b068faa29b89"
  },
  {
   "cell_type": "code",
   "execution_count": 22,
   "outputs": [
    {
     "name": "stdout",
     "output_type": "stream",
     "text": [
      "There's a flood in my street! Sentence length is 29.\n"
     ]
    },
    {
     "data": {
      "text/plain": "<tf.Tensor: shape=(1, 15), dtype=int64, numpy=\narray([[282,   3, 206,   4,  13, 674,   0,   0,   0,   0,   0,   0,   0,\n          0,   0]], dtype=int64)>"
     },
     "execution_count": 22,
     "metadata": {},
     "output_type": "execute_result"
    }
   ],
   "source": [
    "# Create a sample sentence and tokenize it\n",
    "samp_sentence = \"There's a flood in my street!\"\n",
    "print(samp_sentence, f\"Sentence length is {len(samp_sentence)}.\")\n",
    "text_vectorizer([samp_sentence])\n",
    "#len(tf.squeeze(text_vectorizer([samp_sentence])))"
   ],
   "metadata": {
    "collapsed": false,
    "ExecuteTime": {
     "end_time": "2023-07-30T15:10:10.544269400Z",
     "start_time": "2023-07-30T15:10:10.523612700Z"
    }
   },
   "id": "111d45283fbfd4ae"
  },
  {
   "cell_type": "code",
   "execution_count": 23,
   "outputs": [
    {
     "name": "stdout",
     "output_type": "stream",
     "text": [
      "Original text: \n",
      "\n",
      " A real life tragedy:\n",
      "Monica's hair on any given season of Friends \n",
      "\n",
      "Vectorized text:\n"
     ]
    },
    {
     "data": {
      "text/plain": "<tf.Tensor: shape=(1, 15), dtype=int64, numpy=\narray([[   3,  386,  122,  454,    1, 1192,   11,  234, 2105, 1167,    6,\n         805,    0,    0,    0]], dtype=int64)>"
     },
     "execution_count": 23,
     "metadata": {},
     "output_type": "execute_result"
    }
   ],
   "source": [
    "# Choose random sentence from the training dataset and tokenize it\n",
    "rand_train_sentence = random.choice(train_sentences)\n",
    "print(f\"Original text: \\n\\n {rand_train_sentence} \\n\\nVectorized text:\")\n",
    "text_vectorizer([rand_train_sentence])"
   ],
   "metadata": {
    "collapsed": false,
    "ExecuteTime": {
     "end_time": "2023-07-30T15:10:10.554938700Z",
     "start_time": "2023-07-30T15:10:10.545269600Z"
    }
   },
   "id": "4f30ca7e95b2b5e5"
  },
  {
   "cell_type": "code",
   "execution_count": 24,
   "outputs": [
    {
     "data": {
      "text/plain": "['',\n '[UNK]',\n 'the',\n 'a',\n 'in',\n 'to',\n 'of',\n 'and',\n 'i',\n 'is',\n 'for',\n 'on',\n 'you',\n 'my',\n 'with',\n 'it',\n 'that',\n 'at',\n 'by',\n 'this',\n 'from',\n 'are',\n 'be',\n 'was',\n 'have',\n 'like',\n 'as',\n 'me',\n 'but',\n 'up',\n 'just',\n 'so',\n 'im',\n 'not',\n 'amp',\n 'your',\n 'out',\n 'all',\n 'after',\n 'its',\n 'has',\n 'no',\n 'will',\n 'an',\n 'fire',\n 'when',\n 'if',\n 'we',\n 'get',\n 'now',\n 'more',\n 'via',\n 'new',\n 'about',\n 'what',\n 'people',\n 'or',\n 'news',\n 'he',\n 'they',\n 'over',\n 'one',\n 'been',\n 'how',\n 'dont',\n 'who',\n 'video',\n 'into',\n 'were',\n 'do',\n 'us',\n 'can',\n 'emergency',\n '2',\n 'disaster',\n 'there',\n 'her',\n 'some',\n 'than',\n 'still',\n 'would',\n 'his',\n 'police',\n 'crash',\n 'burning',\n 'suicide',\n 'body',\n 'california',\n 'back',\n 'time',\n 'buildings',\n 'had',\n 'why',\n 'off',\n 'them',\n 'got',\n 'man',\n 'see',\n 'storm',\n 'know',\n 'going',\n 'cant',\n 'world',\n 'first',\n 'day',\n 'rt',\n 'nuclear',\n 'love',\n 'youtube',\n 'our',\n 'attack',\n 'go',\n 'fires',\n 'two',\n 'their',\n 'bomb',\n 'killed',\n '3',\n 'train',\n 'dead',\n 'car',\n 'war',\n 'life',\n 'may',\n 'watch',\n 'full',\n 'only',\n 'here',\n 'hiroshima',\n 'down',\n 'today',\n 'u',\n 'accident',\n 'think',\n 'many',\n 'good',\n 'way',\n 'families',\n 'too',\n 'then',\n 'say',\n 'being',\n 'last',\n 'could',\n 'years',\n 'want',\n 'did',\n 'home',\n 'best',\n 'should',\n 'need',\n 'mass',\n 'even',\n 'work',\n 'make',\n 'help',\n 'bombing',\n 'wildfire',\n 'please',\n 'look',\n 'lol',\n 'because',\n 'another',\n 'take',\n 'him',\n 'collapse',\n 'year',\n 'water',\n 'those',\n 'really',\n 'army',\n 'am',\n 'school',\n 'mh370',\n 'death',\n 'right',\n 'pm',\n 'black',\n 'much',\n 'forest',\n 'fatal',\n '5',\n 'youre',\n 'she',\n 'northern',\n '4',\n 'live',\n 'city',\n 'bomber',\n 'wreck',\n 'hot',\n 'great',\n 'every',\n '2015',\n 'old',\n 'let',\n 'legionnaires',\n 'fear',\n 'obama',\n 'latest',\n 'homes',\n 'flames',\n 'come',\n '1',\n 'never',\n 'getting',\n 'flood',\n '\\x89Û',\n 'where',\n 'said',\n 'japan',\n 'shit',\n 'floods',\n 'during',\n 'atomic',\n 'god',\n 'damage',\n 'under',\n 'near',\n 'feel',\n 'ever',\n 'earthquake',\n 'ass',\n 'which',\n 'since',\n 'read',\n 'oil',\n 'night',\n 'most',\n 'military',\n 'injured',\n 'hope',\n 'everyone',\n 'coming',\n 'any',\n 'without',\n 'while',\n 'well',\n 'thats',\n 'stop',\n 'next',\n 'hit',\n 'weather',\n 'these',\n 'state',\n 'little',\n 'flooding',\n 'evacuation',\n 'before',\n 'truck',\n 'severe',\n 's',\n 'content',\n 'always',\n 'until',\n 'top',\n 'through',\n 'smoke',\n 'plan',\n 'found',\n 'confirmed',\n 'cause',\n 'movie',\n 'fucking',\n 'face',\n 'debris',\n 'bloody',\n 'bad',\n 'weapon',\n 'warning',\n 'times',\n 'thunderstorm',\n 'set',\n 'says',\n 'natural',\n 'malaysia',\n 'liked',\n 'ive',\n 'gonna',\n 'free',\n 'fall',\n 'thunder',\n 'theres',\n 'sinking',\n 'saudi',\n 'refugees',\n 'made',\n 'loud',\n 'looks',\n 'injuries',\n 'house',\n 'hes',\n 'heat',\n 'cross',\n 'also',\n 'air',\n 'w',\n 'screaming',\n 'rain',\n 'murder',\n 'head',\n 'failure',\n 'explode',\n 'check',\n 'wreckage',\n 'wind',\n 'wild',\n 'trapped',\n 'survive',\n 'spill',\n 'reddit',\n 'panic',\n 'missing',\n 'lightning',\n 'family',\n 'change',\n 'whole',\n 'weapons',\n 'terrorist',\n 'service',\n 'run',\n 'rescuers',\n 'report',\n 'released',\n 'photo',\n 'outbreak',\n 'ill',\n 'food',\n 'evacuate',\n 'end',\n 'destroyed',\n 'deaths',\n 'boy',\n 'again',\n '70',\n 'terrorism',\n 'sinkhole',\n 'services',\n 'save',\n 'road',\n 'rescue',\n 'migrants',\n 'keep',\n 'high',\n 'harm',\n 'danger',\n 'county',\n 'collided',\n 'blood',\n 'big',\n 'bags',\n 'twister',\n 'trauma',\n 'tonight',\n 'summer',\n 'ruin',\n 'mosque',\n 'lives',\n 'least',\n 'hail',\n 'girl',\n 'fuck',\n 'fatalities',\n 'does',\n 'derailment',\n 'curfew',\n 'collapsed',\n 'charged',\n 'call',\n 'burned',\n 'breaking',\n 'boat',\n 'bag',\n 'attacked',\n 'ambulance',\n 'wrecked',\n 'wounded',\n 'white',\n 'week',\n 'update',\n 'things',\n 'structural',\n 'stock',\n 'someone',\n 'show',\n 'rioting',\n 'real',\n 'phone',\n 'mudslide',\n 'landslide',\n 'investigators',\n 'explosion',\n 'engulfed',\n 'displaced',\n 'devastation',\n 'destroy',\n 'deluge',\n 'crashed',\n 'catastrophe',\n 'bus',\n 'battle',\n 'away',\n 'area',\n 'apocalypse',\n 'whirlwind',\n 'survivors',\n 'survived',\n 'sunk',\n 'saw',\n 'sandstorm',\n 'post',\n 'other',\n 'massacre',\n 'island',\n 'injury',\n 'id',\n 'hundreds',\n 'hostages',\n 'horrible',\n 'hazardous',\n 'hazard',\n 'game',\n 'exploded',\n 'drought',\n 'bridge',\n 'bang',\n '40',\n 'windstorm',\n 'went',\n 'wave',\n 'soon',\n 'rescued',\n 'quarantined',\n 'national',\n 'market',\n 'kills',\n 'hurricane',\n 'heard',\n 'drowning',\n 'drown',\n 'detonate',\n 'destruction',\n 'derail',\n 'cliff',\n 'bombed',\n 'blown',\n 'around',\n 'airplane',\n '6',\n '\\x89ÛÒ',\n 'wounds',\n 'woman',\n 'trouble',\n 'traumatised',\n 'tragedy',\n 'thing',\n 'story',\n 'screams',\n 'put',\n 'past',\n 'ok',\n 'iran',\n 'inundated',\n 'group',\n 'flattened',\n 'fedex',\n 'caused',\n 'came',\n 'better',\n 'august',\n 'armageddon',\n 'anniversary',\n '15',\n 'women',\n 'wanna',\n 'violent',\n 'typhoon',\n 'tsunami',\n 'thank',\n 'security',\n 'razed',\n 'possible',\n 'meltdown',\n 'lot',\n 'isis',\n 'hostage',\n 'famine',\n 'electrocuted',\n 'ebay',\n 'dust',\n 'crush',\n 'collide',\n 'chemical',\n 'blew',\n 'bleeding',\n 'bioterror',\n 'against',\n 'zone',\n 'whats',\n 'use',\n 'twitter',\n 'tomorrow',\n 'sure',\n 'something',\n 'send',\n 'quarantine',\n 'plane',\n 'pkk',\n 'part',\n 'panicking',\n 'pandemonium',\n 'oh',\n 'must',\n 'longer',\n 'long',\n 'left',\n 'hijacker',\n 'heart',\n 'government',\n 'goes',\n 'due',\n 'didnt',\n 'detonated',\n 'desolation',\n 'collision',\n 'catastrophic',\n 'casualties',\n 'calgary',\n 'building',\n 'beautiful',\n 'bagging',\n 'affected',\n 'yet',\n 'volcano',\n 'very',\n 'thanks',\n 'st',\n 'screamed',\n 'river',\n 'riot',\n 'reunion',\n 'responders',\n 'red',\n 'obliteration',\n 'obliterated',\n 'nothing',\n 'music',\n 'minute',\n 'lava',\n 'land',\n 'hijacking',\n 'fatality',\n 'fan',\n 'drowned',\n 'detonation',\n 'demolish',\n 'cool',\n 'blast',\n 'believe',\n 'baby',\n 'used',\n 'ur',\n 'three',\n 'thought',\n 'sound',\n 'song',\n 'site',\n 'sirens',\n 'shoulder',\n 'seismic',\n 'same',\n 'prebreak',\n 'power',\n 'officials',\n 'obliterate',\n 'few',\n 'eyewitness',\n 'died',\n 'demolished',\n 'care',\n 'arson',\n 'airport',\n '9',\n 'turkey',\n 'traffic',\n 'such',\n 'stay',\n 'start',\n 'snowstorm',\n 'shooting',\n 'rubble',\n 'remember',\n 'rainstorm',\n 'murderer',\n 'media',\n 'making',\n 'kids',\n 'issues',\n 'israeli',\n 'india',\n 'having',\n 'far',\n 'evacuated',\n 'electrocute',\n 'doing',\n 'doesnt',\n 'derailed',\n 'demolition',\n 'crushed',\n 'brown',\n 'blazing',\n 'annihilated',\n '8',\n '7',\n '16yr',\n 'yes',\n 'wake',\n 'suspect',\n 'south',\n 'shot',\n 'reactor',\n 'policy',\n 'nowplaying',\n 'nearby',\n 'line',\n 'light',\n 'lets',\n 'leave',\n 'inside',\n 'horror',\n 'hijack',\n 'hell',\n 'health',\n 'gets',\n 'casualty',\n 'bc',\n 'already',\n 'actually',\n 'words',\n 'upheaval',\n 'trying',\n 'tornado',\n 'tell',\n 'sue',\n 'stretcher',\n 'second',\n 're\\x89Û',\n 'plans',\n 'pic',\n 'mp',\n 'men',\n 'maybe',\n 'low',\n 'lab',\n 'islam',\n 'hours',\n 'history',\n 'half',\n 'guys',\n 'fun',\n 'fight',\n 'done',\n 'deluged',\n 'declares',\n 'days',\n 'bodies',\n 'bestnaijamade',\n 'anything',\n 'almost',\n '20',\n '\\x89ÛÓ',\n 'wont',\n 'swallowed',\n 'support',\n 'street',\n 'searching',\n 'reuters',\n 'play',\n 'place',\n 'photos',\n 'person',\n 'peace',\n 'online',\n 'north',\n 'literally',\n 'hey',\n 'helicopter',\n 'find',\n 'cyclone',\n 'crews',\n 'business',\n 'bush',\n 'both',\n 'bioterrorism',\n 'bar',\n 'avalanche',\n 'aircraft',\n 'abc',\n '50',\n 'yeah',\n 'west',\n 'wait',\n 'typhoondevastated',\n 'theyre',\n 'siren',\n 'saipan',\n 'pick',\n 'name',\n 'money',\n 'la',\n 'kill',\n 'job',\n 'hellfire',\n 'hear',\n 'happy',\n 'eyes',\n 'die',\n 'data',\n 'conclusively',\n 'children',\n 'blight',\n 'blaze',\n 'ago',\n 'waves',\n 'trench',\n 'texas',\n 'team',\n 'space',\n 'projected',\n 'probably',\n 'picking',\n 'own',\n 'order',\n 'myself',\n 'memories',\n 'major',\n 'm',\n 'lost',\n 'jobs',\n 'hollywood',\n 'feared',\n 'effect',\n 'deal',\n 'd',\n 'center',\n 'case',\n 'book',\n 'bigger',\n 'anyone',\n 'american',\n 'ablaze',\n '12',\n '10',\n 'yourself',\n 'watching',\n 'tv',\n 'transport',\n 'town',\n 'spot',\n 'soudelor',\n 'ship',\n 'seen',\n 'saved',\n 'pretty',\n 'outside',\n 'officer',\n 'mom',\n 'miners',\n 'meek',\n 'leather',\n 'houses',\n 'hat',\n 'hard',\n 'flag',\n 'everything',\n 'daily',\n 'child',\n 'chance',\n 'called',\n 'banned',\n 'ball',\n 'annihilation',\n 'amid',\n '30',\n 'wow',\n 'trains',\n 'though',\n 'star',\n 'signs',\n 'side',\n 'shes',\n 'self',\n 'rise',\n 'refugio',\n 'rd',\n 'poor',\n 'once',\n 'okay',\n 'n',\n 'move',\n 'might',\n 'manslaughter',\n 'makes',\n 'hailstorm',\n 'gbbo',\n 'friends',\n 'flash',\n 'fast',\n 'emmerdale',\n 'east',\n 'desolate',\n 'damn',\n 'crisis',\n 'crazy',\n 'course',\n 'couple',\n 'country',\n 'costlier',\n 'centre',\n 'caught',\n 'cake',\n 'blizzard',\n 'become',\n 'angry',\n 'alone',\n 'youth',\n 'wrong',\n 'win',\n 'vs',\n 'virgin',\n 'truth',\n 'temple',\n 'sorry',\n 'reports',\n 'reason',\n 'playing',\n 'pain',\n 'omg',\n 'official',\n 'myanmar',\n 'mayhem',\n 'looking',\n 'listen',\n 'level',\n 'ladies',\n 'knock',\n 'isnt',\n 'ignition',\n 'huge',\n 'heavy',\n 'hate',\n 'guy',\n 'gun',\n 'global',\n 'finally',\n 'feeling',\n 'eye',\n 'downtown',\n 'control',\n 'computers',\n 'closed',\n 'class',\n 'beach',\n 'bbc',\n 'b',\n 'appears',\n 'across',\n '60',\n '13',\n '11yearold',\n 'yours',\n 'womens',\n 'wanted',\n 'view',\n 'usa',\n 'united',\n 'try',\n 'totally',\n 'toddler',\n 'till',\n 'thousands',\n 'takes',\n 'taken',\n 't',\n 'stand',\n 'russian',\n 'running',\n 'reddits',\n 'quiz',\n 'pay',\n 'pakistan',\n 'others',\n 'mop',\n 'marks',\n 'mad',\n 'link',\n 'libya',\n 'issued',\n 'instead',\n 'happened',\n 'gt',\n 'giant',\n 'gems',\n 'gave',\n 'front',\n 'follow',\n 'film',\n 'experts',\n 'else',\n 'drive',\n 'devastated',\n 'declaration',\n 'coaches',\n 'cnn',\n 'christian',\n 'anthrax',\n 'aftershock',\n '11',\n 'worst',\n 'working',\n 'village',\n 'vehicle',\n 'unconfirmed',\n 'thursday',\n 'talk',\n 'subreddits',\n 'sounds',\n 'shows',\n 'scared',\n 'ready',\n 'potus',\n 'park',\n 'niggas',\n 'neighbours',\n 'nagasaki',\n 'mount',\n 'miss',\n 'mishaps',\n 'lord',\n 'led',\n 'learn',\n 'large',\n 'landing',\n 'israel',\n 'haha',\n 'gop',\n 'germs',\n 'galactic',\n 'fukushima',\n 'following',\n 'favorite',\n 'escape',\n 'entire',\n 'ebola',\n 'driving',\n 'download',\n 'climate',\n 'chinas',\n 'china',\n 'cars',\n 'behind',\n 'aug',\n 'arsonist',\n 'aint',\n 'added',\n 'action',\n '25',\n '100',\n '05',\n 'wonder',\n 'tweet',\n 'turn',\n 'trust',\n 'tree',\n 'told',\n 'sign',\n 'safety',\n 'russia',\n 'rules',\n 'rock',\n 'reported',\n 'radio',\n 'r',\n 'pray',\n 'pradesh',\n 'ppl',\n 'point',\n 'patience',\n 'party',\n 'parole',\n 'pamela',\n 'pakistani',\n 'outrage',\n 'offensive',\n 'nws',\n 'needs',\n 'nearly',\n 'muslims',\n 'morning',\n 'moment',\n ...]"
     },
     "execution_count": 24,
     "metadata": {},
     "output_type": "execute_result"
    }
   ],
   "source": [
    "# Get unique words in the vocabulary\n",
    "words_in_vocab = text_vectorizer.get_vocabulary()\n",
    "words_in_vocab"
   ],
   "metadata": {
    "collapsed": false,
    "ExecuteTime": {
     "end_time": "2023-07-30T15:10:10.616897Z",
     "start_time": "2023-07-30T15:10:10.552938600Z"
    }
   },
   "id": "a9796849d92692a"
  },
  {
   "cell_type": "code",
   "execution_count": 25,
   "outputs": [
    {
     "data": {
      "text/plain": "10000"
     },
     "execution_count": 25,
     "metadata": {},
     "output_type": "execute_result"
    }
   ],
   "source": [
    "len(words_in_vocab)"
   ],
   "metadata": {
    "collapsed": false,
    "ExecuteTime": {
     "end_time": "2023-07-30T15:10:10.617897Z",
     "start_time": "2023-07-30T15:10:10.569573400Z"
    }
   },
   "id": "1fc1d49d18c2f968"
  },
  {
   "cell_type": "code",
   "execution_count": 26,
   "outputs": [
    {
     "data": {
      "text/plain": "['', '[UNK]', 'the', 'a', 'in']"
     },
     "execution_count": 26,
     "metadata": {},
     "output_type": "execute_result"
    }
   ],
   "source": [
    "# Top 5 words in words_in_vocab\n",
    "words_in_vocab[:5]"
   ],
   "metadata": {
    "collapsed": false,
    "ExecuteTime": {
     "end_time": "2023-07-30T15:10:10.618898900Z",
     "start_time": "2023-07-30T15:10:10.573377900Z"
    }
   },
   "id": "60913b2c06167547"
  },
  {
   "cell_type": "code",
   "execution_count": 27,
   "outputs": [
    {
     "data": {
      "text/plain": "['pakthey', 'pakistan\\x89Ûªs', 'pakistans', 'pajamas', 'paints']"
     },
     "execution_count": 27,
     "metadata": {},
     "output_type": "execute_result"
    }
   ],
   "source": [
    "# Least 5 words in words_in_vocab\n",
    "words_in_vocab[-5:]"
   ],
   "metadata": {
    "collapsed": false,
    "ExecuteTime": {
     "end_time": "2023-07-30T15:10:10.618898900Z",
     "start_time": "2023-07-30T15:10:10.577298400Z"
    }
   },
   "id": "4b66d97a81a1ab9b"
  },
  {
   "cell_type": "markdown",
   "source": [
    "### Embedding layer\n",
    "\n",
    "To make our embedding, we are going to use TensorFlow’s embedding layer: https://www.tensorflow.org/api/docs/python/tf/keras/layers/\n",
    "\n",
    "The parameters are below mostly used.\n",
    "* input_dim = size of the vocabulary\n",
    "* output_dim = size of the output embedding vector.  For example, a value of 100 would mean each token gets represented by a vector 100 long\n",
    "* input_length = length of the sequences being passed to the embedding layer"
   ],
   "metadata": {
    "collapsed": false,
    "ExecuteTime": {
     "end_time": "2023-07-30T14:49:17.729921900Z",
     "start_time": "2023-07-30T14:49:17.705846500Z"
    }
   },
   "id": "4d47ece46e5b3070"
  },
  {
   "cell_type": "code",
   "execution_count": 28,
   "outputs": [],
   "source": [
    "from tensorflow.keras import layers\n",
    "\n",
    "embedding = layers.Embedding(input_dim = max_vocab_length,\n",
    "                             output_dim = 64,\n",
    "                             embeddings_initializer = \"uniform\",\n",
    "                             input_length = max_length)"
   ],
   "metadata": {
    "collapsed": false,
    "ExecuteTime": {
     "end_time": "2023-07-30T15:10:10.618898900Z",
     "start_time": "2023-07-30T15:10:10.580751800Z"
    }
   },
   "id": "55b4d3e382cb85d7"
  },
  {
   "cell_type": "code",
   "execution_count": 29,
   "outputs": [
    {
     "name": "stdout",
     "output_type": "stream",
     "text": [
      "Original text: May Allah help all those suffering from the #Pakistan floods! You and your families are in our #Dua\n",
      "\n",
      "Vectorized text: [[ 123 1717  155   37  168 3364   20    2  890  212   12    7   35  137\n",
      "    21]]\n",
      "\n",
      "Vectorized text shape: (1, 15)\n",
      "Embbedded text: [[[-0.0046602   0.02578893 -0.0443277  -0.01363412  0.02812405\n",
      "    0.04619789 -0.00936579 -0.02690539  0.02482818  0.03366214\n",
      "    0.02047982 -0.03055223  0.01857655 -0.00883909 -0.04435896\n",
      "   -0.02487029  0.01363086 -0.01285052 -0.02063692 -0.00852848\n",
      "    0.03168347  0.02547171 -0.02377809 -0.02359221  0.0403748\n",
      "   -0.00997776  0.03908983 -0.0353597  -0.04443836 -0.04150976\n",
      "    0.02382693 -0.01586958 -0.02827058  0.01349989 -0.0053147\n",
      "    0.01633703  0.01043546 -0.049647   -0.03513365 -0.02273953\n",
      "    0.03953303 -0.03813829  0.00033499 -0.02495809 -0.02868257\n",
      "   -0.02139223 -0.0279941   0.0096593  -0.04466773  0.01287934\n",
      "   -0.00331734 -0.03968232 -0.04359592 -0.00727409  0.01395028\n",
      "    0.02114272  0.04953044 -0.0082715  -0.04917563  0.02711538\n",
      "    0.01483579 -0.01603826  0.00091808  0.01734674]\n",
      "  [ 0.02940512 -0.04017884 -0.02538749 -0.04848174 -0.00698943\n",
      "    0.03985151 -0.02711358  0.03972289 -0.02509726  0.033254\n",
      "   -0.01859687  0.04876009 -0.03676939  0.00397233  0.03744381\n",
      "    0.01153876 -0.01945506  0.03198463  0.01497911 -0.04270438\n",
      "   -0.01761975 -0.02779571 -0.01397246 -0.00198556 -0.01097028\n",
      "    0.01960534 -0.01345057  0.01751191  0.01405646 -0.02968848\n",
      "    0.01883305 -0.03091338 -0.04270059  0.00851576  0.04376454\n",
      "   -0.04315398 -0.02180176 -0.03530481  0.02532191  0.01658908\n",
      "    0.01005661  0.0288094  -0.04254274  0.0226346   0.02162427\n",
      "    0.03012514 -0.01023755  0.01929903 -0.02436228 -0.01880215\n",
      "   -0.02429684  0.01405622  0.03588588 -0.03592848  0.01987605\n",
      "   -0.01212545 -0.00652766 -0.01565932 -0.04203266  0.04115207\n",
      "   -0.04784628  0.03446884 -0.01315086 -0.04904899]\n",
      "  [ 0.0494999   0.01204802 -0.00792237  0.00297042  0.03663517\n",
      "    0.01181004  0.02055902  0.04065287 -0.01709993  0.01233355\n",
      "    0.03814865 -0.01327186 -0.0413851   0.00437357  0.03992745\n",
      "    0.03522867  0.04770687  0.0381385  -0.00719456  0.01025802\n",
      "    0.02856672 -0.02444692  0.0376824   0.0026379  -0.03003857\n",
      "   -0.02376254  0.01308953  0.00372307  0.04164166 -0.04617403\n",
      "   -0.00591829 -0.04973816 -0.0179068  -0.00096483 -0.02280133\n",
      "   -0.00790192 -0.01320014  0.01101745  0.01465342 -0.00242406\n",
      "    0.02107276  0.02852799  0.02754546  0.04104609  0.03873173\n",
      "   -0.02497381 -0.0103925   0.02232753  0.03404912  0.02833362\n",
      "    0.01124614 -0.01682181 -0.02414137  0.03453049  0.00964556\n",
      "    0.02198457 -0.03725414 -0.01400019 -0.04192579 -0.00427325\n",
      "    0.03879653 -0.0087628   0.03052292  0.00437694]\n",
      "  [-0.01771536  0.04376758 -0.02754673 -0.01053842  0.00498626\n",
      "   -0.0115326  -0.03389857  0.04605388  0.0384388  -0.01505293\n",
      "   -0.03061233 -0.03109568 -0.00383041 -0.01246362 -0.00503725\n",
      "    0.03822008  0.01394446 -0.01620657 -0.03307917 -0.01569283\n",
      "    0.00948309 -0.0025954  -0.02319232 -0.01976361  0.00516414\n",
      "    0.04866327  0.04022577  0.00387031  0.04451763 -0.01421254\n",
      "    0.00618006 -0.03527576 -0.02870103  0.0213773  -0.02348329\n",
      "   -0.00022713 -0.01828805  0.00336815 -0.04282442  0.02333113\n",
      "    0.03806973 -0.01833483 -0.00640228 -0.02322674 -0.0044143\n",
      "   -0.03390364  0.00738303 -0.03569075 -0.02046493  0.04896684\n",
      "    0.02436693  0.0011947  -0.03963622 -0.00728013 -0.00169265\n",
      "   -0.02937772  0.04511118  0.00385138  0.02086261  0.00420357\n",
      "    0.02643284  0.00149726 -0.00849072  0.04828941]\n",
      "  [-0.02696319  0.04325176 -0.04794078  0.02453468 -0.04187763\n",
      "    0.00410213 -0.02023385 -0.00325618 -0.04509317 -0.03837485\n",
      "   -0.01836836  0.00548819 -0.02471839  0.01364504  0.03234187\n",
      "    0.00509733 -0.02030453  0.03054997  0.04509163  0.04972536\n",
      "    0.01813756 -0.01979419 -0.01859908  0.02782018 -0.04080052\n",
      "    0.04583807 -0.01327826 -0.01221     0.04486544 -0.00599494\n",
      "   -0.02210611 -0.0092653  -0.01644418  0.04390773  0.0493002\n",
      "   -0.03764185 -0.04858953 -0.00680089 -0.03670392 -0.03318777\n",
      "   -0.04881449 -0.03809442  0.00605877  0.03097936  0.0093912\n",
      "   -0.02631423 -0.04770784  0.00388402 -0.02355201  0.03827084\n",
      "    0.03407404  0.00762362  0.01826078  0.02268689  0.00036729\n",
      "   -0.03678403  0.00189048 -0.01811907 -0.00359016  0.01045643\n",
      "   -0.04500929  0.00115545  0.04069774  0.0226552 ]\n",
      "  [ 0.00922552 -0.04527083  0.01439344 -0.00238951  0.01786823\n",
      "   -0.03033736  0.01055788 -0.01856747  0.04092932  0.04078727\n",
      "    0.04761061  0.02740616 -0.02615192 -0.04416276 -0.02522963\n",
      "    0.00191044  0.02774109 -0.03099605 -0.03756376 -0.04179604\n",
      "   -0.01780075 -0.02476348  0.03693436  0.01978165  0.02699332\n",
      "   -0.02655245  0.00585722 -0.00702674  0.00407045  0.00815188\n",
      "   -0.03751506  0.00071418 -0.03039528  0.00607254  0.03186362\n",
      "    0.01482854 -0.04720164  0.04527112  0.03995513 -0.03657737\n",
      "    0.00550691 -0.02380691  0.04958416 -0.00427996 -0.01227429\n",
      "    0.00160686  0.00261026 -0.03530061  0.04162167 -0.00820007\n",
      "   -0.02832125  0.00169944 -0.03545734  0.01571863  0.03923396\n",
      "   -0.04080053  0.00692903  0.01945038 -0.02957866 -0.04405092\n",
      "   -0.00854715  0.00433328 -0.01610761 -0.02727859]\n",
      "  [ 0.00019167  0.00331493  0.02363161 -0.02087755  0.0324556\n",
      "    0.00452102  0.04720457  0.02636838 -0.04392817  0.04481551\n",
      "   -0.04507243 -0.0238975   0.04684791  0.01147294 -0.02779285\n",
      "   -0.0187912   0.03587785 -0.04106357  0.03769812 -0.02353274\n",
      "   -0.00969853  0.03441129 -0.03176683  0.00116842 -0.01418718\n",
      "   -0.00703998 -0.03427888  0.01888959 -0.03588439  0.02095595\n",
      "   -0.01248341  0.04398275  0.03102155 -0.01418259  0.01827555\n",
      "   -0.00848091  0.01531665 -0.0228244  -0.01921521  0.00957383\n",
      "   -0.03573593 -0.01105829  0.04887512 -0.00030624  0.01128656\n",
      "    0.02520051  0.00739962 -0.03223838 -0.04060149 -0.00272787\n",
      "    0.0484503   0.01521481 -0.02299747 -0.04047142  0.02287313\n",
      "   -0.01673615 -0.04147626 -0.03214242 -0.04266245 -0.00896657\n",
      "    0.01136907 -0.042082    0.04589791 -0.00872129]\n",
      "  [ 0.01320466  0.04422754 -0.02927921 -0.01683969 -0.00725988\n",
      "   -0.03957512  0.01681042  0.04586432  0.03100195  0.03344235\n",
      "   -0.02177943  0.01958034  0.00168592 -0.0353968  -0.01785694\n",
      "    0.00442258  0.04669419  0.02714166 -0.01181207  0.04179212\n",
      "   -0.0358116   0.04803101  0.0108997   0.00206014 -0.01955614\n",
      "   -0.02579775  0.02359274 -0.02759434 -0.01539458  0.04398704\n",
      "   -0.03116304  0.0051894   0.04061893  0.032876    0.01383111\n",
      "   -0.00594125 -0.00666273  0.04852522  0.01017147 -0.00126521\n",
      "    0.0017249  -0.00100833  0.00745516 -0.01690429  0.03204783\n",
      "    0.03875785 -0.03041226 -0.0335937   0.011792   -0.04712231\n",
      "    0.02273249 -0.02318757 -0.02517133  0.01836873 -0.04759556\n",
      "   -0.01933811 -0.02543654  0.00581871 -0.00848227  0.01999693\n",
      "   -0.00170674 -0.04476113 -0.00090824  0.02407162]\n",
      "  [ 0.03335634  0.02283626  0.00567262 -0.04162781 -0.01788152\n",
      "    0.01520992 -0.03371543  0.0188817  -0.0014621  -0.0326076\n",
      "   -0.0212521   0.00373995 -0.03608675 -0.006721   -0.03574083\n",
      "   -0.02545822  0.04578313 -0.02511393  0.03458292  0.02133602\n",
      "    0.01072542 -0.01837653  0.01040874 -0.00093964  0.02467649\n",
      "   -0.03117055 -0.02668592 -0.0218904  -0.04029559  0.00853963\n",
      "   -0.00020325  0.0359802  -0.01697361 -0.0229218   0.00089961\n",
      "   -0.03469286  0.04115566  0.01625803 -0.01669756  0.04918339\n",
      "    0.03646049 -0.00706539 -0.04911273  0.02831142  0.04024693\n",
      "    0.03957177 -0.02693363 -0.03019761 -0.01099895  0.03924282\n",
      "    0.04542692 -0.00558031  0.04530312  0.03357184  0.03592894\n",
      "    0.02269914  0.04299814  0.01253119  0.0182009  -0.03328329\n",
      "    0.02315089  0.01396192  0.00970567 -0.00819318]\n",
      "  [-0.01422578  0.01265956  0.01265476  0.02608489 -0.00068533\n",
      "    0.03189776  0.03443295 -0.01723045  0.04956913 -0.04488863\n",
      "   -0.00604825 -0.03558479  0.01897529  0.03607367  0.04532052\n",
      "    0.04733383  0.03347969 -0.0408879   0.01028214  0.00298933\n",
      "    0.0034086  -0.02907597 -0.00577949 -0.04410439 -0.00690852\n",
      "    0.00583731 -0.03391184 -0.03573153  0.02960124 -0.01355015\n",
      "   -0.00431903  0.0401547  -0.02171789 -0.01007736 -0.01903639\n",
      "    0.04476173 -0.00719563 -0.03806641  0.04229376  0.00672453\n",
      "    0.02428183 -0.00428902 -0.02927086  0.00060951 -0.0195029\n",
      "    0.02584524 -0.04999317 -0.00165447  0.02618505 -0.02632542\n",
      "    0.00079024 -0.02276191 -0.02946302  0.04312608 -0.00349522\n",
      "    0.0342415  -0.02518128 -0.01472921  0.02957584 -0.04249711\n",
      "    0.01339704  0.03997756  0.0176437   0.01286075]\n",
      "  [-0.03696471  0.00149535 -0.04787337 -0.00473434  0.01649488\n",
      "    0.01726896 -0.01389324  0.04206904  0.02379039  0.01098906\n",
      "   -0.02957672  0.01768697  0.00984972  0.03195706 -0.04011684\n",
      "    0.04289922 -0.00300853 -0.02650344  0.02546133 -0.04103609\n",
      "    0.04499996 -0.01952638  0.03126552  0.02197393  0.00333046\n",
      "   -0.02450322 -0.038782   -0.00761708 -0.01814293 -0.02367415\n",
      "   -0.02216574  0.0125812  -0.02100093 -0.03299882  0.04696295\n",
      "    0.00689591 -0.00600398  0.01903862  0.00620123  0.02973756\n",
      "    0.01844461  0.00942141 -0.0096616  -0.0112206  -0.03897923\n",
      "   -0.02857493  0.00214506 -0.00819958 -0.00814378  0.01834467\n",
      "   -0.04376013  0.03276088 -0.01681943  0.04702152  0.04669868\n",
      "    0.04417391 -0.02053222  0.01371394  0.04416238 -0.03948621\n",
      "    0.02785449 -0.0410442   0.02702055 -0.03899569]\n",
      "  [ 0.02718696  0.04693199 -0.00823255 -0.03954609 -0.03847768\n",
      "    0.01214502 -0.02758737  0.0185995  -0.00757847 -0.01354023\n",
      "   -0.02060776 -0.03082006 -0.00194399 -0.03750479  0.00275458\n",
      "   -0.00479325  0.02316773  0.00616783 -0.02651748 -0.01804696\n",
      "   -0.04047294 -0.04254214 -0.02942919 -0.03554609 -0.01253642\n",
      "   -0.03986269 -0.04017066 -0.02929777  0.04221798 -0.03665533\n",
      "    0.00169183 -0.02865181 -0.0286124  -0.01334312 -0.04042061\n",
      "   -0.02217478  0.04122378  0.00713676  0.03577219  0.03403025\n",
      "    0.02728644 -0.03711921  0.00822815 -0.0040144   0.0049826\n",
      "   -0.01879144  0.02439945  0.01050494 -0.00086999 -0.01067797\n",
      "    0.01575811 -0.02108613  0.04674039 -0.04193641 -0.04999794\n",
      "    0.00899615  0.04520014 -0.02440327 -0.02337513  0.04431583\n",
      "   -0.01503081 -0.04242163 -0.00167768  0.00272036]\n",
      "  [-0.04886358  0.01537586  0.00117559  0.02156719  0.02899802\n",
      "    0.03101427  0.02801761  0.03331187 -0.03295524  0.0227947\n",
      "    0.03354609  0.04784933 -0.03467768 -0.04258647 -0.04104854\n",
      "   -0.02793559 -0.03741924 -0.01268327 -0.0452119   0.02411665\n",
      "    0.02145279  0.04591265  0.04212873 -0.02408568 -0.01657264\n",
      "   -0.03911277  0.00682334 -0.00573977 -0.0097083   0.03045589\n",
      "    0.04429019  0.0283515  -0.03869636 -0.01301546 -0.03575624\n",
      "   -0.00315861  0.01193477 -0.01543267 -0.0480775   0.01213138\n",
      "    0.04740949 -0.00832615 -0.04696587 -0.01063494  0.02815687\n",
      "    0.00373269  0.00464957  0.00031757  0.02254918 -0.03721266\n",
      "   -0.02401123  0.02742995 -0.01167917 -0.01279427 -0.00189614\n",
      "   -0.03863226 -0.04213463 -0.03920221 -0.04435691 -0.03840572\n",
      "    0.01841364  0.0342666  -0.03477703  0.0445441 ]\n",
      "  [ 0.01660656 -0.01719058  0.00907996  0.00063918  0.03498011\n",
      "   -0.00812846 -0.01924933 -0.03902001 -0.01645734  0.02091254\n",
      "   -0.02493867 -0.04566777  0.04967537 -0.00499932  0.01199853\n",
      "    0.04028628  0.02713214 -0.00064533  0.04267812 -0.01814931\n",
      "   -0.01002234 -0.0123682  -0.00763832  0.04366037 -0.02330512\n",
      "    0.01672446 -0.03908931  0.04403717  0.03179682  0.01005057\n",
      "    0.02265625 -0.03685247  0.03564915 -0.00949823 -0.01197243\n",
      "    0.01555593  0.01862793  0.01754609 -0.02383726  0.02291074\n",
      "   -0.00623154 -0.01294222  0.00846953  0.00190809  0.01865623\n",
      "    0.03534745  0.01584278  0.01213276  0.04465493 -0.02183111\n",
      "   -0.04894247 -0.0188234  -0.03694248 -0.04804256 -0.02930776\n",
      "    0.03124262  0.0089057   0.04250981 -0.03577029 -0.03918396\n",
      "   -0.0124528   0.02923371  0.03292723  0.00897228]\n",
      "  [-0.00839762  0.03379749  0.03237868  0.01458846 -0.01073008\n",
      "   -0.04327451  0.01892484 -0.01764248  0.03888441  0.01936636\n",
      "   -0.01742288  0.02910976 -0.03786495 -0.03713174  0.02451879\n",
      "   -0.00593314 -0.03520901  0.04698699 -0.01864867 -0.02290305\n",
      "    0.02643755 -0.04288019  0.02244631  0.0453555   0.0026039\n",
      "   -0.02548655 -0.00079767  0.02627145  0.03777773 -0.04224819\n",
      "   -0.00767193 -0.00047882 -0.00203899  0.0461942   0.0477036\n",
      "   -0.03458213  0.00080673 -0.01715751 -0.02693893  0.0425404\n",
      "    0.0370381  -0.0100328   0.03570909  0.03429592  0.03195486\n",
      "   -0.00632866  0.02649787 -0.00573925  0.02528895 -0.00133396\n",
      "   -0.04885083  0.04182818 -0.01923881  0.0412376  -0.03514657\n",
      "    0.03729462  0.00263228 -0.0314855  -0.0459309  -0.04555475\n",
      "    0.04399571 -0.04527694  0.03251672  0.0321932 ]]]\n",
      "Embedded text shape: (1, 15, 64)\n"
     ]
    }
   ],
   "source": [
    "# Get a random sentence from the training set and return Original text, Vectorized text, Embedded text\n",
    "rand_sentence = random.choice(train_sentences)\n",
    "print(f\"Original text: {rand_sentence}\\n\")\n",
    "print(f\"Vectorized text: {text_vectorizer([rand_sentence])}\\n\")\n",
    "print(f\"Vectorized text shape: {text_vectorizer([rand_sentence]).shape}\")\n",
    "print(f\"Embbedded text: {embedding(text_vectorizer([rand_sentence]))}\")\n",
    "print(f\"Embedded text shape: {embedding(text_vectorizer([rand_sentence])).shape}\")"
   ],
   "metadata": {
    "collapsed": false,
    "ExecuteTime": {
     "end_time": "2023-07-30T15:10:10.620897500Z",
     "start_time": "2023-07-30T15:10:10.584778900Z"
    }
   },
   "id": "2d8028a4f822acb"
  },
  {
   "cell_type": "markdown",
   "source": [
    "### Model_2: Long Short Term Memory (LSTM) Model"
   ],
   "metadata": {
    "collapsed": false
   },
   "id": "f59939ec036845e1"
  },
  {
   "cell_type": "markdown",
   "source": [
    "LSTM = Long short term memory (One of the most popular LSTM cells)\n",
    "\n",
    "Our structure of a RNN typically looks like this:\n",
    "\n",
    "```\n",
    "Input (text) -> Tokenize -> Embedding -> Layers (RNNs/Dense) -> Output (label probability)\n",
    "```"
   ],
   "metadata": {
    "collapsed": false,
    "ExecuteTime": {
     "end_time": "2023-07-30T14:49:18.023486200Z",
     "start_time": "2023-07-30T14:49:17.741171900Z"
    }
   },
   "id": "f81954f3ccf322b3"
  },
  {
   "cell_type": "code",
   "execution_count": 30,
   "outputs": [],
   "source": [
    "# Create a LTSM Model\n",
    "\n",
    "from tensorflow.keras import layers\n",
    "inputs = layers.Input(shape = (1,), dtype = \"string\")\n",
    "x = text_vectorizer(inputs)\n",
    "x = embedding(x)\n",
    "x = layers.LSTM(64, return_sequences = True)(x)\n",
    "x = layers.LSTM(64)(x)\n",
    "x = layers.Dense(64, activation = \"relu\")(x)\n",
    "outputs = layers.Dense(1, activation = \"sigmoid\")(x)\n",
    "model_2 = tf.keras.Model(inputs, outputs, name =\"model_2_LSTM\")"
   ],
   "metadata": {
    "collapsed": false,
    "ExecuteTime": {
     "end_time": "2023-07-30T15:10:10.889043100Z",
     "start_time": "2023-07-30T15:10:10.611896600Z"
    }
   },
   "id": "914746eea17a7a69"
  },
  {
   "cell_type": "code",
   "execution_count": 31,
   "outputs": [
    {
     "name": "stdout",
     "output_type": "stream",
     "text": [
      "Model: \"model_2_LSTM\"\n",
      "_________________________________________________________________\n",
      " Layer (type)                Output Shape              Param #   \n",
      "=================================================================\n",
      " input_1 (InputLayer)        [(None, 1)]               0         \n",
      "                                                                 \n",
      " text_vectorization (TextVe  (None, 15)                0         \n",
      " ctorization)                                                    \n",
      "                                                                 \n",
      " embedding (Embedding)       (None, 15, 64)            640000    \n",
      "                                                                 \n",
      " lstm (LSTM)                 (None, 15, 64)            33024     \n",
      "                                                                 \n",
      " lstm_1 (LSTM)               (None, 64)                33024     \n",
      "                                                                 \n",
      " dense (Dense)               (None, 64)                4160      \n",
      "                                                                 \n",
      " dense_1 (Dense)             (None, 1)                 65        \n",
      "                                                                 \n",
      "=================================================================\n",
      "Total params: 710273 (2.71 MB)\n",
      "Trainable params: 710273 (2.71 MB)\n",
      "Non-trainable params: 0 (0.00 Byte)\n",
      "_________________________________________________________________\n"
     ]
    }
   ],
   "source": [
    "model_2.summary()"
   ],
   "metadata": {
    "collapsed": false,
    "ExecuteTime": {
     "end_time": "2023-07-30T15:10:10.922374100Z",
     "start_time": "2023-07-30T15:10:10.890044Z"
    }
   },
   "id": "8aab5a4577c8c3cb"
  },
  {
   "cell_type": "code",
   "execution_count": 32,
   "outputs": [],
   "source": [
    "# Compile the model\n",
    "model_2.compile(loss = \"binary_crossentropy\",\n",
    "                optimizer=tf.keras.optimizers.Adam(),\n",
    "                metrics = ['accuracy'])"
   ],
   "metadata": {
    "collapsed": false,
    "ExecuteTime": {
     "end_time": "2023-07-30T15:10:10.924375900Z",
     "start_time": "2023-07-30T15:10:10.903354600Z"
    }
   },
   "id": "1c327cee36008714"
  },
  {
   "cell_type": "code",
   "execution_count": 33,
   "outputs": [
    {
     "name": "stdout",
     "output_type": "stream",
     "text": [
      "Epoch 1/5\n",
      "215/215 [==============================] - 5s 12ms/step - loss: 0.5237 - accuracy: 0.7393 - val_loss: 0.4663 - val_accuracy: 0.7861\n",
      "Epoch 2/5\n",
      "215/215 [==============================] - 2s 10ms/step - loss: 0.3180 - accuracy: 0.8701 - val_loss: 0.4768 - val_accuracy: 0.7835\n",
      "Epoch 3/5\n",
      "215/215 [==============================] - 2s 9ms/step - loss: 0.2203 - accuracy: 0.9168 - val_loss: 0.5420 - val_accuracy: 0.7572\n",
      "Epoch 4/5\n",
      "215/215 [==============================] - 2s 9ms/step - loss: 0.1594 - accuracy: 0.9428 - val_loss: 0.7136 - val_accuracy: 0.7349\n",
      "Epoch 5/5\n",
      "215/215 [==============================] - 2s 9ms/step - loss: 0.1224 - accuracy: 0.9534 - val_loss: 0.7498 - val_accuracy: 0.7402\n"
     ]
    }
   ],
   "source": [
    "# Fit the model\n",
    "model_2_history = model_2.fit(train_sentences,\n",
    "                              train_labels,\n",
    "                              epochs = 5,\n",
    "                              validation_data = (val_sentences, val_labels))"
   ],
   "metadata": {
    "collapsed": false,
    "ExecuteTime": {
     "end_time": "2023-07-30T15:10:23.726561700Z",
     "start_time": "2023-07-30T15:10:10.913374Z"
    }
   },
   "id": "c2f1a49c2832756e"
  },
  {
   "cell_type": "code",
   "execution_count": 34,
   "outputs": [
    {
     "name": "stdout",
     "output_type": "stream",
     "text": [
      "24/24 [==============================] - 1s 3ms/step\n"
     ]
    },
    {
     "data": {
      "text/plain": "array([[4.83665476e-03],\n       [1.90069959e-01],\n       [4.10011038e-03],\n       [5.59742302e-02],\n       [6.43782616e-01],\n       [1.71995223e-01],\n       [8.75149912e-04],\n       [1.01906983e-02],\n       [5.51665090e-02],\n       [9.76418734e-01],\n       [7.61783481e-01],\n       [3.59366685e-01],\n       [5.07327914e-03],\n       [1.79134905e-01],\n       [1.89059064e-01],\n       [2.98968349e-02],\n       [9.53797758e-01],\n       [3.68909887e-03],\n       [9.99974012e-01],\n       [1.51515799e-03],\n       [3.64286184e-01],\n       [7.46327817e-01],\n       [1.81551859e-01],\n       [3.20731938e-01],\n       [1.01199009e-01],\n       [2.98648626e-02],\n       [9.91921961e-01],\n       [8.29198420e-01],\n       [9.99872208e-01],\n       [6.18879159e-04],\n       [2.38330327e-02],\n       [1.65589433e-03],\n       [6.28897667e-01],\n       [4.01949972e-01],\n       [1.04575492e-01],\n       [7.05182850e-01],\n       [1.63345113e-01],\n       [5.95166795e-02],\n       [1.91015960e-03],\n       [1.67153537e-01],\n       [8.25992692e-03],\n       [9.99722540e-01],\n       [3.36039439e-02],\n       [7.25560784e-01],\n       [9.50994156e-03],\n       [1.75801683e-02],\n       [9.65061605e-01],\n       [2.79638410e-01],\n       [9.67339098e-01],\n       [8.52366328e-01],\n       [1.89044455e-03],\n       [9.99996245e-01],\n       [2.08360702e-02],\n       [5.44236422e-01],\n       [7.41726607e-02],\n       [1.28925771e-01],\n       [5.30664325e-01],\n       [7.29503157e-03],\n       [2.13226490e-02],\n       [9.32033639e-03],\n       [7.65922844e-01],\n       [2.13835537e-01],\n       [9.96123374e-01],\n       [5.00979759e-02],\n       [1.03820232e-03],\n       [1.62809730e-01],\n       [9.99832988e-01],\n       [1.01866744e-01],\n       [1.32986705e-03],\n       [4.42874432e-03],\n       [1.95815088e-03],\n       [3.20362240e-01],\n       [9.28249806e-02],\n       [7.95303960e-04],\n       [2.58186813e-02],\n       [2.10844517e-01],\n       [1.21264243e-02],\n       [8.71390700e-01],\n       [2.05788272e-03],\n       [9.90230501e-01],\n       [3.53359073e-01],\n       [1.50576923e-02],\n       [7.97451198e-01],\n       [9.97987807e-01],\n       [5.26286438e-02],\n       [2.39805683e-01],\n       [9.82197940e-01],\n       [2.45124591e-03],\n       [7.50692427e-01],\n       [7.18715847e-01],\n       [9.93169919e-02],\n       [9.82925534e-01],\n       [3.20365280e-01],\n       [4.60472442e-02],\n       [8.14989090e-01],\n       [1.57858595e-01],\n       [9.74861323e-04],\n       [7.43396755e-04],\n       [8.56237471e-01],\n       [3.97283956e-03],\n       [6.97420597e-01],\n       [2.40351453e-01],\n       [6.60441257e-03],\n       [9.03272908e-03],\n       [4.39011026e-03],\n       [1.22281890e-02],\n       [1.16515057e-02],\n       [2.97115254e-03],\n       [9.99993145e-01],\n       [3.46396863e-02],\n       [9.87254322e-01],\n       [9.99937534e-01],\n       [9.50200081e-01],\n       [8.58434960e-02],\n       [7.26726779e-04],\n       [5.82361221e-01],\n       [2.25323737e-02],\n       [8.64037097e-01],\n       [2.49757648e-01],\n       [2.92712301e-01],\n       [9.75566089e-01],\n       [6.28500164e-01],\n       [4.51110955e-03],\n       [9.99975145e-01],\n       [8.82275045e-01],\n       [1.76857449e-02],\n       [6.92957163e-01],\n       [9.98132706e-01],\n       [4.21086252e-01],\n       [3.32097244e-03],\n       [5.64881377e-02],\n       [9.21800435e-02],\n       [1.74013283e-02],\n       [1.98681131e-01],\n       [8.70654583e-01],\n       [2.66960561e-01],\n       [4.30401921e-01],\n       [3.07316538e-02],\n       [2.96448916e-01],\n       [9.99994159e-01],\n       [4.57043983e-02],\n       [1.94450960e-01],\n       [8.73281240e-01],\n       [5.28011680e-01],\n       [6.26786888e-01],\n       [1.48826698e-03],\n       [9.99877334e-01],\n       [8.02180052e-01],\n       [6.27795339e-01],\n       [2.92021353e-02],\n       [9.94786561e-01],\n       [1.56657379e-02],\n       [9.87263680e-01],\n       [9.32339191e-01],\n       [5.30664325e-01],\n       [1.37029204e-03],\n       [2.15152977e-03],\n       [9.99995947e-01],\n       [8.74432683e-01],\n       [1.71780199e-01],\n       [6.29642680e-02],\n       [1.33243933e-01],\n       [9.97581542e-01],\n       [7.18552530e-01],\n       [1.77475009e-02],\n       [9.25824940e-01],\n       [2.12718155e-02],\n       [9.43790078e-02],\n       [8.07359874e-01],\n       [2.73698755e-03],\n       [3.93773824e-01],\n       [1.09944586e-02],\n       [5.65177202e-01],\n       [8.32918882e-01],\n       [2.78587975e-02],\n       [6.51863753e-04],\n       [9.48163345e-02],\n       [9.99004781e-01],\n       [9.99232173e-01],\n       [5.97475708e-01],\n       [7.42683113e-01],\n       [2.46338900e-02],\n       [6.33803662e-03],\n       [7.06447696e-04],\n       [4.23481643e-01],\n       [9.26800311e-01],\n       [7.81840738e-03],\n       [1.39612900e-02],\n       [4.67469357e-02],\n       [4.94413823e-02],\n       [4.87892963e-02],\n       [1.37612624e-02],\n       [1.75588325e-01],\n       [3.13057238e-03],\n       [2.43454531e-01],\n       [4.14187014e-01],\n       [1.52529832e-02],\n       [9.67785180e-01],\n       [3.91927660e-02],\n       [1.19337060e-01],\n       [2.84544961e-03],\n       [9.00783110e-04],\n       [3.45685482e-02],\n       [1.44777060e-01],\n       [9.56110954e-01],\n       [9.55569372e-03],\n       [1.30876034e-01],\n       [3.00843501e-03],\n       [2.95237541e-01],\n       [3.22882146e-01],\n       [9.91407275e-01],\n       [9.56780016e-01],\n       [9.98014033e-01],\n       [9.99993801e-01],\n       [8.00496161e-01],\n       [7.24915862e-01],\n       [1.48770154e-01],\n       [8.33012164e-01],\n       [9.99867916e-01],\n       [2.17040032e-01],\n       [3.11740558e-03],\n       [8.51477563e-01],\n       [9.80794072e-01],\n       [2.23633394e-01],\n       [9.99923527e-01],\n       [7.52444625e-01],\n       [6.44883335e-01],\n       [1.31252944e-03],\n       [3.34422127e-03],\n       [6.18661523e-01],\n       [3.27126443e-01],\n       [1.57682505e-02],\n       [8.92091095e-01],\n       [3.84807512e-02],\n       [5.50936535e-03],\n       [1.38914483e-02],\n       [4.76402998e-01],\n       [1.05521873e-01],\n       [7.21892655e-01],\n       [7.72682193e-04],\n       [6.91853929e-03],\n       [9.98331010e-01],\n       [4.95227307e-01],\n       [3.34418714e-01],\n       [3.51073854e-02],\n       [7.04836007e-03],\n       [8.32900941e-01],\n       [8.48218381e-01],\n       [1.89114198e-01],\n       [9.97571230e-01],\n       [2.04384793e-02],\n       [9.99952257e-01],\n       [2.71762442e-03],\n       [8.48378599e-01],\n       [4.47834563e-03],\n       [7.12512154e-03],\n       [1.78316620e-03],\n       [9.80075061e-01],\n       [2.36786809e-02],\n       [9.37180370e-02],\n       [1.64545223e-01],\n       [9.77203488e-01],\n       [9.99909401e-01],\n       [1.32738531e-01],\n       [9.87280965e-01],\n       [7.16212571e-01],\n       [5.25951525e-03],\n       [6.19722307e-02],\n       [6.73719764e-01],\n       [9.44484651e-01],\n       [2.56143272e-01],\n       [8.94687772e-01],\n       [3.41324951e-03],\n       [5.01582352e-03],\n       [8.18170607e-01],\n       [3.04683357e-01],\n       [4.76756155e-01],\n       [9.99965370e-01],\n       [6.84112310e-01],\n       [9.99800801e-01],\n       [6.11864984e-01],\n       [9.96123374e-01],\n       [7.12666452e-01],\n       [1.24428473e-01],\n       [9.84561741e-01],\n       [9.39368725e-01],\n       [2.60573655e-01],\n       [2.53480044e-03],\n       [3.62977058e-01],\n       [9.28911101e-03],\n       [9.99836981e-01],\n       [9.87195671e-01],\n       [5.30070579e-03],\n       [4.34470829e-04],\n       [9.32666898e-01],\n       [4.87169355e-01],\n       [6.85720413e-04],\n       [9.99800801e-01],\n       [9.53797758e-01],\n       [4.54272687e-01],\n       [9.32879686e-01],\n       [4.27974284e-01],\n       [9.35766041e-01],\n       [9.87133503e-01],\n       [2.39984188e-02],\n       [7.84986854e-01],\n       [2.18420222e-01],\n       [1.92176562e-03],\n       [2.49174144e-02],\n       [7.51290238e-03],\n       [9.99802828e-01],\n       [2.13802189e-01],\n       [3.33350115e-02],\n       [6.23889387e-01],\n       [4.97594684e-01],\n       [6.34692729e-01],\n       [8.19370558e-04],\n       [2.13814527e-03],\n       [9.66547847e-01],\n       [9.97526288e-01],\n       [5.80681069e-03],\n       [9.61653739e-02],\n       [9.03482080e-01],\n       [2.86749136e-02],\n       [9.29162931e-03],\n       [1.11776695e-01],\n       [5.27716130e-02],\n       [1.24465469e-02],\n       [3.46792698e-01],\n       [9.99969423e-01],\n       [1.80025771e-02],\n       [9.86263752e-01],\n       [9.99909163e-01],\n       [4.06812727e-02],\n       [9.65693831e-01],\n       [9.80842948e-01],\n       [9.97583330e-01],\n       [9.99996245e-01],\n       [6.20425582e-01],\n       [7.78249443e-01],\n       [2.67494936e-02],\n       [6.87382231e-03],\n       [1.61337107e-01],\n       [1.33240526e-03],\n       [2.12657541e-01],\n       [2.73175817e-03],\n       [9.99547243e-01],\n       [9.97604787e-01],\n       [9.99970615e-01],\n       [1.46024693e-02],\n       [2.80247312e-02],\n       [9.87498641e-01],\n       [1.15351065e-03],\n       [1.07165419e-01],\n       [9.38763499e-01],\n       [6.28838837e-02],\n       [9.99994576e-01],\n       [4.48529184e-01],\n       [1.25223994e-02],\n       [2.04183608e-01],\n       [5.85065246e-01],\n       [1.75643027e-01],\n       [8.68655920e-01],\n       [3.91782401e-03],\n       [2.53827184e-01],\n       [1.05701514e-01],\n       [1.40252640e-03],\n       [3.00721675e-02],\n       [4.44588671e-03],\n       [4.54474129e-02],\n       [1.49067352e-02],\n       [6.36444509e-01],\n       [3.75376344e-02],\n       [7.95036033e-02],\n       [2.60010231e-02],\n       [9.89552677e-01],\n       [1.59537140e-03],\n       [5.21178901e-01],\n       [1.96676835e-01],\n       [3.32513928e-01],\n       [9.99990225e-01],\n       [1.48007482e-01],\n       [3.53888839e-01],\n       [1.60996262e-02],\n       [3.99781585e-01],\n       [7.98862278e-01],\n       [1.02556191e-01],\n       [5.60571812e-02],\n       [1.74409756e-03],\n       [8.45250208e-03],\n       [1.36850039e-02],\n       [3.08571041e-01],\n       [2.31779784e-01],\n       [8.72387141e-02],\n       [7.89224729e-02],\n       [9.97017384e-01],\n       [9.94247973e-01],\n       [5.94701529e-01],\n       [3.22126858e-02],\n       [1.40260661e-03],\n       [2.04190868e-03],\n       [7.32150376e-01],\n       [8.97892714e-01],\n       [2.67082197e-03],\n       [6.41959778e-04],\n       [9.47308779e-01],\n       [5.27308956e-02],\n       [9.98961926e-01],\n       [6.06816769e-01],\n       [4.11053270e-01],\n       [8.44377875e-01],\n       [8.63695621e-01],\n       [7.51798041e-04],\n       [8.76657426e-01],\n       [3.03242449e-02],\n       [4.57858667e-02],\n       [9.81642962e-01],\n       [7.36311369e-04],\n       [9.21363413e-01],\n       [4.36001783e-03],\n       [1.30608852e-03],\n       [9.99984622e-01],\n       [7.14081479e-03],\n       [3.38131725e-03],\n       [3.20765898e-02],\n       [1.00522846e-01],\n       [2.03512004e-03],\n       [9.53802955e-04],\n       [9.46451128e-01],\n       [9.77381110e-01],\n       [9.33537912e-03],\n       [2.19978467e-01],\n       [3.58589739e-01],\n       [1.72096421e-03],\n       [9.98043180e-01],\n       [1.05991459e-03],\n       [9.55156326e-01],\n       [9.83344484e-03],\n       [5.55045381e-02],\n       [1.58668042e-03],\n       [8.87754798e-01],\n       [7.18786800e-03],\n       [8.82292390e-01],\n       [8.17020655e-01],\n       [1.35120116e-02],\n       [1.39724463e-02],\n       [2.54957438e-01],\n       [1.30462470e-02],\n       [9.99978542e-01],\n       [1.56723130e-02],\n       [3.88421281e-03],\n       [4.15611640e-02],\n       [9.98380840e-01],\n       [1.23286523e-01],\n       [9.38659430e-01],\n       [1.88074857e-01],\n       [4.22090650e-01],\n       [9.47047055e-01],\n       [9.90597248e-01],\n       [3.17131227e-04],\n       [8.17736745e-01],\n       [9.99800205e-01],\n       [1.68248452e-03],\n       [7.50445426e-01],\n       [9.22732592e-01],\n       [9.94013429e-01],\n       [3.93878259e-02],\n       [4.44809441e-03],\n       [9.01340723e-01],\n       [2.14199778e-02],\n       [9.93213356e-01],\n       [3.51075381e-02],\n       [9.74619031e-01],\n       [1.43433467e-01],\n       [9.99995589e-01],\n       [9.26470637e-01],\n       [5.13323322e-02],\n       [1.03582833e-02],\n       [6.38274522e-03],\n       [1.61260983e-03],\n       [1.68483481e-01],\n       [1.22021638e-01],\n       [1.18182451e-01],\n       [7.51196444e-01],\n       [6.43016279e-01],\n       [5.65693617e-01],\n       [1.36817861e-02],\n       [6.40643165e-02],\n       [4.78536449e-03],\n       [5.29451948e-03],\n       [1.42018602e-03],\n       [2.05320373e-01],\n       [9.55269039e-01],\n       [6.65915906e-02],\n       [9.99993801e-01],\n       [2.13767309e-03],\n       [8.59312832e-01],\n       [6.15343265e-03],\n       [2.23240186e-03],\n       [7.75143970e-04],\n       [9.99589562e-01],\n       [1.24447176e-03],\n       [1.75472128e-03],\n       [1.25634655e-01],\n       [9.99833465e-01],\n       [7.49394007e-04],\n       [1.99072361e-01],\n       [2.18420222e-01],\n       [1.90972595e-03],\n       [6.76440867e-03],\n       [9.99698758e-01],\n       [9.88033593e-01],\n       [3.78565699e-01],\n       [1.93852803e-03],\n       [3.39279532e-01],\n       [4.29274827e-01],\n       [8.44057940e-04],\n       [2.04053894e-03],\n       [7.37217441e-02],\n       [1.22830020e-02],\n       [8.41718495e-01],\n       [9.99992073e-01],\n       [4.67467457e-02],\n       [9.99964654e-01],\n       [9.96016979e-01],\n       [5.28462291e-01],\n       [2.50256788e-02],\n       [7.82351255e-01],\n       [9.91682470e-01],\n       [7.80900195e-02],\n       [2.20458973e-02],\n       [7.26884365e-01],\n       [3.94772552e-03],\n       [1.40692829e-03],\n       [1.70424338e-02],\n       [3.99388462e-01],\n       [9.94998634e-01],\n       [3.07002626e-02],\n       [4.57128398e-02],\n       [7.19474971e-01],\n       [2.53087073e-03],\n       [2.06065481e-03],\n       [1.78354664e-03],\n       [5.13367960e-03],\n       [1.56175420e-01],\n       [9.63970363e-01],\n       [9.99870241e-01],\n       [9.37943608e-02],\n       [9.99960840e-01],\n       [2.98880160e-01],\n       [3.68239954e-02],\n       [3.66364159e-02],\n       [9.99993801e-01],\n       [7.94076204e-01],\n       [9.85964596e-01],\n       [6.76145732e-01],\n       [9.86675084e-01],\n       [3.59614193e-01],\n       [9.97628570e-01],\n       [1.32204769e-02],\n       [7.40519047e-01],\n       [5.91596007e-01],\n       [5.94688766e-02],\n       [2.04876855e-01],\n       [2.26910058e-02],\n       [2.62745291e-01],\n       [1.34508386e-01],\n       [5.17912069e-03],\n       [2.75251538e-01],\n       [8.68611813e-01],\n       [9.25186455e-01],\n       [9.99981463e-01],\n       [6.10237122e-01],\n       [9.88068998e-01],\n       [7.39505112e-01],\n       [9.29137506e-03],\n       [4.30090986e-02],\n       [2.37667542e-02],\n       [5.22982061e-01],\n       [9.99800801e-01],\n       [8.83196369e-02],\n       [9.52636957e-01],\n       [1.40312733e-02],\n       [7.07583055e-02],\n       [7.68637955e-02],\n       [7.11664930e-02],\n       [9.76342559e-01],\n       [6.93831639e-03],\n       [9.92570341e-01],\n       [9.94383872e-01],\n       [9.99145389e-01],\n       [9.99733329e-01],\n       [1.44166767e-03],\n       [4.45356971e-04],\n       [7.55191140e-04],\n       [5.59160765e-03],\n       [6.17246926e-01],\n       [1.71976257e-02],\n       [3.90573651e-01],\n       [1.06810434e-02],\n       [1.19632147e-01],\n       [8.21508002e-03],\n       [4.25442122e-03],\n       [9.99963760e-01],\n       [9.99626338e-01],\n       [6.38063550e-01],\n       [1.41058758e-01],\n       [9.67240572e-01],\n       [5.10253571e-02],\n       [5.30606993e-02],\n       [5.54053664e-01],\n       [2.15815403e-03],\n       [1.24945343e-02],\n       [3.89804095e-01],\n       [9.47707236e-01],\n       [1.14835324e-02],\n       [2.04208167e-03],\n       [3.39515321e-03],\n       [6.93229493e-04],\n       [1.54030249e-01],\n       [4.19987254e-02],\n       [9.99418199e-01],\n       [9.94162858e-01],\n       [1.80370793e-01],\n       [1.64108593e-02],\n       [9.83985066e-01],\n       [8.00560322e-03],\n       [4.20231372e-02],\n       [1.31224077e-02],\n       [6.63871109e-01],\n       [6.32151589e-02],\n       [9.99926090e-01],\n       [9.56682503e-01],\n       [6.15769438e-02],\n       [5.19091217e-03],\n       [8.12190831e-01],\n       [9.53184366e-01],\n       [9.35558346e-04],\n       [2.74455976e-02],\n       [3.31664607e-02],\n       [4.67573153e-03],\n       [9.35643315e-01],\n       [8.83333981e-01],\n       [8.45266283e-01],\n       [5.40295290e-03],\n       [4.72683460e-03],\n       [2.72742718e-01],\n       [9.99088287e-01],\n       [9.88110363e-01],\n       [1.98805064e-01],\n       [2.79000085e-02],\n       [5.30476216e-03],\n       [1.65665463e-01],\n       [9.97253656e-01],\n       [7.78867572e-04],\n       [5.30616660e-03],\n       [6.07943356e-01],\n       [8.22363138e-01],\n       [8.17843247e-03],\n       [9.99913216e-01],\n       [4.81010415e-03],\n       [8.65920796e-04],\n       [1.92337289e-01],\n       [9.09145363e-03],\n       [9.99995053e-01],\n       [2.73406088e-01],\n       [9.58772838e-01],\n       [6.11491561e-01],\n       [9.99995947e-01],\n       [2.71370381e-01],\n       [9.13080692e-01],\n       [1.67490598e-02],\n       [9.32633132e-02],\n       [7.87813842e-01],\n       [1.07630435e-03],\n       [6.37064695e-01],\n       [1.23936385e-02],\n       [2.85808355e-01],\n       [1.19306520e-03],\n       [1.27751334e-03],\n       [3.99306417e-02],\n       [1.08362688e-03],\n       [5.97010493e-01],\n       [2.26003560e-03],\n       [9.49842297e-03],\n       [1.86938956e-01],\n       [9.99995232e-01],\n       [8.74358416e-01],\n       [6.36995971e-01],\n       [9.37473059e-01],\n       [1.57170698e-01],\n       [9.99626338e-01],\n       [1.55017702e-02],\n       [2.04876855e-01],\n       [9.85576212e-01],\n       [9.86655176e-01],\n       [9.99027550e-01],\n       [9.99800801e-01],\n       [4.32849765e-01],\n       [1.65957995e-02],\n       [8.65480423e-01],\n       [4.55113826e-03],\n       [9.99987543e-01],\n       [5.80674503e-03],\n       [2.17378978e-03],\n       [5.15528359e-02],\n       [8.26222729e-03],\n       [2.70943910e-01],\n       [9.99989033e-01],\n       [2.72447795e-01],\n       [6.50306463e-01],\n       [7.33115375e-01],\n       [9.97878134e-01],\n       [9.71775353e-01],\n       [3.03382963e-01],\n       [9.39397258e-04],\n       [8.04052889e-01],\n       [2.12950975e-01],\n       [9.99944746e-01],\n       [9.91192102e-01],\n       [2.04690471e-02],\n       [8.44057940e-04],\n       [1.18768690e-02],\n       [9.85157609e-01],\n       [1.11947916e-01],\n       [2.16128770e-02],\n       [9.88318980e-01],\n       [9.67604965e-02],\n       [2.73207337e-01],\n       [4.73326772e-01],\n       [7.95404315e-01],\n       [2.17720564e-03],\n       [6.00494325e-01],\n       [9.97820735e-01],\n       [1.50436416e-01],\n       [2.83466908e-03],\n       [1.17424363e-02],\n       [2.62465607e-02],\n       [5.13712224e-03],\n       [2.09840550e-03],\n       [4.34662521e-01],\n       [5.82267158e-02],\n       [4.13007438e-01],\n       [4.76595126e-02],\n       [8.50513726e-02],\n       [1.55541629e-01],\n       [8.09957683e-02],\n       [4.77564603e-01],\n       [7.72211730e-01],\n       [6.39185786e-01],\n       [9.55762528e-03],\n       [9.99938428e-01],\n       [5.81070445e-02],\n       [2.23660059e-02],\n       [7.94432998e-01],\n       [9.90749955e-01],\n       [9.99982297e-01],\n       [7.28424173e-04],\n       [8.57063942e-03],\n       [5.50469518e-01],\n       [8.14047381e-02],\n       [7.17744008e-02]], dtype=float32)"
     },
     "execution_count": 34,
     "metadata": {},
     "output_type": "execute_result"
    }
   ],
   "source": [
    "# Make predictions using the model_2: LSTM Model\n",
    "model_2_preds_probs = model_2.predict(val_sentences)\n",
    "model_2_preds_probs"
   ],
   "metadata": {
    "collapsed": false,
    "ExecuteTime": {
     "end_time": "2023-07-30T15:10:24.278227400Z",
     "start_time": "2023-07-30T15:10:23.725562200Z"
    }
   },
   "id": "8e623e026d1d56"
  },
  {
   "cell_type": "code",
   "execution_count": 35,
   "outputs": [
    {
     "data": {
      "text/plain": "(762, 1)"
     },
     "execution_count": 35,
     "metadata": {},
     "output_type": "execute_result"
    }
   ],
   "source": [
    "model_2_preds_probs.shape"
   ],
   "metadata": {
    "collapsed": false,
    "ExecuteTime": {
     "end_time": "2023-07-30T15:10:24.279226600Z",
     "start_time": "2023-07-30T15:10:24.275742Z"
    }
   },
   "id": "1d90b7c483c5d2c8"
  },
  {
   "cell_type": "code",
   "execution_count": 36,
   "outputs": [
    {
     "data": {
      "text/plain": "<tf.Tensor: shape=(762,), dtype=float32, numpy=\narray([0., 0., 0., 0., 1., 0., 0., 0., 0., 1., 1., 0., 0., 0., 0., 0., 1.,\n       0., 1., 0., 0., 1., 0., 0., 0., 0., 1., 1., 1., 0., 0., 0., 1., 0.,\n       0., 1., 0., 0., 0., 0., 0., 1., 0., 1., 0., 0., 1., 0., 1., 1., 0.,\n       1., 0., 1., 0., 0., 1., 0., 0., 0., 1., 0., 1., 0., 0., 0., 1., 0.,\n       0., 0., 0., 0., 0., 0., 0., 0., 0., 1., 0., 1., 0., 0., 1., 1., 0.,\n       0., 1., 0., 1., 1., 0., 1., 0., 0., 1., 0., 0., 0., 1., 0., 1., 0.,\n       0., 0., 0., 0., 0., 0., 1., 0., 1., 1., 1., 0., 0., 1., 0., 1., 0.,\n       0., 1., 1., 0., 1., 1., 0., 1., 1., 0., 0., 0., 0., 0., 0., 1., 0.,\n       0., 0., 0., 1., 0., 0., 1., 1., 1., 0., 1., 1., 1., 0., 1., 0., 1.,\n       1., 1., 0., 0., 1., 1., 0., 0., 0., 1., 1., 0., 1., 0., 0., 1., 0.,\n       0., 0., 1., 1., 0., 0., 0., 1., 1., 1., 1., 0., 0., 0., 0., 1., 0.,\n       0., 0., 0., 0., 0., 0., 0., 0., 0., 0., 1., 0., 0., 0., 0., 0., 0.,\n       1., 0., 0., 0., 0., 0., 1., 1., 1., 1., 1., 1., 0., 1., 1., 0., 0.,\n       1., 1., 0., 1., 1., 1., 0., 0., 1., 0., 0., 1., 0., 0., 0., 0., 0.,\n       1., 0., 0., 1., 0., 0., 0., 0., 1., 1., 0., 1., 0., 1., 0., 1., 0.,\n       0., 0., 1., 0., 0., 0., 1., 1., 0., 1., 1., 0., 0., 1., 1., 0., 1.,\n       0., 0., 1., 0., 0., 1., 1., 1., 1., 1., 1., 0., 1., 1., 0., 0., 0.,\n       0., 1., 1., 0., 0., 1., 0., 0., 1., 1., 0., 1., 0., 1., 1., 0., 1.,\n       0., 0., 0., 0., 1., 0., 0., 1., 0., 1., 0., 0., 1., 1., 0., 0., 1.,\n       0., 0., 0., 0., 0., 0., 1., 0., 1., 1., 0., 1., 1., 1., 1., 1., 1.,\n       0., 0., 0., 0., 0., 0., 1., 1., 1., 0., 0., 1., 0., 0., 1., 0., 1.,\n       0., 0., 0., 1., 0., 1., 0., 0., 0., 0., 0., 0., 0., 0., 1., 0., 0.,\n       0., 1., 0., 1., 0., 0., 1., 0., 0., 0., 0., 1., 0., 0., 0., 0., 0.,\n       0., 0., 0., 0., 1., 1., 1., 0., 0., 0., 1., 1., 0., 0., 1., 0., 1.,\n       1., 0., 1., 1., 0., 1., 0., 0., 1., 0., 1., 0., 0., 1., 0., 0., 0.,\n       0., 0., 0., 1., 1., 0., 0., 0., 0., 1., 0., 1., 0., 0., 0., 1., 0.,\n       1., 1., 0., 0., 0., 0., 1., 0., 0., 0., 1., 0., 1., 0., 0., 1., 1.,\n       0., 1., 1., 0., 1., 1., 1., 0., 0., 1., 0., 1., 0., 1., 0., 1., 1.,\n       0., 0., 0., 0., 0., 0., 0., 1., 1., 1., 0., 0., 0., 0., 0., 0., 1.,\n       0., 1., 0., 1., 0., 0., 0., 1., 0., 0., 0., 1., 0., 0., 0., 0., 0.,\n       1., 1., 0., 0., 0., 0., 0., 0., 0., 0., 1., 1., 0., 1., 1., 1., 0.,\n       1., 1., 0., 0., 1., 0., 0., 0., 0., 1., 0., 0., 1., 0., 0., 0., 0.,\n       0., 1., 1., 0., 1., 0., 0., 0., 1., 1., 1., 1., 1., 0., 1., 0., 1.,\n       1., 0., 0., 0., 0., 0., 0., 0., 1., 1., 1., 1., 1., 1., 0., 0., 0.,\n       1., 1., 0., 1., 0., 0., 0., 0., 1., 0., 1., 1., 1., 1., 0., 0., 0.,\n       0., 1., 0., 0., 0., 0., 0., 0., 1., 1., 1., 0., 1., 0., 0., 1., 0.,\n       0., 0., 1., 0., 0., 0., 0., 0., 0., 1., 1., 0., 0., 1., 0., 0., 0.,\n       1., 0., 1., 1., 0., 0., 1., 1., 0., 0., 0., 0., 1., 1., 1., 0., 0.,\n       0., 1., 1., 0., 0., 0., 0., 1., 0., 0., 1., 1., 0., 1., 0., 0., 0.,\n       0., 1., 0., 1., 1., 1., 0., 1., 0., 0., 1., 0., 1., 0., 0., 0., 0.,\n       0., 0., 1., 0., 0., 0., 1., 1., 1., 1., 0., 1., 0., 0., 1., 1., 1.,\n       1., 0., 0., 1., 0., 1., 0., 0., 0., 0., 0., 1., 0., 1., 1., 1., 1.,\n       0., 0., 1., 0., 1., 1., 0., 0., 0., 1., 0., 0., 1., 0., 0., 0., 1.,\n       0., 1., 1., 0., 0., 0., 0., 0., 0., 0., 0., 0., 0., 0., 0., 0., 0.,\n       1., 1., 0., 1., 0., 0., 1., 1., 1., 0., 0., 1., 0., 0.],\n      dtype=float32)>"
     },
     "execution_count": 36,
     "metadata": {},
     "output_type": "execute_result"
    }
   ],
   "source": [
    "# Convert model_2_preds_probs to the val_labels'format(0,1)\n",
    "model_2_preds = tf.squeeze(tf.round(model_2_preds_probs))\n",
    "model_2_preds"
   ],
   "metadata": {
    "collapsed": false,
    "ExecuteTime": {
     "end_time": "2023-07-30T15:10:24.287268700Z",
     "start_time": "2023-07-30T15:10:24.279226600Z"
    }
   },
   "id": "d1c3350ad8b6aabf"
  },
  {
   "cell_type": "code",
   "execution_count": 37,
   "outputs": [],
   "source": [
    "# Evaluate the model by comparing the model_2_preds to val_labels\n",
    "from sklearn.metrics import accuracy_score, precision_recall_fscore_support\n",
    "\n",
    "model_2_accuracy_score = accuracy_score(val_labels, model_2_preds)\n",
    "model_2_precision, model_2_recall, model_2_fscore, _ =precision_recall_fscore_support(val_labels,\n",
    "                                                                                      model_2_preds,\n",
    "                                                                                      average = \"weighted\")"
   ],
   "metadata": {
    "collapsed": false,
    "ExecuteTime": {
     "end_time": "2023-07-30T15:10:24.294621400Z",
     "start_time": "2023-07-30T15:10:24.287268700Z"
    }
   },
   "id": "a3fe2a1168c6ea31"
  },
  {
   "cell_type": "code",
   "execution_count": 38,
   "outputs": [
    {
     "data": {
      "text/plain": "0.7397964827407357"
     },
     "execution_count": 38,
     "metadata": {},
     "output_type": "execute_result"
    }
   ],
   "source": [
    "model_2_precision"
   ],
   "metadata": {
    "collapsed": false,
    "ExecuteTime": {
     "end_time": "2023-07-30T15:10:24.295621100Z",
     "start_time": "2023-07-30T15:10:24.292038400Z"
    }
   },
   "id": "9a4099a5a26f6fe1"
  },
  {
   "cell_type": "code",
   "execution_count": 39,
   "outputs": [
    {
     "data": {
      "text/plain": "{'model_2_accuracy_score': 0.7401574803149606,\n 'model_2_precision': 0.7397964827407357,\n 'model_2_recall': {0.7401574803149606},\n 'model_2_f1score': {0.7374347787537703}}"
     },
     "execution_count": 39,
     "metadata": {},
     "output_type": "execute_result"
    }
   ],
   "source": [
    "dict_result = {\"model_2_accuracy_score\": model_2_accuracy_score,\n",
    "               \"model_2_precision\": model_2_precision,\n",
    "               \"model_2_recall\": {model_2_recall},\n",
    "               \"model_2_f1score\": {model_2_fscore}}\n",
    "dict_result"
   ],
   "metadata": {
    "collapsed": false,
    "ExecuteTime": {
     "end_time": "2023-07-30T15:10:24.302524300Z",
     "start_time": "2023-07-30T15:10:24.295621100Z"
    }
   },
   "id": "675c563a80b18f9a"
  }
 ],
 "metadata": {
  "kernelspec": {
   "display_name": "Python 3",
   "language": "python",
   "name": "python3"
  },
  "language_info": {
   "codemirror_mode": {
    "name": "ipython",
    "version": 2
   },
   "file_extension": ".py",
   "mimetype": "text/x-python",
   "name": "python",
   "nbconvert_exporter": "python",
   "pygments_lexer": "ipython2",
   "version": "2.7.6"
  }
 },
 "nbformat": 4,
 "nbformat_minor": 5
}
