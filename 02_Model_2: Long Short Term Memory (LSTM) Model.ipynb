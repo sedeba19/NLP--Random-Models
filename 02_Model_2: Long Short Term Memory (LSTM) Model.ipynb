{
 "cells": [
  {
   "cell_type": "code",
   "execution_count": 2,
   "outputs": [
    {
     "data": {
      "text/plain": "'2.13.0'"
     },
     "execution_count": 2,
     "metadata": {},
     "output_type": "execute_result"
    }
   ],
   "source": [
    "import os\n",
    "import tensorflow as tf\n",
    "import pandas as pd\n",
    "\n",
    "tf.__version__\n"
   ],
   "metadata": {
    "collapsed": false,
    "ExecuteTime": {
     "end_time": "2023-07-30T14:49:16.250123300Z",
     "start_time": "2023-07-30T14:49:14.735361700Z"
    }
   },
   "id": "d895e3f341f9cd2c"
  },
  {
   "cell_type": "code",
   "execution_count": 3,
   "outputs": [],
   "source": [
    "main_dir = r\"F:\\linux_ubuntu_codes\\codes\\nlp_lecture\""
   ],
   "metadata": {
    "collapsed": false,
    "ExecuteTime": {
     "end_time": "2023-07-30T14:49:16.250123300Z",
     "start_time": "2023-07-30T14:49:16.247020400Z"
    }
   },
   "id": "258babd61b92d2d5"
  },
  {
   "cell_type": "code",
   "execution_count": 4,
   "outputs": [
    {
     "data": {
      "text/plain": "'https://raw.githubusercontent.com/sedeba19/NLP--Random-Models/main/train.csv'"
     },
     "execution_count": 4,
     "metadata": {},
     "output_type": "execute_result"
    }
   ],
   "source": [
    "train_dir = os.path.join(main_dir + r\"\\train.csv\")\n",
    "test_dir = os.path.join(main_dir + r\"\\test.csv\")"
   ],
   "metadata": {
    "collapsed": false,
    "ExecuteTime": {
     "end_time": "2023-07-30T14:49:16.255905200Z",
     "start_time": "2023-07-30T14:49:16.250123300Z"
    }
   },
   "id": "f9e05dc9db4f2150"
  },
  {
   "cell_type": "code",
   "execution_count": 5,
   "outputs": [
    {
     "data": {
      "text/plain": "   id keyword location                                               text  \\\n0   1     NaN      NaN  Our Deeds are the Reason of this #earthquake M...   \n1   4     NaN      NaN             Forest fire near La Ronge Sask. Canada   \n2   5     NaN      NaN  All residents asked to 'shelter in place' are ...   \n3   6     NaN      NaN  13,000 people receive #wildfires evacuation or...   \n4   7     NaN      NaN  Just got sent this photo from Ruby #Alaska as ...   \n\n   target  \n0       1  \n1       1  \n2       1  \n3       1  \n4       1  ",
      "text/html": "<div>\n<style scoped>\n    .dataframe tbody tr th:only-of-type {\n        vertical-align: middle;\n    }\n\n    .dataframe tbody tr th {\n        vertical-align: top;\n    }\n\n    .dataframe thead th {\n        text-align: right;\n    }\n</style>\n<table border=\"1\" class=\"dataframe\">\n  <thead>\n    <tr style=\"text-align: right;\">\n      <th></th>\n      <th>id</th>\n      <th>keyword</th>\n      <th>location</th>\n      <th>text</th>\n      <th>target</th>\n    </tr>\n  </thead>\n  <tbody>\n    <tr>\n      <th>0</th>\n      <td>1</td>\n      <td>NaN</td>\n      <td>NaN</td>\n      <td>Our Deeds are the Reason of this #earthquake M...</td>\n      <td>1</td>\n    </tr>\n    <tr>\n      <th>1</th>\n      <td>4</td>\n      <td>NaN</td>\n      <td>NaN</td>\n      <td>Forest fire near La Ronge Sask. Canada</td>\n      <td>1</td>\n    </tr>\n    <tr>\n      <th>2</th>\n      <td>5</td>\n      <td>NaN</td>\n      <td>NaN</td>\n      <td>All residents asked to 'shelter in place' are ...</td>\n      <td>1</td>\n    </tr>\n    <tr>\n      <th>3</th>\n      <td>6</td>\n      <td>NaN</td>\n      <td>NaN</td>\n      <td>13,000 people receive #wildfires evacuation or...</td>\n      <td>1</td>\n    </tr>\n    <tr>\n      <th>4</th>\n      <td>7</td>\n      <td>NaN</td>\n      <td>NaN</td>\n      <td>Just got sent this photo from Ruby #Alaska as ...</td>\n      <td>1</td>\n    </tr>\n  </tbody>\n</table>\n</div>"
     },
     "execution_count": 5,
     "metadata": {},
     "output_type": "execute_result"
    }
   ],
   "source": [
    "train_dir"
   ],
   "metadata": {
    "collapsed": false,
    "ExecuteTime": {
     "end_time": "2023-07-30T14:49:17.025416600Z",
     "start_time": "2023-07-30T14:49:16.253905200Z"
    }
   },
   "id": "e237aa9b92bb079a"
  },
  {
   "cell_type": "code",
   "execution_count": 6,
   "outputs": [
    {
     "data": {
      "text/plain": "         id               keyword                  location  \\\n3228   4632  emergency%20services   Sydney, New South Wales   \n3706   5271                  fear                       NaN   \n6957   9982               tsunami         Land Of The Kings   \n2887   4149                 drown                       NaN   \n7464  10680                wounds  cody, austin follows ?*?   \n\n                                                   text  target  \n3228  Goulburn man Henry Van Bilsen missing: Emergen...       1  \n3706  The things we fear most in organizations--fluc...       0  \n6957                            @tsunami_esh ?? hey Esh       0  \n2887  @POTUS you until you drown by water entering t...       0  \n7464  Crawling in my skin\\nThese wounds they will no...       1  ",
      "text/html": "<div>\n<style scoped>\n    .dataframe tbody tr th:only-of-type {\n        vertical-align: middle;\n    }\n\n    .dataframe tbody tr th {\n        vertical-align: top;\n    }\n\n    .dataframe thead th {\n        text-align: right;\n    }\n</style>\n<table border=\"1\" class=\"dataframe\">\n  <thead>\n    <tr style=\"text-align: right;\">\n      <th></th>\n      <th>id</th>\n      <th>keyword</th>\n      <th>location</th>\n      <th>text</th>\n      <th>target</th>\n    </tr>\n  </thead>\n  <tbody>\n    <tr>\n      <th>3228</th>\n      <td>4632</td>\n      <td>emergency%20services</td>\n      <td>Sydney, New South Wales</td>\n      <td>Goulburn man Henry Van Bilsen missing: Emergen...</td>\n      <td>1</td>\n    </tr>\n    <tr>\n      <th>3706</th>\n      <td>5271</td>\n      <td>fear</td>\n      <td>NaN</td>\n      <td>The things we fear most in organizations--fluc...</td>\n      <td>0</td>\n    </tr>\n    <tr>\n      <th>6957</th>\n      <td>9982</td>\n      <td>tsunami</td>\n      <td>Land Of The Kings</td>\n      <td>@tsunami_esh ?? hey Esh</td>\n      <td>0</td>\n    </tr>\n    <tr>\n      <th>2887</th>\n      <td>4149</td>\n      <td>drown</td>\n      <td>NaN</td>\n      <td>@POTUS you until you drown by water entering t...</td>\n      <td>0</td>\n    </tr>\n    <tr>\n      <th>7464</th>\n      <td>10680</td>\n      <td>wounds</td>\n      <td>cody, austin follows ?*?</td>\n      <td>Crawling in my skin\\nThese wounds they will no...</td>\n      <td>1</td>\n    </tr>\n  </tbody>\n</table>\n</div>"
     },
     "execution_count": 6,
     "metadata": {},
     "output_type": "execute_result"
    }
   ],
   "source": [
    "# Make a train_df\n",
    "train_df = pd.read_csv(train_dir)\n",
    "test_df = pd.read_csv(test_dir)\n",
    "train_df.head()"
   ],
   "metadata": {
    "collapsed": false,
    "ExecuteTime": {
     "end_time": "2023-07-30T14:49:17.031385200Z",
     "start_time": "2023-07-30T14:49:17.022417400Z"
    }
   },
   "id": "c858f9a76b34b934"
  },
  {
   "cell_type": "code",
   "execution_count": 7,
   "outputs": [
    {
     "data": {
      "text/plain": "(7613, 5)"
     },
     "execution_count": 7,
     "metadata": {},
     "output_type": "execute_result"
    }
   ],
   "source": [
    "# Shuffle training dataframe\n",
    "train_df_shuffled = train_df.sample(frac = 1, random_state = 1)\n",
    "train_df_shuffled.head()"
   ],
   "metadata": {
    "collapsed": false,
    "ExecuteTime": {
     "end_time": "2023-07-30T14:49:17.033390Z",
     "start_time": "2023-07-30T14:49:17.028775100Z"
    }
   },
   "id": "ffa95adda1afec99"
  },
  {
   "cell_type": "code",
   "execution_count": 8,
   "outputs": [
    {
     "data": {
      "text/plain": "target\n0    4342\n1    3271\nName: count, dtype: int64"
     },
     "execution_count": 8,
     "metadata": {},
     "output_type": "execute_result"
    }
   ],
   "source": [
    "train_df_shuffled.shape"
   ],
   "metadata": {
    "collapsed": false,
    "ExecuteTime": {
     "end_time": "2023-07-30T14:49:17.037702Z",
     "start_time": "2023-07-30T14:49:17.033390Z"
    }
   },
   "id": "66e71f2c2322a35c"
  },
  {
   "cell_type": "code",
   "execution_count": 9,
   "outputs": [
    {
     "data": {
      "text/plain": "(7613, 3263)"
     },
     "execution_count": 9,
     "metadata": {},
     "output_type": "execute_result"
    }
   ],
   "source": [
    "# How many examples of each class?\n",
    "train_df['target'].value_counts()"
   ],
   "metadata": {
    "collapsed": false,
    "ExecuteTime": {
     "end_time": "2023-07-30T14:49:17.043464400Z",
     "start_time": "2023-07-30T14:49:17.038702900Z"
    }
   },
   "id": "e8f13f3fbc904937"
  },
  {
   "cell_type": "code",
   "execution_count": 10,
   "outputs": [
    {
     "name": "stdout",
     "output_type": "stream",
     "text": [
      "Target:0 (not a real disaster)\n",
      "Text: \n",
      "The best thing about this is it drowned out the call from the guy angry cause he hadn't gotten a tracking number... http://t.co/QYu8grOrQ1\n",
      "-----\n",
      "\n",
      "Target:0 (not a real disaster)\n",
      "Text: \n",
      "And when those waves shall ripple collide it's on the tide of YOUR LOVE I will survive. #love @LesleyChappelle\n",
      "-----\n",
      "\n",
      "Target:1 (real disaster)\n",
      "Text: \n",
      "@fewmoretweets all lives matter. Just not a fan of burning down buildings and stealing from your neighbors to 'protest'\n",
      "-----\n",
      "\n",
      "Target:0 (not a real disaster)\n",
      "Text: \n",
      "The Prophet (peace be upon him) said 'Save yourself from Hellfire even if it is by giving half a date in charity.'\n",
      "-----\n",
      "\n",
      "Target:0 (not a real disaster)\n",
      "Text: \n",
      "@Kiwi_Karyn Check out what's in my parking lot!! He said that until last year it was an ambulance in St Johns. http://t.co/hPvOdUD7iP\n",
      "-----\n"
     ]
    }
   ],
   "source": [
    "# How many total samples?\n",
    "len(train_df), len(test_df)"
   ],
   "metadata": {
    "collapsed": false,
    "ExecuteTime": {
     "end_time": "2023-07-30T14:49:17.050094Z",
     "start_time": "2023-07-30T14:49:17.042465100Z"
    }
   },
   "id": "6a3f06f716aed950"
  },
  {
   "cell_type": "code",
   "execution_count": 10,
   "outputs": [
    {
     "name": "stdout",
     "output_type": "stream",
     "text": [
      "Target:0 (not a real disaster)\n",
      "Text: \n",
      ".@bigperm28 was drafted by the @Avalanche in 2005 (rd. 4 #124) overall. Played last season in @UtahGrizz. http://t.co/gPGTAfMKt0\n",
      "-----\n",
      "\n",
      "Target:0 (not a real disaster)\n",
      "Text: \n",
      "self harm// I'm so angry please tag your scars on tumblr jesus christ i dont wanna get triggered\n",
      "-----\n",
      "\n",
      "Target:1 (real disaster)\n",
      "Text: \n",
      "Obama Declares Disaster for Typhoon-Devastated Saipan: Obama signs disaster declaration for Northern Marians a... http://t.co/BHZr9UgUs2\n",
      "-----\n",
      "\n",
      "Target:0 (not a real disaster)\n",
      "Text: \n",
      "Human history becomes more and more a race between education and catastrophe.\n",
      "-----\n",
      "\n",
      "Target:1 (real disaster)\n",
      "Text: \n",
      "Wreckage 'conclusively confirmed' as from MH370: Malaysia PM http://t.co/Rp2DxFKHDQ | https://t.co/akmIHLRIs1\n",
      "-----\n"
     ]
    }
   ],
   "source": [
    "# Visualize some random training examples\n",
    "import random\n",
    "random_index = random.randint(0, len(train_df)-5)\n",
    "for row in train_df_shuffled[[\"text\", \"target\"]][random_index: random_index +5].itertuples():\n",
    "    _, text, target = row\n",
    "    if target > 0:\n",
    "        print(f\"Target:{target}\", \"(real disaster)\")\n",
    "    else:\n",
    "        print(f\"Target:{target}\", \"(not a real disaster)\")\n",
    "    \n",
    "    print(f\"Text: \\n{text}\")\n",
    "    print(\"-----\\n\")"
   ],
   "metadata": {
    "collapsed": false,
    "ExecuteTime": {
     "end_time": "2023-07-30T06:46:40.767080Z",
     "start_time": "2023-07-30T06:46:40.707363900Z"
    }
   },
   "id": "99ad01fd617f2fad"
  },
  {
   "cell_type": "markdown",
   "source": [
    "### Split data into training and validation sets"
   ],
   "metadata": {
    "collapsed": false,
    "ExecuteTime": {
     "end_time": "2023-07-30T14:49:17.326324400Z",
     "start_time": "2023-07-30T14:49:17.047093600Z"
    }
   },
   "id": "cc004f467eb6820b"
  },
  {
   "cell_type": "code",
   "execution_count": 12,
   "outputs": [
    {
     "data": {
      "text/plain": "(7613,)"
     },
     "execution_count": 12,
     "metadata": {},
     "output_type": "execute_result"
    }
   ],
   "source": [
    "from sklearn.model_selection import train_test_split\n",
    "\n",
    "train_sentences, val_sentences, train_labels, val_labels = train_test_split(train_df['text'],\n",
    "                                                                            train_df['target'],\n",
    "                                                                            test_size = 0.1,\n",
    "                                                                            random_state = 42)"
   ],
   "metadata": {
    "collapsed": false,
    "ExecuteTime": {
     "end_time": "2023-07-30T14:49:17.334686Z",
     "start_time": "2023-07-30T14:49:17.327325200Z"
    }
   },
   "id": "e9962e431d6f4625"
  },
  {
   "cell_type": "code",
   "execution_count": 13,
   "outputs": [
    {
     "data": {
      "text/plain": "0       Our Deeds are the Reason of this #earthquake M...\n1                  Forest fire near La Ronge Sask. Canada\n2       All residents asked to 'shelter in place' are ...\n3       13,000 people receive #wildfires evacuation or...\n4       Just got sent this photo from Ruby #Alaska as ...\n                              ...                        \n7608    Two giant cranes holding a bridge collapse int...\n7609    @aria_ahrary @TheTawniest The out of control w...\n7610    M1.94 [01:04 UTC]?5km S of Volcano Hawaii. htt...\n7611    Police investigating after an e-bike collided ...\n7612    The Latest: More Homes Razed by Northern Calif...\nName: text, Length: 7613, dtype: object"
     },
     "execution_count": 13,
     "metadata": {},
     "output_type": "execute_result"
    }
   ],
   "source": [
    "train_df['text'].shape"
   ],
   "metadata": {
    "collapsed": false,
    "ExecuteTime": {
     "end_time": "2023-07-30T14:49:17.336680800Z",
     "start_time": "2023-07-30T14:49:17.331152900Z"
    }
   },
   "id": "2044aeeaed5209d8"
  },
  {
   "cell_type": "code",
   "execution_count": 14,
   "outputs": [
    {
     "data": {
      "text/plain": "array(['Our Deeds are the Reason of this #earthquake May ALLAH Forgive us all',\n       'Forest fire near La Ronge Sask. Canada',\n       \"All residents asked to 'shelter in place' are being notified by officers. No other evacuation or shelter in place orders are expected\",\n       ...,\n       'M1.94 [01:04 UTC]?5km S of Volcano Hawaii. http://t.co/zDtoyd8EbJ',\n       'Police investigating after an e-bike collided with a car in Little Portugal. E-bike rider suffered serious non-life threatening injuries.',\n       'The Latest: More Homes Razed by Northern California Wildfire - ABC News http://t.co/YmY4rSkQ3d'],\n      dtype=object)"
     },
     "execution_count": 14,
     "metadata": {},
     "output_type": "execute_result"
    }
   ],
   "source": [
    "train_df[\"text\"]"
   ],
   "metadata": {
    "collapsed": false,
    "ExecuteTime": {
     "end_time": "2023-07-30T14:49:17.344102200Z",
     "start_time": "2023-07-30T14:49:17.335681200Z"
    }
   },
   "id": "aecfc9a6831f9cee"
  },
  {
   "cell_type": "code",
   "execution_count": 15,
   "outputs": [
    {
     "data": {
      "text/plain": "array(['Our Deeds are the Reason of this #earthquake May ALLAH Forgive us all',\n       'Forest fire near La Ronge Sask. Canada',\n       \"All residents asked to 'shelter in place' are being notified by officers. No other evacuation or shelter in place orders are expected\",\n       ...,\n       'M1.94 [01:04 UTC]?5km S of Volcano Hawaii. http://t.co/zDtoyd8EbJ',\n       'Police investigating after an e-bike collided with a car in Little Portugal. E-bike rider suffered serious non-life threatening injuries.',\n       'The Latest: More Homes Razed by Northern California Wildfire - ABC News http://t.co/YmY4rSkQ3d'],\n      dtype=object)"
     },
     "execution_count": 15,
     "metadata": {},
     "output_type": "execute_result"
    }
   ],
   "source": [
    "train_df['text'].to_numpy()"
   ],
   "metadata": {
    "collapsed": false,
    "ExecuteTime": {
     "end_time": "2023-07-30T14:49:17.354647100Z",
     "start_time": "2023-07-30T14:49:17.343102600Z"
    }
   },
   "id": "4cdc72f6e817f834"
  },
  {
   "cell_type": "code",
   "execution_count": 16,
   "outputs": [
    {
     "data": {
      "text/plain": "(6851, 762, 6851, 762)"
     },
     "execution_count": 16,
     "metadata": {},
     "output_type": "execute_result"
    }
   ],
   "source": [
    "train_df['text'].to_numpy()"
   ],
   "metadata": {
    "collapsed": false,
    "ExecuteTime": {
     "end_time": "2023-07-30T14:49:17.381352300Z",
     "start_time": "2023-07-30T14:49:17.347195400Z"
    }
   },
   "id": "ec43b6635db1dc03"
  },
  {
   "cell_type": "code",
   "execution_count": 16,
   "outputs": [
    {
     "data": {
      "text/plain": "(6851, 762, 6851, 762)"
     },
     "execution_count": 16,
     "metadata": {},
     "output_type": "execute_result"
    }
   ],
   "source": [
    "len(train_sentences), len(val_sentences), len(train_labels), len(val_labels)"
   ],
   "metadata": {
    "collapsed": false,
    "ExecuteTime": {
     "end_time": "2023-07-30T06:46:41.053476900Z",
     "start_time": "2023-07-30T06:46:41.031414400Z"
    }
   },
   "id": "c4b936bb4e61352a"
  },
  {
   "cell_type": "markdown",
   "source": [
    "### Converting text into numbers: Text Vectorization also known as Tokenization"
   ],
   "metadata": {
    "collapsed": false,
    "ExecuteTime": {
     "end_time": "2023-07-30T14:49:17.397358500Z",
     "start_time": "2023-07-30T14:49:17.353646800Z"
    }
   },
   "id": "5777dedf87f2662b"
  },
  {
   "cell_type": "code",
   "execution_count": 18,
   "outputs": [
    {
     "data": {
      "text/plain": "(6851,)"
     },
     "execution_count": 18,
     "metadata": {},
     "output_type": "execute_result"
    }
   ],
   "source": [
    "# Get the total words\n",
    "total_words = 0\n",
    "for i in train_sentences:\n",
    "    total_words += len(i.split())\n",
    "\n",
    "total_words"
   ],
   "metadata": {
    "collapsed": false,
    "ExecuteTime": {
     "end_time": "2023-07-30T14:49:17.397358500Z",
     "start_time": "2023-07-30T14:49:17.362782100Z"
    }
   },
   "id": "618457c173977155"
  },
  {
   "cell_type": "code",
   "execution_count": 19,
   "outputs": [
    {
     "data": {
      "text/plain": "15"
     },
     "execution_count": 19,
     "metadata": {},
     "output_type": "execute_result"
    }
   ],
   "source": [
    "train_sentences.shape"
   ],
   "metadata": {
    "collapsed": false,
    "ExecuteTime": {
     "end_time": "2023-07-30T14:49:17.397358500Z",
     "start_time": "2023-07-30T14:49:17.368698300Z"
    }
   },
   "id": "829d84b65c26bb92"
  },
  {
   "cell_type": "code",
   "execution_count": 20,
   "outputs": [],
   "source": [
    "# Get the average words per sentence or line\n",
    "avg_words_per_sentence = round(total_words/len(train_sentences))\n",
    "avg_words_per_sentence"
   ],
   "metadata": {
    "collapsed": false,
    "ExecuteTime": {
     "end_time": "2023-07-30T14:49:17.398360100Z",
     "start_time": "2023-07-30T14:49:17.373844200Z"
    }
   },
   "id": "a7a8bed44aec85d5"
  },
  {
   "cell_type": "code",
   "execution_count": 21,
   "outputs": [],
   "source": [
    "# Normally, total number of words is equal or less than the max vocabulary length\n",
    "max_vocab_length = 10000\n",
    "\n",
    "# max length of a statement is equal or more than the average word per sentence or line\n",
    "max_length = 15"
   ],
   "metadata": {
    "collapsed": false,
    "ExecuteTime": {
     "end_time": "2023-07-30T14:49:17.647347500Z",
     "start_time": "2023-07-30T14:49:17.376358600Z"
    }
   },
   "id": "92ebee1bf68d8486"
  },
  {
   "cell_type": "code",
   "execution_count": 22,
   "outputs": [
    {
     "name": "stdout",
     "output_type": "stream",
     "text": [
      "There's a flood in my street! Sentence length is 29.\n"
     ]
    },
    {
     "data": {
      "text/plain": "<tf.Tensor: shape=(1, 15), dtype=int64, numpy=\narray([[282,   3, 206,   4,  13, 674,   0,   0,   0,   0,   0,   0,   0,\n          0,   0]], dtype=int64)>"
     },
     "execution_count": 22,
     "metadata": {},
     "output_type": "execute_result"
    }
   ],
   "source": [
    "import tensorflow as tf\n",
    "from tensorflow.keras.layers.experimental.preprocessing import TextVectorization\n",
    "\n",
    "text_vectorizer = TextVectorization(max_tokens = max_vocab_length,\n",
    "                                    output_mode = \"int\",\n",
    "                                    output_sequence_length = max_length)\n",
    "\n",
    "# Fit the text vectorizer to the training set\n",
    "text_vectorizer.adapt(train_sentences)"
   ],
   "metadata": {
    "collapsed": false,
    "ExecuteTime": {
     "end_time": "2023-07-30T14:49:17.676429300Z",
     "start_time": "2023-07-30T14:49:17.647347500Z"
    }
   },
   "id": "8805b068faa29b89"
  },
  {
   "cell_type": "code",
   "execution_count": 23,
   "outputs": [
    {
     "name": "stdout",
     "output_type": "stream",
     "text": [
      "Original text: \n",
      "\n",
      " Metro acting chief Jack Requa says train that derailed was a six-car train with 1000 and 2000 series rail cars. #wmata \n",
      "\n",
      "Vectorized text:\n"
     ]
    },
    {
     "data": {
      "text/plain": "<tf.Tensor: shape=(1, 15), dtype=int64, numpy=\narray([[1383, 4159, 1888, 2081, 9152,  273,  118,   16,  606,   23,    3,\n        8433,  118,   14, 1577]], dtype=int64)>"
     },
     "execution_count": 23,
     "metadata": {},
     "output_type": "execute_result"
    }
   ],
   "source": [
    "# Create a sample sentence and tokenize it\n",
    "samp_sentence = \"There's a flood in my street!\"\n",
    "print(samp_sentence, f\"Sentence length is {len(samp_sentence)}.\")\n",
    "text_vectorizer([samp_sentence])\n",
    "#len(tf.squeeze(text_vectorizer([samp_sentence])))"
   ],
   "metadata": {
    "collapsed": false,
    "ExecuteTime": {
     "end_time": "2023-07-30T14:49:17.676429300Z",
     "start_time": "2023-07-30T14:49:17.669864900Z"
    }
   },
   "id": "111d45283fbfd4ae"
  },
  {
   "cell_type": "code",
   "execution_count": 24,
   "outputs": [
    {
     "data": {
      "text/plain": "['',\n '[UNK]',\n 'the',\n 'a',\n 'in',\n 'to',\n 'of',\n 'and',\n 'i',\n 'is',\n 'for',\n 'on',\n 'you',\n 'my',\n 'with',\n 'it',\n 'that',\n 'at',\n 'by',\n 'this',\n 'from',\n 'are',\n 'be',\n 'was',\n 'have',\n 'like',\n 'as',\n 'me',\n 'but',\n 'up',\n 'just',\n 'so',\n 'im',\n 'not',\n 'amp',\n 'your',\n 'out',\n 'all',\n 'after',\n 'its',\n 'has',\n 'no',\n 'will',\n 'an',\n 'fire',\n 'when',\n 'if',\n 'we',\n 'get',\n 'now',\n 'more',\n 'via',\n 'new',\n 'about',\n 'what',\n 'people',\n 'or',\n 'news',\n 'he',\n 'they',\n 'over',\n 'one',\n 'been',\n 'how',\n 'dont',\n 'who',\n 'video',\n 'into',\n 'were',\n 'do',\n 'us',\n 'can',\n 'emergency',\n '2',\n 'disaster',\n 'there',\n 'her',\n 'some',\n 'than',\n 'still',\n 'would',\n 'his',\n 'police',\n 'crash',\n 'burning',\n 'suicide',\n 'body',\n 'california',\n 'back',\n 'time',\n 'buildings',\n 'had',\n 'why',\n 'off',\n 'them',\n 'got',\n 'man',\n 'see',\n 'storm',\n 'know',\n 'going',\n 'cant',\n 'world',\n 'first',\n 'day',\n 'rt',\n 'nuclear',\n 'love',\n 'youtube',\n 'our',\n 'attack',\n 'go',\n 'fires',\n 'two',\n 'their',\n 'bomb',\n 'killed',\n '3',\n 'train',\n 'dead',\n 'car',\n 'war',\n 'life',\n 'may',\n 'watch',\n 'full',\n 'only',\n 'here',\n 'hiroshima',\n 'down',\n 'today',\n 'u',\n 'accident',\n 'think',\n 'many',\n 'good',\n 'way',\n 'families',\n 'too',\n 'then',\n 'say',\n 'being',\n 'last',\n 'could',\n 'years',\n 'want',\n 'did',\n 'home',\n 'best',\n 'should',\n 'need',\n 'mass',\n 'even',\n 'work',\n 'make',\n 'help',\n 'bombing',\n 'wildfire',\n 'please',\n 'look',\n 'lol',\n 'because',\n 'another',\n 'take',\n 'him',\n 'collapse',\n 'year',\n 'water',\n 'those',\n 'really',\n 'army',\n 'am',\n 'school',\n 'mh370',\n 'death',\n 'right',\n 'pm',\n 'black',\n 'much',\n 'forest',\n 'fatal',\n '5',\n 'youre',\n 'she',\n 'northern',\n '4',\n 'live',\n 'city',\n 'bomber',\n 'wreck',\n 'hot',\n 'great',\n 'every',\n '2015',\n 'old',\n 'let',\n 'legionnaires',\n 'fear',\n 'obama',\n 'latest',\n 'homes',\n 'flames',\n 'come',\n '1',\n 'never',\n 'getting',\n 'flood',\n '\\x89Û',\n 'where',\n 'said',\n 'japan',\n 'shit',\n 'floods',\n 'during',\n 'atomic',\n 'god',\n 'damage',\n 'under',\n 'near',\n 'feel',\n 'ever',\n 'earthquake',\n 'ass',\n 'which',\n 'since',\n 'read',\n 'oil',\n 'night',\n 'most',\n 'military',\n 'injured',\n 'hope',\n 'everyone',\n 'coming',\n 'any',\n 'without',\n 'while',\n 'well',\n 'thats',\n 'stop',\n 'next',\n 'hit',\n 'weather',\n 'these',\n 'state',\n 'little',\n 'flooding',\n 'evacuation',\n 'before',\n 'truck',\n 'severe',\n 's',\n 'content',\n 'always',\n 'until',\n 'top',\n 'through',\n 'smoke',\n 'plan',\n 'found',\n 'confirmed',\n 'cause',\n 'movie',\n 'fucking',\n 'face',\n 'debris',\n 'bloody',\n 'bad',\n 'weapon',\n 'warning',\n 'times',\n 'thunderstorm',\n 'set',\n 'says',\n 'natural',\n 'malaysia',\n 'liked',\n 'ive',\n 'gonna',\n 'free',\n 'fall',\n 'thunder',\n 'theres',\n 'sinking',\n 'saudi',\n 'refugees',\n 'made',\n 'loud',\n 'looks',\n 'injuries',\n 'house',\n 'hes',\n 'heat',\n 'cross',\n 'also',\n 'air',\n 'w',\n 'screaming',\n 'rain',\n 'murder',\n 'head',\n 'failure',\n 'explode',\n 'check',\n 'wreckage',\n 'wind',\n 'wild',\n 'trapped',\n 'survive',\n 'spill',\n 'reddit',\n 'panic',\n 'missing',\n 'lightning',\n 'family',\n 'change',\n 'whole',\n 'weapons',\n 'terrorist',\n 'service',\n 'run',\n 'rescuers',\n 'report',\n 'released',\n 'photo',\n 'outbreak',\n 'ill',\n 'food',\n 'evacuate',\n 'end',\n 'destroyed',\n 'deaths',\n 'boy',\n 'again',\n '70',\n 'terrorism',\n 'sinkhole',\n 'services',\n 'save',\n 'road',\n 'rescue',\n 'migrants',\n 'keep',\n 'high',\n 'harm',\n 'danger',\n 'county',\n 'collided',\n 'blood',\n 'big',\n 'bags',\n 'twister',\n 'trauma',\n 'tonight',\n 'summer',\n 'ruin',\n 'mosque',\n 'lives',\n 'least',\n 'hail',\n 'girl',\n 'fuck',\n 'fatalities',\n 'does',\n 'derailment',\n 'curfew',\n 'collapsed',\n 'charged',\n 'call',\n 'burned',\n 'breaking',\n 'boat',\n 'bag',\n 'attacked',\n 'ambulance',\n 'wrecked',\n 'wounded',\n 'white',\n 'week',\n 'update',\n 'things',\n 'structural',\n 'stock',\n 'someone',\n 'show',\n 'rioting',\n 'real',\n 'phone',\n 'mudslide',\n 'landslide',\n 'investigators',\n 'explosion',\n 'engulfed',\n 'displaced',\n 'devastation',\n 'destroy',\n 'deluge',\n 'crashed',\n 'catastrophe',\n 'bus',\n 'battle',\n 'away',\n 'area',\n 'apocalypse',\n 'whirlwind',\n 'survivors',\n 'survived',\n 'sunk',\n 'saw',\n 'sandstorm',\n 'post',\n 'other',\n 'massacre',\n 'island',\n 'injury',\n 'id',\n 'hundreds',\n 'hostages',\n 'horrible',\n 'hazardous',\n 'hazard',\n 'game',\n 'exploded',\n 'drought',\n 'bridge',\n 'bang',\n '40',\n 'windstorm',\n 'went',\n 'wave',\n 'soon',\n 'rescued',\n 'quarantined',\n 'national',\n 'market',\n 'kills',\n 'hurricane',\n 'heard',\n 'drowning',\n 'drown',\n 'detonate',\n 'destruction',\n 'derail',\n 'cliff',\n 'bombed',\n 'blown',\n 'around',\n 'airplane',\n '6',\n '\\x89ÛÒ',\n 'wounds',\n 'woman',\n 'trouble',\n 'traumatised',\n 'tragedy',\n 'thing',\n 'story',\n 'screams',\n 'put',\n 'past',\n 'ok',\n 'iran',\n 'inundated',\n 'group',\n 'flattened',\n 'fedex',\n 'caused',\n 'came',\n 'better',\n 'august',\n 'armageddon',\n 'anniversary',\n '15',\n 'women',\n 'wanna',\n 'violent',\n 'typhoon',\n 'tsunami',\n 'thank',\n 'security',\n 'razed',\n 'possible',\n 'meltdown',\n 'lot',\n 'isis',\n 'hostage',\n 'famine',\n 'electrocuted',\n 'ebay',\n 'dust',\n 'crush',\n 'collide',\n 'chemical',\n 'blew',\n 'bleeding',\n 'bioterror',\n 'against',\n 'zone',\n 'whats',\n 'use',\n 'twitter',\n 'tomorrow',\n 'sure',\n 'something',\n 'send',\n 'quarantine',\n 'plane',\n 'pkk',\n 'part',\n 'panicking',\n 'pandemonium',\n 'oh',\n 'must',\n 'longer',\n 'long',\n 'left',\n 'hijacker',\n 'heart',\n 'government',\n 'goes',\n 'due',\n 'didnt',\n 'detonated',\n 'desolation',\n 'collision',\n 'catastrophic',\n 'casualties',\n 'calgary',\n 'building',\n 'beautiful',\n 'bagging',\n 'affected',\n 'yet',\n 'volcano',\n 'very',\n 'thanks',\n 'st',\n 'screamed',\n 'river',\n 'riot',\n 'reunion',\n 'responders',\n 'red',\n 'obliteration',\n 'obliterated',\n 'nothing',\n 'music',\n 'minute',\n 'lava',\n 'land',\n 'hijacking',\n 'fatality',\n 'fan',\n 'drowned',\n 'detonation',\n 'demolish',\n 'cool',\n 'blast',\n 'believe',\n 'baby',\n 'used',\n 'ur',\n 'three',\n 'thought',\n 'sound',\n 'song',\n 'site',\n 'sirens',\n 'shoulder',\n 'seismic',\n 'same',\n 'prebreak',\n 'power',\n 'officials',\n 'obliterate',\n 'few',\n 'eyewitness',\n 'died',\n 'demolished',\n 'care',\n 'arson',\n 'airport',\n '9',\n 'turkey',\n 'traffic',\n 'such',\n 'stay',\n 'start',\n 'snowstorm',\n 'shooting',\n 'rubble',\n 'remember',\n 'rainstorm',\n 'murderer',\n 'media',\n 'making',\n 'kids',\n 'issues',\n 'israeli',\n 'india',\n 'having',\n 'far',\n 'evacuated',\n 'electrocute',\n 'doing',\n 'doesnt',\n 'derailed',\n 'demolition',\n 'crushed',\n 'brown',\n 'blazing',\n 'annihilated',\n '8',\n '7',\n '16yr',\n 'yes',\n 'wake',\n 'suspect',\n 'south',\n 'shot',\n 'reactor',\n 'policy',\n 'nowplaying',\n 'nearby',\n 'line',\n 'light',\n 'lets',\n 'leave',\n 'inside',\n 'horror',\n 'hijack',\n 'hell',\n 'health',\n 'gets',\n 'casualty',\n 'bc',\n 'already',\n 'actually',\n 'words',\n 'upheaval',\n 'trying',\n 'tornado',\n 'tell',\n 'sue',\n 'stretcher',\n 'second',\n 're\\x89Û',\n 'plans',\n 'pic',\n 'mp',\n 'men',\n 'maybe',\n 'low',\n 'lab',\n 'islam',\n 'hours',\n 'history',\n 'half',\n 'guys',\n 'fun',\n 'fight',\n 'done',\n 'deluged',\n 'declares',\n 'days',\n 'bodies',\n 'bestnaijamade',\n 'anything',\n 'almost',\n '20',\n '\\x89ÛÓ',\n 'wont',\n 'swallowed',\n 'support',\n 'street',\n 'searching',\n 'reuters',\n 'play',\n 'place',\n 'photos',\n 'person',\n 'peace',\n 'online',\n 'north',\n 'literally',\n 'hey',\n 'helicopter',\n 'find',\n 'cyclone',\n 'crews',\n 'business',\n 'bush',\n 'both',\n 'bioterrorism',\n 'bar',\n 'avalanche',\n 'aircraft',\n 'abc',\n '50',\n 'yeah',\n 'west',\n 'wait',\n 'typhoondevastated',\n 'theyre',\n 'siren',\n 'saipan',\n 'pick',\n 'name',\n 'money',\n 'la',\n 'kill',\n 'job',\n 'hellfire',\n 'hear',\n 'happy',\n 'eyes',\n 'die',\n 'data',\n 'conclusively',\n 'children',\n 'blight',\n 'blaze',\n 'ago',\n 'waves',\n 'trench',\n 'texas',\n 'team',\n 'space',\n 'projected',\n 'probably',\n 'picking',\n 'own',\n 'order',\n 'myself',\n 'memories',\n 'major',\n 'm',\n 'lost',\n 'jobs',\n 'hollywood',\n 'feared',\n 'effect',\n 'deal',\n 'd',\n 'center',\n 'case',\n 'book',\n 'bigger',\n 'anyone',\n 'american',\n 'ablaze',\n '12',\n '10',\n 'yourself',\n 'watching',\n 'tv',\n 'transport',\n 'town',\n 'spot',\n 'soudelor',\n 'ship',\n 'seen',\n 'saved',\n 'pretty',\n 'outside',\n 'officer',\n 'mom',\n 'miners',\n 'meek',\n 'leather',\n 'houses',\n 'hat',\n 'hard',\n 'flag',\n 'everything',\n 'daily',\n 'child',\n 'chance',\n 'called',\n 'banned',\n 'ball',\n 'annihilation',\n 'amid',\n '30',\n 'wow',\n 'trains',\n 'though',\n 'star',\n 'signs',\n 'side',\n 'shes',\n 'self',\n 'rise',\n 'refugio',\n 'rd',\n 'poor',\n 'once',\n 'okay',\n 'n',\n 'move',\n 'might',\n 'manslaughter',\n 'makes',\n 'hailstorm',\n 'gbbo',\n 'friends',\n 'flash',\n 'fast',\n 'emmerdale',\n 'east',\n 'desolate',\n 'damn',\n 'crisis',\n 'crazy',\n 'course',\n 'couple',\n 'country',\n 'costlier',\n 'centre',\n 'caught',\n 'cake',\n 'blizzard',\n 'become',\n 'angry',\n 'alone',\n 'youth',\n 'wrong',\n 'win',\n 'vs',\n 'virgin',\n 'truth',\n 'temple',\n 'sorry',\n 'reports',\n 'reason',\n 'playing',\n 'pain',\n 'omg',\n 'official',\n 'myanmar',\n 'mayhem',\n 'looking',\n 'listen',\n 'level',\n 'ladies',\n 'knock',\n 'isnt',\n 'ignition',\n 'huge',\n 'heavy',\n 'hate',\n 'guy',\n 'gun',\n 'global',\n 'finally',\n 'feeling',\n 'eye',\n 'downtown',\n 'control',\n 'computers',\n 'closed',\n 'class',\n 'beach',\n 'bbc',\n 'b',\n 'appears',\n 'across',\n '60',\n '13',\n '11yearold',\n 'yours',\n 'womens',\n 'wanted',\n 'view',\n 'usa',\n 'united',\n 'try',\n 'totally',\n 'toddler',\n 'till',\n 'thousands',\n 'takes',\n 'taken',\n 't',\n 'stand',\n 'russian',\n 'running',\n 'reddits',\n 'quiz',\n 'pay',\n 'pakistan',\n 'others',\n 'mop',\n 'marks',\n 'mad',\n 'link',\n 'libya',\n 'issued',\n 'instead',\n 'happened',\n 'gt',\n 'giant',\n 'gems',\n 'gave',\n 'front',\n 'follow',\n 'film',\n 'experts',\n 'else',\n 'drive',\n 'devastated',\n 'declaration',\n 'coaches',\n 'cnn',\n 'christian',\n 'anthrax',\n 'aftershock',\n '11',\n 'worst',\n 'working',\n 'village',\n 'vehicle',\n 'unconfirmed',\n 'thursday',\n 'talk',\n 'subreddits',\n 'sounds',\n 'shows',\n 'scared',\n 'ready',\n 'potus',\n 'park',\n 'niggas',\n 'neighbours',\n 'nagasaki',\n 'mount',\n 'miss',\n 'mishaps',\n 'lord',\n 'led',\n 'learn',\n 'large',\n 'landing',\n 'israel',\n 'haha',\n 'gop',\n 'germs',\n 'galactic',\n 'fukushima',\n 'following',\n 'favorite',\n 'escape',\n 'entire',\n 'ebola',\n 'driving',\n 'download',\n 'climate',\n 'chinas',\n 'china',\n 'cars',\n 'behind',\n 'aug',\n 'arsonist',\n 'aint',\n 'added',\n 'action',\n '25',\n '100',\n '05',\n 'wonder',\n 'tweet',\n 'turn',\n 'trust',\n 'tree',\n 'told',\n 'sign',\n 'safety',\n 'russia',\n 'rules',\n 'rock',\n 'reported',\n 'radio',\n 'r',\n 'pray',\n 'pradesh',\n 'ppl',\n 'point',\n 'patience',\n 'party',\n 'parole',\n 'pamela',\n 'pakistani',\n 'outrage',\n 'offensive',\n 'nws',\n 'needs',\n 'nearly',\n 'muslims',\n 'morning',\n 'moment',\n ...]"
     },
     "execution_count": 24,
     "metadata": {},
     "output_type": "execute_result"
    }
   ],
   "source": [
    "# Choose random sentence from the training dataset and tokenize it\n",
    "rand_train_sentence = random.choice(train_sentences)\n",
    "print(f\"Original text: \\n\\n {rand_train_sentence} \\n\\nVectorized text:\")\n",
    "text_vectorizer([rand_train_sentence])"
   ],
   "metadata": {
    "collapsed": false,
    "ExecuteTime": {
     "end_time": "2023-07-30T14:49:17.728921500Z",
     "start_time": "2023-07-30T14:49:17.677430300Z"
    }
   },
   "id": "4f30ca7e95b2b5e5"
  },
  {
   "cell_type": "code",
   "execution_count": 25,
   "outputs": [
    {
     "data": {
      "text/plain": "10000"
     },
     "execution_count": 25,
     "metadata": {},
     "output_type": "execute_result"
    }
   ],
   "source": [
    "# Get unique words in the vocabulary\n",
    "words_in_vocab = text_vectorizer.get_vocabulary()\n",
    "words_in_vocab"
   ],
   "metadata": {
    "collapsed": false,
    "ExecuteTime": {
     "end_time": "2023-07-30T14:49:17.729921900Z",
     "start_time": "2023-07-30T14:49:17.696108600Z"
    }
   },
   "id": "a9796849d92692a"
  },
  {
   "cell_type": "code",
   "execution_count": 26,
   "outputs": [
    {
     "data": {
      "text/plain": "['', '[UNK]', 'the', 'a', 'in']"
     },
     "execution_count": 26,
     "metadata": {},
     "output_type": "execute_result"
    }
   ],
   "source": [
    "len(words_in_vocab)"
   ],
   "metadata": {
    "collapsed": false,
    "ExecuteTime": {
     "end_time": "2023-07-30T14:49:17.729921900Z",
     "start_time": "2023-07-30T14:49:17.698926Z"
    }
   },
   "id": "1fc1d49d18c2f968"
  },
  {
   "cell_type": "code",
   "execution_count": 27,
   "outputs": [
    {
     "data": {
      "text/plain": "['pakthey', 'pakistan\\x89Ûªs', 'pakistans', 'pajamas', 'paints']"
     },
     "execution_count": 27,
     "metadata": {},
     "output_type": "execute_result"
    }
   ],
   "source": [
    "# Top 5 words in words_in_vocab\n",
    "words_in_vocab[:5]"
   ],
   "metadata": {
    "collapsed": false,
    "ExecuteTime": {
     "end_time": "2023-07-30T14:49:17.729921900Z",
     "start_time": "2023-07-30T14:49:17.703351500Z"
    }
   },
   "id": "60913b2c06167547"
  },
  {
   "cell_type": "code",
   "execution_count": 27,
   "outputs": [
    {
     "data": {
      "text/plain": "['pakthey', 'pakistan\\x89Ûªs', 'pakistans', 'pajamas', 'paints']"
     },
     "execution_count": 27,
     "metadata": {},
     "output_type": "execute_result"
    }
   ],
   "source": [
    "# Least 5 words in words_in_vocab\n",
    "words_in_vocab[-5:]"
   ],
   "metadata": {
    "collapsed": false,
    "ExecuteTime": {
     "end_time": "2023-07-30T06:46:41.489403Z",
     "start_time": "2023-07-30T06:46:41.411220900Z"
    }
   },
   "id": "4b66d97a81a1ab9b"
  },
  {
   "cell_type": "markdown",
   "source": [
    "### Embedding layer\n",
    "\n",
    "To make our embedding, we are going to use TensorFlow’s embedding layer: https://www.tensorflow.org/api/docs/python/tf/keras/layers/\n",
    "\n",
    "The parameters are below mostly used.\n",
    "* input_dim = size of the vocabulary\n",
    "* output_dim = size of the output embedding vector.  For example, a value of 100 would mean each token gets represented by a vector 100 long\n",
    "* input_length = length of the sequences being passed to the embedding layer"
   ],
   "metadata": {
    "collapsed": false,
    "ExecuteTime": {
     "end_time": "2023-07-30T14:49:17.729921900Z",
     "start_time": "2023-07-30T14:49:17.705846500Z"
    }
   },
   "id": "4d47ece46e5b3070"
  },
  {
   "cell_type": "code",
   "execution_count": 29,
   "outputs": [
    {
     "name": "stdout",
     "output_type": "stream",
     "text": [
      "Original text: Soul food sound so bomb right now '\n",
      "\n",
      "Vectorized text: [[1048  327  564   31  115  175   49    0    0    0    0    0    0    0\n",
      "     0]]\n",
      "\n",
      "Vectorized text shape: (1, 15)\n",
      "Embbedded text: [[[ 1.92673914e-02  1.03229284e-02 -2.99850702e-02 -3.83953825e-02\n",
      "    8.22282955e-03 -4.90010865e-02 -4.65819128e-02  3.74317169e-03\n",
      "   -4.54433225e-02  4.54574712e-02 -2.55725142e-02 -4.02441509e-02\n",
      "    1.60885192e-02  2.69680358e-02 -9.90509987e-03  6.56571239e-03\n",
      "   -4.66850065e-02 -2.91888602e-02 -6.04242086e-06 -4.77750190e-02\n",
      "   -2.63387207e-02  3.77299078e-02  1.86421983e-02  4.85537089e-02\n",
      "   -9.55302641e-03 -4.17189598e-02  3.59614380e-02  4.19400968e-02\n",
      "    1.69054903e-02  4.75232266e-02 -4.13823016e-02 -4.27360460e-03\n",
      "   -4.80304025e-02  3.66009586e-02  1.93724297e-02 -3.08783781e-02\n",
      "    1.41225196e-02  3.63617428e-02 -1.86781771e-02  2.01191790e-02\n",
      "   -1.19296908e-02  5.32950088e-03  5.80988824e-04  1.84386633e-02\n",
      "   -2.60384567e-02  3.68697904e-02 -2.10559852e-02  2.96113528e-02\n",
      "    1.16848722e-02  1.92424692e-02  1.94191374e-02 -1.99747682e-02\n",
      "    3.95298004e-04 -1.79080591e-02  1.26289614e-02 -3.67228016e-02\n",
      "    2.14779861e-02 -1.45378113e-02 -1.40975602e-02  1.00146756e-02\n",
      "    1.77727006e-02 -1.13335475e-02  4.42540161e-02 -9.38198715e-03]\n",
      "  [ 4.98345234e-02 -1.69846788e-02  1.12454779e-02  1.84857510e-02\n",
      "   -1.07582211e-02  4.53859083e-02  6.90855086e-04  1.72906630e-02\n",
      "   -2.02662349e-02  2.25079320e-02  3.92541550e-02 -3.85526642e-02\n",
      "   -2.29419395e-03  2.05121934e-04 -3.15441377e-02  4.43067402e-03\n",
      "   -3.51620428e-02 -1.98273789e-02 -1.79728866e-02 -1.20115280e-03\n",
      "   -3.15041430e-02  4.43759300e-02  3.93596180e-02  1.98409222e-02\n",
      "   -4.03057411e-03  4.08238061e-02 -2.04496384e-02  2.84673832e-02\n",
      "    2.70420350e-02 -1.14445761e-03 -2.44254954e-02  3.81299891e-02\n",
      "    4.06486429e-02  4.85156290e-02  1.95273049e-02 -2.45189425e-02\n",
      "    1.68153159e-02  4.01127674e-02 -3.97792347e-02  2.82629244e-02\n",
      "    4.60497402e-02  4.33355235e-02 -4.82451208e-02  1.47349499e-02\n",
      "    3.46354358e-02 -3.01158782e-02 -3.52817401e-02  2.82408632e-02\n",
      "   -3.36403400e-02 -5.04652411e-03 -3.92472744e-03 -2.49250885e-02\n",
      "   -4.48486581e-02 -4.71124426e-02  7.16875866e-03 -2.98259389e-02\n",
      "    4.18985821e-02 -1.94646250e-02  3.60548384e-02 -4.22006249e-02\n",
      "    4.98698689e-02  1.27095319e-02  3.87581848e-02 -3.28489542e-02]\n",
      "  [ 1.61631368e-02  3.25942375e-02 -4.53571342e-02 -3.43054533e-02\n",
      "    2.55412571e-02  5.83925098e-03  2.34263577e-02 -1.14945769e-02\n",
      "   -1.64163113e-03 -1.60252824e-02  1.54888369e-02 -4.80707176e-02\n",
      "   -6.46156073e-03 -2.25493666e-02  2.53104605e-02  4.23591249e-02\n",
      "    2.42698528e-02 -3.98172848e-02 -3.98819521e-03  3.62883471e-02\n",
      "   -1.26097798e-02 -3.31563242e-02 -7.97120482e-03  2.73499824e-02\n",
      "    7.57109001e-03  3.65606584e-02 -7.98010826e-03 -6.53133541e-03\n",
      "   -1.95817482e-02 -3.24095711e-02  4.30790223e-02  3.87866534e-02\n",
      "    7.98260048e-03 -1.08978041e-02  3.55040766e-02 -4.47953343e-02\n",
      "   -8.40831548e-04 -3.86941209e-02 -1.42036304e-02 -4.14814353e-02\n",
      "   -3.18851098e-02 -3.25029641e-02 -4.87350300e-03 -2.82692201e-02\n",
      "    1.85819976e-02  3.27581428e-02 -7.67804682e-04 -3.28796878e-02\n",
      "    2.27582119e-02  2.19834112e-02 -3.73205915e-02  4.51227687e-02\n",
      "   -4.95159626e-03  3.19948457e-02  8.09710100e-03 -4.11809087e-02\n",
      "   -4.03590091e-02  4.37401868e-02 -8.16981867e-03  2.44109072e-02\n",
      "   -4.83801253e-02 -3.88047695e-02 -1.94650292e-02 -4.16812301e-02]\n",
      "  [-1.56669505e-02 -3.27477939e-02 -4.18766141e-02  2.76293494e-02\n",
      "   -3.00644170e-02 -1.47035606e-02 -1.83011517e-02  4.30492423e-02\n",
      "   -4.05155644e-02 -1.38956085e-02  1.77947991e-02  1.75484307e-02\n",
      "   -3.84437330e-02 -3.65100801e-04  3.06458510e-02 -2.24140175e-02\n",
      "    5.48841804e-03 -2.85686608e-02 -4.63794842e-02  1.86451189e-02\n",
      "    5.45345247e-04  1.42814629e-02 -3.68847959e-02  4.36838530e-02\n",
      "    3.14781331e-02  2.17862464e-02 -1.31002553e-02 -1.62224546e-02\n",
      "   -2.27612257e-02 -4.63865995e-02 -8.57219845e-03 -1.20249167e-02\n",
      "   -3.34752575e-02  4.13993262e-02  2.88105011e-03  8.29297304e-03\n",
      "   -1.16576552e-02 -2.68686768e-02 -4.62496653e-02  2.22959556e-02\n",
      "   -2.31674314e-02 -2.54201535e-02 -4.46222201e-02  4.92699035e-02\n",
      "    3.72181088e-03 -1.76118016e-02  4.48931381e-03 -1.99163314e-02\n",
      "    2.98340060e-02 -3.06842215e-02 -4.64991443e-02  2.53536589e-02\n",
      "    6.24308735e-03 -2.77251005e-03 -2.20218301e-02 -4.41481471e-02\n",
      "    4.09824289e-02 -1.53131969e-02 -1.07811317e-02 -4.43685167e-02\n",
      "   -8.91774893e-03 -2.49431264e-02  3.31911556e-02 -9.07958671e-03]\n",
      "  [-3.54241505e-02 -1.87803861e-02 -4.38928977e-02  1.02967732e-02\n",
      "    4.62984778e-02  3.53192948e-02 -8.30322504e-03 -1.49689615e-04\n",
      "   -3.16594392e-02 -3.42257172e-02 -1.55049190e-02 -2.49630809e-02\n",
      "   -2.40935218e-02 -3.57207432e-02  1.26225390e-02  4.81341146e-02\n",
      "    2.94726528e-02 -1.23733170e-02 -9.03032720e-04  4.76932637e-02\n",
      "    1.58786774e-03  5.88680431e-03  9.73243639e-03  3.04419920e-03\n",
      "   -1.07507929e-02  2.12531202e-02  3.74258198e-02 -3.78843397e-03\n",
      "   -3.76611240e-02 -1.95670854e-02  1.95058249e-02  3.09910290e-02\n",
      "   -1.61608458e-02  1.19632259e-02  2.27361359e-02 -4.97686155e-02\n",
      "    2.72911452e-02 -3.75405923e-02 -1.10243075e-02  2.76727937e-02\n",
      "    2.47263946e-02 -1.91474091e-02  3.06692608e-02 -4.33843620e-02\n",
      "    1.53984167e-02  7.71836191e-03  3.19630019e-02  1.53941028e-02\n",
      "   -1.14461072e-02 -4.54554223e-02 -4.74889874e-02 -4.01537307e-02\n",
      "   -4.11749966e-02  3.69861834e-02 -1.30051151e-02 -2.61533502e-02\n",
      "    2.98174061e-02  2.91979313e-03  2.47471221e-02  2.40341462e-02\n",
      "    4.80598249e-02 -3.09201963e-02  4.37644869e-03  2.18624510e-02]\n",
      "  [ 6.30817562e-03  2.80510262e-03 -3.07821874e-02 -2.06410773e-02\n",
      "   -2.63496526e-02  4.06835563e-02 -5.33793122e-03  4.35903557e-02\n",
      "    7.58352131e-03  2.79986858e-03 -3.20529714e-02  4.96168248e-02\n",
      "   -7.94167444e-03  1.89689659e-02  2.03384645e-02  1.98848732e-02\n",
      "   -3.61913666e-02  2.20804848e-02  7.87777826e-03 -4.78510857e-02\n",
      "   -4.02887911e-03  1.87603869e-02 -2.28594672e-02 -3.81844044e-02\n",
      "    3.34919356e-02  3.25070135e-02  4.30369265e-02  2.97065713e-02\n",
      "   -1.24508739e-02  1.18077174e-02  4.60975207e-02  2.39230692e-04\n",
      "   -2.20062584e-03  3.18383463e-02  1.69288777e-02 -2.95110941e-02\n",
      "   -2.64573339e-02 -3.67981680e-02  4.10472639e-02  4.95373644e-02\n",
      "   -1.63950436e-02  3.72761749e-02  4.15751375e-02  2.94261239e-02\n",
      "   -6.38173893e-03 -1.02819577e-02  3.59439291e-02 -2.00363249e-03\n",
      "   -2.46514436e-02 -1.27851740e-02  2.68738531e-02  8.39982182e-03\n",
      "   -7.29451329e-03 -2.34240182e-02  4.34535854e-02 -4.25384901e-02\n",
      "   -1.98597200e-02 -4.95499261e-02  3.34728397e-02  2.26266868e-02\n",
      "    4.89171483e-02 -1.67310461e-02 -4.36743610e-02 -1.43407807e-02]\n",
      "  [ 1.05455145e-02 -4.76012714e-02  8.20723921e-03  2.48294808e-02\n",
      "   -4.99671213e-02 -1.96593534e-02 -4.04772274e-02 -2.49254834e-02\n",
      "   -1.28050670e-02  4.77700718e-02 -4.63427566e-02  2.46558450e-02\n",
      "    1.12166777e-02 -3.35237868e-02 -9.81751829e-03  4.79904078e-02\n",
      "   -3.95196304e-02  3.18389423e-02  4.13891710e-02 -9.34056193e-03\n",
      "   -8.06938857e-04  4.22923081e-02 -4.37708497e-02 -3.36194411e-02\n",
      "   -8.05240870e-03  5.55206463e-03  1.20471492e-02  4.85992543e-02\n",
      "   -4.55856211e-02 -2.95681600e-02 -4.52923179e-02 -5.94238192e-03\n",
      "   -4.62698713e-02  2.07930841e-02 -4.72887419e-02  3.44250090e-02\n",
      "   -2.13294271e-02 -3.52762640e-04 -4.67200167e-02  4.71872799e-02\n",
      "   -4.30871956e-02 -4.78403568e-02 -4.23173085e-02 -1.15286820e-02\n",
      "   -2.07611173e-03 -1.74806006e-02  2.96902545e-02 -4.15904745e-02\n",
      "   -2.10433248e-02 -7.53176212e-03 -4.33725119e-02 -4.38543409e-03\n",
      "   -8.01812857e-04 -1.27813108e-02 -1.65822506e-02  4.66234796e-02\n",
      "    1.22115016e-02  1.15401857e-02 -1.51180997e-02  2.39653923e-02\n",
      "    4.43237908e-02  3.79712619e-02  2.42785551e-02  1.60109140e-02]\n",
      "  [ 4.53249551e-02 -3.56114618e-02 -1.19572058e-02 -3.55715640e-02\n",
      "    3.41146253e-02 -9.78566334e-03  6.63064420e-04 -9.43762064e-03\n",
      "    4.08922695e-02 -4.72675562e-02  3.61735858e-02 -2.69884709e-02\n",
      "    2.81567238e-02  2.58380882e-02  9.17137787e-03 -5.17145544e-03\n",
      "   -1.52690895e-02  3.89147140e-02  3.79776955e-03  3.02977301e-02\n",
      "    4.09675725e-02  4.78537343e-02  3.24959867e-02 -3.15926559e-02\n",
      "   -1.81088336e-02  3.13932039e-02  4.80510630e-02 -4.81740013e-02\n",
      "    3.05794589e-02 -3.59894522e-02  4.14107107e-02 -1.13949552e-02\n",
      "   -1.37964487e-02 -2.08798293e-02  4.96118106e-02  3.33280303e-02\n",
      "    2.42312439e-02  7.76643679e-03  2.73255594e-02 -4.14107814e-02\n",
      "   -6.76244497e-03  4.76825237e-03 -3.11327334e-02 -4.60531712e-02\n",
      "   -1.39479749e-02 -3.38865295e-02  3.15664522e-02  3.45029570e-02\n",
      "    2.82665752e-02  4.40211557e-02 -4.65074666e-02  2.20798329e-03\n",
      "    8.24675709e-03  3.07602771e-02 -6.74334913e-03  2.56806128e-02\n",
      "    4.66507562e-02  1.54640526e-03 -1.82067640e-02 -4.00045738e-02\n",
      "   -3.57278101e-02  1.77041329e-02  1.44332387e-02 -2.66185999e-02]\n",
      "  [ 4.53249551e-02 -3.56114618e-02 -1.19572058e-02 -3.55715640e-02\n",
      "    3.41146253e-02 -9.78566334e-03  6.63064420e-04 -9.43762064e-03\n",
      "    4.08922695e-02 -4.72675562e-02  3.61735858e-02 -2.69884709e-02\n",
      "    2.81567238e-02  2.58380882e-02  9.17137787e-03 -5.17145544e-03\n",
      "   -1.52690895e-02  3.89147140e-02  3.79776955e-03  3.02977301e-02\n",
      "    4.09675725e-02  4.78537343e-02  3.24959867e-02 -3.15926559e-02\n",
      "   -1.81088336e-02  3.13932039e-02  4.80510630e-02 -4.81740013e-02\n",
      "    3.05794589e-02 -3.59894522e-02  4.14107107e-02 -1.13949552e-02\n",
      "   -1.37964487e-02 -2.08798293e-02  4.96118106e-02  3.33280303e-02\n",
      "    2.42312439e-02  7.76643679e-03  2.73255594e-02 -4.14107814e-02\n",
      "   -6.76244497e-03  4.76825237e-03 -3.11327334e-02 -4.60531712e-02\n",
      "   -1.39479749e-02 -3.38865295e-02  3.15664522e-02  3.45029570e-02\n",
      "    2.82665752e-02  4.40211557e-02 -4.65074666e-02  2.20798329e-03\n",
      "    8.24675709e-03  3.07602771e-02 -6.74334913e-03  2.56806128e-02\n",
      "    4.66507562e-02  1.54640526e-03 -1.82067640e-02 -4.00045738e-02\n",
      "   -3.57278101e-02  1.77041329e-02  1.44332387e-02 -2.66185999e-02]\n",
      "  [ 4.53249551e-02 -3.56114618e-02 -1.19572058e-02 -3.55715640e-02\n",
      "    3.41146253e-02 -9.78566334e-03  6.63064420e-04 -9.43762064e-03\n",
      "    4.08922695e-02 -4.72675562e-02  3.61735858e-02 -2.69884709e-02\n",
      "    2.81567238e-02  2.58380882e-02  9.17137787e-03 -5.17145544e-03\n",
      "   -1.52690895e-02  3.89147140e-02  3.79776955e-03  3.02977301e-02\n",
      "    4.09675725e-02  4.78537343e-02  3.24959867e-02 -3.15926559e-02\n",
      "   -1.81088336e-02  3.13932039e-02  4.80510630e-02 -4.81740013e-02\n",
      "    3.05794589e-02 -3.59894522e-02  4.14107107e-02 -1.13949552e-02\n",
      "   -1.37964487e-02 -2.08798293e-02  4.96118106e-02  3.33280303e-02\n",
      "    2.42312439e-02  7.76643679e-03  2.73255594e-02 -4.14107814e-02\n",
      "   -6.76244497e-03  4.76825237e-03 -3.11327334e-02 -4.60531712e-02\n",
      "   -1.39479749e-02 -3.38865295e-02  3.15664522e-02  3.45029570e-02\n",
      "    2.82665752e-02  4.40211557e-02 -4.65074666e-02  2.20798329e-03\n",
      "    8.24675709e-03  3.07602771e-02 -6.74334913e-03  2.56806128e-02\n",
      "    4.66507562e-02  1.54640526e-03 -1.82067640e-02 -4.00045738e-02\n",
      "   -3.57278101e-02  1.77041329e-02  1.44332387e-02 -2.66185999e-02]\n",
      "  [ 4.53249551e-02 -3.56114618e-02 -1.19572058e-02 -3.55715640e-02\n",
      "    3.41146253e-02 -9.78566334e-03  6.63064420e-04 -9.43762064e-03\n",
      "    4.08922695e-02 -4.72675562e-02  3.61735858e-02 -2.69884709e-02\n",
      "    2.81567238e-02  2.58380882e-02  9.17137787e-03 -5.17145544e-03\n",
      "   -1.52690895e-02  3.89147140e-02  3.79776955e-03  3.02977301e-02\n",
      "    4.09675725e-02  4.78537343e-02  3.24959867e-02 -3.15926559e-02\n",
      "   -1.81088336e-02  3.13932039e-02  4.80510630e-02 -4.81740013e-02\n",
      "    3.05794589e-02 -3.59894522e-02  4.14107107e-02 -1.13949552e-02\n",
      "   -1.37964487e-02 -2.08798293e-02  4.96118106e-02  3.33280303e-02\n",
      "    2.42312439e-02  7.76643679e-03  2.73255594e-02 -4.14107814e-02\n",
      "   -6.76244497e-03  4.76825237e-03 -3.11327334e-02 -4.60531712e-02\n",
      "   -1.39479749e-02 -3.38865295e-02  3.15664522e-02  3.45029570e-02\n",
      "    2.82665752e-02  4.40211557e-02 -4.65074666e-02  2.20798329e-03\n",
      "    8.24675709e-03  3.07602771e-02 -6.74334913e-03  2.56806128e-02\n",
      "    4.66507562e-02  1.54640526e-03 -1.82067640e-02 -4.00045738e-02\n",
      "   -3.57278101e-02  1.77041329e-02  1.44332387e-02 -2.66185999e-02]\n",
      "  [ 4.53249551e-02 -3.56114618e-02 -1.19572058e-02 -3.55715640e-02\n",
      "    3.41146253e-02 -9.78566334e-03  6.63064420e-04 -9.43762064e-03\n",
      "    4.08922695e-02 -4.72675562e-02  3.61735858e-02 -2.69884709e-02\n",
      "    2.81567238e-02  2.58380882e-02  9.17137787e-03 -5.17145544e-03\n",
      "   -1.52690895e-02  3.89147140e-02  3.79776955e-03  3.02977301e-02\n",
      "    4.09675725e-02  4.78537343e-02  3.24959867e-02 -3.15926559e-02\n",
      "   -1.81088336e-02  3.13932039e-02  4.80510630e-02 -4.81740013e-02\n",
      "    3.05794589e-02 -3.59894522e-02  4.14107107e-02 -1.13949552e-02\n",
      "   -1.37964487e-02 -2.08798293e-02  4.96118106e-02  3.33280303e-02\n",
      "    2.42312439e-02  7.76643679e-03  2.73255594e-02 -4.14107814e-02\n",
      "   -6.76244497e-03  4.76825237e-03 -3.11327334e-02 -4.60531712e-02\n",
      "   -1.39479749e-02 -3.38865295e-02  3.15664522e-02  3.45029570e-02\n",
      "    2.82665752e-02  4.40211557e-02 -4.65074666e-02  2.20798329e-03\n",
      "    8.24675709e-03  3.07602771e-02 -6.74334913e-03  2.56806128e-02\n",
      "    4.66507562e-02  1.54640526e-03 -1.82067640e-02 -4.00045738e-02\n",
      "   -3.57278101e-02  1.77041329e-02  1.44332387e-02 -2.66185999e-02]\n",
      "  [ 4.53249551e-02 -3.56114618e-02 -1.19572058e-02 -3.55715640e-02\n",
      "    3.41146253e-02 -9.78566334e-03  6.63064420e-04 -9.43762064e-03\n",
      "    4.08922695e-02 -4.72675562e-02  3.61735858e-02 -2.69884709e-02\n",
      "    2.81567238e-02  2.58380882e-02  9.17137787e-03 -5.17145544e-03\n",
      "   -1.52690895e-02  3.89147140e-02  3.79776955e-03  3.02977301e-02\n",
      "    4.09675725e-02  4.78537343e-02  3.24959867e-02 -3.15926559e-02\n",
      "   -1.81088336e-02  3.13932039e-02  4.80510630e-02 -4.81740013e-02\n",
      "    3.05794589e-02 -3.59894522e-02  4.14107107e-02 -1.13949552e-02\n",
      "   -1.37964487e-02 -2.08798293e-02  4.96118106e-02  3.33280303e-02\n",
      "    2.42312439e-02  7.76643679e-03  2.73255594e-02 -4.14107814e-02\n",
      "   -6.76244497e-03  4.76825237e-03 -3.11327334e-02 -4.60531712e-02\n",
      "   -1.39479749e-02 -3.38865295e-02  3.15664522e-02  3.45029570e-02\n",
      "    2.82665752e-02  4.40211557e-02 -4.65074666e-02  2.20798329e-03\n",
      "    8.24675709e-03  3.07602771e-02 -6.74334913e-03  2.56806128e-02\n",
      "    4.66507562e-02  1.54640526e-03 -1.82067640e-02 -4.00045738e-02\n",
      "   -3.57278101e-02  1.77041329e-02  1.44332387e-02 -2.66185999e-02]\n",
      "  [ 4.53249551e-02 -3.56114618e-02 -1.19572058e-02 -3.55715640e-02\n",
      "    3.41146253e-02 -9.78566334e-03  6.63064420e-04 -9.43762064e-03\n",
      "    4.08922695e-02 -4.72675562e-02  3.61735858e-02 -2.69884709e-02\n",
      "    2.81567238e-02  2.58380882e-02  9.17137787e-03 -5.17145544e-03\n",
      "   -1.52690895e-02  3.89147140e-02  3.79776955e-03  3.02977301e-02\n",
      "    4.09675725e-02  4.78537343e-02  3.24959867e-02 -3.15926559e-02\n",
      "   -1.81088336e-02  3.13932039e-02  4.80510630e-02 -4.81740013e-02\n",
      "    3.05794589e-02 -3.59894522e-02  4.14107107e-02 -1.13949552e-02\n",
      "   -1.37964487e-02 -2.08798293e-02  4.96118106e-02  3.33280303e-02\n",
      "    2.42312439e-02  7.76643679e-03  2.73255594e-02 -4.14107814e-02\n",
      "   -6.76244497e-03  4.76825237e-03 -3.11327334e-02 -4.60531712e-02\n",
      "   -1.39479749e-02 -3.38865295e-02  3.15664522e-02  3.45029570e-02\n",
      "    2.82665752e-02  4.40211557e-02 -4.65074666e-02  2.20798329e-03\n",
      "    8.24675709e-03  3.07602771e-02 -6.74334913e-03  2.56806128e-02\n",
      "    4.66507562e-02  1.54640526e-03 -1.82067640e-02 -4.00045738e-02\n",
      "   -3.57278101e-02  1.77041329e-02  1.44332387e-02 -2.66185999e-02]\n",
      "  [ 4.53249551e-02 -3.56114618e-02 -1.19572058e-02 -3.55715640e-02\n",
      "    3.41146253e-02 -9.78566334e-03  6.63064420e-04 -9.43762064e-03\n",
      "    4.08922695e-02 -4.72675562e-02  3.61735858e-02 -2.69884709e-02\n",
      "    2.81567238e-02  2.58380882e-02  9.17137787e-03 -5.17145544e-03\n",
      "   -1.52690895e-02  3.89147140e-02  3.79776955e-03  3.02977301e-02\n",
      "    4.09675725e-02  4.78537343e-02  3.24959867e-02 -3.15926559e-02\n",
      "   -1.81088336e-02  3.13932039e-02  4.80510630e-02 -4.81740013e-02\n",
      "    3.05794589e-02 -3.59894522e-02  4.14107107e-02 -1.13949552e-02\n",
      "   -1.37964487e-02 -2.08798293e-02  4.96118106e-02  3.33280303e-02\n",
      "    2.42312439e-02  7.76643679e-03  2.73255594e-02 -4.14107814e-02\n",
      "   -6.76244497e-03  4.76825237e-03 -3.11327334e-02 -4.60531712e-02\n",
      "   -1.39479749e-02 -3.38865295e-02  3.15664522e-02  3.45029570e-02\n",
      "    2.82665752e-02  4.40211557e-02 -4.65074666e-02  2.20798329e-03\n",
      "    8.24675709e-03  3.07602771e-02 -6.74334913e-03  2.56806128e-02\n",
      "    4.66507562e-02  1.54640526e-03 -1.82067640e-02 -4.00045738e-02\n",
      "   -3.57278101e-02  1.77041329e-02  1.44332387e-02 -2.66185999e-02]]]\n",
      "Embedded text shape: (1, 15, 64)\n"
     ]
    }
   ],
   "source": [
    "from tensorflow.keras import layers\n",
    "\n",
    "embedding = layers.Embedding(input_dim = max_vocab_length,\n",
    "                             output_dim = 64,\n",
    "                             embeddings_initializer = \"uniform\",\n",
    "                             input_length = max_length)"
   ],
   "metadata": {
    "collapsed": false,
    "ExecuteTime": {
     "end_time": "2023-07-30T14:49:17.752172300Z",
     "start_time": "2023-07-30T14:49:17.710919200Z"
    }
   },
   "id": "55b4d3e382cb85d7"
  },
  {
   "cell_type": "code",
   "execution_count": 29,
   "outputs": [
    {
     "name": "stdout",
     "output_type": "stream",
     "text": [
      "Original text: THE NATIONAL WEATHER SERVICE IN LITTLE ROCK HAS ISSUED A * SEVERE THUNDERSTORM WARNING FOR... VAN BUREN COUNTY IN Û_ http://t.co/KJsvW06GBV\n",
      "\n",
      "Vectorized text: [[   2  433  242  319    4  245  979   40  897    3  250  271  269   10\n",
      "  1934]]\n",
      "\n",
      "Vectorized text shape: (1, 15)\n",
      "Embbedded text: [[[-3.02148946e-02  4.40153964e-02  1.71712376e-02 -3.49548832e-02\n",
      "    2.89961956e-02 -3.67722027e-02  1.05644949e-02  2.94112600e-02\n",
      "    5.02588600e-03  2.70172469e-02 -1.46191008e-02 -2.74715908e-02\n",
      "   -8.73107836e-03  4.29104641e-03  4.27779295e-02 -2.58139372e-02\n",
      "   -1.73365474e-02  4.93229739e-02  3.45834978e-02 -2.74662375e-02\n",
      "   -4.56687696e-02  4.91838790e-02  4.43506353e-02 -3.70482318e-02\n",
      "   -3.71547565e-02 -1.31838098e-02  2.34005339e-02  9.27425921e-04\n",
      "   -3.86318676e-02 -1.24239326e-02  1.31485127e-02  2.25189440e-02\n",
      "   -4.91767190e-02 -4.40330505e-02  9.02072340e-03 -4.54564467e-02\n",
      "    1.14731863e-03 -3.22664604e-02  9.95707512e-03  1.26960017e-02\n",
      "   -2.31000427e-02  4.52465527e-02  4.39678542e-02 -2.84765847e-02\n",
      "   -4.31808718e-02  3.12753953e-02  1.04332566e-02  2.28920616e-02\n",
      "   -6.01907820e-03  3.45576294e-02 -5.86172193e-03  4.26002592e-03\n",
      "    1.77326091e-02  1.21224746e-02 -1.47531256e-02 -4.84273918e-02\n",
      "    2.55569108e-02  4.64042909e-02  3.37118171e-02  2.22190283e-02\n",
      "   -9.09008831e-03 -3.12367082e-02 -3.39304097e-02 -1.79297328e-02]\n",
      "  [-2.35235691e-03 -2.98475027e-02  3.22846659e-02 -2.34551560e-02\n",
      "   -3.45448367e-02  1.92944892e-02  2.92323120e-02 -1.04129314e-03\n",
      "   -3.22336443e-02  2.75301933e-03  3.67008522e-03  3.85256670e-02\n",
      "   -3.90588529e-02 -3.23881060e-02 -3.39883789e-02  4.58790325e-02\n",
      "    1.64037086e-02  4.28285860e-02  3.82336043e-02 -1.63521543e-02\n",
      "    2.05653943e-02  1.16058476e-02 -3.49065289e-02 -9.30048525e-04\n",
      "   -4.88032103e-02 -3.76977772e-03  4.13728878e-03 -4.21005972e-02\n",
      "    3.72991450e-02  4.12125513e-03 -4.75574844e-02  4.33224477e-02\n",
      "    3.88016142e-02 -3.92008796e-02  3.55229266e-02 -5.22593409e-03\n",
      "    3.71343158e-02  2.55652405e-02  1.39431469e-02  4.25806083e-02\n",
      "    1.88307278e-02 -1.86564699e-02 -9.11425799e-04 -2.45364066e-02\n",
      "   -1.26409903e-02  4.31164540e-02 -2.74395701e-02  1.37680769e-03\n",
      "    1.56037472e-02 -4.45157290e-03  3.33063640e-02  6.96927309e-03\n",
      "    3.53743173e-02 -4.02794592e-02 -3.98965590e-02  1.39937550e-03\n",
      "   -3.07411086e-02 -3.52046266e-02  4.39143069e-02  4.68763970e-02\n",
      "    4.73902561e-02 -3.77269834e-03  5.00654057e-03 -2.57888567e-02]\n",
      "  [ 2.65961625e-02 -6.41769171e-03  1.99480765e-02  1.68912522e-02\n",
      "   -4.48284745e-02  1.59980915e-02 -1.03953704e-02  4.21635173e-02\n",
      "    9.51347500e-03  4.46410105e-03  3.53366137e-03 -3.29346880e-02\n",
      "    4.07269634e-02  2.82595493e-02 -1.00518242e-02  2.90951394e-02\n",
      "   -1.02617368e-02 -5.77079132e-03  1.17131695e-02  2.98375376e-02\n",
      "   -1.02608688e-02 -4.18756977e-02 -3.30451131e-02 -4.19589654e-02\n",
      "   -1.29478686e-02  1.75453536e-02 -2.49900464e-02 -1.36217587e-02\n",
      "   -3.10124643e-02  1.95478834e-02  1.48948282e-03  1.19394436e-02\n",
      "   -1.38454214e-02  1.66872032e-02 -1.50796175e-02 -8.79846886e-03\n",
      "   -3.53283063e-02  3.89211215e-02 -3.64573970e-02  7.28833675e-03\n",
      "    2.02113129e-02  1.30027793e-02  3.60533260e-02  3.28302123e-02\n",
      "   -1.94727667e-02 -4.98890877e-05  4.42212820e-03  4.61771227e-02\n",
      "   -2.12705974e-02 -4.79175113e-02 -2.78696548e-02 -1.72688961e-02\n",
      "    8.31694528e-03  2.84893438e-03 -4.51552272e-02  1.06417052e-02\n",
      "    4.15984504e-02  2.91487239e-02  4.90782000e-02  1.58520602e-02\n",
      "    4.17693742e-02  3.60738672e-02  3.86404060e-02 -4.74392287e-02]\n",
      "  [-2.70623695e-02  8.16405937e-03  1.42161883e-02  1.59726180e-02\n",
      "    2.41925567e-03 -2.42199432e-02 -2.47507580e-02  2.97229178e-02\n",
      "    4.28693406e-02 -7.91165978e-03  7.45756552e-03  4.27526496e-02\n",
      "    3.43970917e-02  3.62686180e-02 -3.75409052e-03  1.01019032e-02\n",
      "   -3.69071141e-02  4.24247496e-02  1.79373100e-03 -3.53699811e-02\n",
      "    3.79832052e-02  1.52277686e-02  3.54038812e-02  4.94880415e-02\n",
      "   -4.38645594e-02 -2.07690131e-02  4.62473370e-02 -8.48435238e-03\n",
      "   -1.49793513e-02 -3.20886150e-02 -3.11669242e-02  1.96679123e-02\n",
      "   -2.14655399e-02 -3.38014513e-02 -2.73857266e-03 -1.13393180e-02\n",
      "   -1.05134249e-02  8.36015865e-03  1.44234933e-02  3.36958505e-02\n",
      "   -4.22200449e-02  4.42614295e-02 -2.39726305e-02 -2.85004135e-02\n",
      "   -3.33567485e-02 -2.07306035e-02 -2.42989194e-02 -5.58873266e-03\n",
      "    1.90767907e-02 -1.89240463e-02  4.24403213e-02  2.09946744e-02\n",
      "    1.33621730e-02  4.25463915e-03  1.45079531e-02  2.31937282e-02\n",
      "    3.78498919e-02 -4.68860939e-03  4.89085056e-02 -1.28049627e-02\n",
      "   -3.77589688e-02  2.55038477e-02 -4.85827215e-02  2.41078846e-02]\n",
      "  [-2.85290834e-02 -3.25903893e-02  1.42400898e-02 -1.81971677e-02\n",
      "    4.00539897e-02  3.71496193e-02  3.44503783e-02  3.57286967e-02\n",
      "    2.55723037e-02  1.62269734e-02  3.00143026e-02  2.24513747e-02\n",
      "   -2.33320836e-02 -1.34964213e-02 -2.42393371e-02 -3.22968736e-02\n",
      "    1.73854344e-02  2.72077322e-03 -4.19958718e-02 -2.38393545e-02\n",
      "   -3.09701208e-02 -3.65876034e-03 -3.60959172e-02  4.47540358e-03\n",
      "    3.27771790e-02 -5.91505691e-03 -4.07985821e-02  3.35186832e-02\n",
      "    4.84815985e-03  4.51629646e-02  2.67790668e-02 -1.86716691e-02\n",
      "    3.70456465e-02 -1.40668042e-02  1.20059624e-02 -4.18295972e-02\n",
      "   -4.43423875e-02  2.13731788e-02  3.38301323e-02  2.43016966e-02\n",
      "    4.32517380e-03  3.31276767e-02 -1.99292973e-03 -3.57122049e-02\n",
      "    2.19837166e-02  3.10146846e-02  2.02292092e-02  4.79711220e-03\n",
      "   -1.17271431e-02 -3.98094170e-02  3.09206955e-02 -3.09123751e-02\n",
      "    4.18396927e-02  3.52466740e-02 -6.98063523e-03 -3.14078107e-02\n",
      "    3.46645974e-02  2.83366442e-03  2.39411928e-02 -4.80818264e-02\n",
      "   -3.52585316e-02  2.05344595e-02 -2.79468782e-02 -4.28362936e-03]\n",
      "  [-2.34692935e-02 -4.32164185e-02 -2.26886272e-02  1.52639262e-02\n",
      "    8.70950148e-03  4.35456522e-02  4.08824794e-02 -1.06016509e-02\n",
      "    5.83105162e-03  8.41661543e-03  3.64885963e-02 -4.35414203e-02\n",
      "   -5.24208695e-03  1.23021379e-02  9.06271860e-03 -4.63394187e-02\n",
      "    4.58344258e-02  3.92054059e-02  2.07126848e-02  2.27321275e-02\n",
      "   -3.79361287e-02 -2.72937771e-02 -4.60779779e-02 -2.44519711e-02\n",
      "    3.67711075e-02 -2.02655196e-02  3.47231887e-02 -4.65248227e-02\n",
      "    1.91349424e-02 -3.32352892e-02 -4.95446585e-02  4.48456146e-02\n",
      "   -1.39625892e-02 -3.82836461e-02  6.48578256e-03 -1.67492032e-02\n",
      "    1.75068118e-02  3.91555466e-02 -2.92045958e-02 -2.79144645e-02\n",
      "   -2.42251996e-02 -4.51113693e-02  3.37413438e-02 -9.44911316e-03\n",
      "    1.70641281e-02 -4.41135764e-02  4.71914895e-02  1.57165863e-02\n",
      "    1.70244686e-02 -2.16381084e-02 -5.13913482e-03  4.99020480e-02\n",
      "   -4.75579761e-02  1.40122063e-02  3.03685181e-02  1.77639723e-03\n",
      "   -3.79090086e-02 -2.38563772e-02  2.20578648e-02  3.74962948e-02\n",
      "   -3.26137431e-02  1.12943053e-02 -4.82870601e-02  2.18823589e-02]\n",
      "  [ 2.44534351e-02  1.53355673e-03 -3.31889614e-02 -2.80421618e-02\n",
      "    2.72459649e-02 -4.96655218e-02 -4.64307666e-02  3.30613740e-02\n",
      "   -1.23946890e-02 -1.72477365e-02  2.80138291e-02 -1.73525214e-02\n",
      "    4.44633849e-02  4.80888821e-02  4.13386561e-02 -2.03103311e-02\n",
      "    4.23030593e-02 -1.67575851e-02  6.32963330e-03 -5.47361374e-03\n",
      "    1.90994628e-02 -6.59241527e-03  2.18103565e-02  1.10095367e-02\n",
      "   -4.65197228e-02  4.10911106e-02  3.76506783e-02 -3.11778542e-02\n",
      "    1.42015480e-02  4.32481281e-02  1.48395561e-02 -4.83783334e-03\n",
      "   -3.79849300e-02 -1.27623230e-03 -8.19718838e-03  4.73935120e-02\n",
      "    2.81622894e-02  5.93304634e-04 -4.60845940e-02 -2.11267825e-02\n",
      "    2.01332457e-02 -1.25435814e-02  2.03846768e-03 -2.49071475e-02\n",
      "    1.14129074e-02 -4.77223992e-02 -3.16602588e-02 -2.70410664e-02\n",
      "    2.25514174e-03  2.02660672e-02  2.87228115e-02 -2.76198387e-02\n",
      "   -5.41247427e-04 -2.02276558e-03  4.48934697e-02 -2.77191754e-02\n",
      "    2.97328718e-02 -4.13004644e-02  7.88457319e-03  3.11884917e-02\n",
      "    3.80079262e-02 -1.86715499e-02 -3.49609964e-02  3.31525467e-02]\n",
      "  [-4.08957228e-02 -4.35357690e-02  4.96098138e-02 -4.00479883e-03\n",
      "    2.97671221e-02 -2.85446998e-02 -7.93004036e-03 -9.89608839e-03\n",
      "   -1.89531092e-02  2.91408226e-03  2.19121911e-02  1.30876191e-02\n",
      "    4.02395464e-02 -4.59416285e-02  4.01040427e-02 -1.76920295e-02\n",
      "    4.61985506e-02 -3.75415012e-03 -7.44258240e-03  4.37368266e-02\n",
      "    3.14454325e-02  9.59463045e-03 -1.13095529e-02 -3.29546928e-02\n",
      "   -1.75461173e-02 -1.37968548e-02 -1.32047646e-02  4.36813571e-02\n",
      "   -1.35444887e-02  3.80607881e-02 -1.60755515e-02 -1.33981928e-02\n",
      "    1.58951432e-03 -2.86151171e-02  3.57785113e-02  4.45824526e-02\n",
      "    4.86635081e-02  2.52942927e-02 -2.75070798e-02 -4.03657928e-02\n",
      "    4.84346263e-02  1.16657391e-02 -3.44540104e-02 -1.31739266e-02\n",
      "   -2.92161703e-02 -1.08637922e-02 -4.81276996e-02  2.77119018e-02\n",
      "    4.47513200e-02 -1.02342851e-02  1.33453943e-02 -2.66412385e-02\n",
      "   -1.95857529e-02  9.56545025e-03 -4.22738567e-02 -1.69440135e-02\n",
      "    2.29159035e-02  1.67794563e-02 -3.33851799e-02  2.71059386e-02\n",
      "    6.22646883e-03  3.44690345e-02 -4.30035368e-02  4.40703668e-02]\n",
      "  [ 2.57689245e-02  7.53028318e-03 -8.12055916e-03 -4.86686490e-02\n",
      "    1.93433426e-02  1.49270184e-02 -4.58855405e-02  1.36474036e-02\n",
      "    2.90449746e-02 -1.94504745e-02  8.49970430e-03  4.96281870e-02\n",
      "   -4.44813482e-02 -1.25799663e-02 -4.53836322e-02  1.76913850e-02\n",
      "   -4.61447723e-02 -8.77579302e-03 -2.28680372e-02  1.30956881e-02\n",
      "   -2.16915607e-02  3.91166545e-02 -7.55451992e-03 -1.44311674e-02\n",
      "    1.16197579e-02  3.03060748e-02 -6.54845312e-03  4.39193957e-02\n",
      "    7.26424530e-03 -4.29239981e-02  2.63705105e-03 -4.97258417e-02\n",
      "   -8.75933096e-03 -4.52876799e-02  3.99794467e-02  3.35082673e-02\n",
      "    4.16161530e-02  2.99204700e-02 -3.61586213e-02 -3.96734476e-03\n",
      "   -4.11238447e-02 -1.72513500e-02 -4.39861901e-02 -4.36097644e-02\n",
      "    1.88387968e-02 -2.01792959e-02 -2.25895997e-02  1.87607743e-02\n",
      "   -9.86469910e-03  3.50463428e-02  3.67443301e-02  2.13254802e-02\n",
      "    2.19557025e-02  3.52147333e-02  1.10061169e-02  2.20835693e-02\n",
      "    2.61031874e-02 -1.83542483e-02  1.27926506e-02  1.11434571e-02\n",
      "    2.26387866e-02 -1.94921624e-02 -2.28895079e-02  3.88542749e-02]\n",
      "  [ 1.28186680e-02 -3.20275202e-02  3.01285647e-02  6.53494149e-04\n",
      "    4.08485867e-02 -2.22181808e-02  3.46043967e-02 -2.44781859e-02\n",
      "   -1.15600452e-02  2.22632177e-02 -1.09941252e-02 -2.78634429e-02\n",
      "    9.48439911e-03  1.39212124e-02  2.74320692e-03 -2.32734215e-02\n",
      "    3.10935639e-02 -6.47122785e-03  4.73714583e-02 -3.75095233e-02\n",
      "   -3.58741060e-02  1.39110126e-02 -2.98992153e-02 -9.69614834e-03\n",
      "    2.31228583e-02  2.44888775e-02 -1.69382803e-02 -8.89066607e-03\n",
      "   -1.47621036e-02 -2.28627808e-02  2.12698616e-02  8.03408772e-03\n",
      "   -9.88072157e-03 -4.21484224e-02  2.39299573e-02  1.94189437e-02\n",
      "    2.98784263e-02  4.81747426e-02 -4.62322719e-02 -6.69527054e-03\n",
      "    3.67722660e-03 -4.62149270e-02 -2.00159680e-02 -1.29794590e-02\n",
      "    6.68454170e-03 -6.51445240e-03  4.32154052e-02 -2.93434151e-02\n",
      "    2.43433826e-02  1.63681023e-02  3.20741795e-02 -9.79634374e-03\n",
      "   -4.41906936e-02  1.33164562e-02  4.38251980e-02  1.14595070e-02\n",
      "    2.41779424e-02 -3.59046459e-03 -9.02342796e-03  1.70126893e-02\n",
      "   -3.07904128e-02  2.16309689e-02  2.69181617e-02 -3.26863416e-02]\n",
      "  [ 6.73679262e-03  4.57087196e-02 -3.89130712e-02 -3.37628871e-02\n",
      "    2.30076350e-02 -7.89760426e-03  2.98860706e-02 -2.40094792e-02\n",
      "   -4.74816337e-02  2.69693993e-02  1.95356496e-02 -7.34528154e-03\n",
      "    7.78732449e-03 -3.11145429e-02  6.07939810e-03 -4.46741246e-02\n",
      "    4.92957495e-02 -4.31371816e-02  4.98247780e-02  1.54012181e-02\n",
      "   -4.28777821e-02 -1.49307027e-02 -3.06861531e-02 -1.46916397e-02\n",
      "    3.62185948e-02 -2.34142672e-02  2.10856535e-02  2.23770775e-02\n",
      "    2.56436579e-02  3.93643714e-02 -4.34119627e-03  4.60676588e-02\n",
      "   -3.76683474e-03  3.18473019e-02 -1.58599503e-02  3.19828056e-02\n",
      "   -1.28578432e-02 -2.35881098e-02  2.70611383e-02 -1.27135590e-03\n",
      "    1.28461160e-02 -1.90770626e-02  4.90753725e-03 -2.82075051e-02\n",
      "   -2.40782853e-02  4.54168208e-02  4.18710224e-02  1.22432224e-02\n",
      "   -3.80178541e-03 -4.72195521e-02  1.84798129e-02 -1.35180131e-02\n",
      "    7.00939447e-04  1.50532611e-02 -7.52514601e-03 -1.23888738e-02\n",
      "    1.73001774e-02 -1.65632591e-02  1.55115388e-02 -2.84775347e-03\n",
      "    3.77872325e-02 -3.65992077e-02  9.03723389e-03  1.47910602e-02]\n",
      "  [ 3.87496613e-02 -2.64049657e-02 -2.23036297e-02  2.17408799e-02\n",
      "    3.74243371e-02 -2.41242182e-02 -7.82678276e-03  1.06404796e-02\n",
      "    4.07248251e-02  4.94990610e-02 -9.75251198e-04  4.91242744e-02\n",
      "   -2.51337048e-02 -1.12727396e-02 -1.97741389e-02 -7.98411295e-03\n",
      "    3.69713940e-02 -2.76187062e-02 -2.24234592e-02 -3.18305492e-02\n",
      "    2.95661390e-04 -3.00892591e-02 -5.43724373e-03 -1.57180056e-02\n",
      "    1.67509355e-02 -3.02841309e-02 -4.32556272e-02  3.18422355e-02\n",
      "   -2.13299748e-02  3.00827064e-02  6.37485832e-03  3.48551609e-02\n",
      "    2.13159956e-02 -4.55099605e-02 -3.57434861e-02  4.34917919e-02\n",
      "    2.15526558e-02  8.28605890e-03  2.80932337e-03  3.35515477e-02\n",
      "   -8.53097439e-03 -6.67886809e-03  2.25834884e-02 -5.76317310e-04\n",
      "    2.76176967e-02  1.79964043e-02  3.59533913e-02  2.97483839e-02\n",
      "   -6.52631372e-03  2.10949816e-02 -4.12420854e-02  1.60451867e-02\n",
      "    6.78544119e-03 -2.60593053e-02 -1.34692080e-02  3.99555229e-02\n",
      "   -4.04221639e-02  3.58665474e-02 -3.65774706e-03  3.24674509e-02\n",
      "   -4.60740700e-02  3.61924805e-02  1.72647946e-02  1.34045221e-02]\n",
      "  [ 4.77343313e-02  3.01861800e-02 -6.03221357e-04 -2.34824419e-02\n",
      "    1.67913325e-02  1.63948648e-02  1.61919631e-02  1.54200457e-02\n",
      "    3.61526720e-02  3.92938890e-02  4.29897793e-02  4.98495959e-02\n",
      "    1.10139959e-02  3.92084830e-02  2.64036655e-03  2.22927332e-03\n",
      "   -5.66240400e-03  1.12478621e-02  1.33764483e-02 -3.68142836e-02\n",
      "   -1.14705414e-03  2.99570821e-02 -1.92550421e-02 -7.02381134e-04\n",
      "    3.72145511e-02 -1.15864389e-02 -4.65645082e-02  4.62559722e-02\n",
      "    1.33735649e-02 -2.39094347e-03 -2.47954372e-02 -4.56506610e-02\n",
      "   -3.45177650e-02  3.50942463e-03 -7.68971443e-03  4.96991724e-03\n",
      "    3.71857397e-02  3.05411331e-02 -3.51875052e-02 -1.44638866e-03\n",
      "   -1.63181797e-02 -3.80165689e-02  3.83151695e-03 -2.38156915e-02\n",
      "    4.33723070e-02 -4.45402749e-02 -7.23280758e-03  4.11803983e-02\n",
      "    2.27963440e-02  9.89808887e-03 -3.07312142e-02 -4.02377956e-02\n",
      "    1.92147829e-02 -2.59865653e-02 -4.55291755e-02  2.02075876e-02\n",
      "   -2.11693179e-02 -4.57404032e-02  1.72790326e-02 -4.08818722e-02\n",
      "    4.54800464e-02  3.74445058e-02  1.92731358e-02  3.91934775e-02]\n",
      "  [-4.95822318e-02 -1.34967268e-04 -1.17064640e-03 -2.20244005e-03\n",
      "   -4.42416072e-02 -1.30467527e-02  2.66781785e-02  3.85049023e-02\n",
      "   -4.53006998e-02 -1.13131627e-02 -3.20547447e-02 -1.87445991e-02\n",
      "   -4.99418862e-02 -6.84658438e-03  4.90878336e-02  6.60896301e-03\n",
      "    4.12980206e-02  1.32280327e-02 -1.92236155e-04 -2.19677221e-02\n",
      "    3.24841775e-02 -4.24430147e-02  4.73812111e-02  6.43873215e-03\n",
      "   -1.16396658e-02  3.00452150e-02  4.65943664e-03 -4.28685211e-02\n",
      "   -7.33938068e-03 -2.45922450e-02 -1.64824352e-02  2.45353617e-02\n",
      "   -2.62753852e-02 -9.75484774e-03 -1.39358528e-02  4.01802398e-02\n",
      "   -1.53078213e-02  4.35102843e-02  4.08934020e-02  3.92856263e-02\n",
      "   -3.63325253e-02 -2.62337681e-02 -2.20106971e-02  8.60351324e-03\n",
      "    1.97322704e-02 -1.81239843e-03 -3.34781781e-02 -5.94514608e-03\n",
      "    8.65100697e-03 -1.60703547e-02  4.47610132e-02 -1.45248771e-02\n",
      "    2.01009624e-02  1.90971158e-02  3.29755805e-02  4.05950472e-03\n",
      "    1.73229314e-02  8.74458626e-03  9.35010985e-03  4.64100949e-02\n",
      "   -2.39067916e-02 -1.83400027e-02 -4.18200977e-02 -2.00968273e-02]\n",
      "  [ 4.44815867e-02 -3.13809291e-02  3.47952880e-02  3.38323824e-02\n",
      "    2.66540088e-02 -2.85807140e-02 -1.92129742e-02  4.24563885e-04\n",
      "    3.27227823e-02  1.88675262e-02  4.68016528e-02 -1.14585757e-02\n",
      "   -9.36695188e-03 -1.34488568e-02  4.39502262e-02  2.26004981e-02\n",
      "    3.35284136e-02  3.03836726e-02 -2.42948532e-02 -2.06141714e-02\n",
      "   -3.11029442e-02 -4.43671346e-02  3.76117937e-02 -6.46630675e-03\n",
      "   -2.67418865e-02 -3.63833196e-02 -4.92303744e-02  9.99137014e-03\n",
      "   -4.52013388e-02  4.18433882e-02 -2.66211517e-02 -2.88645271e-02\n",
      "   -3.47213522e-02  1.85383819e-02 -2.60026380e-03 -1.97096113e-02\n",
      "   -4.47823778e-02  4.18885089e-02  4.58682664e-02 -1.66773796e-04\n",
      "    3.33654545e-02  4.51403521e-02  6.19003922e-03 -1.73570625e-02\n",
      "    4.14463170e-02 -2.67522931e-02 -3.81696001e-02  1.88597701e-02\n",
      "   -2.87915822e-02  4.20933962e-03 -1.30702741e-02 -5.06772846e-03\n",
      "    3.19992192e-02 -3.95468585e-02  1.02042034e-03 -3.93548980e-02\n",
      "    2.17770077e-02 -1.18036754e-02  3.39097865e-02 -1.85657665e-03\n",
      "    1.68783925e-02 -3.59032750e-02 -2.61925589e-02  3.38884629e-02]]]\n",
      "Embedded text shape: (1, 15, 64)\n"
     ]
    }
   ],
   "source": [
    "# Get a random sentence from the training set and return Original text, Vectorized text, Embedded text\n",
    "rand_sentence = random.choice(train_sentences)\n",
    "print(f\"Original text: {rand_sentence}\\n\")\n",
    "print(f\"Vectorized text: {text_vectorizer([rand_sentence])}\\n\")\n",
    "print(f\"Vectorized text shape: {text_vectorizer([rand_sentence]).shape}\")\n",
    "print(f\"Embbedded text: {embedding(text_vectorizer([rand_sentence]))}\")\n",
    "print(f\"Embedded text shape: {embedding(text_vectorizer([rand_sentence])).shape}\")"
   ],
   "metadata": {
    "collapsed": false,
    "ExecuteTime": {
     "end_time": "2023-07-30T06:46:41.495910200Z",
     "start_time": "2023-07-30T06:46:41.419931700Z"
    }
   },
   "id": "2d8028a4f822acb"
  },
  {
   "cell_type": "markdown",
   "source": [
    "### Model_2: Long Short Term Memory (LSTM) Model"
   ],
   "metadata": {
    "collapsed": false
   },
   "id": "f59939ec036845e1"
  },
  {
   "cell_type": "markdown",
   "source": [
    "LSTM = Long short term memory (One of the most popular LSTM cells)\n",
    "\n",
    "Our structure of a RNN typically looks like this:\n",
    "\n",
    "```\n",
    "Input (text) -> Tokenize -> Embedding -> Layers (RNNs/Dense) -> Output (label probability)\n",
    "```"
   ],
   "metadata": {
    "collapsed": false,
    "ExecuteTime": {
     "end_time": "2023-07-30T14:49:18.023486200Z",
     "start_time": "2023-07-30T14:49:17.741171900Z"
    }
   },
   "id": "f81954f3ccf322b3"
  },
  {
   "cell_type": "code",
   "execution_count": 31,
   "outputs": [
    {
     "name": "stdout",
     "output_type": "stream",
     "text": [
      "Model: \"model_2_LSTM\"\n",
      "_________________________________________________________________\n",
      " Layer (type)                Output Shape              Param #   \n",
      "=================================================================\n",
      " input_1 (InputLayer)        [(None, 1)]               0         \n",
      "                                                                 \n",
      " text_vectorization (TextVe  (None, 15)                0         \n",
      " ctorization)                                                    \n",
      "                                                                 \n",
      " embedding (Embedding)       (None, 15, 64)            640000    \n",
      "                                                                 \n",
      " lstm (LSTM)                 (None, 15, 64)            33024     \n",
      "                                                                 \n",
      " lstm_1 (LSTM)               (None, 64)                33024     \n",
      "                                                                 \n",
      " dense (Dense)               (None, 64)                4160      \n",
      "                                                                 \n",
      " dense_1 (Dense)             (None, 1)                 65        \n",
      "                                                                 \n",
      "=================================================================\n",
      "Total params: 710273 (2.71 MB)\n",
      "Trainable params: 710273 (2.71 MB)\n",
      "Non-trainable params: 0 (0.00 Byte)\n",
      "_________________________________________________________________\n"
     ]
    }
   ],
   "source": [
    "# Create a LTSM Model\n",
    "\n",
    "from tensorflow.keras import layers\n",
    "inputs = layers.Input(shape = (1,), dtype = \"string\")\n",
    "x = text_vectorizer(inputs)\n",
    "x = embedding(x)\n",
    "x = layers.LSTM(64, return_sequences = True)(x)\n",
    "x = layers.LSTM(64)(x)\n",
    "x = layers.Dense(64, activation = \"relu\")(x)\n",
    "outputs = layers.Dense(1, activation = \"sigmoid\")(x)\n",
    "model_2 = tf.keras.Model(inputs, outputs, name =\"model_2_LSTM\")"
   ],
   "metadata": {
    "collapsed": false,
    "ExecuteTime": {
     "end_time": "2023-07-30T14:49:18.052682200Z",
     "start_time": "2023-07-30T14:49:18.024486100Z"
    }
   },
   "id": "914746eea17a7a69"
  },
  {
   "cell_type": "code",
   "execution_count": 32,
   "outputs": [],
   "source": [
    "model_2.summary()"
   ],
   "metadata": {
    "collapsed": false,
    "ExecuteTime": {
     "end_time": "2023-07-30T14:49:18.053682Z",
     "start_time": "2023-07-30T14:49:18.036005Z"
    }
   },
   "id": "8aab5a4577c8c3cb"
  },
  {
   "cell_type": "code",
   "execution_count": 33,
   "outputs": [
    {
     "name": "stdout",
     "output_type": "stream",
     "text": [
      "Epoch 1/5\n",
      "215/215 [==============================] - 5s 11ms/step - loss: 0.5144 - accuracy: 0.7473 - val_loss: 0.4737 - val_accuracy: 0.7900\n",
      "Epoch 2/5\n",
      "215/215 [==============================] - 2s 9ms/step - loss: 0.3185 - accuracy: 0.8647 - val_loss: 0.5188 - val_accuracy: 0.7730\n",
      "Epoch 3/5\n",
      "215/215 [==============================] - 2s 9ms/step - loss: 0.2224 - accuracy: 0.9178 - val_loss: 0.5984 - val_accuracy: 0.7297\n",
      "Epoch 4/5\n",
      "215/215 [==============================] - 2s 9ms/step - loss: 0.1663 - accuracy: 0.9404 - val_loss: 0.6175 - val_accuracy: 0.7467\n",
      "Epoch 5/5\n",
      "215/215 [==============================] - 2s 9ms/step - loss: 0.1332 - accuracy: 0.9559 - val_loss: 0.6881 - val_accuracy: 0.7310\n"
     ]
    }
   ],
   "source": [
    "# Compile the model\n",
    "model_2.compile(loss = \"binary_crossentropy\",\n",
    "                optimizer=tf.keras.optimizers.Adam(),\n",
    "                metrics = ['accuracy'])"
   ],
   "metadata": {
    "collapsed": false,
    "ExecuteTime": {
     "end_time": "2023-07-30T14:49:30.650892300Z",
     "start_time": "2023-07-30T14:49:18.044681300Z"
    }
   },
   "id": "1c327cee36008714"
  },
  {
   "cell_type": "code",
   "execution_count": 34,
   "outputs": [
    {
     "name": "stdout",
     "output_type": "stream",
     "text": [
      "24/24 [==============================] - 0s 2ms/step\n"
     ]
    },
    {
     "data": {
      "text/plain": "array([[0.03208097],\n       [0.20279762],\n       [0.07481588],\n       [0.04135088],\n       [0.9811979 ],\n       [0.10899878],\n       [0.00713235],\n       [0.05714665],\n       [0.13276812],\n       [0.9987485 ],\n       [0.9664942 ],\n       [0.6166183 ],\n       [0.04905394],\n       [0.5674198 ],\n       [0.18249074],\n       [0.48025864],\n       [0.93565536],\n       [0.01874873],\n       [0.9999223 ],\n       [0.01149162],\n       [0.45840392],\n       [0.88950324],\n       [0.6805498 ],\n       [0.43790504],\n       [0.18323156],\n       [0.04545465],\n       [0.9997286 ],\n       [0.92811435],\n       [0.999953  ],\n       [0.00836265],\n       [0.22284022],\n       [0.01387595],\n       [0.3706735 ],\n       [0.8252464 ],\n       [0.1753077 ],\n       [0.5730591 ],\n       [0.92941034],\n       [0.16509645],\n       [0.0139841 ],\n       [0.32049307],\n       [0.04819231],\n       [0.9998144 ],\n       [0.12789322],\n       [0.8939987 ],\n       [0.04045928],\n       [0.07363887],\n       [0.9949272 ],\n       [0.19026056],\n       [0.96616983],\n       [0.99302536],\n       [0.03455955],\n       [0.9999804 ],\n       [0.04662654],\n       [0.26404637],\n       [0.228369  ],\n       [0.10866836],\n       [0.8855852 ],\n       [0.01350292],\n       [0.03970978],\n       [0.12242699],\n       [0.9674771 ],\n       [0.20309949],\n       [0.99911255],\n       [0.22529268],\n       [0.0197018 ],\n       [0.5808632 ],\n       [0.9989815 ],\n       [0.05705032],\n       [0.00672016],\n       [0.01486908],\n       [0.02679924],\n       [0.37144405],\n       [0.09887734],\n       [0.00557061],\n       [0.16495869],\n       [0.84361154],\n       [0.06277913],\n       [0.9770797 ],\n       [0.01400641],\n       [0.9998607 ],\n       [0.64009833],\n       [0.04736253],\n       [0.42069742],\n       [0.99989146],\n       [0.18652534],\n       [0.309834  ],\n       [0.9775115 ],\n       [0.0179291 ],\n       [0.96562165],\n       [0.8509001 ],\n       [0.13389802],\n       [0.93014795],\n       [0.13520347],\n       [0.06049525],\n       [0.9885433 ],\n       [0.19770564],\n       [0.01289778],\n       [0.01897616],\n       [0.9785392 ],\n       [0.01716098],\n       [0.91853505],\n       [0.8155852 ],\n       [0.02297285],\n       [0.077396  ],\n       [0.0154747 ],\n       [0.11192337],\n       [0.04146657],\n       [0.02611254],\n       [0.9999723 ],\n       [0.09779547],\n       [0.9990961 ],\n       [0.99993   ],\n       [0.99951005],\n       [0.42237797],\n       [0.01107176],\n       [0.8621114 ],\n       [0.23481365],\n       [0.968883  ],\n       [0.4665446 ],\n       [0.74607027],\n       [0.98308635],\n       [0.9590797 ],\n       [0.03712191],\n       [0.99985665],\n       [0.98555017],\n       [0.03060246],\n       [0.7790409 ],\n       [0.9994964 ],\n       [0.57869834],\n       [0.01141323],\n       [0.38833714],\n       [0.07491735],\n       [0.03628955],\n       [0.45503435],\n       [0.99255526],\n       [0.29544196],\n       [0.3036633 ],\n       [0.16047177],\n       [0.07146012],\n       [0.99997884],\n       [0.37815464],\n       [0.5195292 ],\n       [0.9210525 ],\n       [0.80641806],\n       [0.8554806 ],\n       [0.01121507],\n       [0.9999029 ],\n       [0.87183255],\n       [0.18194665],\n       [0.08316644],\n       [0.9985354 ],\n       [0.12796713],\n       [0.9999397 ],\n       [0.888671  ],\n       [0.8855852 ],\n       [0.01714047],\n       [0.02952585],\n       [0.9999749 ],\n       [0.9913778 ],\n       [0.6505109 ],\n       [0.0577747 ],\n       [0.13750176],\n       [0.9998828 ],\n       [0.76618505],\n       [0.07720131],\n       [0.98928136],\n       [0.14081217],\n       [0.12127373],\n       [0.9875357 ],\n       [0.01372151],\n       [0.18374722],\n       [0.04594951],\n       [0.85793895],\n       [0.9378166 ],\n       [0.37489867],\n       [0.00652805],\n       [0.23455551],\n       [0.9999189 ],\n       [0.99793106],\n       [0.6935349 ],\n       [0.7374623 ],\n       [0.01917279],\n       [0.04211195],\n       [0.01040851],\n       [0.9685467 ],\n       [0.5873432 ],\n       [0.07987615],\n       [0.04485782],\n       [0.14965667],\n       [0.03167457],\n       [0.17390673],\n       [0.02893523],\n       [0.7336284 ],\n       [0.06715616],\n       [0.20539102],\n       [0.65245634],\n       [0.05659589],\n       [0.98666114],\n       [0.14481784],\n       [0.75420225],\n       [0.01487662],\n       [0.01490405],\n       [0.07360162],\n       [0.14927097],\n       [0.8973712 ],\n       [0.09424126],\n       [0.21637373],\n       [0.01711068],\n       [0.44645333],\n       [0.17277259],\n       [0.997226  ],\n       [0.9742801 ],\n       [0.9997881 ],\n       [0.99997306],\n       [0.71447223],\n       [0.762651  ],\n       [0.11834225],\n       [0.85484064],\n       [0.99995285],\n       [0.2712725 ],\n       [0.02049805],\n       [0.9305615 ],\n       [0.99937993],\n       [0.50086427],\n       [0.99995273],\n       [0.6927638 ],\n       [0.39598787],\n       [0.01713805],\n       [0.01712026],\n       [0.8584861 ],\n       [0.7055679 ],\n       [0.05589147],\n       [0.9992763 ],\n       [0.0731835 ],\n       [0.02199966],\n       [0.07323368],\n       [0.82356644],\n       [0.40198088],\n       [0.77338517],\n       [0.02549668],\n       [0.15615156],\n       [0.99964803],\n       [0.58925897],\n       [0.65296304],\n       [0.51056916],\n       [0.06085883],\n       [0.89807045],\n       [0.94799227],\n       [0.22572125],\n       [0.98486   ],\n       [0.04185736],\n       [0.99995667],\n       [0.29359832],\n       [0.9848832 ],\n       [0.03926089],\n       [0.09223126],\n       [0.0113685 ],\n       [0.99592674],\n       [0.02685226],\n       [0.2659557 ],\n       [0.25591376],\n       [0.9992518 ],\n       [0.9999681 ],\n       [0.1627168 ],\n       [0.9999249 ],\n       [0.5830761 ],\n       [0.03625045],\n       [0.53308576],\n       [0.72789824],\n       [0.92797405],\n       [0.19956055],\n       [0.9866984 ],\n       [0.03693387],\n       [0.05696764],\n       [0.96439344],\n       [0.25946414],\n       [0.5789366 ],\n       [0.9999724 ],\n       [0.9592883 ],\n       [0.9999408 ],\n       [0.57921743],\n       [0.99911255],\n       [0.87392646],\n       [0.1631504 ],\n       [0.9998148 ],\n       [0.994517  ],\n       [0.7279411 ],\n       [0.020476  ],\n       [0.1840897 ],\n       [0.18082891],\n       [0.99994737],\n       [0.98235476],\n       [0.05108419],\n       [0.00400772],\n       [0.98101294],\n       [0.6645826 ],\n       [0.0066243 ],\n       [0.9999408 ],\n       [0.93565536],\n       [0.18495367],\n       [0.9696407 ],\n       [0.09111788],\n       [0.9836221 ],\n       [0.99941385],\n       [0.07580084],\n       [0.7135675 ],\n       [0.34875965],\n       [0.01368195],\n       [0.03256838],\n       [0.1687338 ],\n       [0.99984604],\n       [0.6672987 ],\n       [0.12708521],\n       [0.9025946 ],\n       [0.39698213],\n       [0.9197996 ],\n       [0.02552669],\n       [0.02461072],\n       [0.9959267 ],\n       [0.99960726],\n       [0.15549475],\n       [0.19870336],\n       [0.98454624],\n       [0.09970894],\n       [0.16137475],\n       [0.4525014 ],\n       [0.07037668],\n       [0.05097026],\n       [0.30153987],\n       [0.9999648 ],\n       [0.10238152],\n       [0.99986863],\n       [0.99994504],\n       [0.33705452],\n       [0.9984415 ],\n       [0.993471  ],\n       [0.9998144 ],\n       [0.9999812 ],\n       [0.9936952 ],\n       [0.85380983],\n       [0.04024765],\n       [0.04058944],\n       [0.36382535],\n       [0.01041596],\n       [0.6459173 ],\n       [0.01365324],\n       [0.9998804 ],\n       [0.999449  ],\n       [0.99995446],\n       [0.07038136],\n       [0.0802087 ],\n       [0.9996661 ],\n       [0.03240986],\n       [0.5380977 ],\n       [0.9921395 ],\n       [0.07823674],\n       [0.99997866],\n       [0.7479617 ],\n       [0.01805613],\n       [0.22288555],\n       [0.5713563 ],\n       [0.18868877],\n       [0.9015988 ],\n       [0.03090043],\n       [0.32299504],\n       [0.18590355],\n       [0.01774492],\n       [0.42684004],\n       [0.02507758],\n       [0.39344817],\n       [0.02440364],\n       [0.8779476 ],\n       [0.03892949],\n       [0.5881298 ],\n       [0.16635056],\n       [0.99919766],\n       [0.00763265],\n       [0.34249535],\n       [0.6904937 ],\n       [0.6129598 ],\n       [0.9999697 ],\n       [0.24667862],\n       [0.5178975 ],\n       [0.07710654],\n       [0.28972867],\n       [0.94161314],\n       [0.0628461 ],\n       [0.17620982],\n       [0.01685705],\n       [0.01577529],\n       [0.09132462],\n       [0.11113195],\n       [0.35441306],\n       [0.8747721 ],\n       [0.20743014],\n       [0.99955577],\n       [0.9997739 ],\n       [0.8105462 ],\n       [0.05883711],\n       [0.0137349 ],\n       [0.02865116],\n       [0.8051418 ],\n       [0.9345854 ],\n       [0.02697409],\n       [0.00686134],\n       [0.9987442 ],\n       [0.17451505],\n       [0.9997002 ],\n       [0.35993215],\n       [0.19826694],\n       [0.98875463],\n       [0.8136328 ],\n       [0.00390536],\n       [0.7502211 ],\n       [0.08390679],\n       [0.09410941],\n       [0.9976969 ],\n       [0.00628377],\n       [0.99539906],\n       [0.06062984],\n       [0.00965318],\n       [0.9999434 ],\n       [0.02843978],\n       [0.08008467],\n       [0.08874798],\n       [0.09554809],\n       [0.02788428],\n       [0.01104789],\n       [0.9984637 ],\n       [0.99933505],\n       [0.03692402],\n       [0.347381  ],\n       [0.62581784],\n       [0.01568834],\n       [0.9997542 ],\n       [0.01249747],\n       [0.9995733 ],\n       [0.13011134],\n       [0.07345691],\n       [0.02366661],\n       [0.9889041 ],\n       [0.02031906],\n       [0.96116674],\n       [0.9713098 ],\n       [0.12273095],\n       [0.01588287],\n       [0.270626  ],\n       [0.16479923],\n       [0.99996275],\n       [0.04998844],\n       [0.02296559],\n       [0.17032994],\n       [0.9998643 ],\n       [0.6488692 ],\n       [0.9993007 ],\n       [0.29574233],\n       [0.15162778],\n       [0.9767497 ],\n       [0.99951094],\n       [0.00324778],\n       [0.99001837],\n       [0.9999534 ],\n       [0.01150498],\n       [0.9674434 ],\n       [0.9514834 ],\n       [0.9992094 ],\n       [0.39152628],\n       [0.02233792],\n       [0.9912575 ],\n       [0.15377878],\n       [0.99918556],\n       [0.30462703],\n       [0.99954545],\n       [0.15305652],\n       [0.99997824],\n       [0.9472239 ],\n       [0.06209203],\n       [0.06957009],\n       [0.07374819],\n       [0.02538866],\n       [0.22556551],\n       [0.33789286],\n       [0.14170064],\n       [0.85133815],\n       [0.913503  ],\n       [0.8796507 ],\n       [0.09168079],\n       [0.08379397],\n       [0.1163175 ],\n       [0.03480745],\n       [0.00703726],\n       [0.21132061],\n       [0.9813334 ],\n       [0.06729144],\n       [0.99997306],\n       [0.01501409],\n       [0.9127986 ],\n       [0.05656957],\n       [0.01231399],\n       [0.00860233],\n       [0.99991083],\n       [0.00787562],\n       [0.05151159],\n       [0.94167966],\n       [0.9999296 ],\n       [0.00613942],\n       [0.12184085],\n       [0.34875965],\n       [0.01102382],\n       [0.17583261],\n       [0.999922  ],\n       [0.99976486],\n       [0.1603804 ],\n       [0.07463815],\n       [0.19913343],\n       [0.21286093],\n       [0.00687736],\n       [0.01591664],\n       [0.15456828],\n       [0.03266738],\n       [0.8304298 ],\n       [0.9999703 ],\n       [0.08344241],\n       [0.999965  ],\n       [0.9997525 ],\n       [0.8650784 ],\n       [0.10923671],\n       [0.92099684],\n       [0.9990579 ],\n       [0.13495475],\n       [0.14515832],\n       [0.8147692 ],\n       [0.01845185],\n       [0.02454235],\n       [0.30489668],\n       [0.677736  ],\n       [0.9989037 ],\n       [0.16267373],\n       [0.21918356],\n       [0.7842255 ],\n       [0.02184349],\n       [0.06222056],\n       [0.01282408],\n       [0.02896084],\n       [0.5080252 ],\n       [0.9877161 ],\n       [0.9999719 ],\n       [0.12184891],\n       [0.9999685 ],\n       [0.14241864],\n       [0.09020951],\n       [0.04873392],\n       [0.99997306],\n       [0.96242183],\n       [0.9995147 ],\n       [0.88464063],\n       [0.99246657],\n       [0.6474093 ],\n       [0.99934304],\n       [0.1644651 ],\n       [0.70991516],\n       [0.26955408],\n       [0.14428973],\n       [0.40716782],\n       [0.04933114],\n       [0.7899111 ],\n       [0.37823966],\n       [0.01684884],\n       [0.18173696],\n       [0.90394354],\n       [0.9987048 ],\n       [0.99995655],\n       [0.86851126],\n       [0.9987471 ],\n       [0.97850454],\n       [0.0356574 ],\n       [0.30266795],\n       [0.20308635],\n       [0.5159594 ],\n       [0.9999408 ],\n       [0.15394431],\n       [0.9621587 ],\n       [0.19962624],\n       [0.16688961],\n       [0.17884457],\n       [0.13231504],\n       [0.99954975],\n       [0.03687714],\n       [0.9996468 ],\n       [0.9990158 ],\n       [0.99957025],\n       [0.9999372 ],\n       [0.02485647],\n       [0.00706928],\n       [0.00848739],\n       [0.06720132],\n       [0.75363487],\n       [0.13672026],\n       [0.27025944],\n       [0.08809722],\n       [0.2467064 ],\n       [0.07124441],\n       [0.0463204 ],\n       [0.9999708 ],\n       [0.99992096],\n       [0.17033723],\n       [0.22548836],\n       [0.97786105],\n       [0.06868276],\n       [0.05410693],\n       [0.65171105],\n       [0.00952461],\n       [0.09240344],\n       [0.21126628],\n       [0.9997081 ],\n       [0.03840178],\n       [0.02364544],\n       [0.03978411],\n       [0.0072732 ],\n       [0.18995248],\n       [0.52214044],\n       [0.99961764],\n       [0.99945617],\n       [0.54782367],\n       [0.04403008],\n       [0.9935139 ],\n       [0.09128859],\n       [0.14039895],\n       [0.05652102],\n       [0.26578388],\n       [0.82193017],\n       [0.9998699 ],\n       [0.9757449 ],\n       [0.4421798 ],\n       [0.04662162],\n       [0.8517734 ],\n       [0.9979243 ],\n       [0.01179106],\n       [0.16407622],\n       [0.0676405 ],\n       [0.01269249],\n       [0.97748893],\n       [0.9429987 ],\n       [0.9989242 ],\n       [0.01293828],\n       [0.0166484 ],\n       [0.982431  ],\n       [0.9997741 ],\n       [0.999563  ],\n       [0.28365085],\n       [0.12732701],\n       [0.01714131],\n       [0.16359843],\n       [0.99959093],\n       [0.00319186],\n       [0.01027398],\n       [0.474104  ],\n       [0.9242077 ],\n       [0.01408716],\n       [0.99994206],\n       [0.05849614],\n       [0.01208433],\n       [0.8347335 ],\n       [0.04271384],\n       [0.99996996],\n       [0.4659958 ],\n       [0.9972776 ],\n       [0.9533864 ],\n       [0.99998134],\n       [0.12835583],\n       [0.6628558 ],\n       [0.14489082],\n       [0.7382726 ],\n       [0.99575907],\n       [0.01440047],\n       [0.8473384 ],\n       [0.10224921],\n       [0.08191062],\n       [0.01225049],\n       [0.01795408],\n       [0.1323699 ],\n       [0.00765558],\n       [0.7293045 ],\n       [0.0803533 ],\n       [0.05607894],\n       [0.10479178],\n       [0.9999785 ],\n       [0.8875693 ],\n       [0.84074867],\n       [0.9582243 ],\n       [0.12179317],\n       [0.99992096],\n       [0.06977512],\n       [0.40716782],\n       [0.99989855],\n       [0.9994413 ],\n       [0.998506  ],\n       [0.9999408 ],\n       [0.09872535],\n       [0.16649446],\n       [0.9484396 ],\n       [0.03115158],\n       [0.9999433 ],\n       [0.02851931],\n       [0.05934565],\n       [0.06113704],\n       [0.06097411],\n       [0.19285943],\n       [0.99996424],\n       [0.25719625],\n       [0.91433644],\n       [0.6644337 ],\n       [0.9992195 ],\n       [0.9990967 ],\n       [0.7406348 ],\n       [0.01614138],\n       [0.74814695],\n       [0.12407938],\n       [0.99994123],\n       [0.9999652 ],\n       [0.10543711],\n       [0.00687736],\n       [0.08242561],\n       [0.9999099 ],\n       [0.29558986],\n       [0.05021536],\n       [0.94963425],\n       [0.6105822 ],\n       [0.9000466 ],\n       [0.7543927 ],\n       [0.9258769 ],\n       [0.0131375 ],\n       [0.6721666 ],\n       [0.99941665],\n       [0.1025092 ],\n       [0.0112793 ],\n       [0.07337853],\n       [0.15561418],\n       [0.04147004],\n       [0.03354714],\n       [0.18504876],\n       [0.21098311],\n       [0.9206595 ],\n       [0.14304218],\n       [0.32342336],\n       [0.19338854],\n       [0.29381007],\n       [0.18519275],\n       [0.78976715],\n       [0.67234874],\n       [0.02749234],\n       [0.99995023],\n       [0.6900839 ],\n       [0.08087842],\n       [0.6440932 ],\n       [0.9992848 ],\n       [0.9998992 ],\n       [0.0148901 ],\n       [0.04536208],\n       [0.46930537],\n       [0.12235698],\n       [0.14234562]], dtype=float32)"
     },
     "execution_count": 34,
     "metadata": {},
     "output_type": "execute_result"
    }
   ],
   "source": [
    "# Fit the model\n",
    "model_2_history = model_2.fit(train_sentences,\n",
    "                              train_labels,\n",
    "                              epochs = 5,\n",
    "                              validation_data = (val_sentences, val_labels))"
   ],
   "metadata": {
    "collapsed": false,
    "ExecuteTime": {
     "end_time": "2023-07-30T14:49:31.178848100Z",
     "start_time": "2023-07-30T14:49:30.651892200Z"
    }
   },
   "id": "c2f1a49c2832756e"
  },
  {
   "cell_type": "code",
   "execution_count": 35,
   "outputs": [
    {
     "data": {
      "text/plain": "(762, 1)"
     },
     "execution_count": 35,
     "metadata": {},
     "output_type": "execute_result"
    }
   ],
   "source": [
    "# Make predictions using the model_2: LSTM Model\n",
    "model_2_preds_probs = model_2.predict(val_sentences)\n",
    "model_2_preds_probs"
   ],
   "metadata": {
    "collapsed": false,
    "ExecuteTime": {
     "end_time": "2023-07-30T14:49:31.184177800Z",
     "start_time": "2023-07-30T14:49:31.179848Z"
    }
   },
   "id": "8e623e026d1d56"
  },
  {
   "cell_type": "code",
   "execution_count": 36,
   "outputs": [
    {
     "data": {
      "text/plain": "<tf.Tensor: shape=(762,), dtype=float32, numpy=\narray([0., 0., 0., 0., 1., 0., 0., 0., 0., 1., 1., 1., 0., 1., 0., 0., 1.,\n       0., 1., 0., 0., 1., 1., 0., 0., 0., 1., 1., 1., 0., 0., 0., 0., 1.,\n       0., 1., 1., 0., 0., 0., 0., 1., 0., 1., 0., 0., 1., 0., 1., 1., 0.,\n       1., 0., 0., 0., 0., 1., 0., 0., 0., 1., 0., 1., 0., 0., 1., 1., 0.,\n       0., 0., 0., 0., 0., 0., 0., 1., 0., 1., 0., 1., 1., 0., 0., 1., 0.,\n       0., 1., 0., 1., 1., 0., 1., 0., 0., 1., 0., 0., 0., 1., 0., 1., 1.,\n       0., 0., 0., 0., 0., 0., 1., 0., 1., 1., 1., 0., 0., 1., 0., 1., 0.,\n       1., 1., 1., 0., 1., 1., 0., 1., 1., 1., 0., 0., 0., 0., 0., 1., 0.,\n       0., 0., 0., 1., 0., 1., 1., 1., 1., 0., 1., 1., 0., 0., 1., 0., 1.,\n       1., 1., 0., 0., 1., 1., 1., 0., 0., 1., 1., 0., 1., 0., 0., 1., 0.,\n       0., 0., 1., 1., 0., 0., 0., 1., 1., 1., 1., 0., 0., 0., 1., 1., 0.,\n       0., 0., 0., 0., 0., 1., 0., 0., 1., 0., 1., 0., 1., 0., 0., 0., 0.,\n       1., 0., 0., 0., 0., 0., 1., 1., 1., 1., 1., 1., 0., 1., 1., 0., 0.,\n       1., 1., 1., 1., 1., 0., 0., 0., 1., 1., 0., 1., 0., 0., 0., 1., 0.,\n       1., 0., 0., 1., 1., 1., 1., 0., 1., 1., 0., 1., 0., 1., 0., 1., 0.,\n       0., 0., 1., 0., 0., 0., 1., 1., 0., 1., 1., 0., 1., 1., 1., 0., 1.,\n       0., 0., 1., 0., 1., 1., 1., 1., 1., 1., 1., 0., 1., 1., 1., 0., 0.,\n       0., 1., 1., 0., 0., 1., 1., 0., 1., 1., 0., 1., 0., 1., 1., 0., 1.,\n       0., 0., 0., 0., 1., 1., 0., 1., 0., 1., 0., 0., 1., 1., 0., 0., 1.,\n       0., 0., 0., 0., 0., 0., 1., 0., 1., 1., 0., 1., 1., 1., 1., 1., 1.,\n       0., 0., 0., 0., 1., 0., 1., 1., 1., 0., 0., 1., 0., 1., 1., 0., 1.,\n       1., 0., 0., 1., 0., 1., 0., 0., 0., 0., 0., 0., 0., 0., 1., 0., 1.,\n       0., 1., 0., 0., 1., 1., 1., 0., 1., 0., 0., 1., 0., 0., 0., 0., 0.,\n       0., 0., 1., 0., 1., 1., 1., 0., 0., 0., 1., 1., 0., 0., 1., 0., 1.,\n       0., 0., 1., 1., 0., 1., 0., 0., 1., 0., 1., 0., 0., 1., 0., 0., 0.,\n       0., 0., 0., 1., 1., 0., 0., 1., 0., 1., 0., 1., 0., 0., 0., 1., 0.,\n       1., 1., 0., 0., 0., 0., 1., 0., 0., 0., 1., 1., 1., 0., 0., 1., 1.,\n       0., 1., 1., 0., 1., 1., 1., 0., 0., 1., 0., 1., 0., 1., 0., 1., 1.,\n       0., 0., 0., 0., 0., 0., 0., 1., 1., 1., 0., 0., 0., 0., 0., 0., 1.,\n       0., 1., 0., 1., 0., 0., 0., 1., 0., 0., 1., 1., 0., 0., 0., 0., 0.,\n       1., 1., 0., 0., 0., 0., 0., 0., 0., 0., 1., 1., 0., 1., 1., 1., 0.,\n       1., 1., 0., 0., 1., 0., 0., 0., 1., 1., 0., 0., 1., 0., 0., 0., 0.,\n       1., 1., 1., 0., 1., 0., 0., 0., 1., 1., 1., 1., 1., 1., 1., 0., 1.,\n       0., 0., 0., 0., 1., 0., 0., 0., 1., 1., 1., 1., 1., 1., 0., 0., 0.,\n       1., 1., 0., 1., 0., 0., 0., 0., 1., 0., 1., 1., 1., 1., 0., 0., 0.,\n       0., 1., 0., 0., 0., 0., 0., 0., 1., 1., 0., 0., 1., 0., 0., 1., 0.,\n       0., 0., 1., 0., 0., 0., 0., 0., 1., 1., 1., 1., 0., 1., 0., 0., 0.,\n       0., 1., 1., 1., 0., 0., 1., 1., 0., 0., 0., 0., 1., 1., 1., 0., 0.,\n       1., 1., 1., 0., 0., 0., 0., 1., 0., 0., 0., 1., 0., 1., 0., 0., 1.,\n       0., 1., 0., 1., 1., 1., 0., 1., 0., 1., 1., 0., 1., 0., 0., 0., 0.,\n       0., 0., 1., 0., 0., 0., 1., 1., 1., 1., 0., 1., 0., 0., 1., 1., 1.,\n       1., 0., 0., 1., 0., 1., 0., 0., 0., 0., 0., 1., 0., 1., 1., 1., 1.,\n       1., 0., 1., 0., 1., 1., 0., 0., 0., 1., 0., 0., 1., 1., 1., 1., 1.,\n       0., 1., 1., 0., 0., 0., 0., 0., 0., 0., 0., 1., 0., 0., 0., 0., 0.,\n       1., 1., 0., 1., 1., 0., 1., 1., 1., 0., 0., 0., 0., 0.],\n      dtype=float32)>"
     },
     "execution_count": 36,
     "metadata": {},
     "output_type": "execute_result"
    }
   ],
   "source": [
    "model_2_preds_probs.shape"
   ],
   "metadata": {
    "collapsed": false,
    "ExecuteTime": {
     "end_time": "2023-07-30T14:49:31.219688900Z",
     "start_time": "2023-07-30T14:49:31.183177100Z"
    }
   },
   "id": "1d90b7c483c5d2c8"
  },
  {
   "cell_type": "code",
   "execution_count": 37,
   "outputs": [],
   "source": [
    "# Convert model_2_preds_probs to the val_labels'format(0,1)\n",
    "model_2_preds = tf.squeeze(tf.round(model_2_preds_probs))\n",
    "model_2_preds"
   ],
   "metadata": {
    "collapsed": false,
    "ExecuteTime": {
     "end_time": "2023-07-30T14:49:31.220689300Z",
     "start_time": "2023-07-30T14:49:31.190350100Z"
    }
   },
   "id": "d1c3350ad8b6aabf"
  },
  {
   "cell_type": "code",
   "execution_count": 38,
   "outputs": [
    {
     "data": {
      "text/plain": "0.730888110481174"
     },
     "execution_count": 38,
     "metadata": {},
     "output_type": "execute_result"
    }
   ],
   "source": [
    "# Evaluate the model by comparing the model_2_preds to val_labels\n",
    "from sklearn.metrics import accuracy_score, precision_recall_fscore_support\n",
    "\n",
    "model_2_accuracy_score = accuracy_score(val_labels, model_2_preds)\n",
    "model_2_precision, model_2_recall, model_2_fscore, _ =precision_recall_fscore_support(val_labels,\n",
    "                                                                                      model_2_preds,\n",
    "                                                                                      average = \"weighted\")"
   ],
   "metadata": {
    "collapsed": false,
    "ExecuteTime": {
     "end_time": "2023-07-30T14:49:31.220689300Z",
     "start_time": "2023-07-30T14:49:31.196330200Z"
    }
   },
   "id": "a3fe2a1168c6ea31"
  },
  {
   "cell_type": "code",
   "execution_count": 39,
   "outputs": [
    {
     "data": {
      "text/plain": "{'model_2_accuracy_score': 0.7309711286089239,\n 'model_2_precision': 0.730888110481174,\n 'model_2_recall': {0.7309711286089239},\n 'model_2_f1score': {0.730928355705545}}"
     },
     "execution_count": 39,
     "metadata": {},
     "output_type": "execute_result"
    }
   ],
   "source": [
    "model_2_precision"
   ],
   "metadata": {
    "collapsed": false,
    "ExecuteTime": {
     "end_time": "2023-07-30T14:49:31.220689300Z",
     "start_time": "2023-07-30T14:49:31.200233400Z"
    }
   },
   "id": "9a4099a5a26f6fe1"
  },
  {
   "cell_type": "code",
   "execution_count": 44,
   "outputs": [
    {
     "data": {
      "text/plain": "{'model_2_accuracy_score': 0.7388451443569554,\n 'model_2_precision': 0.7379198684322771,\n 'model_2_recall': {0.7388451443569554},\n 'model_2_f1score': {0.7380105609849744}}"
     },
     "execution_count": 44,
     "metadata": {},
     "output_type": "execute_result"
    }
   ],
   "source": [
    "dict_result = {\"model_2_accuracy_score\": model_2_accuracy_score,\n",
    "               \"model_2_precision\": model_2_precision,\n",
    "               \"model_2_recall\": {model_2_recall},\n",
    "               \"model_2_f1score\": {model_2_fscore}}\n",
    "dict_result"
   ],
   "metadata": {
    "collapsed": false,
    "ExecuteTime": {
     "end_time": "2023-07-30T06:57:57.871158Z",
     "start_time": "2023-07-30T06:57:57.841051Z"
    }
   },
   "id": "675c563a80b18f9a"
  }
 ],
 "metadata": {
  "kernelspec": {
   "display_name": "Python 3",
   "language": "python",
   "name": "python3"
  },
  "language_info": {
   "codemirror_mode": {
    "name": "ipython",
    "version": 2
   },
   "file_extension": ".py",
   "mimetype": "text/x-python",
   "name": "python",
   "nbconvert_exporter": "python",
   "pygments_lexer": "ipython2",
   "version": "2.7.6"
  }
 },
 "nbformat": 4,
 "nbformat_minor": 5
}
