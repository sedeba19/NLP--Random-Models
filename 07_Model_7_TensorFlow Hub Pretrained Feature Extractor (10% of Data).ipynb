{
 "cells": [
  {
   "cell_type": "code",
   "execution_count": 1,
   "outputs": [
    {
     "data": {
      "text/plain": "'2.13.0'"
     },
     "execution_count": 1,
     "metadata": {},
     "output_type": "execute_result"
    }
   ],
   "source": [
    "import collections\n",
    "import os\n",
    "import tensorflow as tf\n",
    "import pandas as pd\n",
    "\n",
    "tf.__version__\n"
   ],
   "metadata": {
    "collapsed": false,
    "ExecuteTime": {
     "end_time": "2023-07-30T15:12:53.207871100Z",
     "start_time": "2023-07-30T15:12:51.690103800Z"
    }
   },
   "id": "d895e3f341f9cd2c"
  },
  {
   "cell_type": "code",
   "execution_count": 2,
   "outputs": [],
   "source": [
    "train_dir = r'https://raw.githubusercontent.com/sedeba19/NLP--Random-Models/main/train.csv'\n",
    "test_dir = r'https://raw.githubusercontent.com/sedeba19/NLP--Random-Models/main/test.csv'"
   ],
   "metadata": {
    "collapsed": false,
    "ExecuteTime": {
     "end_time": "2023-07-30T15:12:53.214332400Z",
     "start_time": "2023-07-30T15:12:53.207871100Z"
    }
   },
   "id": "f9e05dc9db4f2150"
  },
  {
   "cell_type": "code",
   "execution_count": 3,
   "outputs": [
    {
     "data": {
      "text/plain": "'https://raw.githubusercontent.com/sedeba19/NLP--Random-Models/main/train.csv'"
     },
     "execution_count": 3,
     "metadata": {},
     "output_type": "execute_result"
    }
   ],
   "source": [
    "train_dir"
   ],
   "metadata": {
    "collapsed": false,
    "ExecuteTime": {
     "end_time": "2023-07-30T15:12:53.216417800Z",
     "start_time": "2023-07-30T15:12:53.212424500Z"
    }
   },
   "id": "e237aa9b92bb079a"
  },
  {
   "cell_type": "code",
   "execution_count": 4,
   "outputs": [
    {
     "data": {
      "text/plain": "   id keyword location                                               text  \\\n0   1     NaN      NaN  Our Deeds are the Reason of this #earthquake M...   \n1   4     NaN      NaN             Forest fire near La Ronge Sask. Canada   \n2   5     NaN      NaN  All residents asked to 'shelter in place' are ...   \n3   6     NaN      NaN  13,000 people receive #wildfires evacuation or...   \n4   7     NaN      NaN  Just got sent this photo from Ruby #Alaska as ...   \n\n   target  \n0       1  \n1       1  \n2       1  \n3       1  \n4       1  ",
      "text/html": "<div>\n<style scoped>\n    .dataframe tbody tr th:only-of-type {\n        vertical-align: middle;\n    }\n\n    .dataframe tbody tr th {\n        vertical-align: top;\n    }\n\n    .dataframe thead th {\n        text-align: right;\n    }\n</style>\n<table border=\"1\" class=\"dataframe\">\n  <thead>\n    <tr style=\"text-align: right;\">\n      <th></th>\n      <th>id</th>\n      <th>keyword</th>\n      <th>location</th>\n      <th>text</th>\n      <th>target</th>\n    </tr>\n  </thead>\n  <tbody>\n    <tr>\n      <th>0</th>\n      <td>1</td>\n      <td>NaN</td>\n      <td>NaN</td>\n      <td>Our Deeds are the Reason of this #earthquake M...</td>\n      <td>1</td>\n    </tr>\n    <tr>\n      <th>1</th>\n      <td>4</td>\n      <td>NaN</td>\n      <td>NaN</td>\n      <td>Forest fire near La Ronge Sask. Canada</td>\n      <td>1</td>\n    </tr>\n    <tr>\n      <th>2</th>\n      <td>5</td>\n      <td>NaN</td>\n      <td>NaN</td>\n      <td>All residents asked to 'shelter in place' are ...</td>\n      <td>1</td>\n    </tr>\n    <tr>\n      <th>3</th>\n      <td>6</td>\n      <td>NaN</td>\n      <td>NaN</td>\n      <td>13,000 people receive #wildfires evacuation or...</td>\n      <td>1</td>\n    </tr>\n    <tr>\n      <th>4</th>\n      <td>7</td>\n      <td>NaN</td>\n      <td>NaN</td>\n      <td>Just got sent this photo from Ruby #Alaska as ...</td>\n      <td>1</td>\n    </tr>\n  </tbody>\n</table>\n</div>"
     },
     "execution_count": 4,
     "metadata": {},
     "output_type": "execute_result"
    }
   ],
   "source": [
    "# Make a train_df\n",
    "train_df = pd.read_csv(train_dir)\n",
    "test_df = pd.read_csv(test_dir)\n",
    "train_df.head()"
   ],
   "metadata": {
    "collapsed": false,
    "ExecuteTime": {
     "end_time": "2023-07-30T15:12:53.335242100Z",
     "start_time": "2023-07-30T15:12:53.216417800Z"
    }
   },
   "id": "c858f9a76b34b934"
  },
  {
   "cell_type": "code",
   "execution_count": 5,
   "outputs": [
    {
     "data": {
      "text/plain": "         id               keyword                  location  \\\n3228   4632  emergency%20services   Sydney, New South Wales   \n3706   5271                  fear                       NaN   \n6957   9982               tsunami         Land Of The Kings   \n2887   4149                 drown                       NaN   \n7464  10680                wounds  cody, austin follows ?*?   \n\n                                                   text  target  \n3228  Goulburn man Henry Van Bilsen missing: Emergen...       1  \n3706  The things we fear most in organizations--fluc...       0  \n6957                            @tsunami_esh ?? hey Esh       0  \n2887  @POTUS you until you drown by water entering t...       0  \n7464  Crawling in my skin\\nThese wounds they will no...       1  ",
      "text/html": "<div>\n<style scoped>\n    .dataframe tbody tr th:only-of-type {\n        vertical-align: middle;\n    }\n\n    .dataframe tbody tr th {\n        vertical-align: top;\n    }\n\n    .dataframe thead th {\n        text-align: right;\n    }\n</style>\n<table border=\"1\" class=\"dataframe\">\n  <thead>\n    <tr style=\"text-align: right;\">\n      <th></th>\n      <th>id</th>\n      <th>keyword</th>\n      <th>location</th>\n      <th>text</th>\n      <th>target</th>\n    </tr>\n  </thead>\n  <tbody>\n    <tr>\n      <th>3228</th>\n      <td>4632</td>\n      <td>emergency%20services</td>\n      <td>Sydney, New South Wales</td>\n      <td>Goulburn man Henry Van Bilsen missing: Emergen...</td>\n      <td>1</td>\n    </tr>\n    <tr>\n      <th>3706</th>\n      <td>5271</td>\n      <td>fear</td>\n      <td>NaN</td>\n      <td>The things we fear most in organizations--fluc...</td>\n      <td>0</td>\n    </tr>\n    <tr>\n      <th>6957</th>\n      <td>9982</td>\n      <td>tsunami</td>\n      <td>Land Of The Kings</td>\n      <td>@tsunami_esh ?? hey Esh</td>\n      <td>0</td>\n    </tr>\n    <tr>\n      <th>2887</th>\n      <td>4149</td>\n      <td>drown</td>\n      <td>NaN</td>\n      <td>@POTUS you until you drown by water entering t...</td>\n      <td>0</td>\n    </tr>\n    <tr>\n      <th>7464</th>\n      <td>10680</td>\n      <td>wounds</td>\n      <td>cody, austin follows ?*?</td>\n      <td>Crawling in my skin\\nThese wounds they will no...</td>\n      <td>1</td>\n    </tr>\n  </tbody>\n</table>\n</div>"
     },
     "execution_count": 5,
     "metadata": {},
     "output_type": "execute_result"
    }
   ],
   "source": [
    "# Shuffle training dataframe\n",
    "train_df_shuffled = train_df.sample(frac = 1, random_state = 1)\n",
    "train_df_shuffled.head()"
   ],
   "metadata": {
    "collapsed": false,
    "ExecuteTime": {
     "end_time": "2023-07-30T15:12:53.343487800Z",
     "start_time": "2023-07-30T15:12:53.336241200Z"
    }
   },
   "id": "ffa95adda1afec99"
  },
  {
   "cell_type": "code",
   "execution_count": 6,
   "outputs": [
    {
     "data": {
      "text/plain": "(7613, 5)"
     },
     "execution_count": 6,
     "metadata": {},
     "output_type": "execute_result"
    }
   ],
   "source": [
    "train_df_shuffled.shape"
   ],
   "metadata": {
    "collapsed": false,
    "ExecuteTime": {
     "end_time": "2023-07-30T15:12:53.345953900Z",
     "start_time": "2023-07-30T15:12:53.343487800Z"
    }
   },
   "id": "66e71f2c2322a35c"
  },
  {
   "cell_type": "code",
   "execution_count": 7,
   "outputs": [
    {
     "data": {
      "text/plain": "target\n0    4342\n1    3271\nName: count, dtype: int64"
     },
     "execution_count": 7,
     "metadata": {},
     "output_type": "execute_result"
    }
   ],
   "source": [
    "# How many examples of each class?\n",
    "train_df['target'].value_counts()"
   ],
   "metadata": {
    "collapsed": false,
    "ExecuteTime": {
     "end_time": "2023-07-30T15:12:53.355037600Z",
     "start_time": "2023-07-30T15:12:53.345953900Z"
    }
   },
   "id": "e8f13f3fbc904937"
  },
  {
   "cell_type": "code",
   "execution_count": 8,
   "outputs": [
    {
     "data": {
      "text/plain": "(7613, 3263)"
     },
     "execution_count": 8,
     "metadata": {},
     "output_type": "execute_result"
    }
   ],
   "source": [
    "# How many total samples?\n",
    "len(train_df), len(test_df)"
   ],
   "metadata": {
    "collapsed": false,
    "ExecuteTime": {
     "end_time": "2023-07-30T15:12:53.355037600Z",
     "start_time": "2023-07-30T15:12:53.351329300Z"
    }
   },
   "id": "6a3f06f716aed950"
  },
  {
   "cell_type": "code",
   "execution_count": 9,
   "outputs": [
    {
     "name": "stdout",
     "output_type": "stream",
     "text": [
      "Target:0 (not a real disaster)\n",
      "Text: \n",
      "It's been raining since you left me\n",
      "Now I'm drowning in the flood\n",
      "You see I've always been a fighter\n",
      "But without you I give up\n",
      "-----\n",
      "\n",
      "Target:0 (not a real disaster)\n",
      "Text: \n",
      "Quality Metrics Penalties May Harm Patient Care PCPs Say: Primary care physicians generally hold positive vi... http://t.co/TdwprVB04y\n",
      "-----\n",
      "\n",
      "Target:0 (not a real disaster)\n",
      "Text: \n",
      "China is only delaying the deluge: If the fundamentals of an economy do not support the valuations of a stock ... http://t.co/fwIkyUrC18\n",
      "-----\n",
      "\n",
      "Target:1 (real disaster)\n",
      "Text: \n",
      "RÌ©union Debris Is Almost Surely From Flight 370 Officials Say - New York Times http://t.co/gyQLAOz3l2\n",
      "-----\n",
      "\n",
      "Target:0 (not a real disaster)\n",
      "Text: \n",
      "@ryanoss123 No worries you'd have to be on every hitters most pitchers got destroyed\n",
      "-----\n"
     ]
    }
   ],
   "source": [
    "# Visualize some random training examples\n",
    "import random\n",
    "random_index = random.randint(0, len(train_df)-5)\n",
    "for row in train_df_shuffled[[\"text\", \"target\"]][random_index: random_index +5].itertuples():\n",
    "    _, text, target = row\n",
    "    if target > 0:\n",
    "        print(f\"Target:{target}\", \"(real disaster)\")\n",
    "    else:\n",
    "        print(f\"Target:{target}\", \"(not a real disaster)\")\n",
    "    \n",
    "    print(f\"Text: \\n{text}\")\n",
    "    print(\"-----\\n\")"
   ],
   "metadata": {
    "collapsed": false,
    "ExecuteTime": {
     "end_time": "2023-07-30T15:12:53.401517900Z",
     "start_time": "2023-07-30T15:12:53.356037700Z"
    }
   },
   "id": "99ad01fd617f2fad"
  },
  {
   "cell_type": "markdown",
   "source": [
    "### Split data into training and validation sets"
   ],
   "metadata": {
    "collapsed": false,
    "ExecuteTime": {
     "end_time": "2023-07-30T14:53:04.638447500Z",
     "start_time": "2023-07-30T14:53:04.372889200Z"
    }
   },
   "id": "cc004f467eb6820b"
  },
  {
   "cell_type": "code",
   "execution_count": 10,
   "outputs": [],
   "source": [
    "from sklearn.model_selection import train_test_split\n",
    "\n",
    "train_sentences, val_sentences, train_labels, val_labels = train_test_split(train_df['text'],\n",
    "                                                                            train_df['target'],\n",
    "                                                                            test_size = 0.1,\n",
    "                                                                            random_state = 42)"
   ],
   "metadata": {
    "collapsed": false,
    "ExecuteTime": {
     "end_time": "2023-07-30T15:12:53.644410300Z",
     "start_time": "2023-07-30T15:12:53.361510300Z"
    }
   },
   "id": "e9962e431d6f4625"
  },
  {
   "cell_type": "code",
   "execution_count": 11,
   "outputs": [
    {
     "data": {
      "text/plain": "(7613,)"
     },
     "execution_count": 11,
     "metadata": {},
     "output_type": "execute_result"
    }
   ],
   "source": [
    "train_df['text'].shape"
   ],
   "metadata": {
    "collapsed": false,
    "ExecuteTime": {
     "end_time": "2023-07-30T15:12:53.655331400Z",
     "start_time": "2023-07-30T15:12:53.645410400Z"
    }
   },
   "id": "2044aeeaed5209d8"
  },
  {
   "cell_type": "code",
   "execution_count": 12,
   "outputs": [
    {
     "data": {
      "text/plain": "0       Our Deeds are the Reason of this #earthquake M...\n1                  Forest fire near La Ronge Sask. Canada\n2       All residents asked to 'shelter in place' are ...\n3       13,000 people receive #wildfires evacuation or...\n4       Just got sent this photo from Ruby #Alaska as ...\n                              ...                        \n7608    Two giant cranes holding a bridge collapse int...\n7609    @aria_ahrary @TheTawniest The out of control w...\n7610    M1.94 [01:04 UTC]?5km S of Volcano Hawaii. htt...\n7611    Police investigating after an e-bike collided ...\n7612    The Latest: More Homes Razed by Northern Calif...\nName: text, Length: 7613, dtype: object"
     },
     "execution_count": 12,
     "metadata": {},
     "output_type": "execute_result"
    }
   ],
   "source": [
    "train_df[\"text\"]"
   ],
   "metadata": {
    "collapsed": false,
    "ExecuteTime": {
     "end_time": "2023-07-30T15:12:53.655331400Z",
     "start_time": "2023-07-30T15:12:53.648120700Z"
    }
   },
   "id": "aecfc9a6831f9cee"
  },
  {
   "cell_type": "code",
   "execution_count": 13,
   "outputs": [
    {
     "data": {
      "text/plain": "array(['Our Deeds are the Reason of this #earthquake May ALLAH Forgive us all',\n       'Forest fire near La Ronge Sask. Canada',\n       \"All residents asked to 'shelter in place' are being notified by officers. No other evacuation or shelter in place orders are expected\",\n       ...,\n       'M1.94 [01:04 UTC]?5km S of Volcano Hawaii. http://t.co/zDtoyd8EbJ',\n       'Police investigating after an e-bike collided with a car in Little Portugal. E-bike rider suffered serious non-life threatening injuries.',\n       'The Latest: More Homes Razed by Northern California Wildfire - ABC News http://t.co/YmY4rSkQ3d'],\n      dtype=object)"
     },
     "execution_count": 13,
     "metadata": {},
     "output_type": "execute_result"
    }
   ],
   "source": [
    "train_df['text'].to_numpy()"
   ],
   "metadata": {
    "collapsed": false,
    "ExecuteTime": {
     "end_time": "2023-07-30T15:12:53.660314500Z",
     "start_time": "2023-07-30T15:12:53.653710300Z"
    }
   },
   "id": "4cdc72f6e817f834"
  },
  {
   "cell_type": "code",
   "execution_count": 14,
   "outputs": [
    {
     "data": {
      "text/plain": "array(['Our Deeds are the Reason of this #earthquake May ALLAH Forgive us all',\n       'Forest fire near La Ronge Sask. Canada',\n       \"All residents asked to 'shelter in place' are being notified by officers. No other evacuation or shelter in place orders are expected\",\n       ...,\n       'M1.94 [01:04 UTC]?5km S of Volcano Hawaii. http://t.co/zDtoyd8EbJ',\n       'Police investigating after an e-bike collided with a car in Little Portugal. E-bike rider suffered serious non-life threatening injuries.',\n       'The Latest: More Homes Razed by Northern California Wildfire - ABC News http://t.co/YmY4rSkQ3d'],\n      dtype=object)"
     },
     "execution_count": 14,
     "metadata": {},
     "output_type": "execute_result"
    }
   ],
   "source": [
    "train_df['text'].to_numpy()"
   ],
   "metadata": {
    "collapsed": false,
    "ExecuteTime": {
     "end_time": "2023-07-30T15:12:53.662823200Z",
     "start_time": "2023-07-30T15:12:53.659335800Z"
    }
   },
   "id": "ec43b6635db1dc03"
  },
  {
   "cell_type": "code",
   "execution_count": 15,
   "outputs": [
    {
     "data": {
      "text/plain": "(6851, 762, 6851, 762)"
     },
     "execution_count": 15,
     "metadata": {},
     "output_type": "execute_result"
    }
   ],
   "source": [
    "len(train_sentences), len(val_sentences), len(train_labels), len(val_labels)"
   ],
   "metadata": {
    "collapsed": false,
    "ExecuteTime": {
     "end_time": "2023-07-30T15:12:53.672553400Z",
     "start_time": "2023-07-30T15:12:53.661823Z"
    }
   },
   "id": "c4b936bb4e61352a"
  },
  {
   "cell_type": "markdown",
   "source": [
    "### Converting text into numbers: Text Vectorization also known as Tokenization"
   ],
   "metadata": {
    "collapsed": false,
    "ExecuteTime": {
     "end_time": "2023-07-30T14:53:04.671406900Z",
     "start_time": "2023-07-30T14:53:04.663597700Z"
    }
   },
   "id": "5777dedf87f2662b"
  },
  {
   "cell_type": "code",
   "execution_count": 16,
   "outputs": [
    {
     "data": {
      "text/plain": "101905"
     },
     "execution_count": 16,
     "metadata": {},
     "output_type": "execute_result"
    }
   ],
   "source": [
    "# Get the total words\n",
    "total_words = 0\n",
    "for i in train_sentences:\n",
    "    total_words += len(i.split())\n",
    "\n",
    "total_words"
   ],
   "metadata": {
    "collapsed": false,
    "ExecuteTime": {
     "end_time": "2023-07-30T15:12:53.720576900Z",
     "start_time": "2023-07-30T15:12:53.670641700Z"
    }
   },
   "id": "618457c173977155"
  },
  {
   "cell_type": "code",
   "execution_count": 17,
   "outputs": [
    {
     "data": {
      "text/plain": "(6851,)"
     },
     "execution_count": 17,
     "metadata": {},
     "output_type": "execute_result"
    }
   ],
   "source": [
    "train_sentences.shape"
   ],
   "metadata": {
    "collapsed": false,
    "ExecuteTime": {
     "end_time": "2023-07-30T15:12:53.721576700Z",
     "start_time": "2023-07-30T15:12:53.674560300Z"
    }
   },
   "id": "829d84b65c26bb92"
  },
  {
   "cell_type": "code",
   "execution_count": 18,
   "outputs": [
    {
     "data": {
      "text/plain": "15"
     },
     "execution_count": 18,
     "metadata": {},
     "output_type": "execute_result"
    }
   ],
   "source": [
    "# Get the average words per sentence or line\n",
    "avg_words_per_sentence = round(total_words/len(train_sentences))\n",
    "avg_words_per_sentence"
   ],
   "metadata": {
    "collapsed": false,
    "ExecuteTime": {
     "end_time": "2023-07-30T15:12:53.721576700Z",
     "start_time": "2023-07-30T15:12:53.678204700Z"
    }
   },
   "id": "a7a8bed44aec85d5"
  },
  {
   "cell_type": "code",
   "execution_count": 19,
   "outputs": [],
   "source": [
    "# Normally, total number of words is equal or less than the max vocabulary length\n",
    "max_vocab_length = 10000\n",
    "\n",
    "# max length of a statement is equal or more than the average word per sentence or line\n",
    "max_length = 15"
   ],
   "metadata": {
    "collapsed": false,
    "ExecuteTime": {
     "end_time": "2023-07-30T15:12:53.722576300Z",
     "start_time": "2023-07-30T15:12:53.681783500Z"
    }
   },
   "id": "92ebee1bf68d8486"
  },
  {
   "cell_type": "code",
   "execution_count": 20,
   "outputs": [],
   "source": [
    "import tensorflow as tf\n",
    "from tensorflow.keras.layers.experimental.preprocessing import TextVectorization\n",
    "\n",
    "text_vectorizer = TextVectorization(max_tokens = max_vocab_length,\n",
    "                                    output_mode = \"int\",\n",
    "                                    output_sequence_length = max_length)\n",
    "\n",
    "# Fit the text vectorizer to the training set\n",
    "text_vectorizer.adapt(train_sentences)"
   ],
   "metadata": {
    "collapsed": false,
    "ExecuteTime": {
     "end_time": "2023-07-30T15:12:53.947709300Z",
     "start_time": "2023-07-30T15:12:53.686061100Z"
    }
   },
   "id": "8805b068faa29b89"
  },
  {
   "cell_type": "code",
   "execution_count": 21,
   "outputs": [
    {
     "name": "stdout",
     "output_type": "stream",
     "text": [
      "There's a flood in my street! Sentence length is 29.\n"
     ]
    },
    {
     "data": {
      "text/plain": "<tf.Tensor: shape=(1, 15), dtype=int64, numpy=\narray([[282,   3, 206,   4,  13, 674,   0,   0,   0,   0,   0,   0,   0,\n          0,   0]], dtype=int64)>"
     },
     "execution_count": 21,
     "metadata": {},
     "output_type": "execute_result"
    }
   ],
   "source": [
    "# Create a sample sentence and tokenize it\n",
    "samp_sentence = \"There's a flood in my street!\"\n",
    "print(samp_sentence, f\"Sentence length is {len(samp_sentence)}.\")\n",
    "text_vectorizer([samp_sentence])\n",
    "#len(tf.squeeze(text_vectorizer([samp_sentence])))"
   ],
   "metadata": {
    "collapsed": false,
    "ExecuteTime": {
     "end_time": "2023-07-30T15:12:53.971439700Z",
     "start_time": "2023-07-30T15:12:53.948709300Z"
    }
   },
   "id": "111d45283fbfd4ae"
  },
  {
   "cell_type": "code",
   "execution_count": 22,
   "outputs": [
    {
     "name": "stdout",
     "output_type": "stream",
     "text": [
      "Original text: \n",
      "\n",
      " After the green line derailment my concern for track that looks like this goes up a bit... @cta @CTAFails http://t.co/1uDz0NVOEH \n",
      "\n",
      "Vectorized text:\n"
     ]
    },
    {
     "data": {
      "text/plain": "<tf.Tensor: shape=(1, 15), dtype=int64, numpy=\narray([[  38,    2, 1126,  624,  364,   13, 3084,   10, 1951,   16,  288,\n          25,   19,  519,   29]], dtype=int64)>"
     },
     "execution_count": 22,
     "metadata": {},
     "output_type": "execute_result"
    }
   ],
   "source": [
    "# Choose random sentence from the training dataset and tokenize it\n",
    "rand_train_sentence = random.choice(train_sentences)\n",
    "print(f\"Original text: \\n\\n {rand_train_sentence} \\n\\nVectorized text:\")\n",
    "text_vectorizer([rand_train_sentence])"
   ],
   "metadata": {
    "collapsed": false,
    "ExecuteTime": {
     "end_time": "2023-07-30T15:12:54.023842300Z",
     "start_time": "2023-07-30T15:12:53.972440700Z"
    }
   },
   "id": "4f30ca7e95b2b5e5"
  },
  {
   "cell_type": "code",
   "execution_count": 23,
   "outputs": [
    {
     "data": {
      "text/plain": "['',\n '[UNK]',\n 'the',\n 'a',\n 'in',\n 'to',\n 'of',\n 'and',\n 'i',\n 'is',\n 'for',\n 'on',\n 'you',\n 'my',\n 'with',\n 'it',\n 'that',\n 'at',\n 'by',\n 'this',\n 'from',\n 'are',\n 'be',\n 'was',\n 'have',\n 'like',\n 'as',\n 'me',\n 'but',\n 'up',\n 'just',\n 'so',\n 'im',\n 'not',\n 'amp',\n 'your',\n 'out',\n 'all',\n 'after',\n 'its',\n 'has',\n 'no',\n 'will',\n 'an',\n 'fire',\n 'when',\n 'if',\n 'we',\n 'get',\n 'now',\n 'more',\n 'via',\n 'new',\n 'about',\n 'what',\n 'people',\n 'or',\n 'news',\n 'he',\n 'they',\n 'over',\n 'one',\n 'been',\n 'how',\n 'dont',\n 'who',\n 'video',\n 'into',\n 'were',\n 'do',\n 'us',\n 'can',\n 'emergency',\n '2',\n 'disaster',\n 'there',\n 'her',\n 'some',\n 'than',\n 'still',\n 'would',\n 'his',\n 'police',\n 'crash',\n 'burning',\n 'suicide',\n 'body',\n 'california',\n 'back',\n 'time',\n 'buildings',\n 'had',\n 'why',\n 'off',\n 'them',\n 'got',\n 'man',\n 'see',\n 'storm',\n 'know',\n 'going',\n 'cant',\n 'world',\n 'first',\n 'day',\n 'rt',\n 'nuclear',\n 'love',\n 'youtube',\n 'our',\n 'attack',\n 'go',\n 'fires',\n 'two',\n 'their',\n 'bomb',\n 'killed',\n '3',\n 'train',\n 'dead',\n 'car',\n 'war',\n 'life',\n 'may',\n 'watch',\n 'full',\n 'only',\n 'here',\n 'hiroshima',\n 'down',\n 'today',\n 'u',\n 'accident',\n 'think',\n 'many',\n 'good',\n 'way',\n 'families',\n 'too',\n 'then',\n 'say',\n 'being',\n 'last',\n 'could',\n 'years',\n 'want',\n 'did',\n 'home',\n 'best',\n 'should',\n 'need',\n 'mass',\n 'even',\n 'work',\n 'make',\n 'help',\n 'bombing',\n 'wildfire',\n 'please',\n 'look',\n 'lol',\n 'because',\n 'another',\n 'take',\n 'him',\n 'collapse',\n 'year',\n 'water',\n 'those',\n 'really',\n 'army',\n 'am',\n 'school',\n 'mh370',\n 'death',\n 'right',\n 'pm',\n 'black',\n 'much',\n 'forest',\n 'fatal',\n '5',\n 'youre',\n 'she',\n 'northern',\n '4',\n 'live',\n 'city',\n 'bomber',\n 'wreck',\n 'hot',\n 'great',\n 'every',\n '2015',\n 'old',\n 'let',\n 'legionnaires',\n 'fear',\n 'obama',\n 'latest',\n 'homes',\n 'flames',\n 'come',\n '1',\n 'never',\n 'getting',\n 'flood',\n '\\x89Û',\n 'where',\n 'said',\n 'japan',\n 'shit',\n 'floods',\n 'during',\n 'atomic',\n 'god',\n 'damage',\n 'under',\n 'near',\n 'feel',\n 'ever',\n 'earthquake',\n 'ass',\n 'which',\n 'since',\n 'read',\n 'oil',\n 'night',\n 'most',\n 'military',\n 'injured',\n 'hope',\n 'everyone',\n 'coming',\n 'any',\n 'without',\n 'while',\n 'well',\n 'thats',\n 'stop',\n 'next',\n 'hit',\n 'weather',\n 'these',\n 'state',\n 'little',\n 'flooding',\n 'evacuation',\n 'before',\n 'truck',\n 'severe',\n 's',\n 'content',\n 'always',\n 'until',\n 'top',\n 'through',\n 'smoke',\n 'plan',\n 'found',\n 'confirmed',\n 'cause',\n 'movie',\n 'fucking',\n 'face',\n 'debris',\n 'bloody',\n 'bad',\n 'weapon',\n 'warning',\n 'times',\n 'thunderstorm',\n 'set',\n 'says',\n 'natural',\n 'malaysia',\n 'liked',\n 'ive',\n 'gonna',\n 'free',\n 'fall',\n 'thunder',\n 'theres',\n 'sinking',\n 'saudi',\n 'refugees',\n 'made',\n 'loud',\n 'looks',\n 'injuries',\n 'house',\n 'hes',\n 'heat',\n 'cross',\n 'also',\n 'air',\n 'w',\n 'screaming',\n 'rain',\n 'murder',\n 'head',\n 'failure',\n 'explode',\n 'check',\n 'wreckage',\n 'wind',\n 'wild',\n 'trapped',\n 'survive',\n 'spill',\n 'reddit',\n 'panic',\n 'missing',\n 'lightning',\n 'family',\n 'change',\n 'whole',\n 'weapons',\n 'terrorist',\n 'service',\n 'run',\n 'rescuers',\n 'report',\n 'released',\n 'photo',\n 'outbreak',\n 'ill',\n 'food',\n 'evacuate',\n 'end',\n 'destroyed',\n 'deaths',\n 'boy',\n 'again',\n '70',\n 'terrorism',\n 'sinkhole',\n 'services',\n 'save',\n 'road',\n 'rescue',\n 'migrants',\n 'keep',\n 'high',\n 'harm',\n 'danger',\n 'county',\n 'collided',\n 'blood',\n 'big',\n 'bags',\n 'twister',\n 'trauma',\n 'tonight',\n 'summer',\n 'ruin',\n 'mosque',\n 'lives',\n 'least',\n 'hail',\n 'girl',\n 'fuck',\n 'fatalities',\n 'does',\n 'derailment',\n 'curfew',\n 'collapsed',\n 'charged',\n 'call',\n 'burned',\n 'breaking',\n 'boat',\n 'bag',\n 'attacked',\n 'ambulance',\n 'wrecked',\n 'wounded',\n 'white',\n 'week',\n 'update',\n 'things',\n 'structural',\n 'stock',\n 'someone',\n 'show',\n 'rioting',\n 'real',\n 'phone',\n 'mudslide',\n 'landslide',\n 'investigators',\n 'explosion',\n 'engulfed',\n 'displaced',\n 'devastation',\n 'destroy',\n 'deluge',\n 'crashed',\n 'catastrophe',\n 'bus',\n 'battle',\n 'away',\n 'area',\n 'apocalypse',\n 'whirlwind',\n 'survivors',\n 'survived',\n 'sunk',\n 'saw',\n 'sandstorm',\n 'post',\n 'other',\n 'massacre',\n 'island',\n 'injury',\n 'id',\n 'hundreds',\n 'hostages',\n 'horrible',\n 'hazardous',\n 'hazard',\n 'game',\n 'exploded',\n 'drought',\n 'bridge',\n 'bang',\n '40',\n 'windstorm',\n 'went',\n 'wave',\n 'soon',\n 'rescued',\n 'quarantined',\n 'national',\n 'market',\n 'kills',\n 'hurricane',\n 'heard',\n 'drowning',\n 'drown',\n 'detonate',\n 'destruction',\n 'derail',\n 'cliff',\n 'bombed',\n 'blown',\n 'around',\n 'airplane',\n '6',\n '\\x89ÛÒ',\n 'wounds',\n 'woman',\n 'trouble',\n 'traumatised',\n 'tragedy',\n 'thing',\n 'story',\n 'screams',\n 'put',\n 'past',\n 'ok',\n 'iran',\n 'inundated',\n 'group',\n 'flattened',\n 'fedex',\n 'caused',\n 'came',\n 'better',\n 'august',\n 'armageddon',\n 'anniversary',\n '15',\n 'women',\n 'wanna',\n 'violent',\n 'typhoon',\n 'tsunami',\n 'thank',\n 'security',\n 'razed',\n 'possible',\n 'meltdown',\n 'lot',\n 'isis',\n 'hostage',\n 'famine',\n 'electrocuted',\n 'ebay',\n 'dust',\n 'crush',\n 'collide',\n 'chemical',\n 'blew',\n 'bleeding',\n 'bioterror',\n 'against',\n 'zone',\n 'whats',\n 'use',\n 'twitter',\n 'tomorrow',\n 'sure',\n 'something',\n 'send',\n 'quarantine',\n 'plane',\n 'pkk',\n 'part',\n 'panicking',\n 'pandemonium',\n 'oh',\n 'must',\n 'longer',\n 'long',\n 'left',\n 'hijacker',\n 'heart',\n 'government',\n 'goes',\n 'due',\n 'didnt',\n 'detonated',\n 'desolation',\n 'collision',\n 'catastrophic',\n 'casualties',\n 'calgary',\n 'building',\n 'beautiful',\n 'bagging',\n 'affected',\n 'yet',\n 'volcano',\n 'very',\n 'thanks',\n 'st',\n 'screamed',\n 'river',\n 'riot',\n 'reunion',\n 'responders',\n 'red',\n 'obliteration',\n 'obliterated',\n 'nothing',\n 'music',\n 'minute',\n 'lava',\n 'land',\n 'hijacking',\n 'fatality',\n 'fan',\n 'drowned',\n 'detonation',\n 'demolish',\n 'cool',\n 'blast',\n 'believe',\n 'baby',\n 'used',\n 'ur',\n 'three',\n 'thought',\n 'sound',\n 'song',\n 'site',\n 'sirens',\n 'shoulder',\n 'seismic',\n 'same',\n 'prebreak',\n 'power',\n 'officials',\n 'obliterate',\n 'few',\n 'eyewitness',\n 'died',\n 'demolished',\n 'care',\n 'arson',\n 'airport',\n '9',\n 'turkey',\n 'traffic',\n 'such',\n 'stay',\n 'start',\n 'snowstorm',\n 'shooting',\n 'rubble',\n 'remember',\n 'rainstorm',\n 'murderer',\n 'media',\n 'making',\n 'kids',\n 'issues',\n 'israeli',\n 'india',\n 'having',\n 'far',\n 'evacuated',\n 'electrocute',\n 'doing',\n 'doesnt',\n 'derailed',\n 'demolition',\n 'crushed',\n 'brown',\n 'blazing',\n 'annihilated',\n '8',\n '7',\n '16yr',\n 'yes',\n 'wake',\n 'suspect',\n 'south',\n 'shot',\n 'reactor',\n 'policy',\n 'nowplaying',\n 'nearby',\n 'line',\n 'light',\n 'lets',\n 'leave',\n 'inside',\n 'horror',\n 'hijack',\n 'hell',\n 'health',\n 'gets',\n 'casualty',\n 'bc',\n 'already',\n 'actually',\n 'words',\n 'upheaval',\n 'trying',\n 'tornado',\n 'tell',\n 'sue',\n 'stretcher',\n 'second',\n 're\\x89Û',\n 'plans',\n 'pic',\n 'mp',\n 'men',\n 'maybe',\n 'low',\n 'lab',\n 'islam',\n 'hours',\n 'history',\n 'half',\n 'guys',\n 'fun',\n 'fight',\n 'done',\n 'deluged',\n 'declares',\n 'days',\n 'bodies',\n 'bestnaijamade',\n 'anything',\n 'almost',\n '20',\n '\\x89ÛÓ',\n 'wont',\n 'swallowed',\n 'support',\n 'street',\n 'searching',\n 'reuters',\n 'play',\n 'place',\n 'photos',\n 'person',\n 'peace',\n 'online',\n 'north',\n 'literally',\n 'hey',\n 'helicopter',\n 'find',\n 'cyclone',\n 'crews',\n 'business',\n 'bush',\n 'both',\n 'bioterrorism',\n 'bar',\n 'avalanche',\n 'aircraft',\n 'abc',\n '50',\n 'yeah',\n 'west',\n 'wait',\n 'typhoondevastated',\n 'theyre',\n 'siren',\n 'saipan',\n 'pick',\n 'name',\n 'money',\n 'la',\n 'kill',\n 'job',\n 'hellfire',\n 'hear',\n 'happy',\n 'eyes',\n 'die',\n 'data',\n 'conclusively',\n 'children',\n 'blight',\n 'blaze',\n 'ago',\n 'waves',\n 'trench',\n 'texas',\n 'team',\n 'space',\n 'projected',\n 'probably',\n 'picking',\n 'own',\n 'order',\n 'myself',\n 'memories',\n 'major',\n 'm',\n 'lost',\n 'jobs',\n 'hollywood',\n 'feared',\n 'effect',\n 'deal',\n 'd',\n 'center',\n 'case',\n 'book',\n 'bigger',\n 'anyone',\n 'american',\n 'ablaze',\n '12',\n '10',\n 'yourself',\n 'watching',\n 'tv',\n 'transport',\n 'town',\n 'spot',\n 'soudelor',\n 'ship',\n 'seen',\n 'saved',\n 'pretty',\n 'outside',\n 'officer',\n 'mom',\n 'miners',\n 'meek',\n 'leather',\n 'houses',\n 'hat',\n 'hard',\n 'flag',\n 'everything',\n 'daily',\n 'child',\n 'chance',\n 'called',\n 'banned',\n 'ball',\n 'annihilation',\n 'amid',\n '30',\n 'wow',\n 'trains',\n 'though',\n 'star',\n 'signs',\n 'side',\n 'shes',\n 'self',\n 'rise',\n 'refugio',\n 'rd',\n 'poor',\n 'once',\n 'okay',\n 'n',\n 'move',\n 'might',\n 'manslaughter',\n 'makes',\n 'hailstorm',\n 'gbbo',\n 'friends',\n 'flash',\n 'fast',\n 'emmerdale',\n 'east',\n 'desolate',\n 'damn',\n 'crisis',\n 'crazy',\n 'course',\n 'couple',\n 'country',\n 'costlier',\n 'centre',\n 'caught',\n 'cake',\n 'blizzard',\n 'become',\n 'angry',\n 'alone',\n 'youth',\n 'wrong',\n 'win',\n 'vs',\n 'virgin',\n 'truth',\n 'temple',\n 'sorry',\n 'reports',\n 'reason',\n 'playing',\n 'pain',\n 'omg',\n 'official',\n 'myanmar',\n 'mayhem',\n 'looking',\n 'listen',\n 'level',\n 'ladies',\n 'knock',\n 'isnt',\n 'ignition',\n 'huge',\n 'heavy',\n 'hate',\n 'guy',\n 'gun',\n 'global',\n 'finally',\n 'feeling',\n 'eye',\n 'downtown',\n 'control',\n 'computers',\n 'closed',\n 'class',\n 'beach',\n 'bbc',\n 'b',\n 'appears',\n 'across',\n '60',\n '13',\n '11yearold',\n 'yours',\n 'womens',\n 'wanted',\n 'view',\n 'usa',\n 'united',\n 'try',\n 'totally',\n 'toddler',\n 'till',\n 'thousands',\n 'takes',\n 'taken',\n 't',\n 'stand',\n 'russian',\n 'running',\n 'reddits',\n 'quiz',\n 'pay',\n 'pakistan',\n 'others',\n 'mop',\n 'marks',\n 'mad',\n 'link',\n 'libya',\n 'issued',\n 'instead',\n 'happened',\n 'gt',\n 'giant',\n 'gems',\n 'gave',\n 'front',\n 'follow',\n 'film',\n 'experts',\n 'else',\n 'drive',\n 'devastated',\n 'declaration',\n 'coaches',\n 'cnn',\n 'christian',\n 'anthrax',\n 'aftershock',\n '11',\n 'worst',\n 'working',\n 'village',\n 'vehicle',\n 'unconfirmed',\n 'thursday',\n 'talk',\n 'subreddits',\n 'sounds',\n 'shows',\n 'scared',\n 'ready',\n 'potus',\n 'park',\n 'niggas',\n 'neighbours',\n 'nagasaki',\n 'mount',\n 'miss',\n 'mishaps',\n 'lord',\n 'led',\n 'learn',\n 'large',\n 'landing',\n 'israel',\n 'haha',\n 'gop',\n 'germs',\n 'galactic',\n 'fukushima',\n 'following',\n 'favorite',\n 'escape',\n 'entire',\n 'ebola',\n 'driving',\n 'download',\n 'climate',\n 'chinas',\n 'china',\n 'cars',\n 'behind',\n 'aug',\n 'arsonist',\n 'aint',\n 'added',\n 'action',\n '25',\n '100',\n '05',\n 'wonder',\n 'tweet',\n 'turn',\n 'trust',\n 'tree',\n 'told',\n 'sign',\n 'safety',\n 'russia',\n 'rules',\n 'rock',\n 'reported',\n 'radio',\n 'r',\n 'pray',\n 'pradesh',\n 'ppl',\n 'point',\n 'patience',\n 'party',\n 'parole',\n 'pamela',\n 'pakistani',\n 'outrage',\n 'offensive',\n 'nws',\n 'needs',\n 'nearly',\n 'muslims',\n 'morning',\n 'moment',\n ...]"
     },
     "execution_count": 23,
     "metadata": {},
     "output_type": "execute_result"
    }
   ],
   "source": [
    "# Get unique words in the vocabulary\n",
    "words_in_vocab = text_vectorizer.get_vocabulary()\n",
    "words_in_vocab"
   ],
   "metadata": {
    "collapsed": false,
    "ExecuteTime": {
     "end_time": "2023-07-30T15:12:54.024844200Z",
     "start_time": "2023-07-30T15:12:53.979611100Z"
    }
   },
   "id": "a9796849d92692a"
  },
  {
   "cell_type": "code",
   "execution_count": 24,
   "outputs": [
    {
     "data": {
      "text/plain": "10000"
     },
     "execution_count": 24,
     "metadata": {},
     "output_type": "execute_result"
    }
   ],
   "source": [
    "len(words_in_vocab)"
   ],
   "metadata": {
    "collapsed": false,
    "ExecuteTime": {
     "end_time": "2023-07-30T15:12:54.024844200Z",
     "start_time": "2023-07-30T15:12:53.997014800Z"
    }
   },
   "id": "1fc1d49d18c2f968"
  },
  {
   "cell_type": "code",
   "execution_count": 25,
   "outputs": [
    {
     "data": {
      "text/plain": "['', '[UNK]', 'the', 'a', 'in']"
     },
     "execution_count": 25,
     "metadata": {},
     "output_type": "execute_result"
    }
   ],
   "source": [
    "# Top 5 words in words_in_vocab\n",
    "words_in_vocab[:5]"
   ],
   "metadata": {
    "collapsed": false,
    "ExecuteTime": {
     "end_time": "2023-07-30T15:12:54.024844200Z",
     "start_time": "2023-07-30T15:12:54.000445500Z"
    }
   },
   "id": "60913b2c06167547"
  },
  {
   "cell_type": "code",
   "execution_count": 26,
   "outputs": [
    {
     "data": {
      "text/plain": "['pakthey', 'pakistan\\x89Ûªs', 'pakistans', 'pajamas', 'paints']"
     },
     "execution_count": 26,
     "metadata": {},
     "output_type": "execute_result"
    }
   ],
   "source": [
    "# Least 5 words in words_in_vocab\n",
    "words_in_vocab[-5:]"
   ],
   "metadata": {
    "collapsed": false,
    "ExecuteTime": {
     "end_time": "2023-07-30T15:12:54.025844Z",
     "start_time": "2023-07-30T15:12:54.003678200Z"
    }
   },
   "id": "4b66d97a81a1ab9b"
  },
  {
   "cell_type": "markdown",
   "source": [
    "### Embedding layer\n",
    "\n",
    "To make our embedding, we are going to use TensorFlow’s embedding layer: https://www.tensorflow.org/api/docs/python/tf/keras/layers/\n",
    "\n",
    "The parameters are below mostly used.\n",
    "* input_dim = size of the vocabulary\n",
    "* output_dim = size of the output embedding vector.  For example, a value of 100 would mean each token gets represented by a vector 100 long\n",
    "* input_length = length of the sequences being passed to the embedding layer"
   ],
   "metadata": {
    "collapsed": false,
    "ExecuteTime": {
     "end_time": "2023-07-30T14:53:04.983475Z",
     "start_time": "2023-07-30T14:53:04.975963300Z"
    }
   },
   "id": "4d47ece46e5b3070"
  },
  {
   "cell_type": "code",
   "execution_count": 27,
   "outputs": [],
   "source": [
    "from tensorflow.keras import layers\n",
    "\n",
    "embedding = layers.Embedding(input_dim = max_vocab_length,\n",
    "                             output_dim = 64,\n",
    "                             embeddings_initializer = \"uniform\",\n",
    "                             input_length = max_length)"
   ],
   "metadata": {
    "collapsed": false,
    "ExecuteTime": {
     "end_time": "2023-07-30T15:12:54.025844Z",
     "start_time": "2023-07-30T15:12:54.008823Z"
    }
   },
   "id": "55b4d3e382cb85d7"
  },
  {
   "cell_type": "code",
   "execution_count": 28,
   "outputs": [
    {
     "name": "stdout",
     "output_type": "stream",
     "text": [
      "Original text: @spinningbot Are you another Stand-user? If you are I will have to detonate you with my Killer Queen.\n",
      "\n",
      "Vectorized text: [[3382   21   12  162 1977   46   12   21    8   42   24    5  440   12\n",
      "    14]]\n",
      "\n",
      "Vectorized text shape: (1, 15)\n",
      "Embbedded text: [[[ 2.65137888e-02 -1.56797171e-02 -4.10049669e-02 -3.66419926e-02\n",
      "   -3.48515622e-02 -3.02727949e-02  1.19347349e-02  3.15733440e-02\n",
      "   -8.41468573e-03  4.84174378e-02  2.58437507e-02  1.05426423e-02\n",
      "    4.93105538e-02 -6.10452890e-03 -8.53536278e-03 -2.54497770e-02\n",
      "   -1.73393600e-02 -4.81537357e-02 -4.23475392e-02 -2.39766482e-02\n",
      "    4.76606935e-03 -2.75098328e-02  2.03125142e-02  3.97751480e-03\n",
      "   -1.06533654e-02 -2.02704221e-04  3.46028097e-02 -1.19080544e-02\n",
      "    1.81269981e-02  2.11239196e-02 -1.06723532e-02 -3.89666669e-02\n",
      "    2.41673626e-02  4.12966646e-02 -5.45893982e-03  1.22954957e-02\n",
      "    1.87972225e-02 -2.76230108e-02  3.95550989e-02 -1.30771771e-02\n",
      "    4.26854976e-02 -4.70588803e-02  3.74016203e-02 -3.30164917e-02\n",
      "   -4.28955816e-02  4.37054299e-02 -2.05185413e-02 -4.56457399e-02\n",
      "   -3.19962278e-02 -4.21295539e-02  3.00246961e-02  1.98519714e-02\n",
      "   -1.71357282e-02 -3.31550837e-06 -1.22955814e-02  8.87334347e-04\n",
      "   -4.38185930e-02 -4.62729931e-02  3.67810167e-02  1.37521066e-02\n",
      "   -1.83899291e-02  2.04074271e-02 -4.73458767e-02  2.07669772e-02]\n",
      "  [ 2.35527791e-02 -2.42768414e-02  2.15859078e-02 -2.46889591e-02\n",
      "   -4.82820347e-03  3.64367701e-02 -2.88418774e-02 -3.48624103e-02\n",
      "   -2.78241877e-02  1.40594319e-03 -4.44786325e-02  3.00697349e-02\n",
      "   -1.79973729e-02  1.20238885e-02  3.46493609e-02 -1.62271969e-02\n",
      "   -4.46472056e-02 -2.37568021e-02 -1.16871819e-02 -1.57091022e-02\n",
      "   -8.00896436e-04 -4.40014526e-03  3.57553102e-02 -4.23713699e-02\n",
      "   -4.23472300e-02 -3.89255285e-02 -3.07989717e-02 -1.67950764e-02\n",
      "    3.84397022e-02 -1.54116265e-02  1.70694701e-02 -3.44402306e-02\n",
      "    4.98200096e-02 -3.17758694e-02 -4.75791469e-02  3.89912240e-02\n",
      "    1.30135082e-02  3.51270549e-02  3.41515429e-02  2.09891237e-02\n",
      "   -1.69307590e-02  4.10818346e-02  4.32544947e-03 -3.76458280e-02\n",
      "    4.67586555e-02  1.32409967e-02 -3.23084742e-02 -9.46781784e-03\n",
      "   -2.16341149e-02 -7.24709034e-03 -7.54063204e-03 -1.32578500e-02\n",
      "   -3.69012728e-02  2.66617537e-03  3.09716798e-02  2.69311666e-03\n",
      "   -2.80338880e-02  2.09010504e-02  1.67635567e-02 -3.80852111e-02\n",
      "    3.63936163e-02  4.68651764e-02  2.97369026e-02 -3.18466313e-02]\n",
      "  [-1.52548775e-02  3.23154218e-02  4.59272303e-02  1.30643360e-02\n",
      "   -4.48734164e-02 -4.14680727e-02  4.19802181e-02 -3.66598144e-02\n",
      "    2.88369544e-02 -3.62889282e-02 -8.79051536e-03  1.84704401e-02\n",
      "    4.90608253e-02 -5.05492836e-03  3.47335376e-02 -2.15888023e-02\n",
      "   -4.89002131e-02  4.01310995e-03  8.03152472e-03 -1.30602494e-02\n",
      "    1.31467320e-02 -2.99379118e-02  8.02824646e-03  3.84489335e-02\n",
      "   -4.78575230e-02 -2.89498214e-02  1.43774636e-02  2.28513815e-02\n",
      "    5.59014082e-03 -2.97614578e-02 -1.13067739e-02  3.55440117e-02\n",
      "   -6.89085573e-03 -5.90487570e-03 -3.53310257e-03  5.15459850e-03\n",
      "    4.98517416e-02  2.54647471e-02 -4.50603366e-02 -2.38623023e-02\n",
      "    2.26524584e-02  4.22149785e-02 -3.02277207e-02  3.48036028e-02\n",
      "   -3.55435982e-02 -7.97940418e-03 -2.30020527e-02 -2.69964933e-02\n",
      "    2.61395834e-02 -3.40754613e-02 -1.10225193e-02  3.18014510e-02\n",
      "    2.08422057e-02 -2.88107246e-03  6.60819933e-03 -1.50739774e-02\n",
      "   -1.96110010e-02  3.59473117e-02  2.71894783e-03 -2.95324083e-02\n",
      "    1.75626017e-02  1.75540783e-02 -4.86150160e-02  4.94861491e-02]\n",
      "  [-3.10994983e-02 -1.98217388e-02  1.94027275e-03  1.08954199e-02\n",
      "   -2.94621121e-02 -2.75099762e-02  1.20955817e-02  1.08570941e-02\n",
      "    3.22630890e-02  3.05713154e-02  4.56283204e-02  4.12733890e-02\n",
      "   -3.89427319e-02 -4.88740578e-02 -2.63831746e-02  3.62038873e-02\n",
      "   -1.85645930e-02 -3.84917110e-03 -7.42671639e-03 -2.26726886e-02\n",
      "   -2.07006820e-02 -3.78919952e-02  2.10272335e-02  3.73728611e-02\n",
      "   -4.49519865e-02 -4.71091755e-02 -3.87608036e-02  6.92421198e-03\n",
      "   -4.62461598e-02  1.87543519e-02  2.91157700e-02 -1.00180991e-02\n",
      "   -4.97152917e-02 -1.69485435e-02  3.72471847e-02  4.25844081e-02\n",
      "   -1.23220198e-02 -4.37730215e-02  1.01649538e-02  3.85309346e-02\n",
      "   -3.82647403e-02 -2.46305354e-02  1.56791694e-02 -1.73090324e-02\n",
      "   -1.56742707e-02 -1.94438696e-02  3.87093164e-02  2.13267654e-03\n",
      "    3.24070342e-02  4.74486463e-02 -1.19106546e-02 -2.28997599e-02\n",
      "    3.99312265e-02 -2.21139919e-02  4.97456305e-02  1.75037235e-03\n",
      "   -2.23220941e-02  4.65748198e-02  2.39301473e-04  1.35493986e-02\n",
      "   -1.29091740e-03  2.07944177e-02 -1.25877485e-02  1.95108987e-02]\n",
      "  [ 3.39879058e-02  3.42523493e-02 -1.29309073e-02  3.56795527e-02\n",
      "   -1.63728110e-02  2.25612782e-02 -6.54381514e-03  2.55792029e-02\n",
      "    3.16834114e-02 -2.66363751e-02  5.19944355e-03 -3.82911451e-02\n",
      "   -4.72343080e-02  5.23755699e-03  6.09067827e-03  2.87059881e-02\n",
      "   -2.93977149e-02 -6.57612085e-03  3.27369906e-02  4.04448248e-02\n",
      "   -3.22979242e-02 -4.68609482e-03 -4.63150404e-02 -2.03152895e-02\n",
      "    1.07483044e-02 -2.79653557e-02 -4.82293218e-03 -4.94173169e-02\n",
      "   -1.49675012e-02  2.19912566e-02 -6.63876534e-03  2.16704495e-02\n",
      "    3.89754809e-02  4.93694209e-02  1.43813603e-02 -2.95692440e-02\n",
      "    2.78997421e-03  2.84875892e-02 -1.08145550e-03 -3.36542614e-02\n",
      "   -7.19413906e-03 -3.68916281e-02 -1.80677287e-02  6.38217852e-03\n",
      "   -3.19224969e-02  3.86524536e-02  1.90525688e-02 -4.58402149e-02\n",
      "    2.70306133e-02 -3.74673977e-02 -2.05833204e-02 -9.30627435e-03\n",
      "    1.52551048e-02  2.20029429e-03  4.67488430e-02 -1.44718178e-02\n",
      "    4.57331426e-02  3.70998718e-02 -1.24148279e-03 -2.44178306e-02\n",
      "    3.57305072e-02 -4.95244972e-02  3.91675159e-03  3.77414487e-02]\n",
      "  [ 7.01541826e-03 -1.81243904e-02 -2.54571792e-02 -6.60004467e-03\n",
      "   -2.07167026e-02  1.46259107e-02 -4.46381345e-02 -2.67720707e-02\n",
      "    1.97930671e-02  3.60696390e-03  1.90761574e-02  2.49691643e-02\n",
      "   -3.57659943e-02  6.55687973e-03  3.19766067e-02  4.88178618e-02\n",
      "   -2.62713432e-03 -2.53700744e-02  3.22269537e-02 -3.71081010e-02\n",
      "   -1.71048529e-02  1.42491944e-02 -6.49224967e-04  7.80503824e-03\n",
      "   -3.52292135e-03 -1.67349726e-03 -3.23930271e-02  1.07581839e-02\n",
      "   -1.42829791e-02 -6.95981085e-04 -3.26681510e-02 -2.43600011e-02\n",
      "    1.49448253e-02 -4.71032150e-02  1.34985484e-02 -4.98310924e-02\n",
      "   -2.55316496e-02 -3.71251255e-03  2.93536447e-02 -7.19521195e-03\n",
      "    3.16753238e-03 -4.19152007e-02  3.14646102e-02  3.47839631e-02\n",
      "    2.09274925e-02  3.13549526e-02 -1.77640431e-02  1.61682032e-02\n",
      "   -1.34383813e-02 -1.93190221e-02  2.69482397e-02 -1.78736337e-02\n",
      "   -2.07743887e-02  2.00509094e-02  4.29712646e-02  1.65130757e-02\n",
      "   -4.89482880e-02 -4.38224450e-02 -1.20785832e-02  3.81716527e-02\n",
      "    3.40770930e-04 -3.86873260e-02 -3.89066823e-02  2.14338414e-02]\n",
      "  [-1.52548775e-02  3.23154218e-02  4.59272303e-02  1.30643360e-02\n",
      "   -4.48734164e-02 -4.14680727e-02  4.19802181e-02 -3.66598144e-02\n",
      "    2.88369544e-02 -3.62889282e-02 -8.79051536e-03  1.84704401e-02\n",
      "    4.90608253e-02 -5.05492836e-03  3.47335376e-02 -2.15888023e-02\n",
      "   -4.89002131e-02  4.01310995e-03  8.03152472e-03 -1.30602494e-02\n",
      "    1.31467320e-02 -2.99379118e-02  8.02824646e-03  3.84489335e-02\n",
      "   -4.78575230e-02 -2.89498214e-02  1.43774636e-02  2.28513815e-02\n",
      "    5.59014082e-03 -2.97614578e-02 -1.13067739e-02  3.55440117e-02\n",
      "   -6.89085573e-03 -5.90487570e-03 -3.53310257e-03  5.15459850e-03\n",
      "    4.98517416e-02  2.54647471e-02 -4.50603366e-02 -2.38623023e-02\n",
      "    2.26524584e-02  4.22149785e-02 -3.02277207e-02  3.48036028e-02\n",
      "   -3.55435982e-02 -7.97940418e-03 -2.30020527e-02 -2.69964933e-02\n",
      "    2.61395834e-02 -3.40754613e-02 -1.10225193e-02  3.18014510e-02\n",
      "    2.08422057e-02 -2.88107246e-03  6.60819933e-03 -1.50739774e-02\n",
      "   -1.96110010e-02  3.59473117e-02  2.71894783e-03 -2.95324083e-02\n",
      "    1.75626017e-02  1.75540783e-02 -4.86150160e-02  4.94861491e-02]\n",
      "  [ 2.35527791e-02 -2.42768414e-02  2.15859078e-02 -2.46889591e-02\n",
      "   -4.82820347e-03  3.64367701e-02 -2.88418774e-02 -3.48624103e-02\n",
      "   -2.78241877e-02  1.40594319e-03 -4.44786325e-02  3.00697349e-02\n",
      "   -1.79973729e-02  1.20238885e-02  3.46493609e-02 -1.62271969e-02\n",
      "   -4.46472056e-02 -2.37568021e-02 -1.16871819e-02 -1.57091022e-02\n",
      "   -8.00896436e-04 -4.40014526e-03  3.57553102e-02 -4.23713699e-02\n",
      "   -4.23472300e-02 -3.89255285e-02 -3.07989717e-02 -1.67950764e-02\n",
      "    3.84397022e-02 -1.54116265e-02  1.70694701e-02 -3.44402306e-02\n",
      "    4.98200096e-02 -3.17758694e-02 -4.75791469e-02  3.89912240e-02\n",
      "    1.30135082e-02  3.51270549e-02  3.41515429e-02  2.09891237e-02\n",
      "   -1.69307590e-02  4.10818346e-02  4.32544947e-03 -3.76458280e-02\n",
      "    4.67586555e-02  1.32409967e-02 -3.23084742e-02 -9.46781784e-03\n",
      "   -2.16341149e-02 -7.24709034e-03 -7.54063204e-03 -1.32578500e-02\n",
      "   -3.69012728e-02  2.66617537e-03  3.09716798e-02  2.69311666e-03\n",
      "   -2.80338880e-02  2.09010504e-02  1.67635567e-02 -3.80852111e-02\n",
      "    3.63936163e-02  4.68651764e-02  2.97369026e-02 -3.18466313e-02]\n",
      "  [-3.04200407e-02  4.40901257e-02 -9.26698372e-03 -4.14954424e-02\n",
      "    2.91780494e-02 -4.41922061e-02  4.45131212e-03 -4.89670634e-02\n",
      "   -2.65825633e-02  5.01744822e-03  4.31495197e-02 -2.76547801e-02\n",
      "    2.05195434e-02  1.02284551e-02 -1.25657320e-02  4.66383733e-02\n",
      "   -4.20362949e-02 -1.92427170e-02 -1.93662290e-02  3.88451256e-02\n",
      "   -3.56552713e-02 -3.22697908e-02  3.84540595e-02 -1.47221796e-02\n",
      "   -2.42080092e-02 -2.21579913e-02  1.66499726e-02 -2.68022548e-02\n",
      "   -3.70578840e-03 -3.04552559e-02  2.24319585e-02  3.24909352e-02\n",
      "    3.19046900e-03  3.87067311e-02 -2.92938706e-02 -2.79775746e-02\n",
      "   -1.61971673e-02  1.37497671e-02  3.44469585e-02  3.52257006e-02\n",
      "   -4.85867634e-02 -3.76174599e-03 -2.65499111e-02 -3.82995009e-02\n",
      "   -6.40816614e-03 -3.10054179e-02  7.94199854e-03  3.11072730e-02\n",
      "   -4.58448902e-02 -4.43166494e-02  3.69251408e-02  3.91544364e-02\n",
      "    1.77561380e-02  2.69575827e-02  9.59312916e-03 -2.45507248e-02\n",
      "    4.07971628e-02  6.92756101e-03  4.45677303e-02  2.00866200e-02\n",
      "    9.73054022e-03  3.85078453e-02 -1.98841337e-02  4.79410030e-02]\n",
      "  [ 2.35739686e-02 -3.18951011e-02 -3.07526942e-02  1.18597634e-02\n",
      "    3.80537026e-02  2.61674263e-02 -4.41290252e-02  1.21873617e-03\n",
      "   -4.32397127e-02  3.60129811e-02  3.38609144e-03  3.36885452e-03\n",
      "    1.55347623e-02 -4.00597565e-02  2.06095241e-02 -8.17240402e-03\n",
      "    2.26071812e-02  3.20890434e-02 -2.68516298e-02  1.48093216e-02\n",
      "    3.75309028e-02 -1.86971910e-02  8.91363621e-03 -4.47972529e-02\n",
      "   -4.99628074e-02 -3.57163660e-02  4.83504869e-02  2.70364434e-03\n",
      "   -3.44447121e-02 -8.00384209e-03 -1.45476349e-02  4.27599065e-02\n",
      "    1.60001591e-03  2.52852701e-02  2.71025337e-02 -2.84016486e-02\n",
      "   -3.56711075e-03 -2.19777226e-02  1.42900459e-02 -1.47699490e-02\n",
      "   -3.37397233e-02 -2.14424022e-02  1.93170793e-02  4.10320610e-03\n",
      "   -2.33799219e-02 -4.00068052e-02  1.44956149e-02  4.56473976e-03\n",
      "   -1.03574768e-02 -2.67348420e-02  4.85662557e-02 -4.40992713e-02\n",
      "    1.71698071e-02 -2.85611395e-02 -5.24652004e-03  1.16055086e-03\n",
      "   -2.00492628e-02 -4.04174924e-02 -4.29385677e-02  3.64000462e-02\n",
      "    3.03777196e-02 -1.69617757e-02 -4.67685238e-02 -2.24456675e-02]\n",
      "  [-4.41145152e-04 -3.09820529e-02  1.79772452e-03  3.88082974e-02\n",
      "    1.68652460e-03 -2.74801850e-02  2.91427225e-03 -4.51426879e-02\n",
      "   -2.53224261e-02 -2.20435150e-02 -3.60271558e-02  3.29019763e-02\n",
      "   -2.55219638e-05  1.42397396e-02 -2.95243990e-02 -1.63712390e-02\n",
      "   -2.47624274e-02 -3.91563661e-02  6.32743910e-03 -3.77600305e-02\n",
      "    2.84036659e-02  4.83726524e-02 -1.30043402e-02 -2.91221496e-02\n",
      "   -3.71192805e-02  4.22055610e-02 -4.39175963e-02 -2.54414082e-02\n",
      "   -4.90232818e-02 -3.17305475e-02  1.15217790e-02  4.56453674e-02\n",
      "    1.53424852e-02 -9.40132141e-03 -1.17462054e-02  9.56494734e-03\n",
      "   -9.00154188e-03 -3.83518226e-02  3.33219878e-02  4.58079912e-02\n",
      "   -3.89085785e-02 -4.67322357e-02  5.26331365e-04 -5.85498661e-03\n",
      "   -3.29554081e-03 -4.45588231e-02  2.48637833e-02  4.67335060e-03\n",
      "    1.92037709e-02 -2.36817952e-02 -3.82590070e-02 -3.94880399e-02\n",
      "   -8.21579620e-03 -1.48266181e-02  3.71466391e-02 -4.33734320e-02\n",
      "    2.44392082e-03  3.22667100e-02  1.80188566e-03  3.68357413e-02\n",
      "   -1.14324912e-02  1.84301026e-02  3.80344279e-02 -1.65265799e-03]\n",
      "  [ 2.33090408e-02  1.40914060e-02  3.97393443e-02  4.25029062e-02\n",
      "    1.22495741e-03  2.79769786e-02 -8.37587193e-03 -5.45436144e-03\n",
      "   -4.02114280e-02 -1.98478233e-02  4.73807193e-02 -3.45911160e-02\n",
      "   -4.62839119e-02 -2.86566615e-02 -1.92397591e-02 -3.29799056e-02\n",
      "   -3.51489298e-02 -4.57707755e-02 -7.09668547e-03 -9.76169109e-03\n",
      "   -4.38213348e-03 -1.23454444e-02  3.63411941e-02 -4.58673388e-03\n",
      "    3.70211117e-02  1.24583021e-02 -1.58046596e-02 -4.22514565e-02\n",
      "    1.26793273e-02 -1.01885311e-02  2.24566795e-02  3.20836045e-02\n",
      "   -1.99428797e-02 -2.49390136e-02 -4.06196825e-02  2.20966674e-02\n",
      "   -4.29392830e-02  1.31933726e-02 -1.13884807e-02  4.95009907e-02\n",
      "    7.02226162e-03 -1.98895689e-02  3.30463387e-02 -4.30005789e-02\n",
      "    3.06467079e-02 -7.86018372e-03  4.46359403e-02  4.32709940e-02\n",
      "   -3.49916108e-02 -6.16659969e-03  6.14382327e-04  2.62253918e-02\n",
      "    1.66096538e-03 -3.05328965e-02 -1.04011074e-02 -1.86552405e-02\n",
      "    3.51482145e-02  3.19082178e-02  2.06352733e-02  1.91314928e-02\n",
      "   -9.05144215e-03  2.65221670e-03 -1.63364783e-02  3.02331783e-02]\n",
      "  [ 3.88123654e-02  1.53319873e-02 -1.54181570e-03 -1.94400549e-02\n",
      "   -2.82425284e-02 -3.10010202e-02 -4.84198704e-02  2.61005014e-03\n",
      "    1.77010633e-02  1.36329867e-02  3.01909558e-02 -2.14332473e-02\n",
      "    2.57488601e-02 -8.20039585e-03 -3.08929086e-02  1.43031217e-02\n",
      "   -4.24286388e-02 -2.46730577e-02  1.69993676e-02 -2.05351356e-02\n",
      "    4.88219745e-02  4.23623435e-02 -1.50512531e-03  3.35707329e-02\n",
      "   -3.59407067e-02 -9.95803624e-04  4.96352948e-02  2.69153230e-02\n",
      "   -8.42999294e-03 -9.69259813e-03  1.28334276e-02  3.12312506e-02\n",
      "    1.69984140e-02  7.44690746e-03  8.26922804e-03  2.79140137e-02\n",
      "   -1.82828307e-02  2.12972797e-02  4.57802676e-02 -1.54060125e-03\n",
      "   -1.81195959e-02  3.85386087e-02  1.53829344e-02  4.82999198e-02\n",
      "   -1.51340365e-02  1.26928091e-03 -4.68950160e-02  4.43648733e-02\n",
      "   -3.48832123e-02  4.06699069e-02 -4.14166562e-02 -8.87260586e-03\n",
      "   -2.88988352e-02  4.05653454e-02 -1.04750879e-02  2.50940062e-02\n",
      "    4.93593104e-02 -2.66861804e-02 -2.45543718e-02 -4.15136814e-02\n",
      "    3.34047340e-02  1.72168128e-02 -9.81770456e-04  4.82567586e-02]\n",
      "  [-1.52548775e-02  3.23154218e-02  4.59272303e-02  1.30643360e-02\n",
      "   -4.48734164e-02 -4.14680727e-02  4.19802181e-02 -3.66598144e-02\n",
      "    2.88369544e-02 -3.62889282e-02 -8.79051536e-03  1.84704401e-02\n",
      "    4.90608253e-02 -5.05492836e-03  3.47335376e-02 -2.15888023e-02\n",
      "   -4.89002131e-02  4.01310995e-03  8.03152472e-03 -1.30602494e-02\n",
      "    1.31467320e-02 -2.99379118e-02  8.02824646e-03  3.84489335e-02\n",
      "   -4.78575230e-02 -2.89498214e-02  1.43774636e-02  2.28513815e-02\n",
      "    5.59014082e-03 -2.97614578e-02 -1.13067739e-02  3.55440117e-02\n",
      "   -6.89085573e-03 -5.90487570e-03 -3.53310257e-03  5.15459850e-03\n",
      "    4.98517416e-02  2.54647471e-02 -4.50603366e-02 -2.38623023e-02\n",
      "    2.26524584e-02  4.22149785e-02 -3.02277207e-02  3.48036028e-02\n",
      "   -3.55435982e-02 -7.97940418e-03 -2.30020527e-02 -2.69964933e-02\n",
      "    2.61395834e-02 -3.40754613e-02 -1.10225193e-02  3.18014510e-02\n",
      "    2.08422057e-02 -2.88107246e-03  6.60819933e-03 -1.50739774e-02\n",
      "   -1.96110010e-02  3.59473117e-02  2.71894783e-03 -2.95324083e-02\n",
      "    1.75626017e-02  1.75540783e-02 -4.86150160e-02  4.94861491e-02]\n",
      "  [-4.49813493e-02 -1.03022680e-02 -1.99624188e-02  4.11217324e-02\n",
      "    1.59694813e-02  3.31478193e-03  8.34548473e-03  2.10932009e-02\n",
      "    1.34005062e-02 -3.91485915e-02 -2.21238490e-02  1.31178237e-02\n",
      "   -2.70526409e-02 -2.17029694e-02  2.51845382e-02  2.37184055e-02\n",
      "    6.87513500e-03  5.33430651e-03  4.29207794e-02 -3.27833667e-02\n",
      "   -3.63304615e-02  3.35295685e-02  1.67394914e-02 -1.99856758e-02\n",
      "   -2.27371808e-02 -1.91262364e-02 -3.68972868e-03  3.91465910e-02\n",
      "   -1.41960382e-03 -1.97185874e-02  3.52591388e-02 -3.66083868e-02\n",
      "    4.09615301e-02  2.00398006e-02 -1.49953961e-02 -2.52348185e-03\n",
      "   -1.39329545e-02  3.36687304e-02  3.62681486e-02 -2.77027618e-02\n",
      "   -2.96823625e-02 -2.88139228e-02  1.59980319e-02 -2.40688808e-02\n",
      "    3.09213251e-03  2.85681970e-02  1.57248266e-02 -2.31115893e-03\n",
      "    2.88086198e-02 -2.07776949e-03  3.92614268e-02  4.08797003e-02\n",
      "   -4.23681140e-02  6.11256436e-03  4.29676659e-02 -3.97226959e-03\n",
      "    3.61309908e-02  3.61888148e-02 -1.95440780e-02 -3.57561223e-02\n",
      "    1.52341388e-02  3.18925418e-02 -2.81664971e-02  3.86220552e-02]]]\n",
      "Embedded text shape: (1, 15, 64)\n"
     ]
    }
   ],
   "source": [
    "# Get a random sentence from the training set and return Original text, Vectorized text, Embedded text\n",
    "rand_sentence = random.choice(train_sentences)\n",
    "print(f\"Original text: {rand_sentence}\\n\")\n",
    "print(f\"Vectorized text: {text_vectorizer([rand_sentence])}\\n\")\n",
    "print(f\"Vectorized text shape: {text_vectorizer([rand_sentence]).shape}\")\n",
    "print(f\"Embbedded text: {embedding(text_vectorizer([rand_sentence]))}\")\n",
    "print(f\"Embedded text shape: {embedding(text_vectorizer([rand_sentence])).shape}\")"
   ],
   "metadata": {
    "collapsed": false,
    "ExecuteTime": {
     "end_time": "2023-07-30T15:12:54.229305700Z",
     "start_time": "2023-07-30T15:12:54.011333200Z"
    }
   },
   "id": "2d8028a4f822acb"
  },
  {
   "cell_type": "markdown",
   "source": [
    "## Model_7: TensorFlow Hub Pretrained Feature Extractor (10% of Data)"
   ],
   "metadata": {
    "collapsed": false,
    "ExecuteTime": {
     "end_time": "2023-07-30T14:53:05.010116600Z",
     "start_time": "2023-07-30T14:53:05.005733400Z"
    }
   },
   "id": "1acc1fffc619d4fe"
  },
  {
   "cell_type": "code",
   "execution_count": 29,
   "outputs": [],
   "source": [
    "# Create subsets of 10% of the training and label data\n",
    "train_10_percent = train_df[['text', \"target\"]].sample(frac= 0.1, random_state=42)\n",
    "train_sentences_train_10_percent = train_10_percent[\"text\"].to_list()\n",
    "train_labels_train_10_percent = train_10_percent[\"target\"].to_list()"
   ],
   "metadata": {
    "collapsed": false,
    "ExecuteTime": {
     "end_time": "2023-07-30T15:12:54.229305700Z",
     "start_time": "2023-07-30T15:12:54.042092700Z"
    }
   },
   "id": "a0d126e66f87e173"
  },
  {
   "cell_type": "code",
   "execution_count": 30,
   "outputs": [
    {
     "data": {
      "text/plain": "(761, 761)"
     },
     "execution_count": 30,
     "metadata": {},
     "output_type": "execute_result"
    }
   ],
   "source": [
    "len(train_sentences_train_10_percent), len(train_labels_train_10_percent)"
   ],
   "metadata": {
    "collapsed": false,
    "ExecuteTime": {
     "end_time": "2023-07-30T15:12:54.230307Z",
     "start_time": "2023-07-30T15:12:54.044667900Z"
    }
   },
   "id": "4a84871bbfe323f7"
  },
  {
   "cell_type": "code",
   "execution_count": 31,
   "outputs": [
    {
     "data": {
      "text/plain": "target\n0    425\n1    336\nName: count, dtype: int64"
     },
     "execution_count": 31,
     "metadata": {},
     "output_type": "execute_result"
    }
   ],
   "source": [
    "# Check the number of targets in our subset of data\n",
    "train_10_percent['target'].value_counts()"
   ],
   "metadata": {
    "collapsed": false,
    "ExecuteTime": {
     "end_time": "2023-07-30T15:12:54.230307Z",
     "start_time": "2023-07-30T15:12:54.048408300Z"
    }
   },
   "id": "c00e69e55fdf8d30"
  },
  {
   "cell_type": "code",
   "execution_count": 32,
   "outputs": [
    {
     "data": {
      "text/plain": "target\n0    4342\n1    3271\nName: count, dtype: int64"
     },
     "execution_count": 32,
     "metadata": {},
     "output_type": "execute_result"
    }
   ],
   "source": [
    "train_df['target'].value_counts()"
   ],
   "metadata": {
    "collapsed": false,
    "ExecuteTime": {
     "end_time": "2023-07-30T15:12:54.230307Z",
     "start_time": "2023-07-30T15:12:54.053764600Z"
    }
   },
   "id": "fe1100471c4bbb6d"
  },
  {
   "cell_type": "code",
   "execution_count": 33,
   "outputs": [],
   "source": [
    "# Create a Keras Layer using the USE pretrained layer from tensorflow hub\n",
    "import tensorflow_hub as hub\n",
    "sentence_encoder_layer = hub.KerasLayer(\"https://tfhub.dev/google/universal-sentence-encoder/4\",\n",
    "                                        input_shape= [], # empty because it is variable input length (any length)\n",
    "                                        dtype = tf.string,\n",
    "                                        trainable= False,\n",
    "                                        name = \"USE\")"
   ],
   "metadata": {
    "collapsed": false,
    "ExecuteTime": {
     "end_time": "2023-07-30T15:12:57.677050600Z",
     "start_time": "2023-07-30T15:12:54.056030800Z"
    }
   },
   "id": "b8c9fdeae09a704f"
  },
  {
   "cell_type": "code",
   "execution_count": 34,
   "outputs": [
    {
     "name": "stdout",
     "output_type": "stream",
     "text": [
      "Model: \"model_7_USE_10_percent\"\n",
      "_________________________________________________________________\n",
      " Layer (type)                Output Shape              Param #   \n",
      "=================================================================\n",
      " USE (KerasLayer)            (None, 512)               256797824 \n",
      "                                                                 \n",
      " dense (Dense)               (None, 64)                32832     \n",
      "                                                                 \n",
      " dense_1 (Dense)             (None, 1)                 65        \n",
      "                                                                 \n",
      "=================================================================\n",
      "Total params: 256830721 (979.73 MB)\n",
      "Trainable params: 32897 (128.50 KB)\n",
      "Non-trainable params: 256797824 (979.61 MB)\n",
      "_________________________________________________________________\n"
     ]
    }
   ],
   "source": [
    "# Create model using the Sequential API\n",
    "model_7 = tf.keras.Sequential([\n",
    "    sentence_encoder_layer,\n",
    "    layers.Dense(64, activation = \"relu\"),\n",
    "    layers.Dense(1, activation = \"sigmoid\")\n",
    "], name = \"model_7_USE_10_percent\")\n",
    "\n",
    "# Compile\n",
    "model_7.compile(loss = 'binary_crossentropy',\n",
    "                optimizer= tf.keras.optimizers.Adam(),\n",
    "                metrics = ['accuracy'])\n",
    "\n",
    "model_7.summary()\n"
   ],
   "metadata": {
    "collapsed": false,
    "ExecuteTime": {
     "end_time": "2023-07-30T15:12:58.108953800Z",
     "start_time": "2023-07-30T15:12:57.675050300Z"
    }
   },
   "id": "8e034faf54ebe5f5"
  },
  {
   "cell_type": "code",
   "execution_count": 35,
   "outputs": [
    {
     "name": "stdout",
     "output_type": "stream",
     "text": [
      "Epoch 1/5\n",
      "24/24 [==============================] - 2s 24ms/step - loss: 0.6730 - accuracy: 0.7109 - val_loss: 0.6363 - val_accuracy: 0.8241\n",
      "Epoch 2/5\n",
      "24/24 [==============================] - 0s 8ms/step - loss: 0.6034 - accuracy: 0.8173 - val_loss: 0.5569 - val_accuracy: 0.8241\n",
      "Epoch 3/5\n",
      "24/24 [==============================] - 0s 8ms/step - loss: 0.5246 - accuracy: 0.8187 - val_loss: 0.4845 - val_accuracy: 0.8281\n",
      "Epoch 4/5\n",
      "24/24 [==============================] - 0s 8ms/step - loss: 0.4638 - accuracy: 0.8160 - val_loss: 0.4323 - val_accuracy: 0.8241\n",
      "Epoch 5/5\n",
      "24/24 [==============================] - 0s 7ms/step - loss: 0.4210 - accuracy: 0.8200 - val_loss: 0.3980 - val_accuracy: 0.8320\n"
     ]
    }
   ],
   "source": [
    "model_7_history = model_7.fit(train_sentences_train_10_percent,\n",
    "                              train_labels_train_10_percent,\n",
    "                              epochs = 5,\n",
    "                              validation_data=(val_sentences, val_labels))"
   ],
   "metadata": {
    "collapsed": false,
    "ExecuteTime": {
     "end_time": "2023-07-30T15:13:00.950726600Z",
     "start_time": "2023-07-30T15:12:58.107952500Z"
    }
   },
   "id": "3fad33b12b947b65"
  },
  {
   "cell_type": "code",
   "execution_count": 36,
   "outputs": [
    {
     "name": "stdout",
     "output_type": "stream",
     "text": [
      "24/24 [==============================] - 0s 4ms/step\n"
     ]
    }
   ],
   "source": [
    "# Make predictions with the model trained on 10% of the data\n",
    "model_7_pred_probs = model_7.predict(val_sentences)\n",
    "model_7_preds = tf.squeeze(tf.round(model_7_pred_probs))"
   ],
   "metadata": {
    "collapsed": false,
    "ExecuteTime": {
     "end_time": "2023-07-30T15:13:01.296684400Z",
     "start_time": "2023-07-30T15:13:00.946726500Z"
    }
   },
   "id": "3751feb38705b01e"
  },
  {
   "cell_type": "code",
   "execution_count": 37,
   "outputs": [],
   "source": [
    "from sklearn.metrics import accuracy_score, precision_recall_fscore_support\n",
    "\n",
    "model_7_accuracy_score = accuracy_score(val_labels, model_7_preds)\n",
    "model_7_precision, model_7_recall, model_7_f1score, _, =precision_recall_fscore_support(val_labels, model_7_preds, average = \"weighted\")"
   ],
   "metadata": {
    "collapsed": false,
    "ExecuteTime": {
     "end_time": "2023-07-30T15:13:01.302307800Z",
     "start_time": "2023-07-30T15:13:01.297685Z"
    }
   },
   "id": "bb72cbd0e53eeb99"
  },
  {
   "cell_type": "code",
   "execution_count": 38,
   "outputs": [
    {
     "data": {
      "text/plain": "{'model_7_accuracy_score': 0.8320209973753281,\n 'model_7_precision': 0.8318192282313513,\n 'model_7_recall': {0.8320209973753281},\n 'model_7_f1score': {0.8314470735447851}}"
     },
     "execution_count": 38,
     "metadata": {},
     "output_type": "execute_result"
    }
   ],
   "source": [
    "dict_result = {\"model_7_accuracy_score\": model_7_accuracy_score,\n",
    "               \"model_7_precision\": model_7_precision,\n",
    "               \"model_7_recall\": {model_7_recall},\n",
    "               \"model_7_f1score\": {model_7_f1score}}\n",
    "dict_result"
   ],
   "metadata": {
    "collapsed": false,
    "ExecuteTime": {
     "end_time": "2023-07-30T15:13:01.307525300Z",
     "start_time": "2023-07-30T15:13:01.304314Z"
    }
   },
   "id": "acfa3bb352a28ad4"
  }
 ],
 "metadata": {
  "kernelspec": {
   "display_name": "Python 3",
   "language": "python",
   "name": "python3"
  },
  "language_info": {
   "codemirror_mode": {
    "name": "ipython",
    "version": 2
   },
   "file_extension": ".py",
   "mimetype": "text/x-python",
   "name": "python",
   "nbconvert_exporter": "python",
   "pygments_lexer": "ipython2",
   "version": "2.7.6"
  }
 },
 "nbformat": 4,
 "nbformat_minor": 5
}
