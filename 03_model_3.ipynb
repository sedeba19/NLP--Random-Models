{
 "cells": [
  {
   "cell_type": "code",
   "execution_count": 1,
   "outputs": [
    {
     "data": {
      "text/plain": "'2.13.0'"
     },
     "execution_count": 1,
     "metadata": {},
     "output_type": "execute_result"
    }
   ],
   "source": [
    "import os\n",
    "import tensorflow as tf\n",
    "import pandas as pd\n",
    "\n",
    "tf.__version__\n"
   ],
   "metadata": {
    "collapsed": false,
    "ExecuteTime": {
     "end_time": "2023-07-30T14:50:41.077522100Z",
     "start_time": "2023-07-30T14:50:39.571952700Z"
    }
   },
   "id": "d895e3f341f9cd2c"
  },
  {
   "cell_type": "code",
   "execution_count": 2,
   "outputs": [],
   "source": [
    "main_dir = r\"F:\\linux_ubuntu_codes\\codes\\nlp_lecture\""
   ],
   "metadata": {
    "collapsed": false,
    "ExecuteTime": {
     "end_time": "2023-07-30T14:50:41.077522100Z",
     "start_time": "2023-07-30T14:50:41.074012100Z"
    }
   },
   "id": "258babd61b92d2d5"
  },
  {
   "cell_type": "code",
   "execution_count": 3,
   "outputs": [
    {
     "data": {
      "text/plain": "'https://raw.githubusercontent.com/sedeba19/NLP--Random-Models/main/train.csv'"
     },
     "execution_count": 3,
     "metadata": {},
     "output_type": "execute_result"
    }
   ],
   "source": [
    "train_dir = os.path.join(main_dir + r\"\\train.csv\")\n",
    "test_dir = os.path.join(main_dir + r\"\\test.csv\")"
   ],
   "metadata": {
    "collapsed": false,
    "ExecuteTime": {
     "end_time": "2023-07-30T14:50:41.079765100Z",
     "start_time": "2023-07-30T14:50:41.076521600Z"
    }
   },
   "id": "f9e05dc9db4f2150"
  },
  {
   "cell_type": "code",
   "execution_count": 4,
   "outputs": [
    {
     "data": {
      "text/plain": "   id keyword location                                               text  \\\n0   1     NaN      NaN  Our Deeds are the Reason of this #earthquake M...   \n1   4     NaN      NaN             Forest fire near La Ronge Sask. Canada   \n2   5     NaN      NaN  All residents asked to 'shelter in place' are ...   \n3   6     NaN      NaN  13,000 people receive #wildfires evacuation or...   \n4   7     NaN      NaN  Just got sent this photo from Ruby #Alaska as ...   \n\n   target  \n0       1  \n1       1  \n2       1  \n3       1  \n4       1  ",
      "text/html": "<div>\n<style scoped>\n    .dataframe tbody tr th:only-of-type {\n        vertical-align: middle;\n    }\n\n    .dataframe tbody tr th {\n        vertical-align: top;\n    }\n\n    .dataframe thead th {\n        text-align: right;\n    }\n</style>\n<table border=\"1\" class=\"dataframe\">\n  <thead>\n    <tr style=\"text-align: right;\">\n      <th></th>\n      <th>id</th>\n      <th>keyword</th>\n      <th>location</th>\n      <th>text</th>\n      <th>target</th>\n    </tr>\n  </thead>\n  <tbody>\n    <tr>\n      <th>0</th>\n      <td>1</td>\n      <td>NaN</td>\n      <td>NaN</td>\n      <td>Our Deeds are the Reason of this #earthquake M...</td>\n      <td>1</td>\n    </tr>\n    <tr>\n      <th>1</th>\n      <td>4</td>\n      <td>NaN</td>\n      <td>NaN</td>\n      <td>Forest fire near La Ronge Sask. Canada</td>\n      <td>1</td>\n    </tr>\n    <tr>\n      <th>2</th>\n      <td>5</td>\n      <td>NaN</td>\n      <td>NaN</td>\n      <td>All residents asked to 'shelter in place' are ...</td>\n      <td>1</td>\n    </tr>\n    <tr>\n      <th>3</th>\n      <td>6</td>\n      <td>NaN</td>\n      <td>NaN</td>\n      <td>13,000 people receive #wildfires evacuation or...</td>\n      <td>1</td>\n    </tr>\n    <tr>\n      <th>4</th>\n      <td>7</td>\n      <td>NaN</td>\n      <td>NaN</td>\n      <td>Just got sent this photo from Ruby #Alaska as ...</td>\n      <td>1</td>\n    </tr>\n  </tbody>\n</table>\n</div>"
     },
     "execution_count": 4,
     "metadata": {},
     "output_type": "execute_result"
    }
   ],
   "source": [
    "train_dir"
   ],
   "metadata": {
    "collapsed": false,
    "ExecuteTime": {
     "end_time": "2023-07-30T14:50:41.201041600Z",
     "start_time": "2023-07-30T14:50:41.080765800Z"
    }
   },
   "id": "e237aa9b92bb079a"
  },
  {
   "cell_type": "code",
   "execution_count": 5,
   "outputs": [
    {
     "data": {
      "text/plain": "         id               keyword                  location  \\\n3228   4632  emergency%20services   Sydney, New South Wales   \n3706   5271                  fear                       NaN   \n6957   9982               tsunami         Land Of The Kings   \n2887   4149                 drown                       NaN   \n7464  10680                wounds  cody, austin follows ?*?   \n\n                                                   text  target  \n3228  Goulburn man Henry Van Bilsen missing: Emergen...       1  \n3706  The things we fear most in organizations--fluc...       0  \n6957                            @tsunami_esh ?? hey Esh       0  \n2887  @POTUS you until you drown by water entering t...       0  \n7464  Crawling in my skin\\nThese wounds they will no...       1  ",
      "text/html": "<div>\n<style scoped>\n    .dataframe tbody tr th:only-of-type {\n        vertical-align: middle;\n    }\n\n    .dataframe tbody tr th {\n        vertical-align: top;\n    }\n\n    .dataframe thead th {\n        text-align: right;\n    }\n</style>\n<table border=\"1\" class=\"dataframe\">\n  <thead>\n    <tr style=\"text-align: right;\">\n      <th></th>\n      <th>id</th>\n      <th>keyword</th>\n      <th>location</th>\n      <th>text</th>\n      <th>target</th>\n    </tr>\n  </thead>\n  <tbody>\n    <tr>\n      <th>3228</th>\n      <td>4632</td>\n      <td>emergency%20services</td>\n      <td>Sydney, New South Wales</td>\n      <td>Goulburn man Henry Van Bilsen missing: Emergen...</td>\n      <td>1</td>\n    </tr>\n    <tr>\n      <th>3706</th>\n      <td>5271</td>\n      <td>fear</td>\n      <td>NaN</td>\n      <td>The things we fear most in organizations--fluc...</td>\n      <td>0</td>\n    </tr>\n    <tr>\n      <th>6957</th>\n      <td>9982</td>\n      <td>tsunami</td>\n      <td>Land Of The Kings</td>\n      <td>@tsunami_esh ?? hey Esh</td>\n      <td>0</td>\n    </tr>\n    <tr>\n      <th>2887</th>\n      <td>4149</td>\n      <td>drown</td>\n      <td>NaN</td>\n      <td>@POTUS you until you drown by water entering t...</td>\n      <td>0</td>\n    </tr>\n    <tr>\n      <th>7464</th>\n      <td>10680</td>\n      <td>wounds</td>\n      <td>cody, austin follows ?*?</td>\n      <td>Crawling in my skin\\nThese wounds they will no...</td>\n      <td>1</td>\n    </tr>\n  </tbody>\n</table>\n</div>"
     },
     "execution_count": 5,
     "metadata": {},
     "output_type": "execute_result"
    }
   ],
   "source": [
    "# Make a train_df\n",
    "train_df = pd.read_csv(train_dir)\n",
    "test_df = pd.read_csv(test_dir)\n",
    "train_df.head()"
   ],
   "metadata": {
    "collapsed": false,
    "ExecuteTime": {
     "end_time": "2023-07-30T14:50:41.202043300Z",
     "start_time": "2023-07-30T14:50:41.199531500Z"
    }
   },
   "id": "c858f9a76b34b934"
  },
  {
   "cell_type": "code",
   "execution_count": 6,
   "outputs": [
    {
     "data": {
      "text/plain": "(7613, 5)"
     },
     "execution_count": 6,
     "metadata": {},
     "output_type": "execute_result"
    }
   ],
   "source": [
    "# Shuffle training dataframe\n",
    "train_df_shuffled = train_df.sample(frac = 1, random_state = 1)\n",
    "train_df_shuffled.head()"
   ],
   "metadata": {
    "collapsed": false,
    "ExecuteTime": {
     "end_time": "2023-07-30T14:50:41.210731300Z",
     "start_time": "2023-07-30T14:50:41.203040600Z"
    }
   },
   "id": "ffa95adda1afec99"
  },
  {
   "cell_type": "code",
   "execution_count": 7,
   "outputs": [
    {
     "data": {
      "text/plain": "target\n0    4342\n1    3271\nName: count, dtype: int64"
     },
     "execution_count": 7,
     "metadata": {},
     "output_type": "execute_result"
    }
   ],
   "source": [
    "train_df_shuffled.shape"
   ],
   "metadata": {
    "collapsed": false,
    "ExecuteTime": {
     "end_time": "2023-07-30T14:50:41.210731300Z",
     "start_time": "2023-07-30T14:50:41.206190100Z"
    }
   },
   "id": "66e71f2c2322a35c"
  },
  {
   "cell_type": "code",
   "execution_count": 8,
   "outputs": [
    {
     "data": {
      "text/plain": "(7613, 3263)"
     },
     "execution_count": 8,
     "metadata": {},
     "output_type": "execute_result"
    }
   ],
   "source": [
    "# How many examples of each class?\n",
    "train_df['target'].value_counts()"
   ],
   "metadata": {
    "collapsed": false,
    "ExecuteTime": {
     "end_time": "2023-07-30T14:50:41.213345100Z",
     "start_time": "2023-07-30T14:50:41.210731300Z"
    }
   },
   "id": "e8f13f3fbc904937"
  },
  {
   "cell_type": "code",
   "execution_count": 9,
   "outputs": [
    {
     "name": "stdout",
     "output_type": "stream",
     "text": [
      "Target:1 (real disaster)\n",
      "Text: \n",
      "Japan's Restart of Nuclear Reactor Fleet Fast Approaches http://t.co/DbAUjp29Ub\n",
      "-----\n",
      "\n",
      "Target:0 (not a real disaster)\n",
      "Text: \n",
      "The media needs to stop publicizing mass murder. So many sick people want the eyes of the world and the media... http://t.co/QZlPFHpwDO\n",
      "-----\n",
      "\n",
      "Target:0 (not a real disaster)\n",
      "Text: \n",
      "#hot  Reddit's new content policy goes into effect many horrible subreddits banned or quarantined http://t.co/algtcN8baf #prebreak #best\n",
      "-----\n",
      "\n",
      "Target:0 (not a real disaster)\n",
      "Text: \n",
      "@SZMNextDoor I got this cute lil cliff you can fall off of??\n",
      "-----\n",
      "\n",
      "Target:0 (not a real disaster)\n",
      "Text: \n",
      "FedEx no longer will transport bioterror germs http://t.co/qfjjDxes7G via @USATODAY\n",
      "-----\n"
     ]
    }
   ],
   "source": [
    "# How many total samples?\n",
    "len(train_df), len(test_df)"
   ],
   "metadata": {
    "collapsed": false,
    "ExecuteTime": {
     "end_time": "2023-07-30T14:50:41.220405500Z",
     "start_time": "2023-07-30T14:50:41.215346400Z"
    }
   },
   "id": "6a3f06f716aed950"
  },
  {
   "cell_type": "code",
   "execution_count": null,
   "outputs": [],
   "source": [
    "# Visualize some random training examples\n",
    "import random\n",
    "random_index = random.randint(0, len(train_df)-5)\n",
    "for row in train_df_shuffled[[\"text\", \"target\"]][random_index: random_index +5].itertuples():\n",
    "    _, text, target = row\n",
    "    if target > 0:\n",
    "        print(f\"Target:{target}\", \"(real disaster)\")\n",
    "    else:\n",
    "        print(f\"Target:{target}\", \"(not a real disaster)\")\n",
    "    \n",
    "    print(f\"Text: \\n{text}\")\n",
    "    print(\"-----\\n\")"
   ],
   "metadata": {
    "collapsed": false
   },
   "id": "99ad01fd617f2fad"
  },
  {
   "cell_type": "markdown",
   "source": [
    "### Split data into training and validation sets"
   ],
   "metadata": {
    "collapsed": false,
    "ExecuteTime": {
     "end_time": "2023-07-30T14:50:41.488086300Z",
     "start_time": "2023-07-30T14:50:41.221405500Z"
    }
   },
   "id": "cc004f467eb6820b"
  },
  {
   "cell_type": "code",
   "execution_count": 11,
   "outputs": [
    {
     "data": {
      "text/plain": "(7613,)"
     },
     "execution_count": 11,
     "metadata": {},
     "output_type": "execute_result"
    }
   ],
   "source": [
    "from sklearn.model_selection import train_test_split\n",
    "\n",
    "train_sentences, val_sentences, train_labels, val_labels = train_test_split(train_df['text'],\n",
    "                                                                            train_df['target'],\n",
    "                                                                            test_size = 0.1,\n",
    "                                                                            random_state = 42)"
   ],
   "metadata": {
    "collapsed": false,
    "ExecuteTime": {
     "end_time": "2023-07-30T14:50:41.497687500Z",
     "start_time": "2023-07-30T14:50:41.489085300Z"
    }
   },
   "id": "e9962e431d6f4625"
  },
  {
   "cell_type": "code",
   "execution_count": 12,
   "outputs": [
    {
     "data": {
      "text/plain": "0       Our Deeds are the Reason of this #earthquake M...\n1                  Forest fire near La Ronge Sask. Canada\n2       All residents asked to 'shelter in place' are ...\n3       13,000 people receive #wildfires evacuation or...\n4       Just got sent this photo from Ruby #Alaska as ...\n                              ...                        \n7608    Two giant cranes holding a bridge collapse int...\n7609    @aria_ahrary @TheTawniest The out of control w...\n7610    M1.94 [01:04 UTC]?5km S of Volcano Hawaii. htt...\n7611    Police investigating after an e-bike collided ...\n7612    The Latest: More Homes Razed by Northern Calif...\nName: text, Length: 7613, dtype: object"
     },
     "execution_count": 12,
     "metadata": {},
     "output_type": "execute_result"
    }
   ],
   "source": [
    "train_df['text'].shape"
   ],
   "metadata": {
    "collapsed": false,
    "ExecuteTime": {
     "end_time": "2023-07-30T14:50:41.497687500Z",
     "start_time": "2023-07-30T14:50:41.492041300Z"
    }
   },
   "id": "2044aeeaed5209d8"
  },
  {
   "cell_type": "code",
   "execution_count": 13,
   "outputs": [
    {
     "data": {
      "text/plain": "array(['Our Deeds are the Reason of this #earthquake May ALLAH Forgive us all',\n       'Forest fire near La Ronge Sask. Canada',\n       \"All residents asked to 'shelter in place' are being notified by officers. No other evacuation or shelter in place orders are expected\",\n       ...,\n       'M1.94 [01:04 UTC]?5km S of Volcano Hawaii. http://t.co/zDtoyd8EbJ',\n       'Police investigating after an e-bike collided with a car in Little Portugal. E-bike rider suffered serious non-life threatening injuries.',\n       'The Latest: More Homes Razed by Northern California Wildfire - ABC News http://t.co/YmY4rSkQ3d'],\n      dtype=object)"
     },
     "execution_count": 13,
     "metadata": {},
     "output_type": "execute_result"
    }
   ],
   "source": [
    "train_df[\"text\"]"
   ],
   "metadata": {
    "collapsed": false,
    "ExecuteTime": {
     "end_time": "2023-07-30T14:50:41.501220200Z",
     "start_time": "2023-07-30T14:50:41.497687500Z"
    }
   },
   "id": "aecfc9a6831f9cee"
  },
  {
   "cell_type": "code",
   "execution_count": 14,
   "outputs": [
    {
     "data": {
      "text/plain": "array(['Our Deeds are the Reason of this #earthquake May ALLAH Forgive us all',\n       'Forest fire near La Ronge Sask. Canada',\n       \"All residents asked to 'shelter in place' are being notified by officers. No other evacuation or shelter in place orders are expected\",\n       ...,\n       'M1.94 [01:04 UTC]?5km S of Volcano Hawaii. http://t.co/zDtoyd8EbJ',\n       'Police investigating after an e-bike collided with a car in Little Portugal. E-bike rider suffered serious non-life threatening injuries.',\n       'The Latest: More Homes Razed by Northern California Wildfire - ABC News http://t.co/YmY4rSkQ3d'],\n      dtype=object)"
     },
     "execution_count": 14,
     "metadata": {},
     "output_type": "execute_result"
    }
   ],
   "source": [
    "train_df['text'].to_numpy()"
   ],
   "metadata": {
    "collapsed": false,
    "ExecuteTime": {
     "end_time": "2023-07-30T14:50:41.503628600Z",
     "start_time": "2023-07-30T14:50:41.501220200Z"
    }
   },
   "id": "4cdc72f6e817f834"
  },
  {
   "cell_type": "code",
   "execution_count": 15,
   "outputs": [
    {
     "data": {
      "text/plain": "(6851, 762, 6851, 762)"
     },
     "execution_count": 15,
     "metadata": {},
     "output_type": "execute_result"
    }
   ],
   "source": [
    "train_df['text'].to_numpy()"
   ],
   "metadata": {
    "collapsed": false,
    "ExecuteTime": {
     "end_time": "2023-07-30T14:50:41.513015200Z",
     "start_time": "2023-07-30T14:50:41.504630300Z"
    }
   },
   "id": "ec43b6635db1dc03"
  },
  {
   "cell_type": "code",
   "execution_count": null,
   "outputs": [],
   "source": [
    "len(train_sentences), len(val_sentences), len(train_labels), len(val_labels)"
   ],
   "metadata": {
    "collapsed": false
   },
   "id": "c4b936bb4e61352a"
  },
  {
   "cell_type": "markdown",
   "source": [
    "### Converting text into numbers: Text Vectorization also known as Tokenization"
   ],
   "metadata": {
    "collapsed": false,
    "ExecuteTime": {
     "end_time": "2023-07-30T14:50:41.515523700Z",
     "start_time": "2023-07-30T14:50:41.507057400Z"
    }
   },
   "id": "5777dedf87f2662b"
  },
  {
   "cell_type": "code",
   "execution_count": 17,
   "outputs": [
    {
     "data": {
      "text/plain": "(6851,)"
     },
     "execution_count": 17,
     "metadata": {},
     "output_type": "execute_result"
    }
   ],
   "source": [
    "# Get the total words\n",
    "total_words = 0\n",
    "for i in train_sentences:\n",
    "    total_words += len(i.split())\n",
    "\n",
    "total_words"
   ],
   "metadata": {
    "collapsed": false,
    "ExecuteTime": {
     "end_time": "2023-07-30T14:50:41.564105700Z",
     "start_time": "2023-07-30T14:50:41.515523700Z"
    }
   },
   "id": "618457c173977155"
  },
  {
   "cell_type": "code",
   "execution_count": 18,
   "outputs": [
    {
     "data": {
      "text/plain": "15"
     },
     "execution_count": 18,
     "metadata": {},
     "output_type": "execute_result"
    }
   ],
   "source": [
    "train_sentences.shape"
   ],
   "metadata": {
    "collapsed": false,
    "ExecuteTime": {
     "end_time": "2023-07-30T14:50:41.570106400Z",
     "start_time": "2023-07-30T14:50:41.518702300Z"
    }
   },
   "id": "829d84b65c26bb92"
  },
  {
   "cell_type": "code",
   "execution_count": 19,
   "outputs": [],
   "source": [
    "# Get the average words per sentence or line\n",
    "avg_words_per_sentence = round(total_words/len(train_sentences))\n",
    "avg_words_per_sentence"
   ],
   "metadata": {
    "collapsed": false,
    "ExecuteTime": {
     "end_time": "2023-07-30T14:50:41.571106600Z",
     "start_time": "2023-07-30T14:50:41.522083100Z"
    }
   },
   "id": "a7a8bed44aec85d5"
  },
  {
   "cell_type": "code",
   "execution_count": 20,
   "outputs": [],
   "source": [
    "# Normally, total number of words is equal or less than the max vocabulary length\n",
    "max_vocab_length = 10000\n",
    "\n",
    "# max length of a statement is equal or more than the average word per sentence or line\n",
    "max_length = 15"
   ],
   "metadata": {
    "collapsed": false,
    "ExecuteTime": {
     "end_time": "2023-07-30T14:50:41.780382300Z",
     "start_time": "2023-07-30T14:50:41.523592800Z"
    }
   },
   "id": "92ebee1bf68d8486"
  },
  {
   "cell_type": "code",
   "execution_count": 21,
   "outputs": [
    {
     "name": "stdout",
     "output_type": "stream",
     "text": [
      "There's a flood in my street! Sentence length is 29.\n"
     ]
    },
    {
     "data": {
      "text/plain": "<tf.Tensor: shape=(1, 15), dtype=int64, numpy=\narray([[282,   3, 206,   4,  13, 674,   0,   0,   0,   0,   0,   0,   0,\n          0,   0]], dtype=int64)>"
     },
     "execution_count": 21,
     "metadata": {},
     "output_type": "execute_result"
    }
   ],
   "source": [
    "import tensorflow as tf\n",
    "from tensorflow.keras.layers.experimental.preprocessing import TextVectorization\n",
    "\n",
    "text_vectorizer = TextVectorization(max_tokens = max_vocab_length,\n",
    "                                    output_mode = \"int\",\n",
    "                                    output_sequence_length = max_length)\n",
    "\n",
    "# Fit the text vectorizer to the training set\n",
    "text_vectorizer.adapt(train_sentences)"
   ],
   "metadata": {
    "collapsed": false,
    "ExecuteTime": {
     "end_time": "2023-07-30T14:50:41.832506800Z",
     "start_time": "2023-07-30T14:50:41.781382400Z"
    }
   },
   "id": "8805b068faa29b89"
  },
  {
   "cell_type": "code",
   "execution_count": 22,
   "outputs": [
    {
     "name": "stdout",
     "output_type": "stream",
     "text": [
      "Original text: \n",
      "\n",
      " Has An Ancient Nuclear Reactor Been Discovered In Africa? ÛÒ Your... http://t.co/qadUfO8zXg \n",
      "\n",
      "Vectorized text:\n"
     ]
    },
    {
     "data": {
      "text/plain": "<tf.Tensor: shape=(1, 15), dtype=int64, numpy=\narray([[  40,   43, 1089,  106,  620,   62, 2512,    4, 1446,  449,   35,\n           1,    0,    0,    0]], dtype=int64)>"
     },
     "execution_count": 22,
     "metadata": {},
     "output_type": "execute_result"
    }
   ],
   "source": [
    "# Create a sample sentence and tokenize it\n",
    "samp_sentence = \"There's a flood in my street!\"\n",
    "print(samp_sentence, f\"Sentence length is {len(samp_sentence)}.\")\n",
    "text_vectorizer([samp_sentence])\n",
    "#len(tf.squeeze(text_vectorizer([samp_sentence])))"
   ],
   "metadata": {
    "collapsed": false,
    "ExecuteTime": {
     "end_time": "2023-07-30T14:50:41.853223Z",
     "start_time": "2023-07-30T14:50:41.803219900Z"
    }
   },
   "id": "111d45283fbfd4ae"
  },
  {
   "cell_type": "code",
   "execution_count": 23,
   "outputs": [
    {
     "data": {
      "text/plain": "['',\n '[UNK]',\n 'the',\n 'a',\n 'in',\n 'to',\n 'of',\n 'and',\n 'i',\n 'is',\n 'for',\n 'on',\n 'you',\n 'my',\n 'with',\n 'it',\n 'that',\n 'at',\n 'by',\n 'this',\n 'from',\n 'are',\n 'be',\n 'was',\n 'have',\n 'like',\n 'as',\n 'me',\n 'but',\n 'up',\n 'just',\n 'so',\n 'im',\n 'not',\n 'amp',\n 'your',\n 'out',\n 'all',\n 'after',\n 'its',\n 'has',\n 'no',\n 'will',\n 'an',\n 'fire',\n 'when',\n 'if',\n 'we',\n 'get',\n 'now',\n 'more',\n 'via',\n 'new',\n 'about',\n 'what',\n 'people',\n 'or',\n 'news',\n 'he',\n 'they',\n 'over',\n 'one',\n 'been',\n 'how',\n 'dont',\n 'who',\n 'video',\n 'into',\n 'were',\n 'do',\n 'us',\n 'can',\n 'emergency',\n '2',\n 'disaster',\n 'there',\n 'her',\n 'some',\n 'than',\n 'still',\n 'would',\n 'his',\n 'police',\n 'crash',\n 'burning',\n 'suicide',\n 'body',\n 'california',\n 'back',\n 'time',\n 'buildings',\n 'had',\n 'why',\n 'off',\n 'them',\n 'got',\n 'man',\n 'see',\n 'storm',\n 'know',\n 'going',\n 'cant',\n 'world',\n 'first',\n 'day',\n 'rt',\n 'nuclear',\n 'love',\n 'youtube',\n 'our',\n 'attack',\n 'go',\n 'fires',\n 'two',\n 'their',\n 'bomb',\n 'killed',\n '3',\n 'train',\n 'dead',\n 'car',\n 'war',\n 'life',\n 'may',\n 'watch',\n 'full',\n 'only',\n 'here',\n 'hiroshima',\n 'down',\n 'today',\n 'u',\n 'accident',\n 'think',\n 'many',\n 'good',\n 'way',\n 'families',\n 'too',\n 'then',\n 'say',\n 'being',\n 'last',\n 'could',\n 'years',\n 'want',\n 'did',\n 'home',\n 'best',\n 'should',\n 'need',\n 'mass',\n 'even',\n 'work',\n 'make',\n 'help',\n 'bombing',\n 'wildfire',\n 'please',\n 'look',\n 'lol',\n 'because',\n 'another',\n 'take',\n 'him',\n 'collapse',\n 'year',\n 'water',\n 'those',\n 'really',\n 'army',\n 'am',\n 'school',\n 'mh370',\n 'death',\n 'right',\n 'pm',\n 'black',\n 'much',\n 'forest',\n 'fatal',\n '5',\n 'youre',\n 'she',\n 'northern',\n '4',\n 'live',\n 'city',\n 'bomber',\n 'wreck',\n 'hot',\n 'great',\n 'every',\n '2015',\n 'old',\n 'let',\n 'legionnaires',\n 'fear',\n 'obama',\n 'latest',\n 'homes',\n 'flames',\n 'come',\n '1',\n 'never',\n 'getting',\n 'flood',\n '\\x89Û',\n 'where',\n 'said',\n 'japan',\n 'shit',\n 'floods',\n 'during',\n 'atomic',\n 'god',\n 'damage',\n 'under',\n 'near',\n 'feel',\n 'ever',\n 'earthquake',\n 'ass',\n 'which',\n 'since',\n 'read',\n 'oil',\n 'night',\n 'most',\n 'military',\n 'injured',\n 'hope',\n 'everyone',\n 'coming',\n 'any',\n 'without',\n 'while',\n 'well',\n 'thats',\n 'stop',\n 'next',\n 'hit',\n 'weather',\n 'these',\n 'state',\n 'little',\n 'flooding',\n 'evacuation',\n 'before',\n 'truck',\n 'severe',\n 's',\n 'content',\n 'always',\n 'until',\n 'top',\n 'through',\n 'smoke',\n 'plan',\n 'found',\n 'confirmed',\n 'cause',\n 'movie',\n 'fucking',\n 'face',\n 'debris',\n 'bloody',\n 'bad',\n 'weapon',\n 'warning',\n 'times',\n 'thunderstorm',\n 'set',\n 'says',\n 'natural',\n 'malaysia',\n 'liked',\n 'ive',\n 'gonna',\n 'free',\n 'fall',\n 'thunder',\n 'theres',\n 'sinking',\n 'saudi',\n 'refugees',\n 'made',\n 'loud',\n 'looks',\n 'injuries',\n 'house',\n 'hes',\n 'heat',\n 'cross',\n 'also',\n 'air',\n 'w',\n 'screaming',\n 'rain',\n 'murder',\n 'head',\n 'failure',\n 'explode',\n 'check',\n 'wreckage',\n 'wind',\n 'wild',\n 'trapped',\n 'survive',\n 'spill',\n 'reddit',\n 'panic',\n 'missing',\n 'lightning',\n 'family',\n 'change',\n 'whole',\n 'weapons',\n 'terrorist',\n 'service',\n 'run',\n 'rescuers',\n 'report',\n 'released',\n 'photo',\n 'outbreak',\n 'ill',\n 'food',\n 'evacuate',\n 'end',\n 'destroyed',\n 'deaths',\n 'boy',\n 'again',\n '70',\n 'terrorism',\n 'sinkhole',\n 'services',\n 'save',\n 'road',\n 'rescue',\n 'migrants',\n 'keep',\n 'high',\n 'harm',\n 'danger',\n 'county',\n 'collided',\n 'blood',\n 'big',\n 'bags',\n 'twister',\n 'trauma',\n 'tonight',\n 'summer',\n 'ruin',\n 'mosque',\n 'lives',\n 'least',\n 'hail',\n 'girl',\n 'fuck',\n 'fatalities',\n 'does',\n 'derailment',\n 'curfew',\n 'collapsed',\n 'charged',\n 'call',\n 'burned',\n 'breaking',\n 'boat',\n 'bag',\n 'attacked',\n 'ambulance',\n 'wrecked',\n 'wounded',\n 'white',\n 'week',\n 'update',\n 'things',\n 'structural',\n 'stock',\n 'someone',\n 'show',\n 'rioting',\n 'real',\n 'phone',\n 'mudslide',\n 'landslide',\n 'investigators',\n 'explosion',\n 'engulfed',\n 'displaced',\n 'devastation',\n 'destroy',\n 'deluge',\n 'crashed',\n 'catastrophe',\n 'bus',\n 'battle',\n 'away',\n 'area',\n 'apocalypse',\n 'whirlwind',\n 'survivors',\n 'survived',\n 'sunk',\n 'saw',\n 'sandstorm',\n 'post',\n 'other',\n 'massacre',\n 'island',\n 'injury',\n 'id',\n 'hundreds',\n 'hostages',\n 'horrible',\n 'hazardous',\n 'hazard',\n 'game',\n 'exploded',\n 'drought',\n 'bridge',\n 'bang',\n '40',\n 'windstorm',\n 'went',\n 'wave',\n 'soon',\n 'rescued',\n 'quarantined',\n 'national',\n 'market',\n 'kills',\n 'hurricane',\n 'heard',\n 'drowning',\n 'drown',\n 'detonate',\n 'destruction',\n 'derail',\n 'cliff',\n 'bombed',\n 'blown',\n 'around',\n 'airplane',\n '6',\n '\\x89ÛÒ',\n 'wounds',\n 'woman',\n 'trouble',\n 'traumatised',\n 'tragedy',\n 'thing',\n 'story',\n 'screams',\n 'put',\n 'past',\n 'ok',\n 'iran',\n 'inundated',\n 'group',\n 'flattened',\n 'fedex',\n 'caused',\n 'came',\n 'better',\n 'august',\n 'armageddon',\n 'anniversary',\n '15',\n 'women',\n 'wanna',\n 'violent',\n 'typhoon',\n 'tsunami',\n 'thank',\n 'security',\n 'razed',\n 'possible',\n 'meltdown',\n 'lot',\n 'isis',\n 'hostage',\n 'famine',\n 'electrocuted',\n 'ebay',\n 'dust',\n 'crush',\n 'collide',\n 'chemical',\n 'blew',\n 'bleeding',\n 'bioterror',\n 'against',\n 'zone',\n 'whats',\n 'use',\n 'twitter',\n 'tomorrow',\n 'sure',\n 'something',\n 'send',\n 'quarantine',\n 'plane',\n 'pkk',\n 'part',\n 'panicking',\n 'pandemonium',\n 'oh',\n 'must',\n 'longer',\n 'long',\n 'left',\n 'hijacker',\n 'heart',\n 'government',\n 'goes',\n 'due',\n 'didnt',\n 'detonated',\n 'desolation',\n 'collision',\n 'catastrophic',\n 'casualties',\n 'calgary',\n 'building',\n 'beautiful',\n 'bagging',\n 'affected',\n 'yet',\n 'volcano',\n 'very',\n 'thanks',\n 'st',\n 'screamed',\n 'river',\n 'riot',\n 'reunion',\n 'responders',\n 'red',\n 'obliteration',\n 'obliterated',\n 'nothing',\n 'music',\n 'minute',\n 'lava',\n 'land',\n 'hijacking',\n 'fatality',\n 'fan',\n 'drowned',\n 'detonation',\n 'demolish',\n 'cool',\n 'blast',\n 'believe',\n 'baby',\n 'used',\n 'ur',\n 'three',\n 'thought',\n 'sound',\n 'song',\n 'site',\n 'sirens',\n 'shoulder',\n 'seismic',\n 'same',\n 'prebreak',\n 'power',\n 'officials',\n 'obliterate',\n 'few',\n 'eyewitness',\n 'died',\n 'demolished',\n 'care',\n 'arson',\n 'airport',\n '9',\n 'turkey',\n 'traffic',\n 'such',\n 'stay',\n 'start',\n 'snowstorm',\n 'shooting',\n 'rubble',\n 'remember',\n 'rainstorm',\n 'murderer',\n 'media',\n 'making',\n 'kids',\n 'issues',\n 'israeli',\n 'india',\n 'having',\n 'far',\n 'evacuated',\n 'electrocute',\n 'doing',\n 'doesnt',\n 'derailed',\n 'demolition',\n 'crushed',\n 'brown',\n 'blazing',\n 'annihilated',\n '8',\n '7',\n '16yr',\n 'yes',\n 'wake',\n 'suspect',\n 'south',\n 'shot',\n 'reactor',\n 'policy',\n 'nowplaying',\n 'nearby',\n 'line',\n 'light',\n 'lets',\n 'leave',\n 'inside',\n 'horror',\n 'hijack',\n 'hell',\n 'health',\n 'gets',\n 'casualty',\n 'bc',\n 'already',\n 'actually',\n 'words',\n 'upheaval',\n 'trying',\n 'tornado',\n 'tell',\n 'sue',\n 'stretcher',\n 'second',\n 're\\x89Û',\n 'plans',\n 'pic',\n 'mp',\n 'men',\n 'maybe',\n 'low',\n 'lab',\n 'islam',\n 'hours',\n 'history',\n 'half',\n 'guys',\n 'fun',\n 'fight',\n 'done',\n 'deluged',\n 'declares',\n 'days',\n 'bodies',\n 'bestnaijamade',\n 'anything',\n 'almost',\n '20',\n '\\x89ÛÓ',\n 'wont',\n 'swallowed',\n 'support',\n 'street',\n 'searching',\n 'reuters',\n 'play',\n 'place',\n 'photos',\n 'person',\n 'peace',\n 'online',\n 'north',\n 'literally',\n 'hey',\n 'helicopter',\n 'find',\n 'cyclone',\n 'crews',\n 'business',\n 'bush',\n 'both',\n 'bioterrorism',\n 'bar',\n 'avalanche',\n 'aircraft',\n 'abc',\n '50',\n 'yeah',\n 'west',\n 'wait',\n 'typhoondevastated',\n 'theyre',\n 'siren',\n 'saipan',\n 'pick',\n 'name',\n 'money',\n 'la',\n 'kill',\n 'job',\n 'hellfire',\n 'hear',\n 'happy',\n 'eyes',\n 'die',\n 'data',\n 'conclusively',\n 'children',\n 'blight',\n 'blaze',\n 'ago',\n 'waves',\n 'trench',\n 'texas',\n 'team',\n 'space',\n 'projected',\n 'probably',\n 'picking',\n 'own',\n 'order',\n 'myself',\n 'memories',\n 'major',\n 'm',\n 'lost',\n 'jobs',\n 'hollywood',\n 'feared',\n 'effect',\n 'deal',\n 'd',\n 'center',\n 'case',\n 'book',\n 'bigger',\n 'anyone',\n 'american',\n 'ablaze',\n '12',\n '10',\n 'yourself',\n 'watching',\n 'tv',\n 'transport',\n 'town',\n 'spot',\n 'soudelor',\n 'ship',\n 'seen',\n 'saved',\n 'pretty',\n 'outside',\n 'officer',\n 'mom',\n 'miners',\n 'meek',\n 'leather',\n 'houses',\n 'hat',\n 'hard',\n 'flag',\n 'everything',\n 'daily',\n 'child',\n 'chance',\n 'called',\n 'banned',\n 'ball',\n 'annihilation',\n 'amid',\n '30',\n 'wow',\n 'trains',\n 'though',\n 'star',\n 'signs',\n 'side',\n 'shes',\n 'self',\n 'rise',\n 'refugio',\n 'rd',\n 'poor',\n 'once',\n 'okay',\n 'n',\n 'move',\n 'might',\n 'manslaughter',\n 'makes',\n 'hailstorm',\n 'gbbo',\n 'friends',\n 'flash',\n 'fast',\n 'emmerdale',\n 'east',\n 'desolate',\n 'damn',\n 'crisis',\n 'crazy',\n 'course',\n 'couple',\n 'country',\n 'costlier',\n 'centre',\n 'caught',\n 'cake',\n 'blizzard',\n 'become',\n 'angry',\n 'alone',\n 'youth',\n 'wrong',\n 'win',\n 'vs',\n 'virgin',\n 'truth',\n 'temple',\n 'sorry',\n 'reports',\n 'reason',\n 'playing',\n 'pain',\n 'omg',\n 'official',\n 'myanmar',\n 'mayhem',\n 'looking',\n 'listen',\n 'level',\n 'ladies',\n 'knock',\n 'isnt',\n 'ignition',\n 'huge',\n 'heavy',\n 'hate',\n 'guy',\n 'gun',\n 'global',\n 'finally',\n 'feeling',\n 'eye',\n 'downtown',\n 'control',\n 'computers',\n 'closed',\n 'class',\n 'beach',\n 'bbc',\n 'b',\n 'appears',\n 'across',\n '60',\n '13',\n '11yearold',\n 'yours',\n 'womens',\n 'wanted',\n 'view',\n 'usa',\n 'united',\n 'try',\n 'totally',\n 'toddler',\n 'till',\n 'thousands',\n 'takes',\n 'taken',\n 't',\n 'stand',\n 'russian',\n 'running',\n 'reddits',\n 'quiz',\n 'pay',\n 'pakistan',\n 'others',\n 'mop',\n 'marks',\n 'mad',\n 'link',\n 'libya',\n 'issued',\n 'instead',\n 'happened',\n 'gt',\n 'giant',\n 'gems',\n 'gave',\n 'front',\n 'follow',\n 'film',\n 'experts',\n 'else',\n 'drive',\n 'devastated',\n 'declaration',\n 'coaches',\n 'cnn',\n 'christian',\n 'anthrax',\n 'aftershock',\n '11',\n 'worst',\n 'working',\n 'village',\n 'vehicle',\n 'unconfirmed',\n 'thursday',\n 'talk',\n 'subreddits',\n 'sounds',\n 'shows',\n 'scared',\n 'ready',\n 'potus',\n 'park',\n 'niggas',\n 'neighbours',\n 'nagasaki',\n 'mount',\n 'miss',\n 'mishaps',\n 'lord',\n 'led',\n 'learn',\n 'large',\n 'landing',\n 'israel',\n 'haha',\n 'gop',\n 'germs',\n 'galactic',\n 'fukushima',\n 'following',\n 'favorite',\n 'escape',\n 'entire',\n 'ebola',\n 'driving',\n 'download',\n 'climate',\n 'chinas',\n 'china',\n 'cars',\n 'behind',\n 'aug',\n 'arsonist',\n 'aint',\n 'added',\n 'action',\n '25',\n '100',\n '05',\n 'wonder',\n 'tweet',\n 'turn',\n 'trust',\n 'tree',\n 'told',\n 'sign',\n 'safety',\n 'russia',\n 'rules',\n 'rock',\n 'reported',\n 'radio',\n 'r',\n 'pray',\n 'pradesh',\n 'ppl',\n 'point',\n 'patience',\n 'party',\n 'parole',\n 'pamela',\n 'pakistani',\n 'outrage',\n 'offensive',\n 'nws',\n 'needs',\n 'nearly',\n 'muslims',\n 'morning',\n 'moment',\n ...]"
     },
     "execution_count": 23,
     "metadata": {},
     "output_type": "execute_result"
    }
   ],
   "source": [
    "# Choose random sentence from the training dataset and tokenize it\n",
    "rand_train_sentence = random.choice(train_sentences)\n",
    "print(f\"Original text: \\n\\n {rand_train_sentence} \\n\\nVectorized text:\")\n",
    "text_vectorizer([rand_train_sentence])"
   ],
   "metadata": {
    "collapsed": false,
    "ExecuteTime": {
     "end_time": "2023-07-30T14:50:41.853223Z",
     "start_time": "2023-07-30T14:50:41.812265900Z"
    }
   },
   "id": "4f30ca7e95b2b5e5"
  },
  {
   "cell_type": "code",
   "execution_count": 24,
   "outputs": [
    {
     "data": {
      "text/plain": "10000"
     },
     "execution_count": 24,
     "metadata": {},
     "output_type": "execute_result"
    }
   ],
   "source": [
    "# Get unique words in the vocabulary\n",
    "words_in_vocab = text_vectorizer.get_vocabulary()\n",
    "words_in_vocab"
   ],
   "metadata": {
    "collapsed": false,
    "ExecuteTime": {
     "end_time": "2023-07-30T14:50:41.853223Z",
     "start_time": "2023-07-30T14:50:41.828992300Z"
    }
   },
   "id": "a9796849d92692a"
  },
  {
   "cell_type": "code",
   "execution_count": 25,
   "outputs": [
    {
     "data": {
      "text/plain": "['', '[UNK]', 'the', 'a', 'in']"
     },
     "execution_count": 25,
     "metadata": {},
     "output_type": "execute_result"
    }
   ],
   "source": [
    "len(words_in_vocab)"
   ],
   "metadata": {
    "collapsed": false,
    "ExecuteTime": {
     "end_time": "2023-07-30T14:50:41.854222800Z",
     "start_time": "2023-07-30T14:50:41.831506700Z"
    }
   },
   "id": "1fc1d49d18c2f968"
  },
  {
   "cell_type": "code",
   "execution_count": 26,
   "outputs": [
    {
     "data": {
      "text/plain": "['pakthey', 'pakistan\\x89Ûªs', 'pakistans', 'pajamas', 'paints']"
     },
     "execution_count": 26,
     "metadata": {},
     "output_type": "execute_result"
    }
   ],
   "source": [
    "# Top 5 words in words_in_vocab\n",
    "words_in_vocab[:5]"
   ],
   "metadata": {
    "collapsed": false,
    "ExecuteTime": {
     "end_time": "2023-07-30T14:50:41.854222800Z",
     "start_time": "2023-07-30T14:50:41.836046900Z"
    }
   },
   "id": "60913b2c06167547"
  },
  {
   "cell_type": "code",
   "execution_count": null,
   "outputs": [],
   "source": [
    "# Least 5 words in words_in_vocab\n",
    "words_in_vocab[-5:]"
   ],
   "metadata": {
    "collapsed": false
   },
   "id": "4b66d97a81a1ab9b"
  },
  {
   "cell_type": "markdown",
   "source": [
    "### Embedding layer\n",
    "\n",
    "To make our embedding, we are going to use TensorFlow’s embedding layer: https://www.tensorflow.org/api/docs/python/tf/keras/layers/\n",
    "\n",
    "The parameters are below mostly used.\n",
    "* input_dim = size of the vocabulary\n",
    "* output_dim = size of the output embedding vector.  For example, a value of 100 would mean each token gets represented by a vector 100 long\n",
    "* input_length = length of the sequences being passed to the embedding layer"
   ],
   "metadata": {
    "collapsed": false,
    "ExecuteTime": {
     "end_time": "2023-07-30T14:50:41.854222800Z",
     "start_time": "2023-07-30T14:50:41.840709900Z"
    }
   },
   "id": "4d47ece46e5b3070"
  },
  {
   "cell_type": "code",
   "execution_count": 28,
   "outputs": [
    {
     "name": "stdout",
     "output_type": "stream",
     "text": [
      "Original text: I was over here dreaming peacefully then that loud ass thunder wanted to scare me. ??\n",
      "\n",
      "Vectorized text: [[   8   23   60  127 5720 4914  139   16  287  222  281  872    5 4657\n",
      "    27]]\n",
      "\n",
      "Vectorized text shape: (1, 15)\n",
      "Embbedded text: [[[ 4.38363887e-02  1.61645450e-02 -1.19280107e-02  4.27300818e-02\n",
      "   -1.52721033e-02  2.54082195e-02 -3.46772745e-03  2.12511085e-02\n",
      "   -4.70531844e-02 -3.58027704e-02  1.06681362e-02  1.07223988e-02\n",
      "    4.57119085e-02 -6.90912083e-03  1.81941874e-02 -1.14613399e-02\n",
      "    4.30087000e-03 -6.01671636e-04 -3.05927284e-02 -4.89387289e-02\n",
      "    3.21773030e-02  2.90276743e-02 -2.46511586e-02 -1.50955841e-03\n",
      "   -3.41611058e-02  1.74276941e-02  4.25140969e-02 -4.25025821e-02\n",
      "    3.83951515e-03  2.31327750e-02 -3.21515091e-02 -7.89570808e-03\n",
      "   -2.11481340e-02 -3.37612852e-02  4.14706506e-02  2.45304815e-02\n",
      "   -1.58945434e-02 -1.63941383e-02  3.60054262e-02  3.04556154e-02\n",
      "    3.68481912e-02 -3.67653966e-02 -4.70205806e-02  3.00331004e-02\n",
      "    2.73678191e-02 -4.99362722e-02  7.16400146e-03  1.60131492e-02\n",
      "    1.58035047e-02 -4.38802019e-02 -3.27680595e-02  8.85445997e-03\n",
      "    2.66903974e-02  4.68608402e-02 -2.68132687e-02  2.19689049e-02\n",
      "    7.57146627e-04 -4.66275699e-02 -3.74271162e-02 -4.80681323e-02\n",
      "    5.43174893e-03  3.14093344e-02 -3.08403019e-02  2.33707316e-02]\n",
      "  [-7.37122446e-03  1.15396380e-02  3.28392275e-02 -1.77385807e-02\n",
      "    2.23552696e-02  1.52616166e-02  3.45415957e-02 -2.05984116e-02\n",
      "   -2.39926577e-03 -4.13024202e-02 -4.09978256e-02 -1.02366321e-02\n",
      "    2.94371583e-02 -4.53258157e-02 -3.24034318e-02  2.74704434e-02\n",
      "   -2.61870380e-02  3.55597399e-02  4.06892560e-02  3.76491286e-02\n",
      "    3.03607322e-02  3.53587605e-02 -3.13045830e-03  1.34491585e-02\n",
      "   -2.59032976e-02  4.18274514e-02  4.31093611e-02  5.33031300e-03\n",
      "   -2.44662650e-02 -3.08253765e-02  1.27359368e-02  1.11722462e-02\n",
      "    3.79384048e-02  8.34728405e-03  4.56684120e-02 -4.06190977e-02\n",
      "    3.64243984e-04  4.81711701e-03  4.71211970e-04  3.59794237e-02\n",
      "   -3.97581086e-02  3.62685658e-02 -3.55093479e-02  3.89011763e-02\n",
      "    4.80262749e-02 -3.08649614e-03  4.02415730e-02  2.18098797e-02\n",
      "    3.07153910e-04  4.86549623e-02 -3.18292379e-02  7.37915188e-03\n",
      "    5.63857704e-03  1.81311034e-02  1.13775507e-02 -2.33163834e-02\n",
      "    1.35733001e-02  1.85987018e-02 -6.82448223e-03 -2.56334301e-02\n",
      "    1.01907477e-02 -1.04233846e-02  2.00618990e-02 -3.48464362e-02]\n",
      "  [ 5.48812002e-03  3.65996845e-02 -3.66695970e-03 -2.56725438e-02\n",
      "    6.36528805e-03  1.35833360e-02 -2.43408568e-02 -1.25632882e-02\n",
      "    2.29595415e-02  2.90927403e-02 -9.09879059e-03 -2.28048488e-03\n",
      "    2.69848369e-02  9.69512388e-03 -4.60522436e-02 -1.35730952e-04\n",
      "    4.89903428e-02 -1.29731409e-02  4.38083522e-02 -3.84458527e-02\n",
      "    3.73453535e-02  9.62525606e-03 -3.63625064e-02  4.51989099e-03\n",
      "    1.38357542e-02  2.97579505e-02 -4.42174450e-02 -2.06265096e-02\n",
      "    3.59189995e-02  1.87271722e-02  2.99416482e-04  3.14211957e-02\n",
      "   -3.05066351e-02  4.94295247e-02 -2.57480741e-02  3.00968774e-02\n",
      "   -4.33092378e-02  3.28717493e-02 -1.22114196e-02  1.27128251e-02\n",
      "    5.76692820e-03  1.61513425e-02 -2.84671783e-04 -3.03814560e-03\n",
      "    3.16306986e-02 -3.05119753e-02  2.41470337e-03  1.81084611e-02\n",
      "    1.55856945e-02 -3.63756046e-02  3.24577093e-03  1.83863752e-02\n",
      "    3.51711772e-02  2.53043287e-02 -1.53855793e-02 -4.24488895e-02\n",
      "    1.95634998e-02  3.13527323e-02 -1.23918056e-02 -4.18490395e-02\n",
      "    2.61596553e-02  4.05612849e-02 -1.64283030e-02 -4.38295007e-02]\n",
      "  [ 2.88684703e-02 -9.76947695e-03  4.88379486e-02 -1.60015933e-02\n",
      "    2.58504041e-02 -4.21503298e-02  4.29493897e-02 -3.63988057e-02\n",
      "   -8.03464651e-03  4.34266813e-02 -2.84620412e-02 -4.12066467e-02\n",
      "    2.80029885e-02  2.48485245e-02 -3.15256119e-02 -2.23400593e-02\n",
      "    2.81207450e-02 -3.34952101e-02 -8.13461840e-04  2.72255279e-02\n",
      "   -4.38780449e-02 -3.61294262e-02 -1.63809657e-02 -2.73089409e-02\n",
      "   -1.30493417e-02  1.20402686e-02 -3.44214588e-03  3.63243558e-02\n",
      "    2.64316536e-02  5.00835478e-04 -3.04140449e-02  4.95597161e-02\n",
      "    3.31438445e-02 -5.56930900e-05 -3.17926034e-02 -4.99630347e-02\n",
      "   -4.17883024e-02 -1.95279364e-02  8.60345364e-03  1.66803636e-02\n",
      "    4.43204679e-02 -3.19842249e-02  1.97372586e-03 -3.08468826e-02\n",
      "   -3.63836773e-02  3.85421850e-02 -1.64766684e-02 -2.14442369e-02\n",
      "    1.12673044e-02 -1.84554681e-02 -3.46783511e-02  2.58568563e-02\n",
      "    3.22638415e-02  3.53757404e-02  4.56914417e-02 -1.58504955e-02\n",
      "    3.01750414e-02  2.33277194e-02  3.21683921e-02  1.13519207e-02\n",
      "   -4.98892926e-02 -4.68054675e-02 -8.94130394e-03 -3.22684534e-02]\n",
      "  [ 4.38345112e-02 -2.61408091e-02  4.20079939e-02 -3.29797491e-02\n",
      "   -2.61512529e-02  4.55572344e-02 -4.91775535e-02 -1.44806020e-02\n",
      "    9.59359482e-03 -2.22436786e-02  2.04946660e-02 -7.79188797e-03\n",
      "   -4.13913950e-02  4.03010957e-02  1.39593370e-02  4.49256040e-02\n",
      "   -1.00308657e-03 -1.44016147e-02 -3.51503268e-02  3.52571942e-02\n",
      "   -4.89287972e-02  4.07315604e-02  1.76280253e-02  1.71367265e-02\n",
      "    3.91516425e-02  2.38507502e-02 -3.52762118e-02 -2.99147256e-02\n",
      "   -7.14092329e-03 -3.15353870e-02 -1.39502995e-02 -1.81872025e-02\n",
      "    3.34281065e-02 -3.88237834e-02  2.84399725e-02  4.04154137e-03\n",
      "    4.14020307e-02 -1.01518631e-02 -2.72190329e-02  2.39414908e-02\n",
      "    1.01269707e-02 -1.84850469e-02 -4.11326177e-02  2.30385996e-02\n",
      "    3.91176604e-02  1.28938816e-02  3.44698168e-02 -3.17590013e-02\n",
      "   -6.65972382e-03  1.87680386e-02 -1.46386623e-02  4.81548421e-02\n",
      "    2.20879428e-02 -2.98815854e-02 -9.95675474e-03  1.85104646e-02\n",
      "   -1.35066397e-02  1.37130059e-02 -1.52211078e-02  3.10182571e-04\n",
      "    2.75071710e-03 -4.01845090e-02 -3.85651477e-02  3.51248272e-02]\n",
      "  [ 7.86857679e-03 -3.18506137e-02 -2.38453988e-02 -1.00184307e-02\n",
      "    2.80103795e-02 -8.59288126e-03 -1.32472292e-02 -1.59702785e-02\n",
      "    1.83494128e-02  4.28831913e-02 -2.02763081e-03  2.58300789e-02\n",
      "   -4.41684499e-02 -1.33391507e-02  2.39779837e-02  9.73983854e-03\n",
      "   -4.35241349e-02 -4.79563326e-03  1.83530934e-02 -7.81834126e-03\n",
      "   -1.47322305e-02 -8.35943222e-03  1.58592500e-02  1.92592852e-02\n",
      "   -4.53000441e-02  2.33871676e-02  1.28405802e-02 -1.04062334e-02\n",
      "    1.63737200e-02 -1.42258182e-02 -2.95769051e-03 -1.49801970e-02\n",
      "    3.94026749e-02  8.61002132e-03  2.54387520e-02  3.90034914e-03\n",
      "   -2.03904640e-02  1.92096867e-02 -2.83407923e-02  4.76558842e-02\n",
      "    1.89036168e-02  4.10320051e-02  4.51343134e-03 -1.91841610e-02\n",
      "    1.74795873e-02 -1.07381940e-02 -3.91563065e-02  4.53159325e-02\n",
      "   -2.41611358e-02  7.81537220e-03  3.79484035e-02 -3.55069526e-02\n",
      "    8.22572783e-03 -4.38750908e-03  3.14197652e-02 -7.75444508e-03\n",
      "    1.59996040e-02 -2.82194372e-02  4.06975485e-02 -2.32248660e-02\n",
      "    3.22773345e-02  4.63572778e-02 -4.90995422e-02  2.13638693e-03]\n",
      "  [-2.52714511e-02  2.28072144e-02 -1.53411180e-04 -2.71384716e-02\n",
      "   -5.65221161e-03  1.46195181e-02 -3.63693722e-02  4.23327349e-02\n",
      "    1.81840770e-02 -2.71899588e-02  3.81049030e-02 -2.19698995e-03\n",
      "    4.43061255e-02 -2.21833345e-02 -4.30808328e-02  1.67950727e-02\n",
      "    9.09898430e-03 -3.92099023e-02  1.15193352e-02 -1.51584521e-02\n",
      "   -3.28041688e-02 -4.22097221e-02 -3.23474631e-02 -3.37563902e-02\n",
      "    4.82653417e-02  4.29147519e-02  1.54317878e-02 -7.94865191e-04\n",
      "    3.13140266e-02 -1.59760341e-02  1.73954405e-02 -4.20549996e-02\n",
      "   -3.28910351e-03  4.84255292e-02 -4.68769930e-02  1.64108016e-02\n",
      "   -4.64890115e-02 -4.44475897e-02 -2.73660067e-02 -1.39146559e-02\n",
      "   -4.76179123e-02  1.35466941e-02 -1.01059452e-02 -4.71898429e-02\n",
      "   -1.36566274e-02 -8.23603943e-03  4.39496972e-02  3.00375335e-02\n",
      "    3.08741964e-02  2.51342393e-02  2.55279802e-02 -3.23926695e-02\n",
      "   -2.47295499e-02 -1.00116357e-02 -9.13324207e-03 -2.10256707e-02\n",
      "    2.93527283e-02 -3.21262702e-02 -2.88621671e-02  1.02697834e-02\n",
      "    4.85914461e-02 -1.89510230e-02 -1.30911842e-02  3.35678793e-02]\n",
      "  [-1.54765733e-02  2.72644646e-02 -2.86758300e-02 -9.63164493e-03\n",
      "   -1.33293159e-02  1.41323544e-02  3.83172184e-03  4.59336154e-02\n",
      "    2.13474073e-02 -4.42181490e-02 -2.64486559e-02 -6.91489130e-03\n",
      "   -2.88609862e-02 -6.06290251e-03  4.73310836e-02 -1.93145126e-03\n",
      "   -6.21964782e-03  2.21783556e-02  4.58646901e-02  2.98745297e-02\n",
      "    4.88510765e-02  1.64357312e-02  1.83608569e-02 -2.93547399e-02\n",
      "    1.03966706e-02 -2.62504816e-03 -7.10786507e-03  4.50267307e-02\n",
      "    1.42781623e-02 -1.41320005e-02 -6.44674152e-03  1.30346082e-02\n",
      "    3.92207243e-02  1.70186646e-02 -2.20774058e-02  4.53246571e-02\n",
      "   -3.38559374e-02  4.25292961e-02  1.94610842e-02 -4.94597927e-02\n",
      "    3.07433642e-02  3.61955650e-02 -2.09087133e-03  6.37568533e-04\n",
      "   -2.95395013e-02  4.44566645e-02 -1.30879991e-02  1.06330290e-02\n",
      "   -1.65669322e-02  4.41412963e-02 -4.26518917e-02  3.40345241e-02\n",
      "   -1.80677325e-03  6.34551048e-04  3.52234580e-02 -3.20369154e-02\n",
      "   -5.23637608e-03 -2.65257843e-02  2.68449672e-02 -4.65372801e-02\n",
      "   -4.11859900e-03 -2.00695526e-02  1.81895010e-02  4.51217927e-02]\n",
      "  [-4.41127196e-02  4.30740751e-02  4.19780053e-02 -2.40608454e-02\n",
      "    4.01657820e-03 -4.93294373e-02 -4.24689427e-02  2.89548151e-02\n",
      "   -2.78630257e-02  2.08976977e-02  1.96294226e-02 -4.62062955e-02\n",
      "   -3.38069201e-02 -1.70387998e-02 -4.14858945e-02 -4.01546359e-02\n",
      "   -2.77593378e-02 -1.78638585e-02  4.72703241e-02 -4.21718583e-02\n",
      "    1.35678388e-02  1.13515630e-02 -4.83062044e-02  3.14591862e-02\n",
      "    5.98744303e-03  6.65963814e-03 -3.70985866e-02  4.08587940e-02\n",
      "   -2.29162462e-02 -4.22523394e-02  1.70888342e-02  2.86621787e-02\n",
      "   -2.53270511e-02 -2.27605943e-02 -4.06802408e-02  2.12908275e-02\n",
      "    1.39557831e-02  4.61136810e-02  4.54262644e-03 -5.73177263e-03\n",
      "    1.84758343e-02  1.95252933e-02 -3.58539596e-02  4.57868092e-02\n",
      "   -4.33572531e-02  7.75150210e-03  3.33542712e-02  5.59413433e-03\n",
      "    3.65905836e-03  3.74656804e-02 -7.51411915e-03  4.90014628e-03\n",
      "   -1.26614943e-02 -1.77778117e-02 -2.44664308e-02  4.18401249e-02\n",
      "    3.20048667e-02 -2.89544109e-02 -3.16233560e-03 -3.06981690e-02\n",
      "    4.17057611e-02  3.87566127e-02 -1.41324028e-02  2.05829628e-02]\n",
      "  [-1.74110904e-02 -2.91706566e-02  2.29194425e-02  1.53484233e-02\n",
      "    4.62391227e-03  2.75249518e-02  4.00357582e-02  1.18443742e-02\n",
      "   -6.48728758e-03  3.59866954e-02  1.54346861e-02  3.90951149e-02\n",
      "    1.57936700e-02 -4.87207286e-02  4.60187458e-02  3.05615775e-02\n",
      "    2.68913545e-02 -1.34172328e-02  1.63447745e-02  4.76092137e-02\n",
      "    2.53802575e-02 -2.36491915e-02  1.46515258e-02  4.47139032e-02\n",
      "    4.22844626e-02  5.09019941e-03 -1.39481798e-02  2.27260925e-02\n",
      "    1.08794197e-02  4.96836789e-02 -9.80018452e-03 -2.60012988e-02\n",
      "    4.08556946e-02 -4.76227775e-02 -6.59490749e-03  6.92806393e-03\n",
      "    4.13452648e-02 -2.48882528e-02  1.16567723e-02  2.55441405e-02\n",
      "   -1.01430789e-02  4.85801958e-02  7.57791102e-04  3.81758101e-02\n",
      "   -1.39359720e-02 -4.17287722e-02  3.98268737e-02 -2.98159011e-02\n",
      "    1.74235180e-03  4.18956988e-02  4.43086885e-02  4.22776379e-02\n",
      "   -4.59900759e-02  2.75227539e-02  2.98818089e-02  4.64234389e-02\n",
      "   -3.03978845e-03 -4.95627783e-02 -1.78107247e-02 -1.11365207e-02\n",
      "   -4.38940786e-02 -3.53330001e-02  4.14561108e-03 -2.69912966e-02]\n",
      "  [-3.05821784e-02  2.05809996e-03  1.69331171e-02  7.02593476e-03\n",
      "    1.92368887e-02  4.94343676e-02 -2.96087619e-02  2.36196779e-02\n",
      "    2.80987360e-02  4.75873686e-02  1.69935860e-02  2.08298825e-02\n",
      "   -1.50227435e-02 -4.17947061e-02 -3.26175094e-02 -1.48598328e-02\n",
      "   -1.55292377e-02 -1.92687754e-02 -3.06892153e-02 -5.71179390e-03\n",
      "    2.53901817e-02 -1.84239969e-02  4.45090644e-02  2.99868621e-02\n",
      "   -1.97572000e-02 -9.90470499e-03  4.92311008e-02  2.11982243e-02\n",
      "   -4.37047482e-02 -2.71387454e-02 -3.55659798e-03  6.01190329e-03\n",
      "    1.80062093e-02 -1.19052306e-02  2.35568993e-02 -3.88900638e-02\n",
      "   -4.17124145e-02  3.98259275e-02 -1.83425434e-02  1.57459415e-02\n",
      "    5.43193892e-03  3.11581977e-02 -2.50842925e-02  4.10753824e-02\n",
      "    1.94593705e-02  4.64204885e-02 -4.05047312e-02 -3.29978354e-02\n",
      "   -3.44987996e-02 -4.93210442e-02 -8.57196003e-03  1.12583488e-03\n",
      "   -4.62111011e-02 -7.06113502e-03  4.82517742e-02 -4.34905179e-02\n",
      "   -3.62289771e-02 -3.91343608e-02  4.80337851e-02  2.72665508e-02\n",
      "    3.01480293e-03  4.87793423e-02  5.34716994e-03 -3.58757749e-02]\n",
      "  [ 4.40464877e-02  3.94318737e-02  3.58223356e-02 -4.48770523e-02\n",
      "   -4.01552767e-03  1.99503824e-03  1.27717517e-02  1.53671987e-02\n",
      "    5.88186830e-03  5.25748730e-03  6.89660385e-03  2.46562101e-02\n",
      "   -1.40339136e-03  2.84488089e-02  3.21159624e-02 -5.22815064e-03\n",
      "   -9.37307999e-03 -1.98441148e-02  4.89609279e-02 -4.91151214e-02\n",
      "    1.81410462e-03 -2.62964498e-02 -9.01516527e-03  2.09585913e-02\n",
      "    2.41298787e-02  6.63608313e-03 -7.95054436e-03  2.98401825e-02\n",
      "   -7.49493763e-03  3.41303237e-02  5.43514639e-03  4.21002991e-02\n",
      "    2.24443786e-02  2.82493979e-03 -6.93112612e-03  4.77636121e-02\n",
      "    1.78882964e-02  3.52186076e-02  2.50474326e-02  2.20174231e-02\n",
      "    3.78562324e-02 -8.12200457e-03 -3.15323360e-02  4.28944714e-02\n",
      "    3.44050191e-02 -2.48127468e-02 -4.53315042e-02  2.34703682e-02\n",
      "    4.90585454e-02  1.94342472e-02  1.14632621e-02  9.70423222e-03\n",
      "    2.41519101e-02 -1.99816227e-02 -4.38763388e-02 -2.61559021e-02\n",
      "   -4.12948243e-02 -3.88808176e-03 -1.30856745e-02 -4.04076651e-03\n",
      "    8.01265240e-04  4.49873693e-02  2.82890722e-03  1.80406086e-02]\n",
      "  [ 6.09245151e-03  4.99477647e-02 -4.20057774e-02 -1.38011351e-02\n",
      "   -3.20841819e-02  1.41840614e-02  2.58687027e-02  1.31613500e-02\n",
      "    4.19350527e-02  1.21175162e-02  3.06171663e-02 -4.14809473e-02\n",
      "   -1.76485181e-02 -4.75187898e-02 -2.12257747e-02 -4.46582697e-02\n",
      "    4.44117896e-02  3.94576788e-03  4.02361788e-02  2.67144330e-02\n",
      "   -4.11363356e-02 -3.13275233e-02  3.39496881e-04  1.24357343e-02\n",
      "    2.65916921e-02 -4.66365740e-03 -9.89440829e-03 -3.70338187e-02\n",
      "    2.43477114e-02 -4.84857447e-02  3.12765688e-03 -1.98487528e-02\n",
      "   -9.46044922e-03 -3.54266055e-02  4.67478670e-02 -2.19309218e-02\n",
      "   -3.27859744e-02  6.18975237e-03 -2.31838953e-02 -3.65703106e-02\n",
      "    1.28994919e-02 -1.44431479e-02  4.88338135e-02  4.92043421e-03\n",
      "   -1.46326646e-02  8.52526352e-03  2.98379995e-02  6.57547265e-04\n",
      "   -5.14854118e-03  1.26583911e-02 -4.62805890e-02  3.87702473e-02\n",
      "    3.65726836e-02 -3.47707048e-02 -1.10979080e-02 -3.41039188e-02\n",
      "    3.06860842e-02 -1.76913366e-02  3.03796679e-03 -7.02454895e-03\n",
      "   -4.79848385e-02 -1.53154358e-02 -4.28510681e-02 -4.83473428e-02]\n",
      "  [-1.22255906e-02  5.59715182e-03  4.76273149e-03 -2.37914678e-02\n",
      "    3.52864973e-02  2.35208981e-02  1.26197077e-02 -2.95735523e-03\n",
      "    3.19285281e-02 -2.36257557e-02  2.56219171e-02 -9.22065973e-03\n",
      "   -3.38861495e-02  1.84482075e-02  1.21171474e-02  2.17346661e-02\n",
      "   -6.35527074e-04 -4.15547006e-02  3.48622091e-02 -7.80025870e-03\n",
      "   -4.25540581e-02  4.78862189e-02 -3.72958779e-02  4.72182669e-02\n",
      "    1.99188478e-02 -4.31465767e-02  3.14374007e-02 -1.68471932e-02\n",
      "   -2.08902117e-02  4.02933620e-02  2.56521739e-02 -3.53328809e-02\n",
      "    3.43347527e-02  3.12797539e-02  2.93494351e-02 -4.04284000e-02\n",
      "    2.25502513e-02  4.73134778e-02  4.13189419e-02  3.01750936e-02\n",
      "   -4.64576595e-02  3.62454392e-02 -1.75795928e-02 -4.78764176e-02\n",
      "   -6.17508963e-03 -2.44349241e-03 -3.08910497e-02  7.74159282e-03\n",
      "    7.16380030e-03 -1.29145980e-02  2.84183770e-04  3.74630727e-02\n",
      "   -2.99162753e-02  1.89808346e-02 -1.48744471e-02  4.69811074e-02\n",
      "    4.07377742e-02  1.78971402e-02 -3.68304364e-02 -4.50350903e-02\n",
      "    2.37563588e-02 -1.98841933e-02  7.68052414e-03 -1.53540000e-02]\n",
      "  [-4.10082117e-02  2.61124410e-02  2.29375623e-02  4.29779924e-02\n",
      "    2.97166221e-02 -2.97013167e-02  4.42621745e-02  1.55667998e-02\n",
      "    4.46961075e-03  6.59167767e-03  3.15952636e-02 -4.96484526e-02\n",
      "    3.01061310e-02  4.36103009e-02 -4.46398035e-02 -2.83017997e-02\n",
      "    2.09869854e-02  3.29753011e-03  1.56979896e-02 -3.66547592e-02\n",
      "    3.36973183e-02 -5.40220737e-03  3.12350057e-02  3.93888019e-02\n",
      "    2.89775245e-02  2.92503946e-02 -2.18120702e-02  2.62983888e-03\n",
      "    1.23942718e-02  3.97177003e-02  3.37154157e-02  2.43349336e-02\n",
      "    4.63963635e-02  4.13784124e-02 -3.31532843e-02 -3.20112109e-02\n",
      "    4.54551093e-02 -4.67276685e-02  5.29800728e-03  3.00369151e-02\n",
      "    4.25504930e-02  6.34635612e-03 -5.27613238e-03  1.26495697e-02\n",
      "   -3.38940173e-02  2.35778950e-02  2.07958259e-02  2.14595720e-03\n",
      "    1.66106485e-02  3.86966206e-02 -1.43719912e-02  1.88439004e-02\n",
      "   -4.16819677e-02  1.63768195e-02  1.80197880e-03 -8.28687102e-03\n",
      "    1.99740417e-02 -3.36910114e-02  2.55073570e-02 -8.02457333e-04\n",
      "   -3.35120186e-02 -3.98374721e-03  4.51148190e-02 -1.62424333e-02]]]\n",
      "Embedded text shape: (1, 15, 64)\n"
     ]
    }
   ],
   "source": [
    "from tensorflow.keras import layers\n",
    "\n",
    "embedding = layers.Embedding(input_dim = max_vocab_length,\n",
    "                             output_dim = 64,\n",
    "                             embeddings_initializer = \"uniform\",\n",
    "                             input_length = max_length)"
   ],
   "metadata": {
    "collapsed": false,
    "ExecuteTime": {
     "end_time": "2023-07-30T14:50:41.963026Z",
     "start_time": "2023-07-30T14:50:41.845223200Z"
    }
   },
   "id": "55b4d3e382cb85d7"
  },
  {
   "cell_type": "code",
   "execution_count": null,
   "outputs": [],
   "source": [
    "# Get a random sentence from the training set and return Original text, Vectorized text, Embedded text\n",
    "rand_sentence = random.choice(train_sentences)\n",
    "print(f\"Original text: {rand_sentence}\\n\")\n",
    "print(f\"Vectorized text: {text_vectorizer([rand_sentence])}\\n\")\n",
    "print(f\"Vectorized text shape: {text_vectorizer([rand_sentence]).shape}\")\n",
    "print(f\"Embbedded text: {embedding(text_vectorizer([rand_sentence]))}\")\n",
    "print(f\"Embedded text shape: {embedding(text_vectorizer([rand_sentence])).shape}\")"
   ],
   "metadata": {
    "collapsed": false
   },
   "id": "2d8028a4f822acb"
  },
  {
   "cell_type": "markdown",
   "source": [
    "### Model_3: GRU Model\n",
    "\n",
    "Another popular and effective RNN component is the Gated Recurrent Unit (GRU) Model. The GRU cell has an LSTM cell but has less parameters."
   ],
   "metadata": {
    "collapsed": false,
    "ExecuteTime": {
     "end_time": "2023-07-30T14:50:42.160610600Z",
     "start_time": "2023-07-30T14:50:41.878914700Z"
    }
   },
   "id": "9ff8174b6917751e"
  },
  {
   "cell_type": "code",
   "execution_count": 30,
   "outputs": [
    {
     "name": "stdout",
     "output_type": "stream",
     "text": [
      "Model: \"model_3_gru\"\n",
      "_________________________________________________________________\n",
      " Layer (type)                Output Shape              Param #   \n",
      "=================================================================\n",
      " input_1 (InputLayer)        [(None, 1)]               0         \n",
      "                                                                 \n",
      " text_vectorization (TextVe  (None, 15)                0         \n",
      " ctorization)                                                    \n",
      "                                                                 \n",
      " embedding (Embedding)       (None, 15, 64)            640000    \n",
      "                                                                 \n",
      " gru (GRU)                   (None, 15, 64)            24960     \n",
      "                                                                 \n",
      " lstm (LSTM)                 (None, 15, 32)            12416     \n",
      "                                                                 \n",
      " dense (Dense)               (None, 15, 64)            2112      \n",
      "                                                                 \n",
      " global_max_pooling1d (Glob  (None, 64)                0         \n",
      " alMaxPooling1D)                                                 \n",
      "                                                                 \n",
      " dense_1 (Dense)             (None, 1)                 65        \n",
      "                                                                 \n",
      "=================================================================\n",
      "Total params: 679553 (2.59 MB)\n",
      "Trainable params: 679553 (2.59 MB)\n",
      "Non-trainable params: 0 (0.00 Byte)\n",
      "_________________________________________________________________\n"
     ]
    }
   ],
   "source": [
    "# Build a RNN Model using GRU Cell\n",
    "\n",
    "from tensorflow.keras import layers\n",
    "inputs = layers.Input(shape = (1,), dtype = tf.string)\n",
    "x = text_vectorizer(inputs)\n",
    "x = embedding(x)\n",
    "x = layers.GRU(64, return_sequences = True)(x)\n",
    "x = layers.LSTM(32, return_sequences = True)(x)\n",
    "x = layers.Dense(64, activation = 'relu')(x)\n",
    "x = layers.GlobalMaxPool1D()(x)\n",
    "outputs = layers.Dense(1, activation = 'sigmoid')(x)\n",
    "model_3 = tf.keras.Model(inputs, outputs, name = 'model_3_gru')\n",
    "\n",
    "# Compile the model\n",
    "model_3.compile(loss = 'binary_crossentropy',\n",
    "                optimizer = tf.keras.optimizers.Adam(),\n",
    "                metrics = ['accuracy'])"
   ],
   "metadata": {
    "collapsed": false,
    "ExecuteTime": {
     "end_time": "2023-07-30T14:50:42.201845500Z",
     "start_time": "2023-07-30T14:50:42.161610800Z"
    }
   },
   "id": "9cba54b6eaed1676"
  },
  {
   "cell_type": "code",
   "execution_count": 31,
   "outputs": [
    {
     "name": "stdout",
     "output_type": "stream",
     "text": [
      "Epoch 1/5\n",
      "215/215 [==============================] - 5s 11ms/step - loss: 0.5180 - accuracy: 0.7383 - val_loss: 0.4718 - val_accuracy: 0.7808\n",
      "Epoch 2/5\n",
      "215/215 [==============================] - 2s 9ms/step - loss: 0.3221 - accuracy: 0.8682 - val_loss: 0.5118 - val_accuracy: 0.7782\n",
      "Epoch 3/5\n",
      "215/215 [==============================] - 2s 9ms/step - loss: 0.2314 - accuracy: 0.9143 - val_loss: 0.5730 - val_accuracy: 0.7730\n",
      "Epoch 4/5\n",
      "215/215 [==============================] - 2s 9ms/step - loss: 0.1708 - accuracy: 0.9413 - val_loss: 0.6247 - val_accuracy: 0.7598\n",
      "Epoch 5/5\n",
      "215/215 [==============================] - 2s 9ms/step - loss: 0.1348 - accuracy: 0.9543 - val_loss: 0.7491 - val_accuracy: 0.7585\n"
     ]
    }
   ],
   "source": [
    "model_3.summary()"
   ],
   "metadata": {
    "collapsed": false,
    "ExecuteTime": {
     "start_time": "2023-07-30T14:50:42.173841300Z"
    }
   },
   "id": "35f9cdf9d8ba57ae"
  },
  {
   "cell_type": "code",
   "execution_count": null,
   "outputs": [],
   "source": [
    "# Fit the model\n",
    "model_3_history = model_3.fit(train_sentences,\n",
    "                              train_labels,\n",
    "                              epochs = 5,\n",
    "                              validation_data = (val_sentences, val_labels))\n",
    "\n"
   ],
   "metadata": {
    "collapsed": false,
    "is_executing": true,
    "ExecuteTime": {
     "start_time": "2023-07-30T14:50:54.596464500Z"
    }
   },
   "id": "f427da2e047bd515"
  },
  {
   "cell_type": "code",
   "execution_count": null,
   "outputs": [],
   "source": [
    "# Make predictions \n",
    "model_3_pred_probs = model_3.predict(val_sentences)\n",
    "model_3_pred_probs[:5]"
   ],
   "metadata": {
    "collapsed": false,
    "is_executing": true
   },
   "id": "ea9b88ebdb67dc0a"
  },
  {
   "cell_type": "code",
   "execution_count": null,
   "outputs": [],
   "source": [
    "# Convert model_3 pred_prob to labels\n",
    "model_3_preds = tf.squeeze(tf.round(model_3_pred_probs))\n",
    "model_3_preds[:5]"
   ],
   "metadata": {
    "collapsed": false,
    "is_executing": true
   },
   "id": "13e4b58e3540412a"
  },
  {
   "cell_type": "code",
   "execution_count": null,
   "outputs": [],
   "source": [
    "# Evaluate the model by comparing the model_3_preds to val_labels\n",
    "from sklearn.metrics import accuracy_score, precision_recall_fscore_support\n",
    "\n",
    "model_3_accuracy_score = accuracy_score(val_labels, model_3_preds)\n",
    "model_3_precision, model_3_recall, model_3_fscore, _ =precision_recall_fscore_support(val_labels,\n",
    "                                                                                      model_3_preds, average=\"weighted\")"
   ],
   "metadata": {
    "collapsed": false,
    "is_executing": true
   },
   "id": "f191df8e68b8c7a1"
  },
  {
   "cell_type": "code",
   "execution_count": null,
   "outputs": [],
   "source": [
    "dict_result = {\"model_3_accuracy_score\": model_3_accuracy_score,\n",
    "               \"model_3_precision\": model_3_precision,\n",
    "               \"model_3_recall\": {model_3_recall},\n",
    "               \"model_3_f1score\": {model_3_fscore}}\n",
    "dict_result"
   ],
   "metadata": {
    "collapsed": false
   },
   "id": "3e290c224a4d30d7"
  }
 ],
 "metadata": {
  "kernelspec": {
   "display_name": "Python 3",
   "language": "python",
   "name": "python3"
  },
  "language_info": {
   "codemirror_mode": {
    "name": "ipython",
    "version": 2
   },
   "file_extension": ".py",
   "mimetype": "text/x-python",
   "name": "python",
   "nbconvert_exporter": "python",
   "pygments_lexer": "ipython2",
   "version": "2.7.6"
  }
 },
 "nbformat": 4,
 "nbformat_minor": 5
}
